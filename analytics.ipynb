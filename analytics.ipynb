{
 "cells": [
  {
   "cell_type": "markdown",
   "metadata": {
    "id": "YWg0s_uyOFIG"
   },
   "source": [
    "## Изучение данных"
   ]
  },
  {
   "metadata": {},
   "cell_type": "markdown",
   "source": [
    "Набор данных о зарплатах в сфере науки о данных содержит 11 столбцов, каждый из которых:\n",
    "\n",
    "* work_year: год выплаты зарплаты.\n",
    "* experience_level: уровень опыта работы в течение года\n",
    "* employment_type: тип занятости для должности\n",
    "* job_title: должность, в которой работал в течение года.\n",
    "* salary: общая сумма выплаченной валовой заработной платы.\n",
    "* salary_currency: валюта выплачиваемой заработной платы в соответствии с кодом валюты ISO 4217.\n",
    "* salaryinusd: зарплата в долларах США\n",
    "* employee_residence: основная страна проживания сотрудника в течение рабочего года в соответствии с кодом страны ISO 3166.\n",
    "* remote_ratio: общий объем работы, выполненной удаленно\n",
    "* company_location: страна расположения главного офиса или филиала работодателя\n",
    "* company_size: среднее количество людей, работавших в компании в течение года"
   ]
  },
  {
   "cell_type": "code",
   "metadata": {
    "colab": {
     "base_uri": "https://localhost:8080/"
    },
    "id": "iMbzKQlaOFIG",
    "executionInfo": {
     "status": "ok",
     "timestamp": 1732171601964,
     "user_tz": -180,
     "elapsed": 5163,
     "user": {
      "displayName": "Руслан Бурангулов",
      "userId": "16963811125706368813"
     }
    },
    "outputId": "5293d299-1dc8-4da1-8b36-8e0a9f14e67c",
    "ExecuteTime": {
     "end_time": "2024-11-28T08:52:32.888033Z",
     "start_time": "2024-11-28T08:52:32.101115Z"
    }
   },
   "source": [
    "!pip install phik==0.12.4\n",
    "\n",
    "\n",
    "import warnings\n",
    "\n",
    "import pandas as pd\n",
    "import numpy as np\n",
    "import matplotlib.pyplot as plt\n",
    "import seaborn as sns\n",
    "import phik\n",
    "\n",
    "pd.options.display.max_columns = None # полностью отображаем столбцы\n",
    "warnings.filterwarnings(\"ignore\")\n",
    "sns.set_style(\"whitegrid\")"
   ],
   "outputs": [
    {
     "name": "stdout",
     "output_type": "stream",
     "text": [
      "Requirement already satisfied: phik==0.12.4 in ./venv/lib/python3.12/site-packages (0.12.4)\r\n",
      "Requirement already satisfied: numpy>=1.18.0 in ./venv/lib/python3.12/site-packages (from phik==0.12.4) (1.26.4)\r\n",
      "Requirement already satisfied: scipy>=1.5.2 in ./venv/lib/python3.12/site-packages (from phik==0.12.4) (1.13.1)\r\n",
      "Requirement already satisfied: pandas>=0.25.1 in ./venv/lib/python3.12/site-packages (from phik==0.12.4) (2.2.3)\r\n",
      "Requirement already satisfied: matplotlib>=2.2.3 in ./venv/lib/python3.12/site-packages (from phik==0.12.4) (3.9.2)\r\n",
      "Requirement already satisfied: joblib>=0.14.1 in ./venv/lib/python3.12/site-packages (from phik==0.12.4) (1.4.2)\r\n",
      "Requirement already satisfied: contourpy>=1.0.1 in ./venv/lib/python3.12/site-packages (from matplotlib>=2.2.3->phik==0.12.4) (1.3.0)\r\n",
      "Requirement already satisfied: cycler>=0.10 in ./venv/lib/python3.12/site-packages (from matplotlib>=2.2.3->phik==0.12.4) (0.12.1)\r\n",
      "Requirement already satisfied: fonttools>=4.22.0 in ./venv/lib/python3.12/site-packages (from matplotlib>=2.2.3->phik==0.12.4) (4.54.1)\r\n",
      "Requirement already satisfied: kiwisolver>=1.3.1 in ./venv/lib/python3.12/site-packages (from matplotlib>=2.2.3->phik==0.12.4) (1.4.7)\r\n",
      "Requirement already satisfied: packaging>=20.0 in ./venv/lib/python3.12/site-packages (from matplotlib>=2.2.3->phik==0.12.4) (24.1)\r\n",
      "Requirement already satisfied: pillow>=8 in ./venv/lib/python3.12/site-packages (from matplotlib>=2.2.3->phik==0.12.4) (10.4.0)\r\n",
      "Requirement already satisfied: pyparsing>=2.3.1 in ./venv/lib/python3.12/site-packages (from matplotlib>=2.2.3->phik==0.12.4) (3.1.4)\r\n",
      "Requirement already satisfied: python-dateutil>=2.7 in ./venv/lib/python3.12/site-packages (from matplotlib>=2.2.3->phik==0.12.4) (2.9.0.post0)\r\n",
      "Requirement already satisfied: pytz>=2020.1 in ./venv/lib/python3.12/site-packages (from pandas>=0.25.1->phik==0.12.4) (2024.2)\r\n",
      "Requirement already satisfied: tzdata>=2022.7 in ./venv/lib/python3.12/site-packages (from pandas>=0.25.1->phik==0.12.4) (2024.2)\r\n",
      "Requirement already satisfied: six>=1.5 in ./venv/lib/python3.12/site-packages (from python-dateutil>=2.7->matplotlib>=2.2.3->phik==0.12.4) (1.16.0)\r\n",
      "\r\n",
      "\u001B[1m[\u001B[0m\u001B[34;49mnotice\u001B[0m\u001B[1;39;49m]\u001B[0m\u001B[39;49m A new release of pip is available: \u001B[0m\u001B[31;49m24.2\u001B[0m\u001B[39;49m -> \u001B[0m\u001B[32;49m24.3.1\u001B[0m\r\n",
      "\u001B[1m[\u001B[0m\u001B[34;49mnotice\u001B[0m\u001B[1;39;49m]\u001B[0m\u001B[39;49m To update, run: \u001B[0m\u001B[32;49mpip install --upgrade pip\u001B[0m\r\n"
     ]
    }
   ],
   "execution_count": 1
  },
  {
   "cell_type": "code",
   "metadata": {
    "colab": {
     "base_uri": "https://localhost:8080/"
    },
    "id": "VEq_6ps5OFII",
    "executionInfo": {
     "status": "ok",
     "timestamp": 1732172723560,
     "user_tz": -180,
     "elapsed": 334,
     "user": {
      "displayName": "Руслан Бурангулов",
      "userId": "16963811125706368813"
     }
    },
    "outputId": "d948bdd4-2621-450f-c35e-a8d2e9e1f82e",
    "ExecuteTime": {
     "end_time": "2024-11-28T19:05:32.955519Z",
     "start_time": "2024-11-28T19:05:32.931698Z"
    }
   },
   "source": [
    "df = pd.read_csv('data/ds_salaries.csv')\n",
    "\n",
    "df.info()"
   ],
   "outputs": [
    {
     "name": "stdout",
     "output_type": "stream",
     "text": [
      "<class 'pandas.core.frame.DataFrame'>\n",
      "RangeIndex: 3755 entries, 0 to 3754\n",
      "Data columns (total 11 columns):\n",
      " #   Column              Non-Null Count  Dtype \n",
      "---  ------              --------------  ----- \n",
      " 0   work_year           3755 non-null   int64 \n",
      " 1   experience_level    3755 non-null   object\n",
      " 2   employment_type     3755 non-null   object\n",
      " 3   job_title           3755 non-null   object\n",
      " 4   salary              3755 non-null   int64 \n",
      " 5   salary_currency     3755 non-null   object\n",
      " 6   salary_in_usd       3755 non-null   int64 \n",
      " 7   employee_residence  3755 non-null   object\n",
      " 8   remote_ratio        3755 non-null   int64 \n",
      " 9   company_location    3755 non-null   object\n",
      " 10  company_size        3755 non-null   object\n",
      "dtypes: int64(4), object(7)\n",
      "memory usage: 322.8+ KB\n"
     ]
    }
   ],
   "execution_count": 34
  },
  {
   "cell_type": "code",
   "metadata": {
    "id": "HOiPWoHhOFII",
    "outputId": "d356fdd8-7502-48c6-a34f-95ce2c8b04d7",
    "colab": {
     "base_uri": "https://localhost:8080/",
     "height": 363
    },
    "executionInfo": {
     "status": "ok",
     "timestamp": 1732172726143,
     "user_tz": -180,
     "elapsed": 329,
     "user": {
      "displayName": "Руслан Бурангулов",
      "userId": "16963811125706368813"
     }
    },
    "ExecuteTime": {
     "end_time": "2024-11-28T19:05:53.285078Z",
     "start_time": "2024-11-28T19:05:53.277657Z"
    }
   },
   "source": [
    "df.head(10)"
   ],
   "outputs": [
    {
     "data": {
      "text/plain": [
       "   work_year experience_level employment_type                 job_title  \\\n",
       "0       2023               SE              FT  Principal Data Scientist   \n",
       "1       2023               MI              CT               ML Engineer   \n",
       "2       2023               MI              CT               ML Engineer   \n",
       "3       2023               SE              FT            Data Scientist   \n",
       "4       2023               SE              FT            Data Scientist   \n",
       "5       2023               SE              FT         Applied Scientist   \n",
       "6       2023               SE              FT         Applied Scientist   \n",
       "7       2023               SE              FT            Data Scientist   \n",
       "8       2023               SE              FT            Data Scientist   \n",
       "9       2023               SE              FT            Data Scientist   \n",
       "\n",
       "   salary salary_currency  salary_in_usd employee_residence  remote_ratio  \\\n",
       "0   80000             EUR          85847                 ES           100   \n",
       "1   30000             USD          30000                 US           100   \n",
       "2   25500             USD          25500                 US           100   \n",
       "3  175000             USD         175000                 CA           100   \n",
       "4  120000             USD         120000                 CA           100   \n",
       "5  222200             USD         222200                 US             0   \n",
       "6  136000             USD         136000                 US             0   \n",
       "7  219000             USD         219000                 CA             0   \n",
       "8  141000             USD         141000                 CA             0   \n",
       "9  147100             USD         147100                 US             0   \n",
       "\n",
       "  company_location company_size  \n",
       "0               ES            L  \n",
       "1               US            S  \n",
       "2               US            S  \n",
       "3               CA            M  \n",
       "4               CA            M  \n",
       "5               US            L  \n",
       "6               US            L  \n",
       "7               CA            M  \n",
       "8               CA            M  \n",
       "9               US            M  "
      ],
      "text/html": [
       "<div>\n",
       "<style scoped>\n",
       "    .dataframe tbody tr th:only-of-type {\n",
       "        vertical-align: middle;\n",
       "    }\n",
       "\n",
       "    .dataframe tbody tr th {\n",
       "        vertical-align: top;\n",
       "    }\n",
       "\n",
       "    .dataframe thead th {\n",
       "        text-align: right;\n",
       "    }\n",
       "</style>\n",
       "<table border=\"1\" class=\"dataframe\">\n",
       "  <thead>\n",
       "    <tr style=\"text-align: right;\">\n",
       "      <th></th>\n",
       "      <th>work_year</th>\n",
       "      <th>experience_level</th>\n",
       "      <th>employment_type</th>\n",
       "      <th>job_title</th>\n",
       "      <th>salary</th>\n",
       "      <th>salary_currency</th>\n",
       "      <th>salary_in_usd</th>\n",
       "      <th>employee_residence</th>\n",
       "      <th>remote_ratio</th>\n",
       "      <th>company_location</th>\n",
       "      <th>company_size</th>\n",
       "    </tr>\n",
       "  </thead>\n",
       "  <tbody>\n",
       "    <tr>\n",
       "      <th>0</th>\n",
       "      <td>2023</td>\n",
       "      <td>SE</td>\n",
       "      <td>FT</td>\n",
       "      <td>Principal Data Scientist</td>\n",
       "      <td>80000</td>\n",
       "      <td>EUR</td>\n",
       "      <td>85847</td>\n",
       "      <td>ES</td>\n",
       "      <td>100</td>\n",
       "      <td>ES</td>\n",
       "      <td>L</td>\n",
       "    </tr>\n",
       "    <tr>\n",
       "      <th>1</th>\n",
       "      <td>2023</td>\n",
       "      <td>MI</td>\n",
       "      <td>CT</td>\n",
       "      <td>ML Engineer</td>\n",
       "      <td>30000</td>\n",
       "      <td>USD</td>\n",
       "      <td>30000</td>\n",
       "      <td>US</td>\n",
       "      <td>100</td>\n",
       "      <td>US</td>\n",
       "      <td>S</td>\n",
       "    </tr>\n",
       "    <tr>\n",
       "      <th>2</th>\n",
       "      <td>2023</td>\n",
       "      <td>MI</td>\n",
       "      <td>CT</td>\n",
       "      <td>ML Engineer</td>\n",
       "      <td>25500</td>\n",
       "      <td>USD</td>\n",
       "      <td>25500</td>\n",
       "      <td>US</td>\n",
       "      <td>100</td>\n",
       "      <td>US</td>\n",
       "      <td>S</td>\n",
       "    </tr>\n",
       "    <tr>\n",
       "      <th>3</th>\n",
       "      <td>2023</td>\n",
       "      <td>SE</td>\n",
       "      <td>FT</td>\n",
       "      <td>Data Scientist</td>\n",
       "      <td>175000</td>\n",
       "      <td>USD</td>\n",
       "      <td>175000</td>\n",
       "      <td>CA</td>\n",
       "      <td>100</td>\n",
       "      <td>CA</td>\n",
       "      <td>M</td>\n",
       "    </tr>\n",
       "    <tr>\n",
       "      <th>4</th>\n",
       "      <td>2023</td>\n",
       "      <td>SE</td>\n",
       "      <td>FT</td>\n",
       "      <td>Data Scientist</td>\n",
       "      <td>120000</td>\n",
       "      <td>USD</td>\n",
       "      <td>120000</td>\n",
       "      <td>CA</td>\n",
       "      <td>100</td>\n",
       "      <td>CA</td>\n",
       "      <td>M</td>\n",
       "    </tr>\n",
       "    <tr>\n",
       "      <th>5</th>\n",
       "      <td>2023</td>\n",
       "      <td>SE</td>\n",
       "      <td>FT</td>\n",
       "      <td>Applied Scientist</td>\n",
       "      <td>222200</td>\n",
       "      <td>USD</td>\n",
       "      <td>222200</td>\n",
       "      <td>US</td>\n",
       "      <td>0</td>\n",
       "      <td>US</td>\n",
       "      <td>L</td>\n",
       "    </tr>\n",
       "    <tr>\n",
       "      <th>6</th>\n",
       "      <td>2023</td>\n",
       "      <td>SE</td>\n",
       "      <td>FT</td>\n",
       "      <td>Applied Scientist</td>\n",
       "      <td>136000</td>\n",
       "      <td>USD</td>\n",
       "      <td>136000</td>\n",
       "      <td>US</td>\n",
       "      <td>0</td>\n",
       "      <td>US</td>\n",
       "      <td>L</td>\n",
       "    </tr>\n",
       "    <tr>\n",
       "      <th>7</th>\n",
       "      <td>2023</td>\n",
       "      <td>SE</td>\n",
       "      <td>FT</td>\n",
       "      <td>Data Scientist</td>\n",
       "      <td>219000</td>\n",
       "      <td>USD</td>\n",
       "      <td>219000</td>\n",
       "      <td>CA</td>\n",
       "      <td>0</td>\n",
       "      <td>CA</td>\n",
       "      <td>M</td>\n",
       "    </tr>\n",
       "    <tr>\n",
       "      <th>8</th>\n",
       "      <td>2023</td>\n",
       "      <td>SE</td>\n",
       "      <td>FT</td>\n",
       "      <td>Data Scientist</td>\n",
       "      <td>141000</td>\n",
       "      <td>USD</td>\n",
       "      <td>141000</td>\n",
       "      <td>CA</td>\n",
       "      <td>0</td>\n",
       "      <td>CA</td>\n",
       "      <td>M</td>\n",
       "    </tr>\n",
       "    <tr>\n",
       "      <th>9</th>\n",
       "      <td>2023</td>\n",
       "      <td>SE</td>\n",
       "      <td>FT</td>\n",
       "      <td>Data Scientist</td>\n",
       "      <td>147100</td>\n",
       "      <td>USD</td>\n",
       "      <td>147100</td>\n",
       "      <td>US</td>\n",
       "      <td>0</td>\n",
       "      <td>US</td>\n",
       "      <td>M</td>\n",
       "    </tr>\n",
       "  </tbody>\n",
       "</table>\n",
       "</div>"
      ]
     },
     "execution_count": 39,
     "metadata": {},
     "output_type": "execute_result"
    }
   ],
   "execution_count": 39
  },
  {
   "cell_type": "code",
   "metadata": {
    "id": "yO4BPkAwOFIJ",
    "outputId": "c875ce3e-315e-4c58-e9ff-812ff78d9e3e",
    "colab": {
     "base_uri": "https://localhost:8080/",
     "height": 175
    },
    "executionInfo": {
     "status": "ok",
     "timestamp": 1732172728683,
     "user_tz": -180,
     "elapsed": 335,
     "user": {
      "displayName": "Руслан Бурангулов",
      "userId": "16963811125706368813"
     }
    },
    "ExecuteTime": {
     "end_time": "2024-11-28T19:05:39.914328Z",
     "start_time": "2024-11-28T19:05:39.905002Z"
    }
   },
   "source": [
    "df.describe().T"
   ],
   "outputs": [
    {
     "data": {
      "text/plain": [
       "                count           mean            std     min       25%  \\\n",
       "work_year      3755.0    2022.373635       0.691448  2020.0    2022.0   \n",
       "salary         3755.0  190695.571771  671676.500508  6000.0  100000.0   \n",
       "salary_in_usd  3755.0  137570.389880   63055.625278  5132.0   95000.0   \n",
       "remote_ratio   3755.0      46.271638      48.589050     0.0       0.0   \n",
       "\n",
       "                    50%       75%         max  \n",
       "work_year        2022.0    2023.0      2023.0  \n",
       "salary         138000.0  180000.0  30400000.0  \n",
       "salary_in_usd  135000.0  175000.0    450000.0  \n",
       "remote_ratio        0.0     100.0       100.0  "
      ],
      "text/html": [
       "<div>\n",
       "<style scoped>\n",
       "    .dataframe tbody tr th:only-of-type {\n",
       "        vertical-align: middle;\n",
       "    }\n",
       "\n",
       "    .dataframe tbody tr th {\n",
       "        vertical-align: top;\n",
       "    }\n",
       "\n",
       "    .dataframe thead th {\n",
       "        text-align: right;\n",
       "    }\n",
       "</style>\n",
       "<table border=\"1\" class=\"dataframe\">\n",
       "  <thead>\n",
       "    <tr style=\"text-align: right;\">\n",
       "      <th></th>\n",
       "      <th>count</th>\n",
       "      <th>mean</th>\n",
       "      <th>std</th>\n",
       "      <th>min</th>\n",
       "      <th>25%</th>\n",
       "      <th>50%</th>\n",
       "      <th>75%</th>\n",
       "      <th>max</th>\n",
       "    </tr>\n",
       "  </thead>\n",
       "  <tbody>\n",
       "    <tr>\n",
       "      <th>work_year</th>\n",
       "      <td>3755.0</td>\n",
       "      <td>2022.373635</td>\n",
       "      <td>0.691448</td>\n",
       "      <td>2020.0</td>\n",
       "      <td>2022.0</td>\n",
       "      <td>2022.0</td>\n",
       "      <td>2023.0</td>\n",
       "      <td>2023.0</td>\n",
       "    </tr>\n",
       "    <tr>\n",
       "      <th>salary</th>\n",
       "      <td>3755.0</td>\n",
       "      <td>190695.571771</td>\n",
       "      <td>671676.500508</td>\n",
       "      <td>6000.0</td>\n",
       "      <td>100000.0</td>\n",
       "      <td>138000.0</td>\n",
       "      <td>180000.0</td>\n",
       "      <td>30400000.0</td>\n",
       "    </tr>\n",
       "    <tr>\n",
       "      <th>salary_in_usd</th>\n",
       "      <td>3755.0</td>\n",
       "      <td>137570.389880</td>\n",
       "      <td>63055.625278</td>\n",
       "      <td>5132.0</td>\n",
       "      <td>95000.0</td>\n",
       "      <td>135000.0</td>\n",
       "      <td>175000.0</td>\n",
       "      <td>450000.0</td>\n",
       "    </tr>\n",
       "    <tr>\n",
       "      <th>remote_ratio</th>\n",
       "      <td>3755.0</td>\n",
       "      <td>46.271638</td>\n",
       "      <td>48.589050</td>\n",
       "      <td>0.0</td>\n",
       "      <td>0.0</td>\n",
       "      <td>0.0</td>\n",
       "      <td>100.0</td>\n",
       "      <td>100.0</td>\n",
       "    </tr>\n",
       "  </tbody>\n",
       "</table>\n",
       "</div>"
      ]
     },
     "execution_count": 36,
     "metadata": {},
     "output_type": "execute_result"
    }
   ],
   "execution_count": 36
  },
  {
   "cell_type": "code",
   "metadata": {
    "id": "4VtO-5jmOFIJ",
    "outputId": "1d65f32d-48c8-4f9d-a3f2-8db79e962d48",
    "colab": {
     "base_uri": "https://localhost:8080/",
     "height": 269
    },
    "executionInfo": {
     "status": "ok",
     "timestamp": 1732172731467,
     "user_tz": -180,
     "elapsed": 244,
     "user": {
      "displayName": "Руслан Бурангулов",
      "userId": "16963811125706368813"
     }
    },
    "ExecuteTime": {
     "end_time": "2024-11-28T19:05:41.876873Z",
     "start_time": "2024-11-28T19:05:41.865934Z"
    }
   },
   "source": [
    "df.describe(include='object').T"
   ],
   "outputs": [
    {
     "data": {
      "text/plain": [
       "                   count unique            top  freq\n",
       "experience_level    3755      4             SE  2516\n",
       "employment_type     3755      4             FT  3718\n",
       "job_title           3755     93  Data Engineer  1040\n",
       "salary_currency     3755     20            USD  3224\n",
       "employee_residence  3755     78             US  3004\n",
       "company_location    3755     72             US  3040\n",
       "company_size        3755      3              M  3153"
      ],
      "text/html": [
       "<div>\n",
       "<style scoped>\n",
       "    .dataframe tbody tr th:only-of-type {\n",
       "        vertical-align: middle;\n",
       "    }\n",
       "\n",
       "    .dataframe tbody tr th {\n",
       "        vertical-align: top;\n",
       "    }\n",
       "\n",
       "    .dataframe thead th {\n",
       "        text-align: right;\n",
       "    }\n",
       "</style>\n",
       "<table border=\"1\" class=\"dataframe\">\n",
       "  <thead>\n",
       "    <tr style=\"text-align: right;\">\n",
       "      <th></th>\n",
       "      <th>count</th>\n",
       "      <th>unique</th>\n",
       "      <th>top</th>\n",
       "      <th>freq</th>\n",
       "    </tr>\n",
       "  </thead>\n",
       "  <tbody>\n",
       "    <tr>\n",
       "      <th>experience_level</th>\n",
       "      <td>3755</td>\n",
       "      <td>4</td>\n",
       "      <td>SE</td>\n",
       "      <td>2516</td>\n",
       "    </tr>\n",
       "    <tr>\n",
       "      <th>employment_type</th>\n",
       "      <td>3755</td>\n",
       "      <td>4</td>\n",
       "      <td>FT</td>\n",
       "      <td>3718</td>\n",
       "    </tr>\n",
       "    <tr>\n",
       "      <th>job_title</th>\n",
       "      <td>3755</td>\n",
       "      <td>93</td>\n",
       "      <td>Data Engineer</td>\n",
       "      <td>1040</td>\n",
       "    </tr>\n",
       "    <tr>\n",
       "      <th>salary_currency</th>\n",
       "      <td>3755</td>\n",
       "      <td>20</td>\n",
       "      <td>USD</td>\n",
       "      <td>3224</td>\n",
       "    </tr>\n",
       "    <tr>\n",
       "      <th>employee_residence</th>\n",
       "      <td>3755</td>\n",
       "      <td>78</td>\n",
       "      <td>US</td>\n",
       "      <td>3004</td>\n",
       "    </tr>\n",
       "    <tr>\n",
       "      <th>company_location</th>\n",
       "      <td>3755</td>\n",
       "      <td>72</td>\n",
       "      <td>US</td>\n",
       "      <td>3040</td>\n",
       "    </tr>\n",
       "    <tr>\n",
       "      <th>company_size</th>\n",
       "      <td>3755</td>\n",
       "      <td>3</td>\n",
       "      <td>M</td>\n",
       "      <td>3153</td>\n",
       "    </tr>\n",
       "  </tbody>\n",
       "</table>\n",
       "</div>"
      ]
     },
     "execution_count": 37,
     "metadata": {},
     "output_type": "execute_result"
    }
   ],
   "execution_count": 37
  },
  {
   "metadata": {
    "ExecuteTime": {
     "end_time": "2024-11-28T19:18:18.090496Z",
     "start_time": "2024-11-28T19:18:18.080930Z"
    }
   },
   "cell_type": "code",
   "source": "df.groupby('job_title')['salary_in_usd'].mean().sort_values(ascending=False).head(5)",
   "outputs": [
    {
     "data": {
      "text/plain": [
       "job_title\n",
       "Data Science Tech Lead      375000.000\n",
       "Cloud Data Architect        250000.000\n",
       "Data Lead                   212500.000\n",
       "Data Analytics Lead         211254.500\n",
       "Principal Data Scientist    198171.125\n",
       "Name: salary_in_usd, dtype: float64"
      ]
     },
     "execution_count": 60,
     "metadata": {},
     "output_type": "execute_result"
    }
   ],
   "execution_count": 60
  },
  {
   "metadata": {
    "ExecuteTime": {
     "end_time": "2024-11-28T19:18:24.090905Z",
     "start_time": "2024-11-28T19:18:24.086445Z"
    }
   },
   "cell_type": "code",
   "source": "df.groupby('job_title')['salary_in_usd'].mean().sort_values(ascending=True).head(5)",
   "outputs": [
    {
     "data": {
      "text/plain": [
       "job_title\n",
       "Power BI Developer                5409.00\n",
       "Product Data Scientist            8000.00\n",
       "Staff Data Analyst               15000.00\n",
       "3D Computer Vision Researcher    21352.25\n",
       "Autonomous Vehicle Technician    26277.50\n",
       "Name: salary_in_usd, dtype: float64"
      ]
     },
     "execution_count": 61,
     "metadata": {},
     "output_type": "execute_result"
    }
   ],
   "execution_count": 61
  },
  {
   "metadata": {
    "ExecuteTime": {
     "end_time": "2024-11-28T19:10:13.996294Z",
     "start_time": "2024-11-28T19:10:13.982406Z"
    }
   },
   "cell_type": "code",
   "source": [
    "for column in df.select_dtypes(include=['object']).columns:\n",
    "    print(f\"{column}: {df[column].unique()}\")"
   ],
   "outputs": [
    {
     "name": "stdout",
     "output_type": "stream",
     "text": [
      "experience_level: ['SE' 'MI' 'EN' 'EX']\n",
      "employment_type: ['FT' 'CT' 'FL' 'PT']\n",
      "job_title: ['Principal Data Scientist' 'ML Engineer' 'Data Scientist'\n",
      " 'Applied Scientist' 'Data Analyst' 'Data Modeler' 'Research Engineer'\n",
      " 'Analytics Engineer' 'Business Intelligence Engineer'\n",
      " 'Machine Learning Engineer' 'Data Strategist' 'Data Engineer'\n",
      " 'Computer Vision Engineer' 'Data Quality Analyst'\n",
      " 'Compliance Data Analyst' 'Data Architect'\n",
      " 'Applied Machine Learning Engineer' 'AI Developer' 'Research Scientist'\n",
      " 'Data Analytics Manager' 'Business Data Analyst' 'Applied Data Scientist'\n",
      " 'Staff Data Analyst' 'ETL Engineer' 'Data DevOps Engineer' 'Head of Data'\n",
      " 'Data Science Manager' 'Data Manager' 'Machine Learning Researcher'\n",
      " 'Big Data Engineer' 'Data Specialist' 'Lead Data Analyst'\n",
      " 'BI Data Engineer' 'Director of Data Science'\n",
      " 'Machine Learning Scientist' 'MLOps Engineer' 'AI Scientist'\n",
      " 'Autonomous Vehicle Technician' 'Applied Machine Learning Scientist'\n",
      " 'Lead Data Scientist' 'Cloud Database Engineer' 'Financial Data Analyst'\n",
      " 'Data Infrastructure Engineer' 'Software Data Engineer' 'AI Programmer'\n",
      " 'Data Operations Engineer' 'BI Developer' 'Data Science Lead'\n",
      " 'Deep Learning Researcher' 'BI Analyst' 'Data Science Consultant'\n",
      " 'Data Analytics Specialist' 'Machine Learning Infrastructure Engineer'\n",
      " 'BI Data Analyst' 'Head of Data Science' 'Insight Analyst'\n",
      " 'Deep Learning Engineer' 'Machine Learning Software Engineer'\n",
      " 'Big Data Architect' 'Product Data Analyst'\n",
      " 'Computer Vision Software Engineer' 'Azure Data Engineer'\n",
      " 'Marketing Data Engineer' 'Data Analytics Lead' 'Data Lead'\n",
      " 'Data Science Engineer' 'Machine Learning Research Engineer'\n",
      " 'NLP Engineer' 'Manager Data Management' 'Machine Learning Developer'\n",
      " '3D Computer Vision Researcher' 'Principal Machine Learning Engineer'\n",
      " 'Data Analytics Engineer' 'Data Analytics Consultant'\n",
      " 'Data Management Specialist' 'Data Science Tech Lead'\n",
      " 'Data Scientist Lead' 'Cloud Data Engineer' 'Data Operations Analyst'\n",
      " 'Marketing Data Analyst' 'Power BI Developer' 'Product Data Scientist'\n",
      " 'Principal Data Architect' 'Machine Learning Manager'\n",
      " 'Lead Machine Learning Engineer' 'ETL Developer' 'Cloud Data Architect'\n",
      " 'Lead Data Engineer' 'Head of Machine Learning' 'Principal Data Analyst'\n",
      " 'Principal Data Engineer' 'Staff Data Scientist' 'Finance Data Analyst']\n",
      "salary_currency: ['EUR' 'USD' 'INR' 'HKD' 'CHF' 'GBP' 'AUD' 'SGD' 'CAD' 'ILS' 'BRL' 'THB'\n",
      " 'PLN' 'HUF' 'CZK' 'DKK' 'JPY' 'MXN' 'TRY' 'CLP']\n",
      "employee_residence: ['ES' 'US' 'CA' 'DE' 'GB' 'NG' 'IN' 'HK' 'PT' 'NL' 'CH' 'CF' 'FR' 'AU'\n",
      " 'FI' 'UA' 'IE' 'IL' 'GH' 'AT' 'CO' 'SG' 'SE' 'SI' 'MX' 'UZ' 'BR' 'TH'\n",
      " 'HR' 'PL' 'KW' 'VN' 'CY' 'AR' 'AM' 'BA' 'KE' 'GR' 'MK' 'LV' 'RO' 'PK'\n",
      " 'IT' 'MA' 'LT' 'BE' 'AS' 'IR' 'HU' 'SK' 'CN' 'CZ' 'CR' 'TR' 'CL' 'PR'\n",
      " 'DK' 'BO' 'PH' 'DO' 'EG' 'ID' 'AE' 'MY' 'JP' 'EE' 'HN' 'TN' 'RU' 'DZ'\n",
      " 'IQ' 'BG' 'JE' 'RS' 'NZ' 'MD' 'LU' 'MT']\n",
      "company_location: ['ES' 'US' 'CA' 'DE' 'GB' 'NG' 'IN' 'HK' 'NL' 'CH' 'CF' 'FR' 'FI' 'UA'\n",
      " 'IE' 'IL' 'GH' 'CO' 'SG' 'AU' 'SE' 'SI' 'MX' 'BR' 'PT' 'RU' 'TH' 'HR'\n",
      " 'VN' 'EE' 'AM' 'BA' 'KE' 'GR' 'MK' 'LV' 'RO' 'PK' 'IT' 'MA' 'PL' 'AL'\n",
      " 'AR' 'LT' 'AS' 'CR' 'IR' 'BS' 'HU' 'AT' 'SK' 'CZ' 'TR' 'PR' 'DK' 'BO'\n",
      " 'PH' 'BE' 'ID' 'EG' 'AE' 'LU' 'MY' 'HN' 'JP' 'DZ' 'IQ' 'CN' 'NZ' 'CL'\n",
      " 'MD' 'MT']\n",
      "company_size: ['L' 'S' 'M']\n"
     ]
    }
   ],
   "execution_count": 48
  },
  {
   "cell_type": "markdown",
   "metadata": {
    "id": "TYnyAkEGOFIJ"
   },
   "source": [
    "## Предобработка данных"
   ]
  },
  {
   "cell_type": "markdown",
   "metadata": {
    "id": "TUoQ7eR0OFIJ"
   },
   "source": [
    "1. Проверим пропущенные значения\n",
    "2. Проверим дубликаты\n",
    "3. Преобразуем данные"
   ]
  },
  {
   "cell_type": "code",
   "metadata": {
    "id": "02PYUFfIOFIK",
    "ExecuteTime": {
     "end_time": "2024-11-28T19:10:40.403284Z",
     "start_time": "2024-11-28T19:10:40.398554Z"
    }
   },
   "source": "df.isnull().sum()",
   "outputs": [
    {
     "data": {
      "text/plain": [
       "work_year             0\n",
       "experience_level      0\n",
       "employment_type       0\n",
       "job_title             0\n",
       "salary                0\n",
       "salary_currency       0\n",
       "salary_in_usd         0\n",
       "employee_residence    0\n",
       "remote_ratio          0\n",
       "company_location      0\n",
       "company_size          0\n",
       "dtype: int64"
      ]
     },
     "execution_count": 49,
     "metadata": {},
     "output_type": "execute_result"
    }
   ],
   "execution_count": 49
  },
  {
   "metadata": {
    "ExecuteTime": {
     "end_time": "2024-11-28T19:11:19.508125Z",
     "start_time": "2024-11-28T19:11:19.503570Z"
    }
   },
   "cell_type": "code",
   "source": "df.duplicated().sum()",
   "outputs": [
    {
     "data": {
      "text/plain": [
       "1171"
      ]
     },
     "execution_count": 52,
     "metadata": {},
     "output_type": "execute_result"
    }
   ],
   "execution_count": 52
  },
  {
   "metadata": {
    "ExecuteTime": {
     "end_time": "2024-11-28T19:18:51.025568Z",
     "start_time": "2024-11-28T19:18:51.016674Z"
    }
   },
   "cell_type": "code",
   "source": [
    "df.drop_duplicates(inplace=True)\n",
    "df.duplicated().sum()"
   ],
   "outputs": [
    {
     "data": {
      "text/plain": [
       "0"
      ]
     },
     "execution_count": 62,
     "metadata": {},
     "output_type": "execute_result"
    }
   ],
   "execution_count": 62
  },
  {
   "cell_type": "markdown",
   "metadata": {
    "id": "wgpGzgXKOFIK"
   },
   "source": "### Преобразования столбцов"
  },
  {
   "cell_type": "markdown",
   "metadata": {
    "id": "BcBdWMsQOFIK"
   },
   "source": [
    "Заменим верхний регистр на нижний в названии столбцов."
   ]
  },
  {
   "cell_type": "code",
   "metadata": {
    "id": "4KjdbHvMOFIL",
    "outputId": "51ddf2ec-9eaf-4b5e-de43-81676f51b1e1",
    "ExecuteTime": {
     "end_time": "2024-11-28T19:18:53.693129Z",
     "start_time": "2024-11-28T19:18:53.687568Z"
    }
   },
   "source": [
    "df.columns = df.columns.str.lower()\n",
    "\n",
    "df.columns"
   ],
   "outputs": [
    {
     "data": {
      "text/plain": [
       "Index(['work_year', 'experience_level', 'employment_type', 'job_title',\n",
       "       'salary', 'salary_currency', 'salary_in_usd', 'employee_residence',\n",
       "       'remote_ratio', 'company_location', 'company_size'],\n",
       "      dtype='object')"
      ]
     },
     "execution_count": 63,
     "metadata": {},
     "output_type": "execute_result"
    }
   ],
   "execution_count": 63
  },
  {
   "cell_type": "code",
   "metadata": {
    "id": "M-I7N_teOFIM",
    "outputId": "34d1d293-8089-4fc6-872f-3c9e0bb53c4f",
    "ExecuteTime": {
     "end_time": "2024-11-28T19:18:57.493028Z",
     "start_time": "2024-11-28T19:18:57.488028Z"
    }
   },
   "source": [
    "df.info()"
   ],
   "outputs": [
    {
     "name": "stdout",
     "output_type": "stream",
     "text": [
      "<class 'pandas.core.frame.DataFrame'>\n",
      "Index: 2584 entries, 0 to 3754\n",
      "Data columns (total 11 columns):\n",
      " #   Column              Non-Null Count  Dtype \n",
      "---  ------              --------------  ----- \n",
      " 0   work_year           2584 non-null   int64 \n",
      " 1   experience_level    2584 non-null   object\n",
      " 2   employment_type     2584 non-null   object\n",
      " 3   job_title           2584 non-null   object\n",
      " 4   salary              2584 non-null   int64 \n",
      " 5   salary_currency     2584 non-null   object\n",
      " 6   salary_in_usd       2584 non-null   int64 \n",
      " 7   employee_residence  2584 non-null   object\n",
      " 8   remote_ratio        2584 non-null   int64 \n",
      " 9   company_location    2584 non-null   object\n",
      " 10  company_size        2584 non-null   object\n",
      "dtypes: int64(4), object(7)\n",
      "memory usage: 242.2+ KB\n"
     ]
    }
   ],
   "execution_count": 64
  },
  {
   "metadata": {
    "ExecuteTime": {
     "end_time": "2024-11-28T19:19:24.722452Z",
     "start_time": "2024-11-28T19:19:24.714355Z"
    }
   },
   "cell_type": "code",
   "source": "df.head(5)",
   "outputs": [
    {
     "data": {
      "text/plain": [
       "   work_year experience_level employment_type                 job_title  \\\n",
       "0       2023               SE              FT  Principal Data Scientist   \n",
       "1       2023               MI              CT               ML Engineer   \n",
       "2       2023               MI              CT               ML Engineer   \n",
       "3       2023               SE              FT            Data Scientist   \n",
       "4       2023               SE              FT            Data Scientist   \n",
       "\n",
       "   salary salary_currency  salary_in_usd employee_residence  remote_ratio  \\\n",
       "0   80000             EUR          85847                 ES           100   \n",
       "1   30000             USD          30000                 US           100   \n",
       "2   25500             USD          25500                 US           100   \n",
       "3  175000             USD         175000                 CA           100   \n",
       "4  120000             USD         120000                 CA           100   \n",
       "\n",
       "  company_location company_size  \n",
       "0               ES            L  \n",
       "1               US            S  \n",
       "2               US            S  \n",
       "3               CA            M  \n",
       "4               CA            M  "
      ],
      "text/html": [
       "<div>\n",
       "<style scoped>\n",
       "    .dataframe tbody tr th:only-of-type {\n",
       "        vertical-align: middle;\n",
       "    }\n",
       "\n",
       "    .dataframe tbody tr th {\n",
       "        vertical-align: top;\n",
       "    }\n",
       "\n",
       "    .dataframe thead th {\n",
       "        text-align: right;\n",
       "    }\n",
       "</style>\n",
       "<table border=\"1\" class=\"dataframe\">\n",
       "  <thead>\n",
       "    <tr style=\"text-align: right;\">\n",
       "      <th></th>\n",
       "      <th>work_year</th>\n",
       "      <th>experience_level</th>\n",
       "      <th>employment_type</th>\n",
       "      <th>job_title</th>\n",
       "      <th>salary</th>\n",
       "      <th>salary_currency</th>\n",
       "      <th>salary_in_usd</th>\n",
       "      <th>employee_residence</th>\n",
       "      <th>remote_ratio</th>\n",
       "      <th>company_location</th>\n",
       "      <th>company_size</th>\n",
       "    </tr>\n",
       "  </thead>\n",
       "  <tbody>\n",
       "    <tr>\n",
       "      <th>0</th>\n",
       "      <td>2023</td>\n",
       "      <td>SE</td>\n",
       "      <td>FT</td>\n",
       "      <td>Principal Data Scientist</td>\n",
       "      <td>80000</td>\n",
       "      <td>EUR</td>\n",
       "      <td>85847</td>\n",
       "      <td>ES</td>\n",
       "      <td>100</td>\n",
       "      <td>ES</td>\n",
       "      <td>L</td>\n",
       "    </tr>\n",
       "    <tr>\n",
       "      <th>1</th>\n",
       "      <td>2023</td>\n",
       "      <td>MI</td>\n",
       "      <td>CT</td>\n",
       "      <td>ML Engineer</td>\n",
       "      <td>30000</td>\n",
       "      <td>USD</td>\n",
       "      <td>30000</td>\n",
       "      <td>US</td>\n",
       "      <td>100</td>\n",
       "      <td>US</td>\n",
       "      <td>S</td>\n",
       "    </tr>\n",
       "    <tr>\n",
       "      <th>2</th>\n",
       "      <td>2023</td>\n",
       "      <td>MI</td>\n",
       "      <td>CT</td>\n",
       "      <td>ML Engineer</td>\n",
       "      <td>25500</td>\n",
       "      <td>USD</td>\n",
       "      <td>25500</td>\n",
       "      <td>US</td>\n",
       "      <td>100</td>\n",
       "      <td>US</td>\n",
       "      <td>S</td>\n",
       "    </tr>\n",
       "    <tr>\n",
       "      <th>3</th>\n",
       "      <td>2023</td>\n",
       "      <td>SE</td>\n",
       "      <td>FT</td>\n",
       "      <td>Data Scientist</td>\n",
       "      <td>175000</td>\n",
       "      <td>USD</td>\n",
       "      <td>175000</td>\n",
       "      <td>CA</td>\n",
       "      <td>100</td>\n",
       "      <td>CA</td>\n",
       "      <td>M</td>\n",
       "    </tr>\n",
       "    <tr>\n",
       "      <th>4</th>\n",
       "      <td>2023</td>\n",
       "      <td>SE</td>\n",
       "      <td>FT</td>\n",
       "      <td>Data Scientist</td>\n",
       "      <td>120000</td>\n",
       "      <td>USD</td>\n",
       "      <td>120000</td>\n",
       "      <td>CA</td>\n",
       "      <td>100</td>\n",
       "      <td>CA</td>\n",
       "      <td>M</td>\n",
       "    </tr>\n",
       "  </tbody>\n",
       "</table>\n",
       "</div>"
      ]
     },
     "execution_count": 65,
     "metadata": {},
     "output_type": "execute_result"
    }
   ],
   "execution_count": 65
  },
  {
   "cell_type": "markdown",
   "metadata": {
    "id": "gzJD_yAhOFIS"
   },
   "source": [
    "## Визуализация"
   ]
  },
  {
   "cell_type": "markdown",
   "metadata": {
    "id": "5Qmxf9GDOFIS"
   },
   "source": [
    "Необходимые исследования:\n",
    "\n",
    "* Какие самые высокооплачиваемые должности? Есть ли выбросы в заработной плате? В каких должностях?\n",
    "* Влияет ли удаленная работа на зарплату? Есть ли корреляция?\n",
    "* Зависит ли заработная плата от размера предприятия?\n",
    "* Какие страны наиболее популярны среди вакансий? В каких заработная плата выше, а в каких ниже?\n",
    "* Оцените медианную зарплату для каждой должности.\n",
    "* Оцените, как сильно изменились зарплаты в 2023 году, относительно 2020. Какие должности стали более оплачиваемы, а какие нет?\n",
    "* Выявите портрет самого успешного и богатого работника: кем он должен работать, где проживать, удаленная ли работа.\n",
    "* Много ли людей работают и проживают в разных регионах? Где больше всего людей проживает и много ли из них (в процентном соотношении) работают удаленно на другую страну?\n"
   ]
  },
  {
   "cell_type": "markdown",
   "metadata": {
    "id": "6WBagyw2OFIS"
   },
   "source": "### Какие самые высокооплачиваемые должности? Есть ли выбросы в заработной плате? В каких должностях?"
  },
  {
   "cell_type": "code",
   "metadata": {
    "id": "mytc0majOFIS",
    "outputId": "063a84cd-b62b-4c20-d11b-958f836809fe",
    "ExecuteTime": {
     "end_time": "2024-11-28T19:22:51.373681Z",
     "start_time": "2024-11-28T19:22:51.092392Z"
    }
   },
   "source": [
    "import matplotlib.pyplot as plt\n",
    "import seaborn as sns\n",
    "\n",
    "# Самые высокооплачиваемые должности\n",
    "top_jobs = df.groupby('job_title')['salary'].mean().sort_values(ascending=False).head(10)\n",
    "print(top_jobs)\n",
    "\n",
    "# Выбросы в зарплате\n",
    "plt.figure(figsize=(10, 6))\n",
    "sns.boxplot(x='salary', data=df)\n",
    "plt.title('Выбросы в заработной плате')\n",
    "plt.show()"
   ],
   "outputs": [
    {
     "name": "stdout",
     "output_type": "stream",
     "text": [
      "job_title\n",
      "Head of Machine Learning          6.000000e+06\n",
      "Principal Data Architect          3.000000e+06\n",
      "Lead Machine Learning Engineer    2.548667e+06\n",
      "Lead Data Scientist               9.284853e+05\n",
      "Data Analytics Lead               9.225000e+05\n",
      "BI Data Analyst                   8.366448e+05\n",
      "Head of Data Science              7.037294e+05\n",
      "Lead Data Analyst                 6.550000e+05\n",
      "ML Engineer                       6.099979e+05\n",
      "Product Data Analyst              4.120000e+05\n",
      "Name: salary, dtype: float64\n"
     ]
    },
    {
     "data": {
      "text/plain": [
       "<Figure size 1000x600 with 1 Axes>"
      ],
      "image/png": "[encoded data removed]"
     },
     "metadata": {},
     "output_type": "display_data"
    }
   ],
   "execution_count": 66
  },
  {
   "metadata": {},
   "cell_type": "markdown",
   "source": "### Влияет ли удаленная работа на зарплату? Есть ли корреляция?"
  },
  {
   "metadata": {
    "ExecuteTime": {
     "end_time": "2024-11-28T19:25:13.461316Z",
     "start_time": "2024-11-28T19:25:13.377568Z"
    }
   },
   "cell_type": "code",
   "source": [
    "remote_salary = df.groupby('remote_ratio')['salary'].mean()\n",
    "plt.figure(figsize=(10, 6))\n",
    "sns.barplot(x=remote_salary.index, y=remote_salary.values)\n",
    "plt.title('Влияние удаленной работы на зарплату')\n",
    "plt.xlabel('Удаленный режим работы (в %)')\n",
    "plt.ylabel('Средняя зарплата')\n",
    "plt.show()"
   ],
   "outputs": [
    {
     "data": {
      "text/plain": [
       "<Figure size 1000x600 with 1 Axes>"
      ],
      "image/png": "[encoded data removed]"
     },
     "metadata": {},
     "output_type": "display_data"
    }
   ],
   "execution_count": 68
  },
  {
   "metadata": {
    "ExecuteTime": {
     "end_time": "2024-11-28T19:30:23.255467Z",
     "start_time": "2024-11-28T19:30:23.174134Z"
    }
   },
   "cell_type": "code",
   "source": [
    "import matplotlib.pyplot as mp\n",
    "import seaborn as sb\n",
    "\n",
    "cmap = sns.diverging_palette(99, 256, n=256, as_cmap=True)\n",
    "dataplot = sb.heatmap(df.corr(numeric_only=True), cmap=cmap, annot=True)\n",
    "mp.show()"
   ],
   "outputs": [
    {
     "data": {
      "text/plain": [
       "<Figure size 640x480 with 2 Axes>"
      ],
      "image/png": "[encoded data removed]"
     },
     "metadata": {},
     "output_type": "display_data"
    }
   ],
   "execution_count": 88
  },
  {
   "metadata": {},
   "cell_type": "markdown",
   "source": "### Зависит ли заработная плата от размера предприятия?"
  },
  {
   "metadata": {
    "ExecuteTime": {
     "end_time": "2024-11-28T19:34:11.295138Z",
     "start_time": "2024-11-28T19:34:11.209085Z"
    }
   },
   "cell_type": "code",
   "source": [
    "size_salary = df.groupby('company_size')['salary'].mean()\n",
    "plt.figure(figsize=(10, 6))\n",
    "sns.barplot(x=size_salary.index, y=size_salary.values)\n",
    "plt.title('Зависимость зарплаты от размера компании')\n",
    "plt.xlabel('Размер компании')\n",
    "plt.ylabel('Средняя зарплата')\n",
    "plt.show()"
   ],
   "outputs": [
    {
     "data": {
      "text/plain": [
       "<Figure size 1000x600 with 1 Axes>"
      ],
      "image/png": "[encoded data removed]"
     },
     "metadata": {},
     "output_type": "display_data"
    }
   ],
   "execution_count": 90
  },
  {
   "metadata": {},
   "cell_type": "markdown",
   "source": "### Какие страны наиболее популярны среди вакансий? В каких заработная плата выше, а в каких ниже?"
  },
  {
   "metadata": {
    "ExecuteTime": {
     "end_time": "2024-11-28T19:39:43.082300Z",
     "start_time": "2024-11-28T19:39:42.977121Z"
    }
   },
   "cell_type": "code",
   "source": [
    "size_salary = df.groupby('company_location')['salary'].mean().head(10).sort_values(ascending=False)\n",
    "plt.figure(figsize=(20, 8))\n",
    "sns.barplot(x=size_salary.index, y=size_salary.values)\n",
    "plt.title('TOP 10 стран')\n",
    "plt.xlabel('Страна')\n",
    "plt.ylabel('Cредняя зарплата')\n",
    "plt.show()"
   ],
   "outputs": [
    {
     "data": {
      "text/plain": [
       "<Figure size 2000x800 with 1 Axes>"
      ],
      "image/png": "[encoded data removed]"
     },
     "metadata": {},
     "output_type": "display_data"
    }
   ],
   "execution_count": 104
  },
  {
   "metadata": {},
   "cell_type": "markdown",
   "source": "### Оцените медианную зарплату для каждой должности. "
  },
  {
   "metadata": {
    "ExecuteTime": {
     "end_time": "2024-11-28T19:41:03.568143Z",
     "start_time": "2024-11-28T19:41:03.559079Z"
    }
   },
   "cell_type": "code",
   "source": "df.groupby('job_title')['salary_in_usd'].median().sort_values(ascending=False)",
   "outputs": [
    {
     "data": {
      "text/plain": [
       "job_title\n",
       "Data Science Tech Lead           375000.0\n",
       "Cloud Data Architect             250000.0\n",
       "Data Lead                        212500.0\n",
       "Data Analytics Lead              211254.5\n",
       "Head of Data                     202500.0\n",
       "                                   ...   \n",
       "Product Data Analyst              20000.0\n",
       "Staff Data Analyst                15000.0\n",
       "3D Computer Vision Researcher     15000.0\n",
       "Product Data Scientist             8000.0\n",
       "Power BI Developer                 5409.0\n",
       "Name: salary_in_usd, Length: 93, dtype: float64"
      ]
     },
     "execution_count": 107,
     "metadata": {},
     "output_type": "execute_result"
    }
   ],
   "execution_count": 107
  },
  {
   "metadata": {},
   "cell_type": "markdown",
   "source": "### Оцените, как сильно изменились зарплаты в 2023 году, относительно 2020. Какие должности стали более оплачиваемы, а какие нет?"
  },
  {
   "metadata": {
    "ExecuteTime": {
     "end_time": "2024-11-28T19:42:47.309757Z",
     "start_time": "2024-11-28T19:42:46.993713Z"
    }
   },
   "cell_type": "code",
   "source": [
    "salary_change = df[df['work_year'].isin([2020, 2023])].groupby(['job_title', 'work_year'])['salary_in_usd'].mean().unstack()\n",
    "print(salary_change)\n",
    "\n",
    "salary_change.plot(kind='bar', figsize=(20, 8))\n",
    "plt.title('Изменение зарплат по должностям в 2023 году относительно 2020 года')\n",
    "plt.ylabel('Средняя зарплата')\n",
    "plt.show()"
   ],
   "outputs": [
    {
     "name": "stdout",
     "output_type": "stream",
     "text": [
      "work_year                   2020           2023\n",
      "job_title                                      \n",
      "AI Developer                 NaN  115252.875000\n",
      "AI Programmer                NaN   70000.000000\n",
      "AI Scientist             45896.0  231232.500000\n",
      "Analytics Engineer           NaN  168110.487805\n",
      "Applied Data Scientist       NaN   56329.333333\n",
      "...                          ...            ...\n",
      "Product Data Analyst     13036.0   16414.000000\n",
      "Research Engineer            NaN  158416.428571\n",
      "Research Scientist      246000.0  171624.921053\n",
      "Software Data Engineer       NaN   62510.000000\n",
      "Staff Data Analyst       15000.0            NaN\n",
      "\n",
      "[69 rows x 2 columns]\n"
     ]
    },
    {
     "data": {
      "text/plain": [
       "<Figure size 2000x800 with 1 Axes>"
      ],
      "image/png": "[encoded data removed]"
     },
     "metadata": {},
     "output_type": "display_data"
    }
   ],
   "execution_count": 110
  },
  {
   "metadata": {},
   "cell_type": "markdown",
   "source": "### Выявите портрет самого успешного и богатого работника: кем он должен работать, где проживать, удаленная ли работа."
  },
  {
   "metadata": {
    "ExecuteTime": {
     "end_time": "2024-11-28T19:43:33.621409Z",
     "start_time": "2024-11-28T19:43:33.613857Z"
    }
   },
   "cell_type": "code",
   "source": "df.loc[df['salary'].idxmax()]",
   "outputs": [
    {
     "data": {
      "text/plain": [
       "work_year                       2021\n",
       "experience_level                  MI\n",
       "employment_type                   FT\n",
       "job_title             Data Scientist\n",
       "salary                      30400000\n",
       "salary_currency                  CLP\n",
       "salary_in_usd                  40038\n",
       "employee_residence                CL\n",
       "remote_ratio                     100\n",
       "company_location                  CL\n",
       "company_size                       L\n",
       "Name: 3669, dtype: object"
      ]
     },
     "execution_count": 111,
     "metadata": {},
     "output_type": "execute_result"
    }
   ],
   "execution_count": 111
  },
  {
   "metadata": {},
   "cell_type": "markdown",
   "source": "### Много ли людей работают и проживают в разных регионах? Где больше всего людей проживает и много ли из них (в процентном соотношении) работают удаленно на другую страну?"
  },
  {
   "metadata": {
    "ExecuteTime": {
     "end_time": "2024-11-28T19:44:00.768918Z",
     "start_time": "2024-11-28T19:44:00.763786Z"
    }
   },
   "cell_type": "code",
   "source": [
    "region_counts = df['employee_residence'].value_counts()\n",
    "print(region_counts)\n",
    "\n",
    "remote_work_ratio = df[df['remote_ratio'] > 0]['employee_residence'].value_counts(normalize=True) * 100\n",
    "print(remote_work_ratio)"
   ],
   "outputs": [
    {
     "name": "stdout",
     "output_type": "stream",
     "text": [
      "employee_residence\n",
      "US    1893\n",
      "GB     150\n",
      "CA      81\n",
      "IN      70\n",
      "ES      47\n",
      "      ... \n",
      "BA       1\n",
      "AM       1\n",
      "CY       1\n",
      "KW       1\n",
      "MT       1\n",
      "Name: count, Length: 78, dtype: int64\n",
      "employee_residence\n",
      "US    65.951359\n",
      "GB     4.792561\n",
      "IN     4.291845\n",
      "CA     3.934192\n",
      "FR     2.503577\n",
      "        ...    \n",
      "MA     0.071531\n",
      "CR     0.071531\n",
      "IR     0.071531\n",
      "CN     0.071531\n",
      "MT     0.071531\n",
      "Name: proportion, Length: 68, dtype: float64\n"
     ]
    }
   ],
   "execution_count": 112
  },
  {
   "metadata": {},
   "cell_type": "markdown",
   "source": "### Оценка зарплат по уровню опыта"
  },
  {
   "metadata": {
    "ExecuteTime": {
     "end_time": "2024-11-28T19:45:42.190920Z",
     "start_time": "2024-11-28T19:45:42.107539Z"
    }
   },
   "cell_type": "code",
   "source": [
    "experience_salary = df.groupby('experience_level')['salary_in_usd'].mean().sort_values()\n",
    "print(experience_salary)\n",
    "\n",
    "plt.figure(figsize=(10, 6))\n",
    "sns.barplot(x=experience_salary.index, y=experience_salary.values)\n",
    "plt.title('Средняя зарплата по уровням опыта')\n",
    "plt.xlabel('Уровень опыта')\n",
    "plt.ylabel('Средняя зарплата')\n",
    "plt.show()"
   ],
   "outputs": [
    {
     "name": "stdout",
     "output_type": "stream",
     "text": [
      "experience_level\n",
      "EN     72648.685185\n",
      "MI    101828.783133\n",
      "SE    153897.435650\n",
      "EX    191078.208333\n",
      "Name: salary_in_usd, dtype: float64\n"
     ]
    },
    {
     "data": {
      "text/plain": [
       "<Figure size 1000x600 with 1 Axes>"
      ],
      "image/png": "[encoded data removed]"
     },
     "metadata": {},
     "output_type": "display_data"
    }
   ],
   "execution_count": 114
  }
 ],
 "metadata": {
  "ExecuteTimeLog": [
   {
    "duration": 109,
    "start_time": "2022-01-18T17:15:49.676Z"
   },
   {
    "duration": 4,
    "start_time": "2022-01-18T17:16:00.430Z"
   },
   {
    "duration": 1362,
    "start_time": "2022-01-18T17:16:08.599Z"
   },
   {
    "duration": 50,
    "start_time": "2022-01-18T17:16:19.980Z"
   },
   {
    "duration": 18,
    "start_time": "2022-01-18T17:16:25.566Z"
   },
   {
    "duration": 27,
    "start_time": "2022-01-18T17:16:31.002Z"
   },
   {
    "duration": 7,
    "start_time": "2022-01-18T17:17:18.166Z"
   },
   {
    "duration": 27,
    "start_time": "2022-01-18T17:17:32.470Z"
   },
   {
    "duration": 19,
    "start_time": "2022-01-18T17:17:45.057Z"
   },
   {
    "duration": 45,
    "start_time": "2022-01-18T17:17:55.042Z"
   },
   {
    "duration": 89,
    "start_time": "2022-01-18T17:18:00.262Z"
   },
   {
    "duration": 26,
    "start_time": "2022-01-18T17:18:08.382Z"
   },
   {
    "duration": 31,
    "start_time": "2022-01-18T17:18:25.011Z"
   },
   {
    "duration": 38,
    "start_time": "2022-01-18T17:18:29.183Z"
   },
   {
    "duration": 26,
    "start_time": "2022-01-18T17:18:42.822Z"
   },
   {
    "duration": 7,
    "start_time": "2022-01-18T17:18:51.094Z"
   },
   {
    "duration": 14381,
    "start_time": "2022-01-18T17:19:16.002Z"
   },
   {
    "duration": 24,
    "start_time": "2022-01-18T17:19:37.549Z"
   },
   {
    "duration": 31,
    "start_time": "2022-01-18T17:19:43.213Z"
   },
   {
    "duration": 13,
    "start_time": "2022-01-18T17:20:16.973Z"
   },
   {
    "duration": 9,
    "start_time": "2022-01-18T17:20:36.847Z"
   },
   {
    "duration": 9,
    "start_time": "2022-01-18T17:20:42.895Z"
   },
   {
    "duration": 18,
    "start_time": "2022-01-18T17:20:52.263Z"
   },
   {
    "duration": 20,
    "start_time": "2022-01-18T17:21:22.238Z"
   },
   {
    "duration": 15,
    "start_time": "2022-01-18T17:21:32.591Z"
   },
   {
    "duration": 37,
    "start_time": "2022-01-18T17:21:50.091Z"
   },
   {
    "duration": 10,
    "start_time": "2022-01-18T17:22:11.585Z"
   },
   {
    "duration": 9,
    "start_time": "2022-01-18T17:22:15.017Z"
   },
   {
    "duration": 24,
    "start_time": "2022-01-18T17:22:27.046Z"
   },
   {
    "duration": 25,
    "start_time": "2022-01-18T17:22:31.842Z"
   },
   {
    "duration": 24,
    "start_time": "2022-01-18T17:38:29.490Z"
   },
   {
    "duration": 33,
    "start_time": "2022-01-18T17:38:41.163Z"
   },
   {
    "duration": 330,
    "start_time": "2022-01-18T17:38:59.025Z"
   },
   {
    "duration": 23,
    "start_time": "2022-01-18T17:39:07.724Z"
   },
   {
    "duration": 5,
    "start_time": "2022-01-18T17:39:38.128Z"
   },
   {
    "duration": 16,
    "start_time": "2022-01-18T17:39:57.485Z"
   },
   {
    "duration": 1267,
    "start_time": "2022-01-18T17:40:12.754Z"
   },
   {
    "duration": 18,
    "start_time": "2022-01-18T17:40:34.512Z"
   },
   {
    "duration": 16,
    "start_time": "2022-01-18T17:40:43.852Z"
   },
   {
    "duration": 373,
    "start_time": "2022-01-18T17:41:33.226Z"
   },
   {
    "duration": 102,
    "start_time": "2022-01-18T17:42:09.315Z"
   },
   {
    "duration": 8,
    "start_time": "2022-01-18T17:42:12.601Z"
   },
   {
    "duration": 8,
    "start_time": "2022-01-18T17:42:35.575Z"
   },
   {
    "duration": 267,
    "start_time": "2022-01-18T17:44:37.551Z"
   },
   {
    "duration": 277,
    "start_time": "2022-01-18T17:45:10.688Z"
   },
   {
    "duration": 11,
    "start_time": "2022-01-18T17:45:59.545Z"
   },
   {
    "duration": 265,
    "start_time": "2022-01-18T17:46:21.546Z"
   },
   {
    "duration": 14,
    "start_time": "2022-01-18T17:46:25.071Z"
   },
   {
    "duration": 24,
    "start_time": "2022-01-18T17:46:37.598Z"
   },
   {
    "duration": 13,
    "start_time": "2022-01-18T17:46:39.356Z"
   },
   {
    "duration": 12,
    "start_time": "2022-01-18T17:46:51.497Z"
   },
   {
    "duration": 7,
    "start_time": "2022-01-18T17:50:58.138Z"
   },
   {
    "duration": 818,
    "start_time": "2022-01-18T17:51:03.091Z"
   },
   {
    "duration": 728,
    "start_time": "2022-01-18T17:51:11.781Z"
   },
   {
    "duration": 701,
    "start_time": "2022-01-18T17:53:08.868Z"
   },
   {
    "duration": 20,
    "start_time": "2022-01-18T17:57:43.882Z"
   },
   {
    "duration": 13,
    "start_time": "2022-01-18T17:58:02.261Z"
   },
   {
    "duration": 20,
    "start_time": "2022-01-18T17:58:11.965Z"
   },
   {
    "duration": 5,
    "start_time": "2022-01-18T18:00:44.203Z"
   },
   {
    "duration": 289,
    "start_time": "2022-01-18T18:01:16.204Z"
   },
   {
    "duration": 286,
    "start_time": "2022-01-18T18:01:29.387Z"
   },
   {
    "duration": 1306,
    "start_time": "2022-01-18T18:01:39.421Z"
   },
   {
    "duration": 45,
    "start_time": "2022-01-18T18:01:40.730Z"
   },
   {
    "duration": 15,
    "start_time": "2022-01-18T18:01:40.778Z"
   },
   {
    "duration": 25,
    "start_time": "2022-01-18T18:01:40.796Z"
   },
   {
    "duration": 7,
    "start_time": "2022-01-18T18:01:40.823Z"
   },
   {
    "duration": 57,
    "start_time": "2022-01-18T18:01:40.832Z"
   },
   {
    "duration": 17,
    "start_time": "2022-01-18T18:01:40.892Z"
   },
   {
    "duration": 68,
    "start_time": "2022-01-18T18:01:40.911Z"
   },
   {
    "duration": 25,
    "start_time": "2022-01-18T18:01:40.983Z"
   },
   {
    "duration": 30,
    "start_time": "2022-01-18T18:01:41.011Z"
   },
   {
    "duration": 21,
    "start_time": "2022-01-18T18:01:41.070Z"
   },
   {
    "duration": 24,
    "start_time": "2022-01-18T18:01:41.093Z"
   },
   {
    "duration": 61,
    "start_time": "2022-01-18T18:01:41.119Z"
   },
   {
    "duration": 14,
    "start_time": "2022-01-18T18:01:41.183Z"
   },
   {
    "duration": 11,
    "start_time": "2022-01-18T18:01:41.199Z"
   },
   {
    "duration": 8,
    "start_time": "2022-01-18T18:01:41.212Z"
   },
   {
    "duration": 59,
    "start_time": "2022-01-18T18:01:41.223Z"
   },
   {
    "duration": 20,
    "start_time": "2022-01-18T18:01:41.285Z"
   },
   {
    "duration": 23,
    "start_time": "2022-01-18T18:01:41.309Z"
   },
   {
    "duration": 11,
    "start_time": "2022-01-18T18:01:41.369Z"
   },
   {
    "duration": 14,
    "start_time": "2022-01-18T18:01:41.382Z"
   },
   {
    "duration": 23,
    "start_time": "2022-01-18T18:01:41.398Z"
   },
   {
    "duration": 55,
    "start_time": "2022-01-18T18:01:41.424Z"
   },
   {
    "duration": 24,
    "start_time": "2022-01-18T18:01:41.482Z"
   },
   {
    "duration": 16,
    "start_time": "2022-01-18T18:01:41.508Z"
   },
   {
    "duration": 9,
    "start_time": "2022-01-18T18:01:41.526Z"
   },
   {
    "duration": 14,
    "start_time": "2022-01-18T18:01:41.571Z"
   },
   {
    "duration": 23,
    "start_time": "2022-01-18T18:01:41.588Z"
   },
   {
    "duration": 12,
    "start_time": "2022-01-18T18:01:41.613Z"
   },
   {
    "duration": 407,
    "start_time": "2022-01-18T18:01:41.627Z"
   },
   {
    "duration": 1236,
    "start_time": "2022-01-18T18:01:40.800Z"
   },
   {
    "duration": 1237,
    "start_time": "2022-01-18T18:01:40.801Z"
   },
   {
    "duration": 1238,
    "start_time": "2022-01-18T18:01:40.801Z"
   },
   {
    "duration": 6,
    "start_time": "2022-01-18T18:03:45.935Z"
   },
   {
    "duration": 275,
    "start_time": "2022-01-18T18:03:51.304Z"
   },
   {
    "duration": 16,
    "start_time": "2022-01-18T18:04:03.374Z"
   },
   {
    "duration": 23,
    "start_time": "2022-01-18T18:04:11.910Z"
   },
   {
    "duration": 1408,
    "start_time": "2022-01-18T18:04:22.220Z"
   },
   {
    "duration": 46,
    "start_time": "2022-01-18T18:04:23.631Z"
   },
   {
    "duration": 14,
    "start_time": "2022-01-18T18:04:23.681Z"
   },
   {
    "duration": 25,
    "start_time": "2022-01-18T18:04:23.698Z"
   },
   {
    "duration": 9,
    "start_time": "2022-01-18T18:04:23.725Z"
   },
   {
    "duration": 51,
    "start_time": "2022-01-18T18:04:23.736Z"
   },
   {
    "duration": 19,
    "start_time": "2022-01-18T18:04:23.790Z"
   },
   {
    "duration": 68,
    "start_time": "2022-01-18T18:04:23.811Z"
   },
   {
    "duration": 24,
    "start_time": "2022-01-18T18:04:23.884Z"
   },
   {
    "duration": 30,
    "start_time": "2022-01-18T18:04:23.911Z"
   },
   {
    "duration": 21,
    "start_time": "2022-01-18T18:04:23.969Z"
   },
   {
    "duration": 30,
    "start_time": "2022-01-18T18:04:23.993Z"
   },
   {
    "duration": 63,
    "start_time": "2022-01-18T18:04:24.025Z"
   },
   {
    "duration": 12,
    "start_time": "2022-01-18T18:04:24.090Z"
   },
   {
    "duration": 8,
    "start_time": "2022-01-18T18:04:24.104Z"
   },
   {
    "duration": 7,
    "start_time": "2022-01-18T18:04:24.115Z"
   },
   {
    "duration": 51,
    "start_time": "2022-01-18T18:04:24.125Z"
   },
   {
    "duration": 18,
    "start_time": "2022-01-18T18:04:24.179Z"
   },
   {
    "duration": 22,
    "start_time": "2022-01-18T18:04:24.200Z"
   },
   {
    "duration": 11,
    "start_time": "2022-01-18T18:04:24.224Z"
   },
   {
    "duration": 9,
    "start_time": "2022-01-18T18:04:24.270Z"
   },
   {
    "duration": 25,
    "start_time": "2022-01-18T18:04:24.282Z"
   },
   {
    "duration": 24,
    "start_time": "2022-01-18T18:04:24.309Z"
   },
   {
    "duration": 24,
    "start_time": "2022-01-18T18:04:24.370Z"
   },
   {
    "duration": 16,
    "start_time": "2022-01-18T18:04:24.396Z"
   },
   {
    "duration": 9,
    "start_time": "2022-01-18T18:04:24.415Z"
   },
   {
    "duration": 50,
    "start_time": "2022-01-18T18:04:24.428Z"
   },
   {
    "duration": 23,
    "start_time": "2022-01-18T18:04:24.481Z"
   },
   {
    "duration": 12,
    "start_time": "2022-01-18T18:04:24.506Z"
   },
   {
    "duration": 52,
    "start_time": "2022-01-18T18:04:24.521Z"
   },
   {
    "duration": 18,
    "start_time": "2022-01-18T18:04:24.575Z"
   },
   {
    "duration": 7,
    "start_time": "2022-01-18T18:04:24.595Z"
   },
   {
    "duration": 21,
    "start_time": "2022-01-18T18:04:24.604Z"
   },
   {
    "duration": 1412,
    "start_time": "2022-01-18T18:05:16.714Z"
   },
   {
    "duration": 47,
    "start_time": "2022-01-18T18:05:18.128Z"
   },
   {
    "duration": 15,
    "start_time": "2022-01-18T18:05:18.178Z"
   },
   {
    "duration": 30,
    "start_time": "2022-01-18T18:05:18.196Z"
   },
   {
    "duration": 7,
    "start_time": "2022-01-18T18:05:18.228Z"
   },
   {
    "duration": 57,
    "start_time": "2022-01-18T18:05:18.237Z"
   },
   {
    "duration": 21,
    "start_time": "2022-01-18T18:05:18.296Z"
   },
   {
    "duration": 69,
    "start_time": "2022-01-18T18:05:18.320Z"
   },
   {
    "duration": 23,
    "start_time": "2022-01-18T18:05:18.393Z"
   },
   {
    "duration": 52,
    "start_time": "2022-01-18T18:05:18.419Z"
   },
   {
    "duration": 23,
    "start_time": "2022-01-18T18:05:18.474Z"
   },
   {
    "duration": 25,
    "start_time": "2022-01-18T18:05:18.499Z"
   },
   {
    "duration": 65,
    "start_time": "2022-01-18T18:05:18.526Z"
   },
   {
    "duration": 14,
    "start_time": "2022-01-18T18:05:18.593Z"
   },
   {
    "duration": 11,
    "start_time": "2022-01-18T18:05:18.610Z"
   },
   {
    "duration": 7,
    "start_time": "2022-01-18T18:05:18.623Z"
   },
   {
    "duration": 49,
    "start_time": "2022-01-18T18:05:18.632Z"
   },
   {
    "duration": 19,
    "start_time": "2022-01-18T18:05:18.683Z"
   },
   {
    "duration": 29,
    "start_time": "2022-01-18T18:05:18.704Z"
   },
   {
    "duration": 12,
    "start_time": "2022-01-18T18:05:18.768Z"
   },
   {
    "duration": 9,
    "start_time": "2022-01-18T18:05:18.783Z"
   },
   {
    "duration": 26,
    "start_time": "2022-01-18T18:05:18.795Z"
   },
   {
    "duration": 61,
    "start_time": "2022-01-18T18:05:18.824Z"
   },
   {
    "duration": 23,
    "start_time": "2022-01-18T18:05:18.888Z"
   },
   {
    "duration": 20,
    "start_time": "2022-01-18T18:05:18.914Z"
   },
   {
    "duration": 40,
    "start_time": "2022-01-18T18:05:18.936Z"
   },
   {
    "duration": 20,
    "start_time": "2022-01-18T18:05:18.982Z"
   },
   {
    "duration": 24,
    "start_time": "2022-01-18T18:05:19.005Z"
   },
   {
    "duration": 52,
    "start_time": "2022-01-18T18:05:19.033Z"
   },
   {
    "duration": 20,
    "start_time": "2022-01-18T18:05:19.088Z"
   },
   {
    "duration": 11,
    "start_time": "2022-01-18T18:05:19.110Z"
   },
   {
    "duration": 55,
    "start_time": "2022-01-18T18:05:19.124Z"
   },
   {
    "duration": 492,
    "start_time": "2022-01-18T18:07:50.340Z"
   },
   {
    "duration": 35,
    "start_time": "2022-01-18T18:08:03.319Z"
   },
   {
    "duration": 86,
    "start_time": "2022-01-18T18:10:06.068Z"
   },
   {
    "duration": 1339,
    "start_time": "2022-01-18T18:13:24.194Z"
   },
   {
    "duration": 1323,
    "start_time": "2022-01-18T18:13:43.585Z"
   },
   {
    "duration": 1209,
    "start_time": "2022-01-18T18:14:17.897Z"
   },
   {
    "duration": 11,
    "start_time": "2022-01-18T18:14:53.227Z"
   },
   {
    "duration": 7,
    "start_time": "2022-01-18T18:15:27.892Z"
   },
   {
    "duration": 89,
    "start_time": "2022-01-18T18:15:51.019Z"
   },
   {
    "duration": 1328,
    "start_time": "2022-01-18T18:15:53.226Z"
   },
   {
    "duration": 12,
    "start_time": "2022-01-18T18:17:16.949Z"
   },
   {
    "duration": 8,
    "start_time": "2022-01-18T18:17:18.406Z"
   },
   {
    "duration": 13,
    "start_time": "2022-01-18T18:18:23.663Z"
   },
   {
    "duration": 13,
    "start_time": "2022-01-18T18:18:31.472Z"
   },
   {
    "duration": 20,
    "start_time": "2022-01-18T18:18:38.428Z"
   },
   {
    "duration": 22,
    "start_time": "2022-01-18T18:20:20.605Z"
   },
   {
    "duration": 26,
    "start_time": "2022-01-18T18:20:40.802Z"
   },
   {
    "duration": 1328,
    "start_time": "2022-01-18T18:20:46.214Z"
   },
   {
    "duration": 46,
    "start_time": "2022-01-18T18:20:47.545Z"
   },
   {
    "duration": 16,
    "start_time": "2022-01-18T18:20:47.594Z"
   },
   {
    "duration": 27,
    "start_time": "2022-01-18T18:20:47.613Z"
   },
   {
    "duration": 7,
    "start_time": "2022-01-18T18:20:47.670Z"
   },
   {
    "duration": 26,
    "start_time": "2022-01-18T18:20:47.680Z"
   },
   {
    "duration": 17,
    "start_time": "2022-01-18T18:20:47.708Z"
   },
   {
    "duration": 67,
    "start_time": "2022-01-18T18:20:47.728Z"
   },
   {
    "duration": 24,
    "start_time": "2022-01-18T18:20:47.799Z"
   },
   {
    "duration": 56,
    "start_time": "2022-01-18T18:20:47.826Z"
   },
   {
    "duration": 25,
    "start_time": "2022-01-18T18:20:47.884Z"
   },
   {
    "duration": 24,
    "start_time": "2022-01-18T18:20:47.912Z"
   },
   {
    "duration": 52,
    "start_time": "2022-01-18T18:20:47.939Z"
   },
   {
    "duration": 10,
    "start_time": "2022-01-18T18:20:47.994Z"
   },
   {
    "duration": 8,
    "start_time": "2022-01-18T18:20:48.007Z"
   },
   {
    "duration": 8,
    "start_time": "2022-01-18T18:20:48.018Z"
   },
   {
    "duration": 48,
    "start_time": "2022-01-18T18:20:48.028Z"
   },
   {
    "duration": 18,
    "start_time": "2022-01-18T18:20:48.079Z"
   },
   {
    "duration": 24,
    "start_time": "2022-01-18T18:20:48.100Z"
   },
   {
    "duration": 44,
    "start_time": "2022-01-18T18:20:48.126Z"
   },
   {
    "duration": 9,
    "start_time": "2022-01-18T18:20:48.173Z"
   },
   {
    "duration": 24,
    "start_time": "2022-01-18T18:20:48.184Z"
   },
   {
    "duration": 23,
    "start_time": "2022-01-18T18:20:48.211Z"
   },
   {
    "duration": 55,
    "start_time": "2022-01-18T18:20:48.236Z"
   },
   {
    "duration": 17,
    "start_time": "2022-01-18T18:20:48.294Z"
   },
   {
    "duration": 10,
    "start_time": "2022-01-18T18:20:48.313Z"
   },
   {
    "duration": 47,
    "start_time": "2022-01-18T18:20:48.327Z"
   },
   {
    "duration": 23,
    "start_time": "2022-01-18T18:20:48.376Z"
   },
   {
    "duration": 25,
    "start_time": "2022-01-18T18:20:48.402Z"
   },
   {
    "duration": 6,
    "start_time": "2022-01-18T18:20:48.430Z"
   },
   {
    "duration": 23,
    "start_time": "2022-01-18T18:23:50.329Z"
   },
   {
    "duration": 500,
    "start_time": "2022-01-18T18:24:02.976Z"
   },
   {
    "duration": 288,
    "start_time": "2022-01-18T18:24:11.001Z"
   },
   {
    "duration": 287,
    "start_time": "2022-01-18T18:24:17.165Z"
   },
   {
    "duration": 23,
    "start_time": "2022-01-18T18:24:19.803Z"
   },
   {
    "duration": 24,
    "start_time": "2022-01-18T18:24:40.995Z"
   },
   {
    "duration": 78,
    "start_time": "2022-01-18T18:24:58.130Z"
   },
   {
    "duration": 455,
    "start_time": "2022-01-18T18:25:31.492Z"
   },
   {
    "duration": 333,
    "start_time": "2022-01-18T18:25:36.059Z"
   },
   {
    "duration": 744,
    "start_time": "2022-01-18T18:26:11.115Z"
   },
   {
    "duration": 977,
    "start_time": "2022-01-18T18:26:32.227Z"
   },
   {
    "duration": 926,
    "start_time": "2022-01-18T18:27:03.995Z"
   },
   {
    "duration": 270,
    "start_time": "2022-01-18T18:28:16.983Z"
   },
   {
    "duration": 271,
    "start_time": "2022-01-18T18:28:22.847Z"
   },
   {
    "duration": 1076,
    "start_time": "2022-01-18T18:28:32.608Z"
   },
   {
    "duration": 968,
    "start_time": "2022-01-18T18:28:42.242Z"
   },
   {
    "duration": 914,
    "start_time": "2022-01-18T18:28:50.458Z"
   },
   {
    "duration": 944,
    "start_time": "2022-01-18T18:30:42.417Z"
   },
   {
    "duration": 1226,
    "start_time": "2022-01-18T18:31:35.380Z"
   },
   {
    "duration": 1178,
    "start_time": "2022-01-18T18:31:45.196Z"
   },
   {
    "duration": 1244,
    "start_time": "2022-01-18T18:31:49.368Z"
   },
   {
    "duration": 968,
    "start_time": "2022-01-18T18:31:56.303Z"
   },
   {
    "duration": 914,
    "start_time": "2022-01-18T18:32:06.432Z"
   },
   {
    "duration": 956,
    "start_time": "2022-01-18T18:32:20.694Z"
   },
   {
    "duration": 903,
    "start_time": "2022-01-18T18:32:27.345Z"
   },
   {
    "duration": 1358,
    "start_time": "2022-01-18T18:33:20.982Z"
   },
   {
    "duration": 6561,
    "start_time": "2022-01-18T18:37:27.810Z"
   },
   {
    "duration": 51,
    "start_time": "2022-01-18T18:37:57.250Z"
   },
   {
    "duration": 96,
    "start_time": "2022-01-18T18:39:58.615Z"
   },
   {
    "duration": 87,
    "start_time": "2022-01-18T18:40:57.758Z"
   },
   {
    "duration": 100,
    "start_time": "2022-01-18T18:42:20.739Z"
   },
   {
    "duration": 467,
    "start_time": "2022-01-18T18:56:07.322Z"
   },
   {
    "duration": 8657,
    "start_time": "2022-01-18T18:56:18.001Z"
   },
   {
    "duration": 7531,
    "start_time": "2022-01-18T18:57:12.631Z"
   },
   {
    "duration": 7942,
    "start_time": "2022-01-18T18:57:31.842Z"
   },
   {
    "duration": 119,
    "start_time": "2022-01-18T18:58:09.396Z"
   },
   {
    "duration": 49,
    "start_time": "2022-01-18T18:58:26.563Z"
   },
   {
    "duration": 7754,
    "start_time": "2022-01-18T18:58:43.446Z"
   },
   {
    "duration": 110,
    "start_time": "2022-01-18T18:59:11.119Z"
   },
   {
    "duration": 98,
    "start_time": "2022-01-18T18:59:24.534Z"
   },
   {
    "duration": 114,
    "start_time": "2022-01-18T18:59:32.369Z"
   },
   {
    "duration": 7816,
    "start_time": "2022-01-18T19:00:49.522Z"
   },
   {
    "duration": 98,
    "start_time": "2022-01-18T19:01:11.027Z"
   },
   {
    "duration": 6829,
    "start_time": "2022-01-18T19:01:44.014Z"
   },
   {
    "duration": 292,
    "start_time": "2022-01-18T19:01:57.640Z"
   },
   {
    "duration": 6662,
    "start_time": "2022-01-18T19:02:06.949Z"
   },
   {
    "duration": 5,
    "start_time": "2022-01-18T19:02:47.138Z"
   },
   {
    "duration": 8,
    "start_time": "2022-01-18T19:02:51.838Z"
   },
   {
    "duration": 5,
    "start_time": "2022-01-18T19:03:28.842Z"
   },
   {
    "duration": 312,
    "start_time": "2022-01-18T19:03:35.127Z"
   },
   {
    "duration": 81,
    "start_time": "2022-01-18T19:03:48.647Z"
   },
   {
    "duration": 1375,
    "start_time": "2022-01-18T19:03:56.356Z"
   },
   {
    "duration": 48,
    "start_time": "2022-01-18T19:03:57.734Z"
   },
   {
    "duration": 17,
    "start_time": "2022-01-18T19:03:57.789Z"
   },
   {
    "duration": 24,
    "start_time": "2022-01-18T19:03:57.809Z"
   },
   {
    "duration": 39,
    "start_time": "2022-01-18T19:03:57.835Z"
   },
   {
    "duration": 22,
    "start_time": "2022-01-18T19:03:57.876Z"
   },
   {
    "duration": 21,
    "start_time": "2022-01-18T19:03:57.900Z"
   },
   {
    "duration": 69,
    "start_time": "2022-01-18T19:03:57.925Z"
   },
   {
    "duration": 24,
    "start_time": "2022-01-18T19:03:57.998Z"
   },
   {
    "duration": 54,
    "start_time": "2022-01-18T19:03:58.025Z"
   },
   {
    "duration": 20,
    "start_time": "2022-01-18T19:03:58.082Z"
   },
   {
    "duration": 26,
    "start_time": "2022-01-18T19:03:58.105Z"
   },
   {
    "duration": 55,
    "start_time": "2022-01-18T19:03:58.134Z"
   },
   {
    "duration": 17,
    "start_time": "2022-01-18T19:03:58.191Z"
   },
   {
    "duration": 9,
    "start_time": "2022-01-18T19:03:58.211Z"
   },
   {
    "duration": 7,
    "start_time": "2022-01-18T19:03:58.222Z"
   },
   {
    "duration": 40,
    "start_time": "2022-01-18T19:03:58.231Z"
   },
   {
    "duration": 18,
    "start_time": "2022-01-18T19:03:58.273Z"
   },
   {
    "duration": 25,
    "start_time": "2022-01-18T19:03:58.294Z"
   },
   {
    "duration": 11,
    "start_time": "2022-01-18T19:03:58.321Z"
   },
   {
    "duration": 11,
    "start_time": "2022-01-18T19:03:58.371Z"
   },
   {
    "duration": 24,
    "start_time": "2022-01-18T19:03:58.385Z"
   },
   {
    "duration": 57,
    "start_time": "2022-01-18T19:03:58.412Z"
   },
   {
    "duration": 23,
    "start_time": "2022-01-18T19:03:58.473Z"
   },
   {
    "duration": 18,
    "start_time": "2022-01-18T19:03:58.498Z"
   },
   {
    "duration": 46,
    "start_time": "2022-01-18T19:03:58.523Z"
   },
   {
    "duration": 15,
    "start_time": "2022-01-18T19:03:58.572Z"
   },
   {
    "duration": 23,
    "start_time": "2022-01-18T19:03:58.589Z"
   },
   {
    "duration": 25,
    "start_time": "2022-01-18T19:03:58.614Z"
   },
   {
    "duration": 6,
    "start_time": "2022-01-18T19:03:58.670Z"
   },
   {
    "duration": 897,
    "start_time": "2022-01-18T19:03:58.679Z"
   },
   {
    "duration": 28,
    "start_time": "2022-01-18T19:03:59.579Z"
   },
   {
    "duration": 117,
    "start_time": "2022-01-18T19:03:59.611Z"
   },
   {
    "duration": 6,
    "start_time": "2022-01-18T19:03:59.730Z"
   },
   {
    "duration": 100,
    "start_time": "2022-01-18T19:03:59.738Z"
   },
   {
    "duration": 8116,
    "start_time": "2022-01-18T19:03:59.841Z"
   },
   {
    "duration": 292,
    "start_time": "2022-01-18T19:04:29.186Z"
   },
   {
    "duration": 1648,
    "start_time": "2022-01-18T19:04:35.104Z"
   },
   {
    "duration": 49,
    "start_time": "2022-01-18T19:04:36.755Z"
   },
   {
    "duration": 18,
    "start_time": "2022-01-18T19:04:36.808Z"
   },
   {
    "duration": 53,
    "start_time": "2022-01-18T19:04:36.829Z"
   },
   {
    "duration": 6,
    "start_time": "2022-01-18T19:04:36.885Z"
   },
   {
    "duration": 22,
    "start_time": "2022-01-18T19:04:36.893Z"
   },
   {
    "duration": 53,
    "start_time": "2022-01-18T19:04:36.918Z"
   },
   {
    "duration": 40,
    "start_time": "2022-01-18T19:04:36.973Z"
   },
   {
    "duration": 24,
    "start_time": "2022-01-18T19:04:37.018Z"
   },
   {
    "duration": 56,
    "start_time": "2022-01-18T19:04:37.045Z"
   },
   {
    "duration": 22,
    "start_time": "2022-01-18T19:04:37.104Z"
   },
   {
    "duration": 66,
    "start_time": "2022-01-18T19:04:37.130Z"
   },
   {
    "duration": 42,
    "start_time": "2022-01-18T19:04:37.199Z"
   },
   {
    "duration": 30,
    "start_time": "2022-01-18T19:04:37.244Z"
   },
   {
    "duration": 9,
    "start_time": "2022-01-18T19:04:37.277Z"
   },
   {
    "duration": 8,
    "start_time": "2022-01-18T19:04:37.288Z"
   },
   {
    "duration": 19,
    "start_time": "2022-01-18T19:04:37.298Z"
   },
   {
    "duration": 52,
    "start_time": "2022-01-18T19:04:37.319Z"
   },
   {
    "duration": 24,
    "start_time": "2022-01-18T19:04:37.374Z"
   },
   {
    "duration": 11,
    "start_time": "2022-01-18T19:04:37.401Z"
   },
   {
    "duration": 14,
    "start_time": "2022-01-18T19:04:37.415Z"
   },
   {
    "duration": 68,
    "start_time": "2022-01-18T19:04:37.432Z"
   },
   {
    "duration": 34,
    "start_time": "2022-01-18T19:04:37.503Z"
   },
   {
    "duration": 46,
    "start_time": "2022-01-18T19:04:37.539Z"
   },
   {
    "duration": 20,
    "start_time": "2022-01-18T19:04:37.587Z"
   },
   {
    "duration": 10,
    "start_time": "2022-01-18T19:04:37.610Z"
   },
   {
    "duration": 50,
    "start_time": "2022-01-18T19:04:37.625Z"
   },
   {
    "duration": 24,
    "start_time": "2022-01-18T19:04:37.678Z"
   },
   {
    "duration": 25,
    "start_time": "2022-01-18T19:04:37.705Z"
   },
   {
    "duration": 37,
    "start_time": "2022-01-18T19:04:37.732Z"
   },
   {
    "duration": 892,
    "start_time": "2022-01-18T19:04:37.772Z"
   },
   {
    "duration": 27,
    "start_time": "2022-01-18T19:04:38.669Z"
   },
   {
    "duration": 118,
    "start_time": "2022-01-18T19:04:38.699Z"
   },
   {
    "duration": 6,
    "start_time": "2022-01-18T19:04:38.819Z"
   },
   {
    "duration": 98,
    "start_time": "2022-01-18T19:04:38.827Z"
   },
   {
    "duration": 7677,
    "start_time": "2022-01-18T19:04:38.928Z"
   },
   {
    "duration": 1376,
    "start_time": "2022-01-18T19:05:17.752Z"
   },
   {
    "duration": 46,
    "start_time": "2022-01-18T19:05:19.131Z"
   },
   {
    "duration": 14,
    "start_time": "2022-01-18T19:05:19.184Z"
   },
   {
    "duration": 25,
    "start_time": "2022-01-18T19:05:19.201Z"
   },
   {
    "duration": 42,
    "start_time": "2022-01-18T19:05:19.229Z"
   },
   {
    "duration": 21,
    "start_time": "2022-01-18T19:05:19.273Z"
   },
   {
    "duration": 16,
    "start_time": "2022-01-18T19:05:19.297Z"
   },
   {
    "duration": 67,
    "start_time": "2022-01-18T19:05:19.318Z"
   },
   {
    "duration": 23,
    "start_time": "2022-01-18T19:05:19.388Z"
   },
   {
    "duration": 57,
    "start_time": "2022-01-18T19:05:19.414Z"
   },
   {
    "duration": 22,
    "start_time": "2022-01-18T19:05:19.474Z"
   },
   {
    "duration": 27,
    "start_time": "2022-01-18T19:05:19.500Z"
   },
   {
    "duration": 65,
    "start_time": "2022-01-18T19:05:19.530Z"
   },
   {
    "duration": 10,
    "start_time": "2022-01-18T19:05:19.597Z"
   },
   {
    "duration": 9,
    "start_time": "2022-01-18T19:05:19.610Z"
   },
   {
    "duration": 7,
    "start_time": "2022-01-18T19:05:19.622Z"
   },
   {
    "duration": 50,
    "start_time": "2022-01-18T19:05:19.632Z"
   },
   {
    "duration": 19,
    "start_time": "2022-01-18T19:05:19.684Z"
   },
   {
    "duration": 29,
    "start_time": "2022-01-18T19:05:19.705Z"
   },
   {
    "duration": 39,
    "start_time": "2022-01-18T19:05:19.737Z"
   },
   {
    "duration": 8,
    "start_time": "2022-01-18T19:05:19.779Z"
   },
   {
    "duration": 25,
    "start_time": "2022-01-18T19:05:19.790Z"
   },
   {
    "duration": 56,
    "start_time": "2022-01-18T19:05:19.817Z"
   },
   {
    "duration": 24,
    "start_time": "2022-01-18T19:05:19.875Z"
   },
   {
    "duration": 16,
    "start_time": "2022-01-18T19:05:19.901Z"
   },
   {
    "duration": 10,
    "start_time": "2022-01-18T19:05:19.922Z"
   },
   {
    "duration": 47,
    "start_time": "2022-01-18T19:05:19.934Z"
   },
   {
    "duration": 23,
    "start_time": "2022-01-18T19:05:19.983Z"
   },
   {
    "duration": 25,
    "start_time": "2022-01-18T19:05:20.008Z"
   },
   {
    "duration": 39,
    "start_time": "2022-01-18T19:05:20.035Z"
   },
   {
    "duration": 1050,
    "start_time": "2022-01-18T19:05:20.077Z"
   },
   {
    "duration": 43,
    "start_time": "2022-01-18T19:05:21.129Z"
   },
   {
    "duration": 110,
    "start_time": "2022-01-18T19:05:21.175Z"
   },
   {
    "duration": 6,
    "start_time": "2022-01-18T19:05:21.288Z"
   },
   {
    "duration": 89,
    "start_time": "2022-01-18T19:05:21.297Z"
   },
   {
    "duration": 6886,
    "start_time": "2022-01-18T19:05:21.389Z"
   },
   {
    "duration": 169,
    "start_time": "2022-01-18T19:12:28.527Z"
   },
   {
    "duration": 7,
    "start_time": "2022-01-18T19:20:50.210Z"
   },
   {
    "duration": 5,
    "start_time": "2022-01-18T19:21:39.437Z"
   },
   {
    "duration": 760,
    "start_time": "2022-01-18T19:22:00.155Z"
   },
   {
    "duration": 315,
    "start_time": "2022-01-18T19:24:02.652Z"
   },
   {
    "duration": 6962,
    "start_time": "2022-01-18T19:24:11.516Z"
   },
   {
    "duration": 342,
    "start_time": "2022-01-18T19:24:26.783Z"
   },
   {
    "duration": 6,
    "start_time": "2022-01-18T19:24:34.233Z"
   },
   {
    "duration": 560,
    "start_time": "2022-01-18T19:25:07.268Z"
   },
   {
    "duration": 373,
    "start_time": "2022-01-18T19:25:16.626Z"
   },
   {
    "duration": 723,
    "start_time": "2022-01-18T19:25:26.885Z"
   },
   {
    "duration": 13,
    "start_time": "2022-01-18T19:26:05.203Z"
   },
   {
    "duration": 7,
    "start_time": "2022-01-18T19:27:03.578Z"
   },
   {
    "duration": 699,
    "start_time": "2022-01-18T19:27:30.361Z"
   },
   {
    "duration": 5,
    "start_time": "2022-01-18T19:28:09.504Z"
   },
   {
    "duration": 7318,
    "start_time": "2022-01-18T19:28:11.561Z"
   },
   {
    "duration": 421,
    "start_time": "2022-01-18T19:28:50.886Z"
   },
   {
    "duration": 24,
    "start_time": "2022-01-18T19:29:08.005Z"
   },
   {
    "duration": 5,
    "start_time": "2022-01-18T19:29:29.939Z"
   },
   {
    "duration": 472,
    "start_time": "2022-01-18T19:29:39.587Z"
   },
   {
    "duration": 6,
    "start_time": "2022-01-18T19:29:57.635Z"
   },
   {
    "duration": 39,
    "start_time": "2022-01-18T19:30:03.404Z"
   },
   {
    "duration": 1100,
    "start_time": "2022-01-18T19:30:22.814Z"
   },
   {
    "duration": 1342,
    "start_time": "2022-01-18T19:31:07.806Z"
   },
   {
    "duration": 48,
    "start_time": "2022-01-18T19:31:09.151Z"
   },
   {
    "duration": 15,
    "start_time": "2022-01-18T19:31:09.202Z"
   },
   {
    "duration": 24,
    "start_time": "2022-01-18T19:31:09.220Z"
   },
   {
    "duration": 29,
    "start_time": "2022-01-18T19:31:09.246Z"
   },
   {
    "duration": 25,
    "start_time": "2022-01-18T19:31:09.277Z"
   },
   {
    "duration": 22,
    "start_time": "2022-01-18T19:31:09.304Z"
   },
   {
    "duration": 65,
    "start_time": "2022-01-18T19:31:09.328Z"
   },
   {
    "duration": 23,
    "start_time": "2022-01-18T19:31:09.397Z"
   },
   {
    "duration": 56,
    "start_time": "2022-01-18T19:31:09.423Z"
   },
   {
    "duration": 22,
    "start_time": "2022-01-18T19:31:09.482Z"
   },
   {
    "duration": 29,
    "start_time": "2022-01-18T19:31:09.506Z"
   },
   {
    "duration": 56,
    "start_time": "2022-01-18T19:31:09.537Z"
   },
   {
    "duration": 16,
    "start_time": "2022-01-18T19:31:09.595Z"
   },
   {
    "duration": 9,
    "start_time": "2022-01-18T19:31:09.614Z"
   },
   {
    "duration": 7,
    "start_time": "2022-01-18T19:31:09.626Z"
   },
   {
    "duration": 44,
    "start_time": "2022-01-18T19:31:09.635Z"
   },
   {
    "duration": 19,
    "start_time": "2022-01-18T19:31:09.681Z"
   },
   {
    "duration": 23,
    "start_time": "2022-01-18T19:31:09.703Z"
   },
   {
    "duration": 43,
    "start_time": "2022-01-18T19:31:09.729Z"
   },
   {
    "duration": 12,
    "start_time": "2022-01-18T19:31:09.775Z"
   },
   {
    "duration": 24,
    "start_time": "2022-01-18T19:31:09.789Z"
   },
   {
    "duration": 61,
    "start_time": "2022-01-18T19:31:09.815Z"
   },
   {
    "duration": 24,
    "start_time": "2022-01-18T19:31:09.878Z"
   },
   {
    "duration": 18,
    "start_time": "2022-01-18T19:31:09.905Z"
   },
   {
    "duration": 18,
    "start_time": "2022-01-18T19:31:09.925Z"
   },
   {
    "duration": 13,
    "start_time": "2022-01-18T19:31:09.969Z"
   },
   {
    "duration": 24,
    "start_time": "2022-01-18T19:31:09.985Z"
   },
   {
    "duration": 28,
    "start_time": "2022-01-18T19:31:10.011Z"
   },
   {
    "duration": 9,
    "start_time": "2022-01-18T19:31:10.069Z"
   },
   {
    "duration": 902,
    "start_time": "2022-01-18T19:31:10.081Z"
   },
   {
    "duration": 32,
    "start_time": "2022-01-18T19:31:10.986Z"
   },
   {
    "duration": 56,
    "start_time": "2022-01-18T19:31:11.021Z"
   },
   {
    "duration": 6,
    "start_time": "2022-01-18T19:31:11.080Z"
   },
   {
    "duration": 473,
    "start_time": "2022-01-18T19:31:11.089Z"
   },
   {
    "duration": 6,
    "start_time": "2022-01-18T19:31:11.565Z"
   },
   {
    "duration": 43,
    "start_time": "2022-01-18T19:31:11.574Z"
   },
   {
    "duration": 1398,
    "start_time": "2022-01-18T19:31:11.619Z"
   },
   {
    "duration": 5,
    "start_time": "2022-01-18T19:33:00.754Z"
   },
   {
    "duration": 7305,
    "start_time": "2022-01-18T19:33:02.298Z"
   },
   {
    "duration": 17,
    "start_time": "2022-01-18T19:38:16.330Z"
   },
   {
    "duration": 307,
    "start_time": "2022-01-18T19:38:33.062Z"
   },
   {
    "duration": 18,
    "start_time": "2022-01-18T19:38:48.162Z"
   },
   {
    "duration": 19,
    "start_time": "2022-01-18T19:40:09.607Z"
   },
   {
    "duration": 19,
    "start_time": "2022-01-18T19:45:02.121Z"
   },
   {
    "duration": 22,
    "start_time": "2022-01-18T19:45:41.825Z"
   },
   {
    "duration": 5,
    "start_time": "2022-01-18T19:46:02.100Z"
   },
   {
    "duration": 342,
    "start_time": "2022-01-18T19:46:19.016Z"
   },
   {
    "duration": 7,
    "start_time": "2022-01-18T19:46:32.930Z"
   },
   {
    "duration": 282,
    "start_time": "2022-01-18T19:46:38.218Z"
   },
   {
    "duration": 7,
    "start_time": "2022-01-18T19:46:44.690Z"
   },
   {
    "duration": 86,
    "start_time": "2022-01-18T19:48:24.910Z"
   },
   {
    "duration": 96,
    "start_time": "2022-01-18T19:48:32.722Z"
   },
   {
    "duration": 28,
    "start_time": "2022-01-18T19:48:41.874Z"
   },
   {
    "duration": 25,
    "start_time": "2022-01-18T19:49:01.095Z"
   },
   {
    "duration": 92,
    "start_time": "2022-01-18T19:49:06.384Z"
   },
   {
    "duration": 320,
    "start_time": "2022-01-18T19:53:00.337Z"
   },
   {
    "duration": 514,
    "start_time": "2022-01-18T19:53:17.351Z"
   },
   {
    "duration": 330,
    "start_time": "2022-01-18T19:53:27.086Z"
   },
   {
    "duration": 550,
    "start_time": "2022-01-18T19:53:54.669Z"
   },
   {
    "duration": 357,
    "start_time": "2022-01-18T19:54:02.471Z"
   },
   {
    "duration": 666,
    "start_time": "2022-01-18T19:54:06.303Z"
   },
   {
    "duration": 630,
    "start_time": "2022-01-18T19:56:32.342Z"
   },
   {
    "duration": 655,
    "start_time": "2022-01-18T19:56:43.627Z"
   },
   {
    "duration": 274,
    "start_time": "2022-01-18T19:57:55.992Z"
   },
   {
    "duration": 277,
    "start_time": "2022-01-18T19:57:58.763Z"
   },
   {
    "duration": 273,
    "start_time": "2022-01-18T19:58:06.305Z"
   },
   {
    "duration": 267,
    "start_time": "2022-01-18T19:59:47.195Z"
   },
   {
    "duration": 7929,
    "start_time": "2022-01-18T20:00:27.463Z"
   },
   {
    "duration": 6619,
    "start_time": "2022-01-18T20:00:50.289Z"
   },
   {
    "duration": 642,
    "start_time": "2022-01-18T20:01:16.742Z"
   },
   {
    "duration": 1589,
    "start_time": "2022-01-18T20:02:51.863Z"
   },
   {
    "duration": 48,
    "start_time": "2022-01-18T20:02:53.455Z"
   },
   {
    "duration": 15,
    "start_time": "2022-01-18T20:02:53.506Z"
   },
   {
    "duration": 30,
    "start_time": "2022-01-18T20:02:53.524Z"
   },
   {
    "duration": 7,
    "start_time": "2022-01-18T20:02:53.570Z"
   },
   {
    "duration": 24,
    "start_time": "2022-01-18T20:02:53.579Z"
   },
   {
    "duration": 18,
    "start_time": "2022-01-18T20:02:53.606Z"
   },
   {
    "duration": 72,
    "start_time": "2022-01-18T20:02:53.626Z"
   },
   {
    "duration": 26,
    "start_time": "2022-01-18T20:02:53.704Z"
   },
   {
    "duration": 54,
    "start_time": "2022-01-18T20:02:53.733Z"
   },
   {
    "duration": 22,
    "start_time": "2022-01-18T20:02:53.790Z"
   },
   {
    "duration": 24,
    "start_time": "2022-01-18T20:02:53.814Z"
   },
   {
    "duration": 57,
    "start_time": "2022-01-18T20:02:53.840Z"
   },
   {
    "duration": 17,
    "start_time": "2022-01-18T20:02:53.899Z"
   },
   {
    "duration": 10,
    "start_time": "2022-01-18T20:02:53.918Z"
   },
   {
    "duration": 9,
    "start_time": "2022-01-18T20:02:53.931Z"
   },
   {
    "duration": 13,
    "start_time": "2022-01-18T20:02:53.970Z"
   },
   {
    "duration": 20,
    "start_time": "2022-01-18T20:02:53.986Z"
   },
   {
    "duration": 24,
    "start_time": "2022-01-18T20:02:54.008Z"
   },
   {
    "duration": 43,
    "start_time": "2022-01-18T20:02:54.034Z"
   },
   {
    "duration": 12,
    "start_time": "2022-01-18T20:02:54.080Z"
   },
   {
    "duration": 23,
    "start_time": "2022-01-18T20:02:54.094Z"
   },
   {
    "duration": 60,
    "start_time": "2022-01-18T20:02:54.119Z"
   },
   {
    "duration": 24,
    "start_time": "2022-01-18T20:02:54.182Z"
   },
   {
    "duration": 15,
    "start_time": "2022-01-18T20:02:54.208Z"
   },
   {
    "duration": 8,
    "start_time": "2022-01-18T20:02:54.226Z"
   },
   {
    "duration": 42,
    "start_time": "2022-01-18T20:02:54.239Z"
   },
   {
    "duration": 23,
    "start_time": "2022-01-18T20:02:54.284Z"
   },
   {
    "duration": 25,
    "start_time": "2022-01-18T20:02:54.310Z"
   },
   {
    "duration": 36,
    "start_time": "2022-01-18T20:02:54.337Z"
   },
   {
    "duration": 889,
    "start_time": "2022-01-18T20:02:54.375Z"
   },
   {
    "duration": 22,
    "start_time": "2022-01-18T20:02:55.269Z"
   },
   {
    "duration": 7,
    "start_time": "2022-01-18T20:02:55.293Z"
   },
   {
    "duration": 118,
    "start_time": "2022-01-18T20:02:55.302Z"
   },
   {
    "duration": 666,
    "start_time": "2022-01-18T20:02:55.422Z"
   },
   {
    "duration": 555,
    "start_time": "2022-01-18T20:04:17.303Z"
   },
   {
    "duration": 551,
    "start_time": "2022-01-18T20:04:38.677Z"
   },
   {
    "duration": 1381,
    "start_time": "2022-01-18T20:05:02.552Z"
   },
   {
    "duration": 695,
    "start_time": "2022-01-18T20:05:05.851Z"
   },
   {
    "duration": 598,
    "start_time": "2022-01-18T20:05:54.629Z"
   },
   {
    "duration": 776,
    "start_time": "2022-01-18T20:06:38.424Z"
   },
   {
    "duration": 414,
    "start_time": "2022-01-18T20:09:56.230Z"
   },
   {
    "duration": 433,
    "start_time": "2022-01-18T20:11:11.956Z"
   },
   {
    "duration": 456,
    "start_time": "2022-01-18T20:11:27.984Z"
   },
   {
    "duration": 267,
    "start_time": "2022-01-18T20:12:03.279Z"
   },
   {
    "duration": 422,
    "start_time": "2022-01-18T20:12:07.480Z"
   },
   {
    "duration": 579,
    "start_time": "2022-01-18T20:17:28.630Z"
   },
   {
    "duration": 438,
    "start_time": "2022-01-18T20:19:02.009Z"
   },
   {
    "duration": 445,
    "start_time": "2022-01-18T20:19:16.811Z"
   },
   {
    "duration": 454,
    "start_time": "2022-01-18T20:21:03.130Z"
   },
   {
    "duration": 463,
    "start_time": "2022-01-18T20:21:21.235Z"
   },
   {
    "duration": 7227,
    "start_time": "2022-01-18T20:22:53.286Z"
   },
   {
    "duration": 724,
    "start_time": "2022-01-18T20:23:15.466Z"
   },
   {
    "duration": 848,
    "start_time": "2022-01-18T20:24:07.476Z"
   },
   {
    "duration": 705,
    "start_time": "2022-01-18T20:24:38.987Z"
   },
   {
    "duration": 694,
    "start_time": "2022-01-18T20:25:04.497Z"
   },
   {
    "duration": 739,
    "start_time": "2022-01-18T20:25:09.874Z"
   },
   {
    "duration": 937,
    "start_time": "2022-01-18T20:28:09.800Z"
   },
   {
    "duration": 901,
    "start_time": "2022-01-18T20:28:26.924Z"
   },
   {
    "duration": 910,
    "start_time": "2022-01-18T20:28:45.677Z"
   },
   {
    "duration": 634,
    "start_time": "2022-01-18T20:29:33.584Z"
   },
   {
    "duration": 663,
    "start_time": "2022-01-18T20:29:40.071Z"
   },
   {
    "duration": 990,
    "start_time": "2022-01-18T20:29:54.794Z"
   },
   {
    "duration": 834,
    "start_time": "2022-01-18T20:30:04.285Z"
   },
   {
    "duration": 459,
    "start_time": "2022-01-18T20:30:41.162Z"
   },
   {
    "duration": 857,
    "start_time": "2022-01-18T20:33:17.081Z"
   },
   {
    "duration": 697,
    "start_time": "2022-01-18T20:33:27.209Z"
   },
   {
    "duration": 1975,
    "start_time": "2022-01-18T20:33:31.694Z"
   },
   {
    "duration": 718,
    "start_time": "2022-01-18T20:33:52.516Z"
   },
   {
    "duration": 289,
    "start_time": "2022-01-18T20:35:03.738Z"
   },
   {
    "duration": 1207,
    "start_time": "2022-01-18T20:35:11.595Z"
   },
   {
    "duration": 1088,
    "start_time": "2022-01-18T20:35:19.577Z"
   },
   {
    "duration": 1060,
    "start_time": "2022-01-18T20:35:25.627Z"
   },
   {
    "duration": 7453,
    "start_time": "2022-01-18T20:35:33.425Z"
   },
   {
    "duration": 6541,
    "start_time": "2022-01-18T20:36:10.723Z"
   },
   {
    "duration": 271,
    "start_time": "2022-01-18T20:36:35.401Z"
   },
   {
    "duration": 7065,
    "start_time": "2022-01-18T20:36:38.353Z"
   },
   {
    "duration": 833,
    "start_time": "2022-01-18T20:36:48.880Z"
   },
   {
    "duration": 325,
    "start_time": "2022-01-18T20:40:19.934Z"
   },
   {
    "duration": 812,
    "start_time": "2022-01-18T20:40:33.001Z"
   },
   {
    "duration": 764,
    "start_time": "2022-01-18T20:45:48.923Z"
   },
   {
    "duration": 827,
    "start_time": "2022-01-18T20:45:58.012Z"
   },
   {
    "duration": 805,
    "start_time": "2022-01-18T20:46:02.698Z"
   },
   {
    "duration": 933,
    "start_time": "2022-01-18T20:46:07.090Z"
   },
   {
    "duration": 843,
    "start_time": "2022-01-18T20:46:10.453Z"
   },
   {
    "duration": 659,
    "start_time": "2022-01-18T20:47:06.735Z"
   },
   {
    "duration": 681,
    "start_time": "2022-01-18T20:47:14.892Z"
   },
   {
    "duration": 669,
    "start_time": "2022-01-18T20:47:26.673Z"
   },
   {
    "duration": 677,
    "start_time": "2022-01-18T20:47:35.568Z"
   },
   {
    "duration": 666,
    "start_time": "2022-01-18T20:47:39.981Z"
   },
   {
    "duration": 1069,
    "start_time": "2022-01-18T20:47:46.786Z"
   },
   {
    "duration": 662,
    "start_time": "2022-01-18T20:47:50.684Z"
   },
   {
    "duration": 389,
    "start_time": "2022-01-18T20:48:08.628Z"
   },
   {
    "duration": 685,
    "start_time": "2022-01-18T20:48:42.897Z"
   },
   {
    "duration": 2132,
    "start_time": "2022-01-18T20:49:17.766Z"
   },
   {
    "duration": 324,
    "start_time": "2022-01-18T20:49:50.108Z"
   },
   {
    "duration": 1972,
    "start_time": "2022-01-18T20:49:57.070Z"
   },
   {
    "duration": 705,
    "start_time": "2022-01-18T20:50:49.676Z"
   },
   {
    "duration": 572,
    "start_time": "2022-01-18T20:51:03.898Z"
   },
   {
    "duration": 1121,
    "start_time": "2022-01-18T20:51:10.171Z"
   },
   {
    "duration": 1036,
    "start_time": "2022-01-18T20:51:19.194Z"
   },
   {
    "duration": 1024,
    "start_time": "2022-01-18T20:51:57.995Z"
   },
   {
    "duration": 864,
    "start_time": "2022-01-18T20:52:10.559Z"
   },
   {
    "duration": 940,
    "start_time": "2022-01-18T20:52:42.677Z"
   },
   {
    "duration": 1150,
    "start_time": "2022-01-18T20:53:34.306Z"
   },
   {
    "duration": 1172,
    "start_time": "2022-01-18T20:54:16.914Z"
   },
   {
    "duration": 1257,
    "start_time": "2022-01-18T20:54:58.007Z"
   },
   {
    "duration": 900,
    "start_time": "2022-01-18T20:55:09.263Z"
   },
   {
    "duration": 1678,
    "start_time": "2022-01-18T20:57:05.472Z"
   },
   {
    "duration": 997,
    "start_time": "2022-01-18T20:57:14.403Z"
   },
   {
    "duration": 1053,
    "start_time": "2022-01-18T20:57:30.718Z"
   },
   {
    "duration": 972,
    "start_time": "2022-01-18T20:57:44.648Z"
   },
   {
    "duration": 999,
    "start_time": "2022-01-18T20:57:52.504Z"
   },
   {
    "duration": 966,
    "start_time": "2022-01-18T20:57:58.103Z"
   },
   {
    "duration": 958,
    "start_time": "2022-01-18T20:59:15.421Z"
   },
   {
    "duration": 969,
    "start_time": "2022-01-18T21:00:17.717Z"
   },
   {
    "duration": 1690,
    "start_time": "2022-01-18T21:00:33.953Z"
   },
   {
    "duration": 829,
    "start_time": "2022-01-18T21:00:48.731Z"
   },
   {
    "duration": 991,
    "start_time": "2022-01-18T21:00:54.114Z"
   },
   {
    "duration": 1025,
    "start_time": "2022-01-18T21:03:27.147Z"
   },
   {
    "duration": 1004,
    "start_time": "2022-01-18T21:07:57.590Z"
   },
   {
    "duration": 1506,
    "start_time": "2022-01-18T21:15:09.839Z"
   },
   {
    "duration": 47,
    "start_time": "2022-01-18T21:15:11.348Z"
   },
   {
    "duration": 14,
    "start_time": "2022-01-18T21:15:11.399Z"
   },
   {
    "duration": 25,
    "start_time": "2022-01-18T21:15:11.417Z"
   },
   {
    "duration": 31,
    "start_time": "2022-01-18T21:15:11.445Z"
   },
   {
    "duration": 27,
    "start_time": "2022-01-18T21:15:11.478Z"
   },
   {
    "duration": 19,
    "start_time": "2022-01-18T21:15:11.508Z"
   },
   {
    "duration": 63,
    "start_time": "2022-01-18T21:15:11.531Z"
   },
   {
    "duration": 25,
    "start_time": "2022-01-18T21:15:11.597Z"
   },
   {
    "duration": 61,
    "start_time": "2022-01-18T21:15:11.624Z"
   },
   {
    "duration": 22,
    "start_time": "2022-01-18T21:15:11.688Z"
   },
   {
    "duration": 24,
    "start_time": "2022-01-18T21:15:11.713Z"
   },
   {
    "duration": 57,
    "start_time": "2022-01-18T21:15:11.740Z"
   },
   {
    "duration": 11,
    "start_time": "2022-01-18T21:15:11.799Z"
   },
   {
    "duration": 12,
    "start_time": "2022-01-18T21:15:11.813Z"
   },
   {
    "duration": 8,
    "start_time": "2022-01-18T21:15:11.827Z"
   },
   {
    "duration": 14,
    "start_time": "2022-01-18T21:15:11.869Z"
   },
   {
    "duration": 19,
    "start_time": "2022-01-18T21:15:11.885Z"
   },
   {
    "duration": 26,
    "start_time": "2022-01-18T21:15:11.906Z"
   },
   {
    "duration": 44,
    "start_time": "2022-01-18T21:15:11.934Z"
   },
   {
    "duration": 9,
    "start_time": "2022-01-18T21:15:11.980Z"
   },
   {
    "duration": 23,
    "start_time": "2022-01-18T21:15:11.992Z"
   },
   {
    "duration": 60,
    "start_time": "2022-01-18T21:15:12.020Z"
   },
   {
    "duration": 24,
    "start_time": "2022-01-18T21:15:12.083Z"
   },
   {
    "duration": 16,
    "start_time": "2022-01-18T21:15:12.109Z"
   },
   {
    "duration": 11,
    "start_time": "2022-01-18T21:15:12.127Z"
   },
   {
    "duration": 14,
    "start_time": "2022-01-18T21:15:12.171Z"
   },
   {
    "duration": 23,
    "start_time": "2022-01-18T21:15:12.187Z"
   },
   {
    "duration": 26,
    "start_time": "2022-01-18T21:15:12.212Z"
   },
   {
    "duration": 33,
    "start_time": "2022-01-18T21:15:12.240Z"
   },
   {
    "duration": 909,
    "start_time": "2022-01-18T21:15:12.276Z"
   },
   {
    "duration": 22,
    "start_time": "2022-01-18T21:15:13.187Z"
   },
   {
    "duration": 7,
    "start_time": "2022-01-18T21:15:13.212Z"
   },
   {
    "duration": 125,
    "start_time": "2022-01-18T21:15:13.221Z"
   },
   {
    "duration": 688,
    "start_time": "2022-01-18T21:15:13.348Z"
   },
   {
    "duration": 455,
    "start_time": "2022-01-18T21:15:14.039Z"
   },
   {
    "duration": 651,
    "start_time": "2022-01-18T21:15:14.497Z"
   },
   {
    "duration": 865,
    "start_time": "2022-01-18T21:15:15.151Z"
   },
   {
    "duration": 1319,
    "start_time": "2022-01-18T21:15:16.019Z"
   },
   {
    "duration": 808,
    "start_time": "2022-01-18T21:15:17.340Z"
   },
   {
    "duration": 414,
    "start_time": "2022-01-18T21:17:42.030Z"
   },
   {
    "duration": 265,
    "start_time": "2022-01-18T21:17:49.362Z"
   },
   {
    "duration": 259,
    "start_time": "2022-01-18T21:18:14.633Z"
   },
   {
    "duration": 282,
    "start_time": "2022-01-18T21:19:28.366Z"
   },
   {
    "duration": 501,
    "start_time": "2022-01-18T21:19:41.833Z"
   },
   {
    "duration": 116,
    "start_time": "2022-01-18T21:19:48.171Z"
   },
   {
    "duration": 105,
    "start_time": "2022-01-18T21:20:04.234Z"
   },
   {
    "duration": 275,
    "start_time": "2022-01-18T21:20:25.108Z"
   },
   {
    "duration": 249,
    "start_time": "2022-01-18T21:20:42.606Z"
   },
   {
    "duration": 92,
    "start_time": "2022-01-18T21:22:44.886Z"
   },
   {
    "duration": 251,
    "start_time": "2022-01-18T21:22:55.192Z"
   },
   {
    "duration": 754,
    "start_time": "2022-01-18T21:23:02.465Z"
   },
   {
    "duration": 263,
    "start_time": "2022-01-18T21:23:08.822Z"
   },
   {
    "duration": 644,
    "start_time": "2022-01-18T21:25:32.182Z"
   },
   {
    "duration": 270,
    "start_time": "2022-01-18T21:25:49.250Z"
   },
   {
    "duration": 255,
    "start_time": "2022-01-18T21:26:03.080Z"
   },
   {
    "duration": 262,
    "start_time": "2022-01-18T21:26:11.629Z"
   },
   {
    "duration": 273,
    "start_time": "2022-01-18T21:27:47.961Z"
   },
   {
    "duration": 348,
    "start_time": "2022-01-19T16:52:42.539Z"
   },
   {
    "duration": 1589,
    "start_time": "2022-01-19T16:52:49.292Z"
   },
   {
    "duration": 51,
    "start_time": "2022-01-19T16:52:50.884Z"
   },
   {
    "duration": 1120,
    "start_time": "2022-01-19T16:52:50.940Z"
   },
   {
    "duration": 335,
    "start_time": "2022-01-19T16:52:52.063Z"
   },
   {
    "duration": 597,
    "start_time": "2022-01-19T16:52:52.400Z"
   },
   {
    "duration": 1066,
    "start_time": "2022-01-19T16:52:52.999Z"
   },
   {
    "duration": 261,
    "start_time": "2022-01-19T16:52:54.068Z"
   },
   {
    "duration": 52,
    "start_time": "2022-01-19T16:52:54.332Z"
   },
   {
    "duration": 23,
    "start_time": "2022-01-19T16:52:54.388Z"
   },
   {
    "duration": 38,
    "start_time": "2022-01-19T16:52:54.439Z"
   },
   {
    "duration": 23,
    "start_time": "2022-01-19T16:52:54.480Z"
   },
   {
    "duration": 61,
    "start_time": "2022-01-19T16:52:54.506Z"
   },
   {
    "duration": 35,
    "start_time": "2022-01-19T16:52:54.570Z"
   },
   {
    "duration": 40,
    "start_time": "2022-01-19T16:52:54.607Z"
   },
   {
    "duration": 13,
    "start_time": "2022-01-19T16:52:54.650Z"
   },
   {
    "duration": 9,
    "start_time": "2022-01-19T16:52:54.665Z"
   },
   {
    "duration": 16,
    "start_time": "2022-01-19T16:52:54.677Z"
   },
   {
    "duration": 65,
    "start_time": "2022-01-19T16:52:54.695Z"
   },
   {
    "duration": 26,
    "start_time": "2022-01-19T16:52:54.764Z"
   },
   {
    "duration": 12,
    "start_time": "2022-01-19T16:52:54.793Z"
   },
   {
    "duration": 42,
    "start_time": "2022-01-19T16:52:54.808Z"
   },
   {
    "duration": 38,
    "start_time": "2022-01-19T16:52:54.854Z"
   },
   {
    "duration": 72,
    "start_time": "2022-01-19T16:52:54.895Z"
   },
   {
    "duration": 26,
    "start_time": "2022-01-19T16:52:54.970Z"
   },
   {
    "duration": 51,
    "start_time": "2022-01-19T16:52:54.998Z"
   },
   {
    "duration": 11,
    "start_time": "2022-01-19T16:52:55.053Z"
   },
   {
    "duration": 15,
    "start_time": "2022-01-19T16:52:55.071Z"
   },
   {
    "duration": 62,
    "start_time": "2022-01-19T16:52:55.090Z"
   },
   {
    "duration": 28,
    "start_time": "2022-01-19T16:52:55.155Z"
   },
   {
    "duration": 9,
    "start_time": "2022-01-19T16:52:55.186Z"
   },
   {
    "duration": 955,
    "start_time": "2022-01-19T16:52:55.197Z"
   },
   {
    "duration": 24,
    "start_time": "2022-01-19T16:52:56.155Z"
   },
   {
    "duration": 9,
    "start_time": "2022-01-19T16:52:56.182Z"
   },
   {
    "duration": 400,
    "start_time": "2022-01-19T16:52:56.193Z"
   },
   {
    "duration": 166,
    "start_time": "2022-01-19T16:52:56.596Z"
   },
   {
    "duration": 1067,
    "start_time": "2022-01-19T16:52:56.765Z"
   },
   {
    "duration": 485,
    "start_time": "2022-01-19T16:52:57.836Z"
   },
   {
    "duration": 649,
    "start_time": "2022-01-19T16:52:58.323Z"
   },
   {
    "duration": 1010,
    "start_time": "2022-01-19T16:52:58.975Z"
   },
   {
    "duration": 471,
    "start_time": "2022-01-19T16:53:36.784Z"
   },
   {
    "duration": 337,
    "start_time": "2022-01-19T16:53:50.546Z"
   },
   {
    "duration": 7572,
    "start_time": "2022-01-19T16:54:54.051Z"
   },
   {
    "duration": 7731,
    "start_time": "2022-01-19T16:55:09.123Z"
   },
   {
    "duration": 671,
    "start_time": "2022-01-19T16:55:36.515Z"
   },
   {
    "duration": 957,
    "start_time": "2022-01-19T16:55:52.513Z"
   },
   {
    "duration": 22,
    "start_time": "2022-01-19T16:57:45.733Z"
   },
   {
    "duration": 103,
    "start_time": "2022-01-19T16:57:48.733Z"
   },
   {
    "duration": 95,
    "start_time": "2022-01-19T16:58:00.143Z"
   },
   {
    "duration": 259,
    "start_time": "2022-01-19T16:59:19.654Z"
   },
   {
    "duration": 283,
    "start_time": "2022-01-19T16:59:29.341Z"
   },
   {
    "duration": 267,
    "start_time": "2022-01-19T16:59:38.141Z"
   },
   {
    "duration": 538,
    "start_time": "2022-01-19T16:59:43.068Z"
   },
   {
    "duration": 780,
    "start_time": "2022-01-19T16:59:49.878Z"
   },
   {
    "duration": 95,
    "start_time": "2022-01-19T17:00:36.164Z"
   },
   {
    "duration": 62,
    "start_time": "2022-01-19T17:01:49.576Z"
   },
   {
    "duration": 7,
    "start_time": "2022-01-19T17:02:06.605Z"
   },
   {
    "duration": 720,
    "start_time": "2022-01-19T17:02:29.774Z"
   },
   {
    "duration": 8,
    "start_time": "2022-01-19T17:02:45.675Z"
   },
   {
    "duration": 255,
    "start_time": "2022-01-19T17:02:48.047Z"
   },
   {
    "duration": 94,
    "start_time": "2022-01-19T17:02:54.001Z"
   },
   {
    "duration": 7,
    "start_time": "2022-01-19T17:02:56.143Z"
   },
   {
    "duration": 633,
    "start_time": "2022-01-19T17:02:57.800Z"
   },
   {
    "duration": 6,
    "start_time": "2022-01-19T17:03:08.991Z"
   },
   {
    "duration": 708,
    "start_time": "2022-01-19T17:03:10.321Z"
   },
   {
    "duration": 6,
    "start_time": "2022-01-19T17:03:17.927Z"
   },
   {
    "duration": 600,
    "start_time": "2022-01-19T17:03:18.867Z"
   },
   {
    "duration": 588,
    "start_time": "2022-01-19T17:03:34.481Z"
   },
   {
    "duration": 836,
    "start_time": "2022-01-19T17:03:43.111Z"
   },
   {
    "duration": 290,
    "start_time": "2022-01-19T17:03:50.582Z"
   },
   {
    "duration": 588,
    "start_time": "2022-01-19T17:03:55.968Z"
   },
   {
    "duration": 330,
    "start_time": "2022-01-19T17:05:37.739Z"
   },
   {
    "duration": 795,
    "start_time": "2022-01-19T17:05:42.606Z"
   },
   {
    "duration": 669,
    "start_time": "2022-01-19T17:05:59.528Z"
   },
   {
    "duration": 836,
    "start_time": "2022-01-19T17:06:02.437Z"
   },
   {
    "duration": 787,
    "start_time": "2022-01-19T17:06:39.592Z"
   },
   {
    "duration": 861,
    "start_time": "2022-01-19T17:06:49.325Z"
   },
   {
    "duration": 3526,
    "start_time": "2022-01-19T17:06:54.069Z"
   },
   {
    "duration": 3325,
    "start_time": "2022-01-19T17:07:05.587Z"
   },
   {
    "duration": 875,
    "start_time": "2022-01-19T17:07:53.461Z"
   },
   {
    "duration": 4134,
    "start_time": "2022-01-19T17:08:03.829Z"
   },
   {
    "duration": 4141,
    "start_time": "2022-01-19T17:08:26.045Z"
   },
   {
    "duration": 3322,
    "start_time": "2022-01-19T17:08:43.176Z"
   },
   {
    "duration": 850,
    "start_time": "2022-01-19T17:09:33.087Z"
   },
   {
    "duration": 3429,
    "start_time": "2022-01-19T17:09:39.021Z"
   },
   {
    "duration": 259,
    "start_time": "2022-01-19T17:10:39.014Z"
   },
   {
    "duration": 732,
    "start_time": "2022-01-19T17:10:44.577Z"
   },
   {
    "duration": 3520,
    "start_time": "2022-01-19T17:10:53.350Z"
   },
   {
    "duration": 3352,
    "start_time": "2022-01-19T17:11:00.392Z"
   },
   {
    "duration": 638,
    "start_time": "2022-01-19T17:11:25.857Z"
   },
   {
    "duration": 3470,
    "start_time": "2022-01-19T17:11:34.515Z"
   },
   {
    "duration": 3405,
    "start_time": "2022-01-19T17:12:08.198Z"
   },
   {
    "duration": 3348,
    "start_time": "2022-01-19T17:12:18.858Z"
   },
   {
    "duration": 3445,
    "start_time": "2022-01-19T17:12:50.957Z"
   },
   {
    "duration": 721,
    "start_time": "2022-01-19T17:13:42.562Z"
   },
   {
    "duration": 3975,
    "start_time": "2022-01-19T17:14:14.913Z"
   },
   {
    "duration": 7,
    "start_time": "2022-01-19T17:17:48.507Z"
   },
   {
    "duration": 264,
    "start_time": "2022-01-19T17:18:03.093Z"
   },
   {
    "duration": 269,
    "start_time": "2022-01-19T17:18:13.400Z"
   },
   {
    "duration": 279,
    "start_time": "2022-01-19T17:18:27.812Z"
   },
   {
    "duration": 260,
    "start_time": "2022-01-19T17:18:32.956Z"
   },
   {
    "duration": 362,
    "start_time": "2022-01-19T17:18:35.200Z"
   },
   {
    "duration": 302,
    "start_time": "2022-01-19T17:18:38.853Z"
   },
   {
    "duration": 596,
    "start_time": "2022-01-19T17:18:55.004Z"
   },
   {
    "duration": 257,
    "start_time": "2022-01-19T17:19:00.154Z"
   },
   {
    "duration": 107,
    "start_time": "2022-01-19T17:20:28.629Z"
   },
   {
    "duration": 7,
    "start_time": "2022-01-19T17:21:37.820Z"
   },
   {
    "duration": 608,
    "start_time": "2022-01-19T17:21:55.238Z"
   },
   {
    "duration": 257,
    "start_time": "2022-01-19T17:24:22.502Z"
   },
   {
    "duration": 292,
    "start_time": "2022-01-19T17:24:28.145Z"
   },
   {
    "duration": 25,
    "start_time": "2022-01-19T17:25:00.366Z"
   },
   {
    "duration": 311,
    "start_time": "2022-01-19T17:25:30.185Z"
   },
   {
    "duration": 35,
    "start_time": "2022-01-19T17:25:39.476Z"
   },
   {
    "duration": 34,
    "start_time": "2022-01-19T17:26:43.963Z"
   },
   {
    "duration": 37,
    "start_time": "2022-01-19T17:26:56.389Z"
   },
   {
    "duration": 376,
    "start_time": "2022-01-19T17:27:28.291Z"
   },
   {
    "duration": 292,
    "start_time": "2022-01-19T17:27:37.410Z"
   },
   {
    "duration": 33,
    "start_time": "2022-01-19T17:27:55.232Z"
   },
   {
    "duration": 404,
    "start_time": "2022-01-19T17:28:12.479Z"
   },
   {
    "duration": 313,
    "start_time": "2022-01-19T17:28:21.668Z"
   },
   {
    "duration": 83,
    "start_time": "2022-01-19T17:28:31.745Z"
   },
   {
    "duration": 27,
    "start_time": "2022-01-19T17:28:38.568Z"
   },
   {
    "duration": 25,
    "start_time": "2022-01-19T17:28:42.866Z"
   },
   {
    "duration": 24,
    "start_time": "2022-01-19T17:31:02.752Z"
   },
   {
    "duration": 11,
    "start_time": "2022-01-19T17:31:57.977Z"
   },
   {
    "duration": 23,
    "start_time": "2022-01-19T17:32:06.228Z"
   },
   {
    "duration": 245,
    "start_time": "2022-01-19T17:32:58.805Z"
   },
   {
    "duration": 256,
    "start_time": "2022-01-19T17:33:19.539Z"
   },
   {
    "duration": 4954,
    "start_time": "2022-01-19T17:33:34.772Z"
   },
   {
    "duration": 6602,
    "start_time": "2022-01-19T17:33:49.480Z"
   },
   {
    "duration": 258,
    "start_time": "2022-01-19T17:34:32.143Z"
   },
   {
    "duration": 86,
    "start_time": "2022-01-19T17:34:41.569Z"
   },
   {
    "duration": 9,
    "start_time": "2022-01-19T17:34:54.815Z"
   },
   {
    "duration": 24,
    "start_time": "2022-01-19T17:34:57.027Z"
   },
   {
    "duration": 11,
    "start_time": "2022-01-19T17:35:07.890Z"
   },
   {
    "duration": 24,
    "start_time": "2022-01-19T17:35:09.357Z"
   },
   {
    "duration": 734,
    "start_time": "2022-01-19T17:35:39.371Z"
   },
   {
    "duration": 12,
    "start_time": "2022-01-19T17:35:50.278Z"
   },
   {
    "duration": 24,
    "start_time": "2022-01-19T17:35:52.337Z"
   },
   {
    "duration": 1215,
    "start_time": "2022-01-19T17:36:23.376Z"
   },
   {
    "duration": 14,
    "start_time": "2022-01-19T17:36:25.860Z"
   },
   {
    "duration": 15,
    "start_time": "2022-01-19T17:36:49.459Z"
   },
   {
    "duration": 22,
    "start_time": "2022-01-19T17:36:51.112Z"
   },
   {
    "duration": 1895,
    "start_time": "2022-01-19T17:37:24.622Z"
   },
   {
    "duration": 336,
    "start_time": "2022-01-19T17:37:47.164Z"
   },
   {
    "duration": 11,
    "start_time": "2022-01-19T17:38:18.567Z"
   },
   {
    "duration": 24,
    "start_time": "2022-01-19T17:38:20.961Z"
   },
   {
    "duration": 97,
    "start_time": "2022-01-19T17:41:54.972Z"
   },
   {
    "duration": 10,
    "start_time": "2022-01-19T17:42:02.841Z"
   },
   {
    "duration": 34,
    "start_time": "2022-01-19T17:42:11.106Z"
   },
   {
    "duration": 41,
    "start_time": "2022-01-19T17:43:03.436Z"
   },
   {
    "duration": 41,
    "start_time": "2022-01-19T17:43:34.246Z"
   },
   {
    "duration": 5974,
    "start_time": "2022-01-19T17:44:48.461Z"
   },
   {
    "duration": 1586,
    "start_time": "2022-01-19T17:45:07.620Z"
   },
   {
    "duration": 5873,
    "start_time": "2022-01-19T17:45:49.729Z"
   },
   {
    "duration": 45,
    "start_time": "2022-01-19T17:46:47.168Z"
   },
   {
    "duration": 6049,
    "start_time": "2022-01-19T17:46:48.678Z"
   },
   {
    "duration": 42,
    "start_time": "2022-01-19T17:47:02.854Z"
   },
   {
    "duration": 6049,
    "start_time": "2022-01-19T17:47:38.990Z"
   },
   {
    "duration": 118,
    "start_time": "2022-01-19T17:48:07.631Z"
   },
   {
    "duration": 103,
    "start_time": "2022-01-19T17:48:10.554Z"
   },
   {
    "duration": 1493,
    "start_time": "2022-01-19T17:48:12.694Z"
   },
   {
    "duration": 1631,
    "start_time": "2022-01-19T17:48:28.718Z"
   },
   {
    "duration": 1644,
    "start_time": "2022-01-19T17:48:32.292Z"
   },
   {
    "duration": 1954,
    "start_time": "2022-01-19T17:48:46.825Z"
   },
   {
    "duration": 114,
    "start_time": "2022-01-19T17:49:44.387Z"
   },
   {
    "duration": 5951,
    "start_time": "2022-01-19T17:49:49.234Z"
   },
   {
    "duration": 771,
    "start_time": "2022-01-19T17:50:06.211Z"
   },
   {
    "duration": 5746,
    "start_time": "2022-01-19T17:50:11.001Z"
   },
   {
    "duration": 254,
    "start_time": "2022-01-19T17:51:49.948Z"
   },
   {
    "duration": 279,
    "start_time": "2022-01-19T17:52:10.136Z"
   },
   {
    "duration": 261,
    "start_time": "2022-01-19T17:52:16.225Z"
   },
   {
    "duration": 818,
    "start_time": "2022-01-19T17:52:40.849Z"
   },
   {
    "duration": 1337,
    "start_time": "2022-01-19T17:52:56.701Z"
   },
   {
    "duration": 637,
    "start_time": "2022-01-19T17:54:13.981Z"
   },
   {
    "duration": 504,
    "start_time": "2022-01-19T17:54:20.599Z"
   },
   {
    "duration": 649,
    "start_time": "2022-01-19T17:54:31.445Z"
   },
   {
    "duration": 479,
    "start_time": "2022-01-19T17:54:50.746Z"
   },
   {
    "duration": 5875,
    "start_time": "2022-01-19T17:55:23.872Z"
   },
   {
    "duration": 5846,
    "start_time": "2022-01-19T17:55:40.570Z"
   },
   {
    "duration": 6354,
    "start_time": "2022-01-19T17:55:58.584Z"
   },
   {
    "duration": 7051,
    "start_time": "2022-01-19T17:56:17.098Z"
   },
   {
    "duration": 6014,
    "start_time": "2022-01-19T17:56:24.265Z"
   },
   {
    "duration": 5842,
    "start_time": "2022-01-19T17:56:41.453Z"
   },
   {
    "duration": 5957,
    "start_time": "2022-01-19T17:57:07.423Z"
   },
   {
    "duration": 9073,
    "start_time": "2022-01-19T17:57:14.447Z"
   },
   {
    "duration": 6081,
    "start_time": "2022-01-19T17:57:26.107Z"
   },
   {
    "duration": 3792,
    "start_time": "2022-01-19T17:57:45.621Z"
   },
   {
    "duration": 4298,
    "start_time": "2022-01-19T17:57:51.763Z"
   },
   {
    "duration": 42,
    "start_time": "2022-01-19T18:01:21.037Z"
   },
   {
    "duration": 4381,
    "start_time": "2022-01-19T18:01:23.578Z"
   },
   {
    "duration": 42,
    "start_time": "2022-01-19T18:01:35.533Z"
   },
   {
    "duration": 4270,
    "start_time": "2022-01-19T18:01:36.310Z"
   },
   {
    "duration": 658,
    "start_time": "2022-01-19T18:10:50.169Z"
   },
   {
    "duration": 1043,
    "start_time": "2022-01-19T18:10:56.081Z"
   },
   {
    "duration": 1277,
    "start_time": "2022-01-19T18:11:22.874Z"
   },
   {
    "duration": 1830,
    "start_time": "2022-01-19T18:11:47.706Z"
   },
   {
    "duration": 252,
    "start_time": "2022-01-19T18:12:29.419Z"
   },
   {
    "duration": 1936,
    "start_time": "2022-01-19T18:12:37.378Z"
   },
   {
    "duration": 1944,
    "start_time": "2022-01-19T18:12:48.258Z"
   },
   {
    "duration": 275,
    "start_time": "2022-01-19T18:14:09.494Z"
   },
   {
    "duration": 253,
    "start_time": "2022-01-19T18:14:27.644Z"
   },
   {
    "duration": 264,
    "start_time": "2022-01-19T18:14:34.329Z"
   },
   {
    "duration": 279,
    "start_time": "2022-01-19T18:14:36.865Z"
   },
   {
    "duration": 2219,
    "start_time": "2022-01-19T18:14:59.241Z"
   },
   {
    "duration": 1218,
    "start_time": "2022-01-19T18:25:01.238Z"
   },
   {
    "duration": 2154,
    "start_time": "2022-01-19T18:25:24.250Z"
   },
   {
    "duration": 2263,
    "start_time": "2022-01-19T18:25:56.172Z"
   },
   {
    "duration": 2657,
    "start_time": "2022-01-19T18:26:45.623Z"
   },
   {
    "duration": 2673,
    "start_time": "2022-01-19T18:26:59.945Z"
   },
   {
    "duration": 2859,
    "start_time": "2022-01-19T18:27:09.650Z"
   },
   {
    "duration": 11,
    "start_time": "2022-01-19T18:28:24.773Z"
   },
   {
    "duration": 2485,
    "start_time": "2022-01-19T18:28:26.982Z"
   },
   {
    "duration": 2353,
    "start_time": "2022-01-19T18:28:46.610Z"
   },
   {
    "duration": 2389,
    "start_time": "2022-01-19T18:28:57.600Z"
   },
   {
    "duration": 2654,
    "start_time": "2022-01-19T18:29:24.215Z"
   },
   {
    "duration": 2407,
    "start_time": "2022-01-19T18:30:57.664Z"
   },
   {
    "duration": 304,
    "start_time": "2022-01-19T18:33:43.742Z"
   },
   {
    "duration": 417,
    "start_time": "2022-01-19T18:34:03.868Z"
   },
   {
    "duration": 518,
    "start_time": "2022-01-19T18:34:32.369Z"
   },
   {
    "duration": 624,
    "start_time": "2022-01-19T18:34:38.882Z"
   },
   {
    "duration": 599,
    "start_time": "2022-01-19T18:34:56.164Z"
   },
   {
    "duration": 1218,
    "start_time": "2022-01-19T18:35:03.933Z"
   },
   {
    "duration": 1264,
    "start_time": "2022-01-19T18:35:17.679Z"
   },
   {
    "duration": 1227,
    "start_time": "2022-01-19T18:35:30.124Z"
   },
   {
    "duration": 1290,
    "start_time": "2022-01-19T18:35:54.832Z"
   },
   {
    "duration": 1583,
    "start_time": "2022-01-19T18:36:10.651Z"
   },
   {
    "duration": 50,
    "start_time": "2022-01-19T18:36:12.238Z"
   },
   {
    "duration": 15,
    "start_time": "2022-01-19T18:36:12.291Z"
   },
   {
    "duration": 46,
    "start_time": "2022-01-19T18:36:12.309Z"
   },
   {
    "duration": 13,
    "start_time": "2022-01-19T18:36:12.358Z"
   },
   {
    "duration": 23,
    "start_time": "2022-01-19T18:36:12.374Z"
   },
   {
    "duration": 53,
    "start_time": "2022-01-19T18:36:12.400Z"
   },
   {
    "duration": 40,
    "start_time": "2022-01-19T18:36:12.456Z"
   },
   {
    "duration": 57,
    "start_time": "2022-01-19T18:36:12.501Z"
   },
   {
    "duration": 29,
    "start_time": "2022-01-19T18:36:12.561Z"
   },
   {
    "duration": 52,
    "start_time": "2022-01-19T18:36:12.593Z"
   },
   {
    "duration": 30,
    "start_time": "2022-01-19T18:36:12.648Z"
   },
   {
    "duration": 33,
    "start_time": "2022-01-19T18:36:12.681Z"
   },
   {
    "duration": 30,
    "start_time": "2022-01-19T18:36:12.716Z"
   },
   {
    "duration": 16,
    "start_time": "2022-01-19T18:36:12.749Z"
   },
   {
    "duration": 9,
    "start_time": "2022-01-19T18:36:12.767Z"
   },
   {
    "duration": 56,
    "start_time": "2022-01-19T18:36:12.778Z"
   },
   {
    "duration": 23,
    "start_time": "2022-01-19T18:36:12.838Z"
   },
   {
    "duration": 22,
    "start_time": "2022-01-19T18:36:12.864Z"
   },
   {
    "duration": 10,
    "start_time": "2022-01-19T18:36:12.888Z"
   },
   {
    "duration": 15,
    "start_time": "2022-01-19T18:36:12.932Z"
   },
   {
    "duration": 23,
    "start_time": "2022-01-19T18:36:12.950Z"
   },
   {
    "duration": 23,
    "start_time": "2022-01-19T18:36:12.976Z"
   },
   {
    "duration": 36,
    "start_time": "2022-01-19T18:36:13.032Z"
   },
   {
    "duration": 17,
    "start_time": "2022-01-19T18:36:13.071Z"
   },
   {
    "duration": 9,
    "start_time": "2022-01-19T18:36:13.090Z"
   },
   {
    "duration": 18,
    "start_time": "2022-01-19T18:36:13.137Z"
   },
   {
    "duration": 30,
    "start_time": "2022-01-19T18:36:13.159Z"
   },
   {
    "duration": 52,
    "start_time": "2022-01-19T18:36:13.192Z"
   },
   {
    "duration": 8,
    "start_time": "2022-01-19T18:36:13.248Z"
   },
   {
    "duration": 959,
    "start_time": "2022-01-19T18:36:13.259Z"
   },
   {
    "duration": 35,
    "start_time": "2022-01-19T18:36:14.220Z"
   },
   {
    "duration": 9,
    "start_time": "2022-01-19T18:36:14.258Z"
   },
   {
    "duration": 322,
    "start_time": "2022-01-19T18:36:14.270Z"
   },
   {
    "duration": 112,
    "start_time": "2022-01-19T18:36:14.595Z"
   },
   {
    "duration": 8,
    "start_time": "2022-01-19T18:36:14.709Z"
   },
   {
    "duration": 662,
    "start_time": "2022-01-19T18:36:14.719Z"
   },
   {
    "duration": 4125,
    "start_time": "2022-01-19T18:36:15.383Z"
   },
   {
    "duration": 36,
    "start_time": "2022-01-19T18:36:19.510Z"
   },
   {
    "duration": 27,
    "start_time": "2022-01-19T18:36:19.550Z"
   },
   {
    "duration": 16,
    "start_time": "2022-01-19T18:36:19.580Z"
   },
   {
    "duration": 56,
    "start_time": "2022-01-19T18:36:19.599Z"
   },
   {
    "duration": 43,
    "start_time": "2022-01-19T18:36:19.658Z"
   },
   {
    "duration": 4792,
    "start_time": "2022-01-19T18:36:19.704Z"
   },
   {
    "duration": 2465,
    "start_time": "2022-01-19T18:36:24.499Z"
   },
   {
    "duration": 1294,
    "start_time": "2022-01-19T18:36:26.967Z"
   },
   {
    "duration": 1373,
    "start_time": "2022-01-19T18:37:09.301Z"
   },
   {
    "duration": 1077,
    "start_time": "2022-01-19T18:38:20.978Z"
   },
   {
    "duration": 803,
    "start_time": "2022-01-19T18:38:36.098Z"
   },
   {
    "duration": 1376,
    "start_time": "2022-01-19T18:38:48.824Z"
   },
   {
    "duration": 976,
    "start_time": "2022-01-19T18:41:10.891Z"
   },
   {
    "duration": 648,
    "start_time": "2022-01-19T18:41:33.768Z"
   },
   {
    "duration": 1355,
    "start_time": "2022-01-19T18:41:59.317Z"
   },
   {
    "duration": 24,
    "start_time": "2022-01-19T18:42:51.610Z"
   },
   {
    "duration": 12,
    "start_time": "2022-01-19T18:42:59.675Z"
   },
   {
    "duration": 677,
    "start_time": "2022-01-19T18:43:04.484Z"
   },
   {
    "duration": 619,
    "start_time": "2022-01-19T18:43:33.267Z"
   },
   {
    "duration": 1018,
    "start_time": "2022-01-19T18:43:41.442Z"
   },
   {
    "duration": 576,
    "start_time": "2022-01-19T18:46:13.803Z"
   },
   {
    "duration": 563,
    "start_time": "2022-01-19T18:46:35.163Z"
   },
   {
    "duration": 546,
    "start_time": "2022-01-19T18:47:37.546Z"
   },
   {
    "duration": 638,
    "start_time": "2022-01-19T18:48:05.632Z"
   },
   {
    "duration": 536,
    "start_time": "2022-01-19T18:48:12.152Z"
   },
   {
    "duration": 952,
    "start_time": "2022-01-19T18:48:27.923Z"
   },
   {
    "duration": 901,
    "start_time": "2022-01-19T18:48:51.802Z"
   },
   {
    "duration": 14,
    "start_time": "2022-01-19T18:52:20.095Z"
   },
   {
    "duration": 21,
    "start_time": "2022-01-19T18:52:23.741Z"
   },
   {
    "duration": 287,
    "start_time": "2022-01-19T18:52:55.336Z"
   },
   {
    "duration": 787,
    "start_time": "2022-01-19T18:52:57.405Z"
   },
   {
    "duration": 410,
    "start_time": "2022-01-19T18:53:27.498Z"
   },
   {
    "duration": 849,
    "start_time": "2022-01-19T18:53:33.223Z"
   },
   {
    "duration": 660,
    "start_time": "2022-01-19T18:53:38.568Z"
   },
   {
    "duration": 693,
    "start_time": "2022-01-19T18:53:55.257Z"
   },
   {
    "duration": 715,
    "start_time": "2022-01-19T18:54:03.011Z"
   },
   {
    "duration": 6,
    "start_time": "2022-01-19T19:03:31.803Z"
   },
   {
    "duration": 255,
    "start_time": "2022-01-19T19:04:02.901Z"
   },
   {
    "duration": 6,
    "start_time": "2022-01-19T19:06:10.277Z"
   },
   {
    "duration": 269,
    "start_time": "2022-01-19T19:06:32.409Z"
   },
   {
    "duration": 5,
    "start_time": "2022-01-19T19:06:54.162Z"
   },
   {
    "duration": 272,
    "start_time": "2022-01-19T19:06:55.167Z"
   },
   {
    "duration": 4439,
    "start_time": "2022-01-19T19:11:38.255Z"
   },
   {
    "duration": 273,
    "start_time": "2022-01-19T19:12:24.740Z"
   },
   {
    "duration": 1298,
    "start_time": "2022-01-19T19:14:16.069Z"
   },
   {
    "duration": 7,
    "start_time": "2022-01-19T19:14:33.460Z"
   },
   {
    "duration": 1110,
    "start_time": "2022-01-19T19:14:48.993Z"
   },
   {
    "duration": 6,
    "start_time": "2022-01-19T19:16:26.856Z"
   },
   {
    "duration": 936,
    "start_time": "2022-01-19T19:16:27.673Z"
   },
   {
    "duration": 7,
    "start_time": "2022-01-19T19:17:03.348Z"
   },
   {
    "duration": 551,
    "start_time": "2022-01-19T19:17:04.409Z"
   },
   {
    "duration": 9,
    "start_time": "2022-01-19T19:17:12.356Z"
   },
   {
    "duration": 1074,
    "start_time": "2022-01-19T19:17:13.047Z"
   },
   {
    "duration": 1215,
    "start_time": "2022-01-19T19:17:46.669Z"
   },
   {
    "duration": 275,
    "start_time": "2022-01-19T19:17:47.612Z"
   },
   {
    "duration": 7,
    "start_time": "2022-01-19T19:17:54.280Z"
   },
   {
    "duration": 972,
    "start_time": "2022-01-19T19:17:55.341Z"
   },
   {
    "duration": 6,
    "start_time": "2022-01-19T19:20:33.589Z"
   },
   {
    "duration": 553,
    "start_time": "2022-01-19T19:20:35.466Z"
   },
   {
    "duration": 7,
    "start_time": "2022-01-19T19:20:52.337Z"
   },
   {
    "duration": 585,
    "start_time": "2022-01-19T19:20:53.585Z"
   },
   {
    "duration": 7,
    "start_time": "2022-01-19T19:22:47.107Z"
   },
   {
    "duration": 1081,
    "start_time": "2022-01-19T19:22:47.878Z"
   },
   {
    "duration": 6,
    "start_time": "2022-01-19T19:23:36.579Z"
   },
   {
    "duration": 1004,
    "start_time": "2022-01-19T19:23:38.133Z"
   },
   {
    "duration": 8,
    "start_time": "2022-01-19T19:26:12.496Z"
   },
   {
    "duration": 870,
    "start_time": "2022-01-19T19:26:14.046Z"
   },
   {
    "duration": 7,
    "start_time": "2022-01-19T19:26:36.388Z"
   },
   {
    "duration": 827,
    "start_time": "2022-01-19T19:26:37.858Z"
   },
   {
    "duration": 7,
    "start_time": "2022-01-19T19:27:01.643Z"
   },
   {
    "duration": 1198,
    "start_time": "2022-01-19T19:27:03.378Z"
   },
   {
    "duration": 99,
    "start_time": "2022-01-19T19:27:26.660Z"
   },
   {
    "duration": 1469,
    "start_time": "2022-01-19T19:27:27.691Z"
   },
   {
    "duration": 6,
    "start_time": "2022-01-19T19:28:26.335Z"
   },
   {
    "duration": 596,
    "start_time": "2022-01-19T19:28:28.290Z"
   },
   {
    "duration": 8,
    "start_time": "2022-01-19T19:28:36.759Z"
   },
   {
    "duration": 935,
    "start_time": "2022-01-19T19:28:37.247Z"
   },
   {
    "duration": 8,
    "start_time": "2022-01-19T19:28:46.447Z"
   },
   {
    "duration": 1129,
    "start_time": "2022-01-19T19:28:47.506Z"
   },
   {
    "duration": 8,
    "start_time": "2022-01-19T19:28:54.407Z"
   },
   {
    "duration": 8,
    "start_time": "2022-01-19T19:30:47.434Z"
   },
   {
    "duration": 1495,
    "start_time": "2022-01-19T19:30:48.292Z"
   },
   {
    "duration": 1690,
    "start_time": "2022-01-19T19:31:40.902Z"
   },
   {
    "duration": 1443,
    "start_time": "2022-01-19T19:31:46.782Z"
   },
   {
    "duration": 558,
    "start_time": "2022-01-19T19:37:38.574Z"
   },
   {
    "duration": 23,
    "start_time": "2022-01-19T19:37:59.454Z"
   },
   {
    "duration": 32,
    "start_time": "2022-01-19T19:38:03.549Z"
   },
   {
    "duration": 300,
    "start_time": "2022-01-19T19:38:26.252Z"
   },
   {
    "duration": 298,
    "start_time": "2022-01-19T19:39:59.039Z"
   },
   {
    "duration": 528,
    "start_time": "2022-01-19T19:40:19.259Z"
   },
   {
    "duration": 439,
    "start_time": "2022-01-19T19:42:11.815Z"
   },
   {
    "duration": 601,
    "start_time": "2022-01-19T19:42:23.718Z"
   },
   {
    "duration": 5,
    "start_time": "2022-01-19T19:45:55.754Z"
   },
   {
    "duration": 40,
    "start_time": "2022-01-19T19:46:03.441Z"
   },
   {
    "duration": 19,
    "start_time": "2022-01-19T19:46:41.920Z"
   },
   {
    "duration": 86,
    "start_time": "2022-01-19T19:46:48.308Z"
   },
   {
    "duration": 20,
    "start_time": "2022-01-19T19:46:52.238Z"
   },
   {
    "duration": 22,
    "start_time": "2022-01-19T19:47:19.151Z"
   },
   {
    "duration": 18,
    "start_time": "2022-01-19T19:47:41.643Z"
   },
   {
    "duration": 109,
    "start_time": "2022-01-19T19:48:47.256Z"
   },
   {
    "duration": 6910,
    "start_time": "2022-01-19T19:48:49.849Z"
   },
   {
    "duration": 7015,
    "start_time": "2022-01-19T19:49:25.534Z"
   },
   {
    "duration": 7054,
    "start_time": "2022-01-19T19:50:14.802Z"
   },
   {
    "duration": 263,
    "start_time": "2022-01-19T19:50:50.169Z"
   },
   {
    "duration": 5,
    "start_time": "2022-01-19T19:51:04.264Z"
   },
   {
    "duration": 6,
    "start_time": "2022-01-19T19:51:24.650Z"
   },
   {
    "duration": 281,
    "start_time": "2022-01-19T19:52:12.203Z"
   },
   {
    "duration": 268,
    "start_time": "2022-01-19T19:52:22.707Z"
   },
   {
    "duration": 282,
    "start_time": "2022-01-19T19:52:33.112Z"
   },
   {
    "duration": 270,
    "start_time": "2022-01-19T19:52:39.338Z"
   },
   {
    "duration": 14,
    "start_time": "2022-01-19T19:53:35.406Z"
   },
   {
    "duration": 301,
    "start_time": "2022-01-19T19:53:56.344Z"
   },
   {
    "duration": 296,
    "start_time": "2022-01-19T19:54:09.913Z"
   },
   {
    "duration": 14,
    "start_time": "2022-01-19T19:55:02.885Z"
   },
   {
    "duration": 252,
    "start_time": "2022-01-19T19:55:18.752Z"
   },
   {
    "duration": 274,
    "start_time": "2022-01-19T19:55:39.250Z"
   },
   {
    "duration": 507,
    "start_time": "2022-01-19T19:55:50.366Z"
   },
   {
    "duration": 14,
    "start_time": "2022-01-19T19:56:13.950Z"
   },
   {
    "duration": 1564,
    "start_time": "2022-01-19T19:56:23.744Z"
   },
   {
    "duration": 53,
    "start_time": "2022-01-19T19:56:25.311Z"
   },
   {
    "duration": 16,
    "start_time": "2022-01-19T19:56:25.368Z"
   },
   {
    "duration": 52,
    "start_time": "2022-01-19T19:56:25.388Z"
   },
   {
    "duration": 8,
    "start_time": "2022-01-19T19:56:25.443Z"
   },
   {
    "duration": 25,
    "start_time": "2022-01-19T19:56:25.454Z"
   },
   {
    "duration": 52,
    "start_time": "2022-01-19T19:56:25.482Z"
   },
   {
    "duration": 45,
    "start_time": "2022-01-19T19:56:25.537Z"
   },
   {
    "duration": 46,
    "start_time": "2022-01-19T19:56:25.586Z"
   },
   {
    "duration": 32,
    "start_time": "2022-01-19T19:56:25.635Z"
   },
   {
    "duration": 20,
    "start_time": "2022-01-19T19:56:25.669Z"
   },
   {
    "duration": 57,
    "start_time": "2022-01-19T19:56:25.691Z"
   },
   {
    "duration": 31,
    "start_time": "2022-01-19T19:56:25.751Z"
   },
   {
    "duration": 12,
    "start_time": "2022-01-19T19:56:25.784Z"
   },
   {
    "duration": 36,
    "start_time": "2022-01-19T19:56:25.798Z"
   },
   {
    "duration": 7,
    "start_time": "2022-01-19T19:56:25.836Z"
   },
   {
    "duration": 15,
    "start_time": "2022-01-19T19:56:25.845Z"
   },
   {
    "duration": 18,
    "start_time": "2022-01-19T19:56:25.863Z"
   },
   {
    "duration": 61,
    "start_time": "2022-01-19T19:56:25.883Z"
   },
   {
    "duration": 10,
    "start_time": "2022-01-19T19:56:25.947Z"
   },
   {
    "duration": 11,
    "start_time": "2022-01-19T19:56:25.959Z"
   },
   {
    "duration": 24,
    "start_time": "2022-01-19T19:56:25.972Z"
   },
   {
    "duration": 59,
    "start_time": "2022-01-19T19:56:25.998Z"
   },
   {
    "duration": 26,
    "start_time": "2022-01-19T19:56:26.059Z"
   },
   {
    "duration": 15,
    "start_time": "2022-01-19T19:56:26.088Z"
   },
   {
    "duration": 9,
    "start_time": "2022-01-19T19:56:26.132Z"
   },
   {
    "duration": 15,
    "start_time": "2022-01-19T19:56:26.147Z"
   },
   {
    "duration": 23,
    "start_time": "2022-01-19T19:56:26.165Z"
   },
   {
    "duration": 57,
    "start_time": "2022-01-19T19:56:26.191Z"
   },
   {
    "duration": 6,
    "start_time": "2022-01-19T19:56:26.251Z"
   },
   {
    "duration": 908,
    "start_time": "2022-01-19T19:56:26.260Z"
   },
   {
    "duration": 22,
    "start_time": "2022-01-19T19:56:27.171Z"
   },
   {
    "duration": 7,
    "start_time": "2022-01-19T19:56:27.196Z"
   },
   {
    "duration": 275,
    "start_time": "2022-01-19T19:56:27.233Z"
   },
   {
    "duration": 109,
    "start_time": "2022-01-19T19:56:27.511Z"
   },
   {
    "duration": 16,
    "start_time": "2022-01-19T19:56:27.622Z"
   },
   {
    "duration": 631,
    "start_time": "2022-01-19T19:56:27.641Z"
   },
   {
    "duration": 4070,
    "start_time": "2022-01-19T19:56:28.274Z"
   },
   {
    "duration": 23,
    "start_time": "2022-01-19T19:56:32.347Z"
   },
   {
    "duration": 25,
    "start_time": "2022-01-19T19:56:32.373Z"
   },
   {
    "duration": 40,
    "start_time": "2022-01-19T19:56:32.400Z"
   },
   {
    "duration": 27,
    "start_time": "2022-01-19T19:56:32.443Z"
   },
   {
    "duration": 59,
    "start_time": "2022-01-19T19:56:32.473Z"
   },
   {
    "duration": 4398,
    "start_time": "2022-01-19T19:56:32.534Z"
   },
   {
    "duration": 2219,
    "start_time": "2022-01-19T19:56:36.935Z"
   },
   {
    "duration": 1224,
    "start_time": "2022-01-19T19:56:39.156Z"
   },
   {
    "duration": 584,
    "start_time": "2022-01-19T19:56:40.383Z"
   },
   {
    "duration": 11,
    "start_time": "2022-01-19T19:56:40.969Z"
   },
   {
    "duration": 1018,
    "start_time": "2022-01-19T19:56:40.982Z"
   },
   {
    "duration": 687,
    "start_time": "2022-01-19T19:56:42.003Z"
   },
   {
    "duration": 6,
    "start_time": "2022-01-19T19:56:42.693Z"
   },
   {
    "duration": 1113,
    "start_time": "2022-01-19T19:56:42.701Z"
   },
   {
    "duration": 1095,
    "start_time": "2022-01-19T19:56:43.817Z"
   },
   {
    "duration": 30,
    "start_time": "2022-01-19T19:56:44.915Z"
   },
   {
    "duration": 405,
    "start_time": "2022-01-19T19:56:44.947Z"
   },
   {
    "duration": 17,
    "start_time": "2022-01-19T19:56:45.354Z"
   },
   {
    "duration": 295,
    "start_time": "2022-01-19T19:56:45.373Z"
   },
   {
    "duration": 5,
    "start_time": "2022-01-19T19:56:45.671Z"
   },
   {
    "duration": 403,
    "start_time": "2022-01-19T19:56:45.679Z"
   },
   {
    "duration": 2040,
    "start_time": "2022-01-19T19:57:14.722Z"
   },
   {
    "duration": 683,
    "start_time": "2022-01-19T19:57:37.019Z"
   },
   {
    "duration": 1914,
    "start_time": "2022-01-19T19:57:45.083Z"
   },
   {
    "duration": 385,
    "start_time": "2022-01-19T19:58:13.415Z"
   },
   {
    "duration": 1922,
    "start_time": "2022-01-19T19:58:41.372Z"
   },
   {
    "duration": 3,
    "start_time": "2022-01-19T20:02:22.984Z"
   },
   {
    "duration": 267,
    "start_time": "2022-01-19T20:02:38.856Z"
   },
   {
    "duration": 273,
    "start_time": "2022-01-19T20:02:46.017Z"
   },
   {
    "duration": 6,
    "start_time": "2022-01-19T20:03:38.966Z"
   },
   {
    "duration": 261,
    "start_time": "2022-01-19T20:04:51.320Z"
   },
   {
    "duration": 5,
    "start_time": "2022-01-19T20:04:59.912Z"
   },
   {
    "duration": 2067,
    "start_time": "2022-01-19T20:05:52.348Z"
   },
   {
    "duration": 1833,
    "start_time": "2022-01-19T20:06:41.990Z"
   },
   {
    "duration": 1914,
    "start_time": "2022-01-19T20:06:49.840Z"
   },
   {
    "duration": 1611,
    "start_time": "2022-01-19T20:07:46.995Z"
   },
   {
    "duration": 61,
    "start_time": "2022-01-19T20:07:48.610Z"
   },
   {
    "duration": 16,
    "start_time": "2022-01-19T20:07:48.675Z"
   },
   {
    "duration": 48,
    "start_time": "2022-01-19T20:07:48.694Z"
   },
   {
    "duration": 7,
    "start_time": "2022-01-19T20:07:48.744Z"
   },
   {
    "duration": 30,
    "start_time": "2022-01-19T20:07:48.753Z"
   },
   {
    "duration": 30,
    "start_time": "2022-01-19T20:07:48.785Z"
   },
   {
    "duration": 57,
    "start_time": "2022-01-19T20:07:48.817Z"
   },
   {
    "duration": 24,
    "start_time": "2022-01-19T20:07:48.878Z"
   },
   {
    "duration": 55,
    "start_time": "2022-01-19T20:07:48.906Z"
   },
   {
    "duration": 29,
    "start_time": "2022-01-19T20:07:48.964Z"
   },
   {
    "duration": 47,
    "start_time": "2022-01-19T20:07:48.995Z"
   },
   {
    "duration": 35,
    "start_time": "2022-01-19T20:07:49.045Z"
   },
   {
    "duration": 14,
    "start_time": "2022-01-19T20:07:49.082Z"
   },
   {
    "duration": 46,
    "start_time": "2022-01-19T20:07:49.099Z"
   },
   {
    "duration": 8,
    "start_time": "2022-01-19T20:07:49.148Z"
   },
   {
    "duration": 18,
    "start_time": "2022-01-19T20:07:49.159Z"
   },
   {
    "duration": 52,
    "start_time": "2022-01-19T20:07:49.180Z"
   },
   {
    "duration": 31,
    "start_time": "2022-01-19T20:07:49.236Z"
   },
   {
    "duration": 11,
    "start_time": "2022-01-19T20:07:49.270Z"
   },
   {
    "duration": 11,
    "start_time": "2022-01-19T20:07:49.284Z"
   },
   {
    "duration": 57,
    "start_time": "2022-01-19T20:07:49.298Z"
   },
   {
    "duration": 26,
    "start_time": "2022-01-19T20:07:49.358Z"
   },
   {
    "duration": 61,
    "start_time": "2022-01-19T20:07:49.387Z"
   },
   {
    "duration": 18,
    "start_time": "2022-01-19T20:07:49.451Z"
   },
   {
    "duration": 11,
    "start_time": "2022-01-19T20:07:49.473Z"
   },
   {
    "duration": 46,
    "start_time": "2022-01-19T20:07:49.491Z"
   },
   {
    "duration": 25,
    "start_time": "2022-01-19T20:07:49.541Z"
   },
   {
    "duration": 39,
    "start_time": "2022-01-19T20:07:49.568Z"
   },
   {
    "duration": 9,
    "start_time": "2022-01-19T20:07:49.634Z"
   },
   {
    "duration": 1113,
    "start_time": "2022-01-19T20:07:49.646Z"
   },
   {
    "duration": 24,
    "start_time": "2022-01-19T20:07:50.762Z"
   },
   {
    "duration": 7,
    "start_time": "2022-01-19T20:07:50.788Z"
   },
   {
    "duration": 307,
    "start_time": "2022-01-19T20:07:50.797Z"
   },
   {
    "duration": 104,
    "start_time": "2022-01-19T20:07:51.106Z"
   },
   {
    "duration": 8,
    "start_time": "2022-01-19T20:07:51.212Z"
   },
   {
    "duration": 650,
    "start_time": "2022-01-19T20:07:51.233Z"
   },
   {
    "duration": 4162,
    "start_time": "2022-01-19T20:07:51.886Z"
   },
   {
    "duration": 25,
    "start_time": "2022-01-19T20:07:56.051Z"
   },
   {
    "duration": 27,
    "start_time": "2022-01-19T20:07:56.078Z"
   },
   {
    "duration": 12,
    "start_time": "2022-01-19T20:07:56.132Z"
   },
   {
    "duration": 32,
    "start_time": "2022-01-19T20:07:56.147Z"
   },
   {
    "duration": 84,
    "start_time": "2022-01-19T20:07:56.182Z"
   },
   {
    "duration": 4608,
    "start_time": "2022-01-19T20:07:56.268Z"
   },
   {
    "duration": 2555,
    "start_time": "2022-01-19T20:08:00.878Z"
   },
   {
    "duration": 1321,
    "start_time": "2022-01-19T20:08:03.436Z"
   },
   {
    "duration": 594,
    "start_time": "2022-01-19T20:08:04.760Z"
   },
   {
    "duration": 12,
    "start_time": "2022-01-19T20:08:05.357Z"
   },
   {
    "duration": 1119,
    "start_time": "2022-01-19T20:08:05.372Z"
   },
   {
    "duration": 689,
    "start_time": "2022-01-19T20:08:06.494Z"
   },
   {
    "duration": 6,
    "start_time": "2022-01-19T20:08:07.185Z"
   },
   {
    "duration": 865,
    "start_time": "2022-01-19T20:08:07.194Z"
   },
   {
    "duration": 909,
    "start_time": "2022-01-19T20:08:08.062Z"
   },
   {
    "duration": 405,
    "start_time": "2022-01-19T20:08:08.974Z"
   },
   {
    "duration": 1921,
    "start_time": "2022-01-19T20:08:09.382Z"
   },
   {
    "duration": 10,
    "start_time": "2022-01-19T20:11:45.757Z"
   },
   {
    "duration": 22,
    "start_time": "2022-01-19T20:18:07.511Z"
   },
   {
    "duration": 6367,
    "start_time": "2022-01-19T20:18:39.141Z"
   },
   {
    "duration": 22,
    "start_time": "2022-01-19T20:18:51.317Z"
   },
   {
    "duration": 7528,
    "start_time": "2022-01-19T20:19:31.506Z"
   },
   {
    "duration": 259,
    "start_time": "2022-01-19T20:19:40.839Z"
   },
   {
    "duration": 7,
    "start_time": "2022-01-19T20:19:47.667Z"
   },
   {
    "duration": 82,
    "start_time": "2022-01-19T20:21:24.311Z"
   },
   {
    "duration": 6,
    "start_time": "2022-01-19T20:21:30.396Z"
   },
   {
    "duration": 11,
    "start_time": "2022-01-19T20:21:52.946Z"
   },
   {
    "duration": 274,
    "start_time": "2022-01-19T20:23:09.761Z"
   },
   {
    "duration": 272,
    "start_time": "2022-01-19T20:23:17.146Z"
   },
   {
    "duration": 18,
    "start_time": "2022-01-19T20:23:31.294Z"
   },
   {
    "duration": 9,
    "start_time": "2022-01-19T20:23:51.256Z"
   },
   {
    "duration": 1448,
    "start_time": "2022-01-19T20:24:04.852Z"
   },
   {
    "duration": 48,
    "start_time": "2022-01-19T20:24:06.303Z"
   },
   {
    "duration": 14,
    "start_time": "2022-01-19T20:24:06.354Z"
   },
   {
    "duration": 25,
    "start_time": "2022-01-19T20:24:06.371Z"
   },
   {
    "duration": 35,
    "start_time": "2022-01-19T20:24:06.399Z"
   },
   {
    "duration": 22,
    "start_time": "2022-01-19T20:24:06.437Z"
   },
   {
    "duration": 19,
    "start_time": "2022-01-19T20:24:06.461Z"
   },
   {
    "duration": 73,
    "start_time": "2022-01-19T20:24:06.483Z"
   },
   {
    "duration": 22,
    "start_time": "2022-01-19T20:24:06.562Z"
   },
   {
    "duration": 67,
    "start_time": "2022-01-19T20:24:06.588Z"
   },
   {
    "duration": 24,
    "start_time": "2022-01-19T20:24:06.658Z"
   },
   {
    "duration": 54,
    "start_time": "2022-01-19T20:24:06.685Z"
   },
   {
    "duration": 30,
    "start_time": "2022-01-19T20:24:06.742Z"
   },
   {
    "duration": 12,
    "start_time": "2022-01-19T20:24:06.774Z"
   },
   {
    "duration": 12,
    "start_time": "2022-01-19T20:24:06.788Z"
   },
   {
    "duration": 34,
    "start_time": "2022-01-19T20:24:06.802Z"
   },
   {
    "duration": 13,
    "start_time": "2022-01-19T20:24:06.838Z"
   },
   {
    "duration": 17,
    "start_time": "2022-01-19T20:24:06.854Z"
   },
   {
    "duration": 24,
    "start_time": "2022-01-19T20:24:06.873Z"
   },
   {
    "duration": 11,
    "start_time": "2022-01-19T20:24:06.931Z"
   },
   {
    "duration": 12,
    "start_time": "2022-01-19T20:24:06.944Z"
   },
   {
    "duration": 23,
    "start_time": "2022-01-19T20:24:06.959Z"
   },
   {
    "duration": 57,
    "start_time": "2022-01-19T20:24:06.984Z"
   },
   {
    "duration": 23,
    "start_time": "2022-01-19T20:24:07.043Z"
   },
   {
    "duration": 15,
    "start_time": "2022-01-19T20:24:07.069Z"
   },
   {
    "duration": 8,
    "start_time": "2022-01-19T20:24:07.087Z"
   },
   {
    "duration": 14,
    "start_time": "2022-01-19T20:24:07.135Z"
   },
   {
    "duration": 21,
    "start_time": "2022-01-19T20:24:07.152Z"
   },
   {
    "duration": 27,
    "start_time": "2022-01-19T20:24:07.175Z"
   },
   {
    "duration": 30,
    "start_time": "2022-01-19T20:24:07.204Z"
   },
   {
    "duration": 870,
    "start_time": "2022-01-19T20:24:07.236Z"
   },
   {
    "duration": 38,
    "start_time": "2022-01-19T20:24:08.109Z"
   },
   {
    "duration": 9,
    "start_time": "2022-01-19T20:24:08.150Z"
   },
   {
    "duration": 304,
    "start_time": "2022-01-19T20:24:08.161Z"
   },
   {
    "duration": 105,
    "start_time": "2022-01-19T20:24:08.468Z"
   },
   {
    "duration": 8,
    "start_time": "2022-01-19T20:24:08.575Z"
   },
   {
    "duration": 637,
    "start_time": "2022-01-19T20:24:08.586Z"
   },
   {
    "duration": 3918,
    "start_time": "2022-01-19T20:24:09.227Z"
   },
   {
    "duration": 22,
    "start_time": "2022-01-19T20:24:13.147Z"
   },
   {
    "duration": 21,
    "start_time": "2022-01-19T20:24:13.172Z"
   },
   {
    "duration": 10,
    "start_time": "2022-01-19T20:24:13.195Z"
   },
   {
    "duration": 22,
    "start_time": "2022-01-19T20:24:13.233Z"
   },
   {
    "duration": 41,
    "start_time": "2022-01-19T20:24:13.257Z"
   },
   {
    "duration": 4321,
    "start_time": "2022-01-19T20:24:13.301Z"
   },
   {
    "duration": 2207,
    "start_time": "2022-01-19T20:24:17.632Z"
   },
   {
    "duration": 1232,
    "start_time": "2022-01-19T20:24:19.841Z"
   },
   {
    "duration": 579,
    "start_time": "2022-01-19T20:24:21.076Z"
   },
   {
    "duration": 12,
    "start_time": "2022-01-19T20:24:21.658Z"
   },
   {
    "duration": 1035,
    "start_time": "2022-01-19T20:24:21.672Z"
   },
   {
    "duration": 698,
    "start_time": "2022-01-19T20:24:22.709Z"
   },
   {
    "duration": 7,
    "start_time": "2022-01-19T20:24:23.410Z"
   },
   {
    "duration": 840,
    "start_time": "2022-01-19T20:24:23.433Z"
   },
   {
    "duration": 868,
    "start_time": "2022-01-19T20:24:24.276Z"
   },
   {
    "duration": 411,
    "start_time": "2022-01-19T20:24:25.147Z"
   },
   {
    "duration": 25,
    "start_time": "2022-01-19T20:24:25.561Z"
   },
   {
    "duration": 7,
    "start_time": "2022-01-19T20:24:25.588Z"
   },
   {
    "duration": 1904,
    "start_time": "2022-01-19T20:24:25.597Z"
   },
   {
    "duration": 1741,
    "start_time": "2022-01-19T20:25:03.820Z"
   },
   {
    "duration": 1749,
    "start_time": "2022-01-19T20:25:14.745Z"
   },
   {
    "duration": 1855,
    "start_time": "2022-01-19T20:26:04.539Z"
   },
   {
    "duration": 8459,
    "start_time": "2022-01-19T20:30:06.184Z"
   },
   {
    "duration": 16,
    "start_time": "2022-01-19T20:30:34.239Z"
   },
   {
    "duration": 12,
    "start_time": "2022-01-19T20:30:43.525Z"
   },
   {
    "duration": 17,
    "start_time": "2022-01-19T20:30:48.418Z"
   },
   {
    "duration": 13,
    "start_time": "2022-01-19T20:31:30.901Z"
   },
   {
    "duration": 14,
    "start_time": "2022-01-19T20:31:37.583Z"
   },
   {
    "duration": 15,
    "start_time": "2022-01-19T20:31:47.692Z"
   },
   {
    "duration": 15,
    "start_time": "2022-01-19T20:31:54.557Z"
   },
   {
    "duration": 4,
    "start_time": "2022-01-19T20:32:13.739Z"
   },
   {
    "duration": 7,
    "start_time": "2022-01-19T20:32:18.667Z"
   },
   {
    "duration": 16,
    "start_time": "2022-01-19T20:32:51.149Z"
   },
   {
    "duration": 19,
    "start_time": "2022-01-19T20:32:54.987Z"
   },
   {
    "duration": 9,
    "start_time": "2022-01-19T20:33:54.424Z"
   },
   {
    "duration": 15,
    "start_time": "2022-01-19T20:35:14.237Z"
   },
   {
    "duration": 296,
    "start_time": "2022-01-19T20:36:16.063Z"
   },
   {
    "duration": 177,
    "start_time": "2022-01-19T20:36:40.432Z"
   },
   {
    "duration": 22,
    "start_time": "2022-01-19T20:36:49.204Z"
   },
   {
    "duration": 30,
    "start_time": "2022-01-19T20:37:52.908Z"
   },
   {
    "duration": 20,
    "start_time": "2022-01-19T20:38:18.865Z"
   },
   {
    "duration": 8,
    "start_time": "2022-01-19T20:38:28.093Z"
   },
   {
    "duration": 7,
    "start_time": "2022-01-19T20:38:39.433Z"
   },
   {
    "duration": 8,
    "start_time": "2022-01-19T20:38:55.214Z"
   },
   {
    "duration": 8,
    "start_time": "2022-01-19T20:38:59.503Z"
   },
   {
    "duration": 21,
    "start_time": "2022-01-19T20:39:04.255Z"
   },
   {
    "duration": 20,
    "start_time": "2022-01-19T20:39:29.216Z"
   },
   {
    "duration": 23,
    "start_time": "2022-01-19T20:39:37.818Z"
   },
   {
    "duration": 22,
    "start_time": "2022-01-19T20:39:40.033Z"
   },
   {
    "duration": 22,
    "start_time": "2022-01-19T20:39:57.626Z"
   },
   {
    "duration": 20,
    "start_time": "2022-01-19T20:40:07.147Z"
   },
   {
    "duration": 7,
    "start_time": "2022-01-19T20:43:05.663Z"
   },
   {
    "duration": 6,
    "start_time": "2022-01-19T20:43:19.030Z"
   },
   {
    "duration": 7,
    "start_time": "2022-01-19T20:43:47.683Z"
   },
   {
    "duration": 7,
    "start_time": "2022-01-19T20:43:49.264Z"
   },
   {
    "duration": 1230,
    "start_time": "2022-01-19T20:45:32.426Z"
   },
   {
    "duration": 1420,
    "start_time": "2022-01-19T20:45:53.981Z"
   },
   {
    "duration": 45,
    "start_time": "2022-01-19T20:45:55.404Z"
   },
   {
    "duration": 14,
    "start_time": "2022-01-19T20:45:55.455Z"
   },
   {
    "duration": 29,
    "start_time": "2022-01-19T20:45:55.471Z"
   },
   {
    "duration": 33,
    "start_time": "2022-01-19T20:45:55.502Z"
   },
   {
    "duration": 24,
    "start_time": "2022-01-19T20:45:55.537Z"
   },
   {
    "duration": 16,
    "start_time": "2022-01-19T20:45:55.565Z"
   },
   {
    "duration": 64,
    "start_time": "2022-01-19T20:45:55.584Z"
   },
   {
    "duration": 22,
    "start_time": "2022-01-19T20:45:55.650Z"
   },
   {
    "duration": 37,
    "start_time": "2022-01-19T20:45:55.675Z"
   },
   {
    "duration": 21,
    "start_time": "2022-01-19T20:45:55.732Z"
   },
   {
    "duration": 24,
    "start_time": "2022-01-19T20:45:55.755Z"
   },
   {
    "duration": 59,
    "start_time": "2022-01-19T20:45:55.782Z"
   },
   {
    "duration": 11,
    "start_time": "2022-01-19T20:45:55.844Z"
   },
   {
    "duration": 18,
    "start_time": "2022-01-19T20:45:55.857Z"
   },
   {
    "duration": 7,
    "start_time": "2022-01-19T20:45:55.877Z"
   },
   {
    "duration": 15,
    "start_time": "2022-01-19T20:45:55.887Z"
   },
   {
    "duration": 20,
    "start_time": "2022-01-19T20:45:55.934Z"
   },
   {
    "duration": 31,
    "start_time": "2022-01-19T20:45:55.956Z"
   },
   {
    "duration": 10,
    "start_time": "2022-01-19T20:45:55.990Z"
   },
   {
    "duration": 36,
    "start_time": "2022-01-19T20:45:56.002Z"
   },
   {
    "duration": 23,
    "start_time": "2022-01-19T20:45:56.045Z"
   },
   {
    "duration": 23,
    "start_time": "2022-01-19T20:45:56.071Z"
   },
   {
    "duration": 50,
    "start_time": "2022-01-19T20:45:56.097Z"
   },
   {
    "duration": 17,
    "start_time": "2022-01-19T20:45:56.150Z"
   },
   {
    "duration": 11,
    "start_time": "2022-01-19T20:45:56.170Z"
   },
   {
    "duration": 51,
    "start_time": "2022-01-19T20:45:56.184Z"
   },
   {
    "duration": 25,
    "start_time": "2022-01-19T20:45:56.238Z"
   },
   {
    "duration": 28,
    "start_time": "2022-01-19T20:45:56.265Z"
   },
   {
    "duration": 5,
    "start_time": "2022-01-19T20:45:56.296Z"
   },
   {
    "duration": 908,
    "start_time": "2022-01-19T20:45:56.304Z"
   },
   {
    "duration": 31,
    "start_time": "2022-01-19T20:45:57.215Z"
   },
   {
    "duration": 7,
    "start_time": "2022-01-19T20:45:57.248Z"
   },
   {
    "duration": 283,
    "start_time": "2022-01-19T20:45:57.258Z"
   },
   {
    "duration": 108,
    "start_time": "2022-01-19T20:45:57.544Z"
   },
   {
    "duration": 8,
    "start_time": "2022-01-19T20:45:57.655Z"
   },
   {
    "duration": 631,
    "start_time": "2022-01-19T20:45:57.666Z"
   },
   {
    "duration": 4077,
    "start_time": "2022-01-19T20:45:58.300Z"
   },
   {
    "duration": 23,
    "start_time": "2022-01-19T20:46:02.379Z"
   },
   {
    "duration": 28,
    "start_time": "2022-01-19T20:46:02.405Z"
   },
   {
    "duration": 11,
    "start_time": "2022-01-19T20:46:02.436Z"
   },
   {
    "duration": 24,
    "start_time": "2022-01-19T20:46:02.450Z"
   },
   {
    "duration": 41,
    "start_time": "2022-01-19T20:46:02.477Z"
   },
   {
    "duration": 4507,
    "start_time": "2022-01-19T20:46:02.521Z"
   },
   {
    "duration": 2226,
    "start_time": "2022-01-19T20:46:07.033Z"
   },
   {
    "duration": 1239,
    "start_time": "2022-01-19T20:46:09.262Z"
   },
   {
    "duration": 548,
    "start_time": "2022-01-19T20:46:10.504Z"
   },
   {
    "duration": 11,
    "start_time": "2022-01-19T20:46:11.055Z"
   },
   {
    "duration": 1029,
    "start_time": "2022-01-19T20:46:11.068Z"
   },
   {
    "duration": 681,
    "start_time": "2022-01-19T20:46:12.099Z"
   },
   {
    "duration": 6,
    "start_time": "2022-01-19T20:46:12.782Z"
   },
   {
    "duration": 847,
    "start_time": "2022-01-19T20:46:12.791Z"
   },
   {
    "duration": 873,
    "start_time": "2022-01-19T20:46:13.640Z"
   },
   {
    "duration": 394,
    "start_time": "2022-01-19T20:46:14.515Z"
   },
   {
    "duration": 1875,
    "start_time": "2022-01-19T20:46:14.912Z"
   },
   {
    "duration": 42,
    "start_time": "2022-01-19T20:46:16.790Z"
   },
   {
    "duration": 24,
    "start_time": "2022-01-19T20:46:16.835Z"
   },
   {
    "duration": 7,
    "start_time": "2022-01-19T20:46:16.862Z"
   },
   {
    "duration": 10,
    "start_time": "2022-01-19T20:46:16.871Z"
   },
   {
    "duration": 7,
    "start_time": "2022-01-19T20:46:16.883Z"
   },
   {
    "duration": 47,
    "start_time": "2022-01-19T20:46:16.892Z"
   },
   {
    "duration": 5,
    "start_time": "2022-01-19T20:46:29.310Z"
   },
   {
    "duration": 6,
    "start_time": "2022-01-19T20:46:43.034Z"
   },
   {
    "duration": 7,
    "start_time": "2022-01-19T20:46:43.587Z"
   },
   {
    "duration": 8,
    "start_time": "2022-01-19T20:46:43.596Z"
   },
   {
    "duration": 11,
    "start_time": "2022-01-19T20:46:43.606Z"
   },
   {
    "duration": 5,
    "start_time": "2022-01-19T20:46:58.076Z"
   },
   {
    "duration": 6,
    "start_time": "2022-01-19T20:46:59.254Z"
   },
   {
    "duration": 7,
    "start_time": "2022-01-19T20:52:54.700Z"
   },
   {
    "duration": 20,
    "start_time": "2022-01-19T20:53:31.681Z"
   },
   {
    "duration": 20,
    "start_time": "2022-01-19T20:53:44.732Z"
   },
   {
    "duration": 61,
    "start_time": "2022-01-19T20:58:43.345Z"
   },
   {
    "duration": 386,
    "start_time": "2022-01-19T20:59:05.754Z"
   },
   {
    "duration": 5093,
    "start_time": "2022-01-19T20:59:58.317Z"
   },
   {
    "duration": 1441,
    "start_time": "2022-01-19T21:00:11.021Z"
   },
   {
    "duration": 49,
    "start_time": "2022-01-19T21:00:12.465Z"
   },
   {
    "duration": 18,
    "start_time": "2022-01-19T21:00:12.517Z"
   },
   {
    "duration": 33,
    "start_time": "2022-01-19T21:00:12.538Z"
   },
   {
    "duration": 8,
    "start_time": "2022-01-19T21:00:12.574Z"
   },
   {
    "duration": 50,
    "start_time": "2022-01-19T21:00:12.585Z"
   },
   {
    "duration": 21,
    "start_time": "2022-01-19T21:00:12.638Z"
   },
   {
    "duration": 50,
    "start_time": "2022-01-19T21:00:12.664Z"
   },
   {
    "duration": 25,
    "start_time": "2022-01-19T21:00:12.732Z"
   },
   {
    "duration": 42,
    "start_time": "2022-01-19T21:00:12.760Z"
   },
   {
    "duration": 37,
    "start_time": "2022-01-19T21:00:12.805Z"
   },
   {
    "duration": 31,
    "start_time": "2022-01-19T21:00:12.845Z"
   },
   {
    "duration": 55,
    "start_time": "2022-01-19T21:00:12.878Z"
   },
   {
    "duration": 10,
    "start_time": "2022-01-19T21:00:12.937Z"
   },
   {
    "duration": 18,
    "start_time": "2022-01-19T21:00:12.950Z"
   },
   {
    "duration": 14,
    "start_time": "2022-01-19T21:00:12.970Z"
   },
   {
    "duration": 29,
    "start_time": "2022-01-19T21:00:12.986Z"
   },
   {
    "duration": 30,
    "start_time": "2022-01-19T21:00:13.018Z"
   },
   {
    "duration": 38,
    "start_time": "2022-01-19T21:00:13.051Z"
   },
   {
    "duration": 11,
    "start_time": "2022-01-19T21:00:13.091Z"
   },
   {
    "duration": 30,
    "start_time": "2022-01-19T21:00:13.105Z"
   },
   {
    "duration": 35,
    "start_time": "2022-01-19T21:00:13.138Z"
   },
   {
    "duration": 24,
    "start_time": "2022-01-19T21:00:13.182Z"
   },
   {
    "duration": 26,
    "start_time": "2022-01-19T21:00:13.235Z"
   },
   {
    "duration": 18,
    "start_time": "2022-01-19T21:00:13.263Z"
   },
   {
    "duration": 18,
    "start_time": "2022-01-19T21:00:13.283Z"
   },
   {
    "duration": 41,
    "start_time": "2022-01-19T21:00:13.303Z"
   },
   {
    "duration": 26,
    "start_time": "2022-01-19T21:00:13.346Z"
   },
   {
    "duration": 26,
    "start_time": "2022-01-19T21:00:13.375Z"
   },
   {
    "duration": 7,
    "start_time": "2022-01-19T21:00:13.403Z"
   },
   {
    "duration": 874,
    "start_time": "2022-01-19T21:00:13.433Z"
   },
   {
    "duration": 31,
    "start_time": "2022-01-19T21:00:14.311Z"
   },
   {
    "duration": 6,
    "start_time": "2022-01-19T21:00:14.345Z"
   },
   {
    "duration": 294,
    "start_time": "2022-01-19T21:00:14.353Z"
   },
   {
    "duration": 110,
    "start_time": "2022-01-19T21:00:14.649Z"
   },
   {
    "duration": 8,
    "start_time": "2022-01-19T21:00:14.761Z"
   },
   {
    "duration": 623,
    "start_time": "2022-01-19T21:00:14.771Z"
   },
   {
    "duration": 4099,
    "start_time": "2022-01-19T21:00:15.396Z"
   },
   {
    "duration": 23,
    "start_time": "2022-01-19T21:00:19.497Z"
   },
   {
    "duration": 32,
    "start_time": "2022-01-19T21:00:19.523Z"
   },
   {
    "duration": 11,
    "start_time": "2022-01-19T21:00:19.557Z"
   },
   {
    "duration": 28,
    "start_time": "2022-01-19T21:00:19.571Z"
   },
   {
    "duration": 67,
    "start_time": "2022-01-19T21:00:19.602Z"
   },
   {
    "duration": 4356,
    "start_time": "2022-01-19T21:00:19.672Z"
   },
   {
    "duration": 2165,
    "start_time": "2022-01-19T21:00:24.030Z"
   },
   {
    "duration": 1300,
    "start_time": "2022-01-19T21:00:26.197Z"
   },
   {
    "duration": 598,
    "start_time": "2022-01-19T21:00:27.500Z"
   },
   {
    "duration": 11,
    "start_time": "2022-01-19T21:00:28.101Z"
   },
   {
    "duration": 965,
    "start_time": "2022-01-19T21:00:28.115Z"
   },
   {
    "duration": 750,
    "start_time": "2022-01-19T21:00:29.082Z"
   },
   {
    "duration": 6,
    "start_time": "2022-01-19T21:00:29.834Z"
   },
   {
    "duration": 847,
    "start_time": "2022-01-19T21:00:29.843Z"
   },
   {
    "duration": 870,
    "start_time": "2022-01-19T21:00:30.693Z"
   },
   {
    "duration": 399,
    "start_time": "2022-01-19T21:00:31.567Z"
   },
   {
    "duration": 1819,
    "start_time": "2022-01-19T21:00:31.969Z"
   },
   {
    "duration": 21,
    "start_time": "2022-01-19T21:00:33.791Z"
   },
   {
    "duration": 39,
    "start_time": "2022-01-19T21:00:33.814Z"
   },
   {
    "duration": 6,
    "start_time": "2022-01-19T21:00:33.855Z"
   },
   {
    "duration": 6,
    "start_time": "2022-01-19T21:00:33.864Z"
   },
   {
    "duration": 7,
    "start_time": "2022-01-19T21:00:33.873Z"
   },
   {
    "duration": 51,
    "start_time": "2022-01-19T21:00:33.883Z"
   },
   {
    "duration": 7,
    "start_time": "2022-01-19T21:00:33.936Z"
   },
   {
    "duration": 62,
    "start_time": "2022-01-19T21:00:33.945Z"
   },
   {
    "duration": 428,
    "start_time": "2022-01-19T21:00:34.010Z"
   },
   {
    "duration": 258,
    "start_time": "2022-01-19T21:00:57.694Z"
   },
   {
    "duration": 652,
    "start_time": "2022-01-19T21:01:17.831Z"
   },
   {
    "duration": 268,
    "start_time": "2022-01-19T21:01:40.828Z"
   },
   {
    "duration": 296,
    "start_time": "2022-01-19T21:02:37.811Z"
   },
   {
    "duration": 894,
    "start_time": "2022-01-19T21:02:43.548Z"
   },
   {
    "duration": 259,
    "start_time": "2022-01-19T21:03:41.373Z"
   },
   {
    "duration": 305,
    "start_time": "2022-01-19T21:04:45.395Z"
   },
   {
    "duration": 259,
    "start_time": "2022-01-19T21:04:57.470Z"
   },
   {
    "duration": 343,
    "start_time": "2022-01-20T08:01:36.769Z"
   },
   {
    "duration": 1135,
    "start_time": "2022-01-20T08:01:41.668Z"
   },
   {
    "duration": 37,
    "start_time": "2022-01-20T08:01:42.805Z"
   },
   {
    "duration": 10,
    "start_time": "2022-01-20T08:01:42.846Z"
   },
   {
    "duration": 22,
    "start_time": "2022-01-20T08:01:42.858Z"
   },
   {
    "duration": 5,
    "start_time": "2022-01-20T08:01:42.882Z"
   },
   {
    "duration": 13,
    "start_time": "2022-01-20T08:01:42.889Z"
   },
   {
    "duration": 12,
    "start_time": "2022-01-20T08:01:42.904Z"
   },
   {
    "duration": 26,
    "start_time": "2022-01-20T08:01:42.918Z"
   },
   {
    "duration": 39,
    "start_time": "2022-01-20T08:01:42.945Z"
   },
   {
    "duration": 30,
    "start_time": "2022-01-20T08:01:42.985Z"
   },
   {
    "duration": 12,
    "start_time": "2022-01-20T08:01:43.017Z"
   },
   {
    "duration": 18,
    "start_time": "2022-01-20T08:01:43.031Z"
   },
   {
    "duration": 37,
    "start_time": "2022-01-20T08:01:43.050Z"
   },
   {
    "duration": 7,
    "start_time": "2022-01-20T08:01:43.089Z"
   },
   {
    "duration": 7,
    "start_time": "2022-01-20T08:01:43.098Z"
   },
   {
    "duration": 6,
    "start_time": "2022-01-20T08:01:43.107Z"
   },
   {
    "duration": 11,
    "start_time": "2022-01-20T08:01:43.114Z"
   },
   {
    "duration": 12,
    "start_time": "2022-01-20T08:01:43.126Z"
   },
   {
    "duration": 20,
    "start_time": "2022-01-20T08:01:43.172Z"
   },
   {
    "duration": 7,
    "start_time": "2022-01-20T08:01:43.194Z"
   },
   {
    "duration": 6,
    "start_time": "2022-01-20T08:01:43.203Z"
   },
   {
    "duration": 14,
    "start_time": "2022-01-20T08:01:43.212Z"
   },
   {
    "duration": 44,
    "start_time": "2022-01-20T08:01:43.228Z"
   },
   {
    "duration": 16,
    "start_time": "2022-01-20T08:01:43.274Z"
   },
   {
    "duration": 10,
    "start_time": "2022-01-20T08:01:43.292Z"
   },
   {
    "duration": 6,
    "start_time": "2022-01-20T08:01:43.304Z"
   },
   {
    "duration": 13,
    "start_time": "2022-01-20T08:01:43.311Z"
   },
   {
    "duration": 17,
    "start_time": "2022-01-20T08:01:43.325Z"
   },
   {
    "duration": 44,
    "start_time": "2022-01-20T08:01:43.343Z"
   },
   {
    "duration": 4,
    "start_time": "2022-01-20T08:01:43.388Z"
   },
   {
    "duration": 500,
    "start_time": "2022-01-20T08:01:43.393Z"
   },
   {
    "duration": 14,
    "start_time": "2022-01-20T08:01:43.894Z"
   },
   {
    "duration": 4,
    "start_time": "2022-01-20T08:01:43.910Z"
   },
   {
    "duration": 276,
    "start_time": "2022-01-20T08:01:43.916Z"
   },
   {
    "duration": 49,
    "start_time": "2022-01-20T08:01:44.194Z"
   },
   {
    "duration": 6,
    "start_time": "2022-01-20T08:01:44.245Z"
   },
   {
    "duration": 365,
    "start_time": "2022-01-20T08:01:44.272Z"
   },
   {
    "duration": 2517,
    "start_time": "2022-01-20T08:01:44.639Z"
   },
   {
    "duration": 28,
    "start_time": "2022-01-20T08:01:47.158Z"
   },
   {
    "duration": 14,
    "start_time": "2022-01-20T08:01:47.188Z"
   },
   {
    "duration": 8,
    "start_time": "2022-01-20T08:01:47.204Z"
   },
   {
    "duration": 17,
    "start_time": "2022-01-20T08:01:47.213Z"
   },
   {
    "duration": 50,
    "start_time": "2022-01-20T08:01:47.231Z"
   },
   {
    "duration": 2574,
    "start_time": "2022-01-20T08:01:47.283Z"
   },
   {
    "duration": 1325,
    "start_time": "2022-01-20T08:01:49.859Z"
   },
   {
    "duration": 798,
    "start_time": "2022-01-20T08:01:51.186Z"
   },
   {
    "duration": 381,
    "start_time": "2022-01-20T08:01:51.985Z"
   },
   {
    "duration": 8,
    "start_time": "2022-01-20T08:01:52.368Z"
   },
   {
    "duration": 679,
    "start_time": "2022-01-20T08:01:52.377Z"
   },
   {
    "duration": 385,
    "start_time": "2022-01-20T08:01:53.057Z"
   },
   {
    "duration": 4,
    "start_time": "2022-01-20T08:01:53.443Z"
   },
   {
    "duration": 494,
    "start_time": "2022-01-20T08:01:53.449Z"
   },
   {
    "duration": 497,
    "start_time": "2022-01-20T08:01:53.945Z"
   },
   {
    "duration": 225,
    "start_time": "2022-01-20T08:01:54.443Z"
   },
   {
    "duration": 1127,
    "start_time": "2022-01-20T08:01:54.669Z"
   },
   {
    "duration": 14,
    "start_time": "2022-01-20T08:01:55.798Z"
   },
   {
    "duration": 13,
    "start_time": "2022-01-20T08:01:55.813Z"
   },
   {
    "duration": 4,
    "start_time": "2022-01-20T08:01:55.827Z"
   },
   {
    "duration": 7,
    "start_time": "2022-01-20T08:01:55.832Z"
   },
   {
    "duration": 32,
    "start_time": "2022-01-20T08:01:55.841Z"
   },
   {
    "duration": 5,
    "start_time": "2022-01-20T08:01:55.874Z"
   },
   {
    "duration": 6,
    "start_time": "2022-01-20T08:01:55.880Z"
   },
   {
    "duration": 38,
    "start_time": "2022-01-20T08:01:55.888Z"
   },
   {
    "duration": 11,
    "start_time": "2022-01-20T10:49:19.515Z"
   },
   {
    "duration": 369,
    "start_time": "2022-01-20T11:07:47.177Z"
   },
   {
    "duration": 2316,
    "start_time": "2022-01-20T11:08:16.171Z"
   },
   {
    "duration": 2726,
    "start_time": "2022-01-20T11:09:44.279Z"
   },
   {
    "duration": 215,
    "start_time": "2022-01-20T16:12:16.741Z"
   },
   {
    "duration": 1111,
    "start_time": "2022-01-20T16:12:21.265Z"
   },
   {
    "duration": 36,
    "start_time": "2022-01-20T16:12:22.378Z"
   },
   {
    "duration": 24,
    "start_time": "2022-01-20T16:12:22.416Z"
   },
   {
    "duration": 33,
    "start_time": "2022-01-20T16:12:22.442Z"
   },
   {
    "duration": 36,
    "start_time": "2022-01-20T16:12:22.476Z"
   },
   {
    "duration": 26,
    "start_time": "2022-01-20T16:12:22.514Z"
   },
   {
    "duration": 31,
    "start_time": "2022-01-20T16:12:22.541Z"
   },
   {
    "duration": 44,
    "start_time": "2022-01-20T16:12:22.573Z"
   },
   {
    "duration": 26,
    "start_time": "2022-01-20T16:12:22.620Z"
   },
   {
    "duration": 27,
    "start_time": "2022-01-20T16:12:22.648Z"
   },
   {
    "duration": 47,
    "start_time": "2022-01-20T16:12:22.676Z"
   },
   {
    "duration": 54,
    "start_time": "2022-01-20T16:12:22.724Z"
   },
   {
    "duration": 40,
    "start_time": "2022-01-20T16:12:22.779Z"
   },
   {
    "duration": 33,
    "start_time": "2022-01-20T16:12:22.821Z"
   },
   {
    "duration": 21,
    "start_time": "2022-01-20T16:12:22.855Z"
   },
   {
    "duration": 45,
    "start_time": "2022-01-20T16:12:22.878Z"
   },
   {
    "duration": 45,
    "start_time": "2022-01-20T16:12:22.924Z"
   },
   {
    "duration": 22,
    "start_time": "2022-01-20T16:12:22.971Z"
   },
   {
    "duration": 61,
    "start_time": "2022-01-20T16:12:22.995Z"
   },
   {
    "duration": 9,
    "start_time": "2022-01-20T16:12:23.057Z"
   },
   {
    "duration": 31,
    "start_time": "2022-01-20T16:12:23.068Z"
   },
   {
    "duration": 38,
    "start_time": "2022-01-20T16:12:23.100Z"
   },
   {
    "duration": 23,
    "start_time": "2022-01-20T16:12:23.140Z"
   },
   {
    "duration": 42,
    "start_time": "2022-01-20T16:12:23.165Z"
   },
   {
    "duration": 33,
    "start_time": "2022-01-20T16:12:23.208Z"
   },
   {
    "duration": 24,
    "start_time": "2022-01-20T16:12:23.243Z"
   },
   {
    "duration": 48,
    "start_time": "2022-01-20T16:12:23.270Z"
   },
   {
    "duration": 27,
    "start_time": "2022-01-20T16:12:23.321Z"
   },
   {
    "duration": 39,
    "start_time": "2022-01-20T16:12:23.349Z"
   },
   {
    "duration": 30,
    "start_time": "2022-01-20T16:12:23.389Z"
   },
   {
    "duration": 42,
    "start_time": "2022-01-20T16:12:23.421Z"
   },
   {
    "duration": 560,
    "start_time": "2022-01-20T16:12:23.465Z"
   },
   {
    "duration": 13,
    "start_time": "2022-01-20T16:12:24.027Z"
   },
   {
    "duration": 5,
    "start_time": "2022-01-20T16:12:24.042Z"
   },
   {
    "duration": 169,
    "start_time": "2022-01-20T16:12:24.049Z"
   },
   {
    "duration": 54,
    "start_time": "2022-01-20T16:12:24.220Z"
   },
   {
    "duration": 5,
    "start_time": "2022-01-20T16:12:24.276Z"
   },
   {
    "duration": 400,
    "start_time": "2022-01-20T16:12:24.297Z"
   },
   {
    "duration": 2373,
    "start_time": "2022-01-20T16:12:24.699Z"
   },
   {
    "duration": 23,
    "start_time": "2022-01-20T16:12:27.074Z"
   },
   {
    "duration": 16,
    "start_time": "2022-01-20T16:12:27.098Z"
   },
   {
    "duration": 9,
    "start_time": "2022-01-20T16:12:27.115Z"
   },
   {
    "duration": 15,
    "start_time": "2022-01-20T16:12:27.126Z"
   },
   {
    "duration": 55,
    "start_time": "2022-01-20T16:12:27.143Z"
   },
   {
    "duration": 2731,
    "start_time": "2022-01-20T16:12:27.200Z"
   },
   {
    "duration": 1293,
    "start_time": "2022-01-20T16:12:29.933Z"
   },
   {
    "duration": 812,
    "start_time": "2022-01-20T16:12:31.228Z"
   },
   {
    "duration": 367,
    "start_time": "2022-01-20T16:12:32.042Z"
   },
   {
    "duration": 8,
    "start_time": "2022-01-20T16:12:32.411Z"
   },
   {
    "duration": 742,
    "start_time": "2022-01-20T16:12:32.420Z"
   },
   {
    "duration": 405,
    "start_time": "2022-01-20T16:12:33.164Z"
   },
   {
    "duration": 3,
    "start_time": "2022-01-20T16:12:33.571Z"
   },
   {
    "duration": 532,
    "start_time": "2022-01-20T16:12:33.576Z"
   },
   {
    "duration": 518,
    "start_time": "2022-01-20T16:12:34.110Z"
   },
   {
    "duration": 243,
    "start_time": "2022-01-20T16:12:34.630Z"
   },
   {
    "duration": 1147,
    "start_time": "2022-01-20T16:12:34.874Z"
   },
   {
    "duration": 14,
    "start_time": "2022-01-20T16:12:36.022Z"
   },
   {
    "duration": 25,
    "start_time": "2022-01-20T16:12:36.037Z"
   },
   {
    "duration": 21,
    "start_time": "2022-01-20T16:12:36.063Z"
   },
   {
    "duration": 41,
    "start_time": "2022-01-20T16:12:36.086Z"
   },
   {
    "duration": 24,
    "start_time": "2022-01-20T16:12:36.129Z"
   },
   {
    "duration": 24,
    "start_time": "2022-01-20T16:12:36.155Z"
   },
   {
    "duration": 30,
    "start_time": "2022-01-20T16:12:36.181Z"
   },
   {
    "duration": 56,
    "start_time": "2022-01-20T16:12:36.212Z"
   },
   {
    "duration": 374,
    "start_time": "2022-01-20T16:15:02.877Z"
   },
   {
    "duration": 352,
    "start_time": "2022-01-20T16:15:28.355Z"
   },
   {
    "duration": 480,
    "start_time": "2022-01-20T16:15:41.417Z"
   },
   {
    "duration": 280,
    "start_time": "2022-01-20T16:20:20.219Z"
   },
   {
    "duration": 967,
    "start_time": "2022-01-20T16:20:46.507Z"
   },
   {
    "duration": 536,
    "start_time": "2022-01-20T16:20:57.966Z"
   },
   {
    "duration": 5,
    "start_time": "2022-01-20T16:29:21.581Z"
   },
   {
    "duration": 5,
    "start_time": "2022-01-20T16:29:22.095Z"
   },
   {
    "duration": 390,
    "start_time": "2022-01-20T16:42:34.854Z"
   },
   {
    "duration": 375,
    "start_time": "2022-01-20T16:46:11.830Z"
   },
   {
    "duration": 21,
    "start_time": "2022-01-20T16:55:09.834Z"
   },
   {
    "duration": 7,
    "start_time": "2022-01-20T16:55:19.106Z"
   },
   {
    "duration": 180,
    "start_time": "2022-01-20T16:55:57.011Z"
   },
   {
    "duration": 4,
    "start_time": "2022-01-20T16:56:02.712Z"
   },
   {
    "duration": 4571,
    "start_time": "2022-01-20T16:56:18.027Z"
   },
   {
    "duration": 453,
    "start_time": "2022-01-20T16:56:46.478Z"
   },
   {
    "duration": 565,
    "start_time": "2022-01-20T16:57:47.186Z"
   },
   {
    "duration": 546,
    "start_time": "2022-01-20T16:58:09.215Z"
   },
   {
    "duration": 503,
    "start_time": "2022-01-20T16:58:16.673Z"
   },
   {
    "duration": 509,
    "start_time": "2022-01-20T16:59:14.663Z"
   },
   {
    "duration": 70,
    "start_time": "2022-01-20T16:59:56.069Z"
   },
   {
    "duration": 505,
    "start_time": "2022-01-20T16:59:58.901Z"
   },
   {
    "duration": 507,
    "start_time": "2022-01-20T17:01:11.192Z"
   },
   {
    "duration": 517,
    "start_time": "2022-01-20T17:01:20.441Z"
   },
   {
    "duration": 1339,
    "start_time": "2022-01-20T17:01:30.793Z"
   },
   {
    "duration": 538,
    "start_time": "2022-01-20T17:03:17.682Z"
   },
   {
    "duration": 550,
    "start_time": "2022-01-20T17:03:25.702Z"
   },
   {
    "duration": 560,
    "start_time": "2022-01-20T17:04:21.630Z"
   },
   {
    "duration": 693,
    "start_time": "2022-01-20T17:04:34.842Z"
   },
   {
    "duration": 533,
    "start_time": "2022-01-20T17:05:02.190Z"
   },
   {
    "duration": 4,
    "start_time": "2022-01-20T17:05:35.154Z"
   },
   {
    "duration": 180,
    "start_time": "2022-01-20T17:05:41.469Z"
   },
   {
    "duration": 61,
    "start_time": "2022-01-20T17:05:47.667Z"
   },
   {
    "duration": 71,
    "start_time": "2022-01-20T17:05:49.326Z"
   },
   {
    "duration": 181,
    "start_time": "2022-01-20T17:05:51.035Z"
   },
   {
    "duration": 4,
    "start_time": "2022-01-20T17:06:06.930Z"
   },
   {
    "duration": 554,
    "start_time": "2022-01-20T17:06:59.002Z"
   },
   {
    "duration": 571,
    "start_time": "2022-01-20T17:07:52.674Z"
   },
   {
    "duration": 608,
    "start_time": "2022-01-20T17:08:16.166Z"
   },
   {
    "duration": 633,
    "start_time": "2022-01-20T17:08:22.004Z"
   },
   {
    "duration": 585,
    "start_time": "2022-01-20T17:08:26.257Z"
   },
   {
    "duration": 567,
    "start_time": "2022-01-20T17:08:33.371Z"
   },
   {
    "duration": 648,
    "start_time": "2022-01-20T17:08:50.125Z"
   },
   {
    "duration": 535,
    "start_time": "2022-01-20T17:09:06.219Z"
   },
   {
    "duration": 555,
    "start_time": "2022-01-20T17:10:37.763Z"
   },
   {
    "duration": 68,
    "start_time": "2022-01-20T17:12:04.594Z"
   },
   {
    "duration": 57,
    "start_time": "2022-01-20T17:12:17.242Z"
   },
   {
    "duration": 181,
    "start_time": "2022-01-20T17:12:21.327Z"
   },
   {
    "duration": 637,
    "start_time": "2022-01-20T17:12:29.163Z"
   },
   {
    "duration": 820,
    "start_time": "2022-01-20T17:13:13.606Z"
   },
   {
    "duration": 535,
    "start_time": "2022-01-20T17:13:40.014Z"
   },
   {
    "duration": 182,
    "start_time": "2022-01-20T17:14:40.898Z"
   },
   {
    "duration": 4,
    "start_time": "2022-01-20T17:14:46.371Z"
   },
   {
    "duration": 187,
    "start_time": "2022-01-20T17:15:40.722Z"
   },
   {
    "duration": 5150,
    "start_time": "2022-01-20T17:15:51.426Z"
   },
   {
    "duration": 218,
    "start_time": "2022-01-20T17:16:18.045Z"
   },
   {
    "duration": 179,
    "start_time": "2022-01-20T17:16:34.134Z"
   },
   {
    "duration": 4,
    "start_time": "2022-01-20T17:17:04.247Z"
   },
   {
    "duration": 760,
    "start_time": "2022-01-20T17:17:17.743Z"
   },
   {
    "duration": 3216,
    "start_time": "2022-01-20T17:17:31.224Z"
   },
   {
    "duration": 3106,
    "start_time": "2022-01-20T17:18:40.443Z"
   },
   {
    "duration": 1128,
    "start_time": "2022-01-20T17:20:17.927Z"
   },
   {
    "duration": 39,
    "start_time": "2022-01-20T17:20:19.057Z"
   },
   {
    "duration": 13,
    "start_time": "2022-01-20T17:20:19.100Z"
   },
   {
    "duration": 23,
    "start_time": "2022-01-20T17:20:19.115Z"
   },
   {
    "duration": 6,
    "start_time": "2022-01-20T17:20:19.140Z"
   },
   {
    "duration": 41,
    "start_time": "2022-01-20T17:20:19.148Z"
   },
   {
    "duration": 29,
    "start_time": "2022-01-20T17:20:19.191Z"
   },
   {
    "duration": 38,
    "start_time": "2022-01-20T17:20:19.222Z"
   },
   {
    "duration": 25,
    "start_time": "2022-01-20T17:20:19.262Z"
   },
   {
    "duration": 22,
    "start_time": "2022-01-20T17:20:19.289Z"
   },
   {
    "duration": 15,
    "start_time": "2022-01-20T17:20:19.313Z"
   },
   {
    "duration": 34,
    "start_time": "2022-01-20T17:20:19.330Z"
   },
   {
    "duration": 29,
    "start_time": "2022-01-20T17:20:19.366Z"
   },
   {
    "duration": 10,
    "start_time": "2022-01-20T17:20:19.397Z"
   },
   {
    "duration": 5,
    "start_time": "2022-01-20T17:20:19.409Z"
   },
   {
    "duration": 5,
    "start_time": "2022-01-20T17:20:19.416Z"
   },
   {
    "duration": 12,
    "start_time": "2022-01-20T17:20:19.423Z"
   },
   {
    "duration": 12,
    "start_time": "2022-01-20T17:20:19.436Z"
   },
   {
    "duration": 20,
    "start_time": "2022-01-20T17:20:19.450Z"
   },
   {
    "duration": 29,
    "start_time": "2022-01-20T17:20:19.472Z"
   },
   {
    "duration": 7,
    "start_time": "2022-01-20T17:20:19.502Z"
   },
   {
    "duration": 15,
    "start_time": "2022-01-20T17:20:19.512Z"
   },
   {
    "duration": 16,
    "start_time": "2022-01-20T17:20:19.530Z"
   },
   {
    "duration": 23,
    "start_time": "2022-01-20T17:20:19.547Z"
   },
   {
    "duration": 36,
    "start_time": "2022-01-20T17:20:19.571Z"
   },
   {
    "duration": 6,
    "start_time": "2022-01-20T17:20:19.609Z"
   },
   {
    "duration": 11,
    "start_time": "2022-01-20T17:20:19.616Z"
   },
   {
    "duration": 15,
    "start_time": "2022-01-20T17:20:19.629Z"
   },
   {
    "duration": 16,
    "start_time": "2022-01-20T17:20:19.646Z"
   },
   {
    "duration": 37,
    "start_time": "2022-01-20T17:20:19.664Z"
   },
   {
    "duration": 16,
    "start_time": "2022-01-20T17:20:19.703Z"
   },
   {
    "duration": 552,
    "start_time": "2022-01-20T17:20:19.721Z"
   },
   {
    "duration": 24,
    "start_time": "2022-01-20T17:20:20.275Z"
   },
   {
    "duration": 5,
    "start_time": "2022-01-20T17:20:20.301Z"
   },
   {
    "duration": 179,
    "start_time": "2022-01-20T17:20:20.308Z"
   },
   {
    "duration": 66,
    "start_time": "2022-01-20T17:20:20.489Z"
   },
   {
    "duration": 7,
    "start_time": "2022-01-20T17:20:20.556Z"
   },
   {
    "duration": 411,
    "start_time": "2022-01-20T17:20:20.565Z"
   },
   {
    "duration": 2519,
    "start_time": "2022-01-20T17:20:20.978Z"
   },
   {
    "duration": 15,
    "start_time": "2022-01-20T17:20:23.498Z"
   },
   {
    "duration": 49,
    "start_time": "2022-01-20T17:20:23.514Z"
   },
   {
    "duration": 13,
    "start_time": "2022-01-20T17:20:23.565Z"
   },
   {
    "duration": 27,
    "start_time": "2022-01-20T17:20:23.580Z"
   },
   {
    "duration": 44,
    "start_time": "2022-01-20T17:20:23.608Z"
   },
   {
    "duration": 2876,
    "start_time": "2022-01-20T17:20:23.653Z"
   },
   {
    "duration": 465,
    "start_time": "2022-01-20T17:20:26.532Z"
   },
   {
    "duration": 1338,
    "start_time": "2022-01-20T17:20:26.999Z"
   },
   {
    "duration": 558,
    "start_time": "2022-01-20T17:20:28.339Z"
   },
   {
    "duration": 978,
    "start_time": "2022-01-20T17:20:28.899Z"
   },
   {
    "duration": 425,
    "start_time": "2022-01-20T17:20:29.879Z"
   },
   {
    "duration": 10,
    "start_time": "2022-01-20T17:20:30.306Z"
   },
   {
    "duration": 428,
    "start_time": "2022-01-20T17:20:30.318Z"
   },
   {
    "duration": 3104,
    "start_time": "2022-01-20T17:20:30.749Z"
   },
   {
    "duration": 416,
    "start_time": "2022-01-20T17:20:33.856Z"
   },
   {
    "duration": 4,
    "start_time": "2022-01-20T17:20:34.274Z"
   },
   {
    "duration": 636,
    "start_time": "2022-01-20T17:20:34.279Z"
   },
   {
    "duration": 555,
    "start_time": "2022-01-20T17:20:34.916Z"
   },
   {
    "duration": 247,
    "start_time": "2022-01-20T17:20:35.481Z"
   },
   {
    "duration": 1074,
    "start_time": "2022-01-20T17:20:35.730Z"
   },
   {
    "duration": 13,
    "start_time": "2022-01-20T17:20:36.806Z"
   },
   {
    "duration": 5,
    "start_time": "2022-01-20T17:20:36.821Z"
   },
   {
    "duration": 8,
    "start_time": "2022-01-20T17:20:36.827Z"
   },
   {
    "duration": 16,
    "start_time": "2022-01-20T17:20:36.837Z"
   },
   {
    "duration": 11,
    "start_time": "2022-01-20T17:20:36.855Z"
   },
   {
    "duration": 33,
    "start_time": "2022-01-20T17:20:36.868Z"
   },
   {
    "duration": 1218,
    "start_time": "2022-01-20T17:23:21.104Z"
   },
   {
    "duration": 2001,
    "start_time": "2022-01-20T17:23:24.469Z"
   },
   {
    "duration": 1093,
    "start_time": "2022-01-20T17:25:07.761Z"
   },
   {
    "duration": 45,
    "start_time": "2022-01-20T17:25:08.856Z"
   },
   {
    "duration": 13,
    "start_time": "2022-01-20T17:25:08.904Z"
   },
   {
    "duration": 21,
    "start_time": "2022-01-20T17:25:08.919Z"
   },
   {
    "duration": 7,
    "start_time": "2022-01-20T17:25:08.942Z"
   },
   {
    "duration": 20,
    "start_time": "2022-01-20T17:25:08.951Z"
   },
   {
    "duration": 37,
    "start_time": "2022-01-20T17:25:08.972Z"
   },
   {
    "duration": 29,
    "start_time": "2022-01-20T17:25:09.011Z"
   },
   {
    "duration": 16,
    "start_time": "2022-01-20T17:25:09.042Z"
   },
   {
    "duration": 47,
    "start_time": "2022-01-20T17:25:09.060Z"
   },
   {
    "duration": 16,
    "start_time": "2022-01-20T17:25:09.109Z"
   },
   {
    "duration": 21,
    "start_time": "2022-01-20T17:25:09.127Z"
   },
   {
    "duration": 22,
    "start_time": "2022-01-20T17:25:09.150Z"
   },
   {
    "duration": 29,
    "start_time": "2022-01-20T17:25:09.174Z"
   },
   {
    "duration": 6,
    "start_time": "2022-01-20T17:25:09.205Z"
   },
   {
    "duration": 11,
    "start_time": "2022-01-20T17:25:09.213Z"
   },
   {
    "duration": 14,
    "start_time": "2022-01-20T17:25:09.226Z"
   },
   {
    "duration": 13,
    "start_time": "2022-01-20T17:25:09.242Z"
   },
   {
    "duration": 47,
    "start_time": "2022-01-20T17:25:09.257Z"
   },
   {
    "duration": 8,
    "start_time": "2022-01-20T17:25:09.306Z"
   },
   {
    "duration": 9,
    "start_time": "2022-01-20T17:25:09.316Z"
   },
   {
    "duration": 19,
    "start_time": "2022-01-20T17:25:09.327Z"
   },
   {
    "duration": 15,
    "start_time": "2022-01-20T17:25:09.350Z"
   },
   {
    "duration": 44,
    "start_time": "2022-01-20T17:25:09.367Z"
   },
   {
    "duration": 11,
    "start_time": "2022-01-20T17:25:09.413Z"
   },
   {
    "duration": 14,
    "start_time": "2022-01-20T17:25:09.426Z"
   },
   {
    "duration": 16,
    "start_time": "2022-01-20T17:25:09.442Z"
   },
   {
    "duration": 38,
    "start_time": "2022-01-20T17:25:09.460Z"
   },
   {
    "duration": 17,
    "start_time": "2022-01-20T17:25:09.500Z"
   },
   {
    "duration": 6,
    "start_time": "2022-01-20T17:25:09.519Z"
   },
   {
    "duration": 17,
    "start_time": "2022-01-20T17:25:09.526Z"
   },
   {
    "duration": 579,
    "start_time": "2022-01-20T17:25:09.546Z"
   },
   {
    "duration": 17,
    "start_time": "2022-01-20T17:25:10.128Z"
   },
   {
    "duration": 6,
    "start_time": "2022-01-20T17:25:10.147Z"
   },
   {
    "duration": 183,
    "start_time": "2022-01-20T17:25:10.155Z"
   },
   {
    "duration": 72,
    "start_time": "2022-01-20T17:25:10.339Z"
   },
   {
    "duration": 5,
    "start_time": "2022-01-20T17:25:10.412Z"
   },
   {
    "duration": 415,
    "start_time": "2022-01-20T17:25:10.419Z"
   },
   {
    "duration": 1992,
    "start_time": "2022-01-20T17:25:10.836Z"
   },
   {
    "duration": 16,
    "start_time": "2022-01-20T17:25:12.829Z"
   },
   {
    "duration": 18,
    "start_time": "2022-01-20T17:25:12.846Z"
   },
   {
    "duration": 13,
    "start_time": "2022-01-20T17:25:12.866Z"
   },
   {
    "duration": 31,
    "start_time": "2022-01-20T17:25:12.880Z"
   },
   {
    "duration": 28,
    "start_time": "2022-01-20T17:25:12.913Z"
   },
   {
    "duration": 2892,
    "start_time": "2022-01-20T17:25:12.943Z"
   },
   {
    "duration": 491,
    "start_time": "2022-01-20T17:25:15.836Z"
   },
   {
    "duration": 1341,
    "start_time": "2022-01-20T17:25:16.328Z"
   },
   {
    "duration": 548,
    "start_time": "2022-01-20T17:25:17.671Z"
   },
   {
    "duration": 861,
    "start_time": "2022-01-20T17:25:18.221Z"
   },
   {
    "duration": 335,
    "start_time": "2022-01-20T17:25:19.084Z"
   },
   {
    "duration": 8,
    "start_time": "2022-01-20T17:25:19.421Z"
   },
   {
    "duration": 454,
    "start_time": "2022-01-20T17:25:19.431Z"
   },
   {
    "duration": 2657,
    "start_time": "2022-01-20T17:25:19.886Z"
   },
   {
    "duration": 1489,
    "start_time": "2022-01-20T17:25:22.544Z"
   },
   {
    "duration": 512,
    "start_time": "2022-01-20T17:25:24.034Z"
   },
   {
    "duration": 4,
    "start_time": "2022-01-20T17:25:24.547Z"
   },
   {
    "duration": 547,
    "start_time": "2022-01-20T17:25:24.552Z"
   },
   {
    "duration": 537,
    "start_time": "2022-01-20T17:25:25.101Z"
   },
   {
    "duration": 251,
    "start_time": "2022-01-20T17:25:25.640Z"
   },
   {
    "duration": 1194,
    "start_time": "2022-01-20T17:25:25.893Z"
   },
   {
    "duration": 16,
    "start_time": "2022-01-20T17:25:27.096Z"
   },
   {
    "duration": 22,
    "start_time": "2022-01-20T17:25:27.113Z"
   },
   {
    "duration": 15,
    "start_time": "2022-01-20T17:25:27.137Z"
   },
   {
    "duration": 25,
    "start_time": "2022-01-20T17:25:27.154Z"
   },
   {
    "duration": 34,
    "start_time": "2022-01-20T17:25:27.182Z"
   },
   {
    "duration": 27,
    "start_time": "2022-01-20T17:25:27.217Z"
   },
   {
    "duration": 1191,
    "start_time": "2022-01-20T17:27:16.676Z"
   },
   {
    "duration": 39,
    "start_time": "2022-01-20T17:27:17.869Z"
   },
   {
    "duration": 14,
    "start_time": "2022-01-20T17:27:17.912Z"
   },
   {
    "duration": 43,
    "start_time": "2022-01-20T17:27:17.928Z"
   },
   {
    "duration": 35,
    "start_time": "2022-01-20T17:27:17.973Z"
   },
   {
    "duration": 52,
    "start_time": "2022-01-20T17:27:18.010Z"
   },
   {
    "duration": 45,
    "start_time": "2022-01-20T17:27:18.064Z"
   },
   {
    "duration": 45,
    "start_time": "2022-01-20T17:27:18.112Z"
   },
   {
    "duration": 29,
    "start_time": "2022-01-20T17:27:18.159Z"
   },
   {
    "duration": 42,
    "start_time": "2022-01-20T17:27:18.190Z"
   },
   {
    "duration": 14,
    "start_time": "2022-01-20T17:27:18.233Z"
   },
   {
    "duration": 24,
    "start_time": "2022-01-20T17:27:18.249Z"
   },
   {
    "duration": 21,
    "start_time": "2022-01-20T17:27:18.274Z"
   },
   {
    "duration": 9,
    "start_time": "2022-01-20T17:27:18.297Z"
   },
   {
    "duration": 14,
    "start_time": "2022-01-20T17:27:18.307Z"
   },
   {
    "duration": 13,
    "start_time": "2022-01-20T17:27:18.322Z"
   },
   {
    "duration": 19,
    "start_time": "2022-01-20T17:27:18.337Z"
   },
   {
    "duration": 12,
    "start_time": "2022-01-20T17:27:18.358Z"
   },
   {
    "duration": 25,
    "start_time": "2022-01-20T17:27:18.372Z"
   },
   {
    "duration": 8,
    "start_time": "2022-01-20T17:27:18.398Z"
   },
   {
    "duration": 15,
    "start_time": "2022-01-20T17:27:18.408Z"
   },
   {
    "duration": 18,
    "start_time": "2022-01-20T17:27:18.425Z"
   },
   {
    "duration": 17,
    "start_time": "2022-01-20T17:27:18.445Z"
   },
   {
    "duration": 47,
    "start_time": "2022-01-20T17:27:18.464Z"
   },
   {
    "duration": 13,
    "start_time": "2022-01-20T17:27:18.513Z"
   },
   {
    "duration": 9,
    "start_time": "2022-01-20T17:27:18.531Z"
   },
   {
    "duration": 16,
    "start_time": "2022-01-20T17:27:18.543Z"
   },
   {
    "duration": 42,
    "start_time": "2022-01-20T17:27:18.562Z"
   },
   {
    "duration": 19,
    "start_time": "2022-01-20T17:27:18.606Z"
   },
   {
    "duration": 6,
    "start_time": "2022-01-20T17:27:18.627Z"
   },
   {
    "duration": 19,
    "start_time": "2022-01-20T17:27:18.635Z"
   },
   {
    "duration": 580,
    "start_time": "2022-01-20T17:27:18.656Z"
   },
   {
    "duration": 17,
    "start_time": "2022-01-20T17:27:19.239Z"
   },
   {
    "duration": 11,
    "start_time": "2022-01-20T17:27:19.258Z"
   },
   {
    "duration": 179,
    "start_time": "2022-01-20T17:27:19.271Z"
   },
   {
    "duration": 74,
    "start_time": "2022-01-20T17:27:19.453Z"
   },
   {
    "duration": 6,
    "start_time": "2022-01-20T17:27:19.529Z"
   },
   {
    "duration": 420,
    "start_time": "2022-01-20T17:27:19.537Z"
   },
   {
    "duration": 2024,
    "start_time": "2022-01-20T17:27:19.959Z"
   },
   {
    "duration": 22,
    "start_time": "2022-01-20T17:27:21.985Z"
   },
   {
    "duration": 17,
    "start_time": "2022-01-20T17:27:22.009Z"
   },
   {
    "duration": 8,
    "start_time": "2022-01-20T17:27:22.028Z"
   },
   {
    "duration": 21,
    "start_time": "2022-01-20T17:27:22.038Z"
   },
   {
    "duration": 45,
    "start_time": "2022-01-20T17:27:22.061Z"
   },
   {
    "duration": 2970,
    "start_time": "2022-01-20T17:27:22.108Z"
   },
   {
    "duration": 488,
    "start_time": "2022-01-20T17:27:25.081Z"
   },
   {
    "duration": 1358,
    "start_time": "2022-01-20T17:27:25.571Z"
   },
   {
    "duration": 563,
    "start_time": "2022-01-20T17:27:26.931Z"
   },
   {
    "duration": 891,
    "start_time": "2022-01-20T17:27:27.497Z"
   },
   {
    "duration": 429,
    "start_time": "2022-01-20T17:27:28.390Z"
   },
   {
    "duration": 9,
    "start_time": "2022-01-20T17:27:28.821Z"
   },
   {
    "duration": 332,
    "start_time": "2022-01-20T17:27:28.832Z"
   },
   {
    "duration": 2696,
    "start_time": "2022-01-20T17:27:29.166Z"
   },
   {
    "duration": 1648,
    "start_time": "2022-01-20T17:27:31.864Z"
   },
   {
    "duration": 427,
    "start_time": "2022-01-20T17:27:33.514Z"
   },
   {
    "duration": 5,
    "start_time": "2022-01-20T17:27:33.943Z"
   },
   {
    "duration": 542,
    "start_time": "2022-01-20T17:27:33.950Z"
   },
   {
    "duration": 539,
    "start_time": "2022-01-20T17:27:34.494Z"
   },
   {
    "duration": 254,
    "start_time": "2022-01-20T17:27:35.035Z"
   },
   {
    "duration": 1174,
    "start_time": "2022-01-20T17:27:35.292Z"
   },
   {
    "duration": 15,
    "start_time": "2022-01-20T17:27:36.468Z"
   },
   {
    "duration": 16,
    "start_time": "2022-01-20T17:27:36.484Z"
   },
   {
    "duration": 5,
    "start_time": "2022-01-20T17:27:36.502Z"
   },
   {
    "duration": 20,
    "start_time": "2022-01-20T17:27:36.509Z"
   },
   {
    "duration": 16,
    "start_time": "2022-01-20T17:27:36.530Z"
   },
   {
    "duration": 22,
    "start_time": "2022-01-20T17:27:36.547Z"
   },
   {
    "duration": 1480,
    "start_time": "2022-01-20T17:31:58.236Z"
   },
   {
    "duration": 401,
    "start_time": "2022-01-20T17:38:22.528Z"
   },
   {
    "duration": 392,
    "start_time": "2022-01-20T17:38:27.463Z"
   },
   {
    "duration": 405,
    "start_time": "2022-01-20T17:38:32.411Z"
   },
   {
    "duration": 503,
    "start_time": "2022-01-20T17:38:53.570Z"
   },
   {
    "duration": 5,
    "start_time": "2022-01-20T17:43:42.503Z"
   },
   {
    "duration": 5,
    "start_time": "2022-01-20T17:43:53.694Z"
   },
   {
    "duration": 530,
    "start_time": "2022-01-20T17:43:54.852Z"
   },
   {
    "duration": 523,
    "start_time": "2022-01-20T17:44:02.926Z"
   },
   {
    "duration": 538,
    "start_time": "2022-01-20T17:44:54.657Z"
   },
   {
    "duration": 4,
    "start_time": "2022-01-20T17:46:26.412Z"
   },
   {
    "duration": 617,
    "start_time": "2022-01-20T17:46:27.273Z"
   },
   {
    "duration": 557,
    "start_time": "2022-01-20T17:46:30.445Z"
   },
   {
    "duration": 12,
    "start_time": "2022-01-20T17:49:47.147Z"
   },
   {
    "duration": 2,
    "start_time": "2022-01-20T17:49:55.352Z"
   },
   {
    "duration": 1058,
    "start_time": "2022-01-20T17:49:56.554Z"
   },
   {
    "duration": 285,
    "start_time": "2022-01-20T17:51:30.035Z"
   },
   {
    "duration": 12,
    "start_time": "2022-01-20T17:52:27.088Z"
   },
   {
    "duration": 5196,
    "start_time": "2022-01-20T17:52:42.104Z"
   },
   {
    "duration": 11,
    "start_time": "2022-01-20T17:52:51.893Z"
   },
   {
    "duration": 12,
    "start_time": "2022-01-20T17:53:18.771Z"
   },
   {
    "duration": 2,
    "start_time": "2022-01-20T17:53:20.088Z"
   },
   {
    "duration": 1196,
    "start_time": "2022-01-20T17:53:21.043Z"
   },
   {
    "duration": 1119,
    "start_time": "2022-01-20T17:54:16.244Z"
   },
   {
    "duration": 17,
    "start_time": "2022-01-20T18:09:41.215Z"
   },
   {
    "duration": 17,
    "start_time": "2022-01-20T18:09:46.855Z"
   },
   {
    "duration": 1279,
    "start_time": "2022-01-20T18:14:06.187Z"
   },
   {
    "duration": 40,
    "start_time": "2022-01-20T18:14:07.468Z"
   },
   {
    "duration": 12,
    "start_time": "2022-01-20T18:14:07.512Z"
   },
   {
    "duration": 21,
    "start_time": "2022-01-20T18:14:07.526Z"
   },
   {
    "duration": 4,
    "start_time": "2022-01-20T18:14:07.549Z"
   },
   {
    "duration": 17,
    "start_time": "2022-01-20T18:14:07.554Z"
   },
   {
    "duration": 35,
    "start_time": "2022-01-20T18:14:07.574Z"
   },
   {
    "duration": 31,
    "start_time": "2022-01-20T18:14:07.611Z"
   },
   {
    "duration": 17,
    "start_time": "2022-01-20T18:14:07.644Z"
   },
   {
    "duration": 48,
    "start_time": "2022-01-20T18:14:07.662Z"
   },
   {
    "duration": 15,
    "start_time": "2022-01-20T18:14:07.711Z"
   },
   {
    "duration": 23,
    "start_time": "2022-01-20T18:14:07.727Z"
   },
   {
    "duration": 21,
    "start_time": "2022-01-20T18:14:07.752Z"
   },
   {
    "duration": 28,
    "start_time": "2022-01-20T18:14:07.775Z"
   },
   {
    "duration": 8,
    "start_time": "2022-01-20T18:14:07.805Z"
   },
   {
    "duration": 5,
    "start_time": "2022-01-20T18:14:07.815Z"
   },
   {
    "duration": 13,
    "start_time": "2022-01-20T18:14:07.822Z"
   },
   {
    "duration": 13,
    "start_time": "2022-01-20T18:14:07.838Z"
   },
   {
    "duration": 49,
    "start_time": "2022-01-20T18:14:07.853Z"
   },
   {
    "duration": 8,
    "start_time": "2022-01-20T18:14:07.904Z"
   },
   {
    "duration": 8,
    "start_time": "2022-01-20T18:14:07.914Z"
   },
   {
    "duration": 16,
    "start_time": "2022-01-20T18:14:07.927Z"
   },
   {
    "duration": 16,
    "start_time": "2022-01-20T18:14:07.946Z"
   },
   {
    "duration": 16,
    "start_time": "2022-01-20T18:14:07.998Z"
   },
   {
    "duration": 12,
    "start_time": "2022-01-20T18:14:08.016Z"
   },
   {
    "duration": 37,
    "start_time": "2022-01-20T18:14:08.030Z"
   },
   {
    "duration": 45,
    "start_time": "2022-01-20T18:14:08.068Z"
   },
   {
    "duration": 45,
    "start_time": "2022-01-20T18:14:08.115Z"
   },
   {
    "duration": 35,
    "start_time": "2022-01-20T18:14:08.162Z"
   },
   {
    "duration": 39,
    "start_time": "2022-01-20T18:14:08.199Z"
   },
   {
    "duration": 41,
    "start_time": "2022-01-20T18:14:08.240Z"
   },
   {
    "duration": 585,
    "start_time": "2022-01-20T18:14:08.283Z"
   },
   {
    "duration": 29,
    "start_time": "2022-01-20T18:14:08.870Z"
   },
   {
    "duration": 17,
    "start_time": "2022-01-20T18:14:08.901Z"
   },
   {
    "duration": 185,
    "start_time": "2022-01-20T18:14:08.920Z"
   },
   {
    "duration": 61,
    "start_time": "2022-01-20T18:14:09.107Z"
   },
   {
    "duration": 7,
    "start_time": "2022-01-20T18:14:09.170Z"
   },
   {
    "duration": 416,
    "start_time": "2022-01-20T18:14:09.178Z"
   },
   {
    "duration": 1970,
    "start_time": "2022-01-20T18:14:09.597Z"
   },
   {
    "duration": 29,
    "start_time": "2022-01-20T18:14:11.569Z"
   },
   {
    "duration": 22,
    "start_time": "2022-01-20T18:14:11.600Z"
   },
   {
    "duration": 23,
    "start_time": "2022-01-20T18:14:11.624Z"
   },
   {
    "duration": 38,
    "start_time": "2022-01-20T18:14:11.648Z"
   },
   {
    "duration": 48,
    "start_time": "2022-01-20T18:14:11.688Z"
   },
   {
    "duration": 2828,
    "start_time": "2022-01-20T18:14:11.738Z"
   },
   {
    "duration": 460,
    "start_time": "2022-01-20T18:14:14.568Z"
   },
   {
    "duration": 1331,
    "start_time": "2022-01-20T18:14:15.030Z"
   },
   {
    "duration": 549,
    "start_time": "2022-01-20T18:14:16.363Z"
   },
   {
    "duration": 875,
    "start_time": "2022-01-20T18:14:16.914Z"
   },
   {
    "duration": 423,
    "start_time": "2022-01-20T18:14:17.791Z"
   },
   {
    "duration": 8,
    "start_time": "2022-01-20T18:14:18.216Z"
   },
   {
    "duration": 318,
    "start_time": "2022-01-20T18:14:18.226Z"
   },
   {
    "duration": 2689,
    "start_time": "2022-01-20T18:14:18.546Z"
   },
   {
    "duration": 1712,
    "start_time": "2022-01-20T18:14:21.238Z"
   },
   {
    "duration": 430,
    "start_time": "2022-01-20T18:14:22.952Z"
   },
   {
    "duration": 402,
    "start_time": "2022-01-20T18:14:23.383Z"
   },
   {
    "duration": 10,
    "start_time": "2022-01-20T18:14:23.787Z"
   },
   {
    "duration": 536,
    "start_time": "2022-01-20T18:14:23.799Z"
   },
   {
    "duration": 543,
    "start_time": "2022-01-20T18:14:24.337Z"
   },
   {
    "duration": 246,
    "start_time": "2022-01-20T18:14:24.881Z"
   },
   {
    "duration": 11,
    "start_time": "2022-01-20T18:14:25.129Z"
   },
   {
    "duration": 3,
    "start_time": "2022-01-20T18:14:25.142Z"
   },
   {
    "duration": 1219,
    "start_time": "2022-01-20T18:14:25.147Z"
   },
   {
    "duration": 1056,
    "start_time": "2022-01-20T18:14:26.368Z"
   },
   {
    "duration": 16,
    "start_time": "2022-01-20T18:14:27.426Z"
   },
   {
    "duration": 35,
    "start_time": "2022-01-20T18:14:27.444Z"
   },
   {
    "duration": 17,
    "start_time": "2022-01-20T18:22:18.130Z"
   },
   {
    "duration": 5,
    "start_time": "2022-01-20T18:22:22.674Z"
   },
   {
    "duration": 160,
    "start_time": "2022-01-20T18:22:23.686Z"
   },
   {
    "duration": 62,
    "start_time": "2022-01-20T18:22:31.037Z"
   },
   {
    "duration": 1111,
    "start_time": "2022-01-20T18:22:35.930Z"
   },
   {
    "duration": 40,
    "start_time": "2022-01-20T18:22:37.043Z"
   },
   {
    "duration": 13,
    "start_time": "2022-01-20T18:22:37.088Z"
   },
   {
    "duration": 41,
    "start_time": "2022-01-20T18:22:37.103Z"
   },
   {
    "duration": 40,
    "start_time": "2022-01-20T18:22:37.146Z"
   },
   {
    "duration": 36,
    "start_time": "2022-01-20T18:22:37.188Z"
   },
   {
    "duration": 20,
    "start_time": "2022-01-20T18:22:37.226Z"
   },
   {
    "duration": 40,
    "start_time": "2022-01-20T18:22:37.249Z"
   },
   {
    "duration": 16,
    "start_time": "2022-01-20T18:22:37.292Z"
   },
   {
    "duration": 39,
    "start_time": "2022-01-20T18:22:37.310Z"
   },
   {
    "duration": 36,
    "start_time": "2022-01-20T18:22:37.351Z"
   },
   {
    "duration": 34,
    "start_time": "2022-01-20T18:22:37.388Z"
   },
   {
    "duration": 48,
    "start_time": "2022-01-20T18:22:37.423Z"
   },
   {
    "duration": 15,
    "start_time": "2022-01-20T18:22:37.473Z"
   },
   {
    "duration": 18,
    "start_time": "2022-01-20T18:22:37.490Z"
   },
   {
    "duration": 13,
    "start_time": "2022-01-20T18:22:37.510Z"
   },
   {
    "duration": 10,
    "start_time": "2022-01-20T18:22:37.525Z"
   },
   {
    "duration": 12,
    "start_time": "2022-01-20T18:22:37.537Z"
   },
   {
    "duration": 17,
    "start_time": "2022-01-20T18:22:37.551Z"
   },
   {
    "duration": 8,
    "start_time": "2022-01-20T18:22:37.569Z"
   },
   {
    "duration": 19,
    "start_time": "2022-01-20T18:22:37.579Z"
   },
   {
    "duration": 19,
    "start_time": "2022-01-20T18:22:37.600Z"
   },
   {
    "duration": 15,
    "start_time": "2022-01-20T18:22:37.621Z"
   },
   {
    "duration": 15,
    "start_time": "2022-01-20T18:22:37.638Z"
   },
   {
    "duration": 42,
    "start_time": "2022-01-20T18:22:37.655Z"
   },
   {
    "duration": 6,
    "start_time": "2022-01-20T18:22:37.703Z"
   },
   {
    "duration": 11,
    "start_time": "2022-01-20T18:22:37.712Z"
   },
   {
    "duration": 18,
    "start_time": "2022-01-20T18:22:37.725Z"
   },
   {
    "duration": 19,
    "start_time": "2022-01-20T18:22:37.745Z"
   },
   {
    "duration": 5,
    "start_time": "2022-01-20T18:22:37.798Z"
   },
   {
    "duration": 18,
    "start_time": "2022-01-20T18:22:37.804Z"
   },
   {
    "duration": 543,
    "start_time": "2022-01-20T18:22:37.823Z"
   },
   {
    "duration": 29,
    "start_time": "2022-01-20T18:22:38.368Z"
   },
   {
    "duration": 5,
    "start_time": "2022-01-20T18:22:38.399Z"
   },
   {
    "duration": 164,
    "start_time": "2022-01-20T18:22:38.405Z"
   },
   {
    "duration": 69,
    "start_time": "2022-01-20T18:22:38.570Z"
   },
   {
    "duration": 6,
    "start_time": "2022-01-20T18:22:38.640Z"
   },
   {
    "duration": 408,
    "start_time": "2022-01-20T18:22:38.647Z"
   },
   {
    "duration": 2187,
    "start_time": "2022-01-20T18:22:39.057Z"
   },
   {
    "duration": 16,
    "start_time": "2022-01-20T18:22:41.245Z"
   },
   {
    "duration": 18,
    "start_time": "2022-01-20T18:22:41.263Z"
   },
   {
    "duration": 21,
    "start_time": "2022-01-20T18:22:41.283Z"
   },
   {
    "duration": 19,
    "start_time": "2022-01-20T18:22:41.305Z"
   },
   {
    "duration": 25,
    "start_time": "2022-01-20T18:22:41.326Z"
   },
   {
    "duration": 3028,
    "start_time": "2022-01-20T18:22:41.352Z"
   },
   {
    "duration": 676,
    "start_time": "2022-01-20T18:22:44.381Z"
   },
   {
    "duration": 1317,
    "start_time": "2022-01-20T18:22:45.059Z"
   },
   {
    "duration": 549,
    "start_time": "2022-01-20T18:22:46.378Z"
   },
   {
    "duration": 857,
    "start_time": "2022-01-20T18:22:46.929Z"
   },
   {
    "duration": 420,
    "start_time": "2022-01-20T18:22:47.787Z"
   },
   {
    "duration": 9,
    "start_time": "2022-01-20T18:22:48.208Z"
   },
   {
    "duration": 318,
    "start_time": "2022-01-20T18:22:48.218Z"
   },
   {
    "duration": 2903,
    "start_time": "2022-01-20T18:22:48.538Z"
   },
   {
    "duration": 1873,
    "start_time": "2022-01-20T18:22:51.442Z"
   },
   {
    "duration": 417,
    "start_time": "2022-01-20T18:22:53.317Z"
   },
   {
    "duration": 402,
    "start_time": "2022-01-20T18:22:53.736Z"
   },
   {
    "duration": 4,
    "start_time": "2022-01-20T18:22:54.140Z"
   },
   {
    "duration": 533,
    "start_time": "2022-01-20T18:22:54.146Z"
   },
   {
    "duration": 554,
    "start_time": "2022-01-20T18:22:54.681Z"
   },
   {
    "duration": 244,
    "start_time": "2022-01-20T18:22:55.237Z"
   },
   {
    "duration": 15,
    "start_time": "2022-01-20T18:22:55.483Z"
   },
   {
    "duration": 21,
    "start_time": "2022-01-20T18:22:55.500Z"
   },
   {
    "duration": 1183,
    "start_time": "2022-01-20T18:22:55.523Z"
   },
   {
    "duration": 1048,
    "start_time": "2022-01-20T18:22:56.707Z"
   },
   {
    "duration": 14,
    "start_time": "2022-01-20T18:22:57.756Z"
   },
   {
    "duration": 40,
    "start_time": "2022-01-20T18:22:57.772Z"
   },
   {
    "duration": 18,
    "start_time": "2022-01-20T18:38:17.072Z"
   },
   {
    "duration": 30,
    "start_time": "2022-01-20T18:38:35.496Z"
   },
   {
    "duration": 10,
    "start_time": "2022-01-20T18:39:04.519Z"
   },
   {
    "duration": 1207,
    "start_time": "2022-01-20T18:39:10.867Z"
   },
   {
    "duration": 41,
    "start_time": "2022-01-20T18:39:12.076Z"
   },
   {
    "duration": 16,
    "start_time": "2022-01-20T18:39:12.121Z"
   },
   {
    "duration": 34,
    "start_time": "2022-01-20T18:39:12.139Z"
   },
   {
    "duration": 31,
    "start_time": "2022-01-20T18:39:12.174Z"
   },
   {
    "duration": 61,
    "start_time": "2022-01-20T18:39:12.207Z"
   },
   {
    "duration": 29,
    "start_time": "2022-01-20T18:39:12.270Z"
   },
   {
    "duration": 43,
    "start_time": "2022-01-20T18:39:12.302Z"
   },
   {
    "duration": 18,
    "start_time": "2022-01-20T18:39:12.347Z"
   },
   {
    "duration": 26,
    "start_time": "2022-01-20T18:39:12.367Z"
   },
   {
    "duration": 15,
    "start_time": "2022-01-20T18:39:12.395Z"
   },
   {
    "duration": 44,
    "start_time": "2022-01-20T18:39:12.411Z"
   },
   {
    "duration": 32,
    "start_time": "2022-01-20T18:39:12.456Z"
   },
   {
    "duration": 20,
    "start_time": "2022-01-20T18:39:12.490Z"
   },
   {
    "duration": 29,
    "start_time": "2022-01-20T18:39:12.512Z"
   },
   {
    "duration": 19,
    "start_time": "2022-01-20T18:39:12.542Z"
   },
   {
    "duration": 26,
    "start_time": "2022-01-20T18:39:12.563Z"
   },
   {
    "duration": 37,
    "start_time": "2022-01-20T18:39:12.591Z"
   },
   {
    "duration": 37,
    "start_time": "2022-01-20T18:39:12.630Z"
   },
   {
    "duration": 16,
    "start_time": "2022-01-20T18:39:12.668Z"
   },
   {
    "duration": 36,
    "start_time": "2022-01-20T18:39:12.685Z"
   },
   {
    "duration": 23,
    "start_time": "2022-01-20T18:39:12.725Z"
   },
   {
    "duration": 19,
    "start_time": "2022-01-20T18:39:12.751Z"
   },
   {
    "duration": 28,
    "start_time": "2022-01-20T18:39:12.771Z"
   },
   {
    "duration": 32,
    "start_time": "2022-01-20T18:39:12.801Z"
   },
   {
    "duration": 11,
    "start_time": "2022-01-20T18:39:12.835Z"
   },
   {
    "duration": 29,
    "start_time": "2022-01-20T18:39:12.848Z"
   },
   {
    "duration": 20,
    "start_time": "2022-01-20T18:39:12.879Z"
   },
   {
    "duration": 27,
    "start_time": "2022-01-20T18:39:12.901Z"
   },
   {
    "duration": 5,
    "start_time": "2022-01-20T18:39:12.930Z"
   },
   {
    "duration": 36,
    "start_time": "2022-01-20T18:39:12.937Z"
   },
   {
    "duration": 597,
    "start_time": "2022-01-20T18:39:12.976Z"
   },
   {
    "duration": 31,
    "start_time": "2022-01-20T18:39:13.575Z"
   },
   {
    "duration": 6,
    "start_time": "2022-01-20T18:39:13.611Z"
   },
   {
    "duration": 182,
    "start_time": "2022-01-20T18:39:13.619Z"
   },
   {
    "duration": 60,
    "start_time": "2022-01-20T18:39:13.803Z"
   },
   {
    "duration": 6,
    "start_time": "2022-01-20T18:39:13.865Z"
   },
   {
    "duration": 443,
    "start_time": "2022-01-20T18:39:13.873Z"
   },
   {
    "duration": 2042,
    "start_time": "2022-01-20T18:39:14.318Z"
   },
   {
    "duration": 15,
    "start_time": "2022-01-20T18:39:16.362Z"
   },
   {
    "duration": 45,
    "start_time": "2022-01-20T18:39:16.379Z"
   },
   {
    "duration": 21,
    "start_time": "2022-01-20T18:39:16.426Z"
   },
   {
    "duration": 49,
    "start_time": "2022-01-20T18:39:16.449Z"
   },
   {
    "duration": 74,
    "start_time": "2022-01-20T18:39:16.500Z"
   },
   {
    "duration": 2916,
    "start_time": "2022-01-20T18:39:16.576Z"
   },
   {
    "duration": 472,
    "start_time": "2022-01-20T18:39:19.497Z"
   },
   {
    "duration": 1369,
    "start_time": "2022-01-20T18:39:19.971Z"
   },
   {
    "duration": 591,
    "start_time": "2022-01-20T18:39:21.342Z"
   },
   {
    "duration": 936,
    "start_time": "2022-01-20T18:39:21.934Z"
   },
   {
    "duration": 463,
    "start_time": "2022-01-20T18:39:22.873Z"
   },
   {
    "duration": 11,
    "start_time": "2022-01-20T18:39:23.338Z"
   },
   {
    "duration": 376,
    "start_time": "2022-01-20T18:39:23.352Z"
   },
   {
    "duration": 3032,
    "start_time": "2022-01-20T18:39:23.730Z"
   },
   {
    "duration": 1660,
    "start_time": "2022-01-20T18:39:26.764Z"
   },
   {
    "duration": 429,
    "start_time": "2022-01-20T18:39:28.426Z"
   },
   {
    "duration": 456,
    "start_time": "2022-01-20T18:39:28.857Z"
   },
   {
    "duration": 4,
    "start_time": "2022-01-20T18:39:29.315Z"
   },
   {
    "duration": 576,
    "start_time": "2022-01-20T18:39:29.321Z"
   },
   {
    "duration": 612,
    "start_time": "2022-01-20T18:39:29.899Z"
   },
   {
    "duration": 268,
    "start_time": "2022-01-20T18:39:30.513Z"
   },
   {
    "duration": 22,
    "start_time": "2022-01-20T18:39:30.783Z"
   },
   {
    "duration": 21,
    "start_time": "2022-01-20T18:39:30.807Z"
   },
   {
    "duration": 1271,
    "start_time": "2022-01-20T18:39:30.830Z"
   },
   {
    "duration": 1121,
    "start_time": "2022-01-20T18:39:32.102Z"
   },
   {
    "duration": 21,
    "start_time": "2022-01-20T18:39:33.225Z"
   },
   {
    "duration": 76,
    "start_time": "2022-01-20T18:39:33.248Z"
   },
   {
    "duration": 552,
    "start_time": "2022-01-20T18:49:20.875Z"
   },
   {
    "duration": 1202,
    "start_time": "2022-01-20T19:05:53.466Z"
   },
   {
    "duration": 40,
    "start_time": "2022-01-20T19:05:54.670Z"
   },
   {
    "duration": 10,
    "start_time": "2022-01-20T19:05:54.712Z"
   },
   {
    "duration": 26,
    "start_time": "2022-01-20T19:05:54.724Z"
   },
   {
    "duration": 5,
    "start_time": "2022-01-20T19:05:54.752Z"
   },
   {
    "duration": 18,
    "start_time": "2022-01-20T19:05:54.758Z"
   },
   {
    "duration": 27,
    "start_time": "2022-01-20T19:05:54.778Z"
   },
   {
    "duration": 29,
    "start_time": "2022-01-20T19:05:54.807Z"
   },
   {
    "duration": 16,
    "start_time": "2022-01-20T19:05:54.839Z"
   },
   {
    "duration": 43,
    "start_time": "2022-01-20T19:05:54.857Z"
   },
   {
    "duration": 14,
    "start_time": "2022-01-20T19:05:54.902Z"
   },
   {
    "duration": 22,
    "start_time": "2022-01-20T19:05:54.918Z"
   },
   {
    "duration": 32,
    "start_time": "2022-01-20T19:05:54.942Z"
   },
   {
    "duration": 8,
    "start_time": "2022-01-20T19:05:54.976Z"
   },
   {
    "duration": 6,
    "start_time": "2022-01-20T19:05:54.998Z"
   },
   {
    "duration": 11,
    "start_time": "2022-01-20T19:05:55.006Z"
   },
   {
    "duration": 20,
    "start_time": "2022-01-20T19:05:55.019Z"
   },
   {
    "duration": 26,
    "start_time": "2022-01-20T19:05:55.041Z"
   },
   {
    "duration": 27,
    "start_time": "2022-01-20T19:05:55.069Z"
   },
   {
    "duration": 8,
    "start_time": "2022-01-20T19:05:55.097Z"
   },
   {
    "duration": 13,
    "start_time": "2022-01-20T19:05:55.106Z"
   },
   {
    "duration": 17,
    "start_time": "2022-01-20T19:05:55.120Z"
   },
   {
    "duration": 15,
    "start_time": "2022-01-20T19:05:55.139Z"
   },
   {
    "duration": 41,
    "start_time": "2022-01-20T19:05:55.156Z"
   },
   {
    "duration": 12,
    "start_time": "2022-01-20T19:05:55.199Z"
   },
   {
    "duration": 10,
    "start_time": "2022-01-20T19:05:55.212Z"
   },
   {
    "duration": 16,
    "start_time": "2022-01-20T19:05:55.226Z"
   },
   {
    "duration": 17,
    "start_time": "2022-01-20T19:05:55.245Z"
   },
   {
    "duration": 35,
    "start_time": "2022-01-20T19:05:55.263Z"
   },
   {
    "duration": 5,
    "start_time": "2022-01-20T19:05:55.300Z"
   },
   {
    "duration": 17,
    "start_time": "2022-01-20T19:05:55.307Z"
   },
   {
    "duration": 562,
    "start_time": "2022-01-20T19:05:55.326Z"
   },
   {
    "duration": 22,
    "start_time": "2022-01-20T19:05:55.890Z"
   },
   {
    "duration": 9,
    "start_time": "2022-01-20T19:05:55.914Z"
   },
   {
    "duration": 173,
    "start_time": "2022-01-20T19:05:55.924Z"
   },
   {
    "duration": 59,
    "start_time": "2022-01-20T19:05:56.099Z"
   },
   {
    "duration": 5,
    "start_time": "2022-01-20T19:05:56.160Z"
   },
   {
    "duration": 421,
    "start_time": "2022-01-20T19:05:56.167Z"
   },
   {
    "duration": 1984,
    "start_time": "2022-01-20T19:05:56.597Z"
   },
   {
    "duration": 19,
    "start_time": "2022-01-20T19:05:58.583Z"
   },
   {
    "duration": 28,
    "start_time": "2022-01-20T19:05:58.603Z"
   },
   {
    "duration": 8,
    "start_time": "2022-01-20T19:05:58.632Z"
   },
   {
    "duration": 27,
    "start_time": "2022-01-20T19:05:58.642Z"
   },
   {
    "duration": 35,
    "start_time": "2022-01-20T19:05:58.670Z"
   },
   {
    "duration": 2971,
    "start_time": "2022-01-20T19:05:58.706Z"
   },
   {
    "duration": 515,
    "start_time": "2022-01-20T19:06:01.679Z"
   },
   {
    "duration": 1348,
    "start_time": "2022-01-20T19:06:02.196Z"
   },
   {
    "duration": 572,
    "start_time": "2022-01-20T19:06:03.546Z"
   },
   {
    "duration": 913,
    "start_time": "2022-01-20T19:06:04.119Z"
   },
   {
    "duration": 466,
    "start_time": "2022-01-20T19:06:05.034Z"
   },
   {
    "duration": 10,
    "start_time": "2022-01-20T19:06:05.502Z"
   },
   {
    "duration": 322,
    "start_time": "2022-01-20T19:06:05.514Z"
   },
   {
    "duration": 2603,
    "start_time": "2022-01-20T19:06:05.838Z"
   },
   {
    "duration": 1705,
    "start_time": "2022-01-20T19:06:08.444Z"
   },
   {
    "duration": 497,
    "start_time": "2022-01-20T19:06:10.152Z"
   },
   {
    "duration": 432,
    "start_time": "2022-01-20T19:06:10.651Z"
   },
   {
    "duration": 12,
    "start_time": "2022-01-20T19:06:11.085Z"
   },
   {
    "duration": 543,
    "start_time": "2022-01-20T19:06:11.099Z"
   },
   {
    "duration": 566,
    "start_time": "2022-01-20T19:06:11.644Z"
   },
   {
    "duration": 258,
    "start_time": "2022-01-20T19:06:12.212Z"
   },
   {
    "duration": 13,
    "start_time": "2022-01-20T19:06:12.472Z"
   },
   {
    "duration": 3,
    "start_time": "2022-01-20T19:06:12.497Z"
   },
   {
    "duration": 1227,
    "start_time": "2022-01-20T19:06:12.501Z"
   },
   {
    "duration": 1113,
    "start_time": "2022-01-20T19:06:13.729Z"
   },
   {
    "duration": 17,
    "start_time": "2022-01-20T19:06:14.844Z"
   },
   {
    "duration": 35,
    "start_time": "2022-01-20T19:06:14.863Z"
   },
   {
    "duration": 1131,
    "start_time": "2022-01-20T19:09:11.831Z"
   },
   {
    "duration": 41,
    "start_time": "2022-01-20T19:09:12.964Z"
   },
   {
    "duration": 12,
    "start_time": "2022-01-20T19:09:13.007Z"
   },
   {
    "duration": 26,
    "start_time": "2022-01-20T19:09:13.021Z"
   },
   {
    "duration": 11,
    "start_time": "2022-01-20T19:09:13.049Z"
   },
   {
    "duration": 22,
    "start_time": "2022-01-20T19:09:13.061Z"
   },
   {
    "duration": 24,
    "start_time": "2022-01-20T19:09:13.085Z"
   },
   {
    "duration": 28,
    "start_time": "2022-01-20T19:09:13.111Z"
   },
   {
    "duration": 17,
    "start_time": "2022-01-20T19:09:13.142Z"
   },
   {
    "duration": 49,
    "start_time": "2022-01-20T19:09:13.161Z"
   },
   {
    "duration": 24,
    "start_time": "2022-01-20T19:09:13.212Z"
   },
   {
    "duration": 25,
    "start_time": "2022-01-20T19:09:13.238Z"
   },
   {
    "duration": 40,
    "start_time": "2022-01-20T19:09:13.266Z"
   },
   {
    "duration": 10,
    "start_time": "2022-01-20T19:09:13.309Z"
   },
   {
    "duration": 22,
    "start_time": "2022-01-20T19:09:13.321Z"
   },
   {
    "duration": 19,
    "start_time": "2022-01-20T19:09:13.345Z"
   },
   {
    "duration": 23,
    "start_time": "2022-01-20T19:09:13.366Z"
   },
   {
    "duration": 34,
    "start_time": "2022-01-20T19:09:13.391Z"
   },
   {
    "duration": 36,
    "start_time": "2022-01-20T19:09:13.428Z"
   },
   {
    "duration": 12,
    "start_time": "2022-01-20T19:09:13.466Z"
   },
   {
    "duration": 27,
    "start_time": "2022-01-20T19:09:13.481Z"
   },
   {
    "duration": 24,
    "start_time": "2022-01-20T19:09:13.510Z"
   },
   {
    "duration": 18,
    "start_time": "2022-01-20T19:09:13.536Z"
   },
   {
    "duration": 18,
    "start_time": "2022-01-20T19:09:13.557Z"
   },
   {
    "duration": 28,
    "start_time": "2022-01-20T19:09:13.577Z"
   },
   {
    "duration": 10,
    "start_time": "2022-01-20T19:09:13.608Z"
   },
   {
    "duration": 26,
    "start_time": "2022-01-20T19:09:13.623Z"
   },
   {
    "duration": 36,
    "start_time": "2022-01-20T19:09:13.653Z"
   },
   {
    "duration": 44,
    "start_time": "2022-01-20T19:09:13.691Z"
   },
   {
    "duration": 8,
    "start_time": "2022-01-20T19:09:13.738Z"
   },
   {
    "duration": 36,
    "start_time": "2022-01-20T19:09:13.748Z"
   },
   {
    "duration": 575,
    "start_time": "2022-01-20T19:09:13.786Z"
   },
   {
    "duration": 18,
    "start_time": "2022-01-20T19:09:14.363Z"
   },
   {
    "duration": 44,
    "start_time": "2022-01-20T19:09:14.383Z"
   },
   {
    "duration": 199,
    "start_time": "2022-01-20T19:09:14.429Z"
   },
   {
    "duration": 72,
    "start_time": "2022-01-20T19:09:14.629Z"
   },
   {
    "duration": 5,
    "start_time": "2022-01-20T19:09:14.703Z"
   },
   {
    "duration": 428,
    "start_time": "2022-01-20T19:09:14.710Z"
   },
   {
    "duration": 2008,
    "start_time": "2022-01-20T19:09:15.140Z"
   },
   {
    "duration": 17,
    "start_time": "2022-01-20T19:09:17.150Z"
   },
   {
    "duration": 30,
    "start_time": "2022-01-20T19:09:17.168Z"
   },
   {
    "duration": 39,
    "start_time": "2022-01-20T19:09:17.200Z"
   },
   {
    "duration": 46,
    "start_time": "2022-01-20T19:09:17.241Z"
   },
   {
    "duration": 36,
    "start_time": "2022-01-20T19:09:17.289Z"
   },
   {
    "duration": 2930,
    "start_time": "2022-01-20T19:09:17.326Z"
   },
   {
    "duration": 484,
    "start_time": "2022-01-20T19:09:20.259Z"
   },
   {
    "duration": 1394,
    "start_time": "2022-01-20T19:09:20.746Z"
   },
   {
    "duration": 581,
    "start_time": "2022-01-20T19:09:22.142Z"
   },
   {
    "duration": 877,
    "start_time": "2022-01-20T19:09:22.725Z"
   },
   {
    "duration": 424,
    "start_time": "2022-01-20T19:09:23.604Z"
   },
   {
    "duration": 9,
    "start_time": "2022-01-20T19:09:24.030Z"
   },
   {
    "duration": 377,
    "start_time": "2022-01-20T19:09:24.041Z"
   },
   {
    "duration": 2640,
    "start_time": "2022-01-20T19:09:24.420Z"
   },
   {
    "duration": 1649,
    "start_time": "2022-01-20T19:09:27.062Z"
   },
   {
    "duration": 422,
    "start_time": "2022-01-20T19:09:28.714Z"
   },
   {
    "duration": 420,
    "start_time": "2022-01-20T19:09:29.138Z"
   },
   {
    "duration": 4,
    "start_time": "2022-01-20T19:09:29.560Z"
   },
   {
    "duration": 578,
    "start_time": "2022-01-20T19:09:29.566Z"
   },
   {
    "duration": 588,
    "start_time": "2022-01-20T19:09:30.146Z"
   },
   {
    "duration": 281,
    "start_time": "2022-01-20T19:09:30.735Z"
   },
   {
    "duration": 15,
    "start_time": "2022-01-20T19:09:31.019Z"
   },
   {
    "duration": 16,
    "start_time": "2022-01-20T19:09:31.036Z"
   },
   {
    "duration": 1236,
    "start_time": "2022-01-20T19:09:31.055Z"
   },
   {
    "duration": 1072,
    "start_time": "2022-01-20T19:09:32.293Z"
   },
   {
    "duration": 15,
    "start_time": "2022-01-20T19:09:33.368Z"
   },
   {
    "duration": 20,
    "start_time": "2022-01-20T19:09:33.398Z"
   },
   {
    "duration": 1142,
    "start_time": "2022-01-20T19:11:12.616Z"
   },
   {
    "duration": 39,
    "start_time": "2022-01-20T19:11:13.761Z"
   },
   {
    "duration": 10,
    "start_time": "2022-01-20T19:11:13.802Z"
   },
   {
    "duration": 39,
    "start_time": "2022-01-20T19:11:13.814Z"
   },
   {
    "duration": 15,
    "start_time": "2022-01-20T19:11:13.855Z"
   },
   {
    "duration": 35,
    "start_time": "2022-01-20T19:11:13.872Z"
   },
   {
    "duration": 43,
    "start_time": "2022-01-20T19:11:13.909Z"
   },
   {
    "duration": 54,
    "start_time": "2022-01-20T19:11:13.955Z"
   },
   {
    "duration": 17,
    "start_time": "2022-01-20T19:11:14.011Z"
   },
   {
    "duration": 38,
    "start_time": "2022-01-20T19:11:14.030Z"
   },
   {
    "duration": 14,
    "start_time": "2022-01-20T19:11:14.069Z"
   },
   {
    "duration": 29,
    "start_time": "2022-01-20T19:11:14.085Z"
   },
   {
    "duration": 46,
    "start_time": "2022-01-20T19:11:14.116Z"
   },
   {
    "duration": 7,
    "start_time": "2022-01-20T19:11:14.164Z"
   },
   {
    "duration": 32,
    "start_time": "2022-01-20T19:11:14.173Z"
   },
   {
    "duration": 23,
    "start_time": "2022-01-20T19:11:14.207Z"
   },
   {
    "duration": 24,
    "start_time": "2022-01-20T19:11:14.231Z"
   },
   {
    "duration": 36,
    "start_time": "2022-01-20T19:11:14.257Z"
   },
   {
    "duration": 44,
    "start_time": "2022-01-20T19:11:14.295Z"
   },
   {
    "duration": 11,
    "start_time": "2022-01-20T19:11:14.340Z"
   },
   {
    "duration": 30,
    "start_time": "2022-01-20T19:11:14.353Z"
   },
   {
    "duration": 38,
    "start_time": "2022-01-20T19:11:14.385Z"
   },
   {
    "duration": 19,
    "start_time": "2022-01-20T19:11:14.427Z"
   },
   {
    "duration": 40,
    "start_time": "2022-01-20T19:11:14.449Z"
   },
   {
    "duration": 23,
    "start_time": "2022-01-20T19:11:14.491Z"
   },
   {
    "duration": 18,
    "start_time": "2022-01-20T19:11:14.516Z"
   },
   {
    "duration": 31,
    "start_time": "2022-01-20T19:11:14.535Z"
   },
   {
    "duration": 27,
    "start_time": "2022-01-20T19:11:14.568Z"
   },
   {
    "duration": 29,
    "start_time": "2022-01-20T19:11:14.597Z"
   },
   {
    "duration": 4,
    "start_time": "2022-01-20T19:11:14.628Z"
   },
   {
    "duration": 29,
    "start_time": "2022-01-20T19:11:14.634Z"
   },
   {
    "duration": 550,
    "start_time": "2022-01-20T19:11:14.664Z"
   },
   {
    "duration": 19,
    "start_time": "2022-01-20T19:11:15.216Z"
   },
   {
    "duration": 23,
    "start_time": "2022-01-20T19:11:15.236Z"
   },
   {
    "duration": 184,
    "start_time": "2022-01-20T19:11:15.261Z"
   },
   {
    "duration": 72,
    "start_time": "2022-01-20T19:11:15.447Z"
   },
   {
    "duration": 6,
    "start_time": "2022-01-20T19:11:15.520Z"
   },
   {
    "duration": 418,
    "start_time": "2022-01-20T19:11:15.528Z"
   },
   {
    "duration": 1974,
    "start_time": "2022-01-20T19:11:15.948Z"
   },
   {
    "duration": 16,
    "start_time": "2022-01-20T19:11:17.924Z"
   },
   {
    "duration": 31,
    "start_time": "2022-01-20T19:11:17.942Z"
   },
   {
    "duration": 51,
    "start_time": "2022-01-20T19:11:17.975Z"
   },
   {
    "duration": 49,
    "start_time": "2022-01-20T19:11:18.029Z"
   },
   {
    "duration": 34,
    "start_time": "2022-01-20T19:11:18.080Z"
   },
   {
    "duration": 2907,
    "start_time": "2022-01-20T19:11:18.116Z"
   },
   {
    "duration": 474,
    "start_time": "2022-01-20T19:11:21.025Z"
   },
   {
    "duration": 1390,
    "start_time": "2022-01-20T19:11:21.501Z"
   },
   {
    "duration": 552,
    "start_time": "2022-01-20T19:11:22.893Z"
   },
   {
    "duration": 881,
    "start_time": "2022-01-20T19:11:23.447Z"
   },
   {
    "duration": 417,
    "start_time": "2022-01-20T19:11:24.330Z"
   },
   {
    "duration": 10,
    "start_time": "2022-01-20T19:11:24.749Z"
   },
   {
    "duration": 352,
    "start_time": "2022-01-20T19:11:24.760Z"
   },
   {
    "duration": 2625,
    "start_time": "2022-01-20T19:11:25.114Z"
   },
   {
    "duration": 1686,
    "start_time": "2022-01-20T19:11:27.742Z"
   },
   {
    "duration": 409,
    "start_time": "2022-01-20T19:11:29.430Z"
   },
   {
    "duration": 421,
    "start_time": "2022-01-20T19:11:29.841Z"
   },
   {
    "duration": 4,
    "start_time": "2022-01-20T19:11:30.265Z"
   },
   {
    "duration": 564,
    "start_time": "2022-01-20T19:11:30.271Z"
   },
   {
    "duration": 563,
    "start_time": "2022-01-20T19:11:30.837Z"
   },
   {
    "duration": 264,
    "start_time": "2022-01-20T19:11:31.402Z"
   },
   {
    "duration": 14,
    "start_time": "2022-01-20T19:11:31.667Z"
   },
   {
    "duration": 35,
    "start_time": "2022-01-20T19:11:31.683Z"
   },
   {
    "duration": 1201,
    "start_time": "2022-01-20T19:11:31.720Z"
   },
   {
    "duration": 1081,
    "start_time": "2022-01-20T19:11:32.922Z"
   },
   {
    "duration": 16,
    "start_time": "2022-01-20T19:11:34.005Z"
   },
   {
    "duration": 76,
    "start_time": "2022-01-20T19:11:34.023Z"
   },
   {
    "duration": 1103,
    "start_time": "2022-01-25T08:11:25.358Z"
   },
   {
    "duration": 38,
    "start_time": "2022-01-25T08:11:26.463Z"
   },
   {
    "duration": 11,
    "start_time": "2022-01-25T08:11:26.503Z"
   },
   {
    "duration": 17,
    "start_time": "2022-01-25T08:11:26.516Z"
   },
   {
    "duration": 5,
    "start_time": "2022-01-25T08:11:26.534Z"
   },
   {
    "duration": 20,
    "start_time": "2022-01-25T08:11:26.540Z"
   },
   {
    "duration": 37,
    "start_time": "2022-01-25T08:11:26.562Z"
   },
   {
    "duration": 29,
    "start_time": "2022-01-25T08:11:26.601Z"
   },
   {
    "duration": 17,
    "start_time": "2022-01-25T08:11:26.633Z"
   },
   {
    "duration": 21,
    "start_time": "2022-01-25T08:11:26.652Z"
   },
   {
    "duration": 35,
    "start_time": "2022-01-25T08:11:26.674Z"
   },
   {
    "duration": 18,
    "start_time": "2022-01-25T08:11:26.711Z"
   },
   {
    "duration": 22,
    "start_time": "2022-01-25T08:11:26.731Z"
   },
   {
    "duration": 8,
    "start_time": "2022-01-25T08:11:26.755Z"
   },
   {
    "duration": 35,
    "start_time": "2022-01-25T08:11:26.764Z"
   },
   {
    "duration": 4,
    "start_time": "2022-01-25T08:11:26.801Z"
   },
   {
    "duration": 12,
    "start_time": "2022-01-25T08:11:26.807Z"
   },
   {
    "duration": 16,
    "start_time": "2022-01-25T08:11:26.820Z"
   },
   {
    "duration": 16,
    "start_time": "2022-01-25T08:11:26.838Z"
   },
   {
    "duration": 7,
    "start_time": "2022-01-25T08:11:26.856Z"
   },
   {
    "duration": 35,
    "start_time": "2022-01-25T08:11:26.865Z"
   },
   {
    "duration": 17,
    "start_time": "2022-01-25T08:11:26.901Z"
   },
   {
    "duration": 16,
    "start_time": "2022-01-25T08:11:26.919Z"
   },
   {
    "duration": 17,
    "start_time": "2022-01-25T08:11:26.936Z"
   },
   {
    "duration": 10,
    "start_time": "2022-01-25T08:11:26.955Z"
   },
   {
    "duration": 6,
    "start_time": "2022-01-25T08:11:26.998Z"
   },
   {
    "duration": 13,
    "start_time": "2022-01-25T08:11:27.008Z"
   },
   {
    "duration": 16,
    "start_time": "2022-01-25T08:11:27.023Z"
   },
   {
    "duration": 17,
    "start_time": "2022-01-25T08:11:27.040Z"
   },
   {
    "duration": 4,
    "start_time": "2022-01-25T08:11:27.058Z"
   },
   {
    "duration": 41,
    "start_time": "2022-01-25T08:11:27.064Z"
   },
   {
    "duration": 587,
    "start_time": "2022-01-25T08:11:27.107Z"
   },
   {
    "duration": 19,
    "start_time": "2022-01-25T08:11:27.695Z"
   },
   {
    "duration": 5,
    "start_time": "2022-01-25T08:11:27.715Z"
   },
   {
    "duration": 181,
    "start_time": "2022-01-25T08:11:27.722Z"
   },
   {
    "duration": 58,
    "start_time": "2022-01-25T08:11:27.905Z"
   },
   {
    "duration": 5,
    "start_time": "2022-01-25T08:11:27.964Z"
   },
   {
    "duration": 413,
    "start_time": "2022-01-25T08:11:27.971Z"
   },
   {
    "duration": 2000,
    "start_time": "2022-01-25T08:11:28.386Z"
   },
   {
    "duration": 21,
    "start_time": "2022-01-25T08:11:30.387Z"
   },
   {
    "duration": 14,
    "start_time": "2022-01-25T08:11:30.410Z"
   },
   {
    "duration": 14,
    "start_time": "2022-01-25T08:11:30.425Z"
   },
   {
    "duration": 17,
    "start_time": "2022-01-25T08:11:30.440Z"
   },
   {
    "duration": 50,
    "start_time": "2022-01-25T08:11:30.459Z"
   },
   {
    "duration": 2987,
    "start_time": "2022-01-25T08:11:30.511Z"
   },
   {
    "duration": 483,
    "start_time": "2022-01-25T08:11:33.500Z"
   },
   {
    "duration": 1390,
    "start_time": "2022-01-25T08:11:33.985Z"
   },
   {
    "duration": 596,
    "start_time": "2022-01-25T08:11:35.377Z"
   },
   {
    "duration": 973,
    "start_time": "2022-01-25T08:11:35.975Z"
   },
   {
    "duration": 419,
    "start_time": "2022-01-25T08:11:36.949Z"
   },
   {
    "duration": 11,
    "start_time": "2022-01-25T08:11:37.370Z"
   },
   {
    "duration": 354,
    "start_time": "2022-01-25T08:11:37.383Z"
   },
   {
    "duration": 2637,
    "start_time": "2022-01-25T08:11:37.739Z"
   },
   {
    "duration": 1626,
    "start_time": "2022-01-25T08:11:40.378Z"
   },
   {
    "duration": 435,
    "start_time": "2022-01-25T08:11:42.005Z"
   },
   {
    "duration": 434,
    "start_time": "2022-01-25T08:11:42.442Z"
   },
   {
    "duration": 4,
    "start_time": "2022-01-25T08:11:42.878Z"
   },
   {
    "duration": 556,
    "start_time": "2022-01-25T08:11:42.884Z"
   },
   {
    "duration": 578,
    "start_time": "2022-01-25T08:11:43.442Z"
   },
   {
    "duration": 264,
    "start_time": "2022-01-25T08:11:44.022Z"
   },
   {
    "duration": 15,
    "start_time": "2022-01-25T08:11:44.288Z"
   },
   {
    "duration": 2,
    "start_time": "2022-01-25T08:11:44.305Z"
   },
   {
    "duration": 1201,
    "start_time": "2022-01-25T08:11:44.309Z"
   },
   {
    "duration": 1131,
    "start_time": "2022-01-25T08:11:45.512Z"
   },
   {
    "duration": 14,
    "start_time": "2022-01-25T08:11:46.645Z"
   },
   {
    "duration": 13,
    "start_time": "2022-01-25T08:11:46.661Z"
   },
   {
    "duration": 217,
    "start_time": "2022-01-25T15:32:39.744Z"
   },
   {
    "duration": 1129,
    "start_time": "2022-01-25T15:32:44.685Z"
   },
   {
    "duration": 37,
    "start_time": "2022-01-25T15:32:45.817Z"
   },
   {
    "duration": 11,
    "start_time": "2022-01-25T15:32:45.857Z"
   },
   {
    "duration": 18,
    "start_time": "2022-01-25T15:32:45.870Z"
   },
   {
    "duration": 5,
    "start_time": "2022-01-25T15:32:45.897Z"
   },
   {
    "duration": 17,
    "start_time": "2022-01-25T15:32:45.904Z"
   },
   {
    "duration": 13,
    "start_time": "2022-01-25T15:32:45.923Z"
   },
   {
    "duration": 66,
    "start_time": "2022-01-25T15:32:45.939Z"
   },
   {
    "duration": 16,
    "start_time": "2022-01-25T15:32:46.007Z"
   },
   {
    "duration": 22,
    "start_time": "2022-01-25T15:32:46.025Z"
   },
   {
    "duration": 13,
    "start_time": "2022-01-25T15:32:46.049Z"
   },
   {
    "duration": 42,
    "start_time": "2022-01-25T15:32:46.064Z"
   },
   {
    "duration": 24,
    "start_time": "2022-01-25T15:32:46.107Z"
   },
   {
    "duration": 11,
    "start_time": "2022-01-25T15:32:46.133Z"
   },
   {
    "duration": 10,
    "start_time": "2022-01-25T15:32:46.145Z"
   },
   {
    "duration": 7,
    "start_time": "2022-01-25T15:32:46.156Z"
   },
   {
    "duration": 12,
    "start_time": "2022-01-25T15:32:46.165Z"
   },
   {
    "duration": 30,
    "start_time": "2022-01-25T15:32:46.178Z"
   },
   {
    "duration": 21,
    "start_time": "2022-01-25T15:32:46.209Z"
   },
   {
    "duration": 7,
    "start_time": "2022-01-25T15:32:46.232Z"
   },
   {
    "duration": 9,
    "start_time": "2022-01-25T15:32:46.241Z"
   },
   {
    "duration": 14,
    "start_time": "2022-01-25T15:32:46.252Z"
   },
   {
    "duration": 41,
    "start_time": "2022-01-25T15:32:46.270Z"
   },
   {
    "duration": 16,
    "start_time": "2022-01-25T15:32:46.313Z"
   },
   {
    "duration": 12,
    "start_time": "2022-01-25T15:32:46.330Z"
   },
   {
    "duration": 7,
    "start_time": "2022-01-25T15:32:46.343Z"
   },
   {
    "duration": 23,
    "start_time": "2022-01-25T15:32:46.351Z"
   },
   {
    "duration": 17,
    "start_time": "2022-01-25T15:32:46.396Z"
   },
   {
    "duration": 20,
    "start_time": "2022-01-25T15:32:46.415Z"
   },
   {
    "duration": 5,
    "start_time": "2022-01-25T15:32:46.436Z"
   },
   {
    "duration": 16,
    "start_time": "2022-01-25T15:32:46.442Z"
   },
   {
    "duration": 539,
    "start_time": "2022-01-25T15:32:46.460Z"
   },
   {
    "duration": 18,
    "start_time": "2022-01-25T15:32:47.000Z"
   },
   {
    "duration": 5,
    "start_time": "2022-01-25T15:32:47.019Z"
   },
   {
    "duration": 172,
    "start_time": "2022-01-25T15:32:47.025Z"
   },
   {
    "duration": 54,
    "start_time": "2022-01-25T15:32:47.198Z"
   },
   {
    "duration": 5,
    "start_time": "2022-01-25T15:32:47.254Z"
   },
   {
    "duration": 389,
    "start_time": "2022-01-25T15:32:47.260Z"
   },
   {
    "duration": 1889,
    "start_time": "2022-01-25T15:32:47.650Z"
   },
   {
    "duration": 18,
    "start_time": "2022-01-25T15:32:49.540Z"
   },
   {
    "duration": 18,
    "start_time": "2022-01-25T15:32:49.560Z"
   },
   {
    "duration": 24,
    "start_time": "2022-01-25T15:32:49.580Z"
   },
   {
    "duration": 17,
    "start_time": "2022-01-25T15:32:49.605Z"
   },
   {
    "duration": 27,
    "start_time": "2022-01-25T15:32:49.623Z"
   },
   {
    "duration": 2876,
    "start_time": "2022-01-25T15:32:49.652Z"
   },
   {
    "duration": 529,
    "start_time": "2022-01-25T15:32:52.530Z"
   },
   {
    "duration": 1349,
    "start_time": "2022-01-25T15:32:53.061Z"
   },
   {
    "duration": 549,
    "start_time": "2022-01-25T15:32:54.411Z"
   },
   {
    "duration": 887,
    "start_time": "2022-01-25T15:32:54.962Z"
   },
   {
    "duration": 448,
    "start_time": "2022-01-25T15:32:55.851Z"
   },
   {
    "duration": 10,
    "start_time": "2022-01-25T15:32:56.301Z"
   },
   {
    "duration": 327,
    "start_time": "2022-01-25T15:32:56.312Z"
   },
   {
    "duration": 2493,
    "start_time": "2022-01-25T15:32:56.641Z"
   },
   {
    "duration": 1581,
    "start_time": "2022-01-25T15:32:59.135Z"
   },
   {
    "duration": 414,
    "start_time": "2022-01-25T15:33:00.718Z"
   },
   {
    "duration": 410,
    "start_time": "2022-01-25T15:33:01.134Z"
   },
   {
    "duration": 4,
    "start_time": "2022-01-25T15:33:01.546Z"
   },
   {
    "duration": 554,
    "start_time": "2022-01-25T15:33:01.552Z"
   },
   {
    "duration": 541,
    "start_time": "2022-01-25T15:33:02.108Z"
   },
   {
    "duration": 278,
    "start_time": "2022-01-25T15:33:02.650Z"
   },
   {
    "duration": 12,
    "start_time": "2022-01-25T15:33:02.930Z"
   },
   {
    "duration": 24,
    "start_time": "2022-01-25T15:33:02.943Z"
   },
   {
    "duration": 1250,
    "start_time": "2022-01-25T15:33:02.969Z"
   },
   {
    "duration": 1108,
    "start_time": "2022-01-25T15:33:04.221Z"
   },
   {
    "duration": 14,
    "start_time": "2022-01-25T15:33:05.331Z"
   },
   {
    "duration": 39,
    "start_time": "2022-01-25T15:33:05.347Z"
   },
   {
    "duration": 1074,
    "start_time": "2022-01-25T15:35:49.116Z"
   },
   {
    "duration": 44,
    "start_time": "2022-01-25T15:35:50.191Z"
   },
   {
    "duration": 10,
    "start_time": "2022-01-25T15:35:50.237Z"
   },
   {
    "duration": 23,
    "start_time": "2022-01-25T15:35:50.249Z"
   },
   {
    "duration": 11,
    "start_time": "2022-01-25T15:35:50.274Z"
   },
   {
    "duration": 19,
    "start_time": "2022-01-25T15:35:50.287Z"
   },
   {
    "duration": 18,
    "start_time": "2022-01-25T15:35:50.308Z"
   },
   {
    "duration": 56,
    "start_time": "2022-01-25T15:35:50.328Z"
   },
   {
    "duration": 24,
    "start_time": "2022-01-25T15:35:50.387Z"
   },
   {
    "duration": 23,
    "start_time": "2022-01-25T15:35:50.414Z"
   },
   {
    "duration": 21,
    "start_time": "2022-01-25T15:35:50.439Z"
   },
   {
    "duration": 35,
    "start_time": "2022-01-25T15:35:50.462Z"
   },
   {
    "duration": 20,
    "start_time": "2022-01-25T15:35:50.499Z"
   },
   {
    "duration": 29,
    "start_time": "2022-01-25T15:35:50.521Z"
   },
   {
    "duration": 4,
    "start_time": "2022-01-25T15:35:50.552Z"
   },
   {
    "duration": 11,
    "start_time": "2022-01-25T15:35:50.558Z"
   },
   {
    "duration": 15,
    "start_time": "2022-01-25T15:35:50.570Z"
   },
   {
    "duration": 12,
    "start_time": "2022-01-25T15:35:50.587Z"
   },
   {
    "duration": 37,
    "start_time": "2022-01-25T15:35:50.601Z"
   },
   {
    "duration": 8,
    "start_time": "2022-01-25T15:35:50.640Z"
   },
   {
    "duration": 17,
    "start_time": "2022-01-25T15:35:50.649Z"
   },
   {
    "duration": 18,
    "start_time": "2022-01-25T15:35:50.668Z"
   },
   {
    "duration": 16,
    "start_time": "2022-01-25T15:35:50.688Z"
   },
   {
    "duration": 2,
    "start_time": "2022-01-25T15:35:50.706Z"
   },
   {
    "duration": 30,
    "start_time": "2022-01-25T15:35:50.709Z"
   },
   {
    "duration": 286,
    "start_time": "2022-01-25T15:37:13.875Z"
   },
   {
    "duration": 190,
    "start_time": "2022-01-25T15:37:45.024Z"
   },
   {
    "duration": 1187,
    "start_time": "2022-01-25T15:38:01.392Z"
   },
   {
    "duration": 40,
    "start_time": "2022-01-25T15:38:02.581Z"
   },
   {
    "duration": 11,
    "start_time": "2022-01-25T15:38:02.624Z"
   },
   {
    "duration": 35,
    "start_time": "2022-01-25T15:38:02.637Z"
   },
   {
    "duration": 15,
    "start_time": "2022-01-25T15:38:02.674Z"
   },
   {
    "duration": 22,
    "start_time": "2022-01-25T15:38:02.692Z"
   },
   {
    "duration": 28,
    "start_time": "2022-01-25T15:38:02.716Z"
   },
   {
    "duration": 54,
    "start_time": "2022-01-25T15:38:02.747Z"
   },
   {
    "duration": 18,
    "start_time": "2022-01-25T15:38:02.803Z"
   },
   {
    "duration": 27,
    "start_time": "2022-01-25T15:38:02.823Z"
   },
   {
    "duration": 14,
    "start_time": "2022-01-25T15:38:02.852Z"
   },
   {
    "duration": 42,
    "start_time": "2022-01-25T15:38:02.868Z"
   },
   {
    "duration": 25,
    "start_time": "2022-01-25T15:38:02.912Z"
   },
   {
    "duration": 9,
    "start_time": "2022-01-25T15:38:02.939Z"
   },
   {
    "duration": 9,
    "start_time": "2022-01-25T15:38:02.950Z"
   },
   {
    "duration": 13,
    "start_time": "2022-01-25T15:38:02.961Z"
   },
   {
    "duration": 25,
    "start_time": "2022-01-25T15:38:02.977Z"
   },
   {
    "duration": 30,
    "start_time": "2022-01-25T15:38:03.004Z"
   },
   {
    "duration": 24,
    "start_time": "2022-01-25T15:38:03.036Z"
   },
   {
    "duration": 8,
    "start_time": "2022-01-25T15:38:03.062Z"
   },
   {
    "duration": 10,
    "start_time": "2022-01-25T15:38:03.072Z"
   },
   {
    "duration": 26,
    "start_time": "2022-01-25T15:38:03.084Z"
   },
   {
    "duration": 17,
    "start_time": "2022-01-25T15:38:03.114Z"
   },
   {
    "duration": 6,
    "start_time": "2022-01-25T15:38:03.134Z"
   },
   {
    "duration": 18,
    "start_time": "2022-01-25T15:38:03.142Z"
   },
   {
    "duration": 289,
    "start_time": "2022-01-25T15:38:05.831Z"
   },
   {
    "duration": 7,
    "start_time": "2022-01-25T15:38:44.287Z"
   },
   {
    "duration": 11,
    "start_time": "2022-01-25T15:38:45.985Z"
   },
   {
    "duration": 185,
    "start_time": "2022-01-25T15:39:10.175Z"
   },
   {
    "duration": 19,
    "start_time": "2022-01-25T15:40:24.819Z"
   },
   {
    "duration": 18,
    "start_time": "2022-01-25T15:41:38.387Z"
   },
   {
    "duration": 17,
    "start_time": "2022-01-25T15:41:41.221Z"
   },
   {
    "duration": 1187,
    "start_time": "2022-01-25T15:41:52.987Z"
   },
   {
    "duration": 38,
    "start_time": "2022-01-25T15:41:54.176Z"
   },
   {
    "duration": 10,
    "start_time": "2022-01-25T15:41:54.216Z"
   },
   {
    "duration": 22,
    "start_time": "2022-01-25T15:41:54.228Z"
   },
   {
    "duration": 5,
    "start_time": "2022-01-25T15:41:54.252Z"
   },
   {
    "duration": 17,
    "start_time": "2022-01-25T15:41:54.258Z"
   },
   {
    "duration": 32,
    "start_time": "2022-01-25T15:41:54.277Z"
   },
   {
    "duration": 41,
    "start_time": "2022-01-25T15:41:54.312Z"
   },
   {
    "duration": 16,
    "start_time": "2022-01-25T15:41:54.355Z"
   },
   {
    "duration": 53,
    "start_time": "2022-01-25T15:41:54.373Z"
   },
   {
    "duration": 15,
    "start_time": "2022-01-25T15:41:54.428Z"
   },
   {
    "duration": 39,
    "start_time": "2022-01-25T15:41:54.445Z"
   },
   {
    "duration": 22,
    "start_time": "2022-01-25T15:41:54.486Z"
   },
   {
    "duration": 19,
    "start_time": "2022-01-25T15:41:54.510Z"
   },
   {
    "duration": 17,
    "start_time": "2022-01-25T15:41:54.531Z"
   },
   {
    "duration": 24,
    "start_time": "2022-01-25T15:41:54.550Z"
   },
   {
    "duration": 29,
    "start_time": "2022-01-25T15:41:54.576Z"
   },
   {
    "duration": 28,
    "start_time": "2022-01-25T15:41:54.607Z"
   },
   {
    "duration": 31,
    "start_time": "2022-01-25T15:41:54.636Z"
   },
   {
    "duration": 14,
    "start_time": "2022-01-25T15:41:54.668Z"
   },
   {
    "duration": 17,
    "start_time": "2022-01-25T15:41:54.683Z"
   },
   {
    "duration": 41,
    "start_time": "2022-01-25T15:41:54.702Z"
   },
   {
    "duration": 18,
    "start_time": "2022-01-25T15:41:54.747Z"
   },
   {
    "duration": 2,
    "start_time": "2022-01-25T15:41:54.767Z"
   },
   {
    "duration": 24,
    "start_time": "2022-01-25T15:41:54.771Z"
   },
   {
    "duration": 12,
    "start_time": "2022-01-25T15:41:54.797Z"
   },
   {
    "duration": 36,
    "start_time": "2022-01-25T15:41:54.811Z"
   },
   {
    "duration": 3,
    "start_time": "2022-01-25T15:41:54.849Z"
   },
   {
    "duration": 291,
    "start_time": "2022-01-25T15:41:54.854Z"
   },
   {
    "duration": -35,
    "start_time": "2022-01-25T15:41:55.182Z"
   },
   {
    "duration": -36,
    "start_time": "2022-01-25T15:41:55.184Z"
   },
   {
    "duration": -37,
    "start_time": "2022-01-25T15:41:55.186Z"
   },
   {
    "duration": 20,
    "start_time": "2022-01-25T15:42:22.319Z"
   },
   {
    "duration": 5,
    "start_time": "2022-01-25T15:42:33.954Z"
   },
   {
    "duration": 16,
    "start_time": "2022-01-25T15:42:34.465Z"
   },
   {
    "duration": 533,
    "start_time": "2022-01-25T15:42:50.954Z"
   },
   {
    "duration": 20,
    "start_time": "2022-01-25T15:43:00.081Z"
   },
   {
    "duration": 6,
    "start_time": "2022-01-25T15:43:06.127Z"
   },
   {
    "duration": 160,
    "start_time": "2022-01-25T15:43:08.867Z"
   },
   {
    "duration": 60,
    "start_time": "2022-01-25T15:43:17.803Z"
   },
   {
    "duration": 6,
    "start_time": "2022-01-25T15:43:22.755Z"
   },
   {
    "duration": 394,
    "start_time": "2022-01-25T15:43:29.042Z"
   },
   {
    "duration": 177,
    "start_time": "2022-01-25T15:43:35.564Z"
   },
   {
    "duration": 5,
    "start_time": "2022-01-25T15:43:45.850Z"
   },
   {
    "duration": 421,
    "start_time": "2022-01-25T15:43:47.299Z"
   },
   {
    "duration": 2093,
    "start_time": "2022-01-25T15:43:49.040Z"
   },
   {
    "duration": 17,
    "start_time": "2022-01-25T15:43:55.713Z"
   },
   {
    "duration": 16,
    "start_time": "2022-01-25T15:43:56.502Z"
   },
   {
    "duration": 8,
    "start_time": "2022-01-25T15:43:57.623Z"
   },
   {
    "duration": 17,
    "start_time": "2022-01-25T15:43:58.462Z"
   },
   {
    "duration": 25,
    "start_time": "2022-01-25T15:44:26.041Z"
   },
   {
    "duration": 2594,
    "start_time": "2022-01-25T15:44:31.698Z"
   },
   {
    "duration": 20,
    "start_time": "2022-01-25T15:45:18.770Z"
   },
   {
    "duration": 395,
    "start_time": "2022-01-25T15:45:39.669Z"
   },
   {
    "duration": 395,
    "start_time": "2022-01-25T15:46:22.722Z"
   },
   {
    "duration": 393,
    "start_time": "2022-01-25T15:46:28.765Z"
   },
   {
    "duration": 1999,
    "start_time": "2022-01-25T15:46:52.800Z"
   },
   {
    "duration": 2644,
    "start_time": "2022-01-25T15:47:07.856Z"
   },
   {
    "duration": 1111,
    "start_time": "2022-01-25T15:47:50.853Z"
   },
   {
    "duration": 40,
    "start_time": "2022-01-25T15:47:51.966Z"
   },
   {
    "duration": 13,
    "start_time": "2022-01-25T15:47:52.009Z"
   },
   {
    "duration": 30,
    "start_time": "2022-01-25T15:47:52.024Z"
   },
   {
    "duration": 29,
    "start_time": "2022-01-25T15:47:52.056Z"
   },
   {
    "duration": 37,
    "start_time": "2022-01-25T15:47:52.087Z"
   },
   {
    "duration": 28,
    "start_time": "2022-01-25T15:47:52.126Z"
   },
   {
    "duration": 56,
    "start_time": "2022-01-25T15:47:52.157Z"
   },
   {
    "duration": 15,
    "start_time": "2022-01-25T15:47:52.215Z"
   },
   {
    "duration": 58,
    "start_time": "2022-01-25T15:47:52.232Z"
   },
   {
    "duration": 19,
    "start_time": "2022-01-25T15:47:52.292Z"
   },
   {
    "duration": 31,
    "start_time": "2022-01-25T15:47:52.313Z"
   },
   {
    "duration": 39,
    "start_time": "2022-01-25T15:47:52.346Z"
   },
   {
    "duration": 19,
    "start_time": "2022-01-25T15:47:52.387Z"
   },
   {
    "duration": 18,
    "start_time": "2022-01-25T15:47:52.408Z"
   },
   {
    "duration": 26,
    "start_time": "2022-01-25T15:47:52.428Z"
   },
   {
    "duration": 28,
    "start_time": "2022-01-25T15:47:52.456Z"
   },
   {
    "duration": 39,
    "start_time": "2022-01-25T15:47:52.486Z"
   },
   {
    "duration": 38,
    "start_time": "2022-01-25T15:47:52.528Z"
   },
   {
    "duration": 9,
    "start_time": "2022-01-25T15:47:52.568Z"
   },
   {
    "duration": 21,
    "start_time": "2022-01-25T15:47:52.578Z"
   },
   {
    "duration": 29,
    "start_time": "2022-01-25T15:47:52.601Z"
   },
   {
    "duration": 29,
    "start_time": "2022-01-25T15:47:52.634Z"
   },
   {
    "duration": 6,
    "start_time": "2022-01-25T15:47:52.664Z"
   },
   {
    "duration": 22,
    "start_time": "2022-01-25T15:47:52.672Z"
   },
   {
    "duration": 17,
    "start_time": "2022-01-25T15:47:52.696Z"
   },
   {
    "duration": 32,
    "start_time": "2022-01-25T15:47:52.715Z"
   },
   {
    "duration": 3,
    "start_time": "2022-01-25T15:47:52.749Z"
   },
   {
    "duration": 45,
    "start_time": "2022-01-25T15:47:52.754Z"
   },
   {
    "duration": 311,
    "start_time": "2022-01-25T15:48:06.200Z"
   },
   {
    "duration": 249,
    "start_time": "2022-01-25T15:48:15.342Z"
   },
   {
    "duration": 218,
    "start_time": "2022-01-25T15:49:00.756Z"
   },
   {
    "duration": 18,
    "start_time": "2022-01-25T15:50:56.889Z"
   },
   {
    "duration": 17,
    "start_time": "2022-01-25T15:51:04.474Z"
   },
   {
    "duration": 3,
    "start_time": "2022-01-25T15:51:19.589Z"
   },
   {
    "duration": 56,
    "start_time": "2022-01-25T15:51:19.594Z"
   },
   {
    "duration": 10,
    "start_time": "2022-01-25T15:51:19.652Z"
   },
   {
    "duration": 24,
    "start_time": "2022-01-25T15:51:19.663Z"
   },
   {
    "duration": 19,
    "start_time": "2022-01-25T15:51:19.688Z"
   },
   {
    "duration": 23,
    "start_time": "2022-01-25T15:51:19.709Z"
   },
   {
    "duration": 28,
    "start_time": "2022-01-25T15:51:19.734Z"
   },
   {
    "duration": 49,
    "start_time": "2022-01-25T15:51:19.765Z"
   },
   {
    "duration": 17,
    "start_time": "2022-01-25T15:51:19.817Z"
   },
   {
    "duration": 27,
    "start_time": "2022-01-25T15:51:19.836Z"
   },
   {
    "duration": 34,
    "start_time": "2022-01-25T15:51:19.865Z"
   },
   {
    "duration": 23,
    "start_time": "2022-01-25T15:51:19.901Z"
   },
   {
    "duration": 34,
    "start_time": "2022-01-25T15:51:19.926Z"
   },
   {
    "duration": 31,
    "start_time": "2022-01-25T15:51:19.962Z"
   },
   {
    "duration": 10,
    "start_time": "2022-01-25T15:51:19.995Z"
   },
   {
    "duration": 14,
    "start_time": "2022-01-25T15:51:20.007Z"
   },
   {
    "duration": 37,
    "start_time": "2022-01-25T15:51:20.022Z"
   },
   {
    "duration": 24,
    "start_time": "2022-01-25T15:51:20.061Z"
   },
   {
    "duration": 46,
    "start_time": "2022-01-25T15:51:20.087Z"
   },
   {
    "duration": 10,
    "start_time": "2022-01-25T15:51:20.135Z"
   },
   {
    "duration": 28,
    "start_time": "2022-01-25T15:51:20.147Z"
   },
   {
    "duration": 37,
    "start_time": "2022-01-25T15:51:20.177Z"
   },
   {
    "duration": 22,
    "start_time": "2022-01-25T15:51:20.218Z"
   },
   {
    "duration": 2,
    "start_time": "2022-01-25T15:51:20.242Z"
   },
   {
    "duration": 25,
    "start_time": "2022-01-25T15:51:20.246Z"
   },
   {
    "duration": 8,
    "start_time": "2022-01-25T15:51:20.273Z"
   },
   {
    "duration": 16,
    "start_time": "2022-01-25T15:51:20.282Z"
   },
   {
    "duration": 13,
    "start_time": "2022-01-25T15:51:20.300Z"
   },
   {
    "duration": 29,
    "start_time": "2022-01-25T15:51:20.315Z"
   },
   {
    "duration": 5,
    "start_time": "2022-01-25T15:51:20.346Z"
   },
   {
    "duration": 28,
    "start_time": "2022-01-25T15:51:20.352Z"
   },
   {
    "duration": 579,
    "start_time": "2022-01-25T15:51:20.382Z"
   },
   {
    "duration": 19,
    "start_time": "2022-01-25T15:51:20.963Z"
   },
   {
    "duration": 18,
    "start_time": "2022-01-25T15:51:20.983Z"
   },
   {
    "duration": 183,
    "start_time": "2022-01-25T15:51:21.003Z"
   },
   {
    "duration": 66,
    "start_time": "2022-01-25T15:51:21.188Z"
   },
   {
    "duration": 6,
    "start_time": "2022-01-25T15:51:21.256Z"
   },
   {
    "duration": 411,
    "start_time": "2022-01-25T15:51:21.263Z"
   },
   {
    "duration": 2153,
    "start_time": "2022-01-25T15:51:21.675Z"
   },
   {
    "duration": 16,
    "start_time": "2022-01-25T15:51:23.830Z"
   },
   {
    "duration": 32,
    "start_time": "2022-01-25T15:51:23.848Z"
   },
   {
    "duration": 19,
    "start_time": "2022-01-25T15:51:23.882Z"
   },
   {
    "duration": 28,
    "start_time": "2022-01-25T15:51:23.903Z"
   },
   {
    "duration": 33,
    "start_time": "2022-01-25T15:51:23.933Z"
   },
   {
    "duration": 2531,
    "start_time": "2022-01-25T15:51:25.761Z"
   },
   {
    "duration": 19,
    "start_time": "2022-01-25T15:52:41.851Z"
   },
   {
    "duration": 3,
    "start_time": "2022-01-25T15:52:45.194Z"
   },
   {
    "duration": 43,
    "start_time": "2022-01-25T15:52:45.199Z"
   },
   {
    "duration": 10,
    "start_time": "2022-01-25T15:52:45.245Z"
   },
   {
    "duration": 16,
    "start_time": "2022-01-25T15:52:45.256Z"
   },
   {
    "duration": 13,
    "start_time": "2022-01-25T15:52:45.274Z"
   },
   {
    "duration": 15,
    "start_time": "2022-01-25T15:52:45.297Z"
   },
   {
    "duration": 17,
    "start_time": "2022-01-25T15:52:45.314Z"
   },
   {
    "duration": 65,
    "start_time": "2022-01-25T15:52:45.333Z"
   },
   {
    "duration": 16,
    "start_time": "2022-01-25T15:52:45.400Z"
   },
   {
    "duration": 31,
    "start_time": "2022-01-25T15:52:45.418Z"
   },
   {
    "duration": 14,
    "start_time": "2022-01-25T15:52:45.450Z"
   },
   {
    "duration": 40,
    "start_time": "2022-01-25T15:52:45.466Z"
   },
   {
    "duration": 26,
    "start_time": "2022-01-25T15:52:45.508Z"
   },
   {
    "duration": 25,
    "start_time": "2022-01-25T15:52:45.536Z"
   },
   {
    "duration": 4,
    "start_time": "2022-01-25T15:52:45.563Z"
   },
   {
    "duration": 13,
    "start_time": "2022-01-25T15:52:45.568Z"
   },
   {
    "duration": 20,
    "start_time": "2022-01-25T15:52:45.583Z"
   },
   {
    "duration": 14,
    "start_time": "2022-01-25T15:52:45.604Z"
   },
   {
    "duration": 21,
    "start_time": "2022-01-25T15:52:45.619Z"
   },
   {
    "duration": 8,
    "start_time": "2022-01-25T15:52:45.642Z"
   },
   {
    "duration": 7,
    "start_time": "2022-01-25T15:52:45.651Z"
   },
   {
    "duration": 42,
    "start_time": "2022-01-25T15:52:45.659Z"
   },
   {
    "duration": 16,
    "start_time": "2022-01-25T15:52:45.704Z"
   },
   {
    "duration": 6,
    "start_time": "2022-01-25T15:52:45.722Z"
   },
   {
    "duration": 24,
    "start_time": "2022-01-25T15:52:45.730Z"
   },
   {
    "duration": 13,
    "start_time": "2022-01-25T15:52:45.756Z"
   },
   {
    "duration": 14,
    "start_time": "2022-01-25T15:52:45.771Z"
   },
   {
    "duration": 10,
    "start_time": "2022-01-25T15:52:45.787Z"
   },
   {
    "duration": 30,
    "start_time": "2022-01-25T15:52:45.799Z"
   },
   {
    "duration": 1115,
    "start_time": "2022-01-25T15:52:57.440Z"
   },
   {
    "duration": 38,
    "start_time": "2022-01-25T15:52:58.557Z"
   },
   {
    "duration": 33,
    "start_time": "2022-01-25T15:52:58.597Z"
   },
   {
    "duration": 32,
    "start_time": "2022-01-25T15:52:58.632Z"
   },
   {
    "duration": 25,
    "start_time": "2022-01-25T15:52:58.665Z"
   },
   {
    "duration": 42,
    "start_time": "2022-01-25T15:52:58.692Z"
   },
   {
    "duration": 28,
    "start_time": "2022-01-25T15:52:58.736Z"
   },
   {
    "duration": 46,
    "start_time": "2022-01-25T15:52:58.766Z"
   },
   {
    "duration": 15,
    "start_time": "2022-01-25T15:52:58.814Z"
   },
   {
    "duration": 28,
    "start_time": "2022-01-25T15:52:58.830Z"
   },
   {
    "duration": 14,
    "start_time": "2022-01-25T15:52:58.859Z"
   },
   {
    "duration": 49,
    "start_time": "2022-01-25T15:52:58.875Z"
   },
   {
    "duration": 30,
    "start_time": "2022-01-25T15:52:58.926Z"
   },
   {
    "duration": 29,
    "start_time": "2022-01-25T15:52:58.958Z"
   },
   {
    "duration": 22,
    "start_time": "2022-01-25T15:52:58.989Z"
   },
   {
    "duration": 33,
    "start_time": "2022-01-25T15:52:59.013Z"
   },
   {
    "duration": 52,
    "start_time": "2022-01-25T15:52:59.047Z"
   },
   {
    "duration": 32,
    "start_time": "2022-01-25T15:52:59.101Z"
   },
   {
    "duration": 42,
    "start_time": "2022-01-25T15:52:59.134Z"
   },
   {
    "duration": 35,
    "start_time": "2022-01-25T15:52:59.178Z"
   },
   {
    "duration": 45,
    "start_time": "2022-01-25T15:52:59.214Z"
   },
   {
    "duration": 39,
    "start_time": "2022-01-25T15:52:59.261Z"
   },
   {
    "duration": 39,
    "start_time": "2022-01-25T15:52:59.303Z"
   },
   {
    "duration": 19,
    "start_time": "2022-01-25T15:52:59.343Z"
   },
   {
    "duration": 57,
    "start_time": "2022-01-25T15:52:59.364Z"
   },
   {
    "duration": 26,
    "start_time": "2022-01-25T15:52:59.423Z"
   },
   {
    "duration": 23,
    "start_time": "2022-01-25T15:52:59.451Z"
   },
   {
    "duration": 16,
    "start_time": "2022-01-25T15:52:59.475Z"
   },
   {
    "duration": 45,
    "start_time": "2022-01-25T15:52:59.493Z"
   },
   {
    "duration": 4,
    "start_time": "2022-01-25T15:52:59.540Z"
   },
   {
    "duration": 45,
    "start_time": "2022-01-25T15:52:59.546Z"
   },
   {
    "duration": 580,
    "start_time": "2022-01-25T15:52:59.592Z"
   },
   {
    "duration": 32,
    "start_time": "2022-01-25T15:53:00.174Z"
   },
   {
    "duration": 13,
    "start_time": "2022-01-25T15:53:00.208Z"
   },
   {
    "duration": 209,
    "start_time": "2022-01-25T15:53:00.223Z"
   },
   {
    "duration": 80,
    "start_time": "2022-01-25T15:53:00.434Z"
   },
   {
    "duration": 5,
    "start_time": "2022-01-25T15:53:00.516Z"
   },
   {
    "duration": 415,
    "start_time": "2022-01-25T15:53:05.891Z"
   },
   {
    "duration": 10,
    "start_time": "2022-01-25T15:53:27.040Z"
   },
   {
    "duration": 280,
    "start_time": "2022-01-25T15:53:42.622Z"
   },
   {
    "duration": 173,
    "start_time": "2022-01-25T15:53:50.114Z"
   },
   {
    "duration": 27,
    "start_time": "2022-01-25T15:53:57.812Z"
   },
   {
    "duration": 3,
    "start_time": "2022-01-25T15:54:08.753Z"
   },
   {
    "duration": 55,
    "start_time": "2022-01-25T15:54:08.758Z"
   },
   {
    "duration": 10,
    "start_time": "2022-01-25T15:54:08.815Z"
   },
   {
    "duration": 19,
    "start_time": "2022-01-25T15:54:08.827Z"
   },
   {
    "duration": 10,
    "start_time": "2022-01-25T15:54:08.848Z"
   },
   {
    "duration": 40,
    "start_time": "2022-01-25T15:54:08.860Z"
   },
   {
    "duration": 31,
    "start_time": "2022-01-25T15:54:08.903Z"
   },
   {
    "duration": 59,
    "start_time": "2022-01-25T15:54:08.936Z"
   },
   {
    "duration": 17,
    "start_time": "2022-01-25T15:54:08.998Z"
   },
   {
    "duration": 24,
    "start_time": "2022-01-25T15:54:09.017Z"
   },
   {
    "duration": 14,
    "start_time": "2022-01-25T15:54:09.044Z"
   },
   {
    "duration": 43,
    "start_time": "2022-01-25T15:54:09.060Z"
   },
   {
    "duration": 20,
    "start_time": "2022-01-25T15:54:09.104Z"
   },
   {
    "duration": 8,
    "start_time": "2022-01-25T15:54:09.126Z"
   },
   {
    "duration": 17,
    "start_time": "2022-01-25T15:54:09.136Z"
   },
   {
    "duration": 10,
    "start_time": "2022-01-25T15:54:09.155Z"
   },
   {
    "duration": 30,
    "start_time": "2022-01-25T15:54:09.167Z"
   },
   {
    "duration": 13,
    "start_time": "2022-01-25T15:54:09.199Z"
   },
   {
    "duration": 21,
    "start_time": "2022-01-25T15:54:09.214Z"
   },
   {
    "duration": 8,
    "start_time": "2022-01-25T15:54:09.237Z"
   },
   {
    "duration": 15,
    "start_time": "2022-01-25T15:54:09.247Z"
   },
   {
    "duration": 36,
    "start_time": "2022-01-25T15:54:09.263Z"
   },
   {
    "duration": 16,
    "start_time": "2022-01-25T15:54:09.302Z"
   },
   {
    "duration": 9,
    "start_time": "2022-01-25T15:54:09.320Z"
   },
   {
    "duration": 19,
    "start_time": "2022-01-25T15:54:09.331Z"
   },
   {
    "duration": 15,
    "start_time": "2022-01-25T15:54:09.352Z"
   },
   {
    "duration": 26,
    "start_time": "2022-01-25T15:54:09.369Z"
   },
   {
    "duration": 8,
    "start_time": "2022-01-25T15:54:09.397Z"
   },
   {
    "duration": 27,
    "start_time": "2022-01-25T15:54:09.407Z"
   },
   {
    "duration": 10,
    "start_time": "2022-01-25T15:54:09.436Z"
   },
   {
    "duration": 9,
    "start_time": "2022-01-25T15:54:09.448Z"
   },
   {
    "duration": 25,
    "start_time": "2022-01-25T15:54:09.459Z"
   },
   {
    "duration": 567,
    "start_time": "2022-01-25T15:54:09.486Z"
   },
   {
    "duration": 19,
    "start_time": "2022-01-25T15:54:10.055Z"
   },
   {
    "duration": 21,
    "start_time": "2022-01-25T15:54:10.076Z"
   },
   {
    "duration": 167,
    "start_time": "2022-01-25T15:54:10.100Z"
   },
   {
    "duration": 76,
    "start_time": "2022-01-25T15:54:10.269Z"
   },
   {
    "duration": 5,
    "start_time": "2022-01-25T15:54:10.347Z"
   },
   {
    "duration": 518,
    "start_time": "2022-01-25T15:54:10.353Z"
   },
   {
    "duration": 4,
    "start_time": "2022-01-25T15:55:49.483Z"
   },
   {
    "duration": 216,
    "start_time": "2022-01-25T15:55:49.490Z"
   },
   {
    "duration": 49,
    "start_time": "2022-01-25T15:55:49.709Z"
   },
   {
    "duration": 25,
    "start_time": "2022-01-25T15:55:49.760Z"
   },
   {
    "duration": 14,
    "start_time": "2022-01-25T15:55:49.787Z"
   },
   {
    "duration": 24,
    "start_time": "2022-01-25T15:55:49.803Z"
   },
   {
    "duration": 17,
    "start_time": "2022-01-25T15:55:49.829Z"
   },
   {
    "duration": 41,
    "start_time": "2022-01-25T15:55:49.848Z"
   },
   {
    "duration": 16,
    "start_time": "2022-01-25T15:55:49.898Z"
   },
   {
    "duration": 26,
    "start_time": "2022-01-25T15:55:49.916Z"
   },
   {
    "duration": 15,
    "start_time": "2022-01-25T15:55:49.944Z"
   },
   {
    "duration": 36,
    "start_time": "2022-01-25T15:55:49.961Z"
   },
   {
    "duration": 32,
    "start_time": "2022-01-25T15:55:49.999Z"
   },
   {
    "duration": 9,
    "start_time": "2022-01-25T15:55:50.034Z"
   },
   {
    "duration": 10,
    "start_time": "2022-01-25T15:55:50.045Z"
   },
   {
    "duration": 10,
    "start_time": "2022-01-25T15:55:50.057Z"
   },
   {
    "duration": 21,
    "start_time": "2022-01-25T15:55:50.069Z"
   },
   {
    "duration": 19,
    "start_time": "2022-01-25T15:55:50.091Z"
   },
   {
    "duration": 26,
    "start_time": "2022-01-25T15:55:50.111Z"
   },
   {
    "duration": 8,
    "start_time": "2022-01-25T15:55:50.139Z"
   },
   {
    "duration": 11,
    "start_time": "2022-01-25T15:55:50.149Z"
   },
   {
    "duration": 29,
    "start_time": "2022-01-25T15:55:50.162Z"
   },
   {
    "duration": 18,
    "start_time": "2022-01-25T15:55:50.197Z"
   },
   {
    "duration": 3,
    "start_time": "2022-01-25T15:55:50.217Z"
   },
   {
    "duration": 19,
    "start_time": "2022-01-25T15:55:50.221Z"
   },
   {
    "duration": 12,
    "start_time": "2022-01-25T15:55:50.242Z"
   },
   {
    "duration": 28,
    "start_time": "2022-01-25T15:55:50.258Z"
   },
   {
    "duration": 3,
    "start_time": "2022-01-25T15:55:50.296Z"
   },
   {
    "duration": 27,
    "start_time": "2022-01-25T15:55:50.301Z"
   },
   {
    "duration": 11,
    "start_time": "2022-01-25T15:55:50.330Z"
   },
   {
    "duration": 6,
    "start_time": "2022-01-25T15:55:50.343Z"
   },
   {
    "duration": 18,
    "start_time": "2022-01-25T15:55:50.350Z"
   },
   {
    "duration": 578,
    "start_time": "2022-01-25T15:55:50.370Z"
   },
   {
    "duration": 18,
    "start_time": "2022-01-25T15:55:50.950Z"
   },
   {
    "duration": 12,
    "start_time": "2022-01-25T15:55:50.970Z"
   },
   {
    "duration": 178,
    "start_time": "2022-01-25T15:55:50.984Z"
   },
   {
    "duration": 73,
    "start_time": "2022-01-25T15:55:51.163Z"
   },
   {
    "duration": 5,
    "start_time": "2022-01-25T15:55:51.238Z"
   },
   {
    "duration": 426,
    "start_time": "2022-01-25T15:55:51.245Z"
   },
   {
    "duration": 2080,
    "start_time": "2022-01-25T15:55:51.673Z"
   },
   {
    "duration": 17,
    "start_time": "2022-01-25T15:55:53.755Z"
   },
   {
    "duration": 33,
    "start_time": "2022-01-25T15:55:53.774Z"
   },
   {
    "duration": 25,
    "start_time": "2022-01-25T15:55:53.809Z"
   },
   {
    "duration": 23,
    "start_time": "2022-01-25T15:55:53.836Z"
   },
   {
    "duration": 26,
    "start_time": "2022-01-25T15:55:53.861Z"
   },
   {
    "duration": 2581,
    "start_time": "2022-01-25T15:55:53.889Z"
   },
   {
    "duration": 432,
    "start_time": "2022-01-25T15:56:44.426Z"
   },
   {
    "duration": 201,
    "start_time": "2022-01-25T15:58:44.073Z"
   },
   {
    "duration": 743,
    "start_time": "2022-01-25T15:58:59.728Z"
   },
   {
    "duration": 184,
    "start_time": "2022-01-25T15:59:58.874Z"
   },
   {
    "duration": 756,
    "start_time": "2022-01-25T16:00:19.692Z"
   },
   {
    "duration": 1118,
    "start_time": "2022-01-25T16:00:39.567Z"
   },
   {
    "duration": 50,
    "start_time": "2022-01-25T16:00:40.687Z"
   },
   {
    "duration": 14,
    "start_time": "2022-01-25T16:00:40.739Z"
   },
   {
    "duration": 26,
    "start_time": "2022-01-25T16:00:40.755Z"
   },
   {
    "duration": 28,
    "start_time": "2022-01-25T16:00:40.786Z"
   },
   {
    "duration": 34,
    "start_time": "2022-01-25T16:00:40.816Z"
   },
   {
    "duration": 33,
    "start_time": "2022-01-25T16:00:40.852Z"
   },
   {
    "duration": 53,
    "start_time": "2022-01-25T16:00:40.888Z"
   },
   {
    "duration": 26,
    "start_time": "2022-01-25T16:00:40.944Z"
   },
   {
    "duration": 47,
    "start_time": "2022-01-25T16:00:40.972Z"
   },
   {
    "duration": 17,
    "start_time": "2022-01-25T16:00:41.021Z"
   },
   {
    "duration": 22,
    "start_time": "2022-01-25T16:00:41.040Z"
   },
   {
    "duration": 40,
    "start_time": "2022-01-25T16:00:41.064Z"
   },
   {
    "duration": 8,
    "start_time": "2022-01-25T16:00:41.106Z"
   },
   {
    "duration": 7,
    "start_time": "2022-01-25T16:00:41.115Z"
   },
   {
    "duration": 8,
    "start_time": "2022-01-25T16:00:41.124Z"
   },
   {
    "duration": 15,
    "start_time": "2022-01-25T16:00:41.134Z"
   },
   {
    "duration": 40,
    "start_time": "2022-01-25T16:00:41.152Z"
   },
   {
    "duration": 31,
    "start_time": "2022-01-25T16:00:41.194Z"
   },
   {
    "duration": 14,
    "start_time": "2022-01-25T16:00:41.226Z"
   },
   {
    "duration": 21,
    "start_time": "2022-01-25T16:00:41.241Z"
   },
   {
    "duration": 34,
    "start_time": "2022-01-25T16:00:41.264Z"
   },
   {
    "duration": 19,
    "start_time": "2022-01-25T16:00:41.301Z"
   },
   {
    "duration": 8,
    "start_time": "2022-01-25T16:00:41.322Z"
   },
   {
    "duration": 25,
    "start_time": "2022-01-25T16:00:41.331Z"
   },
   {
    "duration": 31,
    "start_time": "2022-01-25T16:00:41.358Z"
   },
   {
    "duration": 20,
    "start_time": "2022-01-25T16:00:41.392Z"
   },
   {
    "duration": 2,
    "start_time": "2022-01-25T16:00:41.415Z"
   },
   {
    "duration": 841,
    "start_time": "2022-01-25T16:00:41.419Z"
   },
   {
    "duration": 25,
    "start_time": "2022-01-25T16:00:42.237Z"
   },
   {
    "duration": 19,
    "start_time": "2022-01-25T16:01:03.914Z"
   },
   {
    "duration": 11,
    "start_time": "2022-01-25T16:01:08.338Z"
   },
   {
    "duration": 4,
    "start_time": "2022-01-25T16:01:15.098Z"
   },
   {
    "duration": 15,
    "start_time": "2022-01-25T16:01:15.805Z"
   },
   {
    "duration": 557,
    "start_time": "2022-01-25T16:01:17.452Z"
   },
   {
    "duration": 20,
    "start_time": "2022-01-25T16:01:20.394Z"
   },
   {
    "duration": 5,
    "start_time": "2022-01-25T16:01:21.798Z"
   },
   {
    "duration": 153,
    "start_time": "2022-01-25T16:01:23.191Z"
   },
   {
    "duration": 60,
    "start_time": "2022-01-25T16:01:25.435Z"
   },
   {
    "duration": 6,
    "start_time": "2022-01-25T16:01:28.165Z"
   },
   {
    "duration": 412,
    "start_time": "2022-01-25T16:01:29.301Z"
   },
   {
    "duration": 213,
    "start_time": "2022-01-25T16:01:49.224Z"
   },
   {
    "duration": 1134,
    "start_time": "2022-01-25T16:01:53.422Z"
   },
   {
    "duration": 40,
    "start_time": "2022-01-25T16:01:54.557Z"
   },
   {
    "duration": 12,
    "start_time": "2022-01-25T16:01:54.600Z"
   },
   {
    "duration": 20,
    "start_time": "2022-01-25T16:01:54.614Z"
   },
   {
    "duration": 10,
    "start_time": "2022-01-25T16:01:54.636Z"
   },
   {
    "duration": 26,
    "start_time": "2022-01-25T16:01:54.648Z"
   },
   {
    "duration": 30,
    "start_time": "2022-01-25T16:01:54.676Z"
   },
   {
    "duration": 42,
    "start_time": "2022-01-25T16:01:54.710Z"
   },
   {
    "duration": 46,
    "start_time": "2022-01-25T16:01:54.755Z"
   },
   {
    "duration": 29,
    "start_time": "2022-01-25T16:01:54.803Z"
   },
   {
    "duration": 15,
    "start_time": "2022-01-25T16:01:54.834Z"
   },
   {
    "duration": 30,
    "start_time": "2022-01-25T16:01:54.851Z"
   },
   {
    "duration": 30,
    "start_time": "2022-01-25T16:01:54.883Z"
   },
   {
    "duration": 7,
    "start_time": "2022-01-25T16:01:54.915Z"
   },
   {
    "duration": 10,
    "start_time": "2022-01-25T16:01:54.924Z"
   },
   {
    "duration": 10,
    "start_time": "2022-01-25T16:01:54.936Z"
   },
   {
    "duration": 19,
    "start_time": "2022-01-25T16:01:54.948Z"
   },
   {
    "duration": 16,
    "start_time": "2022-01-25T16:01:54.969Z"
   },
   {
    "duration": 28,
    "start_time": "2022-01-25T16:01:54.987Z"
   },
   {
    "duration": 8,
    "start_time": "2022-01-25T16:01:55.016Z"
   },
   {
    "duration": 15,
    "start_time": "2022-01-25T16:01:55.026Z"
   },
   {
    "duration": 24,
    "start_time": "2022-01-25T16:01:55.043Z"
   },
   {
    "duration": 32,
    "start_time": "2022-01-25T16:01:55.070Z"
   },
   {
    "duration": 2,
    "start_time": "2022-01-25T16:01:55.104Z"
   },
   {
    "duration": 20,
    "start_time": "2022-01-25T16:01:55.108Z"
   },
   {
    "duration": 10,
    "start_time": "2022-01-25T16:01:55.130Z"
   },
   {
    "duration": 26,
    "start_time": "2022-01-25T16:01:55.142Z"
   },
   {
    "duration": 16,
    "start_time": "2022-01-25T16:01:55.169Z"
   },
   {
    "duration": 29,
    "start_time": "2022-01-25T16:01:55.187Z"
   },
   {
    "duration": 10,
    "start_time": "2022-01-25T16:01:57.674Z"
   },
   {
    "duration": 5,
    "start_time": "2022-01-25T16:01:59.458Z"
   },
   {
    "duration": 15,
    "start_time": "2022-01-25T16:02:01.400Z"
   },
   {
    "duration": 573,
    "start_time": "2022-01-25T16:02:03.299Z"
   },
   {
    "duration": 18,
    "start_time": "2022-01-25T16:02:04.328Z"
   },
   {
    "duration": 5,
    "start_time": "2022-01-25T16:02:06.560Z"
   },
   {
    "duration": 153,
    "start_time": "2022-01-25T16:02:09.009Z"
   },
   {
    "duration": 58,
    "start_time": "2022-01-25T16:02:10.527Z"
   },
   {
    "duration": 5,
    "start_time": "2022-01-25T16:02:12.948Z"
   },
   {
    "duration": 420,
    "start_time": "2022-01-25T16:02:13.945Z"
   },
   {
    "duration": 1166,
    "start_time": "2022-01-25T16:02:38.385Z"
   },
   {
    "duration": 37,
    "start_time": "2022-01-25T16:02:39.554Z"
   },
   {
    "duration": 12,
    "start_time": "2022-01-25T16:02:39.593Z"
   },
   {
    "duration": 20,
    "start_time": "2022-01-25T16:02:39.607Z"
   },
   {
    "duration": 8,
    "start_time": "2022-01-25T16:02:39.629Z"
   },
   {
    "duration": 19,
    "start_time": "2022-01-25T16:02:39.638Z"
   },
   {
    "duration": 15,
    "start_time": "2022-01-25T16:02:39.659Z"
   },
   {
    "duration": 65,
    "start_time": "2022-01-25T16:02:39.676Z"
   },
   {
    "duration": 15,
    "start_time": "2022-01-25T16:02:39.744Z"
   },
   {
    "duration": 36,
    "start_time": "2022-01-25T16:02:39.762Z"
   },
   {
    "duration": 14,
    "start_time": "2022-01-25T16:02:39.800Z"
   },
   {
    "duration": 18,
    "start_time": "2022-01-25T16:02:39.816Z"
   },
   {
    "duration": 22,
    "start_time": "2022-01-25T16:02:39.835Z"
   },
   {
    "duration": 39,
    "start_time": "2022-01-25T16:02:39.859Z"
   },
   {
    "duration": 3,
    "start_time": "2022-01-25T16:02:39.900Z"
   },
   {
    "duration": 11,
    "start_time": "2022-01-25T16:02:39.905Z"
   },
   {
    "duration": 19,
    "start_time": "2022-01-25T16:02:39.918Z"
   },
   {
    "duration": 14,
    "start_time": "2022-01-25T16:02:39.939Z"
   },
   {
    "duration": 21,
    "start_time": "2022-01-25T16:02:39.955Z"
   },
   {
    "duration": 24,
    "start_time": "2022-01-25T16:02:39.978Z"
   },
   {
    "duration": 31,
    "start_time": "2022-01-25T16:02:40.004Z"
   },
   {
    "duration": 38,
    "start_time": "2022-01-25T16:02:40.037Z"
   },
   {
    "duration": 17,
    "start_time": "2022-01-25T16:02:40.077Z"
   },
   {
    "duration": 11,
    "start_time": "2022-01-25T16:02:40.095Z"
   },
   {
    "duration": 25,
    "start_time": "2022-01-25T16:02:40.107Z"
   },
   {
    "duration": 18,
    "start_time": "2022-01-25T16:02:40.133Z"
   },
   {
    "duration": 12,
    "start_time": "2022-01-25T16:02:40.156Z"
   },
   {
    "duration": 2,
    "start_time": "2022-01-25T16:02:40.170Z"
   },
   {
    "duration": 26,
    "start_time": "2022-01-25T16:02:40.174Z"
   },
   {
    "duration": 9,
    "start_time": "2022-01-25T16:02:40.202Z"
   },
   {
    "duration": 10,
    "start_time": "2022-01-25T16:02:40.213Z"
   },
   {
    "duration": 18,
    "start_time": "2022-01-25T16:02:40.225Z"
   },
   {
    "duration": 562,
    "start_time": "2022-01-25T16:02:40.245Z"
   },
   {
    "duration": 284,
    "start_time": "2022-01-25T16:02:40.809Z"
   },
   {
    "duration": 28,
    "start_time": "2022-01-25T16:02:41.067Z"
   },
   {
    "duration": 27,
    "start_time": "2022-01-25T16:02:41.070Z"
   },
   {
    "duration": 25,
    "start_time": "2022-01-25T16:02:41.073Z"
   },
   {
    "duration": 23,
    "start_time": "2022-01-25T16:02:41.076Z"
   },
   {
    "duration": 18,
    "start_time": "2022-01-25T16:02:41.082Z"
   },
   {
    "duration": 17,
    "start_time": "2022-01-25T16:02:41.084Z"
   },
   {
    "duration": 15,
    "start_time": "2022-01-25T16:02:41.087Z"
   },
   {
    "duration": 14,
    "start_time": "2022-01-25T16:02:41.089Z"
   },
   {
    "duration": 13,
    "start_time": "2022-01-25T16:02:41.091Z"
   },
   {
    "duration": 11,
    "start_time": "2022-01-25T16:02:41.094Z"
   },
   {
    "duration": 10,
    "start_time": "2022-01-25T16:02:41.096Z"
   },
   {
    "duration": 9,
    "start_time": "2022-01-25T16:02:41.098Z"
   },
   {
    "duration": 8,
    "start_time": "2022-01-25T16:02:41.100Z"
   },
   {
    "duration": 6,
    "start_time": "2022-01-25T16:02:41.103Z"
   },
   {
    "duration": 5,
    "start_time": "2022-01-25T16:02:41.105Z"
   },
   {
    "duration": 3,
    "start_time": "2022-01-25T16:02:41.108Z"
   },
   {
    "duration": 1,
    "start_time": "2022-01-25T16:02:41.110Z"
   },
   {
    "duration": 0,
    "start_time": "2022-01-25T16:02:41.112Z"
   },
   {
    "duration": -1,
    "start_time": "2022-01-25T16:02:41.114Z"
   },
   {
    "duration": -3,
    "start_time": "2022-01-25T16:02:41.117Z"
   },
   {
    "duration": -9,
    "start_time": "2022-01-25T16:02:41.124Z"
   },
   {
    "duration": -9,
    "start_time": "2022-01-25T16:02:41.126Z"
   },
   {
    "duration": -12,
    "start_time": "2022-01-25T16:02:41.129Z"
   },
   {
    "duration": -13,
    "start_time": "2022-01-25T16:02:41.131Z"
   },
   {
    "duration": -14,
    "start_time": "2022-01-25T16:02:41.133Z"
   },
   {
    "duration": -16,
    "start_time": "2022-01-25T16:02:41.136Z"
   },
   {
    "duration": -16,
    "start_time": "2022-01-25T16:02:41.138Z"
   },
   {
    "duration": -18,
    "start_time": "2022-01-25T16:02:41.141Z"
   },
   {
    "duration": -19,
    "start_time": "2022-01-25T16:02:41.143Z"
   },
   {
    "duration": -20,
    "start_time": "2022-01-25T16:02:41.145Z"
   },
   {
    "duration": -22,
    "start_time": "2022-01-25T16:02:41.148Z"
   },
   {
    "duration": -23,
    "start_time": "2022-01-25T16:02:41.150Z"
   },
   {
    "duration": -24,
    "start_time": "2022-01-25T16:02:41.152Z"
   },
   {
    "duration": 213,
    "start_time": "2022-01-25T16:03:18.196Z"
   },
   {
    "duration": 22,
    "start_time": "2022-01-25T16:03:37.417Z"
   },
   {
    "duration": 3,
    "start_time": "2022-01-25T16:03:45.856Z"
   },
   {
    "duration": 58,
    "start_time": "2022-01-25T16:03:45.861Z"
   },
   {
    "duration": 11,
    "start_time": "2022-01-25T16:03:45.921Z"
   },
   {
    "duration": 29,
    "start_time": "2022-01-25T16:03:45.934Z"
   },
   {
    "duration": 24,
    "start_time": "2022-01-25T16:03:45.965Z"
   },
   {
    "duration": 42,
    "start_time": "2022-01-25T16:03:45.991Z"
   },
   {
    "duration": 47,
    "start_time": "2022-01-25T16:03:46.035Z"
   },
   {
    "duration": 65,
    "start_time": "2022-01-25T16:03:46.085Z"
   },
   {
    "duration": 18,
    "start_time": "2022-01-25T16:03:46.152Z"
   },
   {
    "duration": 37,
    "start_time": "2022-01-25T16:03:46.172Z"
   },
   {
    "duration": 21,
    "start_time": "2022-01-25T16:03:46.211Z"
   },
   {
    "duration": 32,
    "start_time": "2022-01-25T16:03:46.234Z"
   },
   {
    "duration": 20,
    "start_time": "2022-01-25T16:03:46.268Z"
   },
   {
    "duration": 19,
    "start_time": "2022-01-25T16:03:46.290Z"
   },
   {
    "duration": 4,
    "start_time": "2022-01-25T16:03:46.311Z"
   },
   {
    "duration": 7,
    "start_time": "2022-01-25T16:03:46.317Z"
   },
   {
    "duration": 18,
    "start_time": "2022-01-25T16:03:46.326Z"
   },
   {
    "duration": 15,
    "start_time": "2022-01-25T16:03:46.346Z"
   },
   {
    "duration": 25,
    "start_time": "2022-01-25T16:03:46.363Z"
   },
   {
    "duration": 12,
    "start_time": "2022-01-25T16:03:46.390Z"
   },
   {
    "duration": 9,
    "start_time": "2022-01-25T16:03:46.404Z"
   },
   {
    "duration": 20,
    "start_time": "2022-01-25T16:03:46.415Z"
   },
   {
    "duration": 17,
    "start_time": "2022-01-25T16:03:46.439Z"
   },
   {
    "duration": 9,
    "start_time": "2022-01-25T16:03:46.458Z"
   },
   {
    "duration": 38,
    "start_time": "2022-01-25T16:03:46.469Z"
   },
   {
    "duration": 9,
    "start_time": "2022-01-25T16:03:46.509Z"
   },
   {
    "duration": 16,
    "start_time": "2022-01-25T16:03:46.520Z"
   },
   {
    "duration": 2,
    "start_time": "2022-01-25T16:03:46.538Z"
   },
   {
    "duration": 705,
    "start_time": "2022-01-25T16:03:46.542Z"
   },
   {
    "duration": 3,
    "start_time": "2022-01-25T16:03:59.572Z"
   },
   {
    "duration": 54,
    "start_time": "2022-01-25T16:03:59.577Z"
   },
   {
    "duration": 11,
    "start_time": "2022-01-25T16:03:59.633Z"
   },
   {
    "duration": 15,
    "start_time": "2022-01-25T16:03:59.646Z"
   },
   {
    "duration": 9,
    "start_time": "2022-01-25T16:03:59.662Z"
   },
   {
    "duration": 35,
    "start_time": "2022-01-25T16:03:59.673Z"
   },
   {
    "duration": 15,
    "start_time": "2022-01-25T16:03:59.710Z"
   },
   {
    "duration": 41,
    "start_time": "2022-01-25T16:03:59.727Z"
   },
   {
    "duration": 32,
    "start_time": "2022-01-25T16:03:59.770Z"
   },
   {
    "duration": 31,
    "start_time": "2022-01-25T16:03:59.803Z"
   },
   {
    "duration": 14,
    "start_time": "2022-01-25T16:03:59.835Z"
   },
   {
    "duration": 21,
    "start_time": "2022-01-25T16:03:59.851Z"
   },
   {
    "duration": 25,
    "start_time": "2022-01-25T16:03:59.874Z"
   },
   {
    "duration": 9,
    "start_time": "2022-01-25T16:03:59.900Z"
   },
   {
    "duration": 11,
    "start_time": "2022-01-25T16:03:59.911Z"
   },
   {
    "duration": 10,
    "start_time": "2022-01-25T16:03:59.924Z"
   },
   {
    "duration": 21,
    "start_time": "2022-01-25T16:03:59.936Z"
   },
   {
    "duration": 22,
    "start_time": "2022-01-25T16:03:59.959Z"
   },
   {
    "duration": 20,
    "start_time": "2022-01-25T16:03:59.983Z"
   },
   {
    "duration": 13,
    "start_time": "2022-01-25T16:04:00.005Z"
   },
   {
    "duration": 53,
    "start_time": "2022-01-25T16:04:00.019Z"
   },
   {
    "duration": 52,
    "start_time": "2022-01-25T16:04:00.074Z"
   },
   {
    "duration": 18,
    "start_time": "2022-01-25T16:04:00.129Z"
   },
   {
    "duration": 32,
    "start_time": "2022-01-25T16:04:00.149Z"
   },
   {
    "duration": 72,
    "start_time": "2022-01-25T16:04:00.183Z"
   },
   {
    "duration": 21,
    "start_time": "2022-01-25T16:04:00.258Z"
   },
   {
    "duration": 49,
    "start_time": "2022-01-25T16:04:00.281Z"
   },
   {
    "duration": 34,
    "start_time": "2022-01-25T16:04:00.332Z"
   },
   {
    "duration": 476,
    "start_time": "2022-01-25T16:04:00.368Z"
   },
   {
    "duration": 20,
    "start_time": "2022-01-25T16:05:20.875Z"
   },
   {
    "duration": 4,
    "start_time": "2022-01-25T16:05:27.222Z"
   },
   {
    "duration": 45,
    "start_time": "2022-01-25T16:05:27.228Z"
   },
   {
    "duration": 10,
    "start_time": "2022-01-25T16:05:27.275Z"
   },
   {
    "duration": 17,
    "start_time": "2022-01-25T16:05:27.287Z"
   },
   {
    "duration": 11,
    "start_time": "2022-01-25T16:05:27.305Z"
   },
   {
    "duration": 19,
    "start_time": "2022-01-25T16:05:27.318Z"
   },
   {
    "duration": 18,
    "start_time": "2022-01-25T16:05:27.338Z"
   },
   {
    "duration": 49,
    "start_time": "2022-01-25T16:05:27.359Z"
   },
   {
    "duration": 16,
    "start_time": "2022-01-25T16:05:27.410Z"
   },
   {
    "duration": 28,
    "start_time": "2022-01-25T16:05:27.428Z"
   },
   {
    "duration": 19,
    "start_time": "2022-01-25T16:05:27.458Z"
   },
   {
    "duration": 29,
    "start_time": "2022-01-25T16:05:27.479Z"
   },
   {
    "duration": 22,
    "start_time": "2022-01-25T16:05:27.510Z"
   },
   {
    "duration": 12,
    "start_time": "2022-01-25T16:05:27.533Z"
   },
   {
    "duration": 3,
    "start_time": "2022-01-25T16:05:27.547Z"
   },
   {
    "duration": 7,
    "start_time": "2022-01-25T16:05:27.551Z"
   },
   {
    "duration": 15,
    "start_time": "2022-01-25T16:05:27.559Z"
   },
   {
    "duration": 14,
    "start_time": "2022-01-25T16:05:27.597Z"
   },
   {
    "duration": 30,
    "start_time": "2022-01-25T16:05:27.613Z"
   },
   {
    "duration": 8,
    "start_time": "2022-01-25T16:05:27.645Z"
   },
   {
    "duration": 18,
    "start_time": "2022-01-25T16:05:27.655Z"
   },
   {
    "duration": 30,
    "start_time": "2022-01-25T16:05:27.675Z"
   },
   {
    "duration": 18,
    "start_time": "2022-01-25T16:05:27.710Z"
   },
   {
    "duration": 9,
    "start_time": "2022-01-25T16:05:27.730Z"
   },
   {
    "duration": 27,
    "start_time": "2022-01-25T16:05:27.741Z"
   },
   {
    "duration": 11,
    "start_time": "2022-01-25T16:05:27.770Z"
   },
   {
    "duration": 28,
    "start_time": "2022-01-25T16:05:27.783Z"
   },
   {
    "duration": 5,
    "start_time": "2022-01-25T16:05:27.814Z"
   },
   {
    "duration": 31,
    "start_time": "2022-01-25T16:05:27.820Z"
   },
   {
    "duration": 11,
    "start_time": "2022-01-25T16:05:27.853Z"
   },
   {
    "duration": 6,
    "start_time": "2022-01-25T16:05:27.866Z"
   },
   {
    "duration": 32,
    "start_time": "2022-01-25T16:05:27.873Z"
   },
   {
    "duration": 556,
    "start_time": "2022-01-25T16:05:27.907Z"
   },
   {
    "duration": 19,
    "start_time": "2022-01-25T16:05:28.465Z"
   },
   {
    "duration": 7,
    "start_time": "2022-01-25T16:05:30.338Z"
   },
   {
    "duration": 162,
    "start_time": "2022-01-25T16:05:30.944Z"
   },
   {
    "duration": 63,
    "start_time": "2022-01-25T16:05:32.547Z"
   },
   {
    "duration": 6,
    "start_time": "2022-01-25T16:05:34.394Z"
   },
   {
    "duration": 408,
    "start_time": "2022-01-25T16:05:35.860Z"
   },
   {
    "duration": 5,
    "start_time": "2022-01-25T16:05:58.613Z"
   },
   {
    "duration": 417,
    "start_time": "2022-01-25T16:05:59.830Z"
   },
   {
    "duration": 5,
    "start_time": "2022-01-25T16:06:06.817Z"
   },
   {
    "duration": 485,
    "start_time": "2022-01-25T16:06:08.177Z"
   },
   {
    "duration": 25,
    "start_time": "2022-01-25T16:08:02.840Z"
   },
   {
    "duration": 179,
    "start_time": "2022-01-25T16:08:30.388Z"
   },
   {
    "duration": 23,
    "start_time": "2022-01-25T16:09:04.869Z"
   },
   {
    "duration": 11,
    "start_time": "2022-01-25T16:09:07.609Z"
   },
   {
    "duration": 539,
    "start_time": "2022-01-25T16:09:17.938Z"
   },
   {
    "duration": 203,
    "start_time": "2022-01-25T16:09:54.347Z"
   },
   {
    "duration": 27,
    "start_time": "2022-01-25T16:10:01.136Z"
   },
   {
    "duration": 11,
    "start_time": "2022-01-25T16:10:03.175Z"
   },
   {
    "duration": 4,
    "start_time": "2022-01-25T16:10:06.345Z"
   },
   {
    "duration": 15,
    "start_time": "2022-01-25T16:10:07.141Z"
   },
   {
    "duration": 4,
    "start_time": "2022-01-25T16:10:15.108Z"
   },
   {
    "duration": 57,
    "start_time": "2022-01-25T16:10:15.114Z"
   },
   {
    "duration": 10,
    "start_time": "2022-01-25T16:10:15.173Z"
   },
   {
    "duration": 25,
    "start_time": "2022-01-25T16:10:15.185Z"
   },
   {
    "duration": 10,
    "start_time": "2022-01-25T16:10:15.211Z"
   },
   {
    "duration": 26,
    "start_time": "2022-01-25T16:10:15.223Z"
   },
   {
    "duration": 30,
    "start_time": "2022-01-25T16:10:15.251Z"
   },
   {
    "duration": 47,
    "start_time": "2022-01-25T16:10:15.284Z"
   },
   {
    "duration": 16,
    "start_time": "2022-01-25T16:10:15.333Z"
   },
   {
    "duration": 28,
    "start_time": "2022-01-25T16:10:15.351Z"
   },
   {
    "duration": 15,
    "start_time": "2022-01-25T16:10:15.396Z"
   },
   {
    "duration": 26,
    "start_time": "2022-01-25T16:10:15.413Z"
   },
   {
    "duration": 20,
    "start_time": "2022-01-25T16:10:15.441Z"
   },
   {
    "duration": 7,
    "start_time": "2022-01-25T16:10:15.463Z"
   },
   {
    "duration": 8,
    "start_time": "2022-01-25T16:10:15.472Z"
   },
   {
    "duration": 3,
    "start_time": "2022-01-25T16:10:15.498Z"
   },
   {
    "duration": 18,
    "start_time": "2022-01-25T16:10:15.503Z"
   },
   {
    "duration": 27,
    "start_time": "2022-01-25T16:10:15.523Z"
   },
   {
    "duration": 24,
    "start_time": "2022-01-25T16:10:15.552Z"
   },
   {
    "duration": 20,
    "start_time": "2022-01-25T16:10:15.578Z"
   },
   {
    "duration": 7,
    "start_time": "2022-01-25T16:10:15.600Z"
   },
   {
    "duration": 40,
    "start_time": "2022-01-25T16:10:15.609Z"
   },
   {
    "duration": 21,
    "start_time": "2022-01-25T16:10:15.653Z"
   },
   {
    "duration": 17,
    "start_time": "2022-01-25T16:10:15.677Z"
   },
   {
    "duration": 25,
    "start_time": "2022-01-25T16:10:15.695Z"
   },
   {
    "duration": 11,
    "start_time": "2022-01-25T16:10:15.722Z"
   },
   {
    "duration": 18,
    "start_time": "2022-01-25T16:10:15.735Z"
   },
   {
    "duration": 2,
    "start_time": "2022-01-25T16:10:15.755Z"
   },
   {
    "duration": 44,
    "start_time": "2022-01-25T16:10:15.759Z"
   },
   {
    "duration": 10,
    "start_time": "2022-01-25T16:10:15.805Z"
   },
   {
    "duration": 10,
    "start_time": "2022-01-25T16:10:15.817Z"
   },
   {
    "duration": 19,
    "start_time": "2022-01-25T16:10:15.829Z"
   },
   {
    "duration": 550,
    "start_time": "2022-01-25T16:10:15.849Z"
   },
   {
    "duration": 18,
    "start_time": "2022-01-25T16:10:16.400Z"
   },
   {
    "duration": 5,
    "start_time": "2022-01-25T16:10:16.419Z"
   },
   {
    "duration": 170,
    "start_time": "2022-01-25T16:10:16.426Z"
   },
   {
    "duration": 60,
    "start_time": "2022-01-25T16:10:16.598Z"
   },
   {
    "duration": 5,
    "start_time": "2022-01-25T16:10:16.660Z"
   },
   {
    "duration": 427,
    "start_time": "2022-01-25T16:10:16.667Z"
   },
   {
    "duration": 1188,
    "start_time": "2022-01-25T16:11:18.961Z"
   },
   {
    "duration": 41,
    "start_time": "2022-01-25T16:11:20.151Z"
   },
   {
    "duration": 11,
    "start_time": "2022-01-25T16:11:20.194Z"
   },
   {
    "duration": 21,
    "start_time": "2022-01-25T16:11:20.207Z"
   },
   {
    "duration": 8,
    "start_time": "2022-01-25T16:11:20.229Z"
   },
   {
    "duration": 21,
    "start_time": "2022-01-25T16:11:20.239Z"
   },
   {
    "duration": 19,
    "start_time": "2022-01-25T16:11:20.262Z"
   },
   {
    "duration": 51,
    "start_time": "2022-01-25T16:11:20.283Z"
   },
   {
    "duration": 15,
    "start_time": "2022-01-25T16:11:20.336Z"
   },
   {
    "duration": 29,
    "start_time": "2022-01-25T16:11:20.353Z"
   },
   {
    "duration": 15,
    "start_time": "2022-01-25T16:11:20.398Z"
   },
   {
    "duration": 30,
    "start_time": "2022-01-25T16:11:20.415Z"
   },
   {
    "duration": 23,
    "start_time": "2022-01-25T16:11:20.447Z"
   },
   {
    "duration": 11,
    "start_time": "2022-01-25T16:11:20.472Z"
   },
   {
    "duration": 13,
    "start_time": "2022-01-25T16:11:20.485Z"
   },
   {
    "duration": 6,
    "start_time": "2022-01-25T16:11:20.499Z"
   },
   {
    "duration": 12,
    "start_time": "2022-01-25T16:11:20.507Z"
   },
   {
    "duration": 13,
    "start_time": "2022-01-25T16:11:20.521Z"
   },
   {
    "duration": 18,
    "start_time": "2022-01-25T16:11:20.536Z"
   },
   {
    "duration": 8,
    "start_time": "2022-01-25T16:11:20.555Z"
   },
   {
    "duration": 38,
    "start_time": "2022-01-25T16:11:20.564Z"
   },
   {
    "duration": 22,
    "start_time": "2022-01-25T16:11:20.604Z"
   },
   {
    "duration": 16,
    "start_time": "2022-01-25T16:11:20.630Z"
   },
   {
    "duration": 8,
    "start_time": "2022-01-25T16:11:20.648Z"
   },
   {
    "duration": 19,
    "start_time": "2022-01-25T16:11:20.658Z"
   },
   {
    "duration": 18,
    "start_time": "2022-01-25T16:11:20.679Z"
   },
   {
    "duration": 23,
    "start_time": "2022-01-25T16:11:20.699Z"
   },
   {
    "duration": 6,
    "start_time": "2022-01-25T16:11:20.723Z"
   },
   {
    "duration": 35,
    "start_time": "2022-01-25T16:11:20.731Z"
   },
   {
    "duration": 9,
    "start_time": "2022-01-25T16:11:20.767Z"
   },
   {
    "duration": 11,
    "start_time": "2022-01-25T16:11:20.778Z"
   },
   {
    "duration": 72,
    "start_time": "2022-01-25T16:11:20.790Z"
   },
   {
    "duration": 562,
    "start_time": "2022-01-25T16:11:20.864Z"
   },
   {
    "duration": 20,
    "start_time": "2022-01-25T16:11:21.427Z"
   },
   {
    "duration": 5,
    "start_time": "2022-01-25T16:11:21.448Z"
   },
   {
    "duration": 180,
    "start_time": "2022-01-25T16:11:21.455Z"
   },
   {
    "duration": 76,
    "start_time": "2022-01-25T16:11:21.636Z"
   },
   {
    "duration": 6,
    "start_time": "2022-01-25T16:11:21.713Z"
   },
   {
    "duration": 448,
    "start_time": "2022-01-25T16:11:21.721Z"
   },
   {
    "duration": 3,
    "start_time": "2022-01-25T16:11:30.085Z"
   },
   {
    "duration": 51,
    "start_time": "2022-01-25T16:11:30.090Z"
   },
   {
    "duration": 9,
    "start_time": "2022-01-25T16:11:30.144Z"
   },
   {
    "duration": 30,
    "start_time": "2022-01-25T16:11:30.155Z"
   },
   {
    "duration": 15,
    "start_time": "2022-01-25T16:11:30.187Z"
   },
   {
    "duration": 19,
    "start_time": "2022-01-25T16:11:30.203Z"
   },
   {
    "duration": 23,
    "start_time": "2022-01-25T16:11:30.223Z"
   },
   {
    "duration": 53,
    "start_time": "2022-01-25T16:11:30.250Z"
   },
   {
    "duration": 16,
    "start_time": "2022-01-25T16:11:30.306Z"
   },
   {
    "duration": 36,
    "start_time": "2022-01-25T16:11:30.324Z"
   },
   {
    "duration": 38,
    "start_time": "2022-01-25T16:11:30.362Z"
   },
   {
    "duration": 31,
    "start_time": "2022-01-25T16:11:30.402Z"
   },
   {
    "duration": 39,
    "start_time": "2022-01-25T16:11:30.435Z"
   },
   {
    "duration": 18,
    "start_time": "2022-01-25T16:11:30.476Z"
   },
   {
    "duration": 10,
    "start_time": "2022-01-25T16:11:30.495Z"
   },
   {
    "duration": 19,
    "start_time": "2022-01-25T16:11:30.507Z"
   },
   {
    "duration": 23,
    "start_time": "2022-01-25T16:11:30.528Z"
   },
   {
    "duration": 21,
    "start_time": "2022-01-25T16:11:30.553Z"
   },
   {
    "duration": 27,
    "start_time": "2022-01-25T16:11:30.576Z"
   },
   {
    "duration": 10,
    "start_time": "2022-01-25T16:11:30.605Z"
   },
   {
    "duration": 15,
    "start_time": "2022-01-25T16:11:30.617Z"
   },
   {
    "duration": 33,
    "start_time": "2022-01-25T16:11:30.633Z"
   },
   {
    "duration": 17,
    "start_time": "2022-01-25T16:11:30.669Z"
   },
   {
    "duration": 20,
    "start_time": "2022-01-25T16:11:30.689Z"
   },
   {
    "duration": 69,
    "start_time": "2022-01-25T16:11:30.711Z"
   },
   {
    "duration": 16,
    "start_time": "2022-01-25T16:11:30.782Z"
   },
   {
    "duration": 25,
    "start_time": "2022-01-25T16:11:30.800Z"
   },
   {
    "duration": 4,
    "start_time": "2022-01-25T16:11:30.827Z"
   },
   {
    "duration": 41,
    "start_time": "2022-01-25T16:11:30.833Z"
   },
   {
    "duration": 34,
    "start_time": "2022-01-25T16:11:30.876Z"
   },
   {
    "duration": 23,
    "start_time": "2022-01-25T16:11:30.912Z"
   },
   {
    "duration": 39,
    "start_time": "2022-01-25T16:11:30.936Z"
   },
   {
    "duration": 560,
    "start_time": "2022-01-25T16:11:30.977Z"
   },
   {
    "duration": 19,
    "start_time": "2022-01-25T16:11:31.539Z"
   },
   {
    "duration": 24,
    "start_time": "2022-01-25T16:11:31.560Z"
   },
   {
    "duration": 173,
    "start_time": "2022-01-25T16:11:31.586Z"
   },
   {
    "duration": 74,
    "start_time": "2022-01-25T16:11:31.761Z"
   },
   {
    "duration": 5,
    "start_time": "2022-01-25T16:11:31.837Z"
   },
   {
    "duration": 504,
    "start_time": "2022-01-25T16:11:31.843Z"
   },
   {
    "duration": 2025,
    "start_time": "2022-01-25T16:11:32.349Z"
   },
   {
    "duration": 22,
    "start_time": "2022-01-25T16:11:34.376Z"
   },
   {
    "duration": 17,
    "start_time": "2022-01-25T16:11:34.399Z"
   },
   {
    "duration": 10,
    "start_time": "2022-01-25T16:11:34.417Z"
   },
   {
    "duration": 18,
    "start_time": "2022-01-25T16:11:40.039Z"
   },
   {
    "duration": 27,
    "start_time": "2022-01-25T16:11:44.000Z"
   },
   {
    "duration": 2560,
    "start_time": "2022-01-25T16:11:45.082Z"
   },
   {
    "duration": 19,
    "start_time": "2022-01-25T16:13:00.924Z"
   },
   {
    "duration": 12,
    "start_time": "2022-01-25T16:13:03.128Z"
   },
   {
    "duration": 4,
    "start_time": "2022-01-25T16:13:06.540Z"
   },
   {
    "duration": 38,
    "start_time": "2022-01-25T16:13:06.546Z"
   },
   {
    "duration": 13,
    "start_time": "2022-01-25T16:13:06.586Z"
   },
   {
    "duration": 16,
    "start_time": "2022-01-25T16:13:06.602Z"
   },
   {
    "duration": 6,
    "start_time": "2022-01-25T16:13:06.620Z"
   },
   {
    "duration": 15,
    "start_time": "2022-01-25T16:13:06.628Z"
   },
   {
    "duration": 14,
    "start_time": "2022-01-25T16:13:06.645Z"
   },
   {
    "duration": 71,
    "start_time": "2022-01-25T16:13:06.662Z"
   },
   {
    "duration": 16,
    "start_time": "2022-01-25T16:13:06.735Z"
   },
   {
    "duration": 22,
    "start_time": "2022-01-25T16:13:06.753Z"
   },
   {
    "duration": 32,
    "start_time": "2022-01-25T16:13:06.776Z"
   },
   {
    "duration": 16,
    "start_time": "2022-01-25T16:13:06.810Z"
   },
   {
    "duration": 21,
    "start_time": "2022-01-25T16:13:06.828Z"
   },
   {
    "duration": 7,
    "start_time": "2022-01-25T16:13:06.850Z"
   },
   {
    "duration": 10,
    "start_time": "2022-01-25T16:13:06.859Z"
   },
   {
    "duration": 2,
    "start_time": "2022-01-25T16:13:06.897Z"
   },
   {
    "duration": 17,
    "start_time": "2022-01-25T16:13:06.900Z"
   },
   {
    "duration": 14,
    "start_time": "2022-01-25T16:13:06.919Z"
   },
   {
    "duration": 18,
    "start_time": "2022-01-25T16:13:06.935Z"
   },
   {
    "duration": 7,
    "start_time": "2022-01-25T16:13:06.955Z"
   },
   {
    "duration": 33,
    "start_time": "2022-01-25T16:13:06.964Z"
   },
   {
    "duration": 18,
    "start_time": "2022-01-25T16:13:06.999Z"
   },
   {
    "duration": 28,
    "start_time": "2022-01-25T16:13:07.020Z"
   },
   {
    "duration": 5,
    "start_time": "2022-01-25T16:13:07.050Z"
   },
   {
    "duration": 27,
    "start_time": "2022-01-25T16:13:07.056Z"
   },
   {
    "duration": 20,
    "start_time": "2022-01-25T16:13:07.085Z"
   },
   {
    "duration": 16,
    "start_time": "2022-01-25T16:13:07.108Z"
   },
   {
    "duration": 2,
    "start_time": "2022-01-25T16:13:07.126Z"
   },
   {
    "duration": 24,
    "start_time": "2022-01-25T16:13:07.130Z"
   },
   {
    "duration": 11,
    "start_time": "2022-01-25T16:13:07.157Z"
   },
   {
    "duration": 5,
    "start_time": "2022-01-25T16:13:15.533Z"
   },
   {
    "duration": 14,
    "start_time": "2022-01-25T16:13:16.274Z"
   },
   {
    "duration": 530,
    "start_time": "2022-01-25T16:13:18.107Z"
   },
   {
    "duration": 272,
    "start_time": "2022-01-25T16:13:35.137Z"
   },
   {
    "duration": 19,
    "start_time": "2022-01-25T16:14:38.791Z"
   },
   {
    "duration": 11,
    "start_time": "2022-01-25T16:14:41.271Z"
   },
   {
    "duration": 3,
    "start_time": "2022-01-25T16:14:47.067Z"
   },
   {
    "duration": 49,
    "start_time": "2022-01-25T16:14:47.072Z"
   },
   {
    "duration": 10,
    "start_time": "2022-01-25T16:14:47.123Z"
   },
   {
    "duration": 23,
    "start_time": "2022-01-25T16:14:47.135Z"
   },
   {
    "duration": 11,
    "start_time": "2022-01-25T16:14:47.159Z"
   },
   {
    "duration": 36,
    "start_time": "2022-01-25T16:14:47.172Z"
   },
   {
    "duration": 12,
    "start_time": "2022-01-25T16:14:47.212Z"
   },
   {
    "duration": 41,
    "start_time": "2022-01-25T16:14:47.226Z"
   },
   {
    "duration": 42,
    "start_time": "2022-01-25T16:14:47.268Z"
   },
   {
    "duration": 26,
    "start_time": "2022-01-25T16:14:47.312Z"
   },
   {
    "duration": 18,
    "start_time": "2022-01-25T16:14:47.339Z"
   },
   {
    "duration": 20,
    "start_time": "2022-01-25T16:14:47.359Z"
   },
   {
    "duration": 34,
    "start_time": "2022-01-25T16:14:47.381Z"
   },
   {
    "duration": 9,
    "start_time": "2022-01-25T16:14:47.417Z"
   },
   {
    "duration": 4,
    "start_time": "2022-01-25T16:14:47.428Z"
   },
   {
    "duration": 14,
    "start_time": "2022-01-25T16:14:47.434Z"
   },
   {
    "duration": 14,
    "start_time": "2022-01-25T16:14:47.451Z"
   },
   {
    "duration": 44,
    "start_time": "2022-01-25T16:14:47.466Z"
   },
   {
    "duration": 22,
    "start_time": "2022-01-25T16:14:47.514Z"
   },
   {
    "duration": 9,
    "start_time": "2022-01-25T16:14:47.538Z"
   },
   {
    "duration": 13,
    "start_time": "2022-01-25T16:14:47.548Z"
   },
   {
    "duration": 36,
    "start_time": "2022-01-25T16:14:47.563Z"
   },
   {
    "duration": 24,
    "start_time": "2022-01-25T16:14:47.601Z"
   },
   {
    "duration": 22,
    "start_time": "2022-01-25T16:14:47.627Z"
   },
   {
    "duration": 15,
    "start_time": "2022-01-25T16:14:47.651Z"
   },
   {
    "duration": 12,
    "start_time": "2022-01-25T16:14:47.668Z"
   },
   {
    "duration": 21,
    "start_time": "2022-01-25T16:14:47.682Z"
   },
   {
    "duration": 3,
    "start_time": "2022-01-25T16:14:47.705Z"
   },
   {
    "duration": 40,
    "start_time": "2022-01-25T16:14:47.710Z"
   },
   {
    "duration": 10,
    "start_time": "2022-01-25T16:14:47.752Z"
   },
   {
    "duration": 6,
    "start_time": "2022-01-25T16:14:58.767Z"
   },
   {
    "duration": 21,
    "start_time": "2022-01-25T16:14:59.487Z"
   },
   {
    "duration": 592,
    "start_time": "2022-01-25T16:15:01.379Z"
   },
   {
    "duration": 19,
    "start_time": "2022-01-25T16:15:06.916Z"
   },
   {
    "duration": 6,
    "start_time": "2022-01-25T16:15:08.447Z"
   },
   {
    "duration": 59,
    "start_time": "2022-01-25T16:15:10.068Z"
   },
   {
    "duration": 6,
    "start_time": "2022-01-25T16:15:12.198Z"
   },
   {
    "duration": 416,
    "start_time": "2022-01-25T16:15:14.323Z"
   },
   {
    "duration": 20,
    "start_time": "2022-01-25T16:16:25.812Z"
   },
   {
    "duration": 182,
    "start_time": "2022-01-25T16:16:37.438Z"
   },
   {
    "duration": 19,
    "start_time": "2022-01-25T16:16:44.083Z"
   },
   {
    "duration": 12,
    "start_time": "2022-01-25T16:16:46.110Z"
   },
   {
    "duration": 3,
    "start_time": "2022-01-25T16:16:55.066Z"
   },
   {
    "duration": 43,
    "start_time": "2022-01-25T16:16:55.071Z"
   },
   {
    "duration": 10,
    "start_time": "2022-01-25T16:16:55.117Z"
   },
   {
    "duration": 17,
    "start_time": "2022-01-25T16:16:55.129Z"
   },
   {
    "duration": 9,
    "start_time": "2022-01-25T16:16:55.148Z"
   },
   {
    "duration": 46,
    "start_time": "2022-01-25T16:16:55.159Z"
   },
   {
    "duration": 18,
    "start_time": "2022-01-25T16:16:55.208Z"
   },
   {
    "duration": 59,
    "start_time": "2022-01-25T16:16:55.229Z"
   },
   {
    "duration": 21,
    "start_time": "2022-01-25T16:16:55.290Z"
   },
   {
    "duration": 21,
    "start_time": "2022-01-25T16:16:55.313Z"
   },
   {
    "duration": 20,
    "start_time": "2022-01-25T16:16:55.336Z"
   },
   {
    "duration": 45,
    "start_time": "2022-01-25T16:16:55.358Z"
   },
   {
    "duration": 21,
    "start_time": "2022-01-25T16:16:55.405Z"
   },
   {
    "duration": 8,
    "start_time": "2022-01-25T16:16:55.428Z"
   },
   {
    "duration": 5,
    "start_time": "2022-01-25T16:16:55.438Z"
   },
   {
    "duration": 6,
    "start_time": "2022-01-25T16:16:55.445Z"
   },
   {
    "duration": 13,
    "start_time": "2022-01-25T16:16:55.453Z"
   },
   {
    "duration": 41,
    "start_time": "2022-01-25T16:16:55.468Z"
   },
   {
    "duration": 19,
    "start_time": "2022-01-25T16:16:55.511Z"
   },
   {
    "duration": 9,
    "start_time": "2022-01-25T16:16:55.532Z"
   },
   {
    "duration": 9,
    "start_time": "2022-01-25T16:16:55.543Z"
   },
   {
    "duration": 48,
    "start_time": "2022-01-25T16:16:55.554Z"
   },
   {
    "duration": 17,
    "start_time": "2022-01-25T16:16:55.605Z"
   },
   {
    "duration": 11,
    "start_time": "2022-01-25T16:16:55.625Z"
   },
   {
    "duration": 27,
    "start_time": "2022-01-25T16:16:55.637Z"
   },
   {
    "duration": 9,
    "start_time": "2022-01-25T16:16:55.666Z"
   },
   {
    "duration": 24,
    "start_time": "2022-01-25T16:16:55.677Z"
   },
   {
    "duration": 2,
    "start_time": "2022-01-25T16:16:55.703Z"
   },
   {
    "duration": 31,
    "start_time": "2022-01-25T16:16:55.706Z"
   },
   {
    "duration": 10,
    "start_time": "2022-01-25T16:16:55.739Z"
   },
   {
    "duration": 12,
    "start_time": "2022-01-25T16:16:55.751Z"
   },
   {
    "duration": 23,
    "start_time": "2022-01-25T16:16:55.765Z"
   },
   {
    "duration": 651,
    "start_time": "2022-01-25T16:16:55.790Z"
   },
   {
    "duration": 18,
    "start_time": "2022-01-25T16:16:56.443Z"
   },
   {
    "duration": 5,
    "start_time": "2022-01-25T16:16:56.462Z"
   },
   {
    "duration": 157,
    "start_time": "2022-01-25T16:16:57.622Z"
   },
   {
    "duration": 7,
    "start_time": "2022-01-25T16:16:58.416Z"
   },
   {
    "duration": 155,
    "start_time": "2022-01-25T16:16:59.129Z"
   },
   {
    "duration": 68,
    "start_time": "2022-01-25T16:17:00.392Z"
   },
   {
    "duration": 6,
    "start_time": "2022-01-25T16:17:02.262Z"
   },
   {
    "duration": 422,
    "start_time": "2022-01-25T16:17:03.815Z"
   },
   {
    "duration": 2044,
    "start_time": "2022-01-25T16:17:13.162Z"
   },
   {
    "duration": 17,
    "start_time": "2022-01-25T16:17:20.201Z"
   },
   {
    "duration": 17,
    "start_time": "2022-01-25T16:17:21.455Z"
   },
   {
    "duration": 13,
    "start_time": "2022-01-25T16:17:22.542Z"
   },
   {
    "duration": 26,
    "start_time": "2022-01-25T16:17:23.079Z"
   },
   {
    "duration": 28,
    "start_time": "2022-01-25T16:17:31.897Z"
   },
   {
    "duration": 2740,
    "start_time": "2022-01-25T16:17:36.473Z"
   },
   {
    "duration": 20,
    "start_time": "2022-01-25T16:21:30.137Z"
   },
   {
    "duration": 10,
    "start_time": "2022-01-25T16:21:32.029Z"
   },
   {
    "duration": 3,
    "start_time": "2022-01-25T16:21:35.580Z"
   },
   {
    "duration": 43,
    "start_time": "2022-01-25T16:21:35.585Z"
   },
   {
    "duration": 11,
    "start_time": "2022-01-25T16:21:35.630Z"
   },
   {
    "duration": 15,
    "start_time": "2022-01-25T16:21:35.643Z"
   },
   {
    "duration": 8,
    "start_time": "2022-01-25T16:21:35.660Z"
   },
   {
    "duration": 15,
    "start_time": "2022-01-25T16:21:35.697Z"
   },
   {
    "duration": 21,
    "start_time": "2022-01-25T16:21:35.714Z"
   },
   {
    "duration": 49,
    "start_time": "2022-01-25T16:21:35.738Z"
   },
   {
    "duration": 19,
    "start_time": "2022-01-25T16:21:35.798Z"
   },
   {
    "duration": 24,
    "start_time": "2022-01-25T16:21:35.819Z"
   },
   {
    "duration": 40,
    "start_time": "2022-01-25T16:21:35.845Z"
   },
   {
    "duration": 34,
    "start_time": "2022-01-25T16:21:35.886Z"
   },
   {
    "duration": 29,
    "start_time": "2022-01-25T16:21:35.922Z"
   },
   {
    "duration": 18,
    "start_time": "2022-01-25T16:21:35.953Z"
   },
   {
    "duration": 4,
    "start_time": "2022-01-25T16:21:35.973Z"
   },
   {
    "duration": 11,
    "start_time": "2022-01-25T16:21:35.979Z"
   },
   {
    "duration": 31,
    "start_time": "2022-01-25T16:21:35.992Z"
   },
   {
    "duration": 17,
    "start_time": "2022-01-25T16:21:36.025Z"
   },
   {
    "duration": 32,
    "start_time": "2022-01-25T16:21:36.044Z"
   },
   {
    "duration": 8,
    "start_time": "2022-01-25T16:21:36.078Z"
   },
   {
    "duration": 18,
    "start_time": "2022-01-25T16:21:36.088Z"
   },
   {
    "duration": 18,
    "start_time": "2022-01-25T16:21:36.108Z"
   },
   {
    "duration": 18,
    "start_time": "2022-01-25T16:21:36.131Z"
   },
   {
    "duration": 2,
    "start_time": "2022-01-25T16:21:36.151Z"
   },
   {
    "duration": 42,
    "start_time": "2022-01-25T16:21:36.155Z"
   },
   {
    "duration": 7,
    "start_time": "2022-01-25T16:21:36.199Z"
   },
   {
    "duration": 18,
    "start_time": "2022-01-25T16:21:36.208Z"
   },
   {
    "duration": 2,
    "start_time": "2022-01-25T16:21:36.228Z"
   },
   {
    "duration": 26,
    "start_time": "2022-01-25T16:21:36.232Z"
   },
   {
    "duration": 10,
    "start_time": "2022-01-25T16:21:36.260Z"
   },
   {
    "duration": 6,
    "start_time": "2022-01-25T16:21:43.191Z"
   },
   {
    "duration": 16,
    "start_time": "2022-01-25T16:21:43.956Z"
   },
   {
    "duration": 4,
    "start_time": "2022-01-25T16:21:57.508Z"
   },
   {
    "duration": 49,
    "start_time": "2022-01-25T16:21:57.515Z"
   },
   {
    "duration": 11,
    "start_time": "2022-01-25T16:21:57.567Z"
   },
   {
    "duration": 29,
    "start_time": "2022-01-25T16:21:57.581Z"
   },
   {
    "duration": 10,
    "start_time": "2022-01-25T16:21:57.611Z"
   },
   {
    "duration": 19,
    "start_time": "2022-01-25T16:21:57.622Z"
   },
   {
    "duration": 23,
    "start_time": "2022-01-25T16:21:57.643Z"
   },
   {
    "duration": 73,
    "start_time": "2022-01-25T16:21:57.668Z"
   },
   {
    "duration": 17,
    "start_time": "2022-01-25T16:21:57.743Z"
   },
   {
    "duration": 45,
    "start_time": "2022-01-25T16:21:57.762Z"
   },
   {
    "duration": 15,
    "start_time": "2022-01-25T16:21:57.809Z"
   },
   {
    "duration": 21,
    "start_time": "2022-01-25T16:21:57.826Z"
   },
   {
    "duration": 20,
    "start_time": "2022-01-25T16:21:57.850Z"
   },
   {
    "duration": 33,
    "start_time": "2022-01-25T16:21:57.871Z"
   },
   {
    "duration": 4,
    "start_time": "2022-01-25T16:21:57.906Z"
   },
   {
    "duration": 23,
    "start_time": "2022-01-25T16:21:57.912Z"
   },
   {
    "duration": 15,
    "start_time": "2022-01-25T16:21:57.937Z"
   },
   {
    "duration": 15,
    "start_time": "2022-01-25T16:21:57.954Z"
   },
   {
    "duration": 47,
    "start_time": "2022-01-25T16:21:57.971Z"
   },
   {
    "duration": 9,
    "start_time": "2022-01-25T16:21:58.020Z"
   },
   {
    "duration": 10,
    "start_time": "2022-01-25T16:21:58.031Z"
   },
   {
    "duration": 16,
    "start_time": "2022-01-25T16:21:58.043Z"
   },
   {
    "duration": 43,
    "start_time": "2022-01-25T16:21:58.062Z"
   },
   {
    "duration": 2,
    "start_time": "2022-01-25T16:21:58.107Z"
   },
   {
    "duration": 17,
    "start_time": "2022-01-25T16:21:58.111Z"
   },
   {
    "duration": 7,
    "start_time": "2022-01-25T16:21:58.130Z"
   },
   {
    "duration": 20,
    "start_time": "2022-01-25T16:21:58.139Z"
   },
   {
    "duration": 2,
    "start_time": "2022-01-25T16:21:58.161Z"
   },
   {
    "duration": 48,
    "start_time": "2022-01-25T16:21:58.165Z"
   },
   {
    "duration": 11,
    "start_time": "2022-01-25T16:21:58.215Z"
   },
   {
    "duration": 11,
    "start_time": "2022-01-25T16:21:58.228Z"
   },
   {
    "duration": 25,
    "start_time": "2022-01-25T16:21:58.241Z"
   },
   {
    "duration": 589,
    "start_time": "2022-01-25T16:21:58.268Z"
   },
   {
    "duration": 19,
    "start_time": "2022-01-25T16:21:58.858Z"
   },
   {
    "duration": 19,
    "start_time": "2022-01-25T16:21:58.879Z"
   },
   {
    "duration": 171,
    "start_time": "2022-01-25T16:21:58.900Z"
   },
   {
    "duration": 69,
    "start_time": "2022-01-25T16:21:59.073Z"
   },
   {
    "duration": 7,
    "start_time": "2022-01-25T16:21:59.143Z"
   },
   {
    "duration": 440,
    "start_time": "2022-01-25T16:21:59.152Z"
   },
   {
    "duration": 2403,
    "start_time": "2022-01-25T16:21:59.594Z"
   },
   {
    "duration": 19,
    "start_time": "2022-01-25T16:22:01.999Z"
   },
   {
    "duration": 24,
    "start_time": "2022-01-25T16:22:02.020Z"
   },
   {
    "duration": 8,
    "start_time": "2022-01-25T16:22:02.046Z"
   },
   {
    "duration": 42,
    "start_time": "2022-01-25T16:22:02.056Z"
   },
   {
    "duration": 33,
    "start_time": "2022-01-25T16:22:02.099Z"
   },
   {
    "duration": 1163,
    "start_time": "2022-01-25T16:23:01.421Z"
   },
   {
    "duration": 40,
    "start_time": "2022-01-25T16:23:02.586Z"
   },
   {
    "duration": 12,
    "start_time": "2022-01-25T16:23:02.628Z"
   },
   {
    "duration": 28,
    "start_time": "2022-01-25T16:23:02.642Z"
   },
   {
    "duration": 5,
    "start_time": "2022-01-25T16:23:02.672Z"
   },
   {
    "duration": 32,
    "start_time": "2022-01-25T16:23:02.679Z"
   },
   {
    "duration": 24,
    "start_time": "2022-01-25T16:23:02.713Z"
   },
   {
    "duration": 61,
    "start_time": "2022-01-25T16:23:02.740Z"
   },
   {
    "duration": 18,
    "start_time": "2022-01-25T16:23:02.804Z"
   },
   {
    "duration": 26,
    "start_time": "2022-01-25T16:23:02.824Z"
   },
   {
    "duration": 45,
    "start_time": "2022-01-25T16:23:02.852Z"
   },
   {
    "duration": 20,
    "start_time": "2022-01-25T16:23:02.899Z"
   },
   {
    "duration": 24,
    "start_time": "2022-01-25T16:23:02.921Z"
   },
   {
    "duration": 9,
    "start_time": "2022-01-25T16:23:02.947Z"
   },
   {
    "duration": 9,
    "start_time": "2022-01-25T16:23:02.957Z"
   },
   {
    "duration": 32,
    "start_time": "2022-01-25T16:23:02.968Z"
   },
   {
    "duration": 33,
    "start_time": "2022-01-25T16:23:03.002Z"
   },
   {
    "duration": 16,
    "start_time": "2022-01-25T16:23:03.037Z"
   },
   {
    "duration": 29,
    "start_time": "2022-01-25T16:23:03.055Z"
   },
   {
    "duration": 10,
    "start_time": "2022-01-25T16:23:03.085Z"
   },
   {
    "duration": 9,
    "start_time": "2022-01-25T16:23:03.097Z"
   },
   {
    "duration": 21,
    "start_time": "2022-01-25T16:23:03.108Z"
   },
   {
    "duration": 19,
    "start_time": "2022-01-25T16:23:03.133Z"
   },
   {
    "duration": 8,
    "start_time": "2022-01-25T16:23:03.155Z"
   },
   {
    "duration": 36,
    "start_time": "2022-01-25T16:23:03.165Z"
   },
   {
    "duration": 7,
    "start_time": "2022-01-25T16:23:03.203Z"
   },
   {
    "duration": 23,
    "start_time": "2022-01-25T16:23:03.211Z"
   },
   {
    "duration": 24,
    "start_time": "2022-01-25T16:23:03.236Z"
   },
   {
    "duration": 26,
    "start_time": "2022-01-25T16:23:03.262Z"
   },
   {
    "duration": 12,
    "start_time": "2022-01-25T16:23:03.290Z"
   },
   {
    "duration": 8,
    "start_time": "2022-01-25T16:23:03.303Z"
   },
   {
    "duration": 17,
    "start_time": "2022-01-25T16:23:03.313Z"
   },
   {
    "duration": 603,
    "start_time": "2022-01-25T16:23:03.332Z"
   },
   {
    "duration": 21,
    "start_time": "2022-01-25T16:23:03.937Z"
   },
   {
    "duration": 6,
    "start_time": "2022-01-25T16:23:03.960Z"
   },
   {
    "duration": 186,
    "start_time": "2022-01-25T16:23:03.968Z"
   },
   {
    "duration": 74,
    "start_time": "2022-01-25T16:23:04.156Z"
   },
   {
    "duration": 6,
    "start_time": "2022-01-25T16:23:04.232Z"
   },
   {
    "duration": 434,
    "start_time": "2022-01-25T16:23:04.240Z"
   },
   {
    "duration": 2690,
    "start_time": "2022-01-25T16:23:04.676Z"
   },
   {
    "duration": 17,
    "start_time": "2022-01-25T16:23:07.368Z"
   },
   {
    "duration": 17,
    "start_time": "2022-01-25T16:23:07.398Z"
   },
   {
    "duration": 9,
    "start_time": "2022-01-25T16:23:07.417Z"
   },
   {
    "duration": 23,
    "start_time": "2022-01-25T16:23:07.427Z"
   },
   {
    "duration": 51,
    "start_time": "2022-01-25T16:23:07.452Z"
   },
   {
    "duration": 2692,
    "start_time": "2022-01-25T16:23:07.505Z"
   },
   {
    "duration": 454,
    "start_time": "2022-01-25T16:23:10.198Z"
   },
   {
    "duration": 1387,
    "start_time": "2022-01-25T16:23:10.654Z"
   },
   {
    "duration": 562,
    "start_time": "2022-01-25T16:23:12.043Z"
   },
   {
    "duration": 955,
    "start_time": "2022-01-25T16:23:12.607Z"
   },
   {
    "duration": 358,
    "start_time": "2022-01-25T16:23:13.565Z"
   },
   {
    "duration": 12,
    "start_time": "2022-01-25T16:23:13.925Z"
   },
   {
    "duration": 377,
    "start_time": "2022-01-25T16:23:13.940Z"
   },
   {
    "duration": 2536,
    "start_time": "2022-01-25T16:23:14.319Z"
   },
   {
    "duration": 414,
    "start_time": "2022-01-25T16:23:16.857Z"
   },
   {
    "duration": 43,
    "start_time": "2022-01-25T16:23:17.230Z"
   },
   {
    "duration": 42,
    "start_time": "2022-01-25T16:23:17.233Z"
   },
   {
    "duration": 41,
    "start_time": "2022-01-25T16:23:17.235Z"
   },
   {
    "duration": 39,
    "start_time": "2022-01-25T16:23:17.238Z"
   },
   {
    "duration": 38,
    "start_time": "2022-01-25T16:23:17.240Z"
   },
   {
    "duration": 37,
    "start_time": "2022-01-25T16:23:17.242Z"
   },
   {
    "duration": 36,
    "start_time": "2022-01-25T16:23:17.244Z"
   },
   {
    "duration": 46,
    "start_time": "2022-01-25T16:23:17.251Z"
   },
   {
    "duration": 45,
    "start_time": "2022-01-25T16:23:17.253Z"
   },
   {
    "duration": 44,
    "start_time": "2022-01-25T16:23:17.255Z"
   },
   {
    "duration": 42,
    "start_time": "2022-01-25T16:23:17.257Z"
   },
   {
    "duration": 41,
    "start_time": "2022-01-25T16:23:17.260Z"
   },
   {
    "duration": 188,
    "start_time": "2022-01-25T16:27:18.718Z"
   },
   {
    "duration": 213,
    "start_time": "2022-01-25T16:27:29.995Z"
   },
   {
    "duration": 180,
    "start_time": "2022-01-25T16:28:06.043Z"
   },
   {
    "duration": 3,
    "start_time": "2022-01-25T16:28:11.312Z"
   },
   {
    "duration": 56,
    "start_time": "2022-01-25T16:28:11.317Z"
   },
   {
    "duration": 12,
    "start_time": "2022-01-25T16:28:11.375Z"
   },
   {
    "duration": 17,
    "start_time": "2022-01-25T16:28:11.390Z"
   },
   {
    "duration": 17,
    "start_time": "2022-01-25T16:28:11.409Z"
   },
   {
    "duration": 21,
    "start_time": "2022-01-25T16:28:11.428Z"
   },
   {
    "duration": 21,
    "start_time": "2022-01-25T16:28:11.451Z"
   },
   {
    "duration": 51,
    "start_time": "2022-01-25T16:28:11.474Z"
   },
   {
    "duration": 18,
    "start_time": "2022-01-25T16:28:11.528Z"
   },
   {
    "duration": 31,
    "start_time": "2022-01-25T16:28:11.548Z"
   },
   {
    "duration": 29,
    "start_time": "2022-01-25T16:28:11.582Z"
   },
   {
    "duration": 24,
    "start_time": "2022-01-25T16:28:11.613Z"
   },
   {
    "duration": 27,
    "start_time": "2022-01-25T16:28:11.639Z"
   },
   {
    "duration": 29,
    "start_time": "2022-01-25T16:28:11.669Z"
   },
   {
    "duration": 212,
    "start_time": "2022-01-25T16:28:11.700Z"
   },
   {
    "duration": 42,
    "start_time": "2022-01-25T16:28:11.871Z"
   },
   {
    "duration": 8,
    "start_time": "2022-01-25T16:28:56.644Z"
   },
   {
    "duration": 180,
    "start_time": "2022-01-25T16:29:09.888Z"
   },
   {
    "duration": 3,
    "start_time": "2022-01-25T16:29:20.613Z"
   },
   {
    "duration": 43,
    "start_time": "2022-01-25T16:29:20.618Z"
   },
   {
    "duration": 11,
    "start_time": "2022-01-25T16:29:20.663Z"
   },
   {
    "duration": 19,
    "start_time": "2022-01-25T16:29:20.676Z"
   },
   {
    "duration": 12,
    "start_time": "2022-01-25T16:29:20.697Z"
   },
   {
    "duration": 21,
    "start_time": "2022-01-25T16:29:20.711Z"
   },
   {
    "duration": 15,
    "start_time": "2022-01-25T16:29:20.734Z"
   },
   {
    "duration": 58,
    "start_time": "2022-01-25T16:29:20.752Z"
   },
   {
    "duration": 17,
    "start_time": "2022-01-25T16:29:20.812Z"
   },
   {
    "duration": 23,
    "start_time": "2022-01-25T16:29:20.831Z"
   },
   {
    "duration": 14,
    "start_time": "2022-01-25T16:29:20.856Z"
   },
   {
    "duration": 42,
    "start_time": "2022-01-25T16:29:20.871Z"
   },
   {
    "duration": 24,
    "start_time": "2022-01-25T16:29:20.915Z"
   },
   {
    "duration": 9,
    "start_time": "2022-01-25T16:29:20.941Z"
   },
   {
    "duration": 574,
    "start_time": "2022-01-25T16:29:20.951Z"
   },
   {
    "duration": 196,
    "start_time": "2022-01-25T16:29:41.650Z"
   },
   {
    "duration": 231,
    "start_time": "2022-01-25T16:30:04.365Z"
   },
   {
    "duration": 8,
    "start_time": "2022-01-25T16:30:10.463Z"
   },
   {
    "duration": 184,
    "start_time": "2022-01-25T16:30:14.207Z"
   },
   {
    "duration": 3,
    "start_time": "2022-01-25T16:30:18.635Z"
   },
   {
    "duration": 41,
    "start_time": "2022-01-25T16:30:18.640Z"
   },
   {
    "duration": 11,
    "start_time": "2022-01-25T16:30:18.684Z"
   },
   {
    "duration": 16,
    "start_time": "2022-01-25T16:30:18.697Z"
   },
   {
    "duration": 6,
    "start_time": "2022-01-25T16:30:18.715Z"
   },
   {
    "duration": 16,
    "start_time": "2022-01-25T16:30:18.723Z"
   },
   {
    "duration": 14,
    "start_time": "2022-01-25T16:30:18.741Z"
   },
   {
    "duration": 73,
    "start_time": "2022-01-25T16:30:18.758Z"
   },
   {
    "duration": 17,
    "start_time": "2022-01-25T16:30:18.833Z"
   },
   {
    "duration": 20,
    "start_time": "2022-01-25T16:30:18.852Z"
   },
   {
    "duration": 35,
    "start_time": "2022-01-25T16:30:18.874Z"
   },
   {
    "duration": 21,
    "start_time": "2022-01-25T16:30:18.911Z"
   },
   {
    "duration": 23,
    "start_time": "2022-01-25T16:30:18.933Z"
   },
   {
    "duration": 18,
    "start_time": "2022-01-25T16:30:18.958Z"
   },
   {
    "duration": 25,
    "start_time": "2022-01-25T16:30:18.978Z"
   },
   {
    "duration": 4,
    "start_time": "2022-01-25T16:30:29.679Z"
   },
   {
    "duration": 67,
    "start_time": "2022-01-25T16:30:29.686Z"
   },
   {
    "duration": 11,
    "start_time": "2022-01-25T16:30:29.755Z"
   },
   {
    "duration": 21,
    "start_time": "2022-01-25T16:30:29.768Z"
   },
   {
    "duration": 12,
    "start_time": "2022-01-25T16:30:29.792Z"
   },
   {
    "duration": 19,
    "start_time": "2022-01-25T16:30:29.806Z"
   },
   {
    "duration": 17,
    "start_time": "2022-01-25T16:30:29.827Z"
   },
   {
    "duration": 63,
    "start_time": "2022-01-25T16:30:29.846Z"
   },
   {
    "duration": 17,
    "start_time": "2022-01-25T16:30:29.911Z"
   },
   {
    "duration": 23,
    "start_time": "2022-01-25T16:30:29.930Z"
   },
   {
    "duration": 42,
    "start_time": "2022-01-25T16:30:29.955Z"
   },
   {
    "duration": 23,
    "start_time": "2022-01-25T16:30:29.999Z"
   },
   {
    "duration": 33,
    "start_time": "2022-01-25T16:30:30.024Z"
   },
   {
    "duration": 10,
    "start_time": "2022-01-25T16:30:30.059Z"
   },
   {
    "duration": 44,
    "start_time": "2022-01-25T16:30:30.071Z"
   },
   {
    "duration": 10,
    "start_time": "2022-01-25T16:30:42.903Z"
   },
   {
    "duration": 14,
    "start_time": "2022-01-25T16:30:45.565Z"
   },
   {
    "duration": 203,
    "start_time": "2022-01-25T16:31:10.178Z"
   },
   {
    "duration": 208,
    "start_time": "2022-01-25T16:31:22.327Z"
   },
   {
    "duration": 3,
    "start_time": "2022-01-25T16:31:26.577Z"
   },
   {
    "duration": 47,
    "start_time": "2022-01-25T16:31:26.582Z"
   },
   {
    "duration": 10,
    "start_time": "2022-01-25T16:31:26.631Z"
   },
   {
    "duration": 16,
    "start_time": "2022-01-25T16:31:26.643Z"
   },
   {
    "duration": 7,
    "start_time": "2022-01-25T16:31:26.661Z"
   },
   {
    "duration": 41,
    "start_time": "2022-01-25T16:31:26.669Z"
   },
   {
    "duration": 17,
    "start_time": "2022-01-25T16:31:26.711Z"
   },
   {
    "duration": 46,
    "start_time": "2022-01-25T16:31:26.730Z"
   },
   {
    "duration": 34,
    "start_time": "2022-01-25T16:31:26.780Z"
   },
   {
    "duration": 21,
    "start_time": "2022-01-25T16:31:26.817Z"
   },
   {
    "duration": 15,
    "start_time": "2022-01-25T16:31:26.840Z"
   },
   {
    "duration": 49,
    "start_time": "2022-01-25T16:31:26.857Z"
   },
   {
    "duration": 24,
    "start_time": "2022-01-25T16:31:26.908Z"
   },
   {
    "duration": 9,
    "start_time": "2022-01-25T16:31:26.934Z"
   },
   {
    "duration": 13,
    "start_time": "2022-01-25T16:31:26.945Z"
   },
   {
    "duration": 10,
    "start_time": "2022-01-25T16:31:26.959Z"
   },
   {
    "duration": 28,
    "start_time": "2022-01-25T16:31:26.971Z"
   },
   {
    "duration": 14,
    "start_time": "2022-01-25T16:31:27.001Z"
   },
   {
    "duration": 21,
    "start_time": "2022-01-25T16:31:27.016Z"
   },
   {
    "duration": 9,
    "start_time": "2022-01-25T16:31:27.038Z"
   },
   {
    "duration": 18,
    "start_time": "2022-01-25T16:31:27.049Z"
   },
   {
    "duration": 38,
    "start_time": "2022-01-25T16:31:27.069Z"
   },
   {
    "duration": 19,
    "start_time": "2022-01-25T16:31:27.109Z"
   },
   {
    "duration": 2,
    "start_time": "2022-01-25T16:31:27.130Z"
   },
   {
    "duration": 19,
    "start_time": "2022-01-25T16:31:27.134Z"
   },
   {
    "duration": 9,
    "start_time": "2022-01-25T16:31:27.155Z"
   },
   {
    "duration": 29,
    "start_time": "2022-01-25T16:31:27.168Z"
   },
   {
    "duration": 196,
    "start_time": "2022-01-25T16:31:27.199Z"
   },
   {
    "duration": 39,
    "start_time": "2022-01-25T16:31:27.358Z"
   },
   {
    "duration": 4,
    "start_time": "2022-01-25T16:35:05.450Z"
   },
   {
    "duration": 43,
    "start_time": "2022-01-25T16:35:05.456Z"
   },
   {
    "duration": 11,
    "start_time": "2022-01-25T16:35:05.502Z"
   },
   {
    "duration": 18,
    "start_time": "2022-01-25T16:35:05.515Z"
   },
   {
    "duration": 9,
    "start_time": "2022-01-25T16:35:05.535Z"
   },
   {
    "duration": 17,
    "start_time": "2022-01-25T16:35:05.546Z"
   },
   {
    "duration": 41,
    "start_time": "2022-01-25T16:35:05.565Z"
   },
   {
    "duration": 45,
    "start_time": "2022-01-25T16:35:05.609Z"
   },
   {
    "duration": 47,
    "start_time": "2022-01-25T16:35:05.657Z"
   },
   {
    "duration": 22,
    "start_time": "2022-01-25T16:35:05.707Z"
   },
   {
    "duration": 18,
    "start_time": "2022-01-25T16:35:05.731Z"
   },
   {
    "duration": 46,
    "start_time": "2022-01-25T16:35:05.751Z"
   },
   {
    "duration": 21,
    "start_time": "2022-01-25T16:35:05.799Z"
   },
   {
    "duration": 7,
    "start_time": "2022-01-25T16:35:05.822Z"
   },
   {
    "duration": 19,
    "start_time": "2022-01-25T16:35:05.831Z"
   },
   {
    "duration": 7,
    "start_time": "2022-01-25T16:35:05.852Z"
   },
   {
    "duration": 17,
    "start_time": "2022-01-25T16:35:05.861Z"
   },
   {
    "duration": 24,
    "start_time": "2022-01-25T16:35:05.879Z"
   },
   {
    "duration": 17,
    "start_time": "2022-01-25T16:35:05.904Z"
   },
   {
    "duration": 7,
    "start_time": "2022-01-25T16:35:05.923Z"
   },
   {
    "duration": 20,
    "start_time": "2022-01-25T16:35:05.932Z"
   },
   {
    "duration": 19,
    "start_time": "2022-01-25T16:35:05.954Z"
   },
   {
    "duration": 18,
    "start_time": "2022-01-25T16:35:05.996Z"
   },
   {
    "duration": 6,
    "start_time": "2022-01-25T16:35:06.016Z"
   },
   {
    "duration": 18,
    "start_time": "2022-01-25T16:35:06.024Z"
   },
   {
    "duration": 7,
    "start_time": "2022-01-25T16:35:06.043Z"
   },
   {
    "duration": 29,
    "start_time": "2022-01-25T16:35:06.052Z"
   },
   {
    "duration": 2,
    "start_time": "2022-01-25T16:35:06.083Z"
   },
   {
    "duration": 21,
    "start_time": "2022-01-25T16:35:06.097Z"
   },
   {
    "duration": 10,
    "start_time": "2022-01-25T16:35:09.914Z"
   },
   {
    "duration": 15,
    "start_time": "2022-01-25T16:35:12.102Z"
   },
   {
    "duration": 5,
    "start_time": "2022-01-25T16:35:14.381Z"
   },
   {
    "duration": 17,
    "start_time": "2022-01-25T16:35:15.006Z"
   },
   {
    "duration": 554,
    "start_time": "2022-01-25T16:35:16.753Z"
   },
   {
    "duration": 19,
    "start_time": "2022-01-25T16:35:19.156Z"
   },
   {
    "duration": 6,
    "start_time": "2022-01-25T16:35:20.460Z"
   },
   {
    "duration": 64,
    "start_time": "2022-01-25T16:35:23.915Z"
   },
   {
    "duration": 6,
    "start_time": "2022-01-25T16:35:26.121Z"
   },
   {
    "duration": 423,
    "start_time": "2022-01-25T16:35:28.177Z"
   },
   {
    "duration": 1184,
    "start_time": "2022-01-25T16:36:20.694Z"
   },
   {
    "duration": 39,
    "start_time": "2022-01-25T16:36:21.880Z"
   },
   {
    "duration": 11,
    "start_time": "2022-01-25T16:36:21.921Z"
   },
   {
    "duration": 23,
    "start_time": "2022-01-25T16:36:21.934Z"
   },
   {
    "duration": 9,
    "start_time": "2022-01-25T16:36:21.959Z"
   },
   {
    "duration": 33,
    "start_time": "2022-01-25T16:36:21.970Z"
   },
   {
    "duration": 36,
    "start_time": "2022-01-25T16:36:22.005Z"
   },
   {
    "duration": 58,
    "start_time": "2022-01-25T16:36:22.045Z"
   },
   {
    "duration": 16,
    "start_time": "2022-01-25T16:36:22.105Z"
   },
   {
    "duration": 30,
    "start_time": "2022-01-25T16:36:22.123Z"
   },
   {
    "duration": 14,
    "start_time": "2022-01-25T16:36:22.155Z"
   },
   {
    "duration": 40,
    "start_time": "2022-01-25T16:36:22.171Z"
   },
   {
    "duration": 20,
    "start_time": "2022-01-25T16:36:22.213Z"
   },
   {
    "duration": 11,
    "start_time": "2022-01-25T16:36:22.234Z"
   },
   {
    "duration": 9,
    "start_time": "2022-01-25T16:36:22.246Z"
   },
   {
    "duration": 6,
    "start_time": "2022-01-25T16:36:22.256Z"
   },
   {
    "duration": 36,
    "start_time": "2022-01-25T16:36:22.264Z"
   },
   {
    "duration": 15,
    "start_time": "2022-01-25T16:36:22.302Z"
   },
   {
    "duration": 26,
    "start_time": "2022-01-25T16:36:22.319Z"
   },
   {
    "duration": 8,
    "start_time": "2022-01-25T16:36:22.347Z"
   },
   {
    "duration": 27,
    "start_time": "2022-01-25T16:36:22.357Z"
   },
   {
    "duration": 22,
    "start_time": "2022-01-25T16:36:22.385Z"
   },
   {
    "duration": 20,
    "start_time": "2022-01-25T16:36:22.411Z"
   },
   {
    "duration": 2,
    "start_time": "2022-01-25T16:36:22.434Z"
   },
   {
    "duration": 19,
    "start_time": "2022-01-25T16:36:22.437Z"
   },
   {
    "duration": 8,
    "start_time": "2022-01-25T16:36:22.458Z"
   },
   {
    "duration": 29,
    "start_time": "2022-01-25T16:36:22.468Z"
   },
   {
    "duration": 4,
    "start_time": "2022-01-25T16:36:22.498Z"
   },
   {
    "duration": 24,
    "start_time": "2022-01-25T16:36:22.504Z"
   },
   {
    "duration": 9,
    "start_time": "2022-01-25T16:36:22.530Z"
   },
   {
    "duration": 18,
    "start_time": "2022-01-25T16:36:22.541Z"
   },
   {
    "duration": 13,
    "start_time": "2022-01-25T16:36:22.561Z"
   },
   {
    "duration": 32,
    "start_time": "2022-01-25T16:36:22.575Z"
   },
   {
    "duration": 606,
    "start_time": "2022-01-25T16:36:22.609Z"
   },
   {
    "duration": 19,
    "start_time": "2022-01-25T16:36:23.218Z"
   },
   {
    "duration": 60,
    "start_time": "2022-01-25T16:36:23.239Z"
   },
   {
    "duration": 309,
    "start_time": "2022-01-25T16:36:23.301Z"
   },
   {
    "duration": 115,
    "start_time": "2022-01-25T16:36:23.611Z"
   },
   {
    "duration": 5,
    "start_time": "2022-01-25T16:36:23.728Z"
   },
   {
    "duration": 467,
    "start_time": "2022-01-25T16:36:23.735Z"
   },
   {
    "duration": 2125,
    "start_time": "2022-01-25T16:36:24.203Z"
   },
   {
    "duration": 16,
    "start_time": "2022-01-25T16:36:26.330Z"
   },
   {
    "duration": 30,
    "start_time": "2022-01-25T16:36:26.348Z"
   },
   {
    "duration": 24,
    "start_time": "2022-01-25T16:36:26.379Z"
   },
   {
    "duration": 34,
    "start_time": "2022-01-25T16:36:26.405Z"
   },
   {
    "duration": 34,
    "start_time": "2022-01-25T16:36:26.441Z"
   },
   {
    "duration": 2989,
    "start_time": "2022-01-25T16:36:26.476Z"
   },
   {
    "duration": 479,
    "start_time": "2022-01-25T16:36:29.467Z"
   },
   {
    "duration": 1444,
    "start_time": "2022-01-25T16:36:29.948Z"
   },
   {
    "duration": 619,
    "start_time": "2022-01-25T16:36:31.397Z"
   },
   {
    "duration": 938,
    "start_time": "2022-01-25T16:36:32.018Z"
   },
   {
    "duration": 365,
    "start_time": "2022-01-25T16:36:32.958Z"
   },
   {
    "duration": 13,
    "start_time": "2022-01-25T16:36:33.325Z"
   },
   {
    "duration": 389,
    "start_time": "2022-01-25T16:36:33.340Z"
   },
   {
    "duration": 2596,
    "start_time": "2022-01-25T16:36:33.732Z"
   },
   {
    "duration": 409,
    "start_time": "2022-01-25T16:36:36.330Z"
   },
   {
    "duration": 75,
    "start_time": "2022-01-25T16:36:36.666Z"
   },
   {
    "duration": 69,
    "start_time": "2022-01-25T16:36:36.673Z"
   },
   {
    "duration": 63,
    "start_time": "2022-01-25T16:36:36.680Z"
   },
   {
    "duration": 60,
    "start_time": "2022-01-25T16:36:36.683Z"
   },
   {
    "duration": 59,
    "start_time": "2022-01-25T16:36:36.685Z"
   },
   {
    "duration": 58,
    "start_time": "2022-01-25T16:36:36.687Z"
   },
   {
    "duration": 57,
    "start_time": "2022-01-25T16:36:36.689Z"
   },
   {
    "duration": 56,
    "start_time": "2022-01-25T16:36:36.691Z"
   },
   {
    "duration": 54,
    "start_time": "2022-01-25T16:36:36.694Z"
   },
   {
    "duration": 53,
    "start_time": "2022-01-25T16:36:36.696Z"
   },
   {
    "duration": 52,
    "start_time": "2022-01-25T16:36:36.698Z"
   },
   {
    "duration": 52,
    "start_time": "2022-01-25T16:36:36.700Z"
   },
   {
    "duration": 59,
    "start_time": "2022-01-25T16:40:36.011Z"
   },
   {
    "duration": 547,
    "start_time": "2022-01-25T16:40:39.415Z"
   },
   {
    "duration": 5,
    "start_time": "2022-01-25T16:42:14.386Z"
   },
   {
    "duration": 5792,
    "start_time": "2022-01-25T16:42:22.918Z"
   },
   {
    "duration": 3260,
    "start_time": "2022-01-25T16:42:59.873Z"
   },
   {
    "duration": 426,
    "start_time": "2022-01-25T16:45:22.154Z"
   },
   {
    "duration": 415,
    "start_time": "2022-01-25T16:45:24.753Z"
   },
   {
    "duration": 600,
    "start_time": "2022-01-25T16:52:46.405Z"
   },
   {
    "duration": 948,
    "start_time": "2022-01-25T16:52:54.937Z"
   },
   {
    "duration": 632,
    "start_time": "2022-01-25T16:53:53.974Z"
   },
   {
    "duration": 189,
    "start_time": "2022-01-25T16:54:20.793Z"
   },
   {
    "duration": 1655,
    "start_time": "2022-01-25T16:54:30.084Z"
   },
   {
    "duration": 541,
    "start_time": "2022-01-25T16:55:03.756Z"
   },
   {
    "duration": 538,
    "start_time": "2022-01-25T16:55:10.539Z"
   },
   {
    "duration": 565,
    "start_time": "2022-01-25T16:55:45.068Z"
   },
   {
    "duration": 827,
    "start_time": "2022-01-25T16:55:53.354Z"
   },
   {
    "duration": 415,
    "start_time": "2022-01-25T16:56:33.438Z"
   },
   {
    "duration": 820,
    "start_time": "2022-01-25T16:56:45.845Z"
   },
   {
    "duration": 912,
    "start_time": "2022-01-25T16:57:11.377Z"
   },
   {
    "duration": 849,
    "start_time": "2022-01-25T16:58:31.932Z"
   },
   {
    "duration": 4,
    "start_time": "2022-01-25T16:58:44.213Z"
   },
   {
    "duration": 550,
    "start_time": "2022-01-25T16:58:46.075Z"
   },
   {
    "duration": 563,
    "start_time": "2022-01-25T16:58:55.259Z"
   },
   {
    "duration": 258,
    "start_time": "2022-01-25T16:58:59.946Z"
   },
   {
    "duration": 18,
    "start_time": "2022-01-25T16:59:21.018Z"
   },
   {
    "duration": 3,
    "start_time": "2022-01-25T16:59:21.714Z"
   },
   {
    "duration": 1258,
    "start_time": "2022-01-25T16:59:23.157Z"
   },
   {
    "duration": 1065,
    "start_time": "2022-01-25T16:59:26.871Z"
   },
   {
    "duration": 1051,
    "start_time": "2022-01-25T17:00:23.067Z"
   },
   {
    "duration": 5,
    "start_time": "2022-01-25T17:02:26.083Z"
   },
   {
    "duration": 15,
    "start_time": "2022-01-25T17:02:28.361Z"
   },
   {
    "duration": 3,
    "start_time": "2022-01-25T17:02:28.547Z"
   },
   {
    "duration": 21,
    "start_time": "2022-01-25T17:02:34.386Z"
   },
   {
    "duration": 17,
    "start_time": "2022-01-25T17:02:40.259Z"
   },
   {
    "duration": 3,
    "start_time": "2022-01-25T17:02:40.969Z"
   },
   {
    "duration": 1208,
    "start_time": "2022-01-25T17:03:01.347Z"
   },
   {
    "duration": 6,
    "start_time": "2022-01-25T17:03:37.112Z"
   },
   {
    "duration": 15,
    "start_time": "2022-01-25T17:03:38.105Z"
   },
   {
    "duration": 3,
    "start_time": "2022-01-25T17:03:38.916Z"
   },
   {
    "duration": 1115,
    "start_time": "2022-01-25T17:03:41.286Z"
   },
   {
    "duration": 835,
    "start_time": "2022-01-25T17:07:27.155Z"
   },
   {
    "duration": 1166,
    "start_time": "2022-01-25T17:22:40.039Z"
   },
   {
    "duration": 40,
    "start_time": "2022-01-25T17:22:41.207Z"
   },
   {
    "duration": 11,
    "start_time": "2022-01-25T17:22:41.252Z"
   },
   {
    "duration": 17,
    "start_time": "2022-01-25T17:22:41.265Z"
   },
   {
    "duration": 6,
    "start_time": "2022-01-25T17:22:41.298Z"
   },
   {
    "duration": 28,
    "start_time": "2022-01-25T17:22:41.307Z"
   },
   {
    "duration": 18,
    "start_time": "2022-01-25T17:22:41.338Z"
   },
   {
    "duration": 73,
    "start_time": "2022-01-25T17:22:41.358Z"
   },
   {
    "duration": 17,
    "start_time": "2022-01-25T17:22:41.433Z"
   },
   {
    "duration": 24,
    "start_time": "2022-01-25T17:22:41.452Z"
   },
   {
    "duration": 36,
    "start_time": "2022-01-25T17:22:41.477Z"
   },
   {
    "duration": 24,
    "start_time": "2022-01-25T17:22:41.516Z"
   },
   {
    "duration": 20,
    "start_time": "2022-01-25T17:22:41.542Z"
   },
   {
    "duration": 34,
    "start_time": "2022-01-25T17:22:41.564Z"
   },
   {
    "duration": 2,
    "start_time": "2022-01-25T17:22:41.600Z"
   },
   {
    "duration": 12,
    "start_time": "2022-01-25T17:22:41.605Z"
   },
   {
    "duration": 28,
    "start_time": "2022-01-25T17:22:41.619Z"
   },
   {
    "duration": 13,
    "start_time": "2022-01-25T17:22:41.649Z"
   },
   {
    "duration": 20,
    "start_time": "2022-01-25T17:22:41.664Z"
   },
   {
    "duration": 19,
    "start_time": "2022-01-25T17:22:41.686Z"
   },
   {
    "duration": 8,
    "start_time": "2022-01-25T17:22:41.707Z"
   },
   {
    "duration": 21,
    "start_time": "2022-01-25T17:22:41.719Z"
   },
   {
    "duration": 17,
    "start_time": "2022-01-25T17:22:41.743Z"
   },
   {
    "duration": 35,
    "start_time": "2022-01-25T17:22:41.762Z"
   },
   {
    "duration": 24,
    "start_time": "2022-01-25T17:22:41.800Z"
   },
   {
    "duration": 8,
    "start_time": "2022-01-25T17:22:41.826Z"
   },
   {
    "duration": 14,
    "start_time": "2022-01-25T17:22:41.835Z"
   },
   {
    "duration": 2,
    "start_time": "2022-01-25T17:22:41.851Z"
   },
   {
    "duration": 50,
    "start_time": "2022-01-25T17:22:41.855Z"
   },
   {
    "duration": 14,
    "start_time": "2022-01-25T17:22:41.907Z"
   },
   {
    "duration": 18,
    "start_time": "2022-01-25T17:22:41.923Z"
   },
   {
    "duration": 4,
    "start_time": "2022-01-25T17:22:41.943Z"
   },
   {
    "duration": 22,
    "start_time": "2022-01-25T17:22:41.948Z"
   },
   {
    "duration": 602,
    "start_time": "2022-01-25T17:22:41.972Z"
   },
   {
    "duration": 33,
    "start_time": "2022-01-25T17:22:42.576Z"
   },
   {
    "duration": 8,
    "start_time": "2022-01-25T17:22:42.611Z"
   },
   {
    "duration": 177,
    "start_time": "2022-01-25T17:22:42.621Z"
   },
   {
    "duration": 72,
    "start_time": "2022-01-25T17:22:42.800Z"
   },
   {
    "duration": 23,
    "start_time": "2022-01-25T17:22:42.874Z"
   },
   {
    "duration": 439,
    "start_time": "2022-01-25T17:22:42.899Z"
   },
   {
    "duration": 2207,
    "start_time": "2022-01-25T17:22:43.340Z"
   },
   {
    "duration": 16,
    "start_time": "2022-01-25T17:22:45.549Z"
   },
   {
    "duration": 33,
    "start_time": "2022-01-25T17:22:45.566Z"
   },
   {
    "duration": 12,
    "start_time": "2022-01-25T17:22:45.601Z"
   },
   {
    "duration": 21,
    "start_time": "2022-01-25T17:22:45.616Z"
   },
   {
    "duration": 26,
    "start_time": "2022-01-25T17:22:45.639Z"
   },
   {
    "duration": 2802,
    "start_time": "2022-01-25T17:22:45.667Z"
   },
   {
    "duration": 460,
    "start_time": "2022-01-25T17:22:48.471Z"
   },
   {
    "duration": 60,
    "start_time": "2022-01-25T17:22:48.933Z"
   },
   {
    "duration": 134,
    "start_time": "2022-01-25T17:22:48.861Z"
   },
   {
    "duration": 132,
    "start_time": "2022-01-25T17:22:48.865Z"
   },
   {
    "duration": 131,
    "start_time": "2022-01-25T17:22:48.867Z"
   },
   {
    "duration": 130,
    "start_time": "2022-01-25T17:22:48.870Z"
   },
   {
    "duration": 129,
    "start_time": "2022-01-25T17:22:48.873Z"
   },
   {
    "duration": 124,
    "start_time": "2022-01-25T17:22:48.880Z"
   },
   {
    "duration": 122,
    "start_time": "2022-01-25T17:22:48.883Z"
   },
   {
    "duration": 122,
    "start_time": "2022-01-25T17:22:48.885Z"
   },
   {
    "duration": 121,
    "start_time": "2022-01-25T17:22:48.888Z"
   },
   {
    "duration": 119,
    "start_time": "2022-01-25T17:22:48.891Z"
   },
   {
    "duration": 119,
    "start_time": "2022-01-25T17:22:48.893Z"
   },
   {
    "duration": 118,
    "start_time": "2022-01-25T17:22:48.896Z"
   },
   {
    "duration": 117,
    "start_time": "2022-01-25T17:22:48.898Z"
   },
   {
    "duration": 116,
    "start_time": "2022-01-25T17:22:48.901Z"
   },
   {
    "duration": 115,
    "start_time": "2022-01-25T17:22:48.904Z"
   },
   {
    "duration": 114,
    "start_time": "2022-01-25T17:22:48.906Z"
   },
   {
    "duration": 113,
    "start_time": "2022-01-25T17:22:48.909Z"
   },
   {
    "duration": 112,
    "start_time": "2022-01-25T17:22:48.911Z"
   },
   {
    "duration": 111,
    "start_time": "2022-01-25T17:22:48.914Z"
   },
   {
    "duration": 105,
    "start_time": "2022-01-25T17:22:48.922Z"
   },
   {
    "duration": 103,
    "start_time": "2022-01-25T17:22:48.925Z"
   },
   {
    "duration": 102,
    "start_time": "2022-01-25T17:22:48.927Z"
   },
   {
    "duration": 1208,
    "start_time": "2022-01-25T17:23:08.210Z"
   },
   {
    "duration": 673,
    "start_time": "2022-01-25T17:23:09.421Z"
   },
   {
    "duration": 12,
    "start_time": "2022-01-25T17:23:10.099Z"
   },
   {
    "duration": 26,
    "start_time": "2022-01-25T17:23:10.113Z"
   },
   {
    "duration": 4,
    "start_time": "2022-01-25T17:23:10.141Z"
   },
   {
    "duration": 17,
    "start_time": "2022-01-25T17:23:10.147Z"
   },
   {
    "duration": 45,
    "start_time": "2022-01-25T17:23:10.167Z"
   },
   {
    "duration": 45,
    "start_time": "2022-01-25T17:23:10.217Z"
   },
   {
    "duration": 36,
    "start_time": "2022-01-25T17:23:10.263Z"
   },
   {
    "duration": 32,
    "start_time": "2022-01-25T17:23:10.302Z"
   },
   {
    "duration": 15,
    "start_time": "2022-01-25T17:23:10.335Z"
   },
   {
    "duration": 28,
    "start_time": "2022-01-25T17:23:10.352Z"
   },
   {
    "duration": 32,
    "start_time": "2022-01-25T17:23:10.398Z"
   },
   {
    "duration": 8,
    "start_time": "2022-01-25T17:23:10.432Z"
   },
   {
    "duration": 5,
    "start_time": "2022-01-25T17:23:10.441Z"
   },
   {
    "duration": 6,
    "start_time": "2022-01-25T17:23:10.447Z"
   },
   {
    "duration": 12,
    "start_time": "2022-01-25T17:23:10.454Z"
   },
   {
    "duration": 47,
    "start_time": "2022-01-25T17:23:10.468Z"
   },
   {
    "duration": 21,
    "start_time": "2022-01-25T17:23:10.517Z"
   },
   {
    "duration": 7,
    "start_time": "2022-01-25T17:23:10.540Z"
   },
   {
    "duration": 12,
    "start_time": "2022-01-25T17:23:10.549Z"
   },
   {
    "duration": 37,
    "start_time": "2022-01-25T17:23:10.564Z"
   },
   {
    "duration": 25,
    "start_time": "2022-01-25T17:23:10.606Z"
   },
   {
    "duration": 2,
    "start_time": "2022-01-25T17:23:10.633Z"
   },
   {
    "duration": 19,
    "start_time": "2022-01-25T17:23:10.636Z"
   },
   {
    "duration": 6,
    "start_time": "2022-01-25T17:23:10.656Z"
   },
   {
    "duration": 44,
    "start_time": "2022-01-25T17:23:10.664Z"
   },
   {
    "duration": 4,
    "start_time": "2022-01-25T17:23:10.711Z"
   },
   {
    "duration": 24,
    "start_time": "2022-01-25T17:23:10.718Z"
   },
   {
    "duration": 12,
    "start_time": "2022-01-25T17:23:10.744Z"
   },
   {
    "duration": 49,
    "start_time": "2022-01-25T17:23:10.758Z"
   },
   {
    "duration": 7,
    "start_time": "2022-01-25T17:23:10.809Z"
   },
   {
    "duration": 22,
    "start_time": "2022-01-25T17:23:10.818Z"
   },
   {
    "duration": 569,
    "start_time": "2022-01-25T17:23:10.842Z"
   },
   {
    "duration": 21,
    "start_time": "2022-01-25T17:23:11.413Z"
   },
   {
    "duration": 5,
    "start_time": "2022-01-25T17:23:11.436Z"
   },
   {
    "duration": 204,
    "start_time": "2022-01-25T17:23:11.442Z"
   },
   {
    "duration": 75,
    "start_time": "2022-01-25T17:23:11.648Z"
   },
   {
    "duration": 5,
    "start_time": "2022-01-25T17:23:11.726Z"
   },
   {
    "duration": 465,
    "start_time": "2022-01-25T17:23:11.733Z"
   },
   {
    "duration": 2247,
    "start_time": "2022-01-25T17:23:12.201Z"
   },
   {
    "duration": 17,
    "start_time": "2022-01-25T17:23:14.450Z"
   },
   {
    "duration": 33,
    "start_time": "2022-01-25T17:23:14.469Z"
   },
   {
    "duration": 9,
    "start_time": "2022-01-25T17:23:14.505Z"
   },
   {
    "duration": 19,
    "start_time": "2022-01-25T17:23:14.516Z"
   },
   {
    "duration": 24,
    "start_time": "2022-01-25T17:23:14.536Z"
   },
   {
    "duration": 2846,
    "start_time": "2022-01-25T17:23:14.562Z"
   },
   {
    "duration": 472,
    "start_time": "2022-01-25T17:23:17.410Z"
   },
   {
    "duration": 562,
    "start_time": "2022-01-25T17:23:17.885Z"
   },
   {
    "duration": 556,
    "start_time": "2022-01-25T17:23:18.449Z"
   },
   {
    "duration": 954,
    "start_time": "2022-01-25T17:23:19.008Z"
   },
   {
    "duration": 381,
    "start_time": "2022-01-25T17:23:19.964Z"
   },
   {
    "duration": 11,
    "start_time": "2022-01-25T17:23:20.347Z"
   },
   {
    "duration": 383,
    "start_time": "2022-01-25T17:23:20.359Z"
   },
   {
    "duration": 5857,
    "start_time": "2022-01-25T17:23:20.744Z"
   },
   {
    "duration": 3376,
    "start_time": "2022-01-25T17:23:26.603Z"
   },
   {
    "duration": 429,
    "start_time": "2022-01-25T17:23:29.980Z"
   },
   {
    "duration": 438,
    "start_time": "2022-01-25T17:23:30.411Z"
   },
   {
    "duration": 960,
    "start_time": "2022-01-25T17:23:30.851Z"
   },
   {
    "duration": 861,
    "start_time": "2022-01-25T17:23:31.813Z"
   },
   {
    "duration": 4,
    "start_time": "2022-01-25T17:23:32.676Z"
   },
   {
    "duration": 593,
    "start_time": "2022-01-25T17:23:32.682Z"
   },
   {
    "duration": 608,
    "start_time": "2022-01-25T17:23:33.277Z"
   },
   {
    "duration": 279,
    "start_time": "2022-01-25T17:23:33.887Z"
   },
   {
    "duration": 6,
    "start_time": "2022-01-25T17:23:34.168Z"
   },
   {
    "duration": 32,
    "start_time": "2022-01-25T17:23:34.176Z"
   },
   {
    "duration": 4,
    "start_time": "2022-01-25T17:23:34.218Z"
   },
   {
    "duration": 1307,
    "start_time": "2022-01-25T17:23:34.223Z"
   },
   {
    "duration": 1176,
    "start_time": "2022-01-25T17:23:35.531Z"
   },
   {
    "duration": 21,
    "start_time": "2022-01-25T17:23:36.710Z"
   },
   {
    "duration": 18,
    "start_time": "2022-01-25T17:23:36.733Z"
   },
   {
    "duration": 1137,
    "start_time": "2022-01-25T17:27:06.738Z"
   },
   {
    "duration": 39,
    "start_time": "2022-01-25T17:27:07.877Z"
   },
   {
    "duration": 11,
    "start_time": "2022-01-25T17:27:07.918Z"
   },
   {
    "duration": 21,
    "start_time": "2022-01-25T17:27:07.931Z"
   },
   {
    "duration": 13,
    "start_time": "2022-01-25T17:27:07.954Z"
   },
   {
    "duration": 30,
    "start_time": "2022-01-25T17:27:07.969Z"
   },
   {
    "duration": 16,
    "start_time": "2022-01-25T17:27:08.000Z"
   },
   {
    "duration": 46,
    "start_time": "2022-01-25T17:27:08.018Z"
   },
   {
    "duration": 34,
    "start_time": "2022-01-25T17:27:08.067Z"
   },
   {
    "duration": 38,
    "start_time": "2022-01-25T17:27:08.103Z"
   },
   {
    "duration": 17,
    "start_time": "2022-01-25T17:27:08.143Z"
   },
   {
    "duration": 40,
    "start_time": "2022-01-25T17:27:08.162Z"
   },
   {
    "duration": 25,
    "start_time": "2022-01-25T17:27:08.204Z"
   },
   {
    "duration": 13,
    "start_time": "2022-01-25T17:27:08.231Z"
   },
   {
    "duration": 15,
    "start_time": "2022-01-25T17:27:08.245Z"
   },
   {
    "duration": 15,
    "start_time": "2022-01-25T17:27:08.262Z"
   },
   {
    "duration": 29,
    "start_time": "2022-01-25T17:27:08.279Z"
   },
   {
    "duration": 23,
    "start_time": "2022-01-25T17:27:08.310Z"
   },
   {
    "duration": 23,
    "start_time": "2022-01-25T17:27:08.334Z"
   },
   {
    "duration": 8,
    "start_time": "2022-01-25T17:27:08.358Z"
   },
   {
    "duration": 21,
    "start_time": "2022-01-25T17:27:08.367Z"
   },
   {
    "duration": 24,
    "start_time": "2022-01-25T17:27:08.390Z"
   },
   {
    "duration": 16,
    "start_time": "2022-01-25T17:27:08.415Z"
   },
   {
    "duration": 6,
    "start_time": "2022-01-25T17:27:08.432Z"
   },
   {
    "duration": 14,
    "start_time": "2022-01-25T17:27:08.440Z"
   },
   {
    "duration": 6,
    "start_time": "2022-01-25T17:27:08.456Z"
   },
   {
    "duration": 15,
    "start_time": "2022-01-25T17:27:08.466Z"
   },
   {
    "duration": 3,
    "start_time": "2022-01-25T17:27:08.498Z"
   },
   {
    "duration": 23,
    "start_time": "2022-01-25T17:27:08.503Z"
   },
   {
    "duration": 10,
    "start_time": "2022-01-25T17:27:08.528Z"
   },
   {
    "duration": 16,
    "start_time": "2022-01-25T17:27:08.540Z"
   },
   {
    "duration": 7,
    "start_time": "2022-01-25T17:27:08.558Z"
   },
   {
    "duration": 42,
    "start_time": "2022-01-25T17:27:08.566Z"
   },
   {
    "duration": 589,
    "start_time": "2022-01-25T17:27:08.610Z"
   },
   {
    "duration": 20,
    "start_time": "2022-01-25T17:27:09.201Z"
   },
   {
    "duration": 5,
    "start_time": "2022-01-25T17:27:09.222Z"
   },
   {
    "duration": 181,
    "start_time": "2022-01-25T17:27:09.229Z"
   },
   {
    "duration": 62,
    "start_time": "2022-01-25T17:27:09.412Z"
   },
   {
    "duration": 22,
    "start_time": "2022-01-25T17:27:09.476Z"
   },
   {
    "duration": 449,
    "start_time": "2022-01-25T17:27:09.500Z"
   },
   {
    "duration": 2125,
    "start_time": "2022-01-25T17:27:09.950Z"
   },
   {
    "duration": 24,
    "start_time": "2022-01-25T17:27:12.078Z"
   },
   {
    "duration": 23,
    "start_time": "2022-01-25T17:27:12.104Z"
   },
   {
    "duration": 17,
    "start_time": "2022-01-25T17:27:12.129Z"
   },
   {
    "duration": 32,
    "start_time": "2022-01-25T17:27:12.148Z"
   },
   {
    "duration": 26,
    "start_time": "2022-01-25T17:27:12.182Z"
   },
   {
    "duration": 2637,
    "start_time": "2022-01-25T17:27:12.210Z"
   },
   {
    "duration": 471,
    "start_time": "2022-01-25T17:27:14.849Z"
   },
   {
    "duration": 534,
    "start_time": "2022-01-25T17:27:15.322Z"
   },
   {
    "duration": 569,
    "start_time": "2022-01-25T17:27:15.857Z"
   },
   {
    "duration": 925,
    "start_time": "2022-01-25T17:27:16.428Z"
   },
   {
    "duration": 368,
    "start_time": "2022-01-25T17:27:17.355Z"
   },
   {
    "duration": 11,
    "start_time": "2022-01-25T17:27:17.725Z"
   },
   {
    "duration": 378,
    "start_time": "2022-01-25T17:27:17.738Z"
   },
   {
    "duration": 5669,
    "start_time": "2022-01-25T17:27:18.119Z"
   },
   {
    "duration": 3216,
    "start_time": "2022-01-25T17:27:23.796Z"
   },
   {
    "duration": 439,
    "start_time": "2022-01-25T17:27:27.015Z"
   },
   {
    "duration": 444,
    "start_time": "2022-01-25T17:27:27.457Z"
   },
   {
    "duration": 955,
    "start_time": "2022-01-25T17:27:27.904Z"
   },
   {
    "duration": 843,
    "start_time": "2022-01-25T17:27:28.861Z"
   },
   {
    "duration": 4,
    "start_time": "2022-01-25T17:27:29.705Z"
   },
   {
    "duration": 564,
    "start_time": "2022-01-25T17:27:29.711Z"
   },
   {
    "duration": 585,
    "start_time": "2022-01-25T17:27:30.277Z"
   },
   {
    "duration": 278,
    "start_time": "2022-01-25T17:27:30.864Z"
   },
   {
    "duration": 6,
    "start_time": "2022-01-25T17:27:31.144Z"
   },
   {
    "duration": 21,
    "start_time": "2022-01-25T17:27:31.152Z"
   },
   {
    "duration": 6,
    "start_time": "2022-01-25T17:27:31.175Z"
   },
   {
    "duration": 1273,
    "start_time": "2022-01-25T17:27:31.198Z"
   },
   {
    "duration": 1091,
    "start_time": "2022-01-25T17:27:32.473Z"
   },
   {
    "duration": 30,
    "start_time": "2022-01-25T17:27:33.567Z"
   },
   {
    "duration": 19,
    "start_time": "2022-01-25T17:27:33.599Z"
   },
   {
    "duration": 408,
    "start_time": "2022-01-26T08:18:11.102Z"
   },
   {
    "duration": 1509,
    "start_time": "2022-01-26T08:18:17.497Z"
   },
   {
    "duration": 47,
    "start_time": "2022-01-26T08:18:19.009Z"
   },
   {
    "duration": 17,
    "start_time": "2022-01-26T08:18:19.059Z"
   },
   {
    "duration": 25,
    "start_time": "2022-01-26T08:18:19.079Z"
   },
   {
    "duration": 7,
    "start_time": "2022-01-26T08:18:19.106Z"
   },
   {
    "duration": 60,
    "start_time": "2022-01-26T08:18:19.116Z"
   },
   {
    "duration": 17,
    "start_time": "2022-01-26T08:18:19.178Z"
   },
   {
    "duration": 78,
    "start_time": "2022-01-26T08:18:19.199Z"
   },
   {
    "duration": 22,
    "start_time": "2022-01-26T08:18:19.280Z"
   },
   {
    "duration": 28,
    "start_time": "2022-01-26T08:18:19.305Z"
   },
   {
    "duration": 50,
    "start_time": "2022-01-26T08:18:19.336Z"
   },
   {
    "duration": 27,
    "start_time": "2022-01-26T08:18:19.389Z"
   },
   {
    "duration": 65,
    "start_time": "2022-01-26T08:18:19.418Z"
   },
   {
    "duration": 13,
    "start_time": "2022-01-26T08:18:19.486Z"
   },
   {
    "duration": 4,
    "start_time": "2022-01-26T08:18:19.502Z"
   },
   {
    "duration": 4,
    "start_time": "2022-01-26T08:18:19.509Z"
   },
   {
    "duration": 16,
    "start_time": "2022-01-26T08:18:19.515Z"
   },
   {
    "duration": 19,
    "start_time": "2022-01-26T08:18:19.570Z"
   },
   {
    "duration": 24,
    "start_time": "2022-01-26T08:18:19.591Z"
   },
   {
    "duration": 10,
    "start_time": "2022-01-26T08:18:19.617Z"
   },
   {
    "duration": 41,
    "start_time": "2022-01-26T08:18:19.630Z"
   },
   {
    "duration": 23,
    "start_time": "2022-01-26T08:18:19.673Z"
   },
   {
    "duration": 25,
    "start_time": "2022-01-26T08:18:19.702Z"
   },
   {
    "duration": 40,
    "start_time": "2022-01-26T08:18:19.732Z"
   },
   {
    "duration": 22,
    "start_time": "2022-01-26T08:18:19.774Z"
   },
   {
    "duration": 9,
    "start_time": "2022-01-26T08:18:19.798Z"
   },
   {
    "duration": 15,
    "start_time": "2022-01-26T08:18:19.810Z"
   },
   {
    "duration": 3,
    "start_time": "2022-01-26T08:18:19.827Z"
   },
   {
    "duration": 63,
    "start_time": "2022-01-26T08:18:19.833Z"
   },
   {
    "duration": 15,
    "start_time": "2022-01-26T08:18:19.898Z"
   },
   {
    "duration": 22,
    "start_time": "2022-01-26T08:18:19.916Z"
   },
   {
    "duration": 34,
    "start_time": "2022-01-26T08:18:19.941Z"
   },
   {
    "duration": 26,
    "start_time": "2022-01-26T08:18:19.977Z"
   },
   {
    "duration": 959,
    "start_time": "2022-01-26T08:18:20.005Z"
   },
   {
    "duration": 28,
    "start_time": "2022-01-26T08:18:20.970Z"
   },
   {
    "duration": 9,
    "start_time": "2022-01-26T08:18:21.000Z"
   },
   {
    "duration": 289,
    "start_time": "2022-01-26T08:18:21.011Z"
   },
   {
    "duration": 113,
    "start_time": "2022-01-26T08:18:21.302Z"
   },
   {
    "duration": 7,
    "start_time": "2022-01-26T08:18:21.417Z"
   },
   {
    "duration": 691,
    "start_time": "2022-01-26T08:18:21.427Z"
   },
   {
    "duration": 4064,
    "start_time": "2022-01-26T08:18:22.120Z"
   },
   {
    "duration": 24,
    "start_time": "2022-01-26T08:18:26.187Z"
   },
   {
    "duration": 25,
    "start_time": "2022-01-26T08:18:26.214Z"
   },
   {
    "duration": 12,
    "start_time": "2022-01-26T08:18:26.270Z"
   },
   {
    "duration": 27,
    "start_time": "2022-01-26T08:18:26.284Z"
   },
   {
    "duration": 73,
    "start_time": "2022-01-26T08:18:26.314Z"
   },
   {
    "duration": 4117,
    "start_time": "2022-01-26T08:18:26.390Z"
   },
   {
    "duration": 955,
    "start_time": "2022-01-26T08:18:30.510Z"
   },
   {
    "duration": 842,
    "start_time": "2022-01-26T08:18:31.469Z"
   },
   {
    "duration": 884,
    "start_time": "2022-01-26T08:18:32.314Z"
   },
   {
    "duration": 1321,
    "start_time": "2022-01-26T08:18:33.201Z"
   },
   {
    "duration": 451,
    "start_time": "2022-01-26T08:18:34.526Z"
   },
   {
    "duration": 14,
    "start_time": "2022-01-26T08:18:34.979Z"
   },
   {
    "duration": 498,
    "start_time": "2022-01-26T08:18:34.996Z"
   },
   {
    "duration": 8052,
    "start_time": "2022-01-26T08:18:35.497Z"
   },
   {
    "duration": 4317,
    "start_time": "2022-01-26T08:18:43.552Z"
   },
   {
    "duration": 968,
    "start_time": "2022-01-26T08:18:47.871Z"
   },
   {
    "duration": 700,
    "start_time": "2022-01-26T08:18:48.841Z"
   },
   {
    "duration": 1565,
    "start_time": "2022-01-26T08:18:49.544Z"
   },
   {
    "duration": 1410,
    "start_time": "2022-01-26T08:18:51.112Z"
   },
   {
    "duration": 6,
    "start_time": "2022-01-26T08:18:52.526Z"
   },
   {
    "duration": 964,
    "start_time": "2022-01-26T08:18:52.535Z"
   },
   {
    "duration": 896,
    "start_time": "2022-01-26T08:18:53.502Z"
   },
   {
    "duration": 420,
    "start_time": "2022-01-26T08:18:54.401Z"
   },
   {
    "duration": 8,
    "start_time": "2022-01-26T08:18:54.824Z"
   },
   {
    "duration": 46,
    "start_time": "2022-01-26T08:18:54.834Z"
   },
   {
    "duration": 4,
    "start_time": "2022-01-26T08:18:54.882Z"
   },
   {
    "duration": 2044,
    "start_time": "2022-01-26T08:18:54.893Z"
   },
   {
    "duration": 2426,
    "start_time": "2022-01-26T08:18:56.939Z"
   },
   {
    "duration": 32,
    "start_time": "2022-01-26T08:18:59.370Z"
   },
   {
    "duration": 27,
    "start_time": "2022-01-26T08:18:59.405Z"
   },
   {
    "duration": 4043,
    "start_time": "2022-01-26T08:19:09.237Z"
   },
   {
    "duration": 717,
    "start_time": "2022-01-26T08:22:58.077Z"
   },
   {
    "duration": 120,
    "start_time": "2022-01-26T08:23:18.576Z"
   },
   {
    "duration": 128,
    "start_time": "2022-01-26T08:23:29.466Z"
   },
   {
    "duration": 824,
    "start_time": "2022-01-26T08:23:39.277Z"
   },
   {
    "duration": 496,
    "start_time": "2022-01-26T08:23:46.786Z"
   },
   {
    "duration": 646,
    "start_time": "2022-01-26T08:23:51.278Z"
   },
   {
    "duration": 713,
    "start_time": "2022-01-26T08:24:00.236Z"
   },
   {
    "duration": 580,
    "start_time": "2022-01-26T08:24:04.116Z"
   },
   {
    "duration": 735,
    "start_time": "2022-01-26T08:24:14.867Z"
   },
   {
    "duration": 709,
    "start_time": "2022-01-26T08:24:33.766Z"
   },
   {
    "duration": 818,
    "start_time": "2022-01-26T08:24:44.406Z"
   },
   {
    "duration": 715,
    "start_time": "2022-01-26T08:24:54.826Z"
   },
   {
    "duration": 1308,
    "start_time": "2022-01-26T08:28:58.826Z"
   },
   {
    "duration": 1096,
    "start_time": "2022-01-26T08:31:22.866Z"
   },
   {
    "duration": 759,
    "start_time": "2022-01-26T08:32:35.535Z"
   },
   {
    "duration": 18,
    "start_time": "2022-01-26T08:34:25.134Z"
   },
   {
    "duration": 21,
    "start_time": "2022-01-26T08:34:40.285Z"
   },
   {
    "duration": 119,
    "start_time": "2022-01-26T08:34:58.045Z"
   },
   {
    "duration": 508,
    "start_time": "2022-01-26T08:35:03.121Z"
   },
   {
    "duration": 9,
    "start_time": "2022-01-26T08:35:45.275Z"
   },
   {
    "duration": 18,
    "start_time": "2022-01-26T08:36:13.215Z"
   },
   {
    "duration": 17,
    "start_time": "2022-01-26T08:36:39.535Z"
   },
   {
    "duration": 9,
    "start_time": "2022-01-26T08:36:57.675Z"
   },
   {
    "duration": 1095,
    "start_time": "2022-07-21T08:18:06.267Z"
   },
   {
    "duration": 117,
    "start_time": "2022-07-21T08:18:07.364Z"
   },
   {
    "duration": 19,
    "start_time": "2022-07-21T08:18:07.483Z"
   },
   {
    "duration": 24,
    "start_time": "2022-07-21T08:18:07.505Z"
   },
   {
    "duration": 4,
    "start_time": "2022-07-21T08:18:07.531Z"
   },
   {
    "duration": 20,
    "start_time": "2022-07-21T08:18:07.537Z"
   },
   {
    "duration": 18,
    "start_time": "2022-07-21T08:18:07.558Z"
   },
   {
    "duration": 51,
    "start_time": "2022-07-21T08:18:07.577Z"
   },
   {
    "duration": 18,
    "start_time": "2022-07-21T08:18:07.629Z"
   },
   {
    "duration": 22,
    "start_time": "2022-07-21T08:18:07.650Z"
   },
   {
    "duration": 15,
    "start_time": "2022-07-21T08:18:07.674Z"
   },
   {
    "duration": 44,
    "start_time": "2022-07-21T08:18:07.691Z"
   },
   {
    "duration": 21,
    "start_time": "2022-07-21T08:18:07.737Z"
   },
   {
    "duration": 11,
    "start_time": "2022-07-21T08:18:07.760Z"
   },
   {
    "duration": 3,
    "start_time": "2022-07-21T08:18:07.773Z"
   },
   {
    "duration": 11,
    "start_time": "2022-07-21T08:18:07.777Z"
   },
   {
    "duration": 17,
    "start_time": "2022-07-21T08:18:07.790Z"
   },
   {
    "duration": 14,
    "start_time": "2022-07-21T08:18:07.825Z"
   },
   {
    "duration": 21,
    "start_time": "2022-07-21T08:18:07.840Z"
   },
   {
    "duration": 7,
    "start_time": "2022-07-21T08:18:07.863Z"
   },
   {
    "duration": 8,
    "start_time": "2022-07-21T08:18:07.872Z"
   },
   {
    "duration": 46,
    "start_time": "2022-07-21T08:18:07.882Z"
   },
   {
    "duration": 18,
    "start_time": "2022-07-21T08:18:07.930Z"
   },
   {
    "duration": 3,
    "start_time": "2022-07-21T08:18:07.949Z"
   },
   {
    "duration": 17,
    "start_time": "2022-07-21T08:18:07.954Z"
   },
   {
    "duration": 6,
    "start_time": "2022-07-21T08:18:07.973Z"
   },
   {
    "duration": 44,
    "start_time": "2022-07-21T08:18:07.981Z"
   },
   {
    "duration": 3,
    "start_time": "2022-07-21T08:18:08.029Z"
   },
   {
    "duration": 34,
    "start_time": "2022-07-21T08:18:08.034Z"
   },
   {
    "duration": 13,
    "start_time": "2022-07-21T08:18:08.070Z"
   },
   {
    "duration": 16,
    "start_time": "2022-07-21T08:18:08.085Z"
   },
   {
    "duration": 5,
    "start_time": "2022-07-21T08:18:08.124Z"
   },
   {
    "duration": 31,
    "start_time": "2022-07-21T08:18:08.130Z"
   },
   {
    "duration": 440,
    "start_time": "2022-07-21T08:18:08.163Z"
   },
   {
    "duration": 27,
    "start_time": "2022-07-21T08:18:08.605Z"
   },
   {
    "duration": 5,
    "start_time": "2022-07-21T08:18:08.634Z"
   },
   {
    "duration": 257,
    "start_time": "2022-07-21T08:18:08.641Z"
   },
   {
    "duration": 124,
    "start_time": "2022-07-21T08:19:08.101Z"
   },
   {
    "duration": 126,
    "start_time": "2022-07-21T08:19:16.076Z"
   },
   {
    "duration": 6,
    "start_time": "2022-07-21T08:19:24.659Z"
   },
   {
    "duration": 134,
    "start_time": "2022-07-21T08:19:41.116Z"
   },
   {
    "duration": 5,
    "start_time": "2022-07-21T08:20:01.139Z"
   },
   {
    "duration": 136,
    "start_time": "2022-07-21T08:20:06.218Z"
   },
   {
    "duration": 116,
    "start_time": "2022-07-21T08:20:24.834Z"
   },
   {
    "duration": 91,
    "start_time": "2022-07-21T08:21:18.299Z"
   },
   {
    "duration": 83,
    "start_time": "2022-07-21T08:21:32.002Z"
   },
   {
    "duration": 76,
    "start_time": "2022-07-21T08:22:40.026Z"
   },
   {
    "duration": 248,
    "start_time": "2022-07-21T08:22:44.028Z"
   },
   {
    "duration": 930,
    "start_time": "2022-07-21T08:23:32.825Z"
   },
   {
    "duration": 236,
    "start_time": "2022-07-21T08:23:51.928Z"
   },
   {
    "duration": 1381,
    "start_time": "2022-07-21T08:24:17.429Z"
   },
   {
    "duration": 980,
    "start_time": "2022-07-21T08:27:23.632Z"
   },
   {
    "duration": 239,
    "start_time": "2022-07-21T08:28:04.799Z"
   },
   {
    "duration": 12,
    "start_time": "2022-07-21T08:28:53.957Z"
   },
   {
    "duration": 250,
    "start_time": "2022-07-21T08:29:30.331Z"
   },
   {
    "duration": 250,
    "start_time": "2022-07-21T08:29:52.275Z"
   },
   {
    "duration": 1305,
    "start_time": "2022-07-21T08:30:21.163Z"
   },
   {
    "duration": 1379,
    "start_time": "2022-07-21T08:30:35.347Z"
   },
   {
    "duration": 7559,
    "start_time": "2022-07-21T08:30:39.589Z"
   },
   {
    "duration": 1096,
    "start_time": "2022-07-21T08:31:29.513Z"
   },
   {
    "duration": 1117,
    "start_time": "2022-07-21T08:31:37.208Z"
   },
   {
    "duration": 1271,
    "start_time": "2022-07-21T08:31:51.969Z"
   },
   {
    "duration": 1473,
    "start_time": "2022-07-21T08:33:07.013Z"
   },
   {
    "duration": 1246,
    "start_time": "2022-07-21T10:26:35.378Z"
   },
   {
    "duration": 55,
    "start_time": "2022-07-21T10:26:36.626Z"
   },
   {
    "duration": 15,
    "start_time": "2022-07-21T10:26:36.683Z"
   },
   {
    "duration": 21,
    "start_time": "2022-07-21T10:26:36.700Z"
   },
   {
    "duration": 4,
    "start_time": "2022-07-21T10:26:36.723Z"
   },
   {
    "duration": 18,
    "start_time": "2022-07-21T10:26:36.729Z"
   },
   {
    "duration": 15,
    "start_time": "2022-07-21T10:26:36.749Z"
   },
   {
    "duration": 31,
    "start_time": "2022-07-21T10:26:36.766Z"
   },
   {
    "duration": 32,
    "start_time": "2022-07-21T10:26:36.799Z"
   },
   {
    "duration": 21,
    "start_time": "2022-07-21T10:26:36.834Z"
   },
   {
    "duration": 13,
    "start_time": "2022-07-21T10:26:36.857Z"
   },
   {
    "duration": 24,
    "start_time": "2022-07-21T10:26:36.872Z"
   },
   {
    "duration": 38,
    "start_time": "2022-07-21T10:26:36.897Z"
   },
   {
    "duration": 8,
    "start_time": "2022-07-21T10:26:36.936Z"
   },
   {
    "duration": 12,
    "start_time": "2022-07-21T10:26:36.946Z"
   },
   {
    "duration": 12,
    "start_time": "2022-07-21T10:26:36.960Z"
   },
   {
    "duration": 22,
    "start_time": "2022-07-21T10:26:36.974Z"
   },
   {
    "duration": 7,
    "start_time": "2022-07-21T10:26:37.024Z"
   },
   {
    "duration": 13,
    "start_time": "2022-07-21T10:26:37.032Z"
   },
   {
    "duration": 18,
    "start_time": "2022-07-21T10:26:37.047Z"
   },
   {
    "duration": 17,
    "start_time": "2022-07-21T10:26:37.066Z"
   },
   {
    "duration": 43,
    "start_time": "2022-07-21T10:26:37.085Z"
   },
   {
    "duration": 6,
    "start_time": "2022-07-21T10:26:37.130Z"
   },
   {
    "duration": 24,
    "start_time": "2022-07-21T10:26:37.138Z"
   },
   {
    "duration": 18,
    "start_time": "2022-07-21T10:26:37.164Z"
   },
   {
    "duration": 12,
    "start_time": "2022-07-21T10:26:37.184Z"
   },
   {
    "duration": 39,
    "start_time": "2022-07-21T10:26:37.197Z"
   },
   {
    "duration": 5,
    "start_time": "2022-07-21T10:26:37.241Z"
   },
   {
    "duration": 23,
    "start_time": "2022-07-21T10:26:37.247Z"
   },
   {
    "duration": 479,
    "start_time": "2022-07-21T10:26:37.272Z"
   },
   {
    "duration": 25,
    "start_time": "2022-07-21T10:26:37.752Z"
   },
   {
    "duration": 5,
    "start_time": "2022-07-21T10:26:37.779Z"
   },
   {
    "duration": 148,
    "start_time": "2022-07-21T10:26:37.785Z"
   },
   {
    "duration": 95,
    "start_time": "2022-07-21T10:26:37.935Z"
   },
   {
    "duration": 7,
    "start_time": "2022-07-21T10:26:38.031Z"
   },
   {
    "duration": 279,
    "start_time": "2022-07-21T10:26:38.039Z"
   },
   {
    "duration": 1469,
    "start_time": "2022-07-21T10:26:38.324Z"
   },
   {
    "duration": 18,
    "start_time": "2022-07-21T10:26:39.795Z"
   },
   {
    "duration": 17,
    "start_time": "2022-07-21T10:26:39.824Z"
   },
   {
    "duration": 9,
    "start_time": "2022-07-21T10:26:39.843Z"
   },
   {
    "duration": 20,
    "start_time": "2022-07-21T10:26:39.853Z"
   },
   {
    "duration": 48,
    "start_time": "2022-07-21T10:26:39.875Z"
   },
   {
    "duration": 2032,
    "start_time": "2022-07-21T10:26:39.925Z"
   },
   {
    "duration": 714,
    "start_time": "2022-07-21T10:26:41.959Z"
   },
   {
    "duration": 688,
    "start_time": "2022-07-21T10:26:42.675Z"
   },
   {
    "duration": 324,
    "start_time": "2022-07-21T10:26:43.364Z"
   },
   {
    "duration": 391,
    "start_time": "2022-07-21T10:26:43.690Z"
   },
   {
    "duration": 358,
    "start_time": "2022-07-21T10:26:44.082Z"
   },
   {
    "duration": 10,
    "start_time": "2022-07-21T10:26:44.442Z"
   },
   {
    "duration": 397,
    "start_time": "2022-07-21T10:26:44.454Z"
   },
   {
    "duration": 308,
    "start_time": "2022-07-21T10:26:44.852Z"
   },
   {
    "duration": 0,
    "start_time": "2022-07-21T10:26:45.161Z"
   },
   {
    "duration": 0,
    "start_time": "2022-07-21T10:26:45.163Z"
   },
   {
    "duration": 0,
    "start_time": "2022-07-21T10:26:45.164Z"
   },
   {
    "duration": 0,
    "start_time": "2022-07-21T10:26:45.165Z"
   },
   {
    "duration": 0,
    "start_time": "2022-07-21T10:26:45.167Z"
   },
   {
    "duration": 0,
    "start_time": "2022-07-21T10:26:45.168Z"
   },
   {
    "duration": 0,
    "start_time": "2022-07-21T10:26:45.169Z"
   },
   {
    "duration": 0,
    "start_time": "2022-07-21T10:26:45.170Z"
   },
   {
    "duration": 0,
    "start_time": "2022-07-21T10:26:45.172Z"
   },
   {
    "duration": 0,
    "start_time": "2022-07-21T10:26:45.173Z"
   },
   {
    "duration": 0,
    "start_time": "2022-07-21T10:26:45.174Z"
   },
   {
    "duration": 0,
    "start_time": "2022-07-21T10:26:45.176Z"
   },
   {
    "duration": 0,
    "start_time": "2022-07-21T10:26:45.179Z"
   },
   {
    "duration": 0,
    "start_time": "2022-07-21T10:26:45.180Z"
   },
   {
    "duration": 0,
    "start_time": "2022-07-21T10:26:45.181Z"
   },
   {
    "duration": 0,
    "start_time": "2022-07-21T10:26:45.182Z"
   },
   {
    "duration": 33,
    "start_time": "2022-07-21T10:27:47.202Z"
   },
   {
    "duration": 2840,
    "start_time": "2022-07-21T10:28:49.127Z"
   },
   {
    "duration": 1748,
    "start_time": "2022-07-21T10:29:23.350Z"
   },
   {
    "duration": 22,
    "start_time": "2022-07-21T10:29:59.581Z"
   },
   {
    "duration": 25,
    "start_time": "2022-07-21T10:30:13.461Z"
   },
   {
    "duration": 1718,
    "start_time": "2022-07-21T10:30:15.685Z"
   },
   {
    "duration": 32,
    "start_time": "2022-07-21T10:31:48.298Z"
   },
   {
    "duration": 1495,
    "start_time": "2022-07-21T10:31:51.139Z"
   },
   {
    "duration": 1948,
    "start_time": "2022-07-21T10:32:34.393Z"
   },
   {
    "duration": 1944,
    "start_time": "2022-07-21T10:32:44.497Z"
   },
   {
    "duration": 477,
    "start_time": "2022-07-21T10:32:54.991Z"
   },
   {
    "duration": 445,
    "start_time": "2022-07-21T10:33:10.511Z"
   },
   {
    "duration": 81,
    "start_time": "2022-07-21T10:33:28.305Z"
   },
   {
    "duration": 369,
    "start_time": "2022-07-21T10:33:31.895Z"
   },
   {
    "duration": 1209,
    "start_time": "2022-07-21T10:34:12.390Z"
   },
   {
    "duration": 341,
    "start_time": "2022-07-21T10:34:26.949Z"
   },
   {
    "duration": 23,
    "start_time": "2022-07-21T10:34:33.476Z"
   },
   {
    "duration": 22,
    "start_time": "2022-07-21T10:34:53.580Z"
   },
   {
    "duration": 1314,
    "start_time": "2022-07-21T10:34:58.445Z"
   },
   {
    "duration": 285,
    "start_time": "2022-07-21T10:35:49.714Z"
   },
   {
    "duration": 349,
    "start_time": "2022-07-21T10:37:31.544Z"
   },
   {
    "duration": 344,
    "start_time": "2022-07-21T10:37:38.831Z"
   },
   {
    "duration": 452,
    "start_time": "2022-07-21T10:37:46.287Z"
   },
   {
    "duration": 306,
    "start_time": "2022-07-21T10:37:58.527Z"
   },
   {
    "duration": 330,
    "start_time": "2022-07-21T10:38:25.366Z"
   },
   {
    "duration": 1201,
    "start_time": "2022-07-21T10:38:55.146Z"
   },
   {
    "duration": 56,
    "start_time": "2022-07-21T10:38:56.350Z"
   },
   {
    "duration": 15,
    "start_time": "2022-07-21T10:38:56.408Z"
   },
   {
    "duration": 22,
    "start_time": "2022-07-21T10:38:56.425Z"
   },
   {
    "duration": 8,
    "start_time": "2022-07-21T10:38:56.449Z"
   },
   {
    "duration": 20,
    "start_time": "2022-07-21T10:38:56.458Z"
   },
   {
    "duration": 17,
    "start_time": "2022-07-21T10:38:56.480Z"
   },
   {
    "duration": 53,
    "start_time": "2022-07-21T10:38:56.499Z"
   },
   {
    "duration": 18,
    "start_time": "2022-07-21T10:38:56.554Z"
   },
   {
    "duration": 23,
    "start_time": "2022-07-21T10:38:56.574Z"
   },
   {
    "duration": 35,
    "start_time": "2022-07-21T10:38:56.599Z"
   },
   {
    "duration": 23,
    "start_time": "2022-07-21T10:38:56.636Z"
   },
   {
    "duration": 26,
    "start_time": "2022-07-21T10:38:56.661Z"
   },
   {
    "duration": 34,
    "start_time": "2022-07-21T10:38:56.689Z"
   },
   {
    "duration": 22,
    "start_time": "2022-07-21T10:38:56.724Z"
   },
   {
    "duration": 15,
    "start_time": "2022-07-21T10:38:56.748Z"
   },
   {
    "duration": 25,
    "start_time": "2022-07-21T10:38:56.765Z"
   },
   {
    "duration": 9,
    "start_time": "2022-07-21T10:38:56.793Z"
   },
   {
    "duration": 8,
    "start_time": "2022-07-21T10:38:56.824Z"
   },
   {
    "duration": 18,
    "start_time": "2022-07-21T10:38:56.833Z"
   },
   {
    "duration": 17,
    "start_time": "2022-07-21T10:38:56.853Z"
   },
   {
    "duration": 18,
    "start_time": "2022-07-21T10:38:56.873Z"
   },
   {
    "duration": 35,
    "start_time": "2022-07-21T10:38:56.892Z"
   },
   {
    "duration": 16,
    "start_time": "2022-07-21T10:38:56.929Z"
   },
   {
    "duration": 20,
    "start_time": "2022-07-21T10:38:56.946Z"
   },
   {
    "duration": 12,
    "start_time": "2022-07-21T10:38:56.967Z"
   },
   {
    "duration": 15,
    "start_time": "2022-07-21T10:38:56.981Z"
   },
   {
    "duration": 6,
    "start_time": "2022-07-21T10:38:57.027Z"
   },
   {
    "duration": 23,
    "start_time": "2022-07-21T10:38:57.034Z"
   },
   {
    "duration": 469,
    "start_time": "2022-07-21T10:38:57.059Z"
   },
   {
    "duration": 18,
    "start_time": "2022-07-21T10:38:57.530Z"
   },
   {
    "duration": 5,
    "start_time": "2022-07-21T10:38:57.550Z"
   },
   {
    "duration": 133,
    "start_time": "2022-07-21T10:38:57.556Z"
   },
   {
    "duration": 101,
    "start_time": "2022-07-21T10:38:57.691Z"
   },
   {
    "duration": 6,
    "start_time": "2022-07-21T10:38:57.794Z"
   },
   {
    "duration": 283,
    "start_time": "2022-07-21T10:38:57.802Z"
   },
   {
    "duration": 1472,
    "start_time": "2022-07-21T10:38:58.086Z"
   },
   {
    "duration": 18,
    "start_time": "2022-07-21T10:38:59.559Z"
   },
   {
    "duration": 21,
    "start_time": "2022-07-21T10:38:59.579Z"
   },
   {
    "duration": 23,
    "start_time": "2022-07-21T10:38:59.602Z"
   },
   {
    "duration": 25,
    "start_time": "2022-07-21T10:38:59.627Z"
   },
   {
    "duration": 48,
    "start_time": "2022-07-21T10:38:59.653Z"
   },
   {
    "duration": 1577,
    "start_time": "2022-07-21T10:38:59.704Z"
   },
   {
    "duration": 470,
    "start_time": "2022-07-21T10:39:01.283Z"
   },
   {
    "duration": 291,
    "start_time": "2022-07-21T10:39:01.755Z"
   },
   {
    "duration": 314,
    "start_time": "2022-07-21T10:39:02.047Z"
   },
   {
    "duration": 363,
    "start_time": "2022-07-21T10:39:02.363Z"
   },
   {
    "duration": 322,
    "start_time": "2022-07-21T10:39:02.728Z"
   },
   {
    "duration": 10,
    "start_time": "2022-07-21T10:39:03.052Z"
   },
   {
    "duration": 369,
    "start_time": "2022-07-21T10:39:03.064Z"
   },
   {
    "duration": 315,
    "start_time": "2022-07-21T10:39:03.435Z"
   },
   {
    "duration": 0,
    "start_time": "2022-07-21T10:39:03.752Z"
   },
   {
    "duration": 0,
    "start_time": "2022-07-21T10:39:03.754Z"
   },
   {
    "duration": 0,
    "start_time": "2022-07-21T10:39:03.755Z"
   },
   {
    "duration": 0,
    "start_time": "2022-07-21T10:39:03.756Z"
   },
   {
    "duration": 0,
    "start_time": "2022-07-21T10:39:03.757Z"
   },
   {
    "duration": 0,
    "start_time": "2022-07-21T10:39:03.758Z"
   },
   {
    "duration": 0,
    "start_time": "2022-07-21T10:39:03.759Z"
   },
   {
    "duration": 0,
    "start_time": "2022-07-21T10:39:03.761Z"
   },
   {
    "duration": 0,
    "start_time": "2022-07-21T10:39:03.762Z"
   },
   {
    "duration": 0,
    "start_time": "2022-07-21T10:39:03.763Z"
   },
   {
    "duration": 0,
    "start_time": "2022-07-21T10:39:03.766Z"
   },
   {
    "duration": 0,
    "start_time": "2022-07-21T10:39:03.767Z"
   },
   {
    "duration": 0,
    "start_time": "2022-07-21T10:39:03.768Z"
   },
   {
    "duration": 0,
    "start_time": "2022-07-21T10:39:03.769Z"
   },
   {
    "duration": 0,
    "start_time": "2022-07-21T10:39:03.771Z"
   },
   {
    "duration": 0,
    "start_time": "2022-07-21T10:39:03.772Z"
   },
   {
    "duration": 21,
    "start_time": "2022-07-21T10:41:25.432Z"
   },
   {
    "duration": 13,
    "start_time": "2022-07-21T10:41:38.984Z"
   },
   {
    "duration": 29,
    "start_time": "2022-07-21T10:43:58.544Z"
   },
   {
    "duration": 6,
    "start_time": "2022-07-21T10:44:17.196Z"
   },
   {
    "duration": 2687,
    "start_time": "2022-07-21T10:44:19.011Z"
   },
   {
    "duration": 1119,
    "start_time": "2022-07-21T10:45:32.505Z"
   },
   {
    "duration": 57,
    "start_time": "2022-07-21T10:45:33.626Z"
   },
   {
    "duration": 15,
    "start_time": "2022-07-21T10:45:33.684Z"
   },
   {
    "duration": 21,
    "start_time": "2022-07-21T10:45:33.701Z"
   },
   {
    "duration": 5,
    "start_time": "2022-07-21T10:45:33.723Z"
   },
   {
    "duration": 29,
    "start_time": "2022-07-21T10:45:33.729Z"
   },
   {
    "duration": 28,
    "start_time": "2022-07-21T10:45:33.759Z"
   },
   {
    "duration": 32,
    "start_time": "2022-07-21T10:45:33.789Z"
   },
   {
    "duration": 19,
    "start_time": "2022-07-21T10:45:33.822Z"
   },
   {
    "duration": 22,
    "start_time": "2022-07-21T10:45:33.843Z"
   },
   {
    "duration": 25,
    "start_time": "2022-07-21T10:45:33.867Z"
   },
   {
    "duration": 15,
    "start_time": "2022-07-21T10:45:33.894Z"
   },
   {
    "duration": 29,
    "start_time": "2022-07-21T10:45:33.910Z"
   },
   {
    "duration": 8,
    "start_time": "2022-07-21T10:45:33.940Z"
   },
   {
    "duration": 17,
    "start_time": "2022-07-21T10:45:33.949Z"
   },
   {
    "duration": 13,
    "start_time": "2022-07-21T10:45:33.967Z"
   },
   {
    "duration": 46,
    "start_time": "2022-07-21T10:45:33.981Z"
   },
   {
    "duration": 7,
    "start_time": "2022-07-21T10:45:34.029Z"
   },
   {
    "duration": 10,
    "start_time": "2022-07-21T10:45:34.037Z"
   },
   {
    "duration": 17,
    "start_time": "2022-07-21T10:45:34.049Z"
   },
   {
    "duration": 17,
    "start_time": "2022-07-21T10:45:34.068Z"
   },
   {
    "duration": 44,
    "start_time": "2022-07-21T10:45:34.086Z"
   },
   {
    "duration": 6,
    "start_time": "2022-07-21T10:45:34.132Z"
   },
   {
    "duration": 20,
    "start_time": "2022-07-21T10:45:34.139Z"
   },
   {
    "duration": 19,
    "start_time": "2022-07-21T10:45:34.161Z"
   },
   {
    "duration": 13,
    "start_time": "2022-07-21T10:45:34.182Z"
   },
   {
    "duration": 42,
    "start_time": "2022-07-21T10:45:34.196Z"
   },
   {
    "duration": 6,
    "start_time": "2022-07-21T10:45:34.242Z"
   },
   {
    "duration": 18,
    "start_time": "2022-07-21T10:45:34.250Z"
   },
   {
    "duration": 443,
    "start_time": "2022-07-21T10:45:34.270Z"
   },
   {
    "duration": 25,
    "start_time": "2022-07-21T10:45:34.715Z"
   },
   {
    "duration": 4,
    "start_time": "2022-07-21T10:45:34.742Z"
   },
   {
    "duration": 134,
    "start_time": "2022-07-21T10:45:34.747Z"
   },
   {
    "duration": 107,
    "start_time": "2022-07-21T10:45:34.883Z"
   },
   {
    "duration": 9,
    "start_time": "2022-07-21T10:45:34.995Z"
   },
   {
    "duration": 301,
    "start_time": "2022-07-21T10:45:35.006Z"
   },
   {
    "duration": 1446,
    "start_time": "2022-07-21T10:45:35.309Z"
   },
   {
    "duration": 18,
    "start_time": "2022-07-21T10:45:36.757Z"
   },
   {
    "duration": 15,
    "start_time": "2022-07-21T10:45:36.777Z"
   },
   {
    "duration": 30,
    "start_time": "2022-07-21T10:45:36.794Z"
   },
   {
    "duration": 20,
    "start_time": "2022-07-21T10:45:36.825Z"
   },
   {
    "duration": 26,
    "start_time": "2022-07-21T10:45:36.847Z"
   },
   {
    "duration": 1557,
    "start_time": "2022-07-21T10:45:36.875Z"
   },
   {
    "duration": 446,
    "start_time": "2022-07-21T10:45:38.434Z"
   },
   {
    "duration": 290,
    "start_time": "2022-07-21T10:45:38.882Z"
   },
   {
    "duration": 294,
    "start_time": "2022-07-21T10:45:39.174Z"
   },
   {
    "duration": 356,
    "start_time": "2022-07-21T10:45:39.470Z"
   },
   {
    "duration": 326,
    "start_time": "2022-07-21T10:45:39.828Z"
   },
   {
    "duration": 10,
    "start_time": "2022-07-21T10:45:40.156Z"
   },
   {
    "duration": 386,
    "start_time": "2022-07-21T10:45:40.168Z"
   },
   {
    "duration": 380,
    "start_time": "2022-07-21T10:45:40.556Z"
   },
   {
    "duration": 0,
    "start_time": "2022-07-21T10:45:40.937Z"
   },
   {
    "duration": 0,
    "start_time": "2022-07-21T10:45:40.939Z"
   },
   {
    "duration": 0,
    "start_time": "2022-07-21T10:45:40.940Z"
   },
   {
    "duration": 0,
    "start_time": "2022-07-21T10:45:40.941Z"
   },
   {
    "duration": 0,
    "start_time": "2022-07-21T10:45:40.942Z"
   },
   {
    "duration": 0,
    "start_time": "2022-07-21T10:45:40.943Z"
   },
   {
    "duration": 0,
    "start_time": "2022-07-21T10:45:40.944Z"
   },
   {
    "duration": 0,
    "start_time": "2022-07-21T10:45:40.945Z"
   },
   {
    "duration": 0,
    "start_time": "2022-07-21T10:45:40.946Z"
   },
   {
    "duration": 0,
    "start_time": "2022-07-21T10:45:40.947Z"
   },
   {
    "duration": 0,
    "start_time": "2022-07-21T10:45:40.948Z"
   },
   {
    "duration": 0,
    "start_time": "2022-07-21T10:45:40.950Z"
   },
   {
    "duration": 0,
    "start_time": "2022-07-21T10:45:40.951Z"
   },
   {
    "duration": 0,
    "start_time": "2022-07-21T10:45:40.952Z"
   },
   {
    "duration": 0,
    "start_time": "2022-07-21T10:45:40.954Z"
   },
   {
    "duration": 0,
    "start_time": "2022-07-21T10:45:40.955Z"
   },
   {
    "duration": 2856,
    "start_time": "2022-07-21T10:45:56.211Z"
   },
   {
    "duration": 204,
    "start_time": "2022-07-21T10:46:41.760Z"
   },
   {
    "duration": 314,
    "start_time": "2022-07-21T10:46:57.672Z"
   },
   {
    "duration": 2588,
    "start_time": "2022-07-21T10:47:18.737Z"
   },
   {
    "duration": 10,
    "start_time": "2022-07-21T10:47:48.391Z"
   },
   {
    "duration": 10,
    "start_time": "2022-07-21T10:48:01.947Z"
   },
   {
    "duration": 4,
    "start_time": "2022-07-21T10:49:48.429Z"
   },
   {
    "duration": 1119,
    "start_time": "2022-07-21T10:49:52.260Z"
   },
   {
    "duration": 56,
    "start_time": "2022-07-21T10:49:53.382Z"
   },
   {
    "duration": 15,
    "start_time": "2022-07-21T10:49:53.440Z"
   },
   {
    "duration": 25,
    "start_time": "2022-07-21T10:49:53.456Z"
   },
   {
    "duration": 4,
    "start_time": "2022-07-21T10:49:53.482Z"
   },
   {
    "duration": 27,
    "start_time": "2022-07-21T10:49:53.487Z"
   },
   {
    "duration": 21,
    "start_time": "2022-07-21T10:49:53.516Z"
   },
   {
    "duration": 37,
    "start_time": "2022-07-21T10:49:53.539Z"
   },
   {
    "duration": 17,
    "start_time": "2022-07-21T10:49:53.577Z"
   },
   {
    "duration": 34,
    "start_time": "2022-07-21T10:49:53.598Z"
   },
   {
    "duration": 14,
    "start_time": "2022-07-21T10:49:53.634Z"
   },
   {
    "duration": 18,
    "start_time": "2022-07-21T10:49:53.650Z"
   },
   {
    "duration": 25,
    "start_time": "2022-07-21T10:49:53.670Z"
   },
   {
    "duration": 28,
    "start_time": "2022-07-21T10:49:53.697Z"
   },
   {
    "duration": 15,
    "start_time": "2022-07-21T10:49:53.726Z"
   },
   {
    "duration": 14,
    "start_time": "2022-07-21T10:49:53.743Z"
   },
   {
    "duration": 30,
    "start_time": "2022-07-21T10:49:53.759Z"
   },
   {
    "duration": 8,
    "start_time": "2022-07-21T10:49:53.790Z"
   },
   {
    "duration": 26,
    "start_time": "2022-07-21T10:49:53.799Z"
   },
   {
    "duration": 17,
    "start_time": "2022-07-21T10:49:53.826Z"
   },
   {
    "duration": 17,
    "start_time": "2022-07-21T10:49:53.844Z"
   },
   {
    "duration": 24,
    "start_time": "2022-07-21T10:49:53.862Z"
   },
   {
    "duration": 5,
    "start_time": "2022-07-21T10:49:53.888Z"
   },
   {
    "duration": 32,
    "start_time": "2022-07-21T10:49:53.895Z"
   },
   {
    "duration": 19,
    "start_time": "2022-07-21T10:49:53.928Z"
   },
   {
    "duration": 13,
    "start_time": "2022-07-21T10:49:53.948Z"
   },
   {
    "duration": 19,
    "start_time": "2022-07-21T10:49:53.963Z"
   },
   {
    "duration": 5,
    "start_time": "2022-07-21T10:49:53.986Z"
   },
   {
    "duration": 43,
    "start_time": "2022-07-21T10:49:53.993Z"
   },
   {
    "duration": 418,
    "start_time": "2022-07-21T10:49:54.038Z"
   },
   {
    "duration": 18,
    "start_time": "2022-07-21T10:49:54.458Z"
   },
   {
    "duration": 4,
    "start_time": "2022-07-21T10:49:54.478Z"
   },
   {
    "duration": 155,
    "start_time": "2022-07-21T10:49:54.484Z"
   },
   {
    "duration": 108,
    "start_time": "2022-07-21T10:49:54.642Z"
   },
   {
    "duration": 7,
    "start_time": "2022-07-21T10:49:54.752Z"
   },
   {
    "duration": 292,
    "start_time": "2022-07-21T10:49:54.760Z"
   },
   {
    "duration": 1433,
    "start_time": "2022-07-21T10:49:55.054Z"
   },
   {
    "duration": 18,
    "start_time": "2022-07-21T10:49:56.489Z"
   },
   {
    "duration": 28,
    "start_time": "2022-07-21T10:49:56.508Z"
   },
   {
    "duration": 11,
    "start_time": "2022-07-21T10:49:56.537Z"
   },
   {
    "duration": 20,
    "start_time": "2022-07-21T10:49:56.549Z"
   },
   {
    "duration": 27,
    "start_time": "2022-07-21T10:49:56.570Z"
   },
   {
    "duration": 1562,
    "start_time": "2022-07-21T10:49:56.599Z"
   },
   {
    "duration": 458,
    "start_time": "2022-07-21T10:49:58.163Z"
   },
   {
    "duration": 288,
    "start_time": "2022-07-21T10:49:58.623Z"
   },
   {
    "duration": 289,
    "start_time": "2022-07-21T10:49:58.913Z"
   },
   {
    "duration": 350,
    "start_time": "2022-07-21T10:49:59.204Z"
   },
   {
    "duration": 310,
    "start_time": "2022-07-21T10:49:59.556Z"
   },
   {
    "duration": 9,
    "start_time": "2022-07-21T10:49:59.868Z"
   },
   {
    "duration": 362,
    "start_time": "2022-07-21T10:49:59.878Z"
   },
   {
    "duration": 2772,
    "start_time": "2022-07-21T10:50:00.242Z"
   },
   {
    "duration": 3218,
    "start_time": "2022-07-21T10:50:03.015Z"
   },
   {
    "duration": 250,
    "start_time": "2022-07-21T10:50:06.235Z"
   },
   {
    "duration": 252,
    "start_time": "2022-07-21T10:50:06.487Z"
   },
   {
    "duration": 610,
    "start_time": "2022-07-21T10:50:06.740Z"
   },
   {
    "duration": 511,
    "start_time": "2022-07-21T10:50:07.353Z"
   },
   {
    "duration": 4,
    "start_time": "2022-07-21T10:50:07.866Z"
   },
   {
    "duration": 225,
    "start_time": "2022-07-21T10:50:07.872Z"
   },
   {
    "duration": 0,
    "start_time": "2022-07-21T10:50:08.099Z"
   },
   {
    "duration": 0,
    "start_time": "2022-07-21T10:50:08.101Z"
   },
   {
    "duration": 0,
    "start_time": "2022-07-21T10:50:08.101Z"
   },
   {
    "duration": 0,
    "start_time": "2022-07-21T10:50:08.103Z"
   },
   {
    "duration": 0,
    "start_time": "2022-07-21T10:50:08.104Z"
   },
   {
    "duration": 0,
    "start_time": "2022-07-21T10:50:08.105Z"
   },
   {
    "duration": 0,
    "start_time": "2022-07-21T10:50:08.106Z"
   },
   {
    "duration": 0,
    "start_time": "2022-07-21T10:50:08.124Z"
   },
   {
    "duration": 0,
    "start_time": "2022-07-21T10:50:08.125Z"
   },
   {
    "duration": 21,
    "start_time": "2022-07-21T10:50:50.065Z"
   },
   {
    "duration": 129,
    "start_time": "2022-07-21T10:51:20.739Z"
   },
   {
    "duration": 85,
    "start_time": "2022-07-21T10:51:32.356Z"
   },
   {
    "duration": 51,
    "start_time": "2022-07-21T10:51:43.362Z"
   },
   {
    "duration": 11,
    "start_time": "2022-07-21T10:51:57.025Z"
   },
   {
    "duration": 4,
    "start_time": "2022-07-21T10:53:37.104Z"
   },
   {
    "duration": 10,
    "start_time": "2022-07-21T10:53:37.679Z"
   },
   {
    "duration": 954,
    "start_time": "2022-07-21T10:53:52.407Z"
   },
   {
    "duration": 28,
    "start_time": "2022-07-21T10:57:25.034Z"
   },
   {
    "duration": 13,
    "start_time": "2022-07-21T10:58:59.496Z"
   },
   {
    "duration": 25,
    "start_time": "2022-07-21T10:59:25.498Z"
   },
   {
    "duration": 14,
    "start_time": "2022-07-21T10:59:33.623Z"
   },
   {
    "duration": 18,
    "start_time": "2022-07-21T10:59:48.382Z"
   },
   {
    "duration": 17,
    "start_time": "2022-07-21T11:00:13.726Z"
   },
   {
    "duration": 168,
    "start_time": "2022-07-21T11:00:26.660Z"
   },
   {
    "duration": 5,
    "start_time": "2022-07-21T11:00:26.830Z"
   },
   {
    "duration": 17,
    "start_time": "2022-07-21T11:01:08.788Z"
   },
   {
    "duration": 10,
    "start_time": "2022-07-21T11:01:18.764Z"
   },
   {
    "duration": 143,
    "start_time": "2022-07-21T11:01:40.827Z"
   },
   {
    "duration": 124,
    "start_time": "2022-07-21T11:02:15.442Z"
   },
   {
    "duration": 145,
    "start_time": "2022-07-21T11:02:18.297Z"
   },
   {
    "duration": 89,
    "start_time": "2022-07-21T11:02:46.258Z"
   },
   {
    "duration": 143,
    "start_time": "2022-07-21T11:03:02.225Z"
   },
   {
    "duration": 23,
    "start_time": "2022-07-21T11:03:16.129Z"
   },
   {
    "duration": 96,
    "start_time": "2022-07-21T11:03:43.216Z"
   },
   {
    "duration": 130,
    "start_time": "2022-07-21T11:03:52.648Z"
   },
   {
    "duration": 122,
    "start_time": "2022-07-21T11:05:22.189Z"
   },
   {
    "duration": 279,
    "start_time": "2022-07-21T11:05:24.078Z"
   },
   {
    "duration": 116,
    "start_time": "2022-07-21T11:05:42.348Z"
   },
   {
    "duration": 154,
    "start_time": "2022-07-21T11:05:44.397Z"
   },
   {
    "duration": 112,
    "start_time": "2022-07-21T11:06:12.788Z"
   },
   {
    "duration": 143,
    "start_time": "2022-07-21T11:06:14.948Z"
   },
   {
    "duration": 110,
    "start_time": "2022-07-21T11:06:30.611Z"
   },
   {
    "duration": 475,
    "start_time": "2022-07-21T11:06:32.363Z"
   },
   {
    "duration": 482,
    "start_time": "2022-07-21T11:07:06.530Z"
   },
   {
    "duration": 170,
    "start_time": "2022-07-21T11:07:11.187Z"
   },
   {
    "duration": 6,
    "start_time": "2022-07-21T11:07:14.810Z"
   },
   {
    "duration": 15,
    "start_time": "2022-07-21T11:07:15.954Z"
   },
   {
    "duration": 3,
    "start_time": "2022-07-21T11:07:16.923Z"
   },
   {
    "duration": 790,
    "start_time": "2022-07-21T11:07:17.945Z"
   },
   {
    "duration": 622,
    "start_time": "2022-07-21T11:07:22.066Z"
   },
   {
    "duration": 16,
    "start_time": "2022-07-21T11:07:31.265Z"
   },
   {
    "duration": 16,
    "start_time": "2022-07-21T11:07:39.073Z"
   },
   {
    "duration": 1185,
    "start_time": "2022-07-21T11:07:54.419Z"
   },
   {
    "duration": 59,
    "start_time": "2022-07-21T11:07:55.606Z"
   },
   {
    "duration": 15,
    "start_time": "2022-07-21T11:07:55.667Z"
   },
   {
    "duration": 32,
    "start_time": "2022-07-21T11:07:55.685Z"
   },
   {
    "duration": 6,
    "start_time": "2022-07-21T11:07:55.719Z"
   },
   {
    "duration": 34,
    "start_time": "2022-07-21T11:07:55.727Z"
   },
   {
    "duration": 16,
    "start_time": "2022-07-21T11:07:55.763Z"
   },
   {
    "duration": 44,
    "start_time": "2022-07-21T11:07:55.781Z"
   },
   {
    "duration": 18,
    "start_time": "2022-07-21T11:07:55.826Z"
   },
   {
    "duration": 24,
    "start_time": "2022-07-21T11:07:55.846Z"
   },
   {
    "duration": 21,
    "start_time": "2022-07-21T11:07:55.872Z"
   },
   {
    "duration": 31,
    "start_time": "2022-07-21T11:07:55.895Z"
   },
   {
    "duration": 22,
    "start_time": "2022-07-21T11:07:55.927Z"
   },
   {
    "duration": 21,
    "start_time": "2022-07-21T11:07:55.950Z"
   },
   {
    "duration": 30,
    "start_time": "2022-07-21T11:07:55.972Z"
   },
   {
    "duration": 12,
    "start_time": "2022-07-21T11:07:56.004Z"
   },
   {
    "duration": 43,
    "start_time": "2022-07-21T11:07:56.017Z"
   },
   {
    "duration": 8,
    "start_time": "2022-07-21T11:07:56.062Z"
   },
   {
    "duration": 27,
    "start_time": "2022-07-21T11:07:56.071Z"
   },
   {
    "duration": 17,
    "start_time": "2022-07-21T11:07:56.099Z"
   },
   {
    "duration": 16,
    "start_time": "2022-07-21T11:07:56.118Z"
   },
   {
    "duration": 19,
    "start_time": "2022-07-21T11:07:56.136Z"
   },
   {
    "duration": 6,
    "start_time": "2022-07-21T11:07:56.157Z"
   },
   {
    "duration": 20,
    "start_time": "2022-07-21T11:07:56.165Z"
   },
   {
    "duration": 22,
    "start_time": "2022-07-21T11:07:56.186Z"
   },
   {
    "duration": 14,
    "start_time": "2022-07-21T11:07:56.224Z"
   },
   {
    "duration": 17,
    "start_time": "2022-07-21T11:07:56.239Z"
   },
   {
    "duration": 5,
    "start_time": "2022-07-21T11:07:56.260Z"
   },
   {
    "duration": 20,
    "start_time": "2022-07-21T11:07:56.266Z"
   },
   {
    "duration": 446,
    "start_time": "2022-07-21T11:07:56.288Z"
   },
   {
    "duration": 21,
    "start_time": "2022-07-21T11:07:56.736Z"
   },
   {
    "duration": 13,
    "start_time": "2022-07-21T11:07:56.759Z"
   },
   {
    "duration": 134,
    "start_time": "2022-07-21T11:07:56.774Z"
   },
   {
    "duration": 151,
    "start_time": "2022-07-21T11:07:56.909Z"
   },
   {
    "duration": 6,
    "start_time": "2022-07-21T11:07:57.062Z"
   },
   {
    "duration": 655,
    "start_time": "2022-07-21T11:07:57.070Z"
   },
   {
    "duration": 2911,
    "start_time": "2022-07-21T11:07:57.726Z"
   },
   {
    "duration": 17,
    "start_time": "2022-07-21T11:08:00.639Z"
   },
   {
    "duration": 16,
    "start_time": "2022-07-21T11:08:00.658Z"
   },
   {
    "duration": 15,
    "start_time": "2022-07-21T11:08:00.676Z"
   },
   {
    "duration": 36,
    "start_time": "2022-07-21T11:08:00.693Z"
   },
   {
    "duration": 30,
    "start_time": "2022-07-21T11:08:00.731Z"
   },
   {
    "duration": 2383,
    "start_time": "2022-07-21T11:08:00.763Z"
   },
   {
    "duration": 649,
    "start_time": "2022-07-21T11:08:03.148Z"
   },
   {
    "duration": 279,
    "start_time": "2022-07-21T11:08:03.799Z"
   },
   {
    "duration": 302,
    "start_time": "2022-07-21T11:08:04.080Z"
   },
   {
    "duration": 380,
    "start_time": "2022-07-21T11:08:04.384Z"
   },
   {
    "duration": 325,
    "start_time": "2022-07-21T11:08:04.766Z"
   },
   {
    "duration": 9,
    "start_time": "2022-07-21T11:08:05.092Z"
   },
   {
    "duration": 341,
    "start_time": "2022-07-21T11:08:05.102Z"
   },
   {
    "duration": 2913,
    "start_time": "2022-07-21T11:08:05.445Z"
   },
   {
    "duration": 3379,
    "start_time": "2022-07-21T11:08:08.360Z"
   },
   {
    "duration": 272,
    "start_time": "2022-07-21T11:08:11.741Z"
   },
   {
    "duration": 276,
    "start_time": "2022-07-21T11:08:12.015Z"
   },
   {
    "duration": 631,
    "start_time": "2022-07-21T11:08:12.293Z"
   },
   {
    "duration": 529,
    "start_time": "2022-07-21T11:08:12.926Z"
   },
   {
    "duration": 4,
    "start_time": "2022-07-21T11:08:13.457Z"
   },
   {
    "duration": 521,
    "start_time": "2022-07-21T11:08:13.463Z"
   },
   {
    "duration": 565,
    "start_time": "2022-07-21T11:08:13.986Z"
   },
   {
    "duration": 217,
    "start_time": "2022-07-21T11:08:14.552Z"
   },
   {
    "duration": 5,
    "start_time": "2022-07-21T11:08:14.771Z"
   },
   {
    "duration": 18,
    "start_time": "2022-07-21T11:08:14.778Z"
   },
   {
    "duration": 6,
    "start_time": "2022-07-21T11:08:14.798Z"
   },
   {
    "duration": 896,
    "start_time": "2022-07-21T11:08:14.805Z"
   },
   {
    "duration": 690,
    "start_time": "2022-07-21T11:08:15.703Z"
   },
   {
    "duration": 16,
    "start_time": "2022-07-21T11:08:16.394Z"
   },
   {
    "duration": 23,
    "start_time": "2022-07-21T11:08:16.424Z"
   }
  ],
  "kernelspec": {
   "display_name": "Python 3 (ipykernel)",
   "language": "python",
   "name": "python3"
  },
  "language_info": {
   "codemirror_mode": {
    "name": "ipython",
    "version": 3
   },
   "file_extension": ".py",
   "mimetype": "text/x-python",
   "name": "python",
   "nbconvert_exporter": "python",
   "pygments_lexer": "ipython3",
   "version": "3.10.11"
  },
  "toc": {
   "base_numbering": 1,
   "nav_menu": {},
   "number_sections": false,
   "sideBar": true,
   "skip_h1_title": false,
   "title_cell": "Table of Contents",
   "title_sidebar": "Contents",
   "toc_cell": false,
   "toc_position": {
    "height": "calc(100% - 180px)",
    "left": "10px",
    "top": "150px",
    "width": "239.375px"
   },
   "toc_section_display": true,
   "toc_window_display": true
  },
  "colab": {
   "provenance": []
  }
 },
 "nbformat": 4,
 "nbformat_minor": 0
}
