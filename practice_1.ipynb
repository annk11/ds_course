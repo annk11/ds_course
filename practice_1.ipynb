{
 "cells": [
  {
   "cell_type": "markdown",
   "metadata": {},
   "source": "# Рекомендательные системы"
  },
  {
   "cell_type": "code",
   "metadata": {
    "ExecuteTime": {
     "end_time": "2024-11-30T19:19:23.792050Z",
     "start_time": "2024-11-30T19:19:23.790019Z"
    }
   },
   "source": [
    "import pandas as pd\n",
    "import seaborn as sns\n",
    "import matplotlib.pyplot as plt"
   ],
   "outputs": [],
   "execution_count": 2
  },
  {
   "cell_type": "code",
   "metadata": {
    "ExecuteTime": {
     "end_time": "2024-11-30T19:20:37.380883Z",
     "start_time": "2024-11-30T19:20:37.349511Z"
    }
   },
   "source": [
    "df_ratings = pd.read_csv(\"data/ratings.csv\")\n",
    "df_movies = pd.read_csv(\"data/movies.csv\")"
   ],
   "outputs": [],
   "execution_count": 4
  },
  {
   "cell_type": "code",
   "metadata": {
    "ExecuteTime": {
     "end_time": "2024-11-30T19:20:40.764720Z",
     "start_time": "2024-11-30T19:20:40.756618Z"
    }
   },
   "source": [
    "df_ratings.head()"
   ],
   "outputs": [
    {
     "data": {
      "text/plain": [
       "   userId  movieId  rating  timestamp\n",
       "0       1        1     4.0  964982703\n",
       "1       1        3     4.0  964981247\n",
       "2       1        6     4.0  964982224\n",
       "3       1       47     5.0  964983815\n",
       "4       1       50     5.0  964982931"
      ],
      "text/html": [
       "<div>\n",
       "<style scoped>\n",
       "    .dataframe tbody tr th:only-of-type {\n",
       "        vertical-align: middle;\n",
       "    }\n",
       "\n",
       "    .dataframe tbody tr th {\n",
       "        vertical-align: top;\n",
       "    }\n",
       "\n",
       "    .dataframe thead th {\n",
       "        text-align: right;\n",
       "    }\n",
       "</style>\n",
       "<table border=\"1\" class=\"dataframe\">\n",
       "  <thead>\n",
       "    <tr style=\"text-align: right;\">\n",
       "      <th></th>\n",
       "      <th>userId</th>\n",
       "      <th>movieId</th>\n",
       "      <th>rating</th>\n",
       "      <th>timestamp</th>\n",
       "    </tr>\n",
       "  </thead>\n",
       "  <tbody>\n",
       "    <tr>\n",
       "      <th>0</th>\n",
       "      <td>1</td>\n",
       "      <td>1</td>\n",
       "      <td>4.0</td>\n",
       "      <td>964982703</td>\n",
       "    </tr>\n",
       "    <tr>\n",
       "      <th>1</th>\n",
       "      <td>1</td>\n",
       "      <td>3</td>\n",
       "      <td>4.0</td>\n",
       "      <td>964981247</td>\n",
       "    </tr>\n",
       "    <tr>\n",
       "      <th>2</th>\n",
       "      <td>1</td>\n",
       "      <td>6</td>\n",
       "      <td>4.0</td>\n",
       "      <td>964982224</td>\n",
       "    </tr>\n",
       "    <tr>\n",
       "      <th>3</th>\n",
       "      <td>1</td>\n",
       "      <td>47</td>\n",
       "      <td>5.0</td>\n",
       "      <td>964983815</td>\n",
       "    </tr>\n",
       "    <tr>\n",
       "      <th>4</th>\n",
       "      <td>1</td>\n",
       "      <td>50</td>\n",
       "      <td>5.0</td>\n",
       "      <td>964982931</td>\n",
       "    </tr>\n",
       "  </tbody>\n",
       "</table>\n",
       "</div>"
      ]
     },
     "execution_count": 5,
     "metadata": {},
     "output_type": "execute_result"
    }
   ],
   "execution_count": 5
  },
  {
   "cell_type": "code",
   "metadata": {
    "ExecuteTime": {
     "end_time": "2024-11-30T19:20:42.883934Z",
     "start_time": "2024-11-30T19:20:42.878567Z"
    }
   },
   "source": [
    "df_movies.head()"
   ],
   "outputs": [
    {
     "data": {
      "text/plain": [
       "   movieId                               title  \\\n",
       "0        1                    Toy Story (1995)   \n",
       "1        2                      Jumanji (1995)   \n",
       "2        3             Grumpier Old Men (1995)   \n",
       "3        4            Waiting to Exhale (1995)   \n",
       "4        5  Father of the Bride Part II (1995)   \n",
       "\n",
       "                                        genres  \n",
       "0  Adventure|Animation|Children|Comedy|Fantasy  \n",
       "1                   Adventure|Children|Fantasy  \n",
       "2                               Comedy|Romance  \n",
       "3                         Comedy|Drama|Romance  \n",
       "4                                       Comedy  "
      ],
      "text/html": [
       "<div>\n",
       "<style scoped>\n",
       "    .dataframe tbody tr th:only-of-type {\n",
       "        vertical-align: middle;\n",
       "    }\n",
       "\n",
       "    .dataframe tbody tr th {\n",
       "        vertical-align: top;\n",
       "    }\n",
       "\n",
       "    .dataframe thead th {\n",
       "        text-align: right;\n",
       "    }\n",
       "</style>\n",
       "<table border=\"1\" class=\"dataframe\">\n",
       "  <thead>\n",
       "    <tr style=\"text-align: right;\">\n",
       "      <th></th>\n",
       "      <th>movieId</th>\n",
       "      <th>title</th>\n",
       "      <th>genres</th>\n",
       "    </tr>\n",
       "  </thead>\n",
       "  <tbody>\n",
       "    <tr>\n",
       "      <th>0</th>\n",
       "      <td>1</td>\n",
       "      <td>Toy Story (1995)</td>\n",
       "      <td>Adventure|Animation|Children|Comedy|Fantasy</td>\n",
       "    </tr>\n",
       "    <tr>\n",
       "      <th>1</th>\n",
       "      <td>2</td>\n",
       "      <td>Jumanji (1995)</td>\n",
       "      <td>Adventure|Children|Fantasy</td>\n",
       "    </tr>\n",
       "    <tr>\n",
       "      <th>2</th>\n",
       "      <td>3</td>\n",
       "      <td>Grumpier Old Men (1995)</td>\n",
       "      <td>Comedy|Romance</td>\n",
       "    </tr>\n",
       "    <tr>\n",
       "      <th>3</th>\n",
       "      <td>4</td>\n",
       "      <td>Waiting to Exhale (1995)</td>\n",
       "      <td>Comedy|Drama|Romance</td>\n",
       "    </tr>\n",
       "    <tr>\n",
       "      <th>4</th>\n",
       "      <td>5</td>\n",
       "      <td>Father of the Bride Part II (1995)</td>\n",
       "      <td>Comedy</td>\n",
       "    </tr>\n",
       "  </tbody>\n",
       "</table>\n",
       "</div>"
      ]
     },
     "execution_count": 6,
     "metadata": {},
     "output_type": "execute_result"
    }
   ],
   "execution_count": 6
  },
  {
   "cell_type": "code",
   "metadata": {
    "ExecuteTime": {
     "end_time": "2024-11-30T19:20:48.146986Z",
     "start_time": "2024-11-30T19:20:48.132809Z"
    }
   },
   "source": [
    "df_ratings.describe()"
   ],
   "outputs": [
    {
     "data": {
      "text/plain": [
       "              userId        movieId         rating     timestamp\n",
       "count  100836.000000  100836.000000  100836.000000  1.008360e+05\n",
       "mean      326.127564   19435.295718       3.501557  1.205946e+09\n",
       "std       182.618491   35530.987199       1.042529  2.162610e+08\n",
       "min         1.000000       1.000000       0.500000  8.281246e+08\n",
       "25%       177.000000    1199.000000       3.000000  1.019124e+09\n",
       "50%       325.000000    2991.000000       3.500000  1.186087e+09\n",
       "75%       477.000000    8122.000000       4.000000  1.435994e+09\n",
       "max       610.000000  193609.000000       5.000000  1.537799e+09"
      ],
      "text/html": [
       "<div>\n",
       "<style scoped>\n",
       "    .dataframe tbody tr th:only-of-type {\n",
       "        vertical-align: middle;\n",
       "    }\n",
       "\n",
       "    .dataframe tbody tr th {\n",
       "        vertical-align: top;\n",
       "    }\n",
       "\n",
       "    .dataframe thead th {\n",
       "        text-align: right;\n",
       "    }\n",
       "</style>\n",
       "<table border=\"1\" class=\"dataframe\">\n",
       "  <thead>\n",
       "    <tr style=\"text-align: right;\">\n",
       "      <th></th>\n",
       "      <th>userId</th>\n",
       "      <th>movieId</th>\n",
       "      <th>rating</th>\n",
       "      <th>timestamp</th>\n",
       "    </tr>\n",
       "  </thead>\n",
       "  <tbody>\n",
       "    <tr>\n",
       "      <th>count</th>\n",
       "      <td>100836.000000</td>\n",
       "      <td>100836.000000</td>\n",
       "      <td>100836.000000</td>\n",
       "      <td>1.008360e+05</td>\n",
       "    </tr>\n",
       "    <tr>\n",
       "      <th>mean</th>\n",
       "      <td>326.127564</td>\n",
       "      <td>19435.295718</td>\n",
       "      <td>3.501557</td>\n",
       "      <td>1.205946e+09</td>\n",
       "    </tr>\n",
       "    <tr>\n",
       "      <th>std</th>\n",
       "      <td>182.618491</td>\n",
       "      <td>35530.987199</td>\n",
       "      <td>1.042529</td>\n",
       "      <td>2.162610e+08</td>\n",
       "    </tr>\n",
       "    <tr>\n",
       "      <th>min</th>\n",
       "      <td>1.000000</td>\n",
       "      <td>1.000000</td>\n",
       "      <td>0.500000</td>\n",
       "      <td>8.281246e+08</td>\n",
       "    </tr>\n",
       "    <tr>\n",
       "      <th>25%</th>\n",
       "      <td>177.000000</td>\n",
       "      <td>1199.000000</td>\n",
       "      <td>3.000000</td>\n",
       "      <td>1.019124e+09</td>\n",
       "    </tr>\n",
       "    <tr>\n",
       "      <th>50%</th>\n",
       "      <td>325.000000</td>\n",
       "      <td>2991.000000</td>\n",
       "      <td>3.500000</td>\n",
       "      <td>1.186087e+09</td>\n",
       "    </tr>\n",
       "    <tr>\n",
       "      <th>75%</th>\n",
       "      <td>477.000000</td>\n",
       "      <td>8122.000000</td>\n",
       "      <td>4.000000</td>\n",
       "      <td>1.435994e+09</td>\n",
       "    </tr>\n",
       "    <tr>\n",
       "      <th>max</th>\n",
       "      <td>610.000000</td>\n",
       "      <td>193609.000000</td>\n",
       "      <td>5.000000</td>\n",
       "      <td>1.537799e+09</td>\n",
       "    </tr>\n",
       "  </tbody>\n",
       "</table>\n",
       "</div>"
      ]
     },
     "execution_count": 8,
     "metadata": {},
     "output_type": "execute_result"
    }
   ],
   "execution_count": 8
  },
  {
   "cell_type": "code",
   "metadata": {
    "ExecuteTime": {
     "end_time": "2024-11-30T19:20:50.432469Z",
     "start_time": "2024-11-30T19:20:50.418946Z"
    }
   },
   "source": [
    "df_ratings = df_ratings.merge(df_movies[['movieId', 'title']],how='left', on='movieId')"
   ],
   "outputs": [],
   "execution_count": 9
  },
  {
   "cell_type": "code",
   "metadata": {
    "ExecuteTime": {
     "end_time": "2024-11-30T19:20:51.350730Z",
     "start_time": "2024-11-30T19:20:51.341557Z"
    }
   },
   "source": [
    "df_ratings.groupby('rating').count()"
   ],
   "outputs": [
    {
     "data": {
      "text/plain": [
       "        userId  movieId  timestamp  title\n",
       "rating                                   \n",
       "0.5       1370     1370       1370   1370\n",
       "1.0       2811     2811       2811   2811\n",
       "1.5       1791     1791       1791   1791\n",
       "2.0       7551     7551       7551   7551\n",
       "2.5       5550     5550       5550   5550\n",
       "3.0      20047    20047      20047  20047\n",
       "3.5      13136    13136      13136  13136\n",
       "4.0      26818    26818      26818  26818\n",
       "4.5       8551     8551       8551   8551\n",
       "5.0      13211    13211      13211  13211"
      ],
      "text/html": [
       "<div>\n",
       "<style scoped>\n",
       "    .dataframe tbody tr th:only-of-type {\n",
       "        vertical-align: middle;\n",
       "    }\n",
       "\n",
       "    .dataframe tbody tr th {\n",
       "        vertical-align: top;\n",
       "    }\n",
       "\n",
       "    .dataframe thead th {\n",
       "        text-align: right;\n",
       "    }\n",
       "</style>\n",
       "<table border=\"1\" class=\"dataframe\">\n",
       "  <thead>\n",
       "    <tr style=\"text-align: right;\">\n",
       "      <th></th>\n",
       "      <th>userId</th>\n",
       "      <th>movieId</th>\n",
       "      <th>timestamp</th>\n",
       "      <th>title</th>\n",
       "    </tr>\n",
       "    <tr>\n",
       "      <th>rating</th>\n",
       "      <th></th>\n",
       "      <th></th>\n",
       "      <th></th>\n",
       "      <th></th>\n",
       "    </tr>\n",
       "  </thead>\n",
       "  <tbody>\n",
       "    <tr>\n",
       "      <th>0.5</th>\n",
       "      <td>1370</td>\n",
       "      <td>1370</td>\n",
       "      <td>1370</td>\n",
       "      <td>1370</td>\n",
       "    </tr>\n",
       "    <tr>\n",
       "      <th>1.0</th>\n",
       "      <td>2811</td>\n",
       "      <td>2811</td>\n",
       "      <td>2811</td>\n",
       "      <td>2811</td>\n",
       "    </tr>\n",
       "    <tr>\n",
       "      <th>1.5</th>\n",
       "      <td>1791</td>\n",
       "      <td>1791</td>\n",
       "      <td>1791</td>\n",
       "      <td>1791</td>\n",
       "    </tr>\n",
       "    <tr>\n",
       "      <th>2.0</th>\n",
       "      <td>7551</td>\n",
       "      <td>7551</td>\n",
       "      <td>7551</td>\n",
       "      <td>7551</td>\n",
       "    </tr>\n",
       "    <tr>\n",
       "      <th>2.5</th>\n",
       "      <td>5550</td>\n",
       "      <td>5550</td>\n",
       "      <td>5550</td>\n",
       "      <td>5550</td>\n",
       "    </tr>\n",
       "    <tr>\n",
       "      <th>3.0</th>\n",
       "      <td>20047</td>\n",
       "      <td>20047</td>\n",
       "      <td>20047</td>\n",
       "      <td>20047</td>\n",
       "    </tr>\n",
       "    <tr>\n",
       "      <th>3.5</th>\n",
       "      <td>13136</td>\n",
       "      <td>13136</td>\n",
       "      <td>13136</td>\n",
       "      <td>13136</td>\n",
       "    </tr>\n",
       "    <tr>\n",
       "      <th>4.0</th>\n",
       "      <td>26818</td>\n",
       "      <td>26818</td>\n",
       "      <td>26818</td>\n",
       "      <td>26818</td>\n",
       "    </tr>\n",
       "    <tr>\n",
       "      <th>4.5</th>\n",
       "      <td>8551</td>\n",
       "      <td>8551</td>\n",
       "      <td>8551</td>\n",
       "      <td>8551</td>\n",
       "    </tr>\n",
       "    <tr>\n",
       "      <th>5.0</th>\n",
       "      <td>13211</td>\n",
       "      <td>13211</td>\n",
       "      <td>13211</td>\n",
       "      <td>13211</td>\n",
       "    </tr>\n",
       "  </tbody>\n",
       "</table>\n",
       "</div>"
      ]
     },
     "execution_count": 10,
     "metadata": {},
     "output_type": "execute_result"
    }
   ],
   "execution_count": 10
  },
  {
   "cell_type": "code",
   "metadata": {
    "ExecuteTime": {
     "end_time": "2024-11-30T19:21:59.706948Z",
     "start_time": "2024-11-30T19:21:59.526765Z"
    }
   },
   "source": [
    "#df_ratings.hist(column='rating')\n",
    "plt.figure(figsize = (12, 8))\n",
    "ax = sns.countplot(x=\"rating\", data=df_ratings)\n",
    "ax.set_yticklabels([num for num in ax.get_yticks()])\n",
    "plt.tick_params(labelsize = 15)\n",
    "plt.title(\"Рейтинг\", fontsize = 20)\n",
    "plt.xlabel(\"Рейтинг\", fontsize = 20)\n",
    "plt.ylabel(\"Количество\", fontsize = 20)\n",
    "plt.show()"
   ],
   "outputs": [
    {
     "name": "stderr",
     "output_type": "stream",
     "text": [
      "/var/folders/1h/6qfyp7nn31g62hlw2tr2yltm0000gn/T/ipykernel_1774/3843737470.py:4: UserWarning: set_ticklabels() should only be used with a fixed number of ticks, i.e. after set_ticks() or using a FixedLocator.\n",
      "  ax.set_yticklabels([num for num in ax.get_yticks()])\n"
     ]
    },
    {
     "data": {
      "text/plain": [
       "<Figure size 1200x800 with 1 Axes>"
      ],
      "image/png": "[encoded data removed]"
     },
     "metadata": {},
     "output_type": "display_data"
    }
   ],
   "execution_count": 14
  },
  {
   "cell_type": "code",
   "metadata": {
    "ExecuteTime": {
     "end_time": "2024-11-30T19:22:42.599181Z",
     "start_time": "2024-11-30T19:22:42.579939Z"
    }
   },
   "source": [
    "df_ratings.groupby(by = \"userId\")[\"rating\"].count().sort_values(ascending = False)"
   ],
   "outputs": [
    {
     "data": {
      "text/plain": [
       "userId\n",
       "414    2698\n",
       "599    2478\n",
       "474    2108\n",
       "448    1864\n",
       "274    1346\n",
       "       ... \n",
       "442      20\n",
       "569      20\n",
       "320      20\n",
       "576      20\n",
       "53       20\n",
       "Name: rating, Length: 610, dtype: int64"
      ]
     },
     "execution_count": 15,
     "metadata": {},
     "output_type": "execute_result"
    }
   ],
   "execution_count": 15
  },
  {
   "cell_type": "code",
   "metadata": {
    "ExecuteTime": {
     "end_time": "2024-11-30T19:22:50.139743Z",
     "start_time": "2024-11-30T19:22:50.118054Z"
    }
   },
   "source": [
    "df_ratings.groupby(by = \"title\")[\"rating\"].count().sort_values(ascending = False)"
   ],
   "outputs": [
    {
     "data": {
      "text/plain": [
       "title\n",
       "Forrest Gump (1994)                          329\n",
       "Shawshank Redemption, The (1994)             317\n",
       "Pulp Fiction (1994)                          307\n",
       "Silence of the Lambs, The (1991)             279\n",
       "Matrix, The (1999)                           278\n",
       "                                            ... \n",
       "King Solomon's Mines (1950)                    1\n",
       "King Solomon's Mines (1937)                    1\n",
       "King Ralph (1991)                              1\n",
       "King Kong Lives (1986)                         1\n",
       "À nous la liberté (Freedom for Us) (1931)      1\n",
       "Name: rating, Length: 9719, dtype: int64"
      ]
     },
     "execution_count": 16,
     "metadata": {},
     "output_type": "execute_result"
    }
   ],
   "execution_count": 16
  },
  {
   "cell_type": "markdown",
   "metadata": {},
   "source": "## Матрица"
  },
  {
   "cell_type": "code",
   "metadata": {
    "ExecuteTime": {
     "end_time": "2024-11-30T19:23:24.837426Z",
     "start_time": "2024-11-30T19:23:24.749383Z"
    }
   },
   "source": [
    "df_user_item = df_ratings.pivot_table(index=['userId'], columns=['title'], values='rating')"
   ],
   "outputs": [],
   "execution_count": 17
  },
  {
   "cell_type": "code",
   "metadata": {
    "ExecuteTime": {
     "end_time": "2024-11-30T19:23:27.290673Z",
     "start_time": "2024-11-30T19:23:27.281614Z"
    }
   },
   "source": [
    "df_user_item.tail(5)"
   ],
   "outputs": [
    {
     "data": {
      "text/plain": [
       "title   '71 (2014)  'Hellboy': The Seeds of Creation (2004)  \\\n",
       "userId                                                        \n",
       "606            NaN                                      NaN   \n",
       "607            NaN                                      NaN   \n",
       "608            NaN                                      NaN   \n",
       "609            NaN                                      NaN   \n",
       "610            4.0                                      NaN   \n",
       "\n",
       "title   'Round Midnight (1986)  'Salem's Lot (2004)  \\\n",
       "userId                                                \n",
       "606                        NaN                  NaN   \n",
       "607                        NaN                  NaN   \n",
       "608                        NaN                  NaN   \n",
       "609                        NaN                  NaN   \n",
       "610                        NaN                  NaN   \n",
       "\n",
       "title   'Til There Was You (1997)  'Tis the Season for Love (2015)  \\\n",
       "userId                                                               \n",
       "606                           NaN                              NaN   \n",
       "607                           NaN                              NaN   \n",
       "608                           NaN                              NaN   \n",
       "609                           NaN                              NaN   \n",
       "610                           NaN                              NaN   \n",
       "\n",
       "title   'burbs, The (1989)  'night Mother (1986)  (500) Days of Summer (2009)  \\\n",
       "userId                                                                          \n",
       "606                    NaN                   NaN                          NaN   \n",
       "607                    NaN                   NaN                          NaN   \n",
       "608                    NaN                   NaN                          NaN   \n",
       "609                    NaN                   NaN                          NaN   \n",
       "610                    NaN                   NaN                          3.5   \n",
       "\n",
       "title   *batteries not included (1987)  ...  Zulu (2013)  [REC] (2007)  \\\n",
       "userId                                  ...                              \n",
       "606                                NaN  ...          NaN           NaN   \n",
       "607                                NaN  ...          NaN           NaN   \n",
       "608                                NaN  ...          NaN           NaN   \n",
       "609                                NaN  ...          NaN           NaN   \n",
       "610                                NaN  ...          NaN           4.0   \n",
       "\n",
       "title   [REC]² (2009)  [REC]³ 3 Génesis (2012)  \\\n",
       "userId                                           \n",
       "606               NaN                      NaN   \n",
       "607               NaN                      NaN   \n",
       "608               NaN                      NaN   \n",
       "609               NaN                      NaN   \n",
       "610               3.5                      3.0   \n",
       "\n",
       "title   anohana: The Flower We Saw That Day - The Movie (2013)  \\\n",
       "userId                                                           \n",
       "606                                                   NaN        \n",
       "607                                                   NaN        \n",
       "608                                                   NaN        \n",
       "609                                                   NaN        \n",
       "610                                                   NaN        \n",
       "\n",
       "title   eXistenZ (1999)  xXx (2002)  xXx: State of the Union (2005)  \\\n",
       "userId                                                                \n",
       "606                 NaN         NaN                             NaN   \n",
       "607                 NaN         NaN                             NaN   \n",
       "608                 4.5         3.5                             NaN   \n",
       "609                 NaN         NaN                             NaN   \n",
       "610                 NaN         2.0                             1.5   \n",
       "\n",
       "title   ¡Three Amigos! (1986)  À nous la liberté (Freedom for Us) (1931)  \n",
       "userId                                                                    \n",
       "606                       NaN                                        NaN  \n",
       "607                       NaN                                        NaN  \n",
       "608                       NaN                                        NaN  \n",
       "609                       NaN                                        NaN  \n",
       "610                       NaN                                        NaN  \n",
       "\n",
       "[5 rows x 9719 columns]"
      ],
      "text/html": [
       "<div>\n",
       "<style scoped>\n",
       "    .dataframe tbody tr th:only-of-type {\n",
       "        vertical-align: middle;\n",
       "    }\n",
       "\n",
       "    .dataframe tbody tr th {\n",
       "        vertical-align: top;\n",
       "    }\n",
       "\n",
       "    .dataframe thead th {\n",
       "        text-align: right;\n",
       "    }\n",
       "</style>\n",
       "<table border=\"1\" class=\"dataframe\">\n",
       "  <thead>\n",
       "    <tr style=\"text-align: right;\">\n",
       "      <th>title</th>\n",
       "      <th>'71 (2014)</th>\n",
       "      <th>'Hellboy': The Seeds of Creation (2004)</th>\n",
       "      <th>'Round Midnight (1986)</th>\n",
       "      <th>'Salem's Lot (2004)</th>\n",
       "      <th>'Til There Was You (1997)</th>\n",
       "      <th>'Tis the Season for Love (2015)</th>\n",
       "      <th>'burbs, The (1989)</th>\n",
       "      <th>'night Mother (1986)</th>\n",
       "      <th>(500) Days of Summer (2009)</th>\n",
       "      <th>*batteries not included (1987)</th>\n",
       "      <th>...</th>\n",
       "      <th>Zulu (2013)</th>\n",
       "      <th>[REC] (2007)</th>\n",
       "      <th>[REC]² (2009)</th>\n",
       "      <th>[REC]³ 3 Génesis (2012)</th>\n",
       "      <th>anohana: The Flower We Saw That Day - The Movie (2013)</th>\n",
       "      <th>eXistenZ (1999)</th>\n",
       "      <th>xXx (2002)</th>\n",
       "      <th>xXx: State of the Union (2005)</th>\n",
       "      <th>¡Three Amigos! (1986)</th>\n",
       "      <th>À nous la liberté (Freedom for Us) (1931)</th>\n",
       "    </tr>\n",
       "    <tr>\n",
       "      <th>userId</th>\n",
       "      <th></th>\n",
       "      <th></th>\n",
       "      <th></th>\n",
       "      <th></th>\n",
       "      <th></th>\n",
       "      <th></th>\n",
       "      <th></th>\n",
       "      <th></th>\n",
       "      <th></th>\n",
       "      <th></th>\n",
       "      <th></th>\n",
       "      <th></th>\n",
       "      <th></th>\n",
       "      <th></th>\n",
       "      <th></th>\n",
       "      <th></th>\n",
       "      <th></th>\n",
       "      <th></th>\n",
       "      <th></th>\n",
       "      <th></th>\n",
       "      <th></th>\n",
       "    </tr>\n",
       "  </thead>\n",
       "  <tbody>\n",
       "    <tr>\n",
       "      <th>606</th>\n",
       "      <td>NaN</td>\n",
       "      <td>NaN</td>\n",
       "      <td>NaN</td>\n",
       "      <td>NaN</td>\n",
       "      <td>NaN</td>\n",
       "      <td>NaN</td>\n",
       "      <td>NaN</td>\n",
       "      <td>NaN</td>\n",
       "      <td>NaN</td>\n",
       "      <td>NaN</td>\n",
       "      <td>...</td>\n",
       "      <td>NaN</td>\n",
       "      <td>NaN</td>\n",
       "      <td>NaN</td>\n",
       "      <td>NaN</td>\n",
       "      <td>NaN</td>\n",
       "      <td>NaN</td>\n",
       "      <td>NaN</td>\n",
       "      <td>NaN</td>\n",
       "      <td>NaN</td>\n",
       "      <td>NaN</td>\n",
       "    </tr>\n",
       "    <tr>\n",
       "      <th>607</th>\n",
       "      <td>NaN</td>\n",
       "      <td>NaN</td>\n",
       "      <td>NaN</td>\n",
       "      <td>NaN</td>\n",
       "      <td>NaN</td>\n",
       "      <td>NaN</td>\n",
       "      <td>NaN</td>\n",
       "      <td>NaN</td>\n",
       "      <td>NaN</td>\n",
       "      <td>NaN</td>\n",
       "      <td>...</td>\n",
       "      <td>NaN</td>\n",
       "      <td>NaN</td>\n",
       "      <td>NaN</td>\n",
       "      <td>NaN</td>\n",
       "      <td>NaN</td>\n",
       "      <td>NaN</td>\n",
       "      <td>NaN</td>\n",
       "      <td>NaN</td>\n",
       "      <td>NaN</td>\n",
       "      <td>NaN</td>\n",
       "    </tr>\n",
       "    <tr>\n",
       "      <th>608</th>\n",
       "      <td>NaN</td>\n",
       "      <td>NaN</td>\n",
       "      <td>NaN</td>\n",
       "      <td>NaN</td>\n",
       "      <td>NaN</td>\n",
       "      <td>NaN</td>\n",
       "      <td>NaN</td>\n",
       "      <td>NaN</td>\n",
       "      <td>NaN</td>\n",
       "      <td>NaN</td>\n",
       "      <td>...</td>\n",
       "      <td>NaN</td>\n",
       "      <td>NaN</td>\n",
       "      <td>NaN</td>\n",
       "      <td>NaN</td>\n",
       "      <td>NaN</td>\n",
       "      <td>4.5</td>\n",
       "      <td>3.5</td>\n",
       "      <td>NaN</td>\n",
       "      <td>NaN</td>\n",
       "      <td>NaN</td>\n",
       "    </tr>\n",
       "    <tr>\n",
       "      <th>609</th>\n",
       "      <td>NaN</td>\n",
       "      <td>NaN</td>\n",
       "      <td>NaN</td>\n",
       "      <td>NaN</td>\n",
       "      <td>NaN</td>\n",
       "      <td>NaN</td>\n",
       "      <td>NaN</td>\n",
       "      <td>NaN</td>\n",
       "      <td>NaN</td>\n",
       "      <td>NaN</td>\n",
       "      <td>...</td>\n",
       "      <td>NaN</td>\n",
       "      <td>NaN</td>\n",
       "      <td>NaN</td>\n",
       "      <td>NaN</td>\n",
       "      <td>NaN</td>\n",
       "      <td>NaN</td>\n",
       "      <td>NaN</td>\n",
       "      <td>NaN</td>\n",
       "      <td>NaN</td>\n",
       "      <td>NaN</td>\n",
       "    </tr>\n",
       "    <tr>\n",
       "      <th>610</th>\n",
       "      <td>4.0</td>\n",
       "      <td>NaN</td>\n",
       "      <td>NaN</td>\n",
       "      <td>NaN</td>\n",
       "      <td>NaN</td>\n",
       "      <td>NaN</td>\n",
       "      <td>NaN</td>\n",
       "      <td>NaN</td>\n",
       "      <td>3.5</td>\n",
       "      <td>NaN</td>\n",
       "      <td>...</td>\n",
       "      <td>NaN</td>\n",
       "      <td>4.0</td>\n",
       "      <td>3.5</td>\n",
       "      <td>3.0</td>\n",
       "      <td>NaN</td>\n",
       "      <td>NaN</td>\n",
       "      <td>2.0</td>\n",
       "      <td>1.5</td>\n",
       "      <td>NaN</td>\n",
       "      <td>NaN</td>\n",
       "    </tr>\n",
       "  </tbody>\n",
       "</table>\n",
       "<p>5 rows × 9719 columns</p>\n",
       "</div>"
      ]
     },
     "execution_count": 18,
     "metadata": {},
     "output_type": "execute_result"
    }
   ],
   "execution_count": 18
  },
  {
   "cell_type": "code",
   "metadata": {
    "ExecuteTime": {
     "end_time": "2024-11-30T19:23:54.393291Z",
     "start_time": "2024-11-30T19:23:54.387759Z"
    }
   },
   "source": [
    "df_user_item.shape"
   ],
   "outputs": [
    {
     "data": {
      "text/plain": [
       "(610, 9719)"
      ]
     },
     "execution_count": 19,
     "metadata": {},
     "output_type": "execute_result"
    }
   ],
   "execution_count": 19
  },
  {
   "cell_type": "markdown",
   "metadata": {},
   "source": "## Тестирование"
  },
  {
   "cell_type": "code",
   "metadata": {
    "ExecuteTime": {
     "end_time": "2024-11-30T19:24:41.576325Z",
     "start_time": "2024-11-30T19:24:41.570949Z"
    }
   },
   "source": [
    "forrestGumpRatings = df_user_item['Forrest Gump (1994)']"
   ],
   "outputs": [],
   "execution_count": 20
  },
  {
   "cell_type": "code",
   "metadata": {
    "ExecuteTime": {
     "end_time": "2024-11-30T19:24:44.089251Z",
     "start_time": "2024-11-30T19:24:44.084737Z"
    }
   },
   "source": [
    "forrestGumpRatings"
   ],
   "outputs": [
    {
     "data": {
      "text/plain": [
       "userId\n",
       "1      4.0\n",
       "2      NaN\n",
       "3      NaN\n",
       "4      NaN\n",
       "5      NaN\n",
       "      ... \n",
       "606    4.0\n",
       "607    NaN\n",
       "608    3.0\n",
       "609    4.0\n",
       "610    3.0\n",
       "Name: Forrest Gump (1994), Length: 610, dtype: float64"
      ]
     },
     "execution_count": 21,
     "metadata": {},
     "output_type": "execute_result"
    }
   ],
   "execution_count": 21
  },
  {
   "metadata": {},
   "cell_type": "markdown",
   "source": "Проверим схожие фильмы"
  },
  {
   "cell_type": "code",
   "metadata": {
    "ExecuteTime": {
     "end_time": "2024-11-30T19:24:48.364916Z",
     "start_time": "2024-11-30T19:24:47.997361Z"
    }
   },
   "source": [
    "similarMovies = df_user_item.corrwith(forrestGumpRatings).dropna()"
   ],
   "outputs": [
    {
     "name": "stderr",
     "output_type": "stream",
     "text": [
      "/Users/anastasianikitina/PycharmProjects/ds_course/venv/lib/python3.12/site-packages/numpy/lib/function_base.py:2889: RuntimeWarning: Degrees of freedom <= 0 for slice\n",
      "  c = cov(x, y, rowvar, dtype=dtype)\n",
      "/Users/anastasianikitina/PycharmProjects/ds_course/venv/lib/python3.12/site-packages/numpy/lib/function_base.py:2748: RuntimeWarning: divide by zero encountered in divide\n",
      "  c *= np.true_divide(1, fact)\n",
      "/Users/anastasianikitina/PycharmProjects/ds_course/venv/lib/python3.12/site-packages/numpy/lib/function_base.py:2748: RuntimeWarning: invalid value encountered in multiply\n",
      "  c *= np.true_divide(1, fact)\n",
      "/Users/anastasianikitina/PycharmProjects/ds_course/venv/lib/python3.12/site-packages/numpy/lib/function_base.py:2897: RuntimeWarning: invalid value encountered in divide\n",
      "  c /= stddev[:, None]\n",
      "/Users/anastasianikitina/PycharmProjects/ds_course/venv/lib/python3.12/site-packages/numpy/lib/function_base.py:2898: RuntimeWarning: invalid value encountered in divide\n",
      "  c /= stddev[None, :]\n"
     ]
    }
   ],
   "execution_count": 22
  },
  {
   "cell_type": "code",
   "metadata": {
    "ExecuteTime": {
     "end_time": "2024-11-30T19:24:56.892176Z",
     "start_time": "2024-11-30T19:24:56.886552Z"
    }
   },
   "source": [
    "similarMovies"
   ],
   "outputs": [
    {
     "data": {
      "text/plain": [
       "title\n",
       "'burbs, The (1989)                0.197712\n",
       "(500) Days of Summer (2009)       0.234095\n",
       "*batteries not included (1987)    0.892710\n",
       "...And Justice for All (1979)     0.928571\n",
       "10 Cent Pistol (2015)            -1.000000\n",
       "                                    ...   \n",
       "[REC]² (2009)                    -0.052414\n",
       "eXistenZ (1999)                   0.011189\n",
       "xXx (2002)                        0.306817\n",
       "xXx: State of the Union (2005)    0.383482\n",
       "¡Three Amigos! (1986)             0.449692\n",
       "Length: 5460, dtype: float64"
      ]
     },
     "execution_count": 23,
     "metadata": {},
     "output_type": "execute_result"
    }
   ],
   "execution_count": 23
  },
  {
   "cell_type": "code",
   "metadata": {
    "ExecuteTime": {
     "end_time": "2024-11-30T19:25:13.728170Z",
     "start_time": "2024-11-30T19:25:13.721341Z"
    }
   },
   "source": [
    "similarMovies.sort_values(ascending=False)[:15]"
   ],
   "outputs": [
    {
     "data": {
      "text/plain": [
       "title\n",
       "Lost & Found (1999)                                   1.0\n",
       "Century of the Self, The (2002)                       1.0\n",
       "The 5th Wave (2016)                                   1.0\n",
       "Play Time (a.k.a. Playtime) (1967)                    1.0\n",
       "Memories (Memorîzu) (1995)                            1.0\n",
       "Playing God (1997)                                    1.0\n",
       "Killers (2010)                                        1.0\n",
       "Girl Walks Home Alone at Night, A (2014)              1.0\n",
       "Tampopo (1985)                                        1.0\n",
       "Cercle Rouge, Le (Red Circle, The) (1970)             1.0\n",
       "The Boss (2016)                                       1.0\n",
       "Poison Ivy: New Seduction (1997)                      1.0\n",
       "Tale of Two Sisters, A (Janghwa, Hongryeon) (2003)    1.0\n",
       "Welcome to the Jungle (2013)                          1.0\n",
       "Take Shelter (2011)                                   1.0\n",
       "dtype: float64"
      ]
     },
     "execution_count": 24,
     "metadata": {},
     "output_type": "execute_result"
    }
   ],
   "execution_count": 24
  },
  {
   "cell_type": "markdown",
   "metadata": {},
   "source": "## Формируем рекомендации"
  },
  {
   "cell_type": "code",
   "metadata": {
    "ExecuteTime": {
     "end_time": "2024-11-30T19:26:27.379529Z",
     "start_time": "2024-11-30T19:26:15.921243Z"
    }
   },
   "source": "corr_matrix = df_user_item.corr(method='pearson', min_periods=100) # min_periods отвечает за количество наблюдений, чтобы сделать оценку по корреляции",
   "outputs": [],
   "execution_count": 25
  },
  {
   "cell_type": "code",
   "metadata": {
    "collapsed": true,
    "jupyter": {
     "outputs_hidden": true
    },
    "ExecuteTime": {
     "end_time": "2024-11-30T19:26:34.474515Z",
     "start_time": "2024-11-30T19:26:34.464045Z"
    }
   },
   "source": [
    "corr_matrix"
   ],
   "outputs": [
    {
     "data": {
      "text/plain": [
       "title                                      '71 (2014)  \\\n",
       "title                                                   \n",
       "'71 (2014)                                        NaN   \n",
       "'Hellboy': The Seeds of Creation (2004)           NaN   \n",
       "'Round Midnight (1986)                            NaN   \n",
       "'Salem's Lot (2004)                               NaN   \n",
       "'Til There Was You (1997)                         NaN   \n",
       "...                                               ...   \n",
       "eXistenZ (1999)                                   NaN   \n",
       "xXx (2002)                                        NaN   \n",
       "xXx: State of the Union (2005)                    NaN   \n",
       "¡Three Amigos! (1986)                             NaN   \n",
       "À nous la liberté (Freedom for Us) (1931)         NaN   \n",
       "\n",
       "title                                      'Hellboy': The Seeds of Creation (2004)  \\\n",
       "title                                                                                \n",
       "'71 (2014)                                                                     NaN   \n",
       "'Hellboy': The Seeds of Creation (2004)                                        NaN   \n",
       "'Round Midnight (1986)                                                         NaN   \n",
       "'Salem's Lot (2004)                                                            NaN   \n",
       "'Til There Was You (1997)                                                      NaN   \n",
       "...                                                                            ...   \n",
       "eXistenZ (1999)                                                                NaN   \n",
       "xXx (2002)                                                                     NaN   \n",
       "xXx: State of the Union (2005)                                                 NaN   \n",
       "¡Three Amigos! (1986)                                                          NaN   \n",
       "À nous la liberté (Freedom for Us) (1931)                                      NaN   \n",
       "\n",
       "title                                      'Round Midnight (1986)  \\\n",
       "title                                                               \n",
       "'71 (2014)                                                    NaN   \n",
       "'Hellboy': The Seeds of Creation (2004)                       NaN   \n",
       "'Round Midnight (1986)                                        NaN   \n",
       "'Salem's Lot (2004)                                           NaN   \n",
       "'Til There Was You (1997)                                     NaN   \n",
       "...                                                           ...   \n",
       "eXistenZ (1999)                                               NaN   \n",
       "xXx (2002)                                                    NaN   \n",
       "xXx: State of the Union (2005)                                NaN   \n",
       "¡Three Amigos! (1986)                                         NaN   \n",
       "À nous la liberté (Freedom for Us) (1931)                     NaN   \n",
       "\n",
       "title                                      'Salem's Lot (2004)  \\\n",
       "title                                                            \n",
       "'71 (2014)                                                 NaN   \n",
       "'Hellboy': The Seeds of Creation (2004)                    NaN   \n",
       "'Round Midnight (1986)                                     NaN   \n",
       "'Salem's Lot (2004)                                        NaN   \n",
       "'Til There Was You (1997)                                  NaN   \n",
       "...                                                        ...   \n",
       "eXistenZ (1999)                                            NaN   \n",
       "xXx (2002)                                                 NaN   \n",
       "xXx: State of the Union (2005)                             NaN   \n",
       "¡Three Amigos! (1986)                                      NaN   \n",
       "À nous la liberté (Freedom for Us) (1931)                  NaN   \n",
       "\n",
       "title                                      'Til There Was You (1997)  \\\n",
       "title                                                                  \n",
       "'71 (2014)                                                       NaN   \n",
       "'Hellboy': The Seeds of Creation (2004)                          NaN   \n",
       "'Round Midnight (1986)                                           NaN   \n",
       "'Salem's Lot (2004)                                              NaN   \n",
       "'Til There Was You (1997)                                        NaN   \n",
       "...                                                              ...   \n",
       "eXistenZ (1999)                                                  NaN   \n",
       "xXx (2002)                                                       NaN   \n",
       "xXx: State of the Union (2005)                                   NaN   \n",
       "¡Three Amigos! (1986)                                            NaN   \n",
       "À nous la liberté (Freedom for Us) (1931)                        NaN   \n",
       "\n",
       "title                                      'Tis the Season for Love (2015)  \\\n",
       "title                                                                        \n",
       "'71 (2014)                                                             NaN   \n",
       "'Hellboy': The Seeds of Creation (2004)                                NaN   \n",
       "'Round Midnight (1986)                                                 NaN   \n",
       "'Salem's Lot (2004)                                                    NaN   \n",
       "'Til There Was You (1997)                                              NaN   \n",
       "...                                                                    ...   \n",
       "eXistenZ (1999)                                                        NaN   \n",
       "xXx (2002)                                                             NaN   \n",
       "xXx: State of the Union (2005)                                         NaN   \n",
       "¡Three Amigos! (1986)                                                  NaN   \n",
       "À nous la liberté (Freedom for Us) (1931)                              NaN   \n",
       "\n",
       "title                                      'burbs, The (1989)  \\\n",
       "title                                                           \n",
       "'71 (2014)                                                NaN   \n",
       "'Hellboy': The Seeds of Creation (2004)                   NaN   \n",
       "'Round Midnight (1986)                                    NaN   \n",
       "'Salem's Lot (2004)                                       NaN   \n",
       "'Til There Was You (1997)                                 NaN   \n",
       "...                                                       ...   \n",
       "eXistenZ (1999)                                           NaN   \n",
       "xXx (2002)                                                NaN   \n",
       "xXx: State of the Union (2005)                            NaN   \n",
       "¡Three Amigos! (1986)                                     NaN   \n",
       "À nous la liberté (Freedom for Us) (1931)                 NaN   \n",
       "\n",
       "title                                      'night Mother (1986)  \\\n",
       "title                                                             \n",
       "'71 (2014)                                                  NaN   \n",
       "'Hellboy': The Seeds of Creation (2004)                     NaN   \n",
       "'Round Midnight (1986)                                      NaN   \n",
       "'Salem's Lot (2004)                                         NaN   \n",
       "'Til There Was You (1997)                                   NaN   \n",
       "...                                                         ...   \n",
       "eXistenZ (1999)                                             NaN   \n",
       "xXx (2002)                                                  NaN   \n",
       "xXx: State of the Union (2005)                              NaN   \n",
       "¡Three Amigos! (1986)                                       NaN   \n",
       "À nous la liberté (Freedom for Us) (1931)                   NaN   \n",
       "\n",
       "title                                      (500) Days of Summer (2009)  \\\n",
       "title                                                                    \n",
       "'71 (2014)                                                         NaN   \n",
       "'Hellboy': The Seeds of Creation (2004)                            NaN   \n",
       "'Round Midnight (1986)                                             NaN   \n",
       "'Salem's Lot (2004)                                                NaN   \n",
       "'Til There Was You (1997)                                          NaN   \n",
       "...                                                                ...   \n",
       "eXistenZ (1999)                                                    NaN   \n",
       "xXx (2002)                                                         NaN   \n",
       "xXx: State of the Union (2005)                                     NaN   \n",
       "¡Three Amigos! (1986)                                              NaN   \n",
       "À nous la liberté (Freedom for Us) (1931)                          NaN   \n",
       "\n",
       "title                                      *batteries not included (1987)  \\\n",
       "title                                                                       \n",
       "'71 (2014)                                                            NaN   \n",
       "'Hellboy': The Seeds of Creation (2004)                               NaN   \n",
       "'Round Midnight (1986)                                                NaN   \n",
       "'Salem's Lot (2004)                                                   NaN   \n",
       "'Til There Was You (1997)                                             NaN   \n",
       "...                                                                   ...   \n",
       "eXistenZ (1999)                                                       NaN   \n",
       "xXx (2002)                                                            NaN   \n",
       "xXx: State of the Union (2005)                                        NaN   \n",
       "¡Three Amigos! (1986)                                                 NaN   \n",
       "À nous la liberté (Freedom for Us) (1931)                             NaN   \n",
       "\n",
       "title                                      ...  Zulu (2013)  [REC] (2007)  \\\n",
       "title                                      ...                              \n",
       "'71 (2014)                                 ...          NaN           NaN   \n",
       "'Hellboy': The Seeds of Creation (2004)    ...          NaN           NaN   \n",
       "'Round Midnight (1986)                     ...          NaN           NaN   \n",
       "'Salem's Lot (2004)                        ...          NaN           NaN   \n",
       "'Til There Was You (1997)                  ...          NaN           NaN   \n",
       "...                                        ...          ...           ...   \n",
       "eXistenZ (1999)                            ...          NaN           NaN   \n",
       "xXx (2002)                                 ...          NaN           NaN   \n",
       "xXx: State of the Union (2005)             ...          NaN           NaN   \n",
       "¡Three Amigos! (1986)                      ...          NaN           NaN   \n",
       "À nous la liberté (Freedom for Us) (1931)  ...          NaN           NaN   \n",
       "\n",
       "title                                      [REC]² (2009)  \\\n",
       "title                                                      \n",
       "'71 (2014)                                           NaN   \n",
       "'Hellboy': The Seeds of Creation (2004)              NaN   \n",
       "'Round Midnight (1986)                               NaN   \n",
       "'Salem's Lot (2004)                                  NaN   \n",
       "'Til There Was You (1997)                            NaN   \n",
       "...                                                  ...   \n",
       "eXistenZ (1999)                                      NaN   \n",
       "xXx (2002)                                           NaN   \n",
       "xXx: State of the Union (2005)                       NaN   \n",
       "¡Three Amigos! (1986)                                NaN   \n",
       "À nous la liberté (Freedom for Us) (1931)            NaN   \n",
       "\n",
       "title                                      [REC]³ 3 Génesis (2012)  \\\n",
       "title                                                                \n",
       "'71 (2014)                                                     NaN   \n",
       "'Hellboy': The Seeds of Creation (2004)                        NaN   \n",
       "'Round Midnight (1986)                                         NaN   \n",
       "'Salem's Lot (2004)                                            NaN   \n",
       "'Til There Was You (1997)                                      NaN   \n",
       "...                                                            ...   \n",
       "eXistenZ (1999)                                                NaN   \n",
       "xXx (2002)                                                     NaN   \n",
       "xXx: State of the Union (2005)                                 NaN   \n",
       "¡Three Amigos! (1986)                                          NaN   \n",
       "À nous la liberté (Freedom for Us) (1931)                      NaN   \n",
       "\n",
       "title                                      anohana: The Flower We Saw That Day - The Movie (2013)  \\\n",
       "title                                                                                               \n",
       "'71 (2014)                                                                               NaN        \n",
       "'Hellboy': The Seeds of Creation (2004)                                                  NaN        \n",
       "'Round Midnight (1986)                                                                   NaN        \n",
       "'Salem's Lot (2004)                                                                      NaN        \n",
       "'Til There Was You (1997)                                                                NaN        \n",
       "...                                                                                      ...        \n",
       "eXistenZ (1999)                                                                          NaN        \n",
       "xXx (2002)                                                                               NaN        \n",
       "xXx: State of the Union (2005)                                                           NaN        \n",
       "¡Three Amigos! (1986)                                                                    NaN        \n",
       "À nous la liberté (Freedom for Us) (1931)                                                NaN        \n",
       "\n",
       "title                                      eXistenZ (1999)  xXx (2002)  \\\n",
       "title                                                                    \n",
       "'71 (2014)                                             NaN         NaN   \n",
       "'Hellboy': The Seeds of Creation (2004)                NaN         NaN   \n",
       "'Round Midnight (1986)                                 NaN         NaN   \n",
       "'Salem's Lot (2004)                                    NaN         NaN   \n",
       "'Til There Was You (1997)                              NaN         NaN   \n",
       "...                                                    ...         ...   \n",
       "eXistenZ (1999)                                        NaN         NaN   \n",
       "xXx (2002)                                             NaN         NaN   \n",
       "xXx: State of the Union (2005)                         NaN         NaN   \n",
       "¡Three Amigos! (1986)                                  NaN         NaN   \n",
       "À nous la liberté (Freedom for Us) (1931)              NaN         NaN   \n",
       "\n",
       "title                                      xXx: State of the Union (2005)  \\\n",
       "title                                                                       \n",
       "'71 (2014)                                                            NaN   \n",
       "'Hellboy': The Seeds of Creation (2004)                               NaN   \n",
       "'Round Midnight (1986)                                                NaN   \n",
       "'Salem's Lot (2004)                                                   NaN   \n",
       "'Til There Was You (1997)                                             NaN   \n",
       "...                                                                   ...   \n",
       "eXistenZ (1999)                                                       NaN   \n",
       "xXx (2002)                                                            NaN   \n",
       "xXx: State of the Union (2005)                                        NaN   \n",
       "¡Three Amigos! (1986)                                                 NaN   \n",
       "À nous la liberté (Freedom for Us) (1931)                             NaN   \n",
       "\n",
       "title                                      ¡Three Amigos! (1986)  \\\n",
       "title                                                              \n",
       "'71 (2014)                                                   NaN   \n",
       "'Hellboy': The Seeds of Creation (2004)                      NaN   \n",
       "'Round Midnight (1986)                                       NaN   \n",
       "'Salem's Lot (2004)                                          NaN   \n",
       "'Til There Was You (1997)                                    NaN   \n",
       "...                                                          ...   \n",
       "eXistenZ (1999)                                              NaN   \n",
       "xXx (2002)                                                   NaN   \n",
       "xXx: State of the Union (2005)                               NaN   \n",
       "¡Three Amigos! (1986)                                        NaN   \n",
       "À nous la liberté (Freedom for Us) (1931)                    NaN   \n",
       "\n",
       "title                                      À nous la liberté (Freedom for Us) (1931)  \n",
       "title                                                                                 \n",
       "'71 (2014)                                                                       NaN  \n",
       "'Hellboy': The Seeds of Creation (2004)                                          NaN  \n",
       "'Round Midnight (1986)                                                           NaN  \n",
       "'Salem's Lot (2004)                                                              NaN  \n",
       "'Til There Was You (1997)                                                        NaN  \n",
       "...                                                                              ...  \n",
       "eXistenZ (1999)                                                                  NaN  \n",
       "xXx (2002)                                                                       NaN  \n",
       "xXx: State of the Union (2005)                                                   NaN  \n",
       "¡Three Amigos! (1986)                                                            NaN  \n",
       "À nous la liberté (Freedom for Us) (1931)                                        NaN  \n",
       "\n",
       "[9719 rows x 9719 columns]"
      ],
      "text/html": [
       "<div>\n",
       "<style scoped>\n",
       "    .dataframe tbody tr th:only-of-type {\n",
       "        vertical-align: middle;\n",
       "    }\n",
       "\n",
       "    .dataframe tbody tr th {\n",
       "        vertical-align: top;\n",
       "    }\n",
       "\n",
       "    .dataframe thead th {\n",
       "        text-align: right;\n",
       "    }\n",
       "</style>\n",
       "<table border=\"1\" class=\"dataframe\">\n",
       "  <thead>\n",
       "    <tr style=\"text-align: right;\">\n",
       "      <th>title</th>\n",
       "      <th>'71 (2014)</th>\n",
       "      <th>'Hellboy': The Seeds of Creation (2004)</th>\n",
       "      <th>'Round Midnight (1986)</th>\n",
       "      <th>'Salem's Lot (2004)</th>\n",
       "      <th>'Til There Was You (1997)</th>\n",
       "      <th>'Tis the Season for Love (2015)</th>\n",
       "      <th>'burbs, The (1989)</th>\n",
       "      <th>'night Mother (1986)</th>\n",
       "      <th>(500) Days of Summer (2009)</th>\n",
       "      <th>*batteries not included (1987)</th>\n",
       "      <th>...</th>\n",
       "      <th>Zulu (2013)</th>\n",
       "      <th>[REC] (2007)</th>\n",
       "      <th>[REC]² (2009)</th>\n",
       "      <th>[REC]³ 3 Génesis (2012)</th>\n",
       "      <th>anohana: The Flower We Saw That Day - The Movie (2013)</th>\n",
       "      <th>eXistenZ (1999)</th>\n",
       "      <th>xXx (2002)</th>\n",
       "      <th>xXx: State of the Union (2005)</th>\n",
       "      <th>¡Three Amigos! (1986)</th>\n",
       "      <th>À nous la liberté (Freedom for Us) (1931)</th>\n",
       "    </tr>\n",
       "    <tr>\n",
       "      <th>title</th>\n",
       "      <th></th>\n",
       "      <th></th>\n",
       "      <th></th>\n",
       "      <th></th>\n",
       "      <th></th>\n",
       "      <th></th>\n",
       "      <th></th>\n",
       "      <th></th>\n",
       "      <th></th>\n",
       "      <th></th>\n",
       "      <th></th>\n",
       "      <th></th>\n",
       "      <th></th>\n",
       "      <th></th>\n",
       "      <th></th>\n",
       "      <th></th>\n",
       "      <th></th>\n",
       "      <th></th>\n",
       "      <th></th>\n",
       "      <th></th>\n",
       "      <th></th>\n",
       "    </tr>\n",
       "  </thead>\n",
       "  <tbody>\n",
       "    <tr>\n",
       "      <th>'71 (2014)</th>\n",
       "      <td>NaN</td>\n",
       "      <td>NaN</td>\n",
       "      <td>NaN</td>\n",
       "      <td>NaN</td>\n",
       "      <td>NaN</td>\n",
       "      <td>NaN</td>\n",
       "      <td>NaN</td>\n",
       "      <td>NaN</td>\n",
       "      <td>NaN</td>\n",
       "      <td>NaN</td>\n",
       "      <td>...</td>\n",
       "      <td>NaN</td>\n",
       "      <td>NaN</td>\n",
       "      <td>NaN</td>\n",
       "      <td>NaN</td>\n",
       "      <td>NaN</td>\n",
       "      <td>NaN</td>\n",
       "      <td>NaN</td>\n",
       "      <td>NaN</td>\n",
       "      <td>NaN</td>\n",
       "      <td>NaN</td>\n",
       "    </tr>\n",
       "    <tr>\n",
       "      <th>'Hellboy': The Seeds of Creation (2004)</th>\n",
       "      <td>NaN</td>\n",
       "      <td>NaN</td>\n",
       "      <td>NaN</td>\n",
       "      <td>NaN</td>\n",
       "      <td>NaN</td>\n",
       "      <td>NaN</td>\n",
       "      <td>NaN</td>\n",
       "      <td>NaN</td>\n",
       "      <td>NaN</td>\n",
       "      <td>NaN</td>\n",
       "      <td>...</td>\n",
       "      <td>NaN</td>\n",
       "      <td>NaN</td>\n",
       "      <td>NaN</td>\n",
       "      <td>NaN</td>\n",
       "      <td>NaN</td>\n",
       "      <td>NaN</td>\n",
       "      <td>NaN</td>\n",
       "      <td>NaN</td>\n",
       "      <td>NaN</td>\n",
       "      <td>NaN</td>\n",
       "    </tr>\n",
       "    <tr>\n",
       "      <th>'Round Midnight (1986)</th>\n",
       "      <td>NaN</td>\n",
       "      <td>NaN</td>\n",
       "      <td>NaN</td>\n",
       "      <td>NaN</td>\n",
       "      <td>NaN</td>\n",
       "      <td>NaN</td>\n",
       "      <td>NaN</td>\n",
       "      <td>NaN</td>\n",
       "      <td>NaN</td>\n",
       "      <td>NaN</td>\n",
       "      <td>...</td>\n",
       "      <td>NaN</td>\n",
       "      <td>NaN</td>\n",
       "      <td>NaN</td>\n",
       "      <td>NaN</td>\n",
       "      <td>NaN</td>\n",
       "      <td>NaN</td>\n",
       "      <td>NaN</td>\n",
       "      <td>NaN</td>\n",
       "      <td>NaN</td>\n",
       "      <td>NaN</td>\n",
       "    </tr>\n",
       "    <tr>\n",
       "      <th>'Salem's Lot (2004)</th>\n",
       "      <td>NaN</td>\n",
       "      <td>NaN</td>\n",
       "      <td>NaN</td>\n",
       "      <td>NaN</td>\n",
       "      <td>NaN</td>\n",
       "      <td>NaN</td>\n",
       "      <td>NaN</td>\n",
       "      <td>NaN</td>\n",
       "      <td>NaN</td>\n",
       "      <td>NaN</td>\n",
       "      <td>...</td>\n",
       "      <td>NaN</td>\n",
       "      <td>NaN</td>\n",
       "      <td>NaN</td>\n",
       "      <td>NaN</td>\n",
       "      <td>NaN</td>\n",
       "      <td>NaN</td>\n",
       "      <td>NaN</td>\n",
       "      <td>NaN</td>\n",
       "      <td>NaN</td>\n",
       "      <td>NaN</td>\n",
       "    </tr>\n",
       "    <tr>\n",
       "      <th>'Til There Was You (1997)</th>\n",
       "      <td>NaN</td>\n",
       "      <td>NaN</td>\n",
       "      <td>NaN</td>\n",
       "      <td>NaN</td>\n",
       "      <td>NaN</td>\n",
       "      <td>NaN</td>\n",
       "      <td>NaN</td>\n",
       "      <td>NaN</td>\n",
       "      <td>NaN</td>\n",
       "      <td>NaN</td>\n",
       "      <td>...</td>\n",
       "      <td>NaN</td>\n",
       "      <td>NaN</td>\n",
       "      <td>NaN</td>\n",
       "      <td>NaN</td>\n",
       "      <td>NaN</td>\n",
       "      <td>NaN</td>\n",
       "      <td>NaN</td>\n",
       "      <td>NaN</td>\n",
       "      <td>NaN</td>\n",
       "      <td>NaN</td>\n",
       "    </tr>\n",
       "    <tr>\n",
       "      <th>...</th>\n",
       "      <td>...</td>\n",
       "      <td>...</td>\n",
       "      <td>...</td>\n",
       "      <td>...</td>\n",
       "      <td>...</td>\n",
       "      <td>...</td>\n",
       "      <td>...</td>\n",
       "      <td>...</td>\n",
       "      <td>...</td>\n",
       "      <td>...</td>\n",
       "      <td>...</td>\n",
       "      <td>...</td>\n",
       "      <td>...</td>\n",
       "      <td>...</td>\n",
       "      <td>...</td>\n",
       "      <td>...</td>\n",
       "      <td>...</td>\n",
       "      <td>...</td>\n",
       "      <td>...</td>\n",
       "      <td>...</td>\n",
       "      <td>...</td>\n",
       "    </tr>\n",
       "    <tr>\n",
       "      <th>eXistenZ (1999)</th>\n",
       "      <td>NaN</td>\n",
       "      <td>NaN</td>\n",
       "      <td>NaN</td>\n",
       "      <td>NaN</td>\n",
       "      <td>NaN</td>\n",
       "      <td>NaN</td>\n",
       "      <td>NaN</td>\n",
       "      <td>NaN</td>\n",
       "      <td>NaN</td>\n",
       "      <td>NaN</td>\n",
       "      <td>...</td>\n",
       "      <td>NaN</td>\n",
       "      <td>NaN</td>\n",
       "      <td>NaN</td>\n",
       "      <td>NaN</td>\n",
       "      <td>NaN</td>\n",
       "      <td>NaN</td>\n",
       "      <td>NaN</td>\n",
       "      <td>NaN</td>\n",
       "      <td>NaN</td>\n",
       "      <td>NaN</td>\n",
       "    </tr>\n",
       "    <tr>\n",
       "      <th>xXx (2002)</th>\n",
       "      <td>NaN</td>\n",
       "      <td>NaN</td>\n",
       "      <td>NaN</td>\n",
       "      <td>NaN</td>\n",
       "      <td>NaN</td>\n",
       "      <td>NaN</td>\n",
       "      <td>NaN</td>\n",
       "      <td>NaN</td>\n",
       "      <td>NaN</td>\n",
       "      <td>NaN</td>\n",
       "      <td>...</td>\n",
       "      <td>NaN</td>\n",
       "      <td>NaN</td>\n",
       "      <td>NaN</td>\n",
       "      <td>NaN</td>\n",
       "      <td>NaN</td>\n",
       "      <td>NaN</td>\n",
       "      <td>NaN</td>\n",
       "      <td>NaN</td>\n",
       "      <td>NaN</td>\n",
       "      <td>NaN</td>\n",
       "    </tr>\n",
       "    <tr>\n",
       "      <th>xXx: State of the Union (2005)</th>\n",
       "      <td>NaN</td>\n",
       "      <td>NaN</td>\n",
       "      <td>NaN</td>\n",
       "      <td>NaN</td>\n",
       "      <td>NaN</td>\n",
       "      <td>NaN</td>\n",
       "      <td>NaN</td>\n",
       "      <td>NaN</td>\n",
       "      <td>NaN</td>\n",
       "      <td>NaN</td>\n",
       "      <td>...</td>\n",
       "      <td>NaN</td>\n",
       "      <td>NaN</td>\n",
       "      <td>NaN</td>\n",
       "      <td>NaN</td>\n",
       "      <td>NaN</td>\n",
       "      <td>NaN</td>\n",
       "      <td>NaN</td>\n",
       "      <td>NaN</td>\n",
       "      <td>NaN</td>\n",
       "      <td>NaN</td>\n",
       "    </tr>\n",
       "    <tr>\n",
       "      <th>¡Three Amigos! (1986)</th>\n",
       "      <td>NaN</td>\n",
       "      <td>NaN</td>\n",
       "      <td>NaN</td>\n",
       "      <td>NaN</td>\n",
       "      <td>NaN</td>\n",
       "      <td>NaN</td>\n",
       "      <td>NaN</td>\n",
       "      <td>NaN</td>\n",
       "      <td>NaN</td>\n",
       "      <td>NaN</td>\n",
       "      <td>...</td>\n",
       "      <td>NaN</td>\n",
       "      <td>NaN</td>\n",
       "      <td>NaN</td>\n",
       "      <td>NaN</td>\n",
       "      <td>NaN</td>\n",
       "      <td>NaN</td>\n",
       "      <td>NaN</td>\n",
       "      <td>NaN</td>\n",
       "      <td>NaN</td>\n",
       "      <td>NaN</td>\n",
       "    </tr>\n",
       "    <tr>\n",
       "      <th>À nous la liberté (Freedom for Us) (1931)</th>\n",
       "      <td>NaN</td>\n",
       "      <td>NaN</td>\n",
       "      <td>NaN</td>\n",
       "      <td>NaN</td>\n",
       "      <td>NaN</td>\n",
       "      <td>NaN</td>\n",
       "      <td>NaN</td>\n",
       "      <td>NaN</td>\n",
       "      <td>NaN</td>\n",
       "      <td>NaN</td>\n",
       "      <td>...</td>\n",
       "      <td>NaN</td>\n",
       "      <td>NaN</td>\n",
       "      <td>NaN</td>\n",
       "      <td>NaN</td>\n",
       "      <td>NaN</td>\n",
       "      <td>NaN</td>\n",
       "      <td>NaN</td>\n",
       "      <td>NaN</td>\n",
       "      <td>NaN</td>\n",
       "      <td>NaN</td>\n",
       "    </tr>\n",
       "  </tbody>\n",
       "</table>\n",
       "<p>9719 rows × 9719 columns</p>\n",
       "</div>"
      ]
     },
     "execution_count": 26,
     "metadata": {},
     "output_type": "execute_result"
    }
   ],
   "execution_count": 26
  },
  {
   "cell_type": "code",
   "metadata": {
    "ExecuteTime": {
     "end_time": "2024-11-30T19:27:01.168069Z",
     "start_time": "2024-11-30T19:27:01.129822Z"
    }
   },
   "source": [
    "user_ratings = df_user_item.loc[7].dropna()\n",
    "user_ratings"
   ],
   "outputs": [
    {
     "data": {
      "text/plain": [
       "title\n",
       "2001: A Space Odyssey (1968)           4.0\n",
       "A.I. Artificial Intelligence (2001)    4.5\n",
       "Aladdin (1992)                         3.0\n",
       "American Beauty (1999)                 4.0\n",
       "Apocalypse Now (1979)                  4.0\n",
       "                                      ... \n",
       "What Women Want (2000)                 4.0\n",
       "Wild Wild West (1999)                  1.5\n",
       "X-Men (2000)                           3.5\n",
       "X-Men: The Last Stand (2006)           4.0\n",
       "X2: X-Men United (2003)                4.0\n",
       "Name: 7, Length: 152, dtype: float64"
      ]
     },
     "execution_count": 27,
     "metadata": {},
     "output_type": "execute_result"
    }
   ],
   "execution_count": 27
  },
  {
   "cell_type": "code",
   "metadata": {
    "ExecuteTime": {
     "end_time": "2024-11-30T19:32:31.410318Z",
     "start_time": "2024-11-30T19:32:31.186193Z"
    }
   },
   "source": [
    "import pandas as pd\n",
    "\n",
    "simCandidates_list = []\n",
    "\n",
    "for i in range(len(user_ratings.index)):\n",
    "    sims = corr_matrix[user_ratings.index[i]].dropna()\n",
    "    sims = sims.map(lambda x: x * user_ratings[i])\n",
    "    simCandidates_list.append(sims)\n",
    "\n",
    "# Объединяем все результаты в одну Series\n",
    "simCandidates = pd.concat(simCandidates_list)\n",
    "\n",
    "simCandidates.sort_values(inplace=True, ascending=False)"
   ],
   "outputs": [
    {
     "name": "stderr",
     "output_type": "stream",
     "text": [
      "/var/folders/1h/6qfyp7nn31g62hlw2tr2yltm0000gn/T/ipykernel_1774/3862868391.py:7: FutureWarning: Series.__getitem__ treating keys as positions is deprecated. In a future version, integer keys will always be treated as labels (consistent with DataFrame behavior). To access a value by position, use `ser.iloc[pos]`\n",
      "  sims = sims.map(lambda x: x * user_ratings[i])\n"
     ]
    }
   ],
   "execution_count": 43
  },
  {
   "cell_type": "code",
   "metadata": {
    "ExecuteTime": {
     "end_time": "2024-11-30T19:32:34.778255Z",
     "start_time": "2024-11-30T19:32:34.773527Z"
    }
   },
   "source": "user_ratings.index[7]",
   "outputs": [
    {
     "data": {
      "text/plain": [
       "'As Good as It Gets (1997)'"
      ]
     },
     "execution_count": 44,
     "metadata": {},
     "output_type": "execute_result"
    }
   ],
   "execution_count": 44
  },
  {
   "cell_type": "code",
   "metadata": {
    "ExecuteTime": {
     "end_time": "2024-11-30T19:32:37.332704Z",
     "start_time": "2024-11-30T19:32:37.321029Z"
    }
   },
   "source": "corr_matrix[user_ratings.index[7]].dropna()",
   "outputs": [
    {
     "data": {
      "text/plain": [
       "Series([], Name: As Good as It Gets (1997), dtype: float64)"
      ]
     },
     "execution_count": 45,
     "metadata": {},
     "output_type": "execute_result"
    }
   ],
   "execution_count": 45
  },
  {
   "cell_type": "code",
   "metadata": {
    "ExecuteTime": {
     "end_time": "2024-11-30T19:32:39.802671Z",
     "start_time": "2024-11-30T19:32:39.798547Z"
    }
   },
   "source": "user_ratings[7]",
   "outputs": [
    {
     "name": "stderr",
     "output_type": "stream",
     "text": [
      "/var/folders/1h/6qfyp7nn31g62hlw2tr2yltm0000gn/T/ipykernel_1774/4195165550.py:1: FutureWarning: Series.__getitem__ treating keys as positions is deprecated. In a future version, integer keys will always be treated as labels (consistent with DataFrame behavior). To access a value by position, use `ser.iloc[pos]`\n",
      "  user_ratings[7]\n"
     ]
    },
    {
     "data": {
      "text/plain": [
       "0.5"
      ]
     },
     "execution_count": 46,
     "metadata": {},
     "output_type": "execute_result"
    }
   ],
   "execution_count": 46
  },
  {
   "cell_type": "code",
   "metadata": {
    "ExecuteTime": {
     "end_time": "2024-11-30T19:32:41.984826Z",
     "start_time": "2024-11-30T19:32:41.942610Z"
    }
   },
   "source": "sims = corr_matrix[user_ratings.index[7]].dropna()",
   "outputs": [],
   "execution_count": 47
  },
  {
   "cell_type": "code",
   "metadata": {
    "ExecuteTime": {
     "end_time": "2024-11-30T19:32:43.378754Z",
     "start_time": "2024-11-30T19:32:43.375148Z"
    }
   },
   "source": "sims = sims.map(lambda x: x * user_ratings[7])",
   "outputs": [],
   "execution_count": 48
  },
  {
   "cell_type": "code",
   "metadata": {
    "ExecuteTime": {
     "end_time": "2024-11-30T19:32:44.749848Z",
     "start_time": "2024-11-30T19:32:44.745388Z"
    }
   },
   "source": [
    "sims"
   ],
   "outputs": [
    {
     "data": {
      "text/plain": [
       "Series([], Name: As Good as It Gets (1997), dtype: float64)"
      ]
     },
     "execution_count": 49,
     "metadata": {},
     "output_type": "execute_result"
    }
   ],
   "execution_count": 49
  },
  {
   "cell_type": "code",
   "metadata": {
    "ExecuteTime": {
     "end_time": "2024-11-30T19:32:46.503831Z",
     "start_time": "2024-11-30T19:32:46.496116Z"
    }
   },
   "source": [
    "simCandidates"
   ],
   "outputs": [
    {
     "data": {
      "text/plain": [
       "title\n",
       "Silence of the Lambs, The (1991)             5.000000\n",
       "Back to the Future (1985)                    5.000000\n",
       "Terminator, The (1984)                       5.000000\n",
       "Forrest Gump (1994)                          5.000000\n",
       "Jurassic Park (1993)                         5.000000\n",
       "                                               ...   \n",
       "Pulp Fiction (1994)                         -0.376668\n",
       "Pulp Fiction (1994)                         -0.431635\n",
       "Twelve Monkeys (a.k.a. 12 Monkeys) (1995)   -0.474771\n",
       "Pulp Fiction (1994)                         -0.719040\n",
       "Fargo (1996)                                -0.801146\n",
       "Length: 697, dtype: float64"
      ]
     },
     "execution_count": 50,
     "metadata": {},
     "output_type": "execute_result"
    }
   ],
   "execution_count": 50
  },
  {
   "cell_type": "code",
   "metadata": {
    "ExecuteTime": {
     "end_time": "2024-11-30T19:32:50.134982Z",
     "start_time": "2024-11-30T19:32:50.129125Z"
    }
   },
   "source": [
    "simCandidates['Matrix, The (1999)']"
   ],
   "outputs": [
    {
     "data": {
      "text/plain": [
       "title\n",
       "Matrix, The (1999)    2.139681\n",
       "Matrix, The (1999)    1.764820\n",
       "Matrix, The (1999)    1.622664\n",
       "Matrix, The (1999)    1.566957\n",
       "Matrix, The (1999)    1.549424\n",
       "Matrix, The (1999)    1.522158\n",
       "Matrix, The (1999)    1.459533\n",
       "Matrix, The (1999)    1.431110\n",
       "Matrix, The (1999)    1.400993\n",
       "Matrix, The (1999)    1.396962\n",
       "Matrix, The (1999)    1.357380\n",
       "Matrix, The (1999)    1.309786\n",
       "Matrix, The (1999)    1.283882\n",
       "Matrix, The (1999)    1.255578\n",
       "Matrix, The (1999)    1.169130\n",
       "Matrix, The (1999)    1.085287\n",
       "Matrix, The (1999)    1.043343\n",
       "Matrix, The (1999)    1.013952\n",
       "Matrix, The (1999)    0.920995\n",
       "Matrix, The (1999)    0.802157\n",
       "Matrix, The (1999)    0.785411\n",
       "Matrix, The (1999)    0.712727\n",
       "Matrix, The (1999)    0.671443\n",
       "Matrix, The (1999)    0.528805\n",
       "Matrix, The (1999)    0.505492\n",
       "Matrix, The (1999)    0.407427\n",
       "dtype: float64"
      ]
     },
     "execution_count": 51,
     "metadata": {},
     "output_type": "execute_result"
    }
   ],
   "execution_count": 51
  },
  {
   "cell_type": "code",
   "metadata": {
    "ExecuteTime": {
     "end_time": "2024-11-30T19:32:55.825452Z",
     "start_time": "2024-11-30T19:32:55.816895Z"
    }
   },
   "source": [
    "simCandidates = simCandidates.groupby(simCandidates.index).sum()\n",
    "simCandidates.sort_values(inplace = True, ascending = False)"
   ],
   "outputs": [],
   "execution_count": 52
  },
  {
   "cell_type": "code",
   "metadata": {
    "ExecuteTime": {
     "end_time": "2024-11-30T19:32:57.444250Z",
     "start_time": "2024-11-30T19:32:57.440271Z"
    }
   },
   "source": [
    "simCandidates"
   ],
   "outputs": [
    {
     "data": {
      "text/plain": [
       "title\n",
       "Matrix, The (1999)                                       30.707095\n",
       "Jurassic Park (1993)                                     28.078650\n",
       "Star Wars: Episode IV - A New Hope (1977)                27.955474\n",
       "Star Wars: Episode V - The Empire Strikes Back (1980)    27.739345\n",
       "Terminator 2: Judgment Day (1991)                        27.421780\n",
       "                                                           ...    \n",
       "Dumb & Dumber (Dumb and Dumber) (1994)                    1.096868\n",
       "Departed, The (2006)                                      1.000000\n",
       "Babe (1995)                                               0.472172\n",
       "Eternal Sunshine of the Spotless Mind (2004)              0.467916\n",
       "Kill Bill: Vol. 1 (2003)                                 -0.046993\n",
       "Length: 91, dtype: float64"
      ]
     },
     "execution_count": 53,
     "metadata": {},
     "output_type": "execute_result"
    }
   ],
   "execution_count": 53
  },
  {
   "cell_type": "code",
   "metadata": {
    "ExecuteTime": {
     "end_time": "2024-11-30T19:33:02.594397Z",
     "start_time": "2024-11-30T19:33:02.586585Z"
    }
   },
   "source": [
    "intersection_set = set.intersection(set(simCandidates.index), set(user_ratings.index))\n",
    "not_watched = list(set(simCandidates.index) - set(user_ratings.index))"
   ],
   "outputs": [],
   "execution_count": 55
  },
  {
   "cell_type": "code",
   "metadata": {
    "ExecuteTime": {
     "end_time": "2024-11-30T19:33:04.419676Z",
     "start_time": "2024-11-30T19:33:04.417061Z"
    }
   },
   "source": [
    "print(\"Intersection: \", len(intersection_set))\n",
    "print(\"Not watched: \", len(not_watched))"
   ],
   "outputs": [
    {
     "name": "stdout",
     "output_type": "stream",
     "text": [
      "Intersection:  47\n",
      "Not watched:  44\n"
     ]
    }
   ],
   "execution_count": 56
  },
  {
   "cell_type": "code",
   "metadata": {
    "ExecuteTime": {
     "end_time": "2024-11-30T19:33:06.982191Z",
     "start_time": "2024-11-30T19:33:06.977275Z"
    }
   },
   "source": [
    "filteredSims = simCandidates[not_watched].sort_values(ascending = False)"
   ],
   "outputs": [],
   "execution_count": 57
  },
  {
   "cell_type": "code",
   "metadata": {
    "ExecuteTime": {
     "end_time": "2024-11-30T19:33:08.603760Z",
     "start_time": "2024-11-30T19:33:08.597902Z"
    }
   },
   "source": "filteredSims.head(3)",
   "outputs": [
    {
     "data": {
      "text/plain": [
       "title\n",
       "Matrix, The (1999)                                                                30.707095\n",
       "Raiders of the Lost Ark (Indiana Jones and the Raiders of the Lost Ark) (1981)    22.002139\n",
       "Shawshank Redemption, The (1994)                                                  18.925514\n",
       "dtype: float64"
      ]
     },
     "execution_count": 58,
     "metadata": {},
     "output_type": "execute_result"
    }
   ],
   "execution_count": 58
  },
  {
   "metadata": {},
   "cell_type": "markdown",
   "source": "Для пользователя рекомендовано к просмотру 3 фильма: Матрица, Индиана Джонс и Побег из Шоушенка."
  }
 ],
 "metadata": {
  "kernelspec": {
   "display_name": "Python 3",
   "language": "python",
   "name": "python3"
  },
  "language_info": {
   "codemirror_mode": {
    "name": "ipython",
    "version": 3
   },
   "file_extension": ".py",
   "mimetype": "text/x-python",
   "name": "python",
   "nbconvert_exporter": "python",
   "pygments_lexer": "ipython3",
   "version": "3.7.4"
  }
 },
 "nbformat": 4,
 "nbformat_minor": 4
}
