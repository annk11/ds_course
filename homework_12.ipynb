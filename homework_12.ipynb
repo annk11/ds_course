{
 "cells": [
  {
   "cell_type": "code",
   "execution_count": 1,
   "metadata": {
    "collapsed": true
   },
   "outputs": [],
   "source": [
    "class User:\n",
    "    name = ''\n",
    "    email = ''\n",
    "    approved_by = ''\n",
    "    user_type = ''\n",
    "    is_online = False\n",
    "\n",
    "    def __init__(self, name, email):\n",
    "        self.name = name\n",
    "        self.email = email\n",
    "\n",
    "    def show(self):\n",
    "        print('Name: ', self.name)\n",
    "        print('Email: ', self.email)\n",
    "        print('Approved by: ', self.approved_by)\n",
    "        print('User type: ', self.user_type)\n",
    "        print('Online: ', self.is_online)"
   ]
  },
  {
   "cell_type": "code",
   "execution_count": 2,
   "outputs": [],
   "source": [
    "class AdminUser(User):\n",
    "    def __init__(self, name, email):\n",
    "        super().__init__(name, email)\n",
    "        self.user_type = 'admin'\n",
    "        self.approved_by = 'admin'\n",
    "\n",
    "    def approve(self, user=User):\n",
    "        user.approved_by = self.name\n",
    "\n",
    "    def online(self):\n",
    "         self.is_online = True"
   ],
   "metadata": {
    "collapsed": false
   }
  },
  {
   "cell_type": "code",
   "execution_count": 3,
   "outputs": [],
   "source": [
    "class RegularUser(User):\n",
    "    def __init__(self, name, email):\n",
    "        super().__init__(name, email)\n",
    "        self.user_type = 'regular'\n",
    "\n",
    "    def online(self):\n",
    "         self.is_online = True"
   ],
   "metadata": {
    "collapsed": false
   }
  },
  {
   "cell_type": "code",
   "execution_count": 4,
   "outputs": [],
   "source": [
    "user1 = User('aleks', 'aleks@mail.com')\n",
    "user2 = RegularUser('niki', 'niki@mail.com')\n",
    "admin_user = AdminUser('ivan', 'ivan@mail.com')"
   ],
   "metadata": {
    "collapsed": false
   }
  },
  {
   "cell_type": "code",
   "execution_count": 5,
   "outputs": [
    {
     "name": "stdout",
     "output_type": "stream",
     "text": [
      "Name:  aleks\n",
      "Email:  aleks@mail.com\n",
      "Approved by:  \n",
      "User type:  \n",
      "Online:  False\n",
      "Name:  niki\n",
      "Email:  niki@mail.com\n",
      "Approved by:  \n",
      "User type:  regular\n",
      "Online:  False\n",
      "Name:  ivan\n",
      "Email:  ivan@mail.com\n",
      "Approved by:  admin\n",
      "User type:  admin\n",
      "Online:  False\n"
     ]
    }
   ],
   "source": [
    "user1.show()\n",
    "user2.show()\n",
    "admin_user.show()"
   ],
   "metadata": {
    "collapsed": false
   }
  },
  {
   "cell_type": "code",
   "execution_count": 6,
   "outputs": [
    {
     "name": "stdout",
     "output_type": "stream",
     "text": [
      "Name:  aleks\n",
      "Email:  aleks@mail.com\n",
      "Approved by:  ivan\n",
      "User type:  \n",
      "Online:  False\n",
      "Name:  niki\n",
      "Email:  niki@mail.com\n",
      "Approved by:  ivan\n",
      "User type:  regular\n",
      "Online:  False\n"
     ]
    }
   ],
   "source": [
    "admin_user.approve(user1)\n",
    "admin_user.approve(user2)\n",
    "user1.show()\n",
    "user2.show()"
   ],
   "metadata": {
    "collapsed": false
   }
  },
  {
   "cell_type": "code",
   "execution_count": 7,
   "outputs": [
    {
     "name": "stdout",
     "output_type": "stream",
     "text": [
      "Name:  jonh\n",
      "Email:  jonh@mail.com\n",
      "Approved by:  admin\n",
      "User type:  admin\n",
      "Online:  False\n"
     ]
    }
   ],
   "source": [
    "admin_user2 = AdminUser('jonh', 'jonh@mail.com')\n",
    "admin_user2.show()"
   ],
   "metadata": {
    "collapsed": false
   }
  },
  {
   "cell_type": "code",
   "execution_count": 8,
   "outputs": [
    {
     "name": "stdout",
     "output_type": "stream",
     "text": [
      "Name:  ivan\n",
      "Email:  ivan@mail.com\n",
      "Approved by:  jonh\n",
      "User type:  admin\n",
      "Online:  False\n"
     ]
    }
   ],
   "source": [
    "admin_user2.approve(admin_user)\n",
    "admin_user.show()"
   ],
   "metadata": {
    "collapsed": false
   }
  },
  {
   "cell_type": "code",
   "execution_count": 9,
   "outputs": [
    {
     "name": "stdout",
     "output_type": "stream",
     "text": [
      "Name:  niki\n",
      "Email:  niki@mail.com\n",
      "Approved by:  ivan\n",
      "User type:  regular\n",
      "Online:  True\n"
     ]
    }
   ],
   "source": [
    "user2.online()\n",
    "user2.show()"
   ],
   "metadata": {
    "collapsed": false
   }
  }
 ],
 "metadata": {
  "kernelspec": {
   "display_name": "Python 3",
   "language": "python",
   "name": "python3"
  },
  "language_info": {
   "codemirror_mode": {
    "name": "ipython",
    "version": 2
   },
   "file_extension": ".py",
   "mimetype": "text/x-python",
   "name": "python",
   "nbconvert_exporter": "python",
   "pygments_lexer": "ipython2",
   "version": "2.7.6"
  }
 },
 "nbformat": 4,
 "nbformat_minor": 0
}
