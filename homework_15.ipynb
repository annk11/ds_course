{
 "cells": [
  {
   "cell_type": "code",
   "execution_count": 56,
   "metadata": {
    "collapsed": true
   },
   "outputs": [],
   "source": [
    "import requests\n",
    "from requests import HTTPError"
   ]
  },
  {
   "cell_type": "code",
   "execution_count": 57,
   "outputs": [],
   "source": [
    "def send_request(status_code=200):\n",
    "    response = requests.get(\"https://httpstat.us/%d\" % status_code)\n",
    "    response.raise_for_status()\n",
    "    return response.status_code"
   ],
   "metadata": {
    "collapsed": false
   }
  },
  {
   "cell_type": "code",
   "execution_count": 58,
   "outputs": [],
   "source": [
    "try:\n",
    "    code = int(input(\"Введите http код для проверки >\"))\n",
    "except ValueError as ex:\n",
    "    print(\"Введите целое число\")"
   ],
   "metadata": {
    "collapsed": false
   }
  },
  {
   "cell_type": "code",
   "execution_count": 59,
   "outputs": [
    {
     "name": "stdout",
     "output_type": "stream",
     "text": [
      "Произошла ошибка при отправке HTTP-запроса: 500 Server Error: Internal Server Error for url: https://httpstat.us/500\n",
      "Получен код: 500\n"
     ]
    }
   ],
   "source": [
    "response_code = None\n",
    "try:\n",
    "    response_code = send_request(code)\n",
    "except HTTPError as ex:\n",
    "    print(\"Произошла ошибка при отправке HTTP-запроса: %s\" % str(ex))\n",
    "    response_code = ex.response.status_code\n",
    "finally:\n",
    "    print(\"Получен код: %s\" % str(response_code))"
   ],
   "metadata": {
    "collapsed": false
   }
  },
  {
   "cell_type": "code",
   "execution_count": 60,
   "outputs": [
    {
     "name": "stdout",
     "output_type": "stream",
     "text": [
      "File not found.\n"
     ]
    }
   ],
   "source": [
    "filename = input(\"Enter filename: \")\n",
    "\n",
    "try:\n",
    "    with open(filename, 'r') as file:\n",
    "        num_lines = len(file.readlines())\n",
    "        print(\"Num of lines: \", num_lines)\n",
    "except FileNotFoundError:\n",
    "    print(\"File not found.\")"
   ],
   "metadata": {
    "collapsed": false
   }
  }
 ],
 "metadata": {
  "kernelspec": {
   "display_name": "Python 3",
   "language": "python",
   "name": "python3"
  },
  "language_info": {
   "codemirror_mode": {
    "name": "ipython",
    "version": 2
   },
   "file_extension": ".py",
   "mimetype": "text/x-python",
   "name": "python",
   "nbconvert_exporter": "python",
   "pygments_lexer": "ipython2",
   "version": "2.7.6"
  }
 },
 "nbformat": 4,
 "nbformat_minor": 0
}
