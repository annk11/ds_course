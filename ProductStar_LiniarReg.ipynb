{
 "cells": [
  {
   "cell_type": "markdown",
   "metadata": {},
   "source": [
    "# Библиотека NumPy"
   ]
  },
  {
   "cell_type": "markdown",
   "metadata": {},
   "source": [
    "Прежде, чем перейти к линейной регрессии разберем несколько функций из библиотеки NumPy, которые нам очень пригодятся на уроке.\n",
    "Как мы помним библиотека NumPy позволяет делать преобразования с матрцами."
   ]
  },
  {
   "cell_type": "markdown",
   "metadata": {},
   "source": [
    "Также напомню про шпаргалку из первого урока: https://s3.amazonaws.com/assets.datacamp.com/blog_assets/Numpy_Python_Cheat_Sheet.pdf\n",
    "\n",
    "\n",
    "А если хочется погрузится в него поглубже, есть гитхаб с упражнениями\n",
    "https://github.com/rougier/numpy-100/blob/master/100_Numpy_exercises_with_solutions.md"
   ]
  },
  {
   "cell_type": "markdown",
   "metadata": {},
   "source": [
    "Импортируем библиотеку"
   ]
  },
  {
   "cell_type": "code",
   "metadata": {
    "ExecuteTime": {
     "end_time": "2024-06-23T19:22:36.248856Z",
     "start_time": "2024-06-23T19:22:36.240829Z"
    }
   },
   "source": [
    "import numpy as np"
   ],
   "outputs": [],
   "execution_count": 11
  },
  {
   "cell_type": "markdown",
   "metadata": {},
   "source": [
    "**Создадим массив, состоящий из случайных элементов**"
   ]
  },
  {
   "cell_type": "code",
   "metadata": {
    "ExecuteTime": {
     "end_time": "2024-06-23T19:22:36.782221Z",
     "start_time": "2024-06-23T19:22:36.767585Z"
    }
   },
   "source": [
    "Z = np.random.random((3,3))\n",
    "print(Z)"
   ],
   "outputs": [
    {
     "name": "stdout",
     "output_type": "stream",
     "text": [
      "[[0.12003559 0.87341245 0.25591863]\n",
      " [0.72794627 0.09728085 0.94028949]\n",
      " [0.2533978  0.11943366 0.19180023]]\n"
     ]
    }
   ],
   "execution_count": 12
  },
  {
   "cell_type": "markdown",
   "metadata": {},
   "source": [
    " **Мы видим, что он состоит из трех рядов и из трех колонок, мы часто будем работать с такого вида данными, где колонки соотносятся с фичами**"
   ]
  },
  {
   "cell_type": "code",
   "metadata": {
    "ExecuteTime": {
     "end_time": "2024-06-23T19:22:36.883748Z",
     "start_time": "2024-06-23T19:22:36.870748Z"
    }
   },
   "source": [
    "Z[:, :]"
   ],
   "outputs": [
    {
     "data": {
      "text/plain": [
       "array([[0.12003559, 0.87341245, 0.25591863],\n",
       "       [0.72794627, 0.09728085, 0.94028949],\n",
       "       [0.2533978 , 0.11943366, 0.19180023]])"
      ]
     },
     "execution_count": 13,
     "metadata": {},
     "output_type": "execute_result"
    }
   ],
   "execution_count": 13
  },
  {
   "cell_type": "markdown",
   "metadata": {},
   "source": [
    "Первое двоеточие отвечает за то, к каким строкам мы хотим обращаться, а второе к каким столбцам.\n",
    "Если они написаны, как в примере выше, это означает, что мы хотим видеть все столбцы и все колонки."
   ]
  },
  {
   "cell_type": "markdown",
   "metadata": {},
   "source": [
    "Попробуем обратиться только  к некоторым строкам или только к некоторым столбцам, это делается слудующими командами"
   ]
  },
  {
   "cell_type": "markdown",
   "metadata": {},
   "source": [
    "**1) Выведем все колонки кроме последней**"
   ]
  },
  {
   "cell_type": "code",
   "metadata": {
    "ExecuteTime": {
     "end_time": "2024-06-23T19:22:37.046197Z",
     "start_time": "2024-06-23T19:22:37.038510Z"
    }
   },
   "source": [
    "Z[:, :-1]"
   ],
   "outputs": [
    {
     "data": {
      "text/plain": [
       "array([[0.12003559, 0.87341245],\n",
       "       [0.72794627, 0.09728085],\n",
       "       [0.2533978 , 0.11943366]])"
      ]
     },
     "execution_count": 14,
     "metadata": {},
     "output_type": "execute_result"
    }
   ],
   "execution_count": 14
  },
  {
   "cell_type": "markdown",
   "metadata": {},
   "source": [
    "**2) Выведем все строки кроме последней**"
   ]
  },
  {
   "cell_type": "code",
   "metadata": {
    "ExecuteTime": {
     "end_time": "2024-06-23T19:22:37.220216Z",
     "start_time": "2024-06-23T19:22:37.206297Z"
    }
   },
   "source": [
    "Z[:-1, :]"
   ],
   "outputs": [
    {
     "data": {
      "text/plain": [
       "array([[0.12003559, 0.87341245, 0.25591863],\n",
       "       [0.72794627, 0.09728085, 0.94028949]])"
      ]
     },
     "execution_count": 15,
     "metadata": {},
     "output_type": "execute_result"
    }
   ],
   "execution_count": 15
  },
  {
   "cell_type": "markdown",
   "metadata": {},
   "source": [
    "**3) Выведем  первую колонку**"
   ]
  },
  {
   "cell_type": "code",
   "metadata": {
    "ExecuteTime": {
     "end_time": "2024-06-23T19:22:37.328805Z",
     "start_time": "2024-06-23T19:22:37.321779Z"
    }
   },
   "source": [
    "Z[:, 0]"
   ],
   "outputs": [
    {
     "data": {
      "text/plain": [
       "array([0.12003559, 0.72794627, 0.2533978 ])"
      ]
     },
     "execution_count": 16,
     "metadata": {},
     "output_type": "execute_result"
    }
   ],
   "execution_count": 16
  },
  {
   "cell_type": "markdown",
   "metadata": {},
   "source": [
    "# Линейная регрессия"
   ]
  },
  {
   "cell_type": "markdown",
   "metadata": {},
   "source": [
    "Напоним, что такое линейная регрессия:\n",
    "\n",
    "Также есть ряд предположений:\n",
    "* Предполагается, что связь между переменными линейная.\n",
    "* Предполагается, что величина предсказанные значения минус наблюдаемые имеет нормальное распределение\n",
    "* Предполагается, что величина предсказанные значения минус наблюдаемые имеет постоянную дисперсию"
   ]
  },
  {
   "cell_type": "markdown",
   "metadata": {},
   "source": [
    "Мы изучили теорию, как оптимизировать функционал качества и находить минимум.\\\n",
    "Теперь можно попробовать применить наши знания на реальных данных.\\\n",
    "Эти данные взяты с конкурса с сайта kaggle.\\\n",
    "Ссылка на соревнование https://www.kaggle.com/c/sberbank-russian-housing-market/overview\n",
    "    \n",
    "Если интеерсно - можно попробоватаь зарегистрироваться там и попробовать заслать решения, которые получится сделать. Проверить свои силы и посоревноваться с исследователями данных.\n",
    "\n",
    "\n",
    "**Конкурс**:\n",
    "\n",
    "Цель этого конкурса - спрогнозировать продажную цену каждого объекта недвижимости. Целевая переменная называется price_doc в train.csv.\n",
    "\n",
    "Данные обучения - с августа 2011 года по июнь 2015 года, а набор тестов - с июля 2015 года по май 2016 года. Набор данных также включает информацию об общих условиях в российской экономике и финансовом секторе, поэтому вы можете сосредоточиться на создании точных прогнозов цен для отдельных объектов недвижимости."
   ]
  },
  {
   "cell_type": "markdown",
   "metadata": {},
   "source": [
    "## Check-list:\n",
    "\n",
    "\n",
    "    1) Посмотреть на метрику, которую поставили организаторы конкурса\n",
    "    2) Посмотреть на данные, которые они предоставили сделать простые операции с ними\n",
    "    3) Собрать отложенную выборку\n",
    "    4) Предобработать данные\n",
    "    5) Обучить линейную регрессию\n",
    "    6) Написать функцию, которая возвращала бы определенную метрику на нашей отложеной выборке\n",
    "    7) Выписать возможные гипотезы для улучшения\n",
    "    8) Посчитать результат каждой гипотезы"
   ]
  },
  {
   "cell_type": "markdown",
   "metadata": {},
   "source": [
    "### 1. Посмотреть на метрику, которую поставили организаторы конкурса"
   ]
  },
  {
   "cell_type": "markdown",
   "metadata": {},
   "source": [
    "Метрика, которую нам нужно будет улучшать это root mean squared logarithmic error (RMSLE).\n",
    "Она считается по формуле $$RMSLE = \\sqrt{\\frac{1}{n}\\sum_{i=1}^n{(log(x_i + 1) - log(y_i + 1))^2}}$$\n",
    "\n",
    "Также не могу не прикрепить статью, которая сравнивает RMSE и  RMSLE\n",
    "https://medium.com/analytics-vidhya/root-mean-square-log-error-rmse-vs-rmlse-935c6cc1802a"
   ]
  },
  {
   "cell_type": "markdown",
   "metadata": {},
   "source": [
    "### 2. Посмотрим на данные, которые есть"
   ]
  },
  {
   "cell_type": "code",
   "metadata": {
    "ExecuteTime": {
     "end_time": "2024-06-23T19:22:37.493644Z",
     "start_time": "2024-06-23T19:22:37.489372Z"
    }
   },
   "source": [
    "import pandas as pd "
   ],
   "outputs": [],
   "execution_count": 17
  },
  {
   "cell_type": "code",
   "metadata": {
    "ExecuteTime": {
     "end_time": "2024-06-23T19:22:39.161263Z",
     "start_time": "2024-06-23T19:22:37.627721Z"
    }
   },
   "source": [
    "# Загрузим данные\n",
    "df = pd.read_csv('./train.csv')"
   ],
   "outputs": [],
   "execution_count": 18
  },
  {
   "cell_type": "markdown",
   "metadata": {},
   "source": [
    "Посмотрим как выглядят наши данные."
   ]
  },
  {
   "cell_type": "code",
   "metadata": {
    "ExecuteTime": {
     "end_time": "2024-06-23T19:22:39.205066Z",
     "start_time": "2024-06-23T19:22:39.163273Z"
    }
   },
   "source": [
    "df"
   ],
   "outputs": [
    {
     "data": {
      "text/plain": [
       "          id   timestamp  full_sq  life_sq  floor  max_floor  material  \\\n",
       "0          1  2011-08-20       43     27.0    4.0        NaN       NaN   \n",
       "1          2  2011-08-23       34     19.0    3.0        NaN       NaN   \n",
       "2          3  2011-08-27       43     29.0    2.0        NaN       NaN   \n",
       "3          4  2011-09-01       89     50.0    9.0        NaN       NaN   \n",
       "4          5  2011-09-05       77     77.0    4.0        NaN       NaN   \n",
       "...      ...         ...      ...      ...    ...        ...       ...   \n",
       "30466  30469  2015-06-30       44     27.0    7.0        9.0       1.0   \n",
       "30467  30470  2015-06-30       86     59.0    3.0        9.0       2.0   \n",
       "30468  30471  2015-06-30       45      NaN   10.0       20.0       1.0   \n",
       "30469  30472  2015-06-30       64     32.0    5.0       15.0       1.0   \n",
       "30470  30473  2015-06-30       43     28.0    1.0        9.0       1.0   \n",
       "\n",
       "       build_year  num_room  kitch_sq  ...  cafe_count_5000_price_2500  \\\n",
       "0             NaN       NaN       NaN  ...                           9   \n",
       "1             NaN       NaN       NaN  ...                          15   \n",
       "2             NaN       NaN       NaN  ...                          10   \n",
       "3             NaN       NaN       NaN  ...                          11   \n",
       "4             NaN       NaN       NaN  ...                         319   \n",
       "...           ...       ...       ...  ...                         ...   \n",
       "30466      1975.0       2.0       6.0  ...                          15   \n",
       "30467      1935.0       4.0      10.0  ...                         313   \n",
       "30468         NaN       1.0       1.0  ...                           1   \n",
       "30469      2003.0       2.0      11.0  ...                          22   \n",
       "30470      1968.0       2.0       6.0  ...                           5   \n",
       "\n",
       "      cafe_count_5000_price_4000 cafe_count_5000_price_high  \\\n",
       "0                              4                          0   \n",
       "1                              3                          0   \n",
       "2                              3                          0   \n",
       "3                              2                          1   \n",
       "4                            108                         17   \n",
       "...                          ...                        ...   \n",
       "30466                          5                          0   \n",
       "30467                        128                         24   \n",
       "30468                          1                          0   \n",
       "30469                          1                          1   \n",
       "30470                          2                          0   \n",
       "\n",
       "       big_church_count_5000  church_count_5000  mosque_count_5000  \\\n",
       "0                         13                 22                  1   \n",
       "1                         15                 29                  1   \n",
       "2                         11                 27                  0   \n",
       "3                          4                  4                  0   \n",
       "4                        135                236                  2   \n",
       "...                      ...                ...                ...   \n",
       "30466                     15                 26                  1   \n",
       "30467                     98                182                  1   \n",
       "30468                      2                 12                  0   \n",
       "30469                      6                 31                  1   \n",
       "30470                      7                 16                  0   \n",
       "\n",
       "       leisure_count_5000  sport_count_5000  market_count_5000  price_doc  \n",
       "0                       0                52                  4    5850000  \n",
       "1                      10                66                 14    6000000  \n",
       "2                       4                67                 10    5700000  \n",
       "3                       0                26                  3   13100000  \n",
       "4                      91               195                 14   16331452  \n",
       "...                   ...               ...                ...        ...  \n",
       "30466                   2                84                  6    7400000  \n",
       "30467                  82               171                 15   25000000  \n",
       "30468                   1                11                  1    6970959  \n",
       "30469                   4                65                  7   13500000  \n",
       "30470                   9                54                 10    5600000  \n",
       "\n",
       "[30471 rows x 292 columns]"
      ],
      "text/html": [
       "<div>\n",
       "<style scoped>\n",
       "    .dataframe tbody tr th:only-of-type {\n",
       "        vertical-align: middle;\n",
       "    }\n",
       "\n",
       "    .dataframe tbody tr th {\n",
       "        vertical-align: top;\n",
       "    }\n",
       "\n",
       "    .dataframe thead th {\n",
       "        text-align: right;\n",
       "    }\n",
       "</style>\n",
       "<table border=\"1\" class=\"dataframe\">\n",
       "  <thead>\n",
       "    <tr style=\"text-align: right;\">\n",
       "      <th></th>\n",
       "      <th>id</th>\n",
       "      <th>timestamp</th>\n",
       "      <th>full_sq</th>\n",
       "      <th>life_sq</th>\n",
       "      <th>floor</th>\n",
       "      <th>max_floor</th>\n",
       "      <th>material</th>\n",
       "      <th>build_year</th>\n",
       "      <th>num_room</th>\n",
       "      <th>kitch_sq</th>\n",
       "      <th>...</th>\n",
       "      <th>cafe_count_5000_price_2500</th>\n",
       "      <th>cafe_count_5000_price_4000</th>\n",
       "      <th>cafe_count_5000_price_high</th>\n",
       "      <th>big_church_count_5000</th>\n",
       "      <th>church_count_5000</th>\n",
       "      <th>mosque_count_5000</th>\n",
       "      <th>leisure_count_5000</th>\n",
       "      <th>sport_count_5000</th>\n",
       "      <th>market_count_5000</th>\n",
       "      <th>price_doc</th>\n",
       "    </tr>\n",
       "  </thead>\n",
       "  <tbody>\n",
       "    <tr>\n",
       "      <th>0</th>\n",
       "      <td>1</td>\n",
       "      <td>2011-08-20</td>\n",
       "      <td>43</td>\n",
       "      <td>27.0</td>\n",
       "      <td>4.0</td>\n",
       "      <td>NaN</td>\n",
       "      <td>NaN</td>\n",
       "      <td>NaN</td>\n",
       "      <td>NaN</td>\n",
       "      <td>NaN</td>\n",
       "      <td>...</td>\n",
       "      <td>9</td>\n",
       "      <td>4</td>\n",
       "      <td>0</td>\n",
       "      <td>13</td>\n",
       "      <td>22</td>\n",
       "      <td>1</td>\n",
       "      <td>0</td>\n",
       "      <td>52</td>\n",
       "      <td>4</td>\n",
       "      <td>5850000</td>\n",
       "    </tr>\n",
       "    <tr>\n",
       "      <th>1</th>\n",
       "      <td>2</td>\n",
       "      <td>2011-08-23</td>\n",
       "      <td>34</td>\n",
       "      <td>19.0</td>\n",
       "      <td>3.0</td>\n",
       "      <td>NaN</td>\n",
       "      <td>NaN</td>\n",
       "      <td>NaN</td>\n",
       "      <td>NaN</td>\n",
       "      <td>NaN</td>\n",
       "      <td>...</td>\n",
       "      <td>15</td>\n",
       "      <td>3</td>\n",
       "      <td>0</td>\n",
       "      <td>15</td>\n",
       "      <td>29</td>\n",
       "      <td>1</td>\n",
       "      <td>10</td>\n",
       "      <td>66</td>\n",
       "      <td>14</td>\n",
       "      <td>6000000</td>\n",
       "    </tr>\n",
       "    <tr>\n",
       "      <th>2</th>\n",
       "      <td>3</td>\n",
       "      <td>2011-08-27</td>\n",
       "      <td>43</td>\n",
       "      <td>29.0</td>\n",
       "      <td>2.0</td>\n",
       "      <td>NaN</td>\n",
       "      <td>NaN</td>\n",
       "      <td>NaN</td>\n",
       "      <td>NaN</td>\n",
       "      <td>NaN</td>\n",
       "      <td>...</td>\n",
       "      <td>10</td>\n",
       "      <td>3</td>\n",
       "      <td>0</td>\n",
       "      <td>11</td>\n",
       "      <td>27</td>\n",
       "      <td>0</td>\n",
       "      <td>4</td>\n",
       "      <td>67</td>\n",
       "      <td>10</td>\n",
       "      <td>5700000</td>\n",
       "    </tr>\n",
       "    <tr>\n",
       "      <th>3</th>\n",
       "      <td>4</td>\n",
       "      <td>2011-09-01</td>\n",
       "      <td>89</td>\n",
       "      <td>50.0</td>\n",
       "      <td>9.0</td>\n",
       "      <td>NaN</td>\n",
       "      <td>NaN</td>\n",
       "      <td>NaN</td>\n",
       "      <td>NaN</td>\n",
       "      <td>NaN</td>\n",
       "      <td>...</td>\n",
       "      <td>11</td>\n",
       "      <td>2</td>\n",
       "      <td>1</td>\n",
       "      <td>4</td>\n",
       "      <td>4</td>\n",
       "      <td>0</td>\n",
       "      <td>0</td>\n",
       "      <td>26</td>\n",
       "      <td>3</td>\n",
       "      <td>13100000</td>\n",
       "    </tr>\n",
       "    <tr>\n",
       "      <th>4</th>\n",
       "      <td>5</td>\n",
       "      <td>2011-09-05</td>\n",
       "      <td>77</td>\n",
       "      <td>77.0</td>\n",
       "      <td>4.0</td>\n",
       "      <td>NaN</td>\n",
       "      <td>NaN</td>\n",
       "      <td>NaN</td>\n",
       "      <td>NaN</td>\n",
       "      <td>NaN</td>\n",
       "      <td>...</td>\n",
       "      <td>319</td>\n",
       "      <td>108</td>\n",
       "      <td>17</td>\n",
       "      <td>135</td>\n",
       "      <td>236</td>\n",
       "      <td>2</td>\n",
       "      <td>91</td>\n",
       "      <td>195</td>\n",
       "      <td>14</td>\n",
       "      <td>16331452</td>\n",
       "    </tr>\n",
       "    <tr>\n",
       "      <th>...</th>\n",
       "      <td>...</td>\n",
       "      <td>...</td>\n",
       "      <td>...</td>\n",
       "      <td>...</td>\n",
       "      <td>...</td>\n",
       "      <td>...</td>\n",
       "      <td>...</td>\n",
       "      <td>...</td>\n",
       "      <td>...</td>\n",
       "      <td>...</td>\n",
       "      <td>...</td>\n",
       "      <td>...</td>\n",
       "      <td>...</td>\n",
       "      <td>...</td>\n",
       "      <td>...</td>\n",
       "      <td>...</td>\n",
       "      <td>...</td>\n",
       "      <td>...</td>\n",
       "      <td>...</td>\n",
       "      <td>...</td>\n",
       "      <td>...</td>\n",
       "    </tr>\n",
       "    <tr>\n",
       "      <th>30466</th>\n",
       "      <td>30469</td>\n",
       "      <td>2015-06-30</td>\n",
       "      <td>44</td>\n",
       "      <td>27.0</td>\n",
       "      <td>7.0</td>\n",
       "      <td>9.0</td>\n",
       "      <td>1.0</td>\n",
       "      <td>1975.0</td>\n",
       "      <td>2.0</td>\n",
       "      <td>6.0</td>\n",
       "      <td>...</td>\n",
       "      <td>15</td>\n",
       "      <td>5</td>\n",
       "      <td>0</td>\n",
       "      <td>15</td>\n",
       "      <td>26</td>\n",
       "      <td>1</td>\n",
       "      <td>2</td>\n",
       "      <td>84</td>\n",
       "      <td>6</td>\n",
       "      <td>7400000</td>\n",
       "    </tr>\n",
       "    <tr>\n",
       "      <th>30467</th>\n",
       "      <td>30470</td>\n",
       "      <td>2015-06-30</td>\n",
       "      <td>86</td>\n",
       "      <td>59.0</td>\n",
       "      <td>3.0</td>\n",
       "      <td>9.0</td>\n",
       "      <td>2.0</td>\n",
       "      <td>1935.0</td>\n",
       "      <td>4.0</td>\n",
       "      <td>10.0</td>\n",
       "      <td>...</td>\n",
       "      <td>313</td>\n",
       "      <td>128</td>\n",
       "      <td>24</td>\n",
       "      <td>98</td>\n",
       "      <td>182</td>\n",
       "      <td>1</td>\n",
       "      <td>82</td>\n",
       "      <td>171</td>\n",
       "      <td>15</td>\n",
       "      <td>25000000</td>\n",
       "    </tr>\n",
       "    <tr>\n",
       "      <th>30468</th>\n",
       "      <td>30471</td>\n",
       "      <td>2015-06-30</td>\n",
       "      <td>45</td>\n",
       "      <td>NaN</td>\n",
       "      <td>10.0</td>\n",
       "      <td>20.0</td>\n",
       "      <td>1.0</td>\n",
       "      <td>NaN</td>\n",
       "      <td>1.0</td>\n",
       "      <td>1.0</td>\n",
       "      <td>...</td>\n",
       "      <td>1</td>\n",
       "      <td>1</td>\n",
       "      <td>0</td>\n",
       "      <td>2</td>\n",
       "      <td>12</td>\n",
       "      <td>0</td>\n",
       "      <td>1</td>\n",
       "      <td>11</td>\n",
       "      <td>1</td>\n",
       "      <td>6970959</td>\n",
       "    </tr>\n",
       "    <tr>\n",
       "      <th>30469</th>\n",
       "      <td>30472</td>\n",
       "      <td>2015-06-30</td>\n",
       "      <td>64</td>\n",
       "      <td>32.0</td>\n",
       "      <td>5.0</td>\n",
       "      <td>15.0</td>\n",
       "      <td>1.0</td>\n",
       "      <td>2003.0</td>\n",
       "      <td>2.0</td>\n",
       "      <td>11.0</td>\n",
       "      <td>...</td>\n",
       "      <td>22</td>\n",
       "      <td>1</td>\n",
       "      <td>1</td>\n",
       "      <td>6</td>\n",
       "      <td>31</td>\n",
       "      <td>1</td>\n",
       "      <td>4</td>\n",
       "      <td>65</td>\n",
       "      <td>7</td>\n",
       "      <td>13500000</td>\n",
       "    </tr>\n",
       "    <tr>\n",
       "      <th>30470</th>\n",
       "      <td>30473</td>\n",
       "      <td>2015-06-30</td>\n",
       "      <td>43</td>\n",
       "      <td>28.0</td>\n",
       "      <td>1.0</td>\n",
       "      <td>9.0</td>\n",
       "      <td>1.0</td>\n",
       "      <td>1968.0</td>\n",
       "      <td>2.0</td>\n",
       "      <td>6.0</td>\n",
       "      <td>...</td>\n",
       "      <td>5</td>\n",
       "      <td>2</td>\n",
       "      <td>0</td>\n",
       "      <td>7</td>\n",
       "      <td>16</td>\n",
       "      <td>0</td>\n",
       "      <td>9</td>\n",
       "      <td>54</td>\n",
       "      <td>10</td>\n",
       "      <td>5600000</td>\n",
       "    </tr>\n",
       "  </tbody>\n",
       "</table>\n",
       "<p>30471 rows × 292 columns</p>\n",
       "</div>"
      ]
     },
     "execution_count": 19,
     "metadata": {},
     "output_type": "execute_result"
    }
   ],
   "execution_count": 19
  },
  {
   "cell_type": "markdown",
   "metadata": {},
   "source": [
    "Мы видим, что есть много переменных с пропущеными значениями. В этом уроке мы заполним пропуски нулями, но на самом деле есть много стратегий, как лучше обрабатывать пропуски в данных. Об этом мы поговорим в следующих лекциях."
   ]
  },
  {
   "cell_type": "code",
   "metadata": {
    "ExecuteTime": {
     "end_time": "2024-06-23T19:22:39.307347Z",
     "start_time": "2024-06-23T19:22:39.207079Z"
    }
   },
   "source": [
    "df.fillna(0, inplace=True)"
   ],
   "outputs": [],
   "execution_count": 20
  },
  {
   "cell_type": "markdown",
   "metadata": {},
   "source": [
    "Также посмотим в файл с описанием данных - выберем переменные, которые нам могли бы помочь.\n",
    "\n",
    "**price_doc** : цена продажи (это целевая переменная)\\\n",
    "**id**: идентификатор транзакции\\\n",
    "**timestamp**: дата транзакции\\\n",
    "**full_sq**: общая площадь в квадратных метрах, включая лоджии, балконы и другие нежилые помещения\\\n",
    "**life_sq**: жилая площадь в квадратных метрах без учета лоджий, балконов и других нежилых помещений\\\n",
    "**floor**: для квартир, этаж дома\\\n",
    "**max_floor**: количество этажей в здании\\\n",
    "**material**: материал стены\\\n",
    "**build_year**: год постройки\\\n",
    "**num_room**: количество жилых комнат\\\n",
    "**kitch_sq**: кухонная зона\\\n",
    "**state**: состояние квартиры\\\n",
    "**product_type**: покупка или инвестиции собственником-арендатором\\\n",
    "**sub_area**: название района\n",
    "\n",
    "Это основные признаки, с которыми будем работать в этом уроке. "
   ]
  },
  {
   "cell_type": "code",
   "metadata": {
    "ExecuteTime": {
     "end_time": "2024-06-23T19:22:39.327462Z",
     "start_time": "2024-06-23T19:22:39.315361Z"
    }
   },
   "source": [
    "#Отберем только признаки, которые описаны выше\n",
    "columns = ['price_doc', 'timestamp', 'full_sq', 'life_sq',\n",
    "'floor', 'max_floor', 'material', 'build_year',\n",
    " 'num_room', 'kitch_sq', 'state', 'product_type', 'sub_area']\n",
    "\n",
    "df = df[columns]"
   ],
   "outputs": [],
   "execution_count": 21
  },
  {
   "cell_type": "code",
   "metadata": {
    "ExecuteTime": {
     "end_time": "2024-06-23T19:22:39.342429Z",
     "start_time": "2024-06-23T19:22:39.329477Z"
    }
   },
   "source": [
    "#посмотрим на типы выбранных колонок\n",
    "df.dtypes"
   ],
   "outputs": [
    {
     "data": {
      "text/plain": [
       "price_doc         int64\n",
       "timestamp        object\n",
       "full_sq           int64\n",
       "life_sq         float64\n",
       "floor           float64\n",
       "max_floor       float64\n",
       "material        float64\n",
       "build_year      float64\n",
       "num_room        float64\n",
       "kitch_sq        float64\n",
       "state           float64\n",
       "product_type     object\n",
       "sub_area         object\n",
       "dtype: object"
      ]
     },
     "execution_count": 22,
     "metadata": {},
     "output_type": "execute_result"
    }
   ],
   "execution_count": 22
  },
  {
   "cell_type": "markdown",
   "metadata": {},
   "source": [
    "Мы видим, что есть несколько признаков с типом object - скорее всего это какието категориальные признаки. Линейная регерессия с ними не очень хорошо работает, поэтому давайте пока их также удалим."
   ]
  },
  {
   "cell_type": "code",
   "metadata": {
    "ExecuteTime": {
     "end_time": "2024-06-23T19:22:39.373201Z",
     "start_time": "2024-06-23T19:22:39.345450Z"
    }
   },
   "source": [
    "df = df._get_numeric_data()\n",
    "df.head()"
   ],
   "outputs": [
    {
     "data": {
      "text/plain": [
       "   price_doc  full_sq  life_sq  floor  max_floor  material  build_year  \\\n",
       "0    5850000       43     27.0    4.0        0.0       0.0         0.0   \n",
       "1    6000000       34     19.0    3.0        0.0       0.0         0.0   \n",
       "2    5700000       43     29.0    2.0        0.0       0.0         0.0   \n",
       "3   13100000       89     50.0    9.0        0.0       0.0         0.0   \n",
       "4   16331452       77     77.0    4.0        0.0       0.0         0.0   \n",
       "\n",
       "   num_room  kitch_sq  state  \n",
       "0       0.0       0.0    0.0  \n",
       "1       0.0       0.0    0.0  \n",
       "2       0.0       0.0    0.0  \n",
       "3       0.0       0.0    0.0  \n",
       "4       0.0       0.0    0.0  "
      ],
      "text/html": [
       "<div>\n",
       "<style scoped>\n",
       "    .dataframe tbody tr th:only-of-type {\n",
       "        vertical-align: middle;\n",
       "    }\n",
       "\n",
       "    .dataframe tbody tr th {\n",
       "        vertical-align: top;\n",
       "    }\n",
       "\n",
       "    .dataframe thead th {\n",
       "        text-align: right;\n",
       "    }\n",
       "</style>\n",
       "<table border=\"1\" class=\"dataframe\">\n",
       "  <thead>\n",
       "    <tr style=\"text-align: right;\">\n",
       "      <th></th>\n",
       "      <th>price_doc</th>\n",
       "      <th>full_sq</th>\n",
       "      <th>life_sq</th>\n",
       "      <th>floor</th>\n",
       "      <th>max_floor</th>\n",
       "      <th>material</th>\n",
       "      <th>build_year</th>\n",
       "      <th>num_room</th>\n",
       "      <th>kitch_sq</th>\n",
       "      <th>state</th>\n",
       "    </tr>\n",
       "  </thead>\n",
       "  <tbody>\n",
       "    <tr>\n",
       "      <th>0</th>\n",
       "      <td>5850000</td>\n",
       "      <td>43</td>\n",
       "      <td>27.0</td>\n",
       "      <td>4.0</td>\n",
       "      <td>0.0</td>\n",
       "      <td>0.0</td>\n",
       "      <td>0.0</td>\n",
       "      <td>0.0</td>\n",
       "      <td>0.0</td>\n",
       "      <td>0.0</td>\n",
       "    </tr>\n",
       "    <tr>\n",
       "      <th>1</th>\n",
       "      <td>6000000</td>\n",
       "      <td>34</td>\n",
       "      <td>19.0</td>\n",
       "      <td>3.0</td>\n",
       "      <td>0.0</td>\n",
       "      <td>0.0</td>\n",
       "      <td>0.0</td>\n",
       "      <td>0.0</td>\n",
       "      <td>0.0</td>\n",
       "      <td>0.0</td>\n",
       "    </tr>\n",
       "    <tr>\n",
       "      <th>2</th>\n",
       "      <td>5700000</td>\n",
       "      <td>43</td>\n",
       "      <td>29.0</td>\n",
       "      <td>2.0</td>\n",
       "      <td>0.0</td>\n",
       "      <td>0.0</td>\n",
       "      <td>0.0</td>\n",
       "      <td>0.0</td>\n",
       "      <td>0.0</td>\n",
       "      <td>0.0</td>\n",
       "    </tr>\n",
       "    <tr>\n",
       "      <th>3</th>\n",
       "      <td>13100000</td>\n",
       "      <td>89</td>\n",
       "      <td>50.0</td>\n",
       "      <td>9.0</td>\n",
       "      <td>0.0</td>\n",
       "      <td>0.0</td>\n",
       "      <td>0.0</td>\n",
       "      <td>0.0</td>\n",
       "      <td>0.0</td>\n",
       "      <td>0.0</td>\n",
       "    </tr>\n",
       "    <tr>\n",
       "      <th>4</th>\n",
       "      <td>16331452</td>\n",
       "      <td>77</td>\n",
       "      <td>77.0</td>\n",
       "      <td>4.0</td>\n",
       "      <td>0.0</td>\n",
       "      <td>0.0</td>\n",
       "      <td>0.0</td>\n",
       "      <td>0.0</td>\n",
       "      <td>0.0</td>\n",
       "      <td>0.0</td>\n",
       "    </tr>\n",
       "  </tbody>\n",
       "</table>\n",
       "</div>"
      ]
     },
     "execution_count": 23,
     "metadata": {},
     "output_type": "execute_result"
    }
   ],
   "execution_count": 23
  },
  {
   "cell_type": "markdown",
   "metadata": {},
   "source": [
    "Отлично! Пропусков нет, все колонки имеют количественные значения."
   ]
  },
  {
   "cell_type": "markdown",
   "metadata": {},
   "source": [
    "### 3. Отложим часть выборки"
   ]
  },
  {
   "cell_type": "code",
   "metadata": {
    "ExecuteTime": {
     "end_time": "2024-06-23T19:22:39.396777Z",
     "start_time": "2024-06-23T19:22:39.376215Z"
    }
   },
   "source": [
    "#Отложим часть выборки, чтобы убедиться в дальнейшем, что наша модель не переобучилась.\n",
    "df_test = df.sample(n=1000, random_state=0)\n",
    "df_train = df.drop(index=df_test.index)\n",
    "\n",
    "df_test = df_test.reset_index(drop=True)\n",
    "df_train = df_train.reset_index(drop=True)"
   ],
   "outputs": [],
   "execution_count": 24
  },
  {
   "cell_type": "code",
   "metadata": {
    "ExecuteTime": {
     "end_time": "2024-06-23T19:22:39.413996Z",
     "start_time": "2024-06-23T19:22:39.401794Z"
    }
   },
   "source": [
    "#Зададим объекты и целевое значение\n",
    "\n",
    "X_train = df_train[df_train.columns[1:]]\n",
    "y_train = df_train['price_doc']\n",
    "\n",
    "X_test = df_test[df_test.columns[1:]]\n",
    "y_test = df_test['price_doc']"
   ],
   "outputs": [],
   "execution_count": 25
  },
  {
   "cell_type": "code",
   "metadata": {
    "ExecuteTime": {
     "end_time": "2024-06-23T19:22:39.425050Z",
     "start_time": "2024-06-23T19:22:39.417016Z"
    }
   },
   "source": [
    "# df_train.columns[1:]"
   ],
   "outputs": [],
   "execution_count": 26
  },
  {
   "cell_type": "markdown",
   "metadata": {},
   "source": [
    "### 4. Построим самый простой алгоритм посчитаем его качество\n"
   ]
  },
  {
   "cell_type": "markdown",
   "metadata": {},
   "source": [
    "Метрика, которую обсуждали выше уже чатично реализована в sklearn, нам нужно будет только извлечь из нее корень."
   ]
  },
  {
   "cell_type": "code",
   "metadata": {
    "ExecuteTime": {
     "end_time": "2024-06-23T19:22:47.112558Z",
     "start_time": "2024-06-23T19:22:39.431069Z"
    }
   },
   "source": [
    "from sklearn.metrics import mean_squared_log_error"
   ],
   "outputs": [],
   "execution_count": 27
  },
  {
   "cell_type": "code",
   "metadata": {
    "ExecuteTime": {
     "end_time": "2024-06-23T19:22:47.120168Z",
     "start_time": "2024-06-23T19:22:47.113564Z"
    }
   },
   "source": [
    "predictions = np.array([y_train.median()]*1000)"
   ],
   "outputs": [],
   "execution_count": 28
  },
  {
   "cell_type": "code",
   "metadata": {
    "ExecuteTime": {
     "end_time": "2024-06-23T19:22:47.130008Z",
     "start_time": "2024-06-23T19:22:47.122178Z"
    }
   },
   "source": [
    "print(f\"Значение метрики RMSLE при предскзаании медианой: {np.sqrt(mean_squared_log_error( y_test, predictions ))}\")"
   ],
   "outputs": [
    {
     "name": "stdout",
     "output_type": "stream",
     "text": [
      "Значение метрики RMSLE при предскзаании медианой: 0.6043387231257158\n"
     ]
    }
   ],
   "execution_count": 29
  },
  {
   "cell_type": "code",
   "metadata": {
    "ExecuteTime": {
     "end_time": "2024-06-23T19:22:47.139411Z",
     "start_time": "2024-06-23T19:22:47.132018Z"
    }
   },
   "source": [
    "baseline = np.sqrt(mean_squared_log_error(y_test, predictions))"
   ],
   "outputs": [],
   "execution_count": 30
  },
  {
   "cell_type": "markdown",
   "metadata": {},
   "source": [
    "Лучший скор на лидерборде 0.3, метрика чем меньше, тем лучше, значит нам есть куда стремиться."
   ]
  },
  {
   "cell_type": "markdown",
   "metadata": {},
   "source": [
    "### 5. Займемся предобработкой данных"
   ]
  },
  {
   "cell_type": "markdown",
   "metadata": {},
   "source": [
    "Вспомним преобразования из лекции\\\n",
    "$$x_i^j = \\frac{x_i^j - min(x_1^j,x_2^j, \\dots, x_i^j)}{max(x_1^j,x_2^j, \\dots, x_i^j) - min(x_1^j,x_2^j, \\dots, x_i^j)}$$\n",
    "\n",
    "$$x_i^j = \\frac{x_i^j - \\mu_j}{\\sigma_j}$$\n",
    "\n",
    "В sklearn уже есть готовые преобразователи, которые и необходимые величины посчитают и данные преобразуют."
   ]
  },
  {
   "cell_type": "code",
   "metadata": {
    "ExecuteTime": {
     "end_time": "2024-06-23T19:22:47.147035Z",
     "start_time": "2024-06-23T19:22:47.141423Z"
    }
   },
   "source": [
    "from sklearn.preprocessing import MinMaxScaler, StandardScaler"
   ],
   "outputs": [],
   "execution_count": 31
  },
  {
   "cell_type": "markdown",
   "metadata": {},
   "source": [
    "**Ссылки на их документации**\n",
    "\n",
    "\n",
    "https://scikit-learn.org/stable/modules/generated/sklearn.preprocessing.StandardScaler.html\n",
    "https://scikit-learn.org/stable/modules/generated/sklearn.preprocessing.MinMaxScaler.html"
   ]
  },
  {
   "cell_type": "code",
   "metadata": {
    "ExecuteTime": {
     "end_time": "2024-06-23T19:22:47.182816Z",
     "start_time": "2024-06-23T19:22:47.149042Z"
    }
   },
   "source": [
    "# зададим объекты - трансформеры, \n",
    "# которые преобразуют наши данные и запомнят средние,\n",
    "# максимальные и другие необходимые для вычислений значения\n",
    "\n",
    "min_max = MinMaxScaler() \n",
    "standard = StandardScaler()\n",
    "\n",
    "# метод фит вычисляет все вспомогательные значения по каждому признаку\n",
    "min_max.fit(X_train)\n",
    "standard.fit(X_train)\n",
    "\n",
    "# метод трансформ преобразует с помощью вычесленных значений значения признаков из нашего датасета\n",
    "X_train_min_max = min_max.transform(X_train)\n",
    "X_test_min_max = min_max.transform(X_test)\n",
    "\n",
    "#нам нужно преобразовать как тестовую, так и тренировочную выборку,\n",
    "#хорошим тоном считается вычислять вспомогательные значения по обучающей выборке\n",
    "X_train_standard = standard.transform(X_train)\n",
    "X_test_standard = standard.transform(X_test)"
   ],
   "outputs": [],
   "execution_count": 32
  },
  {
   "cell_type": "markdown",
   "metadata": {},
   "source": [
    "###  6. Обучим линейную регрессию"
   ]
  },
  {
   "cell_type": "code",
   "metadata": {
    "ExecuteTime": {
     "end_time": "2024-06-23T19:22:47.760220Z",
     "start_time": "2024-06-23T19:22:47.185835Z"
    }
   },
   "source": [
    "import sklearn.linear_model as lm"
   ],
   "outputs": [],
   "execution_count": 33
  },
  {
   "cell_type": "markdown",
   "metadata": {},
   "source": [
    "**Ссылка на документацию:**\n",
    "\n",
    "Линейная регрессия https://scikit-learn.org/stable/modules/generated/sklearn.linear_model.LinearRegression.html \\\n",
    "L1-регрессия (Lasso) https://scikit-learn.org/stable/modules/generated/sklearn.linear_model.Lasso.html#sklearn.linear_model.Lasso \\\n",
    "L2-регрессия (Ridge) https://scikit-learn.org/stable/modules/generated/sklearn.linear_model.Ridge.html#sklearn.linear_model.Ridge"
   ]
  },
  {
   "cell_type": "code",
   "metadata": {
    "ExecuteTime": {
     "end_time": "2024-06-23T19:23:20.129657Z",
     "start_time": "2024-06-23T19:23:20.065075Z"
    }
   },
   "source": "linear_regression = lm.LinearRegression().fit(X=X_train_min_max, y=y_train)",
   "outputs": [],
   "execution_count": 35
  },
  {
   "cell_type": "markdown",
   "metadata": {},
   "source": [
    "### 7. Посчитаем качество, с которым у нас получилось предсказать"
   ]
  },
  {
   "cell_type": "code",
   "metadata": {
    "ExecuteTime": {
     "end_time": "2024-06-23T19:23:23.661588Z",
     "start_time": "2024-06-23T19:23:23.652933Z"
    }
   },
   "source": [
    "# Давайте запишем для этого отдельную функцию, \n",
    "# которая бы получала на вход тренировочные объекты,\n",
    "# ответы на тренироввочных объектах и также тестовые объекты и ответы на тестовых объектах, а также модель\n",
    "# Возвращала бы она метрикиу, которы посчиталась сделав предсказания на тренировочные  и на тестовые объекты\n",
    "# X_train, y_train - тренировочные объекты и ответы\n",
    "# X_test, y_test - тестовые объекты и ответы\n",
    "\n",
    "def calculate_metric(X_train, X_test, y_train, y_test, model):\n",
    "\n",
    "    predictions_test = model.predict(X_test)\n",
    "    predictions_train = model.predict(X_train)\n",
    "    \n",
    "    if (predictions_test < 0).any() or (predictions_train < 0).any():\n",
    "        predictions_test[np.where(predictions_test < 0)] = 0\n",
    "        predictions_train[np.where(predictions_train < 0)] = 0\n",
    "    \n",
    "\n",
    "    metric_test = np.sqrt(mean_squared_log_error( y_test, predictions_test))\n",
    "    metric_train = np.sqrt(mean_squared_log_error( y_train, predictions_train))\n",
    "\n",
    "    delta_baseline = baseline - metric_test\n",
    "\n",
    "    print(f\"Значение метрики RMSLE на тесте : {metric_test}\")\n",
    "    print(f\"Значение метрики RMSLE на трейне: {metric_train}\")\n",
    "    print(f\"Улучшение метрики по сравнению с бейзлайонм: {delta_baseline}\")"
   ],
   "outputs": [],
   "execution_count": 36
  },
  {
   "cell_type": "markdown",
   "metadata": {},
   "source": [
    "Здорово! Теперь мы можем считать то что нам нужно используя всего лишь одну функцию."
   ]
  },
  {
   "cell_type": "code",
   "metadata": {
    "ExecuteTime": {
     "end_time": "2024-06-23T19:23:27.579860Z",
     "start_time": "2024-06-23T19:23:27.568411Z"
    }
   },
   "source": [
    "calculate_metric(X_train=X_train_min_max, X_test=X_test_min_max, y_train=y_train, y_test=y_test, model=linear_regression)"
   ],
   "outputs": [
    {
     "name": "stdout",
     "output_type": "stream",
     "text": [
      "Значение метрики RMSLE на тесте : 0.5588000012725938\n",
      "Значение метрики RMSLE на трейне: 0.5571633028324698\n",
      "Улучшение метрики по сравнению с бейзлайонм: 0.04553872185312202\n"
     ]
    }
   ],
   "execution_count": 37
  },
  {
   "cell_type": "markdown",
   "metadata": {},
   "source": [
    "Отлично! Мы улучшили нашу метрику на 0.045, есть куда двигаться дальше."
   ]
  },
  {
   "cell_type": "markdown",
   "metadata": {},
   "source": [
    "### 8. Гипотезы, которые можем попробовтаь опираясь на пройденный урок.\n",
    "1) Попробовать стандартизовать признаки\\\n",
    "2) Попробовать ввести квадраты признаков\\\n",
    "3) Попробовать регуляризацию для модели\n"
   ]
  },
  {
   "cell_type": "markdown",
   "metadata": {},
   "source": [
    "Для стандартизации у нас уже записан код и посчитано в отдельном датасете X_train_standard"
   ]
  },
  {
   "cell_type": "markdown",
   "metadata": {},
   "source": [
    "**ДЗ1:**\n",
    "    Нужно используя уже готовое стандартное преобразование обучить линейную регрессию и посчитать какая получится метрика на тесте и округлить ее до второго знака после запятой."
   ]
  },
  {
   "cell_type": "code",
   "metadata": {
    "ExecuteTime": {
     "end_time": "2024-06-23T19:26:13.073371Z",
     "start_time": "2024-06-23T19:26:13.055906Z"
    }
   },
   "source": [
    "#здесь можно написать код с обучением линейной регрессии\n",
    "linear_regression = lm.LinearRegression().fit(X=X_train_standard, y=y_train)"
   ],
   "outputs": [],
   "execution_count": 38
  },
  {
   "cell_type": "code",
   "metadata": {
    "ExecuteTime": {
     "end_time": "2024-06-23T19:28:38.282528Z",
     "start_time": "2024-06-23T19:28:38.246060Z"
    }
   },
   "source": [
    "#здесь с помощью написанной функции можно посчитать качество которое получается при такой обработке данных\n",
    "calculate_metric(X_train=X_train_standard, X_test=X_test_standard, y_train=y_train, y_test=y_test, model=linear_regression)"
   ],
   "outputs": [
    {
     "name": "stdout",
     "output_type": "stream",
     "text": [
      "Значение метрики RMSLE на тесте : 0.5588000012725927\n",
      "Значение метрики RMSLE на трейне: 0.5571633028324688\n",
      "Улучшение метрики по сравнению с бейзлайонм: 0.04553872185312313\n"
     ]
    },
    {
     "ename": "TypeError",
     "evalue": "calculate_metric() missing 2 required positional arguments: 'X_train' and 'y_train'",
     "output_type": "error",
     "traceback": [
      "\u001B[1;31m---------------------------------------------------------------------------\u001B[0m",
      "\u001B[1;31mTypeError\u001B[0m                                 Traceback (most recent call last)",
      "Cell \u001B[1;32mIn[43], line 3\u001B[0m\n\u001B[0;32m      1\u001B[0m \u001B[38;5;66;03m#здесь с помощью написанной функции можно посчитать качество которое получается при такой обработке данных\u001B[39;00m\n\u001B[0;32m      2\u001B[0m calculate_metric(X_train\u001B[38;5;241m=\u001B[39mX_train_standard, X_test\u001B[38;5;241m=\u001B[39mX_test_standard, y_train\u001B[38;5;241m=\u001B[39my_train, y_test\u001B[38;5;241m=\u001B[39my_test, model\u001B[38;5;241m=\u001B[39mlinear_regression)\n\u001B[1;32m----> 3\u001B[0m metric \u001B[38;5;241m=\u001B[39m \u001B[43mcalculate_metric\u001B[49m\u001B[43m(\u001B[49m\u001B[43mX_test\u001B[49m\u001B[38;5;241;43m=\u001B[39;49m\u001B[43mX_test_standard\u001B[49m\u001B[43m,\u001B[49m\u001B[43m \u001B[49m\u001B[43my_test\u001B[49m\u001B[38;5;241;43m=\u001B[39;49m\u001B[43my_test\u001B[49m\u001B[43m,\u001B[49m\u001B[43m \u001B[49m\u001B[43mmodel\u001B[49m\u001B[38;5;241;43m=\u001B[39;49m\u001B[43mlinear_regression\u001B[49m\u001B[43m)\u001B[49m\n",
      "\u001B[1;31mTypeError\u001B[0m: calculate_metric() missing 2 required positional arguments: 'X_train' and 'y_train'"
     ]
    }
   ],
   "execution_count": 43
  },
  {
   "cell_type": "code",
   "metadata": {
    "ExecuteTime": {
     "end_time": "2024-06-23T19:30:00.646791Z",
     "start_time": "2024-06-23T19:30:00.637415Z"
    }
   },
   "source": [
    "#здесь можно вставить код, для округления до второго знака после запятой или посчитать устно\n",
    "round(0.5588000012725927,2)"
   ],
   "outputs": [
    {
     "data": {
      "text/plain": [
       "0.56"
      ]
     },
     "execution_count": 45,
     "metadata": {},
     "output_type": "execute_result"
    }
   ],
   "execution_count": 45
  },
  {
   "cell_type": "markdown",
   "metadata": {},
   "source": [
    "**2) генерация квадратов фичей**\n",
    "\n",
    "Для генерации новых фичей, нам нужно работать с изначальным датасетом, давайте так и сделаем."
   ]
  },
  {
   "cell_type": "code",
   "metadata": {
    "ExecuteTime": {
     "end_time": "2024-06-23T19:30:31.427314Z",
     "start_time": "2024-06-23T19:30:31.402602Z"
    }
   },
   "source": [
    "for c in df.columns[1:]:\n",
    "    df[c+'_2'] = df[c]*df[c]\n",
    "    df[c+'_3'] = df[c+'_2']*df[c]\n",
    "    df[c+'_4'] = df[c+'_3']*df[c]"
   ],
   "outputs": [],
   "execution_count": 46
  },
  {
   "cell_type": "code",
   "metadata": {
    "ExecuteTime": {
     "end_time": "2024-06-23T19:30:33.092896Z",
     "start_time": "2024-06-23T19:30:33.043304Z"
    }
   },
   "source": [
    "df"
   ],
   "outputs": [
    {
     "data": {
      "text/plain": [
       "       price_doc  full_sq  life_sq  floor  max_floor  material  build_year  \\\n",
       "0        5850000       43     27.0    4.0        0.0       0.0         0.0   \n",
       "1        6000000       34     19.0    3.0        0.0       0.0         0.0   \n",
       "2        5700000       43     29.0    2.0        0.0       0.0         0.0   \n",
       "3       13100000       89     50.0    9.0        0.0       0.0         0.0   \n",
       "4       16331452       77     77.0    4.0        0.0       0.0         0.0   \n",
       "...          ...      ...      ...    ...        ...       ...         ...   \n",
       "30466    7400000       44     27.0    7.0        9.0       1.0      1975.0   \n",
       "30467   25000000       86     59.0    3.0        9.0       2.0      1935.0   \n",
       "30468    6970959       45      0.0   10.0       20.0       1.0         0.0   \n",
       "30469   13500000       64     32.0    5.0       15.0       1.0      2003.0   \n",
       "30470    5600000       43     28.0    1.0        9.0       1.0      1968.0   \n",
       "\n",
       "       num_room  kitch_sq  state  ...  build_year_4  num_room_2  num_room_3  \\\n",
       "0           0.0       0.0    0.0  ...  0.000000e+00         0.0         0.0   \n",
       "1           0.0       0.0    0.0  ...  0.000000e+00         0.0         0.0   \n",
       "2           0.0       0.0    0.0  ...  0.000000e+00         0.0         0.0   \n",
       "3           0.0       0.0    0.0  ...  0.000000e+00         0.0         0.0   \n",
       "4           0.0       0.0    0.0  ...  0.000000e+00         0.0         0.0   \n",
       "...         ...       ...    ...  ...           ...         ...         ...   \n",
       "30466       2.0       6.0    3.0  ...  1.521488e+13         4.0         8.0   \n",
       "30467       4.0      10.0    3.0  ...  1.401922e+13        16.0        64.0   \n",
       "30468       1.0       1.0    1.0  ...  0.000000e+00         1.0         1.0   \n",
       "30469       2.0      11.0    2.0  ...  1.609622e+13         4.0         8.0   \n",
       "30470       2.0       6.0    2.0  ...  1.500031e+13         4.0         8.0   \n",
       "\n",
       "       num_room_4  kitch_sq_2  kitch_sq_3  kitch_sq_4  state_2  state_3  \\\n",
       "0             0.0         0.0         0.0         0.0      0.0      0.0   \n",
       "1             0.0         0.0         0.0         0.0      0.0      0.0   \n",
       "2             0.0         0.0         0.0         0.0      0.0      0.0   \n",
       "3             0.0         0.0         0.0         0.0      0.0      0.0   \n",
       "4             0.0         0.0         0.0         0.0      0.0      0.0   \n",
       "...           ...         ...         ...         ...      ...      ...   \n",
       "30466        16.0        36.0       216.0      1296.0      9.0     27.0   \n",
       "30467       256.0       100.0      1000.0     10000.0      9.0     27.0   \n",
       "30468         1.0         1.0         1.0         1.0      1.0      1.0   \n",
       "30469        16.0       121.0      1331.0     14641.0      4.0      8.0   \n",
       "30470        16.0        36.0       216.0      1296.0      4.0      8.0   \n",
       "\n",
       "       state_4  \n",
       "0          0.0  \n",
       "1          0.0  \n",
       "2          0.0  \n",
       "3          0.0  \n",
       "4          0.0  \n",
       "...        ...  \n",
       "30466     81.0  \n",
       "30467     81.0  \n",
       "30468      1.0  \n",
       "30469     16.0  \n",
       "30470     16.0  \n",
       "\n",
       "[30471 rows x 37 columns]"
      ],
      "text/html": [
       "<div>\n",
       "<style scoped>\n",
       "    .dataframe tbody tr th:only-of-type {\n",
       "        vertical-align: middle;\n",
       "    }\n",
       "\n",
       "    .dataframe tbody tr th {\n",
       "        vertical-align: top;\n",
       "    }\n",
       "\n",
       "    .dataframe thead th {\n",
       "        text-align: right;\n",
       "    }\n",
       "</style>\n",
       "<table border=\"1\" class=\"dataframe\">\n",
       "  <thead>\n",
       "    <tr style=\"text-align: right;\">\n",
       "      <th></th>\n",
       "      <th>price_doc</th>\n",
       "      <th>full_sq</th>\n",
       "      <th>life_sq</th>\n",
       "      <th>floor</th>\n",
       "      <th>max_floor</th>\n",
       "      <th>material</th>\n",
       "      <th>build_year</th>\n",
       "      <th>num_room</th>\n",
       "      <th>kitch_sq</th>\n",
       "      <th>state</th>\n",
       "      <th>...</th>\n",
       "      <th>build_year_4</th>\n",
       "      <th>num_room_2</th>\n",
       "      <th>num_room_3</th>\n",
       "      <th>num_room_4</th>\n",
       "      <th>kitch_sq_2</th>\n",
       "      <th>kitch_sq_3</th>\n",
       "      <th>kitch_sq_4</th>\n",
       "      <th>state_2</th>\n",
       "      <th>state_3</th>\n",
       "      <th>state_4</th>\n",
       "    </tr>\n",
       "  </thead>\n",
       "  <tbody>\n",
       "    <tr>\n",
       "      <th>0</th>\n",
       "      <td>5850000</td>\n",
       "      <td>43</td>\n",
       "      <td>27.0</td>\n",
       "      <td>4.0</td>\n",
       "      <td>0.0</td>\n",
       "      <td>0.0</td>\n",
       "      <td>0.0</td>\n",
       "      <td>0.0</td>\n",
       "      <td>0.0</td>\n",
       "      <td>0.0</td>\n",
       "      <td>...</td>\n",
       "      <td>0.000000e+00</td>\n",
       "      <td>0.0</td>\n",
       "      <td>0.0</td>\n",
       "      <td>0.0</td>\n",
       "      <td>0.0</td>\n",
       "      <td>0.0</td>\n",
       "      <td>0.0</td>\n",
       "      <td>0.0</td>\n",
       "      <td>0.0</td>\n",
       "      <td>0.0</td>\n",
       "    </tr>\n",
       "    <tr>\n",
       "      <th>1</th>\n",
       "      <td>6000000</td>\n",
       "      <td>34</td>\n",
       "      <td>19.0</td>\n",
       "      <td>3.0</td>\n",
       "      <td>0.0</td>\n",
       "      <td>0.0</td>\n",
       "      <td>0.0</td>\n",
       "      <td>0.0</td>\n",
       "      <td>0.0</td>\n",
       "      <td>0.0</td>\n",
       "      <td>...</td>\n",
       "      <td>0.000000e+00</td>\n",
       "      <td>0.0</td>\n",
       "      <td>0.0</td>\n",
       "      <td>0.0</td>\n",
       "      <td>0.0</td>\n",
       "      <td>0.0</td>\n",
       "      <td>0.0</td>\n",
       "      <td>0.0</td>\n",
       "      <td>0.0</td>\n",
       "      <td>0.0</td>\n",
       "    </tr>\n",
       "    <tr>\n",
       "      <th>2</th>\n",
       "      <td>5700000</td>\n",
       "      <td>43</td>\n",
       "      <td>29.0</td>\n",
       "      <td>2.0</td>\n",
       "      <td>0.0</td>\n",
       "      <td>0.0</td>\n",
       "      <td>0.0</td>\n",
       "      <td>0.0</td>\n",
       "      <td>0.0</td>\n",
       "      <td>0.0</td>\n",
       "      <td>...</td>\n",
       "      <td>0.000000e+00</td>\n",
       "      <td>0.0</td>\n",
       "      <td>0.0</td>\n",
       "      <td>0.0</td>\n",
       "      <td>0.0</td>\n",
       "      <td>0.0</td>\n",
       "      <td>0.0</td>\n",
       "      <td>0.0</td>\n",
       "      <td>0.0</td>\n",
       "      <td>0.0</td>\n",
       "    </tr>\n",
       "    <tr>\n",
       "      <th>3</th>\n",
       "      <td>13100000</td>\n",
       "      <td>89</td>\n",
       "      <td>50.0</td>\n",
       "      <td>9.0</td>\n",
       "      <td>0.0</td>\n",
       "      <td>0.0</td>\n",
       "      <td>0.0</td>\n",
       "      <td>0.0</td>\n",
       "      <td>0.0</td>\n",
       "      <td>0.0</td>\n",
       "      <td>...</td>\n",
       "      <td>0.000000e+00</td>\n",
       "      <td>0.0</td>\n",
       "      <td>0.0</td>\n",
       "      <td>0.0</td>\n",
       "      <td>0.0</td>\n",
       "      <td>0.0</td>\n",
       "      <td>0.0</td>\n",
       "      <td>0.0</td>\n",
       "      <td>0.0</td>\n",
       "      <td>0.0</td>\n",
       "    </tr>\n",
       "    <tr>\n",
       "      <th>4</th>\n",
       "      <td>16331452</td>\n",
       "      <td>77</td>\n",
       "      <td>77.0</td>\n",
       "      <td>4.0</td>\n",
       "      <td>0.0</td>\n",
       "      <td>0.0</td>\n",
       "      <td>0.0</td>\n",
       "      <td>0.0</td>\n",
       "      <td>0.0</td>\n",
       "      <td>0.0</td>\n",
       "      <td>...</td>\n",
       "      <td>0.000000e+00</td>\n",
       "      <td>0.0</td>\n",
       "      <td>0.0</td>\n",
       "      <td>0.0</td>\n",
       "      <td>0.0</td>\n",
       "      <td>0.0</td>\n",
       "      <td>0.0</td>\n",
       "      <td>0.0</td>\n",
       "      <td>0.0</td>\n",
       "      <td>0.0</td>\n",
       "    </tr>\n",
       "    <tr>\n",
       "      <th>...</th>\n",
       "      <td>...</td>\n",
       "      <td>...</td>\n",
       "      <td>...</td>\n",
       "      <td>...</td>\n",
       "      <td>...</td>\n",
       "      <td>...</td>\n",
       "      <td>...</td>\n",
       "      <td>...</td>\n",
       "      <td>...</td>\n",
       "      <td>...</td>\n",
       "      <td>...</td>\n",
       "      <td>...</td>\n",
       "      <td>...</td>\n",
       "      <td>...</td>\n",
       "      <td>...</td>\n",
       "      <td>...</td>\n",
       "      <td>...</td>\n",
       "      <td>...</td>\n",
       "      <td>...</td>\n",
       "      <td>...</td>\n",
       "      <td>...</td>\n",
       "    </tr>\n",
       "    <tr>\n",
       "      <th>30466</th>\n",
       "      <td>7400000</td>\n",
       "      <td>44</td>\n",
       "      <td>27.0</td>\n",
       "      <td>7.0</td>\n",
       "      <td>9.0</td>\n",
       "      <td>1.0</td>\n",
       "      <td>1975.0</td>\n",
       "      <td>2.0</td>\n",
       "      <td>6.0</td>\n",
       "      <td>3.0</td>\n",
       "      <td>...</td>\n",
       "      <td>1.521488e+13</td>\n",
       "      <td>4.0</td>\n",
       "      <td>8.0</td>\n",
       "      <td>16.0</td>\n",
       "      <td>36.0</td>\n",
       "      <td>216.0</td>\n",
       "      <td>1296.0</td>\n",
       "      <td>9.0</td>\n",
       "      <td>27.0</td>\n",
       "      <td>81.0</td>\n",
       "    </tr>\n",
       "    <tr>\n",
       "      <th>30467</th>\n",
       "      <td>25000000</td>\n",
       "      <td>86</td>\n",
       "      <td>59.0</td>\n",
       "      <td>3.0</td>\n",
       "      <td>9.0</td>\n",
       "      <td>2.0</td>\n",
       "      <td>1935.0</td>\n",
       "      <td>4.0</td>\n",
       "      <td>10.0</td>\n",
       "      <td>3.0</td>\n",
       "      <td>...</td>\n",
       "      <td>1.401922e+13</td>\n",
       "      <td>16.0</td>\n",
       "      <td>64.0</td>\n",
       "      <td>256.0</td>\n",
       "      <td>100.0</td>\n",
       "      <td>1000.0</td>\n",
       "      <td>10000.0</td>\n",
       "      <td>9.0</td>\n",
       "      <td>27.0</td>\n",
       "      <td>81.0</td>\n",
       "    </tr>\n",
       "    <tr>\n",
       "      <th>30468</th>\n",
       "      <td>6970959</td>\n",
       "      <td>45</td>\n",
       "      <td>0.0</td>\n",
       "      <td>10.0</td>\n",
       "      <td>20.0</td>\n",
       "      <td>1.0</td>\n",
       "      <td>0.0</td>\n",
       "      <td>1.0</td>\n",
       "      <td>1.0</td>\n",
       "      <td>1.0</td>\n",
       "      <td>...</td>\n",
       "      <td>0.000000e+00</td>\n",
       "      <td>1.0</td>\n",
       "      <td>1.0</td>\n",
       "      <td>1.0</td>\n",
       "      <td>1.0</td>\n",
       "      <td>1.0</td>\n",
       "      <td>1.0</td>\n",
       "      <td>1.0</td>\n",
       "      <td>1.0</td>\n",
       "      <td>1.0</td>\n",
       "    </tr>\n",
       "    <tr>\n",
       "      <th>30469</th>\n",
       "      <td>13500000</td>\n",
       "      <td>64</td>\n",
       "      <td>32.0</td>\n",
       "      <td>5.0</td>\n",
       "      <td>15.0</td>\n",
       "      <td>1.0</td>\n",
       "      <td>2003.0</td>\n",
       "      <td>2.0</td>\n",
       "      <td>11.0</td>\n",
       "      <td>2.0</td>\n",
       "      <td>...</td>\n",
       "      <td>1.609622e+13</td>\n",
       "      <td>4.0</td>\n",
       "      <td>8.0</td>\n",
       "      <td>16.0</td>\n",
       "      <td>121.0</td>\n",
       "      <td>1331.0</td>\n",
       "      <td>14641.0</td>\n",
       "      <td>4.0</td>\n",
       "      <td>8.0</td>\n",
       "      <td>16.0</td>\n",
       "    </tr>\n",
       "    <tr>\n",
       "      <th>30470</th>\n",
       "      <td>5600000</td>\n",
       "      <td>43</td>\n",
       "      <td>28.0</td>\n",
       "      <td>1.0</td>\n",
       "      <td>9.0</td>\n",
       "      <td>1.0</td>\n",
       "      <td>1968.0</td>\n",
       "      <td>2.0</td>\n",
       "      <td>6.0</td>\n",
       "      <td>2.0</td>\n",
       "      <td>...</td>\n",
       "      <td>1.500031e+13</td>\n",
       "      <td>4.0</td>\n",
       "      <td>8.0</td>\n",
       "      <td>16.0</td>\n",
       "      <td>36.0</td>\n",
       "      <td>216.0</td>\n",
       "      <td>1296.0</td>\n",
       "      <td>4.0</td>\n",
       "      <td>8.0</td>\n",
       "      <td>16.0</td>\n",
       "    </tr>\n",
       "  </tbody>\n",
       "</table>\n",
       "<p>30471 rows × 37 columns</p>\n",
       "</div>"
      ]
     },
     "execution_count": 47,
     "metadata": {},
     "output_type": "execute_result"
    }
   ],
   "execution_count": 47
  },
  {
   "cell_type": "code",
   "metadata": {
    "ExecuteTime": {
     "end_time": "2024-06-23T19:30:35.310943Z",
     "start_time": "2024-06-23T19:30:35.273093Z"
    }
   },
   "source": [
    "#Отложим часть выборки, чтобы убедиться в дальнейшем, что наша модель не переобучилась.\n",
    "df_test = df.sample(n=1000, random_state=0)\n",
    "df_train = df.drop(index=df_test.index)\n",
    "\n",
    "df_test = df_test.reset_index(drop=True)\n",
    "df_train = df_train.reset_index(drop=True)"
   ],
   "outputs": [],
   "execution_count": 48
  },
  {
   "cell_type": "code",
   "metadata": {
    "ExecuteTime": {
     "end_time": "2024-06-23T19:30:36.984379Z",
     "start_time": "2024-06-23T19:30:36.970832Z"
    }
   },
   "source": [
    "X_train = df_train[df_train.columns[1:]]\n",
    "y_train = df_train['price_doc']\n",
    "\n",
    "X_test = df_test[df_test.columns[1:]]\n",
    "y_test = df_test['price_doc']"
   ],
   "outputs": [],
   "execution_count": 49
  },
  {
   "cell_type": "code",
   "metadata": {
    "ExecuteTime": {
     "end_time": "2024-06-23T19:30:39.095227Z",
     "start_time": "2024-06-23T19:30:39.028882Z"
    }
   },
   "source": [
    "min_max = MinMaxScaler()\n",
    "standard = StandardScaler()\n",
    "\n",
    "min_max.fit(X_train)\n",
    "standard.fit(X_train)\n",
    "\n",
    "X_train_min_max = min_max.transform(X_train)\n",
    "X_test_min_max = min_max.transform(X_test)\n",
    "\n",
    "X_train_standard = standard.transform(X_train)\n",
    "X_test_standard = standard.transform(X_test)"
   ],
   "outputs": [],
   "execution_count": 50
  },
  {
   "cell_type": "code",
   "metadata": {
    "ExecuteTime": {
     "end_time": "2024-06-23T19:30:40.689002Z",
     "start_time": "2024-06-23T19:30:40.338655Z"
    }
   },
   "source": "linear_regression = lm.LinearRegression().fit(X=X_train_min_max, y=y_train)",
   "outputs": [],
   "execution_count": 51
  },
  {
   "cell_type": "code",
   "metadata": {
    "ExecuteTime": {
     "end_time": "2024-06-23T19:30:42.106348Z",
     "start_time": "2024-06-23T19:30:42.091984Z"
    }
   },
   "source": [
    "calculate_metric(X_train=X_train_min_max, X_test=X_test_min_max, y_train=y_train, y_test=y_test, model=linear_regression)"
   ],
   "outputs": [
    {
     "name": "stdout",
     "output_type": "stream",
     "text": [
      "Значение метрики RMSLE на тесте : 0.5304746691151244\n",
      "Значение метрики RMSLE на трейне: 0.6539455200981915\n",
      "Улучшение метрики по сравнению с бейзлайонм: 0.07386405401059137\n"
     ]
    }
   ],
   "execution_count": 52
  },
  {
   "cell_type": "code",
   "metadata": {
    "ExecuteTime": {
     "end_time": "2024-06-23T19:30:43.823081Z",
     "start_time": "2024-06-23T19:30:43.791Z"
    }
   },
   "source": [
    "ridge = lm.Ridge().fit(X=X_train_min_max, y=y_train)"
   ],
   "outputs": [],
   "execution_count": 53
  },
  {
   "cell_type": "code",
   "metadata": {
    "ExecuteTime": {
     "end_time": "2024-06-23T19:30:45.967248Z",
     "start_time": "2024-06-23T19:30:45.958974Z"
    }
   },
   "source": [
    "linear_regression.coef_"
   ],
   "outputs": [
    {
     "data": {
      "text/plain": [
       "array([ 4.89379670e+08,  1.88749207e+08,  3.07717864e+07, -1.69605235e+07,\n",
       "        5.46973960e+06,  1.06035175e+12, -3.74870578e+07,  6.78780925e+07,\n",
       "       -1.70555721e+07,  8.22597439e+09, -1.09824165e+11,  1.01114769e+11,\n",
       "       -8.87826805e+09,  7.48444292e+10, -6.61565043e+10, -2.23835882e+08,\n",
       "        6.01607664e+08, -4.03816779e+08,  1.63364608e+08, -3.60535681e+08,\n",
       "        2.20402916e+08,  1.04335218e+07, -3.52732115e+07,  2.03177171e+07,\n",
       "       -1.48296081e+16,  4.28086774e+19, -4.27938489e+19,  2.18522466e+08,\n",
       "       -1.47271677e+08, -4.19821733e+07, -4.14374000e+08,  6.97027877e+08,\n",
       "       -3.53122351e+08,  6.72355859e+08, -1.08720405e+10,  6.87193701e+10])"
      ]
     },
     "execution_count": 54,
     "metadata": {},
     "output_type": "execute_result"
    }
   ],
   "execution_count": 54
  },
  {
   "cell_type": "code",
   "metadata": {
    "ExecuteTime": {
     "end_time": "2024-06-23T19:30:48.655333Z",
     "start_time": "2024-06-23T19:30:48.642483Z"
    }
   },
   "source": [
    "calculate_metric(X_train=X_train_min_max, X_test=X_test_min_max, y_train=y_train, y_test=y_test, model=ridge)"
   ],
   "outputs": [
    {
     "name": "stdout",
     "output_type": "stream",
     "text": [
      "Значение метрики RMSLE на тесте : 0.5543492717965647\n",
      "Значение метрики RMSLE на трейне: 0.5544899453593646\n",
      "Улучшение метрики по сравнению с бейзлайонм: 0.04998945132915111\n"
     ]
    }
   ],
   "execution_count": 55
  },
  {
   "cell_type": "markdown",
   "metadata": {},
   "source": [
    "**Дз2:**\n",
    "    Нужно, используя уже известный код для обучения Ridge регрессии обучить Lasso регрессию, это делается с помощью lm.Lasso().Нужно будет обучить и посчитать получившееся качество."
   ]
  },
  {
   "cell_type": "code",
   "metadata": {
    "ExecuteTime": {
     "end_time": "2024-06-23T19:33:07.117043Z",
     "start_time": "2024-06-23T19:33:06.875553Z"
    }
   },
   "source": [
    "# Здесь можно вставить код для обучения линейной регрессии с регуляризацией лассо\n",
    "lasso = lm.Lasso(tol=1).fit(X=X_train_min_max, y=y_train)"
   ],
   "outputs": [],
   "execution_count": 60
  },
  {
   "cell_type": "code",
   "metadata": {
    "ExecuteTime": {
     "end_time": "2024-06-23T19:33:25.371285Z",
     "start_time": "2024-06-23T19:33:25.346197Z"
    }
   },
   "source": [
    "# Здесь можно вставить код с расчетом качества лассо\n",
    "calculate_metric(X_train=X_train_min_max, X_test=X_test_min_max, y_train=y_train, y_test=y_test, model=lasso)"
   ],
   "outputs": [
    {
     "name": "stdout",
     "output_type": "stream",
     "text": [
      "Значение метрики RMSLE на тесте : 0.5454117628208566\n",
      "Значение метрики RMSLE на трейне: 0.5418143263979622\n",
      "Улучшение метрики по сравнению с бейзлайонм: 0.05892696030485922\n"
     ]
    }
   ],
   "execution_count": 61
  },
  {
   "cell_type": "markdown",
   "metadata": {},
   "source": [
    "**Дз3:**\n",
    "    Нужно,используя обученную линейную регрессию Lasso ответить на вопрос - есть ли признаки, которые можно удалить. То есть те, перед которыми коэффициент равен нулю."
   ]
  },
  {
   "cell_type": "code",
   "metadata": {
    "ExecuteTime": {
     "end_time": "2024-06-23T19:38:32.613072Z",
     "start_time": "2024-06-23T19:38:32.605614Z"
    }
   },
   "source": [
    "#Здесь можно посмотреть коэффициенты линейной регрессии Лассо и ответить на вопрос - какую фичу можно удалить, ответом будет ее название\n",
    "lasso.coef_"
   ],
   "outputs": [
    {
     "data": {
      "text/plain": [
       "array([ 3.19174843e+08,  1.29213916e+08,  5.41938700e+06,  1.93986124e+05,\n",
       "        1.28586121e+06,  3.26462328e+06,  1.32336778e+07,  4.14186407e+06,\n",
       "        4.44000486e+06, -3.10335661e+08, -5.09392477e+06,  1.23003140e+05,\n",
       "       -1.30248028e+08, -7.91376041e+05,  0.00000000e+00,  6.93894878e+06,\n",
       "        8.24485304e+06, -5.54622254e+06, -1.77087530e+07,  2.38904150e+07,\n",
       "       -2.25344263e+06, -1.03887218e+06, -1.57912243e+05, -1.94557476e+05,\n",
       "       -4.63375460e+06, -0.00000000e+00, -0.00000000e+00,  3.96873244e+07,\n",
       "       -2.85320985e+07, -2.27705343e+07, -6.84600285e+06, -4.76543456e+04,\n",
       "        0.00000000e+00,  2.42872998e+07, -1.94175063e+07, -3.99022248e+06])"
      ]
     },
     "execution_count": 66,
     "metadata": {},
     "output_type": "execute_result"
    }
   ],
   "execution_count": 66
  },
  {
   "metadata": {},
   "cell_type": "markdown",
   "source": "Есть признаки с нулевым коэффициентом"
  },
  {
   "cell_type": "markdown",
   "metadata": {},
   "source": [
    "**Итог:** Наилучший результат удалось получить с помощью линейной регрессии, в которой не используется регуляризация. Также нам помогла генерация вспомогательных фичей - квадратов, кубов и 4-х степеней изначальных признаков."
   ]
  },
  {
   "cell_type": "code",
   "metadata": {},
   "source": [],
   "outputs": [],
   "execution_count": null
  }
 ],
 "metadata": {
  "kernelspec": {
   "display_name": "Python 3",
   "language": "python",
   "name": "python3"
  },
  "language_info": {
   "codemirror_mode": {
    "name": "ipython",
    "version": 3
   },
   "file_extension": ".py",
   "mimetype": "text/x-python",
   "name": "python",
   "nbconvert_exporter": "python",
   "pygments_lexer": "ipython3",
   "version": "3.7.4"
  }
 },
 "nbformat": 4,
 "nbformat_minor": 4
}
