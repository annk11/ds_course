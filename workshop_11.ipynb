{
 "cells": [
  {
   "cell_type": "markdown",
   "source": [
    "Напишите класс, который реализует эффективное хранилище для разреженных векторов и реализуйте операцию скалярного умножения."
   ],
   "metadata": {
    "collapsed": false
   }
  },
  {
   "cell_type": "code",
   "execution_count": 28,
   "outputs": [],
   "source": [
    "class SparseVector:\n",
    "    def __init__(self, elements_array, size):\n",
    "        self.elements = {}\n",
    "        self.size = size\n",
    "        for i, value in elements_array:\n",
    "            self.elements[i] = value\n",
    "\n",
    "    def __repr__(self):\n",
    "        return f'SparseVector(size={self.size}, elements={self.elements})'\n",
    "\n",
    "    def scalar(self, other):\n",
    "        scalar_product = 0\n",
    "        for i, value in self.elements.items():\n",
    "            if i in other.elements:\n",
    "                scalar_product += value * other.elements[i]\n",
    "        return scalar_product"
   ],
   "metadata": {
    "collapsed": false
   }
  },
  {
   "cell_type": "code",
   "execution_count": 29,
   "outputs": [
    {
     "name": "stdout",
     "output_type": "stream",
     "text": [
      "32\n"
     ]
    }
   ],
   "source": [
    "a = SparseVector([\n",
    "    (0, 1),\n",
    "    (1, 2),\n",
    "    (3, 3),\n",
    "], size=10000)\n",
    "\n",
    "b = SparseVector([\n",
    "    (0, 4),\n",
    "    (1, 5),\n",
    "    (3, 6),\n",
    "], size=10000)\n",
    "\n",
    "print(a.scalar(b))"
   ],
   "metadata": {
    "collapsed": false
   }
  },
  {
   "cell_type": "code",
   "execution_count": 33,
   "outputs": [
    {
     "name": "stdout",
     "output_type": "stream",
     "text": [
      "True\n"
     ]
    }
   ],
   "source": [
    "def are_characters_unique(string):\n",
    "\n",
    "    n = len(string)\n",
    "    for i in range(n):\n",
    "        for j in range(i + 1, n):\n",
    "            if string[i] == string[j]:\n",
    "                return False\n",
    "    return True\n",
    "\n",
    "s = 'kdjw'\n",
    "print(are_characters_unique(s))"
   ],
   "metadata": {
    "collapsed": false
   }
  },
  {
   "cell_type": "code",
   "execution_count": 37,
   "outputs": [
    {
     "name": "stdout",
     "output_type": "stream",
     "text": [
      "True\n"
     ]
    }
   ],
   "source": [
    "def is_pangram(s):\n",
    "    unique = []\n",
    "    n = len(s)\n",
    "    for i in range(n):\n",
    "        for j in range(i + 1, n):\n",
    "            if s[i] == s[j]:\n",
    "                return False\n",
    "    return True\n",
    "\n",
    "\n",
    "t = (\n",
    "    ('Съешь же ещё этих мягких французских булок да выпей чаю', True),\n",
    "    ('В чащах юга жил бы цитрус? Да, но фальшивый экземпляр!', False)\n",
    ")\n",
    "\n",
    "print(is_pangram(t))"
   ],
   "metadata": {
    "collapsed": false
   }
  }
 ],
 "metadata": {
  "kernelspec": {
   "display_name": "Python 3",
   "language": "python",
   "name": "python3"
  },
  "language_info": {
   "codemirror_mode": {
    "name": "ipython",
    "version": 2
   },
   "file_extension": ".py",
   "mimetype": "text/x-python",
   "name": "python",
   "nbconvert_exporter": "python",
   "pygments_lexer": "ipython2",
   "version": "2.7.6"
  }
 },
 "nbformat": 4,
 "nbformat_minor": 0
}
