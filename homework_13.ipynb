{
 "cells": [
  {
   "cell_type": "code",
   "execution_count": 9,
   "metadata": {
    "collapsed": true
   },
   "outputs": [],
   "source": [
    "class Pet:\n",
    "    def __init__(self, name, species, age, gender):\n",
    "        self._name = name\n",
    "        self._species = species\n",
    "        self._age = age\n",
    "        self._gender = gender\n",
    "\n",
    "    def get_info(self):\n",
    "        print('Name: ', self._name)\n",
    "        print('Species: ', self._species)\n",
    "        print('Age: ', self._age)\n",
    "        print('Gender: ', self._gender)\n",
    "\n",
    "class Dog(Pet):\n",
    "    def __init__(self, name, species, age, gender, breed):\n",
    "        super().__init__(name, species, age, gender)\n",
    "        self._breed = breed\n",
    "\n",
    "    def bark(self):\n",
    "        print('Woof!')\n",
    "\n",
    "class Cat(Pet):\n",
    "    def __init__(self, name, species, age, gender, color):\n",
    "        super().__init__(name, species, age, gender)\n",
    "        self._color = color\n",
    "\n",
    "    def meow(self):\n",
    "        print('Meow!')"
   ]
  },
  {
   "cell_type": "code",
   "execution_count": 10,
   "outputs": [],
   "source": [
    "cat = Cat('Simba', 'Cat', 1, 'Male', 'Orange')\n",
    "dog = Dog('Mila', 'Dog', 3, 'Female', 'Golden Retriever')"
   ],
   "metadata": {
    "collapsed": false
   }
  },
  {
   "cell_type": "code",
   "execution_count": 11,
   "outputs": [
    {
     "name": "stdout",
     "output_type": "stream",
     "text": [
      "Name:  Simba\n",
      "Species:  Cat\n",
      "Age:  1\n",
      "Gender:  Male\n",
      "Name:  Mila\n",
      "Species:  Dog\n",
      "Age:  3\n",
      "Gender:  Female\n"
     ]
    }
   ],
   "source": [
    "cat.get_info()\n",
    "dog.get_info()"
   ],
   "metadata": {
    "collapsed": false
   }
  },
  {
   "cell_type": "code",
   "execution_count": 12,
   "outputs": [
    {
     "name": "stdout",
     "output_type": "stream",
     "text": [
      "Meow!\n",
      "Woof!\n"
     ]
    }
   ],
   "source": [
    "cat.meow()\n",
    "dog.bark()"
   ],
   "metadata": {
    "collapsed": false
   }
  }
 ],
 "metadata": {
  "kernelspec": {
   "display_name": "Python 3",
   "language": "python",
   "name": "python3"
  },
  "language_info": {
   "codemirror_mode": {
    "name": "ipython",
    "version": 2
   },
   "file_extension": ".py",
   "mimetype": "text/x-python",
   "name": "python",
   "nbconvert_exporter": "python",
   "pygments_lexer": "ipython2",
   "version": "2.7.6"
  }
 },
 "nbformat": 4,
 "nbformat_minor": 0
}
