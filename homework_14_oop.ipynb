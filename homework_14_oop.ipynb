{
 "cells": [
  {
   "cell_type": "code",
   "execution_count": 1,
   "metadata": {
    "collapsed": true
   },
   "outputs": [],
   "source": [
    "class Player:\n",
    "    def __init__(self, health=4, x=0, y=0):\n",
    "        self.health = health\n",
    "        self.position = (x, y)\n",
    "\n",
    "    def walk_left(self, distance):\n",
    "        self.position = (max(0, self.position[0] - distance), self.position[1])\n",
    "\n",
    "    def walk_right(self, distance):\n",
    "        self.position = (min(1000, self.position[0] + distance), self.position[1])\n",
    "\n",
    "    def jump(self, height):\n",
    "        self.position = (self.position[0], min(100, self.position[1] + height))\n",
    "\n",
    "    def __str__(self):\n",
    "        return f\"Health: {self.health}, Position: ({self.position[0]}, {self.position[1]})\""
   ]
  },
  {
   "cell_type": "code",
   "execution_count": 2,
   "outputs": [
    {
     "name": "stdout",
     "output_type": "stream",
     "text": [
      "Health: 4, Position: (50, 20)\n"
     ]
    }
   ],
   "source": [
    "player = Player()\n",
    "player.walk_right(100)\n",
    "player.walk_left(50)\n",
    "player.jump(20)\n",
    "print(player)"
   ],
   "metadata": {
    "collapsed": false
   }
  }
 ],
 "metadata": {
  "kernelspec": {
   "display_name": "Python 3",
   "language": "python",
   "name": "python3"
  },
  "language_info": {
   "codemirror_mode": {
    "name": "ipython",
    "version": 2
   },
   "file_extension": ".py",
   "mimetype": "text/x-python",
   "name": "python",
   "nbconvert_exporter": "python",
   "pygments_lexer": "ipython2",
   "version": "2.7.6"
  }
 },
 "nbformat": 4,
 "nbformat_minor": 0
}
