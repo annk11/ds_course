{
 "cells": [
  {
   "cell_type": "markdown",
   "id": "590ec56e",
   "metadata": {},
   "source": [
    "## Статистические критерии с помощью Python\n",
    "\n",
    "\n",
    "Мы будем использовать набор данных, собранный `Gapminder Foundation` \n",
    "\n",
    "https://github.com/VasilisaS/product_star_mentoring/blob/main/gapminder.csv\n",
    "\n",
    "Для работы с ними их можно скачать по ссылке выше в папку6 где лежит ваш Python-ноутбук\n",
    "\n",
    "Набор данных `Gapminder` содержит набор переменных, используемых для оценки общего \n",
    "состояния здоровья и благополучия населения в странах по всему миру. "
   ]
  },
  {
   "cell_type": "code",
   "execution_count": 1,
   "id": "51832716",
   "metadata": {},
   "outputs": [
    {
     "data": {
      "text/plain": "       country   incomeperperson alcconsumption armedforcesrate  \\\n0  Afghanistan                              .03        .5696534   \n1      Albania  1914.99655094922           7.29       1.0247361   \n2      Algeria  2231.99333515006            .69        2.306817   \n3      Andorra  21943.3398976022          10.17                   \n4       Angola  1381.00426770244           5.57       1.4613288   \n\n  breastcancerper100th      co2emissions  femaleemployrate hivrate  \\\n0                 26.8          75944000  25.6000003814697           \n1                 57.4  223747333.333333  42.0999984741211           \n2                 23.5  2932108666.66667  31.7000007629394      .1   \n3                                                                    \n4                 23.1         248358000  69.4000015258789       2   \n\n    internetuserate lifeexpectancy     oilperperson polityscore  \\\n0  3.65412162280064         48.673                            0   \n1  44.9899469578783         76.918                            9   \n2  12.5000733055148         73.131  .42009452521537           2   \n3                81                                               \n4  9.99995388324075         51.093                           -2   \n\n  relectricperperson   suicideper100th        employrate urbanrate  \n0                     6.68438529968262  55.7000007629394     24.04  \n1   636.341383366604  7.69932985305786  51.4000015258789     46.72  \n2   590.509814347428   4.8487696647644              50.5     65.22  \n3                     5.36217880249023                       88.92  \n4   172.999227388199  14.5546770095825  75.6999969482422      56.7  ",
      "text/html": "<div>\n<style scoped>\n    .dataframe tbody tr th:only-of-type {\n        vertical-align: middle;\n    }\n\n    .dataframe tbody tr th {\n        vertical-align: top;\n    }\n\n    .dataframe thead th {\n        text-align: right;\n    }\n</style>\n<table border=\"1\" class=\"dataframe\">\n  <thead>\n    <tr style=\"text-align: right;\">\n      <th></th>\n      <th>country</th>\n      <th>incomeperperson</th>\n      <th>alcconsumption</th>\n      <th>armedforcesrate</th>\n      <th>breastcancerper100th</th>\n      <th>co2emissions</th>\n      <th>femaleemployrate</th>\n      <th>hivrate</th>\n      <th>internetuserate</th>\n      <th>lifeexpectancy</th>\n      <th>oilperperson</th>\n      <th>polityscore</th>\n      <th>relectricperperson</th>\n      <th>suicideper100th</th>\n      <th>employrate</th>\n      <th>urbanrate</th>\n    </tr>\n  </thead>\n  <tbody>\n    <tr>\n      <th>0</th>\n      <td>Afghanistan</td>\n      <td></td>\n      <td>.03</td>\n      <td>.5696534</td>\n      <td>26.8</td>\n      <td>75944000</td>\n      <td>25.6000003814697</td>\n      <td></td>\n      <td>3.65412162280064</td>\n      <td>48.673</td>\n      <td></td>\n      <td>0</td>\n      <td></td>\n      <td>6.68438529968262</td>\n      <td>55.7000007629394</td>\n      <td>24.04</td>\n    </tr>\n    <tr>\n      <th>1</th>\n      <td>Albania</td>\n      <td>1914.99655094922</td>\n      <td>7.29</td>\n      <td>1.0247361</td>\n      <td>57.4</td>\n      <td>223747333.333333</td>\n      <td>42.0999984741211</td>\n      <td></td>\n      <td>44.9899469578783</td>\n      <td>76.918</td>\n      <td></td>\n      <td>9</td>\n      <td>636.341383366604</td>\n      <td>7.69932985305786</td>\n      <td>51.4000015258789</td>\n      <td>46.72</td>\n    </tr>\n    <tr>\n      <th>2</th>\n      <td>Algeria</td>\n      <td>2231.99333515006</td>\n      <td>.69</td>\n      <td>2.306817</td>\n      <td>23.5</td>\n      <td>2932108666.66667</td>\n      <td>31.7000007629394</td>\n      <td>.1</td>\n      <td>12.5000733055148</td>\n      <td>73.131</td>\n      <td>.42009452521537</td>\n      <td>2</td>\n      <td>590.509814347428</td>\n      <td>4.8487696647644</td>\n      <td>50.5</td>\n      <td>65.22</td>\n    </tr>\n    <tr>\n      <th>3</th>\n      <td>Andorra</td>\n      <td>21943.3398976022</td>\n      <td>10.17</td>\n      <td></td>\n      <td></td>\n      <td></td>\n      <td></td>\n      <td></td>\n      <td>81</td>\n      <td></td>\n      <td></td>\n      <td></td>\n      <td></td>\n      <td>5.36217880249023</td>\n      <td></td>\n      <td>88.92</td>\n    </tr>\n    <tr>\n      <th>4</th>\n      <td>Angola</td>\n      <td>1381.00426770244</td>\n      <td>5.57</td>\n      <td>1.4613288</td>\n      <td>23.1</td>\n      <td>248358000</td>\n      <td>69.4000015258789</td>\n      <td>2</td>\n      <td>9.99995388324075</td>\n      <td>51.093</td>\n      <td></td>\n      <td>-2</td>\n      <td>172.999227388199</td>\n      <td>14.5546770095825</td>\n      <td>75.6999969482422</td>\n      <td>56.7</td>\n    </tr>\n  </tbody>\n</table>\n</div>"
     },
     "execution_count": 1,
     "metadata": {},
     "output_type": "execute_result"
    }
   ],
   "source": [
    "# импорт необходимых модулей\n",
    "\n",
    "import statsmodels.formula.api as smf\n",
    "import statsmodels.stats.multicomp as multi\n",
    "import scipy\n",
    "from scipy.stats import pearsonr\n",
    "import pandas as pd\n",
    "from seaborn import regplot\n",
    "import matplotlib.pyplot as plt\n",
    "import numpy as np\n",
    "import seaborn as sns\n",
    "\n",
    "# чтение данных\n",
    "df = pd.read_csv(\"gapminder.csv\") \n",
    "df.head()"
   ]
  },
  {
   "cell_type": "code",
   "execution_count": 2,
   "id": "384876da",
   "metadata": {},
   "outputs": [],
   "source": [
    "# создадим несколько дополнительных функций для обработки пропущенных значений\n",
    "\n",
    "# функция проверяет пропущенные значения\n",
    "def check_missing_values(df, cols): \n",
    "    for col in cols: \n",
    "        print(\"Column {} is missing:\".format(col)) \n",
    "        print((df[col].values == ' ').sum()) \n",
    "        print() \n",
    "        \n",
    "# функция ковертирует значения в числовые\n",
    "def convert_numeric(dataframe, cols): \n",
    "    for col in cols: \n",
    "        dataframe[col] = pd.to_numeric(dataframe[col], \n",
    "                                       errors='coerce') "
   ]
  },
  {
   "cell_type": "code",
   "execution_count": 3,
   "id": "16eb16b6",
   "metadata": {},
   "outputs": [
    {
     "name": "stdout",
     "output_type": "stream",
     "text": [
      "Есть ли пропущенные значения?  False\n",
      "\n",
      "Column lifeexpectancy is missing:\n",
      "22\n",
      "\n",
      "Column breastcancerper100th is missing:\n",
      "40\n",
      "\n",
      "Column suicideper100th is missing:\n",
      "22\n",
      "\n",
      "Column internetuserate is missing:\n",
      "21\n",
      "\n",
      "Column employrate is missing:\n",
      "35\n",
      "\n"
     ]
    }
   ],
   "source": [
    "print(\"Есть ли пропущенные значения? \", df.isnull().values.any())\n",
    "print()\n",
    "\n",
    "cols = ['lifeexpectancy', 'breastcancerper100th', 'suicideper100th',\n",
    "        'internetuserate', 'employrate']\n",
    "\n",
    "df2 = df.copy()\n",
    "\n",
    "check_missing_values(df, cols)\n",
    "\n",
    "convert_numeric(df2, cols)"
   ]
  },
  {
   "cell_type": "code",
   "execution_count": null,
   "id": "048ce870",
   "metadata": {},
   "outputs": [],
   "source": []
  },
  {
   "cell_type": "markdown",
   "id": "73a843bc",
   "metadata": {},
   "source": [
    "### Проанализируем взаимосвязь между:\n",
    "\n",
    "    уровнем использования Интернета (internetuserate) и уровнем занятости населения (employrate) \n",
    "\n",
    "\n",
    "Сделаем графики для отношения уровня `использования Интернета (internetuserate)` и уровня `занятости населения (employrate) ` с помощью **Seaborn** и **Matplotlib**."
   ]
  },
  {
   "cell_type": "code",
   "execution_count": 7,
   "id": "fb4b3b76",
   "metadata": {},
   "outputs": [
    {
     "data": {
      "text/plain": "<Figure size 500x500 with 1 Axes>",
      "image/png": "[encoded data removed]"
     },
     "metadata": {},
     "output_type": "display_data"
    }
   ],
   "source": [
    "sns.lmplot(x= \"internetuserate\",\n",
    "           y= \"employrate\",\n",
    "           data=df2, \n",
    "           fit_reg=False)\n",
    "plt.title(\"Уровень исп-ния Интернета и уровень Занятости населения\")\n",
    "plt.show()"
   ]
  },
  {
   "cell_type": "markdown",
   "id": "70fd53f3",
   "metadata": {},
   "source": [
    "График несколько напоминает __......__ (укажите функцию, на которую больше похоже текущее распределение)\n",
    "\n",
    "----\n",
    "\n",
    "## Формулируем гипотезы\n",
    "\n",
    "**Нулевая гипотеза** – это гипотеза об отсутствии различий. В данном случае - об отсутсвии взаимосвязи между уровнем использования интернета и уровнем занятости населения.\n",
    "\n",
    "Это то, что мы хотим опровергнуть. Обозначается как **Но**.\n",
    "\n",
    "\n",
    "Cоответственно, **альтернативная гипотеза H1** в том, что взаимосвязь между уровнем использования интернета и продолжительностью жизни существует \n",
    "\n",
    "----\n",
    "\n",
    "## Выбор критерия\n",
    "\n",
    "Проверим гипотезы с помощью критерия __Хи-квадрат__\n",
    "\n",
    "Критерий независимости Хи-квадрат - это непараметрический стат  критерий, используемый для анализа, насколько значима связь между двумя __категориальными__ переменными.\n",
    "\n",
    "----"
   ]
  },
  {
   "cell_type": "markdown",
   "id": "adeedbf5",
   "metadata": {},
   "source": [
    "## Обработка данных\n",
    "\n",
    "Для проверки гипотоез нас интересуют данные двух столбцов `\"internetuserate\"` и `\"employrate\"`. Они представляют собой вещественные переменные.\n",
    "\n",
    "Для использования Хи-квадрат критерия нам нужно сделать обе переменные __категориальными__. \n",
    "\n",
    "Для этого разделим данные из обоих столбцов по __корзинкам__ так, что в кажду корзинку попадает одинаковое число объектов. Особенность разбиения в том, что данные упорядочены, и в каждую корзинку попадают достаточно близкие по значениям объекты"
   ]
  },
  {
   "cell_type": "code",
   "execution_count": 9,
   "id": "967c5571",
   "metadata": {},
   "outputs": [],
   "source": [
    "# функция для разбиения данных на 10 корзинок\n",
    "\n",
    "def bin(dataframe, cols):\n",
    "    for col in cols:\n",
    "        new_col_name = \"{}_bins\".format(col)\n",
    "        dataframe[new_col_name] = pd.qcut(dataframe[col], \n",
    "                                          10, \n",
    "                                          labels=[\"1=10%\", \"2=20%\", \"3=30%\", \"4=40%\", \n",
    "                                                  \"5=50%\", \"6=60%\", \"7=70%\", \"8=80%\", \n",
    "                                                  \"9=90%\", \"10=100%\"])\n",
    "        \n",
    "# создаем копию датасета и делаем все изменения в копии\n",
    "df3 = df2.copy()\n",
    "\n",
    "# применяем функцию разбиения данных на 10 частей \n",
    "# для столбца Уровня занятости employrate\n",
    "column = [\"employrate\"]  # УКАЖИТЕ название нужного столбца в квадратных скобках\n",
    "bin(df3, column)"
   ]
  },
  {
   "cell_type": "code",
   "execution_count": 10,
   "id": "8d5dc051",
   "metadata": {},
   "outputs": [
    {
     "data": {
      "text/plain": "       country   incomeperperson alcconsumption armedforcesrate  \\\n0  Afghanistan                              .03        .5696534   \n1      Albania  1914.99655094922           7.29       1.0247361   \n2      Algeria  2231.99333515006            .69        2.306817   \n3      Andorra  21943.3398976022          10.17                   \n4       Angola  1381.00426770244           5.57       1.4613288   \n\n   breastcancerper100th      co2emissions  femaleemployrate hivrate  \\\n0                  26.8          75944000  25.6000003814697           \n1                  57.4  223747333.333333  42.0999984741211           \n2                  23.5  2932108666.66667  31.7000007629394      .1   \n3                   NaN                                               \n4                  23.1         248358000  69.4000015258789       2   \n\n   internetuserate  lifeexpectancy     oilperperson polityscore  \\\n0         3.654122          48.673                            0   \n1        44.989947          76.918                            9   \n2        12.500073          73.131  .42009452521537           2   \n3        81.000000             NaN                                \n4         9.999954          51.093                           -2   \n\n  relectricperperson  suicideper100th  employrate urbanrate employrate_bins  \n0                            6.684385   55.700001     24.04           4=40%  \n1   636.341383366604         7.699330   51.400002     46.72           3=30%  \n2   590.509814347428         4.848770   50.500000     65.22           3=30%  \n3                            5.362179         NaN     88.92             NaN  \n4   172.999227388199        14.554677   75.699997      56.7         10=100%  ",
      "text/html": "<div>\n<style scoped>\n    .dataframe tbody tr th:only-of-type {\n        vertical-align: middle;\n    }\n\n    .dataframe tbody tr th {\n        vertical-align: top;\n    }\n\n    .dataframe thead th {\n        text-align: right;\n    }\n</style>\n<table border=\"1\" class=\"dataframe\">\n  <thead>\n    <tr style=\"text-align: right;\">\n      <th></th>\n      <th>country</th>\n      <th>incomeperperson</th>\n      <th>alcconsumption</th>\n      <th>armedforcesrate</th>\n      <th>breastcancerper100th</th>\n      <th>co2emissions</th>\n      <th>femaleemployrate</th>\n      <th>hivrate</th>\n      <th>internetuserate</th>\n      <th>lifeexpectancy</th>\n      <th>oilperperson</th>\n      <th>polityscore</th>\n      <th>relectricperperson</th>\n      <th>suicideper100th</th>\n      <th>employrate</th>\n      <th>urbanrate</th>\n      <th>employrate_bins</th>\n    </tr>\n  </thead>\n  <tbody>\n    <tr>\n      <th>0</th>\n      <td>Afghanistan</td>\n      <td></td>\n      <td>.03</td>\n      <td>.5696534</td>\n      <td>26.8</td>\n      <td>75944000</td>\n      <td>25.6000003814697</td>\n      <td></td>\n      <td>3.654122</td>\n      <td>48.673</td>\n      <td></td>\n      <td>0</td>\n      <td></td>\n      <td>6.684385</td>\n      <td>55.700001</td>\n      <td>24.04</td>\n      <td>4=40%</td>\n    </tr>\n    <tr>\n      <th>1</th>\n      <td>Albania</td>\n      <td>1914.99655094922</td>\n      <td>7.29</td>\n      <td>1.0247361</td>\n      <td>57.4</td>\n      <td>223747333.333333</td>\n      <td>42.0999984741211</td>\n      <td></td>\n      <td>44.989947</td>\n      <td>76.918</td>\n      <td></td>\n      <td>9</td>\n      <td>636.341383366604</td>\n      <td>7.699330</td>\n      <td>51.400002</td>\n      <td>46.72</td>\n      <td>3=30%</td>\n    </tr>\n    <tr>\n      <th>2</th>\n      <td>Algeria</td>\n      <td>2231.99333515006</td>\n      <td>.69</td>\n      <td>2.306817</td>\n      <td>23.5</td>\n      <td>2932108666.66667</td>\n      <td>31.7000007629394</td>\n      <td>.1</td>\n      <td>12.500073</td>\n      <td>73.131</td>\n      <td>.42009452521537</td>\n      <td>2</td>\n      <td>590.509814347428</td>\n      <td>4.848770</td>\n      <td>50.500000</td>\n      <td>65.22</td>\n      <td>3=30%</td>\n    </tr>\n    <tr>\n      <th>3</th>\n      <td>Andorra</td>\n      <td>21943.3398976022</td>\n      <td>10.17</td>\n      <td></td>\n      <td>NaN</td>\n      <td></td>\n      <td></td>\n      <td></td>\n      <td>81.000000</td>\n      <td>NaN</td>\n      <td></td>\n      <td></td>\n      <td></td>\n      <td>5.362179</td>\n      <td>NaN</td>\n      <td>88.92</td>\n      <td>NaN</td>\n    </tr>\n    <tr>\n      <th>4</th>\n      <td>Angola</td>\n      <td>1381.00426770244</td>\n      <td>5.57</td>\n      <td>1.4613288</td>\n      <td>23.1</td>\n      <td>248358000</td>\n      <td>69.4000015258789</td>\n      <td>2</td>\n      <td>9.999954</td>\n      <td>51.093</td>\n      <td></td>\n      <td>-2</td>\n      <td>172.999227388199</td>\n      <td>14.554677</td>\n      <td>75.699997</td>\n      <td>56.7</td>\n      <td>10=100%</td>\n    </tr>\n  </tbody>\n</table>\n</div>"
     },
     "execution_count": 10,
     "metadata": {},
     "output_type": "execute_result"
    }
   ],
   "source": [
    "# в результате - появился новый столбец в конце\n",
    "# с разбиением средней продолжительности жизни на 10 корзинок\n",
    "df3.head()"
   ]
  },
  {
   "cell_type": "code",
   "execution_count": 11,
   "id": "c532e4fc",
   "metadata": {},
   "outputs": [],
   "source": [
    "# функция для разбиения данных об уровне использования интерента\n",
    "# на 2 корзинки\n",
    "\n",
    "def half_bin(dataframe, cols):\n",
    "    for col in cols:\n",
    "        new_col_name = \"{}_bins_2\".format(col)\n",
    "        dataframe[new_col_name] = pd.qcut(dataframe[col], 2, labels=[\"1=50%\", \"2=100%\"])\n",
    "\n",
    "half_bin(df3, ['internetuserate'])"
   ]
  },
  {
   "cell_type": "code",
   "execution_count": 12,
   "id": "14dcf07d",
   "metadata": {},
   "outputs": [
    {
     "data": {
      "text/plain": "       country   incomeperperson alcconsumption armedforcesrate  \\\n0  Afghanistan                              .03        .5696534   \n1      Albania  1914.99655094922           7.29       1.0247361   \n2      Algeria  2231.99333515006            .69        2.306817   \n3      Andorra  21943.3398976022          10.17                   \n4       Angola  1381.00426770244           5.57       1.4613288   \n\n   breastcancerper100th      co2emissions  femaleemployrate hivrate  \\\n0                  26.8          75944000  25.6000003814697           \n1                  57.4  223747333.333333  42.0999984741211           \n2                  23.5  2932108666.66667  31.7000007629394      .1   \n3                   NaN                                               \n4                  23.1         248358000  69.4000015258789       2   \n\n   internetuserate  lifeexpectancy     oilperperson polityscore  \\\n0         3.654122          48.673                            0   \n1        44.989947          76.918                            9   \n2        12.500073          73.131  .42009452521537           2   \n3        81.000000             NaN                                \n4         9.999954          51.093                           -2   \n\n  relectricperperson  suicideper100th  employrate urbanrate employrate_bins  \\\n0                            6.684385   55.700001     24.04           4=40%   \n1   636.341383366604         7.699330   51.400002     46.72           3=30%   \n2   590.509814347428         4.848770   50.500000     65.22           3=30%   \n3                            5.362179         NaN     88.92             NaN   \n4   172.999227388199        14.554677   75.699997      56.7         10=100%   \n\n  internetuserate_bins_2  \n0                  1=50%  \n1                 2=100%  \n2                  1=50%  \n3                 2=100%  \n4                  1=50%  ",
      "text/html": "<div>\n<style scoped>\n    .dataframe tbody tr th:only-of-type {\n        vertical-align: middle;\n    }\n\n    .dataframe tbody tr th {\n        vertical-align: top;\n    }\n\n    .dataframe thead th {\n        text-align: right;\n    }\n</style>\n<table border=\"1\" class=\"dataframe\">\n  <thead>\n    <tr style=\"text-align: right;\">\n      <th></th>\n      <th>country</th>\n      <th>incomeperperson</th>\n      <th>alcconsumption</th>\n      <th>armedforcesrate</th>\n      <th>breastcancerper100th</th>\n      <th>co2emissions</th>\n      <th>femaleemployrate</th>\n      <th>hivrate</th>\n      <th>internetuserate</th>\n      <th>lifeexpectancy</th>\n      <th>oilperperson</th>\n      <th>polityscore</th>\n      <th>relectricperperson</th>\n      <th>suicideper100th</th>\n      <th>employrate</th>\n      <th>urbanrate</th>\n      <th>employrate_bins</th>\n      <th>internetuserate_bins_2</th>\n    </tr>\n  </thead>\n  <tbody>\n    <tr>\n      <th>0</th>\n      <td>Afghanistan</td>\n      <td></td>\n      <td>.03</td>\n      <td>.5696534</td>\n      <td>26.8</td>\n      <td>75944000</td>\n      <td>25.6000003814697</td>\n      <td></td>\n      <td>3.654122</td>\n      <td>48.673</td>\n      <td></td>\n      <td>0</td>\n      <td></td>\n      <td>6.684385</td>\n      <td>55.700001</td>\n      <td>24.04</td>\n      <td>4=40%</td>\n      <td>1=50%</td>\n    </tr>\n    <tr>\n      <th>1</th>\n      <td>Albania</td>\n      <td>1914.99655094922</td>\n      <td>7.29</td>\n      <td>1.0247361</td>\n      <td>57.4</td>\n      <td>223747333.333333</td>\n      <td>42.0999984741211</td>\n      <td></td>\n      <td>44.989947</td>\n      <td>76.918</td>\n      <td></td>\n      <td>9</td>\n      <td>636.341383366604</td>\n      <td>7.699330</td>\n      <td>51.400002</td>\n      <td>46.72</td>\n      <td>3=30%</td>\n      <td>2=100%</td>\n    </tr>\n    <tr>\n      <th>2</th>\n      <td>Algeria</td>\n      <td>2231.99333515006</td>\n      <td>.69</td>\n      <td>2.306817</td>\n      <td>23.5</td>\n      <td>2932108666.66667</td>\n      <td>31.7000007629394</td>\n      <td>.1</td>\n      <td>12.500073</td>\n      <td>73.131</td>\n      <td>.42009452521537</td>\n      <td>2</td>\n      <td>590.509814347428</td>\n      <td>4.848770</td>\n      <td>50.500000</td>\n      <td>65.22</td>\n      <td>3=30%</td>\n      <td>1=50%</td>\n    </tr>\n    <tr>\n      <th>3</th>\n      <td>Andorra</td>\n      <td>21943.3398976022</td>\n      <td>10.17</td>\n      <td></td>\n      <td>NaN</td>\n      <td></td>\n      <td></td>\n      <td></td>\n      <td>81.000000</td>\n      <td>NaN</td>\n      <td></td>\n      <td></td>\n      <td></td>\n      <td>5.362179</td>\n      <td>NaN</td>\n      <td>88.92</td>\n      <td>NaN</td>\n      <td>2=100%</td>\n    </tr>\n    <tr>\n      <th>4</th>\n      <td>Angola</td>\n      <td>1381.00426770244</td>\n      <td>5.57</td>\n      <td>1.4613288</td>\n      <td>23.1</td>\n      <td>248358000</td>\n      <td>69.4000015258789</td>\n      <td>2</td>\n      <td>9.999954</td>\n      <td>51.093</td>\n      <td></td>\n      <td>-2</td>\n      <td>172.999227388199</td>\n      <td>14.554677</td>\n      <td>75.699997</td>\n      <td>56.7</td>\n      <td>10=100%</td>\n      <td>1=50%</td>\n    </tr>\n  </tbody>\n</table>\n</div>"
     },
     "execution_count": 12,
     "metadata": {},
     "output_type": "execute_result"
    }
   ],
   "source": [
    "# в результате - появился еще один столбец в конце \n",
    "# с разбиением уровня пользования интернетом на 2 корзинки\n",
    "df3.head()"
   ]
  },
  {
   "cell_type": "code",
   "execution_count": null,
   "id": "783729e2",
   "metadata": {},
   "outputs": [],
   "source": []
  },
  {
   "cell_type": "markdown",
   "id": "68698550",
   "metadata": {},
   "source": [
    "Выполнение теста Хи-квадрат включает в себя сначала построение __таблицы сопряженности__. \n",
    "\n",
    "Таблица сопряженности показывает частоту объясняемой переменной для различных уровней объясняющей переменной."
   ]
  },
  {
   "cell_type": "code",
   "execution_count": 13,
   "id": "035316b1",
   "metadata": {},
   "outputs": [
    {
     "name": "stdout",
     "output_type": "stream",
     "text": [
      "employrate_bins         1=10%  2=20%  3=30%  4=40%  5=50%  6=60%  7=70%  \\\n",
      "internetuserate_bins_2                                                    \n",
      "1=50%                       6      7      5     11      9      8      6   \n",
      "2=100%                      9      9     14      3      9     10     11   \n",
      "\n",
      "employrate_bins         8=80%  9=90%  10=100%  \n",
      "internetuserate_bins_2                         \n",
      "1=50%                       8     14       14  \n",
      "2=100%                      7      4        3  \n"
     ]
    }
   ],
   "source": [
    "count_table = pd.crosstab(df3['internetuserate_bins_2'], \n",
    "                          df3['employrate_bins'])\n",
    "print(count_table)\n",
    "# каждая ячейка на персечении столбца и строки содержит \n",
    "# число объектов, попадающее в обе корзинки"
   ]
  },
  {
   "cell_type": "markdown",
   "id": "9023d77a",
   "metadata": {},
   "source": [
    "Теперь вычислим таблицы сопряженности для различных пар корзинок столбца `employrate`\n",
    "\n",
    "Сейчас у нас 10 корзинок, а нам нужно сделать сравнение лишь для 2 из них "
   ]
  },
  {
   "cell_type": "code",
   "execution_count": 14,
   "id": "4e07e593",
   "metadata": {},
   "outputs": [],
   "source": [
    "# Создадим словари для различных пар корзинок продолжительности жизни\n",
    "recode_1 = {\"3=30%\": \"3=30%\", \"7=70%\": \"7=70%\"}  # сравниваем корзинки 3 и 7\n",
    "recode_2 = {\"2=20%\": \"2=20%\", \"8=80%\": \"8=80%\"}  # сравниваем корзинки 2 и 8\n",
    "recode_3 = {\"6=60%\": \"6=60%\", \"9=90%\": \"9=90%\"}  # сравниваем корзинки 6 и 9\n",
    "recode_4 = {\"4=40%\": \"4=40%\", \"7=70%\": \"7=70%\"}  # сравниваем корзинки 4 и 7\n",
    "\n",
    "# Создадим столбцы, которые будут хранить только соответствующие категории\n",
    "# а остальные значения - убирать. \n",
    "    \n",
    "df3['Comp_3v7'] = df3['employrate_bins'].map(recode_1)\n",
    "df3['Comp_2v8'] = df3['employrate_bins'].map(recode_2)\n",
    "df3['Comp_6v9'] = df3['employrate_bins'].map(recode_3)\n",
    "df3['Comp_4v7'] = df3['employrate_bins'].map(recode_4)"
   ]
  },
  {
   "cell_type": "code",
   "execution_count": 15,
   "id": "03907e78",
   "metadata": {},
   "outputs": [
    {
     "data": {
      "text/plain": "       country   incomeperperson alcconsumption armedforcesrate  \\\n0  Afghanistan                              .03        .5696534   \n1      Albania  1914.99655094922           7.29       1.0247361   \n2      Algeria  2231.99333515006            .69        2.306817   \n3      Andorra  21943.3398976022          10.17                   \n4       Angola  1381.00426770244           5.57       1.4613288   \n\n   breastcancerper100th      co2emissions  femaleemployrate hivrate  \\\n0                  26.8          75944000  25.6000003814697           \n1                  57.4  223747333.333333  42.0999984741211           \n2                  23.5  2932108666.66667  31.7000007629394      .1   \n3                   NaN                                               \n4                  23.1         248358000  69.4000015258789       2   \n\n   internetuserate  lifeexpectancy  ... relectricperperson suicideper100th  \\\n0         3.654122          48.673  ...                           6.684385   \n1        44.989947          76.918  ...   636.341383366604        7.699330   \n2        12.500073          73.131  ...   590.509814347428        4.848770   \n3        81.000000             NaN  ...                           5.362179   \n4         9.999954          51.093  ...   172.999227388199       14.554677   \n\n  employrate  urbanrate  employrate_bins internetuserate_bins_2 Comp_3v7  \\\n0  55.700001      24.04            4=40%                  1=50%      NaN   \n1  51.400002      46.72            3=30%                 2=100%    3=30%   \n2  50.500000      65.22            3=30%                  1=50%    3=30%   \n3        NaN      88.92              NaN                 2=100%      NaN   \n4  75.699997       56.7          10=100%                  1=50%      NaN   \n\n  Comp_2v8 Comp_6v9 Comp_4v7  \n0      NaN      NaN    4=40%  \n1      NaN      NaN      NaN  \n2      NaN      NaN      NaN  \n3      NaN      NaN      NaN  \n4      NaN      NaN      NaN  \n\n[5 rows x 22 columns]",
      "text/html": "<div>\n<style scoped>\n    .dataframe tbody tr th:only-of-type {\n        vertical-align: middle;\n    }\n\n    .dataframe tbody tr th {\n        vertical-align: top;\n    }\n\n    .dataframe thead th {\n        text-align: right;\n    }\n</style>\n<table border=\"1\" class=\"dataframe\">\n  <thead>\n    <tr style=\"text-align: right;\">\n      <th></th>\n      <th>country</th>\n      <th>incomeperperson</th>\n      <th>alcconsumption</th>\n      <th>armedforcesrate</th>\n      <th>breastcancerper100th</th>\n      <th>co2emissions</th>\n      <th>femaleemployrate</th>\n      <th>hivrate</th>\n      <th>internetuserate</th>\n      <th>lifeexpectancy</th>\n      <th>...</th>\n      <th>relectricperperson</th>\n      <th>suicideper100th</th>\n      <th>employrate</th>\n      <th>urbanrate</th>\n      <th>employrate_bins</th>\n      <th>internetuserate_bins_2</th>\n      <th>Comp_3v7</th>\n      <th>Comp_2v8</th>\n      <th>Comp_6v9</th>\n      <th>Comp_4v7</th>\n    </tr>\n  </thead>\n  <tbody>\n    <tr>\n      <th>0</th>\n      <td>Afghanistan</td>\n      <td></td>\n      <td>.03</td>\n      <td>.5696534</td>\n      <td>26.8</td>\n      <td>75944000</td>\n      <td>25.6000003814697</td>\n      <td></td>\n      <td>3.654122</td>\n      <td>48.673</td>\n      <td>...</td>\n      <td></td>\n      <td>6.684385</td>\n      <td>55.700001</td>\n      <td>24.04</td>\n      <td>4=40%</td>\n      <td>1=50%</td>\n      <td>NaN</td>\n      <td>NaN</td>\n      <td>NaN</td>\n      <td>4=40%</td>\n    </tr>\n    <tr>\n      <th>1</th>\n      <td>Albania</td>\n      <td>1914.99655094922</td>\n      <td>7.29</td>\n      <td>1.0247361</td>\n      <td>57.4</td>\n      <td>223747333.333333</td>\n      <td>42.0999984741211</td>\n      <td></td>\n      <td>44.989947</td>\n      <td>76.918</td>\n      <td>...</td>\n      <td>636.341383366604</td>\n      <td>7.699330</td>\n      <td>51.400002</td>\n      <td>46.72</td>\n      <td>3=30%</td>\n      <td>2=100%</td>\n      <td>3=30%</td>\n      <td>NaN</td>\n      <td>NaN</td>\n      <td>NaN</td>\n    </tr>\n    <tr>\n      <th>2</th>\n      <td>Algeria</td>\n      <td>2231.99333515006</td>\n      <td>.69</td>\n      <td>2.306817</td>\n      <td>23.5</td>\n      <td>2932108666.66667</td>\n      <td>31.7000007629394</td>\n      <td>.1</td>\n      <td>12.500073</td>\n      <td>73.131</td>\n      <td>...</td>\n      <td>590.509814347428</td>\n      <td>4.848770</td>\n      <td>50.500000</td>\n      <td>65.22</td>\n      <td>3=30%</td>\n      <td>1=50%</td>\n      <td>3=30%</td>\n      <td>NaN</td>\n      <td>NaN</td>\n      <td>NaN</td>\n    </tr>\n    <tr>\n      <th>3</th>\n      <td>Andorra</td>\n      <td>21943.3398976022</td>\n      <td>10.17</td>\n      <td></td>\n      <td>NaN</td>\n      <td></td>\n      <td></td>\n      <td></td>\n      <td>81.000000</td>\n      <td>NaN</td>\n      <td>...</td>\n      <td></td>\n      <td>5.362179</td>\n      <td>NaN</td>\n      <td>88.92</td>\n      <td>NaN</td>\n      <td>2=100%</td>\n      <td>NaN</td>\n      <td>NaN</td>\n      <td>NaN</td>\n      <td>NaN</td>\n    </tr>\n    <tr>\n      <th>4</th>\n      <td>Angola</td>\n      <td>1381.00426770244</td>\n      <td>5.57</td>\n      <td>1.4613288</td>\n      <td>23.1</td>\n      <td>248358000</td>\n      <td>69.4000015258789</td>\n      <td>2</td>\n      <td>9.999954</td>\n      <td>51.093</td>\n      <td>...</td>\n      <td>172.999227388199</td>\n      <td>14.554677</td>\n      <td>75.699997</td>\n      <td>56.7</td>\n      <td>10=100%</td>\n      <td>1=50%</td>\n      <td>NaN</td>\n      <td>NaN</td>\n      <td>NaN</td>\n      <td>NaN</td>\n    </tr>\n  </tbody>\n</table>\n<p>5 rows × 22 columns</p>\n</div>"
     },
     "execution_count": 15,
     "metadata": {},
     "output_type": "execute_result"
    }
   ],
   "source": [
    "# проверьте, что в конце таблицы у вас появились новые три столбца\n",
    "# 'Comp_3v7', 'Comp_2v8' и 'Comp_6v9'\n",
    "df3.head()"
   ]
  },
  {
   "cell_type": "code",
   "execution_count": 16,
   "id": "d4c2367f",
   "metadata": {},
   "outputs": [
    {
     "name": "stdout",
     "output_type": "stream",
     "text": [
      "Таблица сопряженности для корзинок 3 и 7\n",
      "Comp_3v7                3=30%  7=70%\n",
      "internetuserate_bins_2              \n",
      "1=50%                       5      6\n",
      "2=100%                     14     11\n",
      "Таблица сопряженности для корзинок 2 и 8\n",
      "Comp_2v8                2=20%  8=80%\n",
      "internetuserate_bins_2              \n",
      "1=50%                       7      8\n",
      "2=100%                      9      7\n",
      "Таблица сопряженности для корзинок 6 и 9\n",
      "Comp_6v9                6=60%  9=90%\n",
      "internetuserate_bins_2              \n",
      "1=50%                       8     14\n",
      "2=100%                     10      4\n",
      "Таблица сопряженности для корзинок 4 и 7\n",
      "Comp_4v7                4=40%  7=70%\n",
      "internetuserate_bins_2              \n",
      "1=50%                      11      6\n",
      "2=100%                      3     11\n"
     ]
    }
   ],
   "source": [
    "# составим таблицы сопряженности на основе нужных столбцов\n",
    "\n",
    "count_table_3_7 = pd.crosstab(df3['internetuserate_bins_2'], \n",
    "                            df3['Comp_3v7']\n",
    "                           )\n",
    "count_table_2_8 = pd.crosstab(df3['internetuserate_bins_2'], \n",
    "                            df3['Comp_2v8']\n",
    "                           )    \n",
    "count_table_6_9 = pd.crosstab(df3['internetuserate_bins_2'], \n",
    "                            df3['Comp_6v9']\n",
    "                           )                                \n",
    "count_table_4_7 = pd.crosstab(df3['internetuserate_bins_2'], \n",
    "                            df3['Comp_4v7']\n",
    "                           )\n",
    "                                \n",
    "                                \n",
    "# выведем информацию, которая содержится в таблицах сопряженности\n",
    "                                \n",
    "print('Таблица сопряженности для корзинок 3 и 7')\n",
    "print(str(count_table_3_7))\n",
    "                                \n",
    "print('Таблица сопряженности для корзинок 2 и 8')\n",
    "print(str(count_table_2_8))\n",
    "                                \n",
    "print('Таблица сопряженности для корзинок 6 и 9')\n",
    "print(str(count_table_6_9))\n",
    "                                                                                    \n",
    "print('Таблица сопряженности для корзинок 4 и 7')\n",
    "print(str(count_table_4_7))"
   ]
  },
  {
   "cell_type": "markdown",
   "id": "027c536d",
   "metadata": {},
   "source": [
    "Для такой таблицы сопряженности применим критерий __хи-квадрат__ на связь между уровнем использования интернета и уровнем занятости населения для этих двух групп.\n",
    "\n",
    "Или точнее - то между уровнем пользования интренетом и занятости на уровне __20-30%__ и __60-70%__ \n",
    "\n",
    "(если говорить про первую пару корзинок 3 и 7)"
   ]
  },
  {
   "cell_type": "code",
   "execution_count": 17,
   "id": "55e133a9",
   "metadata": {},
   "outputs": [],
   "source": [
    "# создадим функцию, которая будет возвращать \n",
    "# значение критерия хи-квадрат\n",
    "\n",
    "def chi_sq_test(table):\n",
    "\n",
    "    print(\"Рассматривает такую таблицу сопряженности:\\n\")\n",
    "\n",
    "    # Вместо количества объектов в ячейках\n",
    "    # вычислим долю объектов в этой группе среди остальных\n",
    "    col_sum = table.sum(axis=0)\n",
    "    col_percents = table/col_sum\n",
    "    print(col_percents)\n",
    "    print()\n",
    "    \n",
    "    chi_square, p, a, b = scipy.stats.chi2_contingency(table)\n",
    "    print('P_value = ', p)\n",
    "    \n",
    "    if p > 0.05:\n",
    "        print('Не отвергаем Ho, cтатистически значимых отличий нет')\n",
    "    else:\n",
    "        print('Не принимаем Ho, cтатистически значимые отличия есть')\n",
    "\n",
    "    "
   ]
  },
  {
   "cell_type": "code",
   "execution_count": 18,
   "id": "3a14c1d3",
   "metadata": {},
   "outputs": [
    {
     "name": "stdout",
     "output_type": "stream",
     "text": [
      "Рассматривает такую таблицу сопряженности:\n",
      "\n",
      "Comp_3v7                   3=30%     7=70%\n",
      "internetuserate_bins_2                    \n",
      "1=50%                   0.263158  0.352941\n",
      "2=100%                  0.736842  0.647059\n",
      "\n",
      "P_value =  0.8247418090950073\n",
      "Не отвергаем Ho, cтатистически значимых отличий нет\n"
     ]
    }
   ],
   "source": [
    "# сравним группы 3 и 7\n",
    "chi_sq_test(count_table_3_7)"
   ]
  },
  {
   "cell_type": "code",
   "execution_count": 19,
   "id": "af0ee368",
   "metadata": {},
   "outputs": [
    {
     "name": "stdout",
     "output_type": "stream",
     "text": [
      "Рассматривает такую таблицу сопряженности:\n",
      "\n",
      "Comp_2v8                 2=20%     8=80%\n",
      "internetuserate_bins_2                  \n",
      "1=50%                   0.4375  0.533333\n",
      "2=100%                  0.5625  0.466667\n",
      "\n",
      "P_value =  0.8618712493148953\n",
      "Не отвергаем Ho, cтатистически значимых отличий нет\n"
     ]
    }
   ],
   "source": [
    "# сравним группы 2 и 8\n",
    "chi_sq_test(count_table_2_8)"
   ]
  },
  {
   "cell_type": "code",
   "execution_count": 20,
   "id": "c3df3572",
   "metadata": {},
   "outputs": [
    {
     "name": "stdout",
     "output_type": "stream",
     "text": [
      "Рассматривает такую таблицу сопряженности:\n",
      "\n",
      "Comp_6v9                   6=60%     9=90%\n",
      "internetuserate_bins_2                    \n",
      "1=50%                   0.444444  0.777778\n",
      "2=100%                  0.555556  0.222222\n",
      "\n",
      "P_value =  0.0873752803407674\n",
      "Не отвергаем Ho, cтатистически значимых отличий нет\n"
     ]
    }
   ],
   "source": [
    "# сравним группы 6 и 9\n",
    "chi_sq_test(count_table_6_9)"
   ]
  },
  {
   "cell_type": "code",
   "execution_count": 21,
   "id": "3de8c7eb",
   "metadata": {},
   "outputs": [
    {
     "name": "stdout",
     "output_type": "stream",
     "text": [
      "Рассматривает такую таблицу сопряженности:\n",
      "\n",
      "Comp_4v7                   4=40%     7=70%\n",
      "internetuserate_bins_2                    \n",
      "1=50%                   0.785714  0.352941\n",
      "2=100%                  0.214286  0.647059\n",
      "\n",
      "P_value =  0.04066081494394274\n",
      "Не принимаем Ho, cтатистически значимые отличия есть\n"
     ]
    }
   ],
   "source": [
    "# сравним группы 4 и 7\n",
    "chi_sq_test(count_table_4_7)"
   ]
  }
 ],
 "metadata": {
  "kernelspec": {
   "display_name": "Python 3 (ipykernel)",
   "language": "python",
   "name": "python3"
  },
  "language_info": {
   "codemirror_mode": {
    "name": "ipython",
    "version": 3
   },
   "file_extension": ".py",
   "mimetype": "text/x-python",
   "name": "python",
   "nbconvert_exporter": "python",
   "pygments_lexer": "ipython3",
   "version": "3.9.13"
  }
 },
 "nbformat": 4,
 "nbformat_minor": 5
}
