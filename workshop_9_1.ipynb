{
 "cells": [
  {
   "cell_type": "markdown",
   "source": [
    "Pixabay API"
   ],
   "metadata": {
    "collapsed": false
   }
  },
  {
   "cell_type": "code",
   "execution_count": 78,
   "outputs": [],
   "source": [
    "import gprint as gprint\n",
    "\n",
    "# Сохраняем api_key для pixabay.com\n",
    "API_KEY = '42679925-f670a79efe1385f7159cdeddc'"
   ],
   "metadata": {
    "collapsed": false
   }
  },
  {
   "cell_type": "code",
   "execution_count": 79,
   "outputs": [
    {
     "name": "stdout",
     "output_type": "stream",
     "text": [
      "https://pixabay.com/api/?key=42679925-f670a79efe1385f7159cdeddc&q=kitten&image_type=photo\n"
     ]
    }
   ],
   "source": [
    "# Запишем в переменную поисковый запрос для изображения\n",
    "image_to_find = 'kitten'\n",
    "\n",
    "# Формируем url, по которому обратимся для получения списка изображений по нашему запросу\n",
    "url = f'https://pixabay.com/api/?key={API_KEY}&q={image_to_find}&image_type=photo'\n",
    "print(url)"
   ],
   "metadata": {
    "collapsed": false
   }
  },
  {
   "cell_type": "code",
   "execution_count": 80,
   "outputs": [
    {
     "name": "stdout",
     "output_type": "stream",
     "text": [
      "<urllib.request.Request object at 0x00000226B5A7C310>\n"
     ]
    }
   ],
   "source": [
    "# Используем библиотеку urllib\n",
    "import urllib.request\n",
    "\n",
    "req = urllib.request.Request(url, headers={'User-Agent': 'Mozilla/5.0 (Windows NT 10.0; Win64; x64) AppleWebKit/537.36 (KHTML, like Gecko) Chrome/122.0.0.0 Safari/537.36'})\n",
    "print(req)"
   ],
   "metadata": {
    "collapsed": false
   }
  },
  {
   "cell_type": "code",
   "execution_count": 81,
   "outputs": [
    {
     "ename": "URLError",
     "evalue": "<urlopen error [WinError 10054] Удаленный хост принудительно разорвал существующее подключение>",
     "output_type": "error",
     "traceback": [
      "\u001B[1;31m---------------------------------------------------------------------------\u001B[0m",
      "\u001B[1;31mConnectionResetError\u001B[0m                      Traceback (most recent call last)",
      "File \u001B[1;32m~\\AppData\\Local\\Programs\\Python\\Python311\\Lib\\urllib\\request.py:1348\u001B[0m, in \u001B[0;36mAbstractHTTPHandler.do_open\u001B[1;34m(self, http_class, req, **http_conn_args)\u001B[0m\n\u001B[0;32m   1347\u001B[0m \u001B[38;5;28;01mtry\u001B[39;00m:\n\u001B[1;32m-> 1348\u001B[0m     \u001B[43mh\u001B[49m\u001B[38;5;241;43m.\u001B[39;49m\u001B[43mrequest\u001B[49m\u001B[43m(\u001B[49m\u001B[43mreq\u001B[49m\u001B[38;5;241;43m.\u001B[39;49m\u001B[43mget_method\u001B[49m\u001B[43m(\u001B[49m\u001B[43m)\u001B[49m\u001B[43m,\u001B[49m\u001B[43m \u001B[49m\u001B[43mreq\u001B[49m\u001B[38;5;241;43m.\u001B[39;49m\u001B[43mselector\u001B[49m\u001B[43m,\u001B[49m\u001B[43m \u001B[49m\u001B[43mreq\u001B[49m\u001B[38;5;241;43m.\u001B[39;49m\u001B[43mdata\u001B[49m\u001B[43m,\u001B[49m\u001B[43m \u001B[49m\u001B[43mheaders\u001B[49m\u001B[43m,\u001B[49m\n\u001B[0;32m   1349\u001B[0m \u001B[43m              \u001B[49m\u001B[43mencode_chunked\u001B[49m\u001B[38;5;241;43m=\u001B[39;49m\u001B[43mreq\u001B[49m\u001B[38;5;241;43m.\u001B[39;49m\u001B[43mhas_header\u001B[49m\u001B[43m(\u001B[49m\u001B[38;5;124;43m'\u001B[39;49m\u001B[38;5;124;43mTransfer-encoding\u001B[39;49m\u001B[38;5;124;43m'\u001B[39;49m\u001B[43m)\u001B[49m\u001B[43m)\u001B[49m\n\u001B[0;32m   1350\u001B[0m \u001B[38;5;28;01mexcept\u001B[39;00m \u001B[38;5;167;01mOSError\u001B[39;00m \u001B[38;5;28;01mas\u001B[39;00m err: \u001B[38;5;66;03m# timeout error\u001B[39;00m\n",
      "File \u001B[1;32m~\\AppData\\Local\\Programs\\Python\\Python311\\Lib\\http\\client.py:1298\u001B[0m, in \u001B[0;36mHTTPConnection.request\u001B[1;34m(self, method, url, body, headers, encode_chunked)\u001B[0m\n\u001B[0;32m   1297\u001B[0m \u001B[38;5;250m\u001B[39m\u001B[38;5;124;03m\"\"\"Send a complete request to the server.\"\"\"\u001B[39;00m\n\u001B[1;32m-> 1298\u001B[0m \u001B[38;5;28;43mself\u001B[39;49m\u001B[38;5;241;43m.\u001B[39;49m\u001B[43m_send_request\u001B[49m\u001B[43m(\u001B[49m\u001B[43mmethod\u001B[49m\u001B[43m,\u001B[49m\u001B[43m \u001B[49m\u001B[43murl\u001B[49m\u001B[43m,\u001B[49m\u001B[43m \u001B[49m\u001B[43mbody\u001B[49m\u001B[43m,\u001B[49m\u001B[43m \u001B[49m\u001B[43mheaders\u001B[49m\u001B[43m,\u001B[49m\u001B[43m \u001B[49m\u001B[43mencode_chunked\u001B[49m\u001B[43m)\u001B[49m\n",
      "File \u001B[1;32m~\\AppData\\Local\\Programs\\Python\\Python311\\Lib\\http\\client.py:1344\u001B[0m, in \u001B[0;36mHTTPConnection._send_request\u001B[1;34m(self, method, url, body, headers, encode_chunked)\u001B[0m\n\u001B[0;32m   1343\u001B[0m     body \u001B[38;5;241m=\u001B[39m _encode(body, \u001B[38;5;124m'\u001B[39m\u001B[38;5;124mbody\u001B[39m\u001B[38;5;124m'\u001B[39m)\n\u001B[1;32m-> 1344\u001B[0m \u001B[38;5;28;43mself\u001B[39;49m\u001B[38;5;241;43m.\u001B[39;49m\u001B[43mendheaders\u001B[49m\u001B[43m(\u001B[49m\u001B[43mbody\u001B[49m\u001B[43m,\u001B[49m\u001B[43m \u001B[49m\u001B[43mencode_chunked\u001B[49m\u001B[38;5;241;43m=\u001B[39;49m\u001B[43mencode_chunked\u001B[49m\u001B[43m)\u001B[49m\n",
      "File \u001B[1;32m~\\AppData\\Local\\Programs\\Python\\Python311\\Lib\\http\\client.py:1293\u001B[0m, in \u001B[0;36mHTTPConnection.endheaders\u001B[1;34m(self, message_body, encode_chunked)\u001B[0m\n\u001B[0;32m   1292\u001B[0m     \u001B[38;5;28;01mraise\u001B[39;00m CannotSendHeader()\n\u001B[1;32m-> 1293\u001B[0m \u001B[38;5;28;43mself\u001B[39;49m\u001B[38;5;241;43m.\u001B[39;49m\u001B[43m_send_output\u001B[49m\u001B[43m(\u001B[49m\u001B[43mmessage_body\u001B[49m\u001B[43m,\u001B[49m\u001B[43m \u001B[49m\u001B[43mencode_chunked\u001B[49m\u001B[38;5;241;43m=\u001B[39;49m\u001B[43mencode_chunked\u001B[49m\u001B[43m)\u001B[49m\n",
      "File \u001B[1;32m~\\AppData\\Local\\Programs\\Python\\Python311\\Lib\\http\\client.py:1052\u001B[0m, in \u001B[0;36mHTTPConnection._send_output\u001B[1;34m(self, message_body, encode_chunked)\u001B[0m\n\u001B[0;32m   1051\u001B[0m \u001B[38;5;28;01mdel\u001B[39;00m \u001B[38;5;28mself\u001B[39m\u001B[38;5;241m.\u001B[39m_buffer[:]\n\u001B[1;32m-> 1052\u001B[0m \u001B[38;5;28;43mself\u001B[39;49m\u001B[38;5;241;43m.\u001B[39;49m\u001B[43msend\u001B[49m\u001B[43m(\u001B[49m\u001B[43mmsg\u001B[49m\u001B[43m)\u001B[49m\n\u001B[0;32m   1054\u001B[0m \u001B[38;5;28;01mif\u001B[39;00m message_body \u001B[38;5;129;01mis\u001B[39;00m \u001B[38;5;129;01mnot\u001B[39;00m \u001B[38;5;28;01mNone\u001B[39;00m:\n\u001B[0;32m   1055\u001B[0m \n\u001B[0;32m   1056\u001B[0m     \u001B[38;5;66;03m# create a consistent interface to message_body\u001B[39;00m\n",
      "File \u001B[1;32m~\\AppData\\Local\\Programs\\Python\\Python311\\Lib\\http\\client.py:990\u001B[0m, in \u001B[0;36mHTTPConnection.send\u001B[1;34m(self, data)\u001B[0m\n\u001B[0;32m    989\u001B[0m \u001B[38;5;28;01mif\u001B[39;00m \u001B[38;5;28mself\u001B[39m\u001B[38;5;241m.\u001B[39mauto_open:\n\u001B[1;32m--> 990\u001B[0m     \u001B[38;5;28;43mself\u001B[39;49m\u001B[38;5;241;43m.\u001B[39;49m\u001B[43mconnect\u001B[49m\u001B[43m(\u001B[49m\u001B[43m)\u001B[49m\n\u001B[0;32m    991\u001B[0m \u001B[38;5;28;01melse\u001B[39;00m:\n",
      "File \u001B[1;32m~\\AppData\\Local\\Programs\\Python\\Python311\\Lib\\http\\client.py:1470\u001B[0m, in \u001B[0;36mHTTPSConnection.connect\u001B[1;34m(self)\u001B[0m\n\u001B[0;32m   1468\u001B[0m     server_hostname \u001B[38;5;241m=\u001B[39m \u001B[38;5;28mself\u001B[39m\u001B[38;5;241m.\u001B[39mhost\n\u001B[1;32m-> 1470\u001B[0m \u001B[38;5;28mself\u001B[39m\u001B[38;5;241m.\u001B[39msock \u001B[38;5;241m=\u001B[39m \u001B[38;5;28;43mself\u001B[39;49m\u001B[38;5;241;43m.\u001B[39;49m\u001B[43m_context\u001B[49m\u001B[38;5;241;43m.\u001B[39;49m\u001B[43mwrap_socket\u001B[49m\u001B[43m(\u001B[49m\u001B[38;5;28;43mself\u001B[39;49m\u001B[38;5;241;43m.\u001B[39;49m\u001B[43msock\u001B[49m\u001B[43m,\u001B[49m\n\u001B[0;32m   1471\u001B[0m \u001B[43m                                      \u001B[49m\u001B[43mserver_hostname\u001B[49m\u001B[38;5;241;43m=\u001B[39;49m\u001B[43mserver_hostname\u001B[49m\u001B[43m)\u001B[49m\n",
      "File \u001B[1;32m~\\AppData\\Local\\Programs\\Python\\Python311\\Lib\\ssl.py:517\u001B[0m, in \u001B[0;36mSSLContext.wrap_socket\u001B[1;34m(self, sock, server_side, do_handshake_on_connect, suppress_ragged_eofs, server_hostname, session)\u001B[0m\n\u001B[0;32m    511\u001B[0m \u001B[38;5;28;01mdef\u001B[39;00m \u001B[38;5;21mwrap_socket\u001B[39m(\u001B[38;5;28mself\u001B[39m, sock, server_side\u001B[38;5;241m=\u001B[39m\u001B[38;5;28;01mFalse\u001B[39;00m,\n\u001B[0;32m    512\u001B[0m                 do_handshake_on_connect\u001B[38;5;241m=\u001B[39m\u001B[38;5;28;01mTrue\u001B[39;00m,\n\u001B[0;32m    513\u001B[0m                 suppress_ragged_eofs\u001B[38;5;241m=\u001B[39m\u001B[38;5;28;01mTrue\u001B[39;00m,\n\u001B[0;32m    514\u001B[0m                 server_hostname\u001B[38;5;241m=\u001B[39m\u001B[38;5;28;01mNone\u001B[39;00m, session\u001B[38;5;241m=\u001B[39m\u001B[38;5;28;01mNone\u001B[39;00m):\n\u001B[0;32m    515\u001B[0m     \u001B[38;5;66;03m# SSLSocket class handles server_hostname encoding before it calls\u001B[39;00m\n\u001B[0;32m    516\u001B[0m     \u001B[38;5;66;03m# ctx._wrap_socket()\u001B[39;00m\n\u001B[1;32m--> 517\u001B[0m     \u001B[38;5;28;01mreturn\u001B[39;00m \u001B[38;5;28;43mself\u001B[39;49m\u001B[38;5;241;43m.\u001B[39;49m\u001B[43msslsocket_class\u001B[49m\u001B[38;5;241;43m.\u001B[39;49m\u001B[43m_create\u001B[49m\u001B[43m(\u001B[49m\n\u001B[0;32m    518\u001B[0m \u001B[43m        \u001B[49m\u001B[43msock\u001B[49m\u001B[38;5;241;43m=\u001B[39;49m\u001B[43msock\u001B[49m\u001B[43m,\u001B[49m\n\u001B[0;32m    519\u001B[0m \u001B[43m        \u001B[49m\u001B[43mserver_side\u001B[49m\u001B[38;5;241;43m=\u001B[39;49m\u001B[43mserver_side\u001B[49m\u001B[43m,\u001B[49m\n\u001B[0;32m    520\u001B[0m \u001B[43m        \u001B[49m\u001B[43mdo_handshake_on_connect\u001B[49m\u001B[38;5;241;43m=\u001B[39;49m\u001B[43mdo_handshake_on_connect\u001B[49m\u001B[43m,\u001B[49m\n\u001B[0;32m    521\u001B[0m \u001B[43m        \u001B[49m\u001B[43msuppress_ragged_eofs\u001B[49m\u001B[38;5;241;43m=\u001B[39;49m\u001B[43msuppress_ragged_eofs\u001B[49m\u001B[43m,\u001B[49m\n\u001B[0;32m    522\u001B[0m \u001B[43m        \u001B[49m\u001B[43mserver_hostname\u001B[49m\u001B[38;5;241;43m=\u001B[39;49m\u001B[43mserver_hostname\u001B[49m\u001B[43m,\u001B[49m\n\u001B[0;32m    523\u001B[0m \u001B[43m        \u001B[49m\u001B[43mcontext\u001B[49m\u001B[38;5;241;43m=\u001B[39;49m\u001B[38;5;28;43mself\u001B[39;49m\u001B[43m,\u001B[49m\n\u001B[0;32m    524\u001B[0m \u001B[43m        \u001B[49m\u001B[43msession\u001B[49m\u001B[38;5;241;43m=\u001B[39;49m\u001B[43msession\u001B[49m\n\u001B[0;32m    525\u001B[0m \u001B[43m    \u001B[49m\u001B[43m)\u001B[49m\n",
      "File \u001B[1;32m~\\AppData\\Local\\Programs\\Python\\Python311\\Lib\\ssl.py:1104\u001B[0m, in \u001B[0;36mSSLSocket._create\u001B[1;34m(cls, sock, server_side, do_handshake_on_connect, suppress_ragged_eofs, server_hostname, context, session)\u001B[0m\n\u001B[0;32m   1103\u001B[0m                 \u001B[38;5;28;01mraise\u001B[39;00m \u001B[38;5;167;01mValueError\u001B[39;00m(\u001B[38;5;124m\"\u001B[39m\u001B[38;5;124mdo_handshake_on_connect should not be specified for non-blocking sockets\u001B[39m\u001B[38;5;124m\"\u001B[39m)\n\u001B[1;32m-> 1104\u001B[0m             \u001B[38;5;28;43mself\u001B[39;49m\u001B[38;5;241;43m.\u001B[39;49m\u001B[43mdo_handshake\u001B[49m\u001B[43m(\u001B[49m\u001B[43m)\u001B[49m\n\u001B[0;32m   1105\u001B[0m \u001B[38;5;28;01mexcept\u001B[39;00m:\n",
      "File \u001B[1;32m~\\AppData\\Local\\Programs\\Python\\Python311\\Lib\\ssl.py:1382\u001B[0m, in \u001B[0;36mSSLSocket.do_handshake\u001B[1;34m(self, block)\u001B[0m\n\u001B[0;32m   1381\u001B[0m         \u001B[38;5;28mself\u001B[39m\u001B[38;5;241m.\u001B[39msettimeout(\u001B[38;5;28;01mNone\u001B[39;00m)\n\u001B[1;32m-> 1382\u001B[0m     \u001B[38;5;28mself\u001B[39m\u001B[38;5;241m.\u001B[39m_sslobj\u001B[38;5;241m.\u001B[39mdo_handshake()\n\u001B[0;32m   1383\u001B[0m \u001B[38;5;28;01mfinally\u001B[39;00m:\n",
      "\u001B[1;31mConnectionResetError\u001B[0m: [WinError 10054] Удаленный хост принудительно разорвал существующее подключение",
      "\nDuring handling of the above exception, another exception occurred:\n",
      "\u001B[1;31mURLError\u001B[0m                                  Traceback (most recent call last)",
      "Cell \u001B[1;32mIn[81], line 1\u001B[0m\n\u001B[1;32m----> 1\u001B[0m response \u001B[38;5;241m=\u001B[39m \u001B[43murllib\u001B[49m\u001B[38;5;241;43m.\u001B[39;49m\u001B[43mrequest\u001B[49m\u001B[38;5;241;43m.\u001B[39;49m\u001B[43murlopen\u001B[49m\u001B[43m(\u001B[49m\u001B[43mreq\u001B[49m\u001B[43m)\u001B[49m\n\u001B[0;32m      2\u001B[0m \u001B[38;5;28mprint\u001B[39m(response)\n\u001B[0;32m      3\u001B[0m response_text \u001B[38;5;241m=\u001B[39m response\u001B[38;5;241m.\u001B[39mread()\u001B[38;5;241m.\u001B[39mdecode()\n",
      "File \u001B[1;32m~\\AppData\\Local\\Programs\\Python\\Python311\\Lib\\urllib\\request.py:216\u001B[0m, in \u001B[0;36murlopen\u001B[1;34m(url, data, timeout, cafile, capath, cadefault, context)\u001B[0m\n\u001B[0;32m    214\u001B[0m \u001B[38;5;28;01melse\u001B[39;00m:\n\u001B[0;32m    215\u001B[0m     opener \u001B[38;5;241m=\u001B[39m _opener\n\u001B[1;32m--> 216\u001B[0m \u001B[38;5;28;01mreturn\u001B[39;00m \u001B[43mopener\u001B[49m\u001B[38;5;241;43m.\u001B[39;49m\u001B[43mopen\u001B[49m\u001B[43m(\u001B[49m\u001B[43murl\u001B[49m\u001B[43m,\u001B[49m\u001B[43m \u001B[49m\u001B[43mdata\u001B[49m\u001B[43m,\u001B[49m\u001B[43m \u001B[49m\u001B[43mtimeout\u001B[49m\u001B[43m)\u001B[49m\n",
      "File \u001B[1;32m~\\AppData\\Local\\Programs\\Python\\Python311\\Lib\\urllib\\request.py:519\u001B[0m, in \u001B[0;36mOpenerDirector.open\u001B[1;34m(self, fullurl, data, timeout)\u001B[0m\n\u001B[0;32m    516\u001B[0m     req \u001B[38;5;241m=\u001B[39m meth(req)\n\u001B[0;32m    518\u001B[0m sys\u001B[38;5;241m.\u001B[39maudit(\u001B[38;5;124m'\u001B[39m\u001B[38;5;124murllib.Request\u001B[39m\u001B[38;5;124m'\u001B[39m, req\u001B[38;5;241m.\u001B[39mfull_url, req\u001B[38;5;241m.\u001B[39mdata, req\u001B[38;5;241m.\u001B[39mheaders, req\u001B[38;5;241m.\u001B[39mget_method())\n\u001B[1;32m--> 519\u001B[0m response \u001B[38;5;241m=\u001B[39m \u001B[38;5;28;43mself\u001B[39;49m\u001B[38;5;241;43m.\u001B[39;49m\u001B[43m_open\u001B[49m\u001B[43m(\u001B[49m\u001B[43mreq\u001B[49m\u001B[43m,\u001B[49m\u001B[43m \u001B[49m\u001B[43mdata\u001B[49m\u001B[43m)\u001B[49m\n\u001B[0;32m    521\u001B[0m \u001B[38;5;66;03m# post-process response\u001B[39;00m\n\u001B[0;32m    522\u001B[0m meth_name \u001B[38;5;241m=\u001B[39m protocol\u001B[38;5;241m+\u001B[39m\u001B[38;5;124m\"\u001B[39m\u001B[38;5;124m_response\u001B[39m\u001B[38;5;124m\"\u001B[39m\n",
      "File \u001B[1;32m~\\AppData\\Local\\Programs\\Python\\Python311\\Lib\\urllib\\request.py:536\u001B[0m, in \u001B[0;36mOpenerDirector._open\u001B[1;34m(self, req, data)\u001B[0m\n\u001B[0;32m    533\u001B[0m     \u001B[38;5;28;01mreturn\u001B[39;00m result\n\u001B[0;32m    535\u001B[0m protocol \u001B[38;5;241m=\u001B[39m req\u001B[38;5;241m.\u001B[39mtype\n\u001B[1;32m--> 536\u001B[0m result \u001B[38;5;241m=\u001B[39m \u001B[38;5;28;43mself\u001B[39;49m\u001B[38;5;241;43m.\u001B[39;49m\u001B[43m_call_chain\u001B[49m\u001B[43m(\u001B[49m\u001B[38;5;28;43mself\u001B[39;49m\u001B[38;5;241;43m.\u001B[39;49m\u001B[43mhandle_open\u001B[49m\u001B[43m,\u001B[49m\u001B[43m \u001B[49m\u001B[43mprotocol\u001B[49m\u001B[43m,\u001B[49m\u001B[43m \u001B[49m\u001B[43mprotocol\u001B[49m\u001B[43m \u001B[49m\u001B[38;5;241;43m+\u001B[39;49m\n\u001B[0;32m    537\u001B[0m \u001B[43m                          \u001B[49m\u001B[38;5;124;43m'\u001B[39;49m\u001B[38;5;124;43m_open\u001B[39;49m\u001B[38;5;124;43m'\u001B[39;49m\u001B[43m,\u001B[49m\u001B[43m \u001B[49m\u001B[43mreq\u001B[49m\u001B[43m)\u001B[49m\n\u001B[0;32m    538\u001B[0m \u001B[38;5;28;01mif\u001B[39;00m result:\n\u001B[0;32m    539\u001B[0m     \u001B[38;5;28;01mreturn\u001B[39;00m result\n",
      "File \u001B[1;32m~\\AppData\\Local\\Programs\\Python\\Python311\\Lib\\urllib\\request.py:496\u001B[0m, in \u001B[0;36mOpenerDirector._call_chain\u001B[1;34m(self, chain, kind, meth_name, *args)\u001B[0m\n\u001B[0;32m    494\u001B[0m \u001B[38;5;28;01mfor\u001B[39;00m handler \u001B[38;5;129;01min\u001B[39;00m handlers:\n\u001B[0;32m    495\u001B[0m     func \u001B[38;5;241m=\u001B[39m \u001B[38;5;28mgetattr\u001B[39m(handler, meth_name)\n\u001B[1;32m--> 496\u001B[0m     result \u001B[38;5;241m=\u001B[39m \u001B[43mfunc\u001B[49m\u001B[43m(\u001B[49m\u001B[38;5;241;43m*\u001B[39;49m\u001B[43margs\u001B[49m\u001B[43m)\u001B[49m\n\u001B[0;32m    497\u001B[0m     \u001B[38;5;28;01mif\u001B[39;00m result \u001B[38;5;129;01mis\u001B[39;00m \u001B[38;5;129;01mnot\u001B[39;00m \u001B[38;5;28;01mNone\u001B[39;00m:\n\u001B[0;32m    498\u001B[0m         \u001B[38;5;28;01mreturn\u001B[39;00m result\n",
      "File \u001B[1;32m~\\AppData\\Local\\Programs\\Python\\Python311\\Lib\\urllib\\request.py:1391\u001B[0m, in \u001B[0;36mHTTPSHandler.https_open\u001B[1;34m(self, req)\u001B[0m\n\u001B[0;32m   1390\u001B[0m \u001B[38;5;28;01mdef\u001B[39;00m \u001B[38;5;21mhttps_open\u001B[39m(\u001B[38;5;28mself\u001B[39m, req):\n\u001B[1;32m-> 1391\u001B[0m     \u001B[38;5;28;01mreturn\u001B[39;00m \u001B[38;5;28;43mself\u001B[39;49m\u001B[38;5;241;43m.\u001B[39;49m\u001B[43mdo_open\u001B[49m\u001B[43m(\u001B[49m\u001B[43mhttp\u001B[49m\u001B[38;5;241;43m.\u001B[39;49m\u001B[43mclient\u001B[49m\u001B[38;5;241;43m.\u001B[39;49m\u001B[43mHTTPSConnection\u001B[49m\u001B[43m,\u001B[49m\u001B[43m \u001B[49m\u001B[43mreq\u001B[49m\u001B[43m,\u001B[49m\n\u001B[0;32m   1392\u001B[0m \u001B[43m        \u001B[49m\u001B[43mcontext\u001B[49m\u001B[38;5;241;43m=\u001B[39;49m\u001B[38;5;28;43mself\u001B[39;49m\u001B[38;5;241;43m.\u001B[39;49m\u001B[43m_context\u001B[49m\u001B[43m,\u001B[49m\u001B[43m \u001B[49m\u001B[43mcheck_hostname\u001B[49m\u001B[38;5;241;43m=\u001B[39;49m\u001B[38;5;28;43mself\u001B[39;49m\u001B[38;5;241;43m.\u001B[39;49m\u001B[43m_check_hostname\u001B[49m\u001B[43m)\u001B[49m\n",
      "File \u001B[1;32m~\\AppData\\Local\\Programs\\Python\\Python311\\Lib\\urllib\\request.py:1351\u001B[0m, in \u001B[0;36mAbstractHTTPHandler.do_open\u001B[1;34m(self, http_class, req, **http_conn_args)\u001B[0m\n\u001B[0;32m   1348\u001B[0m         h\u001B[38;5;241m.\u001B[39mrequest(req\u001B[38;5;241m.\u001B[39mget_method(), req\u001B[38;5;241m.\u001B[39mselector, req\u001B[38;5;241m.\u001B[39mdata, headers,\n\u001B[0;32m   1349\u001B[0m                   encode_chunked\u001B[38;5;241m=\u001B[39mreq\u001B[38;5;241m.\u001B[39mhas_header(\u001B[38;5;124m'\u001B[39m\u001B[38;5;124mTransfer-encoding\u001B[39m\u001B[38;5;124m'\u001B[39m))\n\u001B[0;32m   1350\u001B[0m     \u001B[38;5;28;01mexcept\u001B[39;00m \u001B[38;5;167;01mOSError\u001B[39;00m \u001B[38;5;28;01mas\u001B[39;00m err: \u001B[38;5;66;03m# timeout error\u001B[39;00m\n\u001B[1;32m-> 1351\u001B[0m         \u001B[38;5;28;01mraise\u001B[39;00m URLError(err)\n\u001B[0;32m   1352\u001B[0m     r \u001B[38;5;241m=\u001B[39m h\u001B[38;5;241m.\u001B[39mgetresponse()\n\u001B[0;32m   1353\u001B[0m \u001B[38;5;28;01mexcept\u001B[39;00m:\n",
      "\u001B[1;31mURLError\u001B[0m: <urlopen error [WinError 10054] Удаленный хост принудительно разорвал существующее подключение>"
     ]
    }
   ],
   "source": [
    "# response = urllib.request.urlopen(req)\n",
    "# print(response)\n",
    "# response_text = response.read().decode()\n",
    "# print(response_text)"
   ],
   "metadata": {
    "collapsed": false
   }
  },
  {
   "cell_type": "code",
   "execution_count": 82,
   "outputs": [],
   "source": [
    "response_text = '{\"total\":9414,\"totalHits\":500,\"hits\":[{\"id\":2083492,\"pageURL\":\"https://pixabay.com/photos/cat-young-animal-kitten-gray-cat-2083492/\",\"type\":\"photo\",\"tags\":\"cat, young animal, nature\",\"previewURL\":\"https://cdn.pixabay.com/photo/2017/02/20/18/03/cat-2083492_150.jpg\",\"previewWidth\":150,\"previewHeight\":91,\"webformatURL\":\"https://pixabay.com/get/gedd34bca2703e1ac3c6733b71b4d021184e1f5dcb14fffb01f79cd90dcf1d73d94ba9adfdeffb2f1950e3fd857dc33d8941cef7b234d457d9b586d33faa6bcc8_640.jpg\",\"webformatWidth\":640,\"webformatHeight\":390,\"largeImageURL\":\"https://pixabay.com/get/g4ccc51a2a2b080491a75f20ab3800dcff14aa0d69f2751e7642d5580cdfdead5fa1e4d1c1c031f89bf5406d4cef51e69445acd424d1b2ada11c4693c9df21f62_1280.jpg\",\"imageWidth\":4928,\"imageHeight\":3008,\"imageSize\":4130948,\"views\":1449019,\"downloads\":873720,\"collections\":2478,\"likes\":2731,\"comments\":411,\"user_id\":1777190,\"user\":\"susannp4\",\"userImageURL\":\"https://cdn.pixabay.com/user/2015/12/16/17-56-55-832_250x250.jpg\"},{\"id\":551554,\"pageURL\":\"https://pixabay.com/photos/cat-kitten-pet-kitty-young-cat-551554/\",\"type\":\"photo\",\"tags\":\"cat, kitten, pet\",\"previewURL\":\"https://cdn.pixabay.com/photo/2014/11/30/14/11/cat-551554_150.jpg\",\"previewWidth\":144,\"previewHeight\":150,\"webformatURL\":\"https://pixabay.com/get/gf2cb45c9f1c8271dd205fc65130f57831caa1f54782978c30c2649b50c2fddffa15bb1c31e4af76067e201abf32bd859_640.jpg\",\"webformatWidth\":613,\"webformatHeight\":640,\"largeImageURL\":\"https://pixabay.com/get/ge0c9ffe4e3fbaaaef314b41f5903a9cbc1a5282df6c89163cdca3db1efa13b50821aad392f7fb55ff06c25ce93a573e4370ee1aad8eafe0aa4fc1a66dc3cf3ee_1280.jpg\",\"imageWidth\":2392,\"imageHeight\":2500,\"imageSize\":945751,\"views\":1585729,\"downloads\":893911,\"collections\":2122,\"likes\":2768,\"comments\":533,\"user_id\":617282,\"user\":\"Ty_Swartz\",\"userImageURL\":\"https://cdn.pixabay.com/user/2014/11/30/13-45-12-52_250x250.jpg\"},{\"id\":2536662,\"pageURL\":\"https://pixabay.com/photos/cat-flower-kitten-stone-pet-2536662/\",\"type\":\"photo\",\"tags\":\"cat, flower, kitten\",\"previewURL\":\"https://cdn.pixabay.com/photo/2017/07/25/01/22/cat-2536662_150.jpg\",\"previewWidth\":150,\"previewHeight\":99,\"webformatURL\":\"https://pixabay.com/get/g3cec84b4a0243614450e855d6e8124334fe7ba2a467b8b1ea0757b69dd14dd04b72a19b15a67dcc69a74e1464361d7ba2e027519a95d0ab52dbe2175f4e61118_640.jpg\",\"webformatWidth\":640,\"webformatHeight\":425,\"largeImageURL\":\"https://pixabay.com/get/gfb7eb6ca87a39180301d4f5d17b06f0b602fdf08b6b80f6ea943e7206ce96deec3cd529ad2c489be1b9cac8f711a6c77cbb64ce78e60c07e36b7d92c0d3f1baf_1280.jpg\",\"imageWidth\":4592,\"imageHeight\":3056,\"imageSize\":3178484,\"views\":1199696,\"downloads\":760839,\"collections\":1961,\"likes\":2355,\"comments\":392,\"user_id\":5987327,\"user\":\"Dimhou\",\"userImageURL\":\"\"},{\"id\":2934720,\"pageURL\":\"https://pixabay.com/photos/cat-kitten-pets-animals-housecat-2934720/\",\"type\":\"photo\",\"tags\":\"cat, kitten, animal\",\"previewURL\":\"https://cdn.pixabay.com/photo/2017/11/09/21/41/cat-2934720_150.jpg\",\"previewWidth\":150,\"previewHeight\":99,\"webformatURL\":\"https://pixabay.com/get/g94fdc2d9b0bdafda5b9772c1c943edf39d278361d7b5dead988f3f1600f91286a3b8f6b1811b40fa97f4055471788d596506f8dcb10c2669ca57c6bf0b4d4281_640.jpg\",\"webformatWidth\":640,\"webformatHeight\":426,\"largeImageURL\":\"https://pixabay.com/get/g5c0eeb03e5f6f760ad61939a0540320b19dc0d6b16ebcc5f2f22cf1821d3ad13a063a63382be1bfcb35ec4779ac9e824081e16d2ee9a257304b5dd7f57e8147c_1280.jpg\",\"imageWidth\":3495,\"imageHeight\":2330,\"imageSize\":1971228,\"views\":675772,\"downloads\":417297,\"collections\":1320,\"likes\":1541,\"comments\":255,\"user_id\":6995361,\"user\":\"Kirgiz03\",\"userImageURL\":\"https://cdn.pixabay.com/user/2017/11/14/22-33-33-341_250x250.jpg\"},{\"id\":4611189,\"pageURL\":\"https://pixabay.com/photos/kitten-cat-pet-feline-animal-fur-4611189/\",\"type\":\"photo\",\"tags\":\"kitten, cat, pet\",\"previewURL\":\"https://cdn.pixabay.com/photo/2019/11/08/11/56/kitten-4611189_150.jpg\",\"previewWidth\":150,\"previewHeight\":99,\"webformatURL\":\"https://pixabay.com/get/g1f47a7c4bc6633e27916183a1c0f62045fbc54c42d742b411db724844b4f655e946e4a52f58d3e5be67e5fa4ae295b20ae0bca1fac4f827ac12b73a1b59de68d_640.jpg\",\"webformatWidth\":640,\"webformatHeight\":426,\"largeImageURL\":\"https://pixabay.com/get/gd0619e6feae46210146ead220cd0e1c0f230449dff13320648d38eb8ad34259336103ac22ab29945e0804dd9714be33af88f87b2153f373207782a501e9c0fe9_1280.jpg\",\"imageWidth\":6000,\"imageHeight\":4000,\"imageSize\":3885974,\"views\":478529,\"downloads\":363253,\"collections\":966,\"likes\":1051,\"comments\":187,\"user_id\":9285194,\"user\":\"guvo59\",\"userImageURL\":\"https://cdn.pixabay.com/user/2023/06/15/05-00-59-993_250x250.jpg\"},{\"id\":1455468,\"pageURL\":\"https://pixabay.com/photos/cat-face-eyes-portrait-1455468/\",\"type\":\"photo\",\"tags\":\"cat, face, eyes\",\"previewURL\":\"https://cdn.pixabay.com/photo/2016/06/14/00/14/cat-1455468_150.jpg\",\"previewWidth\":150,\"previewHeight\":99,\"webformatURL\":\"https://pixabay.com/get/gfcefc806b01fdb51c07f1aa0dff55d7e93db83fe07cd0466c125a797d9103c5fdfd27fd3edfadd816f94eb595a207ae5b721bf32b1bedfb32134f15f4835bbb5_640.jpg\",\"webformatWidth\":640,\"webformatHeight\":425,\"largeImageURL\":\"https://pixabay.com/get/g2ed177a82991918acd4075907a5be0efed05abcff32274b65a0b1924e2c0989e431e505a2f100c374055f4aebbebf057841ef9e6a1d9999f31a1dfb1a0e281bc_1280.jpg\",\"imageWidth\":6016,\"imageHeight\":4000,\"imageSize\":9775105,\"views\":346476,\"downloads\":250072,\"collections\":943,\"likes\":872,\"comments\":101,\"user_id\":686414,\"user\":\"Alexas_Fotos\",\"userImageURL\":\"https://cdn.pixabay.com/user/2022/07/05/23-09-40-265_250x250.jpg\"},{\"id\":1192026,\"pageURL\":\"https://pixabay.com/photos/cat-kitten-pet-striped-young-1192026/\",\"type\":\"photo\",\"tags\":\"cat, kitten, pet\",\"previewURL\":\"https://cdn.pixabay.com/photo/2016/02/10/16/37/cat-1192026_150.jpg\",\"previewWidth\":150,\"previewHeight\":112,\"webformatURL\":\"https://pixabay.com/get/g528d5db8058c9556ce24bca52d43d61750163e10467d17e068fd8dbd1a7ee459949e49195615f06c58240d8cff8c5fb6565ad95ad6d7cc2bbb48556b3a3e3865_640.jpg\",\"webformatWidth\":640,\"webformatHeight\":480,\"largeImageURL\":\"https://pixabay.com/get/g40099d9776daff7337b320a9abe5ac3a0e99233fcaebaa2f8b91cf7adf9129ea35e85da91ced0dd387f3160f30b0f641eeea96a6ac609bf3916eadf709f3d69b_1280.jpg\",\"imageWidth\":2560,\"imageHeight\":1920,\"imageSize\":909777,\"views\":522065,\"downloads\":324006,\"collections\":990,\"likes\":1008,\"comments\":150,\"user_id\":1892688,\"user\":\"Chiemsee2024\",\"userImageURL\":\"https://cdn.pixabay.com/user/2022/05/10/07-03-44-588_250x250.jpg\"},{\"id\":1285341,\"pageURL\":\"https://pixabay.com/photos/kitten-white-cat-cute-domestic-1285341/\",\"type\":\"photo\",\"tags\":\"kitten, white, cat\",\"previewURL\":\"https://cdn.pixabay.com/photo/2016/03/28/10/05/kitten-1285341_150.jpg\",\"previewWidth\":150,\"previewHeight\":99,\"webformatURL\":\"https://pixabay.com/get/ge84efccc2fd5cdf015cc0228f77931c88c1b5f0431f2c67d2f036da5c0b098305ee3643ca995c57dc8609d93380b6a0371880afda071e77a489a29a0896dd4c8_640.jpg\",\"webformatWidth\":640,\"webformatHeight\":423,\"largeImageURL\":\"https://pixabay.com/get/g4c0639664cb3a60bad4f8193ae754ec54dd1d4712e01db22dd61a4ccd367ad0079084b5266a303fa81f02eb60cdcb616da0b8152129797e81f82a353afcc4bc2_1280.jpg\",\"imageWidth\":4928,\"imageHeight\":3264,\"imageSize\":3983011,\"views\":295138,\"downloads\":200954,\"collections\":694,\"likes\":854,\"comments\":100,\"user_id\":2286921,\"user\":\"Pexels\",\"userImageURL\":\"https://cdn.pixabay.com/user/2016/03/26/22-06-36-459_250x250.jpg\"},{\"id\":2948404,\"pageURL\":\"https://pixabay.com/photos/kitty-playful-flowers-wildflowers-2948404/\",\"type\":\"photo\",\"tags\":\"kitty, playful, flowers\",\"previewURL\":\"https://cdn.pixabay.com/photo/2017/11/14/13/06/kitty-2948404_150.jpg\",\"previewWidth\":150,\"previewHeight\":101,\"webformatURL\":\"https://pixabay.com/get/g2858eca681b9dc416784ef57130c1a7dbf58314564f712e790a616e31926b8c8f92e8b758746743c2ff43a3ef2e0f984980b8ff35f49742ced227ef5f2de4212_640.jpg\",\"webformatWidth\":640,\"webformatHeight\":433,\"largeImageURL\":\"https://pixabay.com/get/gfc11007e836d6f7bd421bc06af96933a29b160721a37e2139d394ec6175c78795858f6fb20dc0de01b3147d12421adf3c527cf0b055f0b66e05945cba8e9bb67_1280.jpg\",\"imageWidth\":4056,\"imageHeight\":2746,\"imageSize\":3464997,\"views\":763298,\"downloads\":511733,\"collections\":1052,\"likes\":1309,\"comments\":175,\"user_id\":3558510,\"user\":\"IlonaBurschl\",\"userImageURL\":\"https://cdn.pixabay.com/user/2022/05/30/08-07-40-119_250x250.jpg\"},{\"id\":1647775,\"pageURL\":\"https://pixabay.com/photos/cat-kitten-tree-curious-tabby-1647775/\",\"type\":\"photo\",\"tags\":\"cat, kitten, tree\",\"previewURL\":\"https://cdn.pixabay.com/photo/2016/09/05/21/37/cat-1647775_150.jpg\",\"previewWidth\":150,\"previewHeight\":99,\"webformatURL\":\"https://pixabay.com/get/g2a4ab0ddfb5813d57de4f782ea2e5a2140e6e102d8f85c6e89c14b606a16959ff9a93ab92735510f8986d02e77342bcf7580112f231d9fa20e375f19090dcd22_640.jpg\",\"webformatWidth\":640,\"webformatHeight\":426,\"largeImageURL\":\"https://pixabay.com/get/gaff30bc14508441cc4a660105b57bf8d69dc33ab7627bf0705a43e2bd34d1e2eee28548702fc8b208f99b4e4b2a5eb12105d09c988b4a5b6a0cfc0a5f59f1a45_1280.jpg\",\"imageWidth\":4800,\"imageHeight\":3200,\"imageSize\":2329880,\"views\":384850,\"downloads\":259547,\"collections\":856,\"likes\":978,\"comments\":121,\"user_id\":778429,\"user\":\"Kessa\",\"userImageURL\":\"\"},{\"id\":1941089,\"pageURL\":\"https://pixabay.com/photos/cat-kitten-cute-sleeping-asleep-1941089/\",\"type\":\"photo\",\"tags\":\"cat, kitten, cute\",\"previewURL\":\"https://cdn.pixabay.com/photo/2016/12/30/17/27/cat-1941089_150.jpg\",\"previewWidth\":150,\"previewHeight\":99,\"webformatURL\":\"https://pixabay.com/get/g348bcdc19f2ab472d6c0e340715d98891a472f0404892bf7546d23e6fe869d523cd9ca52914a0c38bd7941287ddfc4fcc5287eb56966c79980d5a590455325ae_640.jpg\",\"webformatWidth\":640,\"webformatHeight\":426,\"largeImageURL\":\"https://pixabay.com/get/g9d2d0446a47b4a5854766ded304c5d65f839c59e582dea2db826099b0f54cdc9e5939c2142597acfcd20d4f68a878269a2c578629788474d05b25ba1f26b156f_1280.jpg\",\"imageWidth\":5944,\"imageHeight\":3963,\"imageSize\":4117102,\"views\":203686,\"downloads\":142417,\"collections\":537,\"likes\":544,\"comments\":67,\"user_id\":2011986,\"user\":\"super-mapio\",\"userImageURL\":\"https://cdn.pixabay.com/user/2020/04/25/20-45-41-529_250x250.jpg\"},{\"id\":3669244,\"pageURL\":\"https://pixabay.com/photos/animal-kitten-cat-pet-nature-3669244/\",\"type\":\"photo\",\"tags\":\"animal, kitten, cat\",\"previewURL\":\"https://cdn.pixabay.com/photo/2018/09/11/11/47/animal-3669244_150.jpg\",\"previewWidth\":150,\"previewHeight\":100,\"webformatURL\":\"https://pixabay.com/get/gf72bc58ffdf11ea19f16af593198edd8dd58d4038cd87d3cdd52b63c22361597bb0f72d6d8d6bc2452c13e2224be2c377885ee39a0db3a607c3465fde0f6c722_640.jpg\",\"webformatWidth\":640,\"webformatHeight\":427,\"largeImageURL\":\"https://pixabay.com/get/gc587fe2b017956e7abb6d60da2c3c8843a5900b2c483cd24633d1436ebd59d2230f47471ee9b0755d2f898313e7800a9438fd31e620af633c179c159d1c10580_1280.jpg\",\"imageWidth\":5000,\"imageHeight\":3337,\"imageSize\":4405141,\"views\":73852,\"downloads\":53848,\"collections\":329,\"likes\":331,\"comments\":44,\"user_id\":8915859,\"user\":\"imazite\",\"userImageURL\":\"https://cdn.pixabay.com/user/2018/05/06/10-42-53-270_250x250.jpg\"},{\"id\":2068462,\"pageURL\":\"https://pixabay.com/photos/cat-siamese-cat-fur-kitten-2068462/\",\"type\":\"photo\",\"tags\":\"cat, siamese cat, pet\",\"previewURL\":\"https://cdn.pixabay.com/photo/2017/02/15/12/12/cat-2068462_150.jpg\",\"previewWidth\":150,\"previewHeight\":99,\"webformatURL\":\"https://pixabay.com/get/g58c33d3b07a45c2a4c4150db364f6fcc92a702139240a2be236d0dc65a411070b58a015f54395ebabf1d9393bcb5f399094f7f52e318091fb5b04cb07fcff949_640.jpg\",\"webformatWidth\":640,\"webformatHeight\":426,\"largeImageURL\":\"https://pixabay.com/get/g2332a39a42c18246cbeabbae53a8bc9141168c48a36a3d0df55b7146c9439ccc861df3221e7f570c13614a1998353204b1e4f1c96786edf28bd79435186daef0_1280.jpg\",\"imageWidth\":4156,\"imageHeight\":2771,\"imageSize\":1966637,\"views\":242365,\"downloads\":152831,\"collections\":670,\"likes\":704,\"comments\":200,\"user_id\":1460261,\"user\":\"webandi\",\"userImageURL\":\"https://cdn.pixabay.com/user/2020/02/17/17-24-14-812_250x250.jpg\"},{\"id\":4894153,\"pageURL\":\"https://pixabay.com/photos/cat-kitten-feline-pet-animal-4894153/\",\"type\":\"photo\",\"tags\":\"cat, kitten, feline\",\"previewURL\":\"https://cdn.pixabay.com/photo/2020/03/01/21/12/cat-4894153_150.jpg\",\"previewWidth\":150,\"previewHeight\":107,\"webformatURL\":\"https://pixabay.com/get/g9162ca98de3647ffc4dea6f6ae849928c2abbf468afd074cc79aace4dd81631fefce47bacd678d626e5aaf989dfff2ad5ab73856c22f82b965eae37f00d4f8c7_640.jpg\",\"webformatWidth\":640,\"webformatHeight\":458,\"largeImageURL\":\"https://pixabay.com/get/g7932d1f01b17de7a004c61d31291b1002532054469f0796d7c08fe16534c543eaa1f942319f8198a7149e6567e071c7ac8b82433e7d97d0dcb368489556cbf14_1280.jpg\",\"imageWidth\":3323,\"imageHeight\":2377,\"imageSize\":1463186,\"views\":56715,\"downloads\":37685,\"collections\":297,\"likes\":318,\"comments\":64,\"user_id\":15333183,\"user\":\"MissKaiser\",\"userImageURL\":\"https://cdn.pixabay.com/user/2020/08/16/19-23-43-909_250x250.jpg\"},{\"id\":4558651,\"pageURL\":\"https://pixabay.com/photos/cat-kitten-pet-animal-mammal-fur-4558651/\",\"type\":\"photo\",\"tags\":\"cat, kitten, pet\",\"previewURL\":\"https://cdn.pixabay.com/photo/2019/10/18/09/29/cat-4558651_150.jpg\",\"previewWidth\":150,\"previewHeight\":99,\"webformatURL\":\"https://pixabay.com/get/gf8386d40a22da961674b6693344ddb198cc57aac9cf020bf402f5c7d1b25845e2ad0e26fbb325eb65e3e2b2d7ecd7e0d5966d49d98d3a635aa07e6f0d9a3fc41_640.jpg\",\"webformatWidth\":640,\"webformatHeight\":426,\"largeImageURL\":\"https://pixabay.com/get/g0a716f3b2abe22e6ffec286537e08fc11be42e74c0e843988c1be7bb7478c3b42e70f37aae3903d65e1d3fb2f0e95f9508df2a487ff7b338963e3f4e28bd66b2_1280.jpg\",\"imageWidth\":5646,\"imageHeight\":3764,\"imageSize\":2691045,\"views\":88701,\"downloads\":65299,\"collections\":266,\"likes\":290,\"comments\":47,\"user_id\":7214328,\"user\":\"Leuchtturm81\",\"userImageURL\":\"https://cdn.pixabay.com/user/2019/07/02/07-09-46-504_250x250.jpg\"},{\"id\":529013,\"pageURL\":\"https://pixabay.com/photos/girl-child-flowers-cat-kitten-529013/\",\"type\":\"photo\",\"tags\":\"girl, child, flowers\",\"previewURL\":\"https://cdn.pixabay.com/photo/2014/11/13/02/53/girl-529013_150.jpg\",\"previewWidth\":150,\"previewHeight\":95,\"webformatURL\":\"https://pixabay.com/get/gcf3a4aaf4e8d341b0b32db6c9c3e90766e65c3afa3a13138d9b54d0b295117329c60757773326e96e2afe6f816e593f4_640.jpg\",\"webformatWidth\":640,\"webformatHeight\":407,\"largeImageURL\":\"https://pixabay.com/get/g8844c856bb49b16c2a6994e1caf736195533f53c3aed41c3c195fbbdcd5baf92ba0c7f2bbee4d3648f1ee263b6971f3151cbde2fffd057c18e8a892621cd9d0d_1280.jpg\",\"imageWidth\":2000,\"imageHeight\":1272,\"imageSize\":940596,\"views\":397338,\"downloads\":238308,\"collections\":760,\"likes\":837,\"comments\":137,\"user_id\":406384,\"user\":\"ThePixelman\",\"userImageURL\":\"https://cdn.pixabay.com/user/2015/01/04/04-24-16-372_250x250.jpg\"},{\"id\":3266673,\"pageURL\":\"https://pixabay.com/photos/cat-sad-cute-small-sweet-pet-3266673/\",\"type\":\"photo\",\"tags\":\"cat, sad, cute\",\"previewURL\":\"https://cdn.pixabay.com/photo/2018/03/27/17/25/cat-3266673_150.jpg\",\"previewWidth\":150,\"previewHeight\":99,\"webformatURL\":\"https://pixabay.com/get/g6caca951d9c48b2ba9ced2e6f2a4b65074bd27552e02cd5c4fa2b82d2af286d84f40b1d80c425a71854fe69ccdec11bf09d86e6a8a7366ba334461035c6b4d85_640.jpg\",\"webformatWidth\":640,\"webformatHeight\":426,\"largeImageURL\":\"https://pixabay.com/get/g252f61bdf842431033e2567db00333c552a2d7ceea7866a2c4318102a39421617bd7bcc02a9f25fc0e843d81860a52315f9db5fe33c96a3a8d8510570694e590_1280.jpg\",\"imageWidth\":4681,\"imageHeight\":3121,\"imageSize\":3551978,\"views\":223068,\"downloads\":147536,\"collections\":486,\"likes\":600,\"comments\":80,\"user_id\":7201644,\"user\":\"Quangpraha\",\"userImageURL\":\"https://cdn.pixabay.com/user/2017/11/28/12-45-12-473_250x250.jpg\"},{\"id\":1845789,\"pageURL\":\"https://pixabay.com/photos/kitten-basket-pet-adorable-animal-1845789/\",\"type\":\"photo\",\"tags\":\"kitten, basket, pet\",\"previewURL\":\"https://cdn.pixabay.com/photo/2016/11/21/14/47/kitten-1845789_150.jpg\",\"previewWidth\":150,\"previewHeight\":99,\"webformatURL\":\"https://pixabay.com/get/g8760cb3d965db62ed8e8b8f2db74122f90d0426e5c3aa3a808751993683d9094b274513b07068870aa1fa11b66644420daa69703bc2e2fe5be886b53c7da7560_640.jpg\",\"webformatWidth\":640,\"webformatHeight\":426,\"largeImageURL\":\"https://pixabay.com/get/gcfeba532f5411f0eba5634d3410264a2893a3d63433abbae2fb797f058ce1a6dc87a910f803937bc1c66a475112c34a42310f5149575ad311aa94a4317fb96e0_1280.jpg\",\"imageWidth\":5197,\"imageHeight\":3465,\"imageSize\":3515435,\"views\":172262,\"downloads\":119137,\"collections\":424,\"likes\":478,\"comments\":53,\"user_id\":2286921,\"user\":\"Pexels\",\"userImageURL\":\"https://cdn.pixabay.com/user/2016/03/26/22-06-36-459_250x250.jpg\"},{\"id\":3442257,\"pageURL\":\"https://pixabay.com/photos/kitten-cat-pet-feline-animal-fur-3442257/\",\"type\":\"photo\",\"tags\":\"kitten, cat, pet\",\"previewURL\":\"https://cdn.pixabay.com/photo/2018/05/30/19/29/kitten-3442257_150.jpg\",\"previewWidth\":150,\"previewHeight\":102,\"webformatURL\":\"https://pixabay.com/get/gb21c19b9c0f287cf29999fec38ef741e3a35a0c29a5686f758d761cef28afeebd1131892dc5545cdf1f8f4bd3de79179587eaa1b9ece3eaf11ea81ea4bf974f0_640.jpg\",\"webformatWidth\":640,\"webformatHeight\":439,\"largeImageURL\":\"https://pixabay.com/get/g1443f0c49e5ff4193b2e2bea2ea6955a9414ff196741ddd9292bf948635ad59ce14e2f37b212b21a1539da39661e06a69010a889ab33482adc28cf0338bb381b_1280.jpg\",\"imageWidth\":4469,\"imageHeight\":3068,\"imageSize\":2531915,\"views\":99454,\"downloads\":69787,\"collections\":278,\"likes\":344,\"comments\":26,\"user_id\":6892903,\"user\":\"Wilbert_Rodriguez\",\"userImageURL\":\"https://cdn.pixabay.com/user/2020/04/14/20-37-38-471_250x250.jpg\"},{\"id\":1046544,\"pageURL\":\"https://pixabay.com/photos/cat-tabby-feline-face-cat-face-1046544/\",\"type\":\"photo\",\"tags\":\"cat, tabby, feline\",\"previewURL\":\"https://cdn.pixabay.com/photo/2015/11/16/22/14/cat-1046544_150.jpg\",\"previewWidth\":150,\"previewHeight\":111,\"webformatURL\":\"https://pixabay.com/get/gb52d40ca7752a43fc836e6266edc89fef95a0021532589e549968343aaf72f5edf91edac337487d4eb370c2c2c73a2f142a97f3b08f43adc3c2f952003984c49_640.jpg\",\"webformatWidth\":640,\"webformatHeight\":475,\"largeImageURL\":\"https://pixabay.com/get/gaae22cb9fae321cac97721e21c068a4915bde6663b68b4549d8959c06eba0331b74bcd8e3be3144f80f02396f779e78e178447fb845e9ec5bdade6d84a5c9f85_1280.jpg\",\"imageWidth\":3359,\"imageHeight\":2497,\"imageSize\":2806360,\"views\":276418,\"downloads\":163198,\"collections\":604,\"likes\":582,\"comments\":50,\"user_id\":686414,\"user\":\"Alexas_Fotos\",\"userImageURL\":\"https://cdn.pixabay.com/user/2022/07/05/23-09-40-265_250x250.jpg\"}]}'"
   ],
   "metadata": {
    "collapsed": false
   }
  },
  {
   "cell_type": "code",
   "execution_count": 86,
   "outputs": [
    {
     "name": "stdout",
     "output_type": "stream",
     "text": [
      "{'total': 9414, 'totalHits': 500, 'hits': [{'id': 2083492, 'pageURL': 'https://pixabay.com/photos/cat-young-animal-kitten-gray-cat-2083492/', 'type': 'photo', 'tags': 'cat, young animal, nature', 'previewURL': 'https://cdn.pixabay.com/photo/2017/02/20/18/03/cat-2083492_150.jpg', 'previewWidth': 150, 'previewHeight': 91, 'webformatURL': 'https://pixabay.com/get/gedd34bca2703e1ac3c6733b71b4d021184e1f5dcb14fffb01f79cd90dcf1d73d94ba9adfdeffb2f1950e3fd857dc33d8941cef7b234d457d9b586d33faa6bcc8_640.jpg', 'webformatWidth': 640, 'webformatHeight': 390, 'largeImageURL': 'https://pixabay.com/get/g4ccc51a2a2b080491a75f20ab3800dcff14aa0d69f2751e7642d5580cdfdead5fa1e4d1c1c031f89bf5406d4cef51e69445acd424d1b2ada11c4693c9df21f62_1280.jpg', 'imageWidth': 4928, 'imageHeight': 3008, 'imageSize': 4130948, 'views': 1449019, 'downloads': 873720, 'collections': 2478, 'likes': 2731, 'comments': 411, 'user_id': 1777190, 'user': 'susannp4', 'userImageURL': 'https://cdn.pixabay.com/user/2015/12/16/17-56-55-832_250x250.jpg'}, {'id': 551554, 'pageURL': 'https://pixabay.com/photos/cat-kitten-pet-kitty-young-cat-551554/', 'type': 'photo', 'tags': 'cat, kitten, pet', 'previewURL': 'https://cdn.pixabay.com/photo/2014/11/30/14/11/cat-551554_150.jpg', 'previewWidth': 144, 'previewHeight': 150, 'webformatURL': 'https://pixabay.com/get/gf2cb45c9f1c8271dd205fc65130f57831caa1f54782978c30c2649b50c2fddffa15bb1c31e4af76067e201abf32bd859_640.jpg', 'webformatWidth': 613, 'webformatHeight': 640, 'largeImageURL': 'https://pixabay.com/get/ge0c9ffe4e3fbaaaef314b41f5903a9cbc1a5282df6c89163cdca3db1efa13b50821aad392f7fb55ff06c25ce93a573e4370ee1aad8eafe0aa4fc1a66dc3cf3ee_1280.jpg', 'imageWidth': 2392, 'imageHeight': 2500, 'imageSize': 945751, 'views': 1585729, 'downloads': 893911, 'collections': 2122, 'likes': 2768, 'comments': 533, 'user_id': 617282, 'user': 'Ty_Swartz', 'userImageURL': 'https://cdn.pixabay.com/user/2014/11/30/13-45-12-52_250x250.jpg'}, {'id': 2536662, 'pageURL': 'https://pixabay.com/photos/cat-flower-kitten-stone-pet-2536662/', 'type': 'photo', 'tags': 'cat, flower, kitten', 'previewURL': 'https://cdn.pixabay.com/photo/2017/07/25/01/22/cat-2536662_150.jpg', 'previewWidth': 150, 'previewHeight': 99, 'webformatURL': 'https://pixabay.com/get/g3cec84b4a0243614450e855d6e8124334fe7ba2a467b8b1ea0757b69dd14dd04b72a19b15a67dcc69a74e1464361d7ba2e027519a95d0ab52dbe2175f4e61118_640.jpg', 'webformatWidth': 640, 'webformatHeight': 425, 'largeImageURL': 'https://pixabay.com/get/gfb7eb6ca87a39180301d4f5d17b06f0b602fdf08b6b80f6ea943e7206ce96deec3cd529ad2c489be1b9cac8f711a6c77cbb64ce78e60c07e36b7d92c0d3f1baf_1280.jpg', 'imageWidth': 4592, 'imageHeight': 3056, 'imageSize': 3178484, 'views': 1199696, 'downloads': 760839, 'collections': 1961, 'likes': 2355, 'comments': 392, 'user_id': 5987327, 'user': 'Dimhou', 'userImageURL': ''}, {'id': 2934720, 'pageURL': 'https://pixabay.com/photos/cat-kitten-pets-animals-housecat-2934720/', 'type': 'photo', 'tags': 'cat, kitten, animal', 'previewURL': 'https://cdn.pixabay.com/photo/2017/11/09/21/41/cat-2934720_150.jpg', 'previewWidth': 150, 'previewHeight': 99, 'webformatURL': 'https://pixabay.com/get/g94fdc2d9b0bdafda5b9772c1c943edf39d278361d7b5dead988f3f1600f91286a3b8f6b1811b40fa97f4055471788d596506f8dcb10c2669ca57c6bf0b4d4281_640.jpg', 'webformatWidth': 640, 'webformatHeight': 426, 'largeImageURL': 'https://pixabay.com/get/g5c0eeb03e5f6f760ad61939a0540320b19dc0d6b16ebcc5f2f22cf1821d3ad13a063a63382be1bfcb35ec4779ac9e824081e16d2ee9a257304b5dd7f57e8147c_1280.jpg', 'imageWidth': 3495, 'imageHeight': 2330, 'imageSize': 1971228, 'views': 675772, 'downloads': 417297, 'collections': 1320, 'likes': 1541, 'comments': 255, 'user_id': 6995361, 'user': 'Kirgiz03', 'userImageURL': 'https://cdn.pixabay.com/user/2017/11/14/22-33-33-341_250x250.jpg'}, {'id': 4611189, 'pageURL': 'https://pixabay.com/photos/kitten-cat-pet-feline-animal-fur-4611189/', 'type': 'photo', 'tags': 'kitten, cat, pet', 'previewURL': 'https://cdn.pixabay.com/photo/2019/11/08/11/56/kitten-4611189_150.jpg', 'previewWidth': 150, 'previewHeight': 99, 'webformatURL': 'https://pixabay.com/get/g1f47a7c4bc6633e27916183a1c0f62045fbc54c42d742b411db724844b4f655e946e4a52f58d3e5be67e5fa4ae295b20ae0bca1fac4f827ac12b73a1b59de68d_640.jpg', 'webformatWidth': 640, 'webformatHeight': 426, 'largeImageURL': 'https://pixabay.com/get/gd0619e6feae46210146ead220cd0e1c0f230449dff13320648d38eb8ad34259336103ac22ab29945e0804dd9714be33af88f87b2153f373207782a501e9c0fe9_1280.jpg', 'imageWidth': 6000, 'imageHeight': 4000, 'imageSize': 3885974, 'views': 478529, 'downloads': 363253, 'collections': 966, 'likes': 1051, 'comments': 187, 'user_id': 9285194, 'user': 'guvo59', 'userImageURL': 'https://cdn.pixabay.com/user/2023/06/15/05-00-59-993_250x250.jpg'}, {'id': 1455468, 'pageURL': 'https://pixabay.com/photos/cat-face-eyes-portrait-1455468/', 'type': 'photo', 'tags': 'cat, face, eyes', 'previewURL': 'https://cdn.pixabay.com/photo/2016/06/14/00/14/cat-1455468_150.jpg', 'previewWidth': 150, 'previewHeight': 99, 'webformatURL': 'https://pixabay.com/get/gfcefc806b01fdb51c07f1aa0dff55d7e93db83fe07cd0466c125a797d9103c5fdfd27fd3edfadd816f94eb595a207ae5b721bf32b1bedfb32134f15f4835bbb5_640.jpg', 'webformatWidth': 640, 'webformatHeight': 425, 'largeImageURL': 'https://pixabay.com/get/g2ed177a82991918acd4075907a5be0efed05abcff32274b65a0b1924e2c0989e431e505a2f100c374055f4aebbebf057841ef9e6a1d9999f31a1dfb1a0e281bc_1280.jpg', 'imageWidth': 6016, 'imageHeight': 4000, 'imageSize': 9775105, 'views': 346476, 'downloads': 250072, 'collections': 943, 'likes': 872, 'comments': 101, 'user_id': 686414, 'user': 'Alexas_Fotos', 'userImageURL': 'https://cdn.pixabay.com/user/2022/07/05/23-09-40-265_250x250.jpg'}, {'id': 1192026, 'pageURL': 'https://pixabay.com/photos/cat-kitten-pet-striped-young-1192026/', 'type': 'photo', 'tags': 'cat, kitten, pet', 'previewURL': 'https://cdn.pixabay.com/photo/2016/02/10/16/37/cat-1192026_150.jpg', 'previewWidth': 150, 'previewHeight': 112, 'webformatURL': 'https://pixabay.com/get/g528d5db8058c9556ce24bca52d43d61750163e10467d17e068fd8dbd1a7ee459949e49195615f06c58240d8cff8c5fb6565ad95ad6d7cc2bbb48556b3a3e3865_640.jpg', 'webformatWidth': 640, 'webformatHeight': 480, 'largeImageURL': 'https://pixabay.com/get/g40099d9776daff7337b320a9abe5ac3a0e99233fcaebaa2f8b91cf7adf9129ea35e85da91ced0dd387f3160f30b0f641eeea96a6ac609bf3916eadf709f3d69b_1280.jpg', 'imageWidth': 2560, 'imageHeight': 1920, 'imageSize': 909777, 'views': 522065, 'downloads': 324006, 'collections': 990, 'likes': 1008, 'comments': 150, 'user_id': 1892688, 'user': 'Chiemsee2024', 'userImageURL': 'https://cdn.pixabay.com/user/2022/05/10/07-03-44-588_250x250.jpg'}, {'id': 1285341, 'pageURL': 'https://pixabay.com/photos/kitten-white-cat-cute-domestic-1285341/', 'type': 'photo', 'tags': 'kitten, white, cat', 'previewURL': 'https://cdn.pixabay.com/photo/2016/03/28/10/05/kitten-1285341_150.jpg', 'previewWidth': 150, 'previewHeight': 99, 'webformatURL': 'https://pixabay.com/get/ge84efccc2fd5cdf015cc0228f77931c88c1b5f0431f2c67d2f036da5c0b098305ee3643ca995c57dc8609d93380b6a0371880afda071e77a489a29a0896dd4c8_640.jpg', 'webformatWidth': 640, 'webformatHeight': 423, 'largeImageURL': 'https://pixabay.com/get/g4c0639664cb3a60bad4f8193ae754ec54dd1d4712e01db22dd61a4ccd367ad0079084b5266a303fa81f02eb60cdcb616da0b8152129797e81f82a353afcc4bc2_1280.jpg', 'imageWidth': 4928, 'imageHeight': 3264, 'imageSize': 3983011, 'views': 295138, 'downloads': 200954, 'collections': 694, 'likes': 854, 'comments': 100, 'user_id': 2286921, 'user': 'Pexels', 'userImageURL': 'https://cdn.pixabay.com/user/2016/03/26/22-06-36-459_250x250.jpg'}, {'id': 2948404, 'pageURL': 'https://pixabay.com/photos/kitty-playful-flowers-wildflowers-2948404/', 'type': 'photo', 'tags': 'kitty, playful, flowers', 'previewURL': 'https://cdn.pixabay.com/photo/2017/11/14/13/06/kitty-2948404_150.jpg', 'previewWidth': 150, 'previewHeight': 101, 'webformatURL': 'https://pixabay.com/get/g2858eca681b9dc416784ef57130c1a7dbf58314564f712e790a616e31926b8c8f92e8b758746743c2ff43a3ef2e0f984980b8ff35f49742ced227ef5f2de4212_640.jpg', 'webformatWidth': 640, 'webformatHeight': 433, 'largeImageURL': 'https://pixabay.com/get/gfc11007e836d6f7bd421bc06af96933a29b160721a37e2139d394ec6175c78795858f6fb20dc0de01b3147d12421adf3c527cf0b055f0b66e05945cba8e9bb67_1280.jpg', 'imageWidth': 4056, 'imageHeight': 2746, 'imageSize': 3464997, 'views': 763298, 'downloads': 511733, 'collections': 1052, 'likes': 1309, 'comments': 175, 'user_id': 3558510, 'user': 'IlonaBurschl', 'userImageURL': 'https://cdn.pixabay.com/user/2022/05/30/08-07-40-119_250x250.jpg'}, {'id': 1647775, 'pageURL': 'https://pixabay.com/photos/cat-kitten-tree-curious-tabby-1647775/', 'type': 'photo', 'tags': 'cat, kitten, tree', 'previewURL': 'https://cdn.pixabay.com/photo/2016/09/05/21/37/cat-1647775_150.jpg', 'previewWidth': 150, 'previewHeight': 99, 'webformatURL': 'https://pixabay.com/get/g2a4ab0ddfb5813d57de4f782ea2e5a2140e6e102d8f85c6e89c14b606a16959ff9a93ab92735510f8986d02e77342bcf7580112f231d9fa20e375f19090dcd22_640.jpg', 'webformatWidth': 640, 'webformatHeight': 426, 'largeImageURL': 'https://pixabay.com/get/gaff30bc14508441cc4a660105b57bf8d69dc33ab7627bf0705a43e2bd34d1e2eee28548702fc8b208f99b4e4b2a5eb12105d09c988b4a5b6a0cfc0a5f59f1a45_1280.jpg', 'imageWidth': 4800, 'imageHeight': 3200, 'imageSize': 2329880, 'views': 384850, 'downloads': 259547, 'collections': 856, 'likes': 978, 'comments': 121, 'user_id': 778429, 'user': 'Kessa', 'userImageURL': ''}, {'id': 1941089, 'pageURL': 'https://pixabay.com/photos/cat-kitten-cute-sleeping-asleep-1941089/', 'type': 'photo', 'tags': 'cat, kitten, cute', 'previewURL': 'https://cdn.pixabay.com/photo/2016/12/30/17/27/cat-1941089_150.jpg', 'previewWidth': 150, 'previewHeight': 99, 'webformatURL': 'https://pixabay.com/get/g348bcdc19f2ab472d6c0e340715d98891a472f0404892bf7546d23e6fe869d523cd9ca52914a0c38bd7941287ddfc4fcc5287eb56966c79980d5a590455325ae_640.jpg', 'webformatWidth': 640, 'webformatHeight': 426, 'largeImageURL': 'https://pixabay.com/get/g9d2d0446a47b4a5854766ded304c5d65f839c59e582dea2db826099b0f54cdc9e5939c2142597acfcd20d4f68a878269a2c578629788474d05b25ba1f26b156f_1280.jpg', 'imageWidth': 5944, 'imageHeight': 3963, 'imageSize': 4117102, 'views': 203686, 'downloads': 142417, 'collections': 537, 'likes': 544, 'comments': 67, 'user_id': 2011986, 'user': 'super-mapio', 'userImageURL': 'https://cdn.pixabay.com/user/2020/04/25/20-45-41-529_250x250.jpg'}, {'id': 3669244, 'pageURL': 'https://pixabay.com/photos/animal-kitten-cat-pet-nature-3669244/', 'type': 'photo', 'tags': 'animal, kitten, cat', 'previewURL': 'https://cdn.pixabay.com/photo/2018/09/11/11/47/animal-3669244_150.jpg', 'previewWidth': 150, 'previewHeight': 100, 'webformatURL': 'https://pixabay.com/get/gf72bc58ffdf11ea19f16af593198edd8dd58d4038cd87d3cdd52b63c22361597bb0f72d6d8d6bc2452c13e2224be2c377885ee39a0db3a607c3465fde0f6c722_640.jpg', 'webformatWidth': 640, 'webformatHeight': 427, 'largeImageURL': 'https://pixabay.com/get/gc587fe2b017956e7abb6d60da2c3c8843a5900b2c483cd24633d1436ebd59d2230f47471ee9b0755d2f898313e7800a9438fd31e620af633c179c159d1c10580_1280.jpg', 'imageWidth': 5000, 'imageHeight': 3337, 'imageSize': 4405141, 'views': 73852, 'downloads': 53848, 'collections': 329, 'likes': 331, 'comments': 44, 'user_id': 8915859, 'user': 'imazite', 'userImageURL': 'https://cdn.pixabay.com/user/2018/05/06/10-42-53-270_250x250.jpg'}, {'id': 2068462, 'pageURL': 'https://pixabay.com/photos/cat-siamese-cat-fur-kitten-2068462/', 'type': 'photo', 'tags': 'cat, siamese cat, pet', 'previewURL': 'https://cdn.pixabay.com/photo/2017/02/15/12/12/cat-2068462_150.jpg', 'previewWidth': 150, 'previewHeight': 99, 'webformatURL': 'https://pixabay.com/get/g58c33d3b07a45c2a4c4150db364f6fcc92a702139240a2be236d0dc65a411070b58a015f54395ebabf1d9393bcb5f399094f7f52e318091fb5b04cb07fcff949_640.jpg', 'webformatWidth': 640, 'webformatHeight': 426, 'largeImageURL': 'https://pixabay.com/get/g2332a39a42c18246cbeabbae53a8bc9141168c48a36a3d0df55b7146c9439ccc861df3221e7f570c13614a1998353204b1e4f1c96786edf28bd79435186daef0_1280.jpg', 'imageWidth': 4156, 'imageHeight': 2771, 'imageSize': 1966637, 'views': 242365, 'downloads': 152831, 'collections': 670, 'likes': 704, 'comments': 200, 'user_id': 1460261, 'user': 'webandi', 'userImageURL': 'https://cdn.pixabay.com/user/2020/02/17/17-24-14-812_250x250.jpg'}, {'id': 4894153, 'pageURL': 'https://pixabay.com/photos/cat-kitten-feline-pet-animal-4894153/', 'type': 'photo', 'tags': 'cat, kitten, feline', 'previewURL': 'https://cdn.pixabay.com/photo/2020/03/01/21/12/cat-4894153_150.jpg', 'previewWidth': 150, 'previewHeight': 107, 'webformatURL': 'https://pixabay.com/get/g9162ca98de3647ffc4dea6f6ae849928c2abbf468afd074cc79aace4dd81631fefce47bacd678d626e5aaf989dfff2ad5ab73856c22f82b965eae37f00d4f8c7_640.jpg', 'webformatWidth': 640, 'webformatHeight': 458, 'largeImageURL': 'https://pixabay.com/get/g7932d1f01b17de7a004c61d31291b1002532054469f0796d7c08fe16534c543eaa1f942319f8198a7149e6567e071c7ac8b82433e7d97d0dcb368489556cbf14_1280.jpg', 'imageWidth': 3323, 'imageHeight': 2377, 'imageSize': 1463186, 'views': 56715, 'downloads': 37685, 'collections': 297, 'likes': 318, 'comments': 64, 'user_id': 15333183, 'user': 'MissKaiser', 'userImageURL': 'https://cdn.pixabay.com/user/2020/08/16/19-23-43-909_250x250.jpg'}, {'id': 4558651, 'pageURL': 'https://pixabay.com/photos/cat-kitten-pet-animal-mammal-fur-4558651/', 'type': 'photo', 'tags': 'cat, kitten, pet', 'previewURL': 'https://cdn.pixabay.com/photo/2019/10/18/09/29/cat-4558651_150.jpg', 'previewWidth': 150, 'previewHeight': 99, 'webformatURL': 'https://pixabay.com/get/gf8386d40a22da961674b6693344ddb198cc57aac9cf020bf402f5c7d1b25845e2ad0e26fbb325eb65e3e2b2d7ecd7e0d5966d49d98d3a635aa07e6f0d9a3fc41_640.jpg', 'webformatWidth': 640, 'webformatHeight': 426, 'largeImageURL': 'https://pixabay.com/get/g0a716f3b2abe22e6ffec286537e08fc11be42e74c0e843988c1be7bb7478c3b42e70f37aae3903d65e1d3fb2f0e95f9508df2a487ff7b338963e3f4e28bd66b2_1280.jpg', 'imageWidth': 5646, 'imageHeight': 3764, 'imageSize': 2691045, 'views': 88701, 'downloads': 65299, 'collections': 266, 'likes': 290, 'comments': 47, 'user_id': 7214328, 'user': 'Leuchtturm81', 'userImageURL': 'https://cdn.pixabay.com/user/2019/07/02/07-09-46-504_250x250.jpg'}, {'id': 529013, 'pageURL': 'https://pixabay.com/photos/girl-child-flowers-cat-kitten-529013/', 'type': 'photo', 'tags': 'girl, child, flowers', 'previewURL': 'https://cdn.pixabay.com/photo/2014/11/13/02/53/girl-529013_150.jpg', 'previewWidth': 150, 'previewHeight': 95, 'webformatURL': 'https://pixabay.com/get/gcf3a4aaf4e8d341b0b32db6c9c3e90766e65c3afa3a13138d9b54d0b295117329c60757773326e96e2afe6f816e593f4_640.jpg', 'webformatWidth': 640, 'webformatHeight': 407, 'largeImageURL': 'https://pixabay.com/get/g8844c856bb49b16c2a6994e1caf736195533f53c3aed41c3c195fbbdcd5baf92ba0c7f2bbee4d3648f1ee263b6971f3151cbde2fffd057c18e8a892621cd9d0d_1280.jpg', 'imageWidth': 2000, 'imageHeight': 1272, 'imageSize': 940596, 'views': 397338, 'downloads': 238308, 'collections': 760, 'likes': 837, 'comments': 137, 'user_id': 406384, 'user': 'ThePixelman', 'userImageURL': 'https://cdn.pixabay.com/user/2015/01/04/04-24-16-372_250x250.jpg'}, {'id': 3266673, 'pageURL': 'https://pixabay.com/photos/cat-sad-cute-small-sweet-pet-3266673/', 'type': 'photo', 'tags': 'cat, sad, cute', 'previewURL': 'https://cdn.pixabay.com/photo/2018/03/27/17/25/cat-3266673_150.jpg', 'previewWidth': 150, 'previewHeight': 99, 'webformatURL': 'https://pixabay.com/get/g6caca951d9c48b2ba9ced2e6f2a4b65074bd27552e02cd5c4fa2b82d2af286d84f40b1d80c425a71854fe69ccdec11bf09d86e6a8a7366ba334461035c6b4d85_640.jpg', 'webformatWidth': 640, 'webformatHeight': 426, 'largeImageURL': 'https://pixabay.com/get/g252f61bdf842431033e2567db00333c552a2d7ceea7866a2c4318102a39421617bd7bcc02a9f25fc0e843d81860a52315f9db5fe33c96a3a8d8510570694e590_1280.jpg', 'imageWidth': 4681, 'imageHeight': 3121, 'imageSize': 3551978, 'views': 223068, 'downloads': 147536, 'collections': 486, 'likes': 600, 'comments': 80, 'user_id': 7201644, 'user': 'Quangpraha', 'userImageURL': 'https://cdn.pixabay.com/user/2017/11/28/12-45-12-473_250x250.jpg'}, {'id': 1845789, 'pageURL': 'https://pixabay.com/photos/kitten-basket-pet-adorable-animal-1845789/', 'type': 'photo', 'tags': 'kitten, basket, pet', 'previewURL': 'https://cdn.pixabay.com/photo/2016/11/21/14/47/kitten-1845789_150.jpg', 'previewWidth': 150, 'previewHeight': 99, 'webformatURL': 'https://pixabay.com/get/g8760cb3d965db62ed8e8b8f2db74122f90d0426e5c3aa3a808751993683d9094b274513b07068870aa1fa11b66644420daa69703bc2e2fe5be886b53c7da7560_640.jpg', 'webformatWidth': 640, 'webformatHeight': 426, 'largeImageURL': 'https://pixabay.com/get/gcfeba532f5411f0eba5634d3410264a2893a3d63433abbae2fb797f058ce1a6dc87a910f803937bc1c66a475112c34a42310f5149575ad311aa94a4317fb96e0_1280.jpg', 'imageWidth': 5197, 'imageHeight': 3465, 'imageSize': 3515435, 'views': 172262, 'downloads': 119137, 'collections': 424, 'likes': 478, 'comments': 53, 'user_id': 2286921, 'user': 'Pexels', 'userImageURL': 'https://cdn.pixabay.com/user/2016/03/26/22-06-36-459_250x250.jpg'}, {'id': 3442257, 'pageURL': 'https://pixabay.com/photos/kitten-cat-pet-feline-animal-fur-3442257/', 'type': 'photo', 'tags': 'kitten, cat, pet', 'previewURL': 'https://cdn.pixabay.com/photo/2018/05/30/19/29/kitten-3442257_150.jpg', 'previewWidth': 150, 'previewHeight': 102, 'webformatURL': 'https://pixabay.com/get/gb21c19b9c0f287cf29999fec38ef741e3a35a0c29a5686f758d761cef28afeebd1131892dc5545cdf1f8f4bd3de79179587eaa1b9ece3eaf11ea81ea4bf974f0_640.jpg', 'webformatWidth': 640, 'webformatHeight': 439, 'largeImageURL': 'https://pixabay.com/get/g1443f0c49e5ff4193b2e2bea2ea6955a9414ff196741ddd9292bf948635ad59ce14e2f37b212b21a1539da39661e06a69010a889ab33482adc28cf0338bb381b_1280.jpg', 'imageWidth': 4469, 'imageHeight': 3068, 'imageSize': 2531915, 'views': 99454, 'downloads': 69787, 'collections': 278, 'likes': 344, 'comments': 26, 'user_id': 6892903, 'user': 'Wilbert_Rodriguez', 'userImageURL': 'https://cdn.pixabay.com/user/2020/04/14/20-37-38-471_250x250.jpg'}, {'id': 1046544, 'pageURL': 'https://pixabay.com/photos/cat-tabby-feline-face-cat-face-1046544/', 'type': 'photo', 'tags': 'cat, tabby, feline', 'previewURL': 'https://cdn.pixabay.com/photo/2015/11/16/22/14/cat-1046544_150.jpg', 'previewWidth': 150, 'previewHeight': 111, 'webformatURL': 'https://pixabay.com/get/gb52d40ca7752a43fc836e6266edc89fef95a0021532589e549968343aaf72f5edf91edac337487d4eb370c2c2c73a2f142a97f3b08f43adc3c2f952003984c49_640.jpg', 'webformatWidth': 640, 'webformatHeight': 475, 'largeImageURL': 'https://pixabay.com/get/gaae22cb9fae321cac97721e21c068a4915bde6663b68b4549d8959c06eba0331b74bcd8e3be3144f80f02396f779e78e178447fb845e9ec5bdade6d84a5c9f85_1280.jpg', 'imageWidth': 3359, 'imageHeight': 2497, 'imageSize': 2806360, 'views': 276418, 'downloads': 163198, 'collections': 604, 'likes': 582, 'comments': 50, 'user_id': 686414, 'user': 'Alexas_Fotos', 'userImageURL': 'https://cdn.pixabay.com/user/2022/07/05/23-09-40-265_250x250.jpg'}]}\n"
     ]
    }
   ],
   "source": [
    "import json\n",
    "\n",
    "data = json.loads(response_text)\n",
    "print(data)"
   ],
   "metadata": {
    "collapsed": false
   }
  },
  {
   "cell_type": "code",
   "execution_count": 87,
   "outputs": [
    {
     "name": "stdout",
     "output_type": "stream",
     "text": [
      "dict_keys(['total', 'totalHits', 'hits'])\n"
     ]
    }
   ],
   "source": [
    "print(data.keys())"
   ],
   "metadata": {
    "collapsed": false
   }
  },
  {
   "cell_type": "code",
   "execution_count": 88,
   "outputs": [],
   "source": [
    "from pprint import pprint"
   ],
   "metadata": {
    "collapsed": false
   }
  },
  {
   "cell_type": "code",
   "execution_count": 90,
   "outputs": [
    {
     "name": "stdout",
     "output_type": "stream",
     "text": [
      "{'hits': [{'collections': 2478,\n",
      "           'comments': 411,\n",
      "           'downloads': 873720,\n",
      "           'id': 2083492,\n",
      "           'imageHeight': 3008,\n",
      "           'imageSize': 4130948,\n",
      "           'imageWidth': 4928,\n",
      "           'largeImageURL': 'https://pixabay.com/get/g4ccc51a2a2b080491a75f20ab3800dcff14aa0d69f2751e7642d5580cdfdead5fa1e4d1c1c031f89bf5406d4cef51e69445acd424d1b2ada11c4693c9df21f62_1280.jpg',\n",
      "           'likes': 2731,\n",
      "           'pageURL': 'https://pixabay.com/photos/cat-young-animal-kitten-gray-cat-2083492/',\n",
      "           'previewHeight': 91,\n",
      "           'previewURL': 'https://cdn.pixabay.com/photo/2017/02/20/18/03/cat-2083492_150.jpg',\n",
      "           'previewWidth': 150,\n",
      "           'tags': 'cat, young animal, nature',\n",
      "           'type': 'photo',\n",
      "           'user': 'susannp4',\n",
      "           'userImageURL': 'https://cdn.pixabay.com/user/2015/12/16/17-56-55-832_250x250.jpg',\n",
      "           'user_id': 1777190,\n",
      "           'views': 1449019,\n",
      "           'webformatHeight': 390,\n",
      "           'webformatURL': 'https://pixabay.com/get/gedd34bca2703e1ac3c6733b71b4d021184e1f5dcb14fffb01f79cd90dcf1d73d94ba9adfdeffb2f1950e3fd857dc33d8941cef7b234d457d9b586d33faa6bcc8_640.jpg',\n",
      "           'webformatWidth': 640},\n",
      "          {'collections': 2122,\n",
      "           'comments': 533,\n",
      "           'downloads': 893911,\n",
      "           'id': 551554,\n",
      "           'imageHeight': 2500,\n",
      "           'imageSize': 945751,\n",
      "           'imageWidth': 2392,\n",
      "           'largeImageURL': 'https://pixabay.com/get/ge0c9ffe4e3fbaaaef314b41f5903a9cbc1a5282df6c89163cdca3db1efa13b50821aad392f7fb55ff06c25ce93a573e4370ee1aad8eafe0aa4fc1a66dc3cf3ee_1280.jpg',\n",
      "           'likes': 2768,\n",
      "           'pageURL': 'https://pixabay.com/photos/cat-kitten-pet-kitty-young-cat-551554/',\n",
      "           'previewHeight': 150,\n",
      "           'previewURL': 'https://cdn.pixabay.com/photo/2014/11/30/14/11/cat-551554_150.jpg',\n",
      "           'previewWidth': 144,\n",
      "           'tags': 'cat, kitten, pet',\n",
      "           'type': 'photo',\n",
      "           'user': 'Ty_Swartz',\n",
      "           'userImageURL': 'https://cdn.pixabay.com/user/2014/11/30/13-45-12-52_250x250.jpg',\n",
      "           'user_id': 617282,\n",
      "           'views': 1585729,\n",
      "           'webformatHeight': 640,\n",
      "           'webformatURL': 'https://pixabay.com/get/gf2cb45c9f1c8271dd205fc65130f57831caa1f54782978c30c2649b50c2fddffa15bb1c31e4af76067e201abf32bd859_640.jpg',\n",
      "           'webformatWidth': 613},\n",
      "          {'collections': 1961,\n",
      "           'comments': 392,\n",
      "           'downloads': 760839,\n",
      "           'id': 2536662,\n",
      "           'imageHeight': 3056,\n",
      "           'imageSize': 3178484,\n",
      "           'imageWidth': 4592,\n",
      "           'largeImageURL': 'https://pixabay.com/get/gfb7eb6ca87a39180301d4f5d17b06f0b602fdf08b6b80f6ea943e7206ce96deec3cd529ad2c489be1b9cac8f711a6c77cbb64ce78e60c07e36b7d92c0d3f1baf_1280.jpg',\n",
      "           'likes': 2355,\n",
      "           'pageURL': 'https://pixabay.com/photos/cat-flower-kitten-stone-pet-2536662/',\n",
      "           'previewHeight': 99,\n",
      "           'previewURL': 'https://cdn.pixabay.com/photo/2017/07/25/01/22/cat-2536662_150.jpg',\n",
      "           'previewWidth': 150,\n",
      "           'tags': 'cat, flower, kitten',\n",
      "           'type': 'photo',\n",
      "           'user': 'Dimhou',\n",
      "           'userImageURL': '',\n",
      "           'user_id': 5987327,\n",
      "           'views': 1199696,\n",
      "           'webformatHeight': 425,\n",
      "           'webformatURL': 'https://pixabay.com/get/g3cec84b4a0243614450e855d6e8124334fe7ba2a467b8b1ea0757b69dd14dd04b72a19b15a67dcc69a74e1464361d7ba2e027519a95d0ab52dbe2175f4e61118_640.jpg',\n",
      "           'webformatWidth': 640},\n",
      "          {'collections': 1320,\n",
      "           'comments': 255,\n",
      "           'downloads': 417297,\n",
      "           'id': 2934720,\n",
      "           'imageHeight': 2330,\n",
      "           'imageSize': 1971228,\n",
      "           'imageWidth': 3495,\n",
      "           'largeImageURL': 'https://pixabay.com/get/g5c0eeb03e5f6f760ad61939a0540320b19dc0d6b16ebcc5f2f22cf1821d3ad13a063a63382be1bfcb35ec4779ac9e824081e16d2ee9a257304b5dd7f57e8147c_1280.jpg',\n",
      "           'likes': 1541,\n",
      "           'pageURL': 'https://pixabay.com/photos/cat-kitten-pets-animals-housecat-2934720/',\n",
      "           'previewHeight': 99,\n",
      "           'previewURL': 'https://cdn.pixabay.com/photo/2017/11/09/21/41/cat-2934720_150.jpg',\n",
      "           'previewWidth': 150,\n",
      "           'tags': 'cat, kitten, animal',\n",
      "           'type': 'photo',\n",
      "           'user': 'Kirgiz03',\n",
      "           'userImageURL': 'https://cdn.pixabay.com/user/2017/11/14/22-33-33-341_250x250.jpg',\n",
      "           'user_id': 6995361,\n",
      "           'views': 675772,\n",
      "           'webformatHeight': 426,\n",
      "           'webformatURL': 'https://pixabay.com/get/g94fdc2d9b0bdafda5b9772c1c943edf39d278361d7b5dead988f3f1600f91286a3b8f6b1811b40fa97f4055471788d596506f8dcb10c2669ca57c6bf0b4d4281_640.jpg',\n",
      "           'webformatWidth': 640},\n",
      "          {'collections': 966,\n",
      "           'comments': 187,\n",
      "           'downloads': 363253,\n",
      "           'id': 4611189,\n",
      "           'imageHeight': 4000,\n",
      "           'imageSize': 3885974,\n",
      "           'imageWidth': 6000,\n",
      "           'largeImageURL': 'https://pixabay.com/get/gd0619e6feae46210146ead220cd0e1c0f230449dff13320648d38eb8ad34259336103ac22ab29945e0804dd9714be33af88f87b2153f373207782a501e9c0fe9_1280.jpg',\n",
      "           'likes': 1051,\n",
      "           'pageURL': 'https://pixabay.com/photos/kitten-cat-pet-feline-animal-fur-4611189/',\n",
      "           'previewHeight': 99,\n",
      "           'previewURL': 'https://cdn.pixabay.com/photo/2019/11/08/11/56/kitten-4611189_150.jpg',\n",
      "           'previewWidth': 150,\n",
      "           'tags': 'kitten, cat, pet',\n",
      "           'type': 'photo',\n",
      "           'user': 'guvo59',\n",
      "           'userImageURL': 'https://cdn.pixabay.com/user/2023/06/15/05-00-59-993_250x250.jpg',\n",
      "           'user_id': 9285194,\n",
      "           'views': 478529,\n",
      "           'webformatHeight': 426,\n",
      "           'webformatURL': 'https://pixabay.com/get/g1f47a7c4bc6633e27916183a1c0f62045fbc54c42d742b411db724844b4f655e946e4a52f58d3e5be67e5fa4ae295b20ae0bca1fac4f827ac12b73a1b59de68d_640.jpg',\n",
      "           'webformatWidth': 640},\n",
      "          {'collections': 943,\n",
      "           'comments': 101,\n",
      "           'downloads': 250072,\n",
      "           'id': 1455468,\n",
      "           'imageHeight': 4000,\n",
      "           'imageSize': 9775105,\n",
      "           'imageWidth': 6016,\n",
      "           'largeImageURL': 'https://pixabay.com/get/g2ed177a82991918acd4075907a5be0efed05abcff32274b65a0b1924e2c0989e431e505a2f100c374055f4aebbebf057841ef9e6a1d9999f31a1dfb1a0e281bc_1280.jpg',\n",
      "           'likes': 872,\n",
      "           'pageURL': 'https://pixabay.com/photos/cat-face-eyes-portrait-1455468/',\n",
      "           'previewHeight': 99,\n",
      "           'previewURL': 'https://cdn.pixabay.com/photo/2016/06/14/00/14/cat-1455468_150.jpg',\n",
      "           'previewWidth': 150,\n",
      "           'tags': 'cat, face, eyes',\n",
      "           'type': 'photo',\n",
      "           'user': 'Alexas_Fotos',\n",
      "           'userImageURL': 'https://cdn.pixabay.com/user/2022/07/05/23-09-40-265_250x250.jpg',\n",
      "           'user_id': 686414,\n",
      "           'views': 346476,\n",
      "           'webformatHeight': 425,\n",
      "           'webformatURL': 'https://pixabay.com/get/gfcefc806b01fdb51c07f1aa0dff55d7e93db83fe07cd0466c125a797d9103c5fdfd27fd3edfadd816f94eb595a207ae5b721bf32b1bedfb32134f15f4835bbb5_640.jpg',\n",
      "           'webformatWidth': 640},\n",
      "          {'collections': 990,\n",
      "           'comments': 150,\n",
      "           'downloads': 324006,\n",
      "           'id': 1192026,\n",
      "           'imageHeight': 1920,\n",
      "           'imageSize': 909777,\n",
      "           'imageWidth': 2560,\n",
      "           'largeImageURL': 'https://pixabay.com/get/g40099d9776daff7337b320a9abe5ac3a0e99233fcaebaa2f8b91cf7adf9129ea35e85da91ced0dd387f3160f30b0f641eeea96a6ac609bf3916eadf709f3d69b_1280.jpg',\n",
      "           'likes': 1008,\n",
      "           'pageURL': 'https://pixabay.com/photos/cat-kitten-pet-striped-young-1192026/',\n",
      "           'previewHeight': 112,\n",
      "           'previewURL': 'https://cdn.pixabay.com/photo/2016/02/10/16/37/cat-1192026_150.jpg',\n",
      "           'previewWidth': 150,\n",
      "           'tags': 'cat, kitten, pet',\n",
      "           'type': 'photo',\n",
      "           'user': 'Chiemsee2024',\n",
      "           'userImageURL': 'https://cdn.pixabay.com/user/2022/05/10/07-03-44-588_250x250.jpg',\n",
      "           'user_id': 1892688,\n",
      "           'views': 522065,\n",
      "           'webformatHeight': 480,\n",
      "           'webformatURL': 'https://pixabay.com/get/g528d5db8058c9556ce24bca52d43d61750163e10467d17e068fd8dbd1a7ee459949e49195615f06c58240d8cff8c5fb6565ad95ad6d7cc2bbb48556b3a3e3865_640.jpg',\n",
      "           'webformatWidth': 640},\n",
      "          {'collections': 694,\n",
      "           'comments': 100,\n",
      "           'downloads': 200954,\n",
      "           'id': 1285341,\n",
      "           'imageHeight': 3264,\n",
      "           'imageSize': 3983011,\n",
      "           'imageWidth': 4928,\n",
      "           'largeImageURL': 'https://pixabay.com/get/g4c0639664cb3a60bad4f8193ae754ec54dd1d4712e01db22dd61a4ccd367ad0079084b5266a303fa81f02eb60cdcb616da0b8152129797e81f82a353afcc4bc2_1280.jpg',\n",
      "           'likes': 854,\n",
      "           'pageURL': 'https://pixabay.com/photos/kitten-white-cat-cute-domestic-1285341/',\n",
      "           'previewHeight': 99,\n",
      "           'previewURL': 'https://cdn.pixabay.com/photo/2016/03/28/10/05/kitten-1285341_150.jpg',\n",
      "           'previewWidth': 150,\n",
      "           'tags': 'kitten, white, cat',\n",
      "           'type': 'photo',\n",
      "           'user': 'Pexels',\n",
      "           'userImageURL': 'https://cdn.pixabay.com/user/2016/03/26/22-06-36-459_250x250.jpg',\n",
      "           'user_id': 2286921,\n",
      "           'views': 295138,\n",
      "           'webformatHeight': 423,\n",
      "           'webformatURL': 'https://pixabay.com/get/ge84efccc2fd5cdf015cc0228f77931c88c1b5f0431f2c67d2f036da5c0b098305ee3643ca995c57dc8609d93380b6a0371880afda071e77a489a29a0896dd4c8_640.jpg',\n",
      "           'webformatWidth': 640},\n",
      "          {'collections': 1052,\n",
      "           'comments': 175,\n",
      "           'downloads': 511733,\n",
      "           'id': 2948404,\n",
      "           'imageHeight': 2746,\n",
      "           'imageSize': 3464997,\n",
      "           'imageWidth': 4056,\n",
      "           'largeImageURL': 'https://pixabay.com/get/gfc11007e836d6f7bd421bc06af96933a29b160721a37e2139d394ec6175c78795858f6fb20dc0de01b3147d12421adf3c527cf0b055f0b66e05945cba8e9bb67_1280.jpg',\n",
      "           'likes': 1309,\n",
      "           'pageURL': 'https://pixabay.com/photos/kitty-playful-flowers-wildflowers-2948404/',\n",
      "           'previewHeight': 101,\n",
      "           'previewURL': 'https://cdn.pixabay.com/photo/2017/11/14/13/06/kitty-2948404_150.jpg',\n",
      "           'previewWidth': 150,\n",
      "           'tags': 'kitty, playful, flowers',\n",
      "           'type': 'photo',\n",
      "           'user': 'IlonaBurschl',\n",
      "           'userImageURL': 'https://cdn.pixabay.com/user/2022/05/30/08-07-40-119_250x250.jpg',\n",
      "           'user_id': 3558510,\n",
      "           'views': 763298,\n",
      "           'webformatHeight': 433,\n",
      "           'webformatURL': 'https://pixabay.com/get/g2858eca681b9dc416784ef57130c1a7dbf58314564f712e790a616e31926b8c8f92e8b758746743c2ff43a3ef2e0f984980b8ff35f49742ced227ef5f2de4212_640.jpg',\n",
      "           'webformatWidth': 640},\n",
      "          {'collections': 856,\n",
      "           'comments': 121,\n",
      "           'downloads': 259547,\n",
      "           'id': 1647775,\n",
      "           'imageHeight': 3200,\n",
      "           'imageSize': 2329880,\n",
      "           'imageWidth': 4800,\n",
      "           'largeImageURL': 'https://pixabay.com/get/gaff30bc14508441cc4a660105b57bf8d69dc33ab7627bf0705a43e2bd34d1e2eee28548702fc8b208f99b4e4b2a5eb12105d09c988b4a5b6a0cfc0a5f59f1a45_1280.jpg',\n",
      "           'likes': 978,\n",
      "           'pageURL': 'https://pixabay.com/photos/cat-kitten-tree-curious-tabby-1647775/',\n",
      "           'previewHeight': 99,\n",
      "           'previewURL': 'https://cdn.pixabay.com/photo/2016/09/05/21/37/cat-1647775_150.jpg',\n",
      "           'previewWidth': 150,\n",
      "           'tags': 'cat, kitten, tree',\n",
      "           'type': 'photo',\n",
      "           'user': 'Kessa',\n",
      "           'userImageURL': '',\n",
      "           'user_id': 778429,\n",
      "           'views': 384850,\n",
      "           'webformatHeight': 426,\n",
      "           'webformatURL': 'https://pixabay.com/get/g2a4ab0ddfb5813d57de4f782ea2e5a2140e6e102d8f85c6e89c14b606a16959ff9a93ab92735510f8986d02e77342bcf7580112f231d9fa20e375f19090dcd22_640.jpg',\n",
      "           'webformatWidth': 640},\n",
      "          {'collections': 537,\n",
      "           'comments': 67,\n",
      "           'downloads': 142417,\n",
      "           'id': 1941089,\n",
      "           'imageHeight': 3963,\n",
      "           'imageSize': 4117102,\n",
      "           'imageWidth': 5944,\n",
      "           'largeImageURL': 'https://pixabay.com/get/g9d2d0446a47b4a5854766ded304c5d65f839c59e582dea2db826099b0f54cdc9e5939c2142597acfcd20d4f68a878269a2c578629788474d05b25ba1f26b156f_1280.jpg',\n",
      "           'likes': 544,\n",
      "           'pageURL': 'https://pixabay.com/photos/cat-kitten-cute-sleeping-asleep-1941089/',\n",
      "           'previewHeight': 99,\n",
      "           'previewURL': 'https://cdn.pixabay.com/photo/2016/12/30/17/27/cat-1941089_150.jpg',\n",
      "           'previewWidth': 150,\n",
      "           'tags': 'cat, kitten, cute',\n",
      "           'type': 'photo',\n",
      "           'user': 'super-mapio',\n",
      "           'userImageURL': 'https://cdn.pixabay.com/user/2020/04/25/20-45-41-529_250x250.jpg',\n",
      "           'user_id': 2011986,\n",
      "           'views': 203686,\n",
      "           'webformatHeight': 426,\n",
      "           'webformatURL': 'https://pixabay.com/get/g348bcdc19f2ab472d6c0e340715d98891a472f0404892bf7546d23e6fe869d523cd9ca52914a0c38bd7941287ddfc4fcc5287eb56966c79980d5a590455325ae_640.jpg',\n",
      "           'webformatWidth': 640},\n",
      "          {'collections': 329,\n",
      "           'comments': 44,\n",
      "           'downloads': 53848,\n",
      "           'id': 3669244,\n",
      "           'imageHeight': 3337,\n",
      "           'imageSize': 4405141,\n",
      "           'imageWidth': 5000,\n",
      "           'largeImageURL': 'https://pixabay.com/get/gc587fe2b017956e7abb6d60da2c3c8843a5900b2c483cd24633d1436ebd59d2230f47471ee9b0755d2f898313e7800a9438fd31e620af633c179c159d1c10580_1280.jpg',\n",
      "           'likes': 331,\n",
      "           'pageURL': 'https://pixabay.com/photos/animal-kitten-cat-pet-nature-3669244/',\n",
      "           'previewHeight': 100,\n",
      "           'previewURL': 'https://cdn.pixabay.com/photo/2018/09/11/11/47/animal-3669244_150.jpg',\n",
      "           'previewWidth': 150,\n",
      "           'tags': 'animal, kitten, cat',\n",
      "           'type': 'photo',\n",
      "           'user': 'imazite',\n",
      "           'userImageURL': 'https://cdn.pixabay.com/user/2018/05/06/10-42-53-270_250x250.jpg',\n",
      "           'user_id': 8915859,\n",
      "           'views': 73852,\n",
      "           'webformatHeight': 427,\n",
      "           'webformatURL': 'https://pixabay.com/get/gf72bc58ffdf11ea19f16af593198edd8dd58d4038cd87d3cdd52b63c22361597bb0f72d6d8d6bc2452c13e2224be2c377885ee39a0db3a607c3465fde0f6c722_640.jpg',\n",
      "           'webformatWidth': 640},\n",
      "          {'collections': 670,\n",
      "           'comments': 200,\n",
      "           'downloads': 152831,\n",
      "           'id': 2068462,\n",
      "           'imageHeight': 2771,\n",
      "           'imageSize': 1966637,\n",
      "           'imageWidth': 4156,\n",
      "           'largeImageURL': 'https://pixabay.com/get/g2332a39a42c18246cbeabbae53a8bc9141168c48a36a3d0df55b7146c9439ccc861df3221e7f570c13614a1998353204b1e4f1c96786edf28bd79435186daef0_1280.jpg',\n",
      "           'likes': 704,\n",
      "           'pageURL': 'https://pixabay.com/photos/cat-siamese-cat-fur-kitten-2068462/',\n",
      "           'previewHeight': 99,\n",
      "           'previewURL': 'https://cdn.pixabay.com/photo/2017/02/15/12/12/cat-2068462_150.jpg',\n",
      "           'previewWidth': 150,\n",
      "           'tags': 'cat, siamese cat, pet',\n",
      "           'type': 'photo',\n",
      "           'user': 'webandi',\n",
      "           'userImageURL': 'https://cdn.pixabay.com/user/2020/02/17/17-24-14-812_250x250.jpg',\n",
      "           'user_id': 1460261,\n",
      "           'views': 242365,\n",
      "           'webformatHeight': 426,\n",
      "           'webformatURL': 'https://pixabay.com/get/g58c33d3b07a45c2a4c4150db364f6fcc92a702139240a2be236d0dc65a411070b58a015f54395ebabf1d9393bcb5f399094f7f52e318091fb5b04cb07fcff949_640.jpg',\n",
      "           'webformatWidth': 640},\n",
      "          {'collections': 297,\n",
      "           'comments': 64,\n",
      "           'downloads': 37685,\n",
      "           'id': 4894153,\n",
      "           'imageHeight': 2377,\n",
      "           'imageSize': 1463186,\n",
      "           'imageWidth': 3323,\n",
      "           'largeImageURL': 'https://pixabay.com/get/g7932d1f01b17de7a004c61d31291b1002532054469f0796d7c08fe16534c543eaa1f942319f8198a7149e6567e071c7ac8b82433e7d97d0dcb368489556cbf14_1280.jpg',\n",
      "           'likes': 318,\n",
      "           'pageURL': 'https://pixabay.com/photos/cat-kitten-feline-pet-animal-4894153/',\n",
      "           'previewHeight': 107,\n",
      "           'previewURL': 'https://cdn.pixabay.com/photo/2020/03/01/21/12/cat-4894153_150.jpg',\n",
      "           'previewWidth': 150,\n",
      "           'tags': 'cat, kitten, feline',\n",
      "           'type': 'photo',\n",
      "           'user': 'MissKaiser',\n",
      "           'userImageURL': 'https://cdn.pixabay.com/user/2020/08/16/19-23-43-909_250x250.jpg',\n",
      "           'user_id': 15333183,\n",
      "           'views': 56715,\n",
      "           'webformatHeight': 458,\n",
      "           'webformatURL': 'https://pixabay.com/get/g9162ca98de3647ffc4dea6f6ae849928c2abbf468afd074cc79aace4dd81631fefce47bacd678d626e5aaf989dfff2ad5ab73856c22f82b965eae37f00d4f8c7_640.jpg',\n",
      "           'webformatWidth': 640},\n",
      "          {'collections': 266,\n",
      "           'comments': 47,\n",
      "           'downloads': 65299,\n",
      "           'id': 4558651,\n",
      "           'imageHeight': 3764,\n",
      "           'imageSize': 2691045,\n",
      "           'imageWidth': 5646,\n",
      "           'largeImageURL': 'https://pixabay.com/get/g0a716f3b2abe22e6ffec286537e08fc11be42e74c0e843988c1be7bb7478c3b42e70f37aae3903d65e1d3fb2f0e95f9508df2a487ff7b338963e3f4e28bd66b2_1280.jpg',\n",
      "           'likes': 290,\n",
      "           'pageURL': 'https://pixabay.com/photos/cat-kitten-pet-animal-mammal-fur-4558651/',\n",
      "           'previewHeight': 99,\n",
      "           'previewURL': 'https://cdn.pixabay.com/photo/2019/10/18/09/29/cat-4558651_150.jpg',\n",
      "           'previewWidth': 150,\n",
      "           'tags': 'cat, kitten, pet',\n",
      "           'type': 'photo',\n",
      "           'user': 'Leuchtturm81',\n",
      "           'userImageURL': 'https://cdn.pixabay.com/user/2019/07/02/07-09-46-504_250x250.jpg',\n",
      "           'user_id': 7214328,\n",
      "           'views': 88701,\n",
      "           'webformatHeight': 426,\n",
      "           'webformatURL': 'https://pixabay.com/get/gf8386d40a22da961674b6693344ddb198cc57aac9cf020bf402f5c7d1b25845e2ad0e26fbb325eb65e3e2b2d7ecd7e0d5966d49d98d3a635aa07e6f0d9a3fc41_640.jpg',\n",
      "           'webformatWidth': 640},\n",
      "          {'collections': 760,\n",
      "           'comments': 137,\n",
      "           'downloads': 238308,\n",
      "           'id': 529013,\n",
      "           'imageHeight': 1272,\n",
      "           'imageSize': 940596,\n",
      "           'imageWidth': 2000,\n",
      "           'largeImageURL': 'https://pixabay.com/get/g8844c856bb49b16c2a6994e1caf736195533f53c3aed41c3c195fbbdcd5baf92ba0c7f2bbee4d3648f1ee263b6971f3151cbde2fffd057c18e8a892621cd9d0d_1280.jpg',\n",
      "           'likes': 837,\n",
      "           'pageURL': 'https://pixabay.com/photos/girl-child-flowers-cat-kitten-529013/',\n",
      "           'previewHeight': 95,\n",
      "           'previewURL': 'https://cdn.pixabay.com/photo/2014/11/13/02/53/girl-529013_150.jpg',\n",
      "           'previewWidth': 150,\n",
      "           'tags': 'girl, child, flowers',\n",
      "           'type': 'photo',\n",
      "           'user': 'ThePixelman',\n",
      "           'userImageURL': 'https://cdn.pixabay.com/user/2015/01/04/04-24-16-372_250x250.jpg',\n",
      "           'user_id': 406384,\n",
      "           'views': 397338,\n",
      "           'webformatHeight': 407,\n",
      "           'webformatURL': 'https://pixabay.com/get/gcf3a4aaf4e8d341b0b32db6c9c3e90766e65c3afa3a13138d9b54d0b295117329c60757773326e96e2afe6f816e593f4_640.jpg',\n",
      "           'webformatWidth': 640},\n",
      "          {'collections': 486,\n",
      "           'comments': 80,\n",
      "           'downloads': 147536,\n",
      "           'id': 3266673,\n",
      "           'imageHeight': 3121,\n",
      "           'imageSize': 3551978,\n",
      "           'imageWidth': 4681,\n",
      "           'largeImageURL': 'https://pixabay.com/get/g252f61bdf842431033e2567db00333c552a2d7ceea7866a2c4318102a39421617bd7bcc02a9f25fc0e843d81860a52315f9db5fe33c96a3a8d8510570694e590_1280.jpg',\n",
      "           'likes': 600,\n",
      "           'pageURL': 'https://pixabay.com/photos/cat-sad-cute-small-sweet-pet-3266673/',\n",
      "           'previewHeight': 99,\n",
      "           'previewURL': 'https://cdn.pixabay.com/photo/2018/03/27/17/25/cat-3266673_150.jpg',\n",
      "           'previewWidth': 150,\n",
      "           'tags': 'cat, sad, cute',\n",
      "           'type': 'photo',\n",
      "           'user': 'Quangpraha',\n",
      "           'userImageURL': 'https://cdn.pixabay.com/user/2017/11/28/12-45-12-473_250x250.jpg',\n",
      "           'user_id': 7201644,\n",
      "           'views': 223068,\n",
      "           'webformatHeight': 426,\n",
      "           'webformatURL': 'https://pixabay.com/get/g6caca951d9c48b2ba9ced2e6f2a4b65074bd27552e02cd5c4fa2b82d2af286d84f40b1d80c425a71854fe69ccdec11bf09d86e6a8a7366ba334461035c6b4d85_640.jpg',\n",
      "           'webformatWidth': 640},\n",
      "          {'collections': 424,\n",
      "           'comments': 53,\n",
      "           'downloads': 119137,\n",
      "           'id': 1845789,\n",
      "           'imageHeight': 3465,\n",
      "           'imageSize': 3515435,\n",
      "           'imageWidth': 5197,\n",
      "           'largeImageURL': 'https://pixabay.com/get/gcfeba532f5411f0eba5634d3410264a2893a3d63433abbae2fb797f058ce1a6dc87a910f803937bc1c66a475112c34a42310f5149575ad311aa94a4317fb96e0_1280.jpg',\n",
      "           'likes': 478,\n",
      "           'pageURL': 'https://pixabay.com/photos/kitten-basket-pet-adorable-animal-1845789/',\n",
      "           'previewHeight': 99,\n",
      "           'previewURL': 'https://cdn.pixabay.com/photo/2016/11/21/14/47/kitten-1845789_150.jpg',\n",
      "           'previewWidth': 150,\n",
      "           'tags': 'kitten, basket, pet',\n",
      "           'type': 'photo',\n",
      "           'user': 'Pexels',\n",
      "           'userImageURL': 'https://cdn.pixabay.com/user/2016/03/26/22-06-36-459_250x250.jpg',\n",
      "           'user_id': 2286921,\n",
      "           'views': 172262,\n",
      "           'webformatHeight': 426,\n",
      "           'webformatURL': 'https://pixabay.com/get/g8760cb3d965db62ed8e8b8f2db74122f90d0426e5c3aa3a808751993683d9094b274513b07068870aa1fa11b66644420daa69703bc2e2fe5be886b53c7da7560_640.jpg',\n",
      "           'webformatWidth': 640},\n",
      "          {'collections': 278,\n",
      "           'comments': 26,\n",
      "           'downloads': 69787,\n",
      "           'id': 3442257,\n",
      "           'imageHeight': 3068,\n",
      "           'imageSize': 2531915,\n",
      "           'imageWidth': 4469,\n",
      "           'largeImageURL': 'https://pixabay.com/get/g1443f0c49e5ff4193b2e2bea2ea6955a9414ff196741ddd9292bf948635ad59ce14e2f37b212b21a1539da39661e06a69010a889ab33482adc28cf0338bb381b_1280.jpg',\n",
      "           'likes': 344,\n",
      "           'pageURL': 'https://pixabay.com/photos/kitten-cat-pet-feline-animal-fur-3442257/',\n",
      "           'previewHeight': 102,\n",
      "           'previewURL': 'https://cdn.pixabay.com/photo/2018/05/30/19/29/kitten-3442257_150.jpg',\n",
      "           'previewWidth': 150,\n",
      "           'tags': 'kitten, cat, pet',\n",
      "           'type': 'photo',\n",
      "           'user': 'Wilbert_Rodriguez',\n",
      "           'userImageURL': 'https://cdn.pixabay.com/user/2020/04/14/20-37-38-471_250x250.jpg',\n",
      "           'user_id': 6892903,\n",
      "           'views': 99454,\n",
      "           'webformatHeight': 439,\n",
      "           'webformatURL': 'https://pixabay.com/get/gb21c19b9c0f287cf29999fec38ef741e3a35a0c29a5686f758d761cef28afeebd1131892dc5545cdf1f8f4bd3de79179587eaa1b9ece3eaf11ea81ea4bf974f0_640.jpg',\n",
      "           'webformatWidth': 640},\n",
      "          {'collections': 604,\n",
      "           'comments': 50,\n",
      "           'downloads': 163198,\n",
      "           'id': 1046544,\n",
      "           'imageHeight': 2497,\n",
      "           'imageSize': 2806360,\n",
      "           'imageWidth': 3359,\n",
      "           'largeImageURL': 'https://pixabay.com/get/gaae22cb9fae321cac97721e21c068a4915bde6663b68b4549d8959c06eba0331b74bcd8e3be3144f80f02396f779e78e178447fb845e9ec5bdade6d84a5c9f85_1280.jpg',\n",
      "           'likes': 582,\n",
      "           'pageURL': 'https://pixabay.com/photos/cat-tabby-feline-face-cat-face-1046544/',\n",
      "           'previewHeight': 111,\n",
      "           'previewURL': 'https://cdn.pixabay.com/photo/2015/11/16/22/14/cat-1046544_150.jpg',\n",
      "           'previewWidth': 150,\n",
      "           'tags': 'cat, tabby, feline',\n",
      "           'type': 'photo',\n",
      "           'user': 'Alexas_Fotos',\n",
      "           'userImageURL': 'https://cdn.pixabay.com/user/2022/07/05/23-09-40-265_250x250.jpg',\n",
      "           'user_id': 686414,\n",
      "           'views': 276418,\n",
      "           'webformatHeight': 475,\n",
      "           'webformatURL': 'https://pixabay.com/get/gb52d40ca7752a43fc836e6266edc89fef95a0021532589e549968343aaf72f5edf91edac337487d4eb370c2c2c73a2f142a97f3b08f43adc3c2f952003984c49_640.jpg',\n",
      "           'webformatWidth': 640}],\n",
      " 'total': 9414,\n",
      " 'totalHits': 500}\n"
     ]
    }
   ],
   "source": [
    "pprint(data)"
   ],
   "metadata": {
    "collapsed": false
   }
  },
  {
   "cell_type": "code",
   "execution_count": 93,
   "outputs": [
    {
     "name": "stdout",
     "output_type": "stream",
     "text": [
      "{'collections': 670,\n",
      " 'comments': 200,\n",
      " 'downloads': 152831,\n",
      " 'id': 2068462,\n",
      " 'imageHeight': 2771,\n",
      " 'imageSize': 1966637,\n",
      " 'imageWidth': 4156,\n",
      " 'largeImageURL': 'https://pixabay.com/get/g2332a39a42c18246cbeabbae53a8bc9141168c48a36a3d0df55b7146c9439ccc861df3221e7f570c13614a1998353204b1e4f1c96786edf28bd79435186daef0_1280.jpg',\n",
      " 'likes': 704,\n",
      " 'pageURL': 'https://pixabay.com/photos/cat-siamese-cat-fur-kitten-2068462/',\n",
      " 'previewHeight': 99,\n",
      " 'previewURL': 'https://cdn.pixabay.com/photo/2017/02/15/12/12/cat-2068462_150.jpg',\n",
      " 'previewWidth': 150,\n",
      " 'tags': 'cat, siamese cat, pet',\n",
      " 'type': 'photo',\n",
      " 'user': 'webandi',\n",
      " 'userImageURL': 'https://cdn.pixabay.com/user/2020/02/17/17-24-14-812_250x250.jpg',\n",
      " 'user_id': 1460261,\n",
      " 'views': 242365,\n",
      " 'webformatHeight': 426,\n",
      " 'webformatURL': 'https://pixabay.com/get/g58c33d3b07a45c2a4c4150db364f6fcc92a702139240a2be236d0dc65a411070b58a015f54395ebabf1d9393bcb5f399094f7f52e318091fb5b04cb07fcff949_640.jpg',\n",
      " 'webformatWidth': 640}\n"
     ]
    }
   ],
   "source": [
    "import random\n",
    "\n",
    "random_hit = random.choice(data['hits'])\n",
    "pprint(random_hit)"
   ],
   "metadata": {
    "collapsed": false
   }
  },
  {
   "cell_type": "code",
   "execution_count": 94,
   "outputs": [
    {
     "name": "stdout",
     "output_type": "stream",
     "text": [
      "https://pixabay.com/get/g2332a39a42c18246cbeabbae53a8bc9141168c48a36a3d0df55b7146c9439ccc861df3221e7f570c13614a1998353204b1e4f1c96786edf28bd79435186daef0_1280.jpg\n"
     ]
    }
   ],
   "source": [
    "image_url = random_hit['largeImageURL']\n",
    "\n",
    "print(image_url)"
   ],
   "metadata": {
    "collapsed": false
   }
  },
  {
   "cell_type": "code",
   "execution_count": 96,
   "outputs": [
    {
     "name": "stdout",
     "output_type": "stream",
     "text": [
      "Requirement already satisfied: requests in c:\\users\\urist\\appdata\\local\\programs\\python\\python311\\lib\\site-packages (2.31.0)\n",
      "Requirement already satisfied: charset-normalizer<4,>=2 in c:\\users\\urist\\appdata\\local\\programs\\python\\python311\\lib\\site-packages (from requests) (3.3.2)\n",
      "Requirement already satisfied: idna<4,>=2.5 in c:\\users\\urist\\appdata\\local\\programs\\python\\python311\\lib\\site-packages (from requests) (3.6)\n",
      "Requirement already satisfied: urllib3<3,>=1.21.1 in c:\\users\\urist\\appdata\\local\\programs\\python\\python311\\lib\\site-packages (from requests) (2.2.1)\n",
      "Requirement already satisfied: certifi>=2017.4.17 in c:\\users\\urist\\appdata\\local\\programs\\python\\python311\\lib\\site-packages (from requests) (2024.2.2)\n"
     ]
    }
   ],
   "source": [
    "! pip install requests"
   ],
   "metadata": {
    "collapsed": false
   }
  },
  {
   "cell_type": "code",
   "execution_count": 101,
   "outputs": [
    {
     "ename": "JSONDecodeError",
     "evalue": "Expecting value: line 1 column 1 (char 0)",
     "output_type": "error",
     "traceback": [
      "\u001B[1;31m---------------------------------------------------------------------------\u001B[0m",
      "\u001B[1;31mJSONDecodeError\u001B[0m                           Traceback (most recent call last)",
      "File \u001B[1;32m~\\AppData\\Local\\Programs\\Python\\Python311\\Lib\\site-packages\\requests\\models.py:971\u001B[0m, in \u001B[0;36mResponse.json\u001B[1;34m(self, **kwargs)\u001B[0m\n\u001B[0;32m    970\u001B[0m \u001B[38;5;28;01mtry\u001B[39;00m:\n\u001B[1;32m--> 971\u001B[0m     \u001B[38;5;28;01mreturn\u001B[39;00m \u001B[43mcomplexjson\u001B[49m\u001B[38;5;241;43m.\u001B[39;49m\u001B[43mloads\u001B[49m\u001B[43m(\u001B[49m\u001B[38;5;28;43mself\u001B[39;49m\u001B[38;5;241;43m.\u001B[39;49m\u001B[43mtext\u001B[49m\u001B[43m,\u001B[49m\u001B[43m \u001B[49m\u001B[38;5;241;43m*\u001B[39;49m\u001B[38;5;241;43m*\u001B[39;49m\u001B[43mkwargs\u001B[49m\u001B[43m)\u001B[49m\n\u001B[0;32m    972\u001B[0m \u001B[38;5;28;01mexcept\u001B[39;00m JSONDecodeError \u001B[38;5;28;01mas\u001B[39;00m e:\n\u001B[0;32m    973\u001B[0m     \u001B[38;5;66;03m# Catch JSON-related errors and raise as requests.JSONDecodeError\u001B[39;00m\n\u001B[0;32m    974\u001B[0m     \u001B[38;5;66;03m# This aliases json.JSONDecodeError and simplejson.JSONDecodeError\u001B[39;00m\n",
      "File \u001B[1;32m~\\AppData\\Local\\Programs\\Python\\Python311\\Lib\\json\\__init__.py:346\u001B[0m, in \u001B[0;36mloads\u001B[1;34m(s, cls, object_hook, parse_float, parse_int, parse_constant, object_pairs_hook, **kw)\u001B[0m\n\u001B[0;32m    343\u001B[0m \u001B[38;5;28;01mif\u001B[39;00m (\u001B[38;5;28mcls\u001B[39m \u001B[38;5;129;01mis\u001B[39;00m \u001B[38;5;28;01mNone\u001B[39;00m \u001B[38;5;129;01mand\u001B[39;00m object_hook \u001B[38;5;129;01mis\u001B[39;00m \u001B[38;5;28;01mNone\u001B[39;00m \u001B[38;5;129;01mand\u001B[39;00m\n\u001B[0;32m    344\u001B[0m         parse_int \u001B[38;5;129;01mis\u001B[39;00m \u001B[38;5;28;01mNone\u001B[39;00m \u001B[38;5;129;01mand\u001B[39;00m parse_float \u001B[38;5;129;01mis\u001B[39;00m \u001B[38;5;28;01mNone\u001B[39;00m \u001B[38;5;129;01mand\u001B[39;00m\n\u001B[0;32m    345\u001B[0m         parse_constant \u001B[38;5;129;01mis\u001B[39;00m \u001B[38;5;28;01mNone\u001B[39;00m \u001B[38;5;129;01mand\u001B[39;00m object_pairs_hook \u001B[38;5;129;01mis\u001B[39;00m \u001B[38;5;28;01mNone\u001B[39;00m \u001B[38;5;129;01mand\u001B[39;00m \u001B[38;5;129;01mnot\u001B[39;00m kw):\n\u001B[1;32m--> 346\u001B[0m     \u001B[38;5;28;01mreturn\u001B[39;00m \u001B[43m_default_decoder\u001B[49m\u001B[38;5;241;43m.\u001B[39;49m\u001B[43mdecode\u001B[49m\u001B[43m(\u001B[49m\u001B[43ms\u001B[49m\u001B[43m)\u001B[49m\n\u001B[0;32m    347\u001B[0m \u001B[38;5;28;01mif\u001B[39;00m \u001B[38;5;28mcls\u001B[39m \u001B[38;5;129;01mis\u001B[39;00m \u001B[38;5;28;01mNone\u001B[39;00m:\n",
      "File \u001B[1;32m~\\AppData\\Local\\Programs\\Python\\Python311\\Lib\\json\\decoder.py:337\u001B[0m, in \u001B[0;36mJSONDecoder.decode\u001B[1;34m(self, s, _w)\u001B[0m\n\u001B[0;32m    333\u001B[0m \u001B[38;5;250m\u001B[39m\u001B[38;5;124;03m\"\"\"Return the Python representation of ``s`` (a ``str`` instance\u001B[39;00m\n\u001B[0;32m    334\u001B[0m \u001B[38;5;124;03mcontaining a JSON document).\u001B[39;00m\n\u001B[0;32m    335\u001B[0m \n\u001B[0;32m    336\u001B[0m \u001B[38;5;124;03m\"\"\"\u001B[39;00m\n\u001B[1;32m--> 337\u001B[0m obj, end \u001B[38;5;241m=\u001B[39m \u001B[38;5;28;43mself\u001B[39;49m\u001B[38;5;241;43m.\u001B[39;49m\u001B[43mraw_decode\u001B[49m\u001B[43m(\u001B[49m\u001B[43ms\u001B[49m\u001B[43m,\u001B[49m\u001B[43m \u001B[49m\u001B[43midx\u001B[49m\u001B[38;5;241;43m=\u001B[39;49m\u001B[43m_w\u001B[49m\u001B[43m(\u001B[49m\u001B[43ms\u001B[49m\u001B[43m,\u001B[49m\u001B[43m \u001B[49m\u001B[38;5;241;43m0\u001B[39;49m\u001B[43m)\u001B[49m\u001B[38;5;241;43m.\u001B[39;49m\u001B[43mend\u001B[49m\u001B[43m(\u001B[49m\u001B[43m)\u001B[49m\u001B[43m)\u001B[49m\n\u001B[0;32m    338\u001B[0m end \u001B[38;5;241m=\u001B[39m _w(s, end)\u001B[38;5;241m.\u001B[39mend()\n",
      "File \u001B[1;32m~\\AppData\\Local\\Programs\\Python\\Python311\\Lib\\json\\decoder.py:355\u001B[0m, in \u001B[0;36mJSONDecoder.raw_decode\u001B[1;34m(self, s, idx)\u001B[0m\n\u001B[0;32m    354\u001B[0m \u001B[38;5;28;01mexcept\u001B[39;00m \u001B[38;5;167;01mStopIteration\u001B[39;00m \u001B[38;5;28;01mas\u001B[39;00m err:\n\u001B[1;32m--> 355\u001B[0m     \u001B[38;5;28;01mraise\u001B[39;00m JSONDecodeError(\u001B[38;5;124m\"\u001B[39m\u001B[38;5;124mExpecting value\u001B[39m\u001B[38;5;124m\"\u001B[39m, s, err\u001B[38;5;241m.\u001B[39mvalue) \u001B[38;5;28;01mfrom\u001B[39;00m \u001B[38;5;28;01mNone\u001B[39;00m\n\u001B[0;32m    356\u001B[0m \u001B[38;5;28;01mreturn\u001B[39;00m obj, end\n",
      "\u001B[1;31mJSONDecodeError\u001B[0m: Expecting value: line 1 column 1 (char 0)",
      "\nDuring handling of the above exception, another exception occurred:\n",
      "\u001B[1;31mJSONDecodeError\u001B[0m                           Traceback (most recent call last)",
      "Cell \u001B[1;32mIn[101], line 5\u001B[0m\n\u001B[0;32m      3\u001B[0m url_example \u001B[38;5;241m=\u001B[39m \u001B[38;5;124m'\u001B[39m\u001B[38;5;124mhttps://supernatural-tv.top/seasons/season-10/episode-3\u001B[39m\u001B[38;5;124m'\u001B[39m\n\u001B[0;32m      4\u001B[0m response \u001B[38;5;241m=\u001B[39m requests\u001B[38;5;241m.\u001B[39mget(url_example)\n\u001B[1;32m----> 5\u001B[0m data \u001B[38;5;241m=\u001B[39m \u001B[43mresponse\u001B[49m\u001B[38;5;241;43m.\u001B[39;49m\u001B[43mjson\u001B[49m\u001B[43m(\u001B[49m\u001B[43m)\u001B[49m\n",
      "File \u001B[1;32m~\\AppData\\Local\\Programs\\Python\\Python311\\Lib\\site-packages\\requests\\models.py:975\u001B[0m, in \u001B[0;36mResponse.json\u001B[1;34m(self, **kwargs)\u001B[0m\n\u001B[0;32m    971\u001B[0m     \u001B[38;5;28;01mreturn\u001B[39;00m complexjson\u001B[38;5;241m.\u001B[39mloads(\u001B[38;5;28mself\u001B[39m\u001B[38;5;241m.\u001B[39mtext, \u001B[38;5;241m*\u001B[39m\u001B[38;5;241m*\u001B[39mkwargs)\n\u001B[0;32m    972\u001B[0m \u001B[38;5;28;01mexcept\u001B[39;00m JSONDecodeError \u001B[38;5;28;01mas\u001B[39;00m e:\n\u001B[0;32m    973\u001B[0m     \u001B[38;5;66;03m# Catch JSON-related errors and raise as requests.JSONDecodeError\u001B[39;00m\n\u001B[0;32m    974\u001B[0m     \u001B[38;5;66;03m# This aliases json.JSONDecodeError and simplejson.JSONDecodeError\u001B[39;00m\n\u001B[1;32m--> 975\u001B[0m     \u001B[38;5;28;01mraise\u001B[39;00m RequestsJSONDecodeError(e\u001B[38;5;241m.\u001B[39mmsg, e\u001B[38;5;241m.\u001B[39mdoc, e\u001B[38;5;241m.\u001B[39mpos)\n",
      "\u001B[1;31mJSONDecodeError\u001B[0m: Expecting value: line 1 column 1 (char 0)"
     ]
    }
   ],
   "source": [
    "import requests\n",
    "\n",
    "# url_example = 'https://supernatural-tv.top/seasons/season-10/episode-3'\n",
    "response = requests.get(url)\n",
    "data = response.json()"
   ],
   "metadata": {
    "collapsed": false
   }
  }
 ],
 "metadata": {
  "kernelspec": {
   "display_name": "Python 3",
   "language": "python",
   "name": "python3"
  },
  "language_info": {
   "codemirror_mode": {
    "name": "ipython",
    "version": 2
   },
   "file_extension": ".py",
   "mimetype": "text/x-python",
   "name": "python",
   "nbconvert_exporter": "python",
   "pygments_lexer": "ipython2",
   "version": "2.7.6"
  }
 },
 "nbformat": 4,
 "nbformat_minor": 0
}
