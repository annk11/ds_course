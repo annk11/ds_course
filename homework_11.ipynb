{
 "cells": [
  {
   "cell_type": "markdown",
   "source": [
    "# Задача №1\n",
    "\n",
    "Напишите функцию `find_sum_elements()`, которая принимает на вход массив nums и число target и возвращает массив, содержащий индексы двух элементов nums, сумма которых равна target.\n",
    "\n",
    "Примеры:\n",
    "- `find_sum_elements([2,7,11,15], 9) = [2, 7]`\n",
    "- `find_sum_elements([3, 2, 4], 6) = [2, 4]`\n",
    "\n",
    "Важные детали\n",
    "- Гарантируется, что такие два числа всегда в nums существуют.\n",
    "- Порядок элементов в ответе не важен.\n",
    "\n",
    "Попробуйте придумать, при помощи какой структуры данных можно решить эту задачу за один проход по массиву?"
   ],
   "metadata": {
    "collapsed": false
   }
  },
  {
   "cell_type": "code",
   "execution_count": 1,
   "outputs": [],
   "source": [
    "# Замените тело функции на своё решение\n",
    "def find_sum_elements(nums, target):\n",
    "    for i in range(len(nums)):\n",
    "        for j in range(i + 1, len(nums)):\n",
    "            if nums[i] + nums[j] == target:\n",
    "                return [i, j]"
   ],
   "metadata": {
    "collapsed": false
   }
  },
  {
   "cell_type": "markdown",
   "source": [
    "## Проверьте себя\n",
    "\n",
    "Ячейка ниже содержит тесты, при помощи которых можно проверить корретность решения. Просто выполните ячейку и она распечатает результат."
   ],
   "metadata": {
    "collapsed": false
   }
  },
  {
   "cell_type": "code",
   "execution_count": 2,
   "outputs": [
    {
     "name": "stdout",
     "output_type": "stream",
     "text": [
      "\n",
      "Количество правильно решённых тестов: 5 из 5\n",
      "Отличный результат!\n"
     ]
    }
   ],
   "source": [
    "def test_task_1():\n",
    "    tests = (\n",
    "        ([2, 11, 15, 7], 9),\n",
    "        ([3, 2, 4], 6),\n",
    "        ([0, 0, 1], 0),\n",
    "        ([3, 2, 1], 4),\n",
    "        ([1, 3, 6, 7, 9], 10),\n",
    "    )\n",
    "    num_correct = 0\n",
    "    for nums, target in tests:\n",
    "        result = find_sum_elements(nums, target)\n",
    "        if not isinstance(result, list):\n",
    "            print(f'find_sum_elements() должна возвращать массив, а не {type(result)} (nums={nums}, target={target})')\n",
    "            continue\n",
    "        if len(result) != 2:\n",
    "            print(f'find_sum_elements() должна возвращать массив из двух элементов (nums={nums}, target={target})')\n",
    "            continue\n",
    "        if result[0] == result[1]:\n",
    "            print(f'find_sum_elements() вернула два одинаковых индекса')\n",
    "            continue\n",
    "        if result[0] >= len(nums) or result[1] >= len(nums):\n",
    "            print(f'Один из индексов выходит за границы nums')\n",
    "            continue\n",
    "        if nums[result[0]] + nums[result[1]] != target:\n",
    "            print(f'Сумма элементов nums={nums} с индексами {result[0]} и {result[1]} не равна {target}')\n",
    "            continue\n",
    "        num_correct += 1\n",
    "    print()\n",
    "    print(f'Количество правильно решённых тестов: {num_correct} из {len(tests)}')\n",
    "    if num_correct == len(tests):\n",
    "        print('Отличный результат!')\n",
    "\n",
    "test_task_1()"
   ],
   "metadata": {
    "collapsed": false
   }
  },
  {
   "cell_type": "markdown",
   "source": [
    "# Задача №2\n",
    "\n",
    "Панграмма – это фраза, содержащая все буквы алфавита, например «Съешь же ещё этих мягких французских булок да выпей чаю».\n",
    "\n",
    "Напишите функцию, которая принимает на вход одну строку и проверяет, является ли она панграммой\n",
    "на русском языке.\n",
    "\n",
    "Важные детали\n",
    "- Функция должна возвращать True или False\n",
    "- Функции могут содержать строчные и заглавные буквы. Все строку можно буквы можно превратить в строчные при помощи метода .lower()\n",
    "- Используйте операции сравнения, чтобы проверить, входит ли буква в диапазон букв русского алфавита: `c >= 'а' and с <= 'я'`"
   ],
   "metadata": {
    "collapsed": false
   }
  },
  {
   "cell_type": "code",
   "execution_count": 3,
   "outputs": [
    {
     "name": "stdout",
     "output_type": "stream",
     "text": [
      "абв\n"
     ]
    }
   ],
   "source": [
    "# Пример работы с lower\n",
    "\n",
    "s = 'АБВ'\n",
    "s_lower = s.lower()\n",
    "print(s_lower)\n",
    "\n",
    "# вспомогательная функция, которая проверяет, является ли символ буквой русского языка\n",
    "def is_russian_alphabet_letter(c):\n",
    "    return len(c) == 1 and (\n",
    "        c >= 'а' and c <= 'я'\n",
    "        # буква ё может кодироваться разными способами, поэтому проверим её отдельно\n",
    "        or c == 'ё'\n",
    "    )"
   ],
   "metadata": {
    "collapsed": false
   }
  },
  {
   "cell_type": "code",
   "execution_count": 4,
   "outputs": [],
   "source": [
    "def is_pangram(s):\n",
    "    s = s.lower()\n",
    "    s_clear = sorted([i for i in s if i != ' '])\n",
    "    s_list = []\n",
    "    for i in s_clear:\n",
    "        if i not in s_list:\n",
    "            s_list.append(i)\n",
    "    if len(s_list) == 33:\n",
    "        return True\n",
    "    else:\n",
    "        return False"
   ],
   "metadata": {
    "collapsed": false
   }
  },
  {
   "cell_type": "markdown",
   "source": [
    "## Проверьте себя\n",
    "\n",
    "Ячейка ниже содержит тесты, при помощи которых можно проверить корретность решения. Просто выполните ячейку и она распечатает результат."
   ],
   "metadata": {
    "collapsed": false
   }
  },
  {
   "cell_type": "code",
   "execution_count": 5,
   "outputs": [
    {
     "name": "stdout",
     "output_type": "stream",
     "text": [
      "\n",
      "Количество правильно решённых тестов: 5 из 5\n",
      "Отличный результат!\n"
     ]
    }
   ],
   "source": [
    "def test_task_2():\n",
    "    tests = (\n",
    "        ('Съешь же ещё этих мягких французских булок да выпей чаю', True),\n",
    "        ('Широкая электрификация южных губерний даст мощный толчок подъёму сельского хозяйства', True),\n",
    "        ('В чащах юга жил бы цитрус? Да, но фальшивый экземпляр!', False),\n",
    "        ('А роза упала на лапу Азора', False),\n",
    "        ('Мои папа и мама! Я живу хорошо. Просто замечательно. У меня есть свой дом', False),\n",
    "    )\n",
    "    num_correct = 0\n",
    "    for test, correct_answer in tests:\n",
    "        result = is_pangram(test)\n",
    "        if result != correct_answer:\n",
    "            print(f'Проверьте свою функцию на строке \"{test}\"')\n",
    "            continue\n",
    "        num_correct += 1\n",
    "    print()\n",
    "    print(f'Количество правильно решённых тестов: {num_correct} из {len(tests)}')\n",
    "    if num_correct == len(tests):\n",
    "        print('Отличный результат!')\n",
    "\n",
    "test_task_2()"
   ],
   "metadata": {
    "collapsed": false
   }
  }
 ],
 "metadata": {
  "kernelspec": {
   "display_name": "Python 3",
   "language": "python",
   "name": "python3"
  },
  "language_info": {
   "codemirror_mode": {
    "name": "ipython",
    "version": 2
   },
   "file_extension": ".py",
   "mimetype": "text/x-python",
   "name": "python",
   "nbconvert_exporter": "python",
   "pygments_lexer": "ipython2",
   "version": "2.7.6"
  }
 },
 "nbformat": 4,
 "nbformat_minor": 0
}
