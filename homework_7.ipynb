{
 "cells": [
  {
   "cell_type": "code",
   "execution_count": 1,
   "metadata": {
    "collapsed": true
   },
   "outputs": [],
   "source": [
    "from math import sqrt"
   ]
  },
  {
   "cell_type": "code",
   "execution_count": 2,
   "outputs": [],
   "source": [
    "def discriminant(a, b, c):\n",
    "    \"\"\"Функция для вычисления дискриминанта\"\"\"\n",
    "    return b**2 - 4 * a * c"
   ],
   "metadata": {
    "collapsed": false
   }
  },
  {
   "cell_type": "code",
   "execution_count": 3,
   "outputs": [],
   "source": [
    "def solve(a, b, c):\n",
    "    \"\"\"Функция, которая вычисляет корни квадратного уравнения\"\"\"\n",
    "    d = discriminant(a, b, c)\n",
    "    if d < 0:\n",
    "        print('Корней нет')\n",
    "    elif d == 0:\n",
    "        x = - b / 2 / a\n",
    "        print(f'Один корень, x = {x}')\n",
    "    else:\n",
    "        x1 = (-b + sqrt(d)) / 2 / a\n",
    "        x2 = (-b - sqrt(d)) / 2 / a\n",
    "        print(f'Два корня, x1 = {x1}, x2 = {x2}')"
   ],
   "metadata": {
    "collapsed": false
   }
  },
  {
   "cell_type": "code",
   "execution_count": 4,
   "outputs": [
    {
     "name": "stdout",
     "output_type": "stream",
     "text": [
      "Один корень, x = -1.0\n"
     ]
    }
   ],
   "source": [
    "solve(1, 2, 1)"
   ],
   "metadata": {
    "collapsed": false
   }
  },
  {
   "cell_type": "code",
   "execution_count": 7,
   "outputs": [
    {
     "name": "stdout",
     "output_type": "stream",
     "text": [
      "Два корня, x1 = -1.0, x2 = -1.5\n"
     ]
    }
   ],
   "source": [
    "solve(2, 5, 3)"
   ],
   "metadata": {
    "collapsed": false
   }
  },
  {
   "cell_type": "code",
   "execution_count": 6,
   "outputs": [
    {
     "name": "stdout",
     "output_type": "stream",
     "text": [
      "Корней нет\n"
     ]
    }
   ],
   "source": [
    "solve(1, -1, 3)"
   ],
   "metadata": {
    "collapsed": false
   }
  }
 ],
 "metadata": {
  "kernelspec": {
   "display_name": "Python 3",
   "language": "python",
   "name": "python3"
  },
  "language_info": {
   "codemirror_mode": {
    "name": "ipython",
    "version": 2
   },
   "file_extension": ".py",
   "mimetype": "text/x-python",
   "name": "python",
   "nbconvert_exporter": "python",
   "pygments_lexer": "ipython2",
   "version": "2.7.6"
  }
 },
 "nbformat": 4,
 "nbformat_minor": 0
}
