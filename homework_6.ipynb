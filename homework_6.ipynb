{
 "cells": [
  {
   "cell_type": "markdown",
   "source": [
    "Задание 1.1"
   ],
   "metadata": {
    "collapsed": false
   }
  },
  {
   "cell_type": "code",
   "execution_count": null,
   "outputs": [],
   "source": [
    "numbers = list(range(5, 15))\n",
    "print(numbers)"
   ],
   "metadata": {
    "collapsed": false
   }
  },
  {
   "cell_type": "markdown",
   "source": [
    "Задание 1.2"
   ],
   "metadata": {
    "collapsed": false
   }
  },
  {
   "cell_type": "code",
   "execution_count": null,
   "outputs": [],
   "source": [
    "print(numbers[::2])"
   ],
   "metadata": {
    "collapsed": false
   }
  },
  {
   "cell_type": "markdown",
   "source": [
    "Задание 1.3"
   ],
   "metadata": {
    "collapsed": false
   }
  },
  {
   "cell_type": "code",
   "execution_count": null,
   "outputs": [],
   "source": [
    "multipled = 1\n",
    "for i in numbers:\n",
    "    multipled *= i\n",
    "print(multipled)"
   ],
   "metadata": {
    "collapsed": false
   }
  },
  {
   "cell_type": "markdown",
   "source": [
    "Задание 1.4"
   ],
   "metadata": {
    "collapsed": false
   }
  },
  {
   "cell_type": "code",
   "execution_count": null,
   "outputs": [],
   "source": [
    "sum = 1\n",
    "for i in numbers:\n",
    "    sum += i\n",
    "print(sum)"
   ],
   "metadata": {
    "collapsed": false
   }
  },
  {
   "cell_type": "markdown",
   "source": [
    "Задание 1.5"
   ],
   "metadata": {
    "collapsed": false
   }
  },
  {
   "cell_type": "code",
   "execution_count": null,
   "outputs": [],
   "source": [
    "numbers = list(range(5, 15))\n",
    "honest_number = numbers[::2]\n",
    "sorted = honest_number.sort(reverse=True)\n",
    "print(honest_number)"
   ],
   "metadata": {
    "collapsed": false
   }
  },
  {
   "cell_type": "markdown",
   "source": [
    "Задание 1.6"
   ],
   "metadata": {
    "collapsed": false
   }
  },
  {
   "cell_type": "code",
   "execution_count": null,
   "outputs": [],
   "source": [
    "for i in honest_number:\n",
    "    string_num = str(i)+' '\n",
    "print(string_num)"
   ],
   "metadata": {
    "collapsed": false
   }
  },
  {
   "cell_type": "code",
   "execution_count": null,
   "outputs": [],
   "source": [
    "string_num = ['14','13','12','11','10']"
   ],
   "metadata": {
    "collapsed": false
   }
  },
  {
   "cell_type": "markdown",
   "source": [
    "Задание 1.7"
   ],
   "metadata": {
    "collapsed": false
   }
  },
  {
   "cell_type": "code",
   "execution_count": null,
   "outputs": [],
   "source": [
    "'='.join(string_num)"
   ],
   "metadata": {
    "collapsed": false
   }
  },
  {
   "cell_type": "code",
   "execution_count": null,
   "outputs": [],
   "source": [
    "a = [1, 1, 2, 3, 5, 8, 13, 21, 34, 55, 89, -7, -10]\n",
    "[i for i in a if i < 5]"
   ],
   "metadata": {
    "collapsed": false
   }
  },
  {
   "cell_type": "code",
   "execution_count": null,
   "outputs": [],
   "source": [
    "a = [1, 1, 2, 3, 5, 8, 13, 21, 34, 55, 89, 11]\n",
    "b = [1, 2, 3, 4, 5, 6, 7, 8, 9, 10, 34, 11, 12, 13]\n",
    "\n",
    "c = [i for i in a if i in b]\n",
    "c_sort = c.sort()\n",
    "print(set(c))"
   ],
   "metadata": {
    "collapsed": false
   }
  },
  {
   "cell_type": "code",
   "execution_count": null,
   "outputs": [],
   "source": [
    "s = 'kafka python course stack flow dict list python stack course star product star product analytics flow star kafka stack flow ython list set ist fit predict dict list python ourse ython ourse star product ist fit predict analytics kafka stack flow product ist fit predict analytics star flow dict flow list python course stack flow dict list python stack course'\n",
    "words = s.split()\n",
    "print(words)\n",
    "count = 0\n",
    "min_word_count = 0\n",
    "\n",
    "for i in words:\n",
    "    if i in words:\n",
    "        count += 1\n",
    "    else:\n",
    "        pass\n",
    "\n",
    "print(count)"
   ],
   "metadata": {
    "collapsed": false
   }
  },
  {
   "cell_type": "code",
   "execution_count": null,
   "outputs": [],
   "source": [
    "text = 'kafka python course stack flow dict list python stack course star product star product analytics flow star kafka stack flow ython list set ist fit predict dict list python ourse ython ourse star product ist fit predict analytics kafka stack flow product ist fit predict analytics star flow dict flow list python course stack flow dict list python stack course'\n",
    "cnt = 0\n",
    "i=0\n",
    "\n",
    "uniques = []\n",
    "for line in text:\n",
    "    words = line.split()\n",
    "    for word in words:\n",
    "        if word not in uniques:\n",
    "            uniques.append(word)\n",
    "for word in words:\n",
    "    while i<len(uniques):\n",
    "        i+=1\n",
    "        if word in uniques:\n",
    "             cnt += 1\n",
    "print(cnt)"
   ],
   "metadata": {
    "collapsed": false
   }
  },
  {
   "cell_type": "code",
   "execution_count": null,
   "outputs": [],
   "source": [
    "names = ['igor', 'dasha', 'martin', 'vladimir', 'rishat', 'maria', 'marat', 'petr', 'dima', 'polina', 'katya', 'elena']\n",
    "\n",
    "occupations = ['smm', 'developer', 'analyst', 'president', 'analyst', 'ceo', 'customer development', 'founder', 'developer', 'ml engineer', 'product manager', 'cmo']\n",
    "\n",
    "dictionary = dict(zip(names, occupations))\n",
    "print(dictionary['maria'])"
   ],
   "metadata": {
    "collapsed": false
   }
  },
  {
   "cell_type": "code",
   "execution_count": null,
   "outputs": [],
   "source": [
    "dict1={1:10, 2:20, 3901:11, 384:13, 8489:1, 48:10}\n",
    "dict2={3:30, 4:40, 93:12, 91:41, 95:1, 841:11, 584:11}\n",
    "dict3={5:50, 6:60, 9:90, 3:13, 7:11}\n",
    "\n",
    "# Объединяем словари\n",
    "combined_dict = {**dict1, **dict2, **dict3}\n",
    "\n",
    "# Находим самое популярное значение\n",
    "popular_value = max(set(combined_dict.values()), key = combined_dict.values().count())\n",
    "\n",
    "print(len(combined_dict), popular_value, sep=',')"
   ],
   "metadata": {
    "collapsed": false
   }
  },
  {
   "cell_type": "code",
   "execution_count": null,
   "outputs": [],
   "source": [
    "from collections import Counter\n",
    "\n",
    "given_string = 'Python Star Course for beginners and experts for data science and analytics without sql with code'\n",
    "\n",
    "# Создаем словарь с количеством вхождений каждого символа\n",
    "char_count = Counter(given_string)\n",
    "\n",
    "# Находим 8 самых непопулярных букв\n",
    "least_common_chars = [char for char, count in char_count.most_common()[:-9:-1]]\n",
    "\n",
    "print(''.join(least_common_chars))"
   ],
   "metadata": {
    "collapsed": false
   }
  }
 ],
 "metadata": {
  "kernelspec": {
   "display_name": "Python 3",
   "language": "python",
   "name": "python3"
  },
  "language_info": {
   "codemirror_mode": {
    "name": "ipython",
    "version": 2
   },
   "file_extension": ".py",
   "mimetype": "text/x-python",
   "name": "python",
   "nbconvert_exporter": "python",
   "pygments_lexer": "ipython2",
   "version": "2.7.6"
  }
 },
 "nbformat": 4,
 "nbformat_minor": 0
}
