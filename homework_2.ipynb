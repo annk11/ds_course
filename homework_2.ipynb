{
 "cells": [
  {
   "cell_type": "code",
   "execution_count": 12,
   "metadata": {
    "collapsed": true
   },
   "outputs": [
    {
     "name": "stdout",
     "output_type": "stream",
     "text": [
      "x1 = 0.4384471871911697\n",
      "x2 = 4.561552812808831\n"
     ]
    }
   ],
   "source": [
    "import math\n",
    "\n",
    "a = 1\n",
    "b = -5\n",
    "c = 6\n",
    "\n",
    "D = b^2 - 4 * a * c\n",
    "\n",
    "if D > 0:\n",
    "    x1 = (-b - math.sqrt(D))/(2 * a)\n",
    "    x2 = (-b + math.sqrt(D))/(2 * a)\n",
    "    print(f'x1 = {x1}')\n",
    "    print(f'x2 = {x2}')\n",
    "elif D == 0:\n",
    "    x = (-b)/(2 * a)\n",
    "    print(f'x = {x}')\n",
    "else:\n",
    "    print('Решений нет')"
   ]
  },
  {
   "cell_type": "markdown",
   "source": [
    "new"
   ],
   "metadata": {
    "collapsed": false
   }
  }
 ],
 "metadata": {
  "kernelspec": {
   "display_name": "Python 3",
   "language": "python",
   "name": "python3"
  },
  "language_info": {
   "codemirror_mode": {
    "name": "ipython",
    "version": 2
   },
   "file_extension": ".py",
   "mimetype": "text/x-python",
   "name": "python",
   "nbconvert_exporter": "python",
   "pygments_lexer": "ipython2",
   "version": "2.7.6"
  }
 },
 "nbformat": 4,
 "nbformat_minor": 0
}
